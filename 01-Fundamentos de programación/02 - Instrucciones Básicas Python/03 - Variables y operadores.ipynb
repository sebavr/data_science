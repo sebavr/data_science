{
 "cells": [
  {
   "cell_type": "markdown",
   "metadata": {
    "id": "4FLV1yxDh9Rh"
   },
   "source": [
    "# Bienvenidos al Curso de Python!\n",
    "\n",
    "El contenido de esta Clase está orientado para aquellos que no tienen experiencia programando en Python, y tiene como objetivo principal aprender lo suficiente para automatizar tareas comunes, manipular archivos y hojas de datos de manera eficiente, y representar información gráficamente de manera sencilla. Todas estas tareas pueden ser realizadas usando programación sin necesitar convertirse en un experto del tema.\n",
    "\n",
    "Los temas y conceptos a cubrir son los siguientes:\n",
    "\\\n",
    "\\\n",
    "**Clase 1 :**\n",
    "*     Input y output\n",
    "*     Variables\n",
    "*     Operadores\n",
    " \n",
    "\n"
   ]
  },
  {
   "cell_type": "markdown",
   "metadata": {
    "id": "WerbqqedBUVI"
   },
   "source": [
    "# Input, Output y Variables"
   ]
  },
  {
   "cell_type": "markdown",
   "metadata": {
    "id": "Br0hUhaH2SGF"
   },
   "source": [
    "## Output\n",
    "\n",
    "El output de un programa es la manera de transmitir información hacia el entorno externo. Por ejemplo, puede escribir en la consola de la computadora, puede generar una imagen, reproducir un sonido, etc. En Google Colaboratory veremos el output del programa debajo de la celda donde fue ejecutado.\n",
    "\n",
    "Para poder mostrar texto, podemos utilizar el comando **print( )** poniendo lo que deseemos mostrar entre los parentesis. Más adelante veremos como generar imágenes, archivos y demás.\n",
    "\n",
    "Noten en el ejemplo que para escribir texto se debe indicar con comillas simples o dobles y para escribir números no se usan comillas.\n",
    "\n",
    "**Tip**: En la esquina superior izquierda del cuadro de texto con el código hay un botón para ejecutar el programa\n",
    "\n"
   ]
  },
  {
   "cell_type": "code",
   "execution_count": null,
   "metadata": {
    "id": "xR12q8jt22d5"
   },
   "outputs": [],
   "source": [
    "#imprimiendo numeros\n",
    "print(123)"
   ]
  },
  {
   "cell_type": "code",
   "execution_count": null,
   "metadata": {},
   "outputs": [],
   "source": [
    "#imprimiendo cadenas \n",
    "print(\"123\")\n",
    "print(\"Hola, cómo estas?\")\n",
    "print('Buen día')"
   ]
  },
  {
   "cell_type": "markdown",
   "metadata": {
    "id": "o7iXxeQFsblK"
   },
   "source": [
    "## Variables\n",
    "\n",
    "Para poder realizar tareas es necesario guardar en la memoria de la computadora los datos que necesita mi aplicación para funcionar. Por ejemplo, en este momento tu navegador web sabe cuántas pestañas hay abiertas y qué página se abrió en cada una, sabe en qué posición de la página estás y qué usuario utilizaste para entrar a Google Colab. Todos estos datos están almacenados en la memoria de la computadora y el navegador lee estos datos y los modifica cada vez que lo requiere.\n",
    "\\\n",
    "En programación, se le asigna un nombre o apodo a cada pequeño segmento de la memoria que almacena un dato o un valor. De esta forma en el programa cada vez que se usa este nombre se esta refiriendo al valor del dato almacenado en la memoria. Este es el concepto de \"variable\".\n",
    "\\\n",
    "En python esto se logra de la siguiente manera:\n",
    "\n"
   ]
  },
  {
   "cell_type": "code",
   "execution_count": null,
   "metadata": {
    "id": "dFdsoISPuvyX"
   },
   "outputs": [],
   "source": [
    "x= 5\n",
    "print(x)"
   ]
  },
  {
   "cell_type": "markdown",
   "metadata": {
    "id": "d3b-updXAmho"
   },
   "source": [
    "En estas variables podemos guardar lo que sea necesario para ejecutar el programa, por ejemplo si necesitamos guardar texto se indica con: \"(texto)\" o '(texto)'."
   ]
  },
  {
   "cell_type": "code",
   "execution_count": null,
   "metadata": {
    "id": "ZaesnOreAx4q"
   },
   "outputs": [],
   "source": [
    "x = 'Hola'\n",
    "y = \"Adios\"\n",
    "z = 123\n",
    "print(x)\n",
    "print(y)\n",
    "print(z)"
   ]
  },
  {
   "cell_type": "code",
   "execution_count": null,
   "metadata": {},
   "outputs": [],
   "source": [
    "X = 4\n",
    "print(X)"
   ]
  },
  {
   "cell_type": "code",
   "execution_count": null,
   "metadata": {},
   "outputs": [],
   "source": [
    "print=5\n",
    "print(print)"
   ]
  },
  {
   "cell_type": "markdown",
   "metadata": {
    "id": "Y642lKnYDzlK"
   },
   "source": [
    "Noten que la instrucción *print( )* permite mostrar el contenido de una variable. Cuando ponemos *print(x)* no imprime la letra *x* sino que imprime el contenido de *x*. Es por esto que para eliminar la confusión se usan comillas cuando queremos mostrar texto y no el contenido de una variable.\n",
    "\n",
    "Es importante tener en cuenta que no es necesario aclarar de antemano si las variables son textos (Strings) o números, el lenguaje lo puede identificar automáticamente\n",
    "\n",
    "**Reglas para el nombre de una variable:**\n",
    "* Debe empezar con una letra (a-z, A-Z) o un guión bajo (_)\n",
    "* Los otros caracteres pueden ser letras, numeros o guión bajo\n",
    "* Distingue mayúsculas de minúsculas\n",
    "* Existen palabras reservadas que no se pueden usar como nombre de variable porque Python las usa para otras cosas. Por ejemplo el nombre de una variable no puede ser *print*.\n",
    "\n",
    "   "
   ]
  },
  {
   "cell_type": "markdown",
   "metadata": {
    "id": "yZl-KaXPCXru"
   },
   "source": [
    "## Input\n",
    "El input de un programa es la manera de recibir información del entorno externo al programa. Esto puede ser un usuario, un archivo, otro programa, un sensor, etc. \n",
    "\n",
    "Para ingresar una variable podemos usar **input( \"Texto a mostrar:\" )**. Corran este código ustedes para que les de una pequeña casilla donde escribir, y luego el programa escribirá lo que ustedes ingresaron. \n",
    "\n"
   ]
  },
  {
   "cell_type": "code",
   "execution_count": null,
   "metadata": {
    "id": "Iuzty4svDEDy"
   },
   "outputs": [],
   "source": [
    "# Esto es un comentario!\n",
    "# Los comentarios no son ejecutados por Python\n",
    "# De esta forma el programador puede hacer una nota para sí mismo\n",
    "\n",
    "nombre = input(\"Ingrese su nombre: \")  #recordar como es un input\n",
    "print(nombre)"
   ]
  },
  {
   "cell_type": "code",
   "execution_count": null,
   "metadata": {},
   "outputs": [],
   "source": [
    "edad = int( input(\"Ingrese su edad: \") )"
   ]
  },
  {
   "cell_type": "code",
   "execution_count": null,
   "metadata": {},
   "outputs": [],
   "source": [
    "print(edad)"
   ]
  },
  {
   "cell_type": "code",
   "execution_count": null,
   "metadata": {},
   "outputs": [],
   "source": [
    "type(edad)"
   ]
  },
  {
   "cell_type": "code",
   "execution_count": null,
   "metadata": {},
   "outputs": [],
   "source": [
    "type(nombre)"
   ]
  },
  {
   "cell_type": "markdown",
   "metadata": {
    "id": "wV0Fd9xkDefP"
   },
   "source": [
    "Un detalle a tener en cuenta es que la información ingresada por el usuario usando **input( )** será interpretada como texto, no como un número. Por eso cuando queremos ingresar un número usaremos **int( )** para convertir ese texto al numero correspondiente. En la proxima clase quedará claro porqué debemos hacer esto y qué es el *tipo* de una variable."
   ]
  },
  {
   "cell_type": "markdown",
   "metadata": {
    "id": "uNa0exphDxse"
   },
   "source": [
    "# Operaciones básicas con variables\n",
    "\n",
    "\n"
   ]
  },
  {
   "cell_type": "markdown",
   "metadata": {
    "id": "ZM7lIDcRPdtk"
   },
   "source": [
    "### Operaciones de modificación\n"
   ]
  },
  {
   "cell_type": "markdown",
   "metadata": {
    "id": "6klGA82NBO0K"
   },
   "source": [
    "No sería muy útil un programa si lo único que podemos hacer es guardar en una variable y mostrarla, por lo que podemos realizar algunas operaciones basicas que nos permiten modificar el contenido:\n",
    "\n",
    "\n",
    "*   **+** : Sumar dos variables $a+b$\n",
    "*   **-**  : Restar dos variables $a-b$\n",
    "*   **\\*** : Multiplicar dos variables $a\\cdot b$\n",
    "*   **/** : Dividir una variable por la otra $\\frac{a}{b}$\n",
    "*   **\\*\\*** : Una variable elevado a la otra $a^{b}$\n",
    "*   **=** : Asignarle un valor a una variable $a \\leftarrow b$\n",
    "\n",
    "¿Cual será la salida del siguiente programa?"
   ]
  },
  {
   "cell_type": "code",
   "execution_count": null,
   "metadata": {
    "id": "LrkSFD2zFKo9"
   },
   "outputs": [],
   "source": [
    "x = 3\n",
    "y = -2\n",
    "y = x*y\n",
    "z = x**2\n",
    "print(y)\n",
    "print(z)\n",
    "print(x)"
   ]
  },
  {
   "cell_type": "markdown",
   "metadata": {
    "id": "sHe-S2KcF_hT"
   },
   "source": [
    "Python nos permite ahorrar código combinando el operando **=** con alguno de los anteriormente vistos:\n",
    "\n",
    "\n",
    "*   ***=**  : Multiplica la variable $a \\leftarrow a\\cdot b$ \n",
    "*   **/=** : Divide la variable  $a \\leftarrow \\frac{a}{b}$ \n",
    "*   **+=** : Suma a la varaible  $a \\leftarrow a+ b$ \n",
    "*   **-=** : Resta a la variable $a \\leftarrow a- b$\n",
    "\n",
    "¿Cual será la salida del siguiente codigo?"
   ]
  },
  {
   "cell_type": "code",
   "execution_count": null,
   "metadata": {
    "id": "ndLR4DOcHIOb"
   },
   "outputs": [],
   "source": [
    "x = 17\n",
    "x += 3 #x = x+3\n",
    "x /= 10 #x= x/10\n",
    "print(x)"
   ]
  },
  {
   "cell_type": "markdown",
   "metadata": {
    "id": "Taq1M60JCWcf"
   },
   "source": [
    "#### Mini-Desafio_1 \n",
    "\n",
    "Diseñar un programa en el cual el usuario ingrese tres números, uno a la vez, y se muestre a la salida el promedio de los tres números."
   ]
  },
  {
   "cell_type": "code",
   "execution_count": null,
   "metadata": {
    "id": "CTYAThUpChMY"
   },
   "outputs": [],
   "source": [
    "#Crear los 3 inputs\n",
    "\n",
    "\n",
    "#calcular el promedio de los números recibidos\n",
    "\n",
    "\n",
    "#mostrar el resultado"
   ]
  },
  {
   "cell_type": "markdown",
   "metadata": {},
   "source": [
    "### Concatenación (combinando cadenas)"
   ]
  },
  {
   "cell_type": "code",
   "execution_count": null,
   "metadata": {},
   "outputs": [],
   "source": [
    "first_name=\"Albert\"\n",
    "last_name=\"Einstein\"\n",
    "full_name=first_name+\" \"+last_name \n",
    "print(full_name) "
   ]
  },
  {
   "cell_type": "markdown",
   "metadata": {
    "id": "YVx-ov14IQjN"
   },
   "source": [
    "### Operador módulo\n"
   ]
  },
  {
   "cell_type": "markdown",
   "metadata": {
    "id": "aP2Qe3ACCMOg"
   },
   "source": [
    "El operador módulo se utiliza con el símbolo **%**, y permite calcular el resto de un numero en la división por otro. Por ejemplo:\n",
    "\n",
    "*   $5$ % $3$ $= 2$\n",
    "*   $17$ % $10$ $= 7$\n",
    "*   $9$ % $6$ $= 3$\n",
    "*   $15$ % $5$ $= 0$\n",
    "\n",
    "Podríamos por ejemplo preguntar si el resto de un numero **x** en la division por **y** es igual a 0 y así saber si **x** es multiplo de **y**:"
   ]
  },
  {
   "cell_type": "code",
   "execution_count": null,
   "metadata": {
    "id": "y4189YO2KCI4"
   },
   "outputs": [],
   "source": [
    "x = 27\n",
    "y = 9\n",
    "z=x%y\n",
    "print(z)\n",
    "print( x % y == 0 )"
   ]
  },
  {
   "cell_type": "markdown",
   "metadata": {
    "id": "78iBTQVNISi7"
   },
   "source": [
    "### Operaciones de comparación\n"
   ]
  },
  {
   "cell_type": "markdown",
   "metadata": {
    "id": "Z9TrV5p6BzbZ"
   },
   "source": [
    "Existen operaciones donde se comparan las propiedades de una variable.\n",
    "*   **<** : Menor que $a < b$\n",
    "*   **>** : Mayor que $a > b$\n",
    "*   **<=** : Menor o igual que $a \\leq b$\n",
    "*   **>=** : Mayor o igual que $a \\geq b$\n",
    "*   **==** : Es igual $a = b$\n",
    "*   **!=** : Es distinto $a \\neq b$\n",
    "\n",
    "Al comprarar dos números se obtiene True o False (Verdadero o Falso) según si se cumple la condición:"
   ]
  },
  {
   "cell_type": "code",
   "execution_count": null,
   "metadata": {
    "id": "xlYwcqQrOy5I"
   },
   "outputs": [],
   "source": [
    "x = 4\n",
    "print(x >= 4)\n",
    "print(x < 3)"
   ]
  },
  {
   "cell_type": "code",
   "execution_count": null,
   "metadata": {
    "id": "cVMrA726NSf9"
   },
   "outputs": [],
   "source": [
    "x = int( input() )\n",
    "x = 2*x\n",
    "print( x%2 == 0 )"
   ]
  },
  {
   "cell_type": "markdown",
   "metadata": {
    "id": "julg_kMLTzCT"
   },
   "source": [
    "También podemos comparar muchas condiciones utilizando:\n",
    "*  **and**: Si se cumplen las dos condiciones $a \\land b$\n",
    "*  **or**: Si se cumple alguna de las condiciones $ a \\lor b$\n",
    "*  **not**: Si no se cumple esa condición $ \\overline{a} $\n",
    "\n",
    "Veamos un ejemplo:"
   ]
  },
  {
   "cell_type": "code",
   "execution_count": null,
   "metadata": {
    "id": "uGxeHWppUKLP"
   },
   "outputs": [],
   "source": [
    "x = 4\n",
    "y = x > 5 and x < 7\n",
    "z = x > 5 or x < 7\n",
    "k = not x > 5\n",
    "print(y)\n",
    "print(z)\n",
    "print(k)"
   ]
  },
  {
   "cell_type": "markdown",
   "metadata": {
    "id": "2cJd7NrKV9dK"
   },
   "source": [
    "Estas condiciones pueden agruparse con ( condicion1 ) **and/or** ( condicion2 ), esto permite chequar condiciones complejas:"
   ]
  },
  {
   "cell_type": "code",
   "execution_count": null,
   "metadata": {
    "id": "4LYKsyiXLAWW"
   },
   "outputs": [],
   "source": [
    "x = 10\n",
    "y = 5\n",
    "z = (y > x and 15 > x) or (y < x and 15 > x)\n",
    "print(z)"
   ]
  },
  {
   "cell_type": "markdown",
   "metadata": {},
   "source": [
    "Para otras operaciones matemáticas más complejas"
   ]
  },
  {
   "cell_type": "code",
   "execution_count": null,
   "metadata": {
    "id": "Mu1GbWGC-IW9"
   },
   "outputs": [],
   "source": [
    "import math\n",
    "\n",
    "print(math.log(8))\n",
    "print(math.sqrt(8))"
   ]
  },
  {
   "cell_type": "code",
   "execution_count": null,
   "metadata": {},
   "outputs": [],
   "source": []
  }
 ],
 "metadata": {
  "colab": {
   "collapsed_sections": [],
   "name": "Clase 1 - Curso Python.ipynb",
   "provenance": [],
   "toc_visible": true
  },
  "kernelspec": {
   "display_name": "Python 3",
   "language": "python",
   "name": "python3"
  },
  "language_info": {
   "codemirror_mode": {
    "name": "ipython",
    "version": 3
   },
   "file_extension": ".py",
   "mimetype": "text/x-python",
   "name": "python",
   "nbconvert_exporter": "python",
   "pygments_lexer": "ipython3",
   "version": "3.8.8"
  }
 },
 "nbformat": 4,
 "nbformat_minor": 4
}
