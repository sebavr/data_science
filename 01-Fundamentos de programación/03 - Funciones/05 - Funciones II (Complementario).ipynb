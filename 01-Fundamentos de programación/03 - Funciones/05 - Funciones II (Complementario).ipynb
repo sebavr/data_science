{
 "cells": [
  {
   "cell_type": "markdown",
   "metadata": {},
   "source": [
    "<h2 align=\"center\">Clase 03 </h2>    "
   ]
  },
  {
   "cell_type": "markdown",
   "metadata": {},
   "source": [
    "## Funciones"
   ]
  },
  {
   "cell_type": "markdown",
   "metadata": {},
   "source": [
    "***Función:*** Fragmento de código con un nombre asociado que realiza una serie de tareas y devuelve un valor. \n",
    "\n",
    "\n",
    "***Procedimientos:*** Fragmento de código que tienen un nombre asociado y no devuelven valores (scripts). \n",
    "\n",
    "\n",
    "- En *Python* no existen los procedimientos, ya que cuando el programador no especifica un valor de retorno la función devuelve el valor `None` (nada), equivalente al null de Java.\n",
    "\n",
    "\n",
    "- Además de ayudarnos a programar y depurar dividiendo el programa en partes las funciones también permiten reutilizar código.\n",
    "\n",
    "\n",
    "- En *Python* las funciones se declaran de la siguiente forma:"
   ]
  },
  {
   "cell_type": "raw",
   "metadata": {},
   "source": [
    "def mi_funcion(param1, param2):\n",
    "    print param1\n",
    "    print param2"
   ]
  },
  {
   "cell_type": "markdown",
   "metadata": {},
   "source": [
    "- También podemos encontrarnos con una cadena de texto como primera línea del cuerpo de la función. \n",
    "\n",
    "\n",
    "- Estas cadenas se conocen con el nombre de `docstring` (cadena de documentación) y sirven, como su nombre indica, a modo de documentación de la función.\n",
    "\n",
    "\n",
    "Una función puede no tener parámetros:"
   ]
  },
  {
   "cell_type": "code",
   "execution_count": null,
   "metadata": {},
   "outputs": [],
   "source": [
    "def fbienvenida():\n",
    "    print(\"Hola Mundo\")"
   ]
  },
  {
   "cell_type": "code",
   "execution_count": null,
   "metadata": {},
   "outputs": [],
   "source": [
    "fbienvenida()"
   ]
  },
  {
   "cell_type": "markdown",
   "metadata": {},
   "source": [
    "O tener uno, dos, o más parámetros..."
   ]
  },
  {
   "cell_type": "code",
   "execution_count": null,
   "metadata": {},
   "outputs": [],
   "source": [
    "def mi_funcion1(param1, param2):\n",
    "    \"\"\"Esta función también imprime únicamente los valores de los parámetros\n",
    "    requiere de dos parámetros\n",
    "    Inputs:\n",
    "    param1: puede ser cualquiera\n",
    "    param2: también\n",
    "    \n",
    "    Outputs:\n",
    "    \n",
    "    \"\"\"\n",
    "    print('{0} {1}'.format(param1,param2))\n",
    "    "
   ]
  },
  {
   "cell_type": "code",
   "execution_count": null,
   "metadata": {},
   "outputs": [],
   "source": [
    "mi_funcion1?"
   ]
  },
  {
   "cell_type": "markdown",
   "metadata": {},
   "source": [
    "Para llamar a la función (ejecutar su código) se escribiría:"
   ]
  },
  {
   "cell_type": "code",
   "execution_count": null,
   "metadata": {},
   "outputs": [],
   "source": [
    "mi_funcion1(1,2)"
   ]
  },
  {
   "cell_type": "markdown",
   "metadata": {},
   "source": [
    "También es posible modificar el orden de los parámetros si indicamos el nombre del parámetro al que asociar el valor a la hora de llamar a la función:"
   ]
  },
  {
   "cell_type": "code",
   "execution_count": null,
   "metadata": {},
   "outputs": [],
   "source": [
    "mi_funcion1(param2 = \"hola\", param1 = \"mundo\")"
   ]
  },
  {
   "cell_type": "code",
   "execution_count": null,
   "metadata": {},
   "outputs": [],
   "source": [
    "def mi_funcion3(nombre, apellido):\n",
    "    nombre_completo = nombre, apellido\n",
    "    print (nombre_completo)"
   ]
  },
  {
   "cell_type": "code",
   "execution_count": null,
   "metadata": {},
   "outputs": [],
   "source": [
    "mi_funcion3('Carlos', 'Alvarez')"
   ]
  },
  {
   "cell_type": "code",
   "execution_count": null,
   "metadata": {},
   "outputs": [],
   "source": [
    "def saludar(nombre, mensaje='Hola'):\n",
    "    print (mensaje, nombre)"
   ]
  },
  {
   "cell_type": "code",
   "execution_count": null,
   "metadata": {},
   "outputs": [],
   "source": [
    "\n",
    "saludar('Pepito Perez')"
   ]
  },
  {
   "cell_type": "markdown",
   "metadata": {},
   "source": [
    "## Funciones Recursivas"
   ]
  },
  {
   "cell_type": "markdown",
   "metadata": {},
   "source": [
    "- La Recursión es asociada al concepto de $infinito$.\n",
    "\n",
    "\n",
    "- El adjetivo \"*recursivo*\" se origina del verbo latino \"*recurrere*\", que significa \"*volver atrás*\". Y esto es lo que una definición recursiva o una función recursiva hace: Es \"*volver a funcionar*\" o \"*volver a sí mismo*\". \n",
    "\n",
    "\n",
    "El factorial es un ejemplo de recursividad:"
   ]
  },
  {
   "cell_type": "raw",
   "metadata": {},
   "source": [
    "n! = n * (n-1)!, if n > 1 and f(1) = 1"
   ]
  },
  {
   "cell_type": "markdown",
   "metadata": {},
   "source": [
    "### Definición de Funciones Recursivas"
   ]
  },
  {
   "cell_type": "markdown",
   "metadata": {},
   "source": [
    "- La recursividad es un método de programación o codificación de un problema, en el que una función se llama a sí misma una o más veces en su cuerpo. \n",
    "\n",
    "\n",
    "- Normalmente, está devolviendo el valor devuelto de esta llamada de función. \n",
    "\n",
    "\n",
    "- Si una definición de función satisface la condición de recursión, llamamos a esta función una *función recursiva*.\n"
   ]
  },
  {
   "cell_type": "markdown",
   "metadata": {},
   "source": [
    "### Condición de Finalización"
   ]
  },
  {
   "cell_type": "markdown",
   "metadata": {},
   "source": [
    "- Una función recursiva tiene que cumplir una condición importante para ser utilizada en un programa: *tiene que terminar*.\n",
    "\n",
    "\n",
    "- Una función recursiva termina, si con cada llamada recursiva la solución del problema es reducida y se mueve hacia un caso base. \n",
    "\n",
    "\n",
    "- Un caso base es un caso, donde el problema se puede resolver sin más recursividad. \n",
    "\n",
    "\n",
    "- Una recursividad puede terminar en un bucle infinito, si el caso base no se cumple en las llamadas.\n",
    "\n",
    "\n",
    "***Ejemplo:***"
   ]
  },
  {
   "cell_type": "raw",
   "metadata": {},
   "source": [
    "4! = 4 * 3!\n",
    "3! = 3 * 2!\n",
    "2! = 2 * 1 "
   ]
  },
  {
   "cell_type": "markdown",
   "metadata": {},
   "source": [
    "Reemplazando los valores calculados dados resulta la siguiente expresión:"
   ]
  },
  {
   "cell_type": "raw",
   "metadata": {},
   "source": [
    "4! = 4 * 3 * 2 * 1"
   ]
  },
  {
   "cell_type": "markdown",
   "metadata": {},
   "source": [
    "### Funciones Recursivas en Python"
   ]
  },
  {
   "cell_type": "markdown",
   "metadata": {},
   "source": [
    "Una primero implementación del algoritmo del factorial de forma iterativa:"
   ]
  },
  {
   "cell_type": "code",
   "execution_count": 4,
   "metadata": {},
   "outputs": [],
   "source": [
    "def factorial_iterativo(n):\n",
    "    resultado = 1\n",
    "    for i in range(2,n+1):\n",
    "        resultado *= i\n",
    "    return resultado"
   ]
  },
  {
   "cell_type": "code",
   "execution_count": 6,
   "metadata": {},
   "outputs": [],
   "source": [
    "def factorial(n):\n",
    "    if n == 1:\n",
    "        return 1\n",
    "    else:\n",
    "        return n * factorial(n-1)"
   ]
  },
  {
   "cell_type": "code",
   "execution_count": 7,
   "metadata": {},
   "outputs": [
    {
     "data": {
      "text/plain": [
       "24"
      ]
     },
     "execution_count": 7,
     "metadata": {},
     "output_type": "execute_result"
    }
   ],
   "source": [
    "factorial(4)"
   ]
  },
  {
   "cell_type": "code",
   "execution_count": 10,
   "metadata": {},
   "outputs": [
    {
     "name": "stdout",
     "output_type": "stream",
     "text": [
      "intermediate result for  2  * factorial( 1 ):  2\n",
      "intermediate result for  3  * factorial( 2 ):  6\n",
      "intermediate result for  4  * factorial( 3 ):  24\n",
      "intermediate result for  5  * factorial( 4 ):  120\n",
      "120\n"
     ]
    }
   ],
   "source": [
    "def factorial(n):\n",
    "#    print(\"factorial has been called with n = \" + str(n))\n",
    "    if n == 1:\n",
    "        return 1\n",
    "    else:\n",
    "        res = n * factorial(n-1)\n",
    "        print (\"intermediate result for \", n, \" * factorial(\" ,n-1, \"): \",res)\n",
    "    return res\n",
    "\n",
    "print(factorial(5))"
   ]
  },
  {
   "cell_type": "markdown",
   "metadata": {},
   "source": [
    "- Es una práctica común extender la función factorial para $0$ como argumento. \n",
    "\n",
    "\n",
    "- Tiene sentido definir $0!$ Para ser $1$, porque hay exactamente una permutación de objetos cero, es decir, si nada es permutar, \"*todo*\" se deja en su lugar. \n",
    "\n",
    "\n",
    "- Otra razón es que el número de formas de elegir $n$ elementos entre un conjunto de $n$ se calcula como $\\frac{n!}{n! \\times 0!}$.\n",
    "\n",
    "\n",
    "- Todo lo que tenemos que hacer para implementar esto es cambiar la condición de la instrucción `if`:"
   ]
  },
  {
   "cell_type": "markdown",
   "metadata": {},
   "source": [
    "### COMENTARIOS FINALES IMPORTANTES!!!"
   ]
  },
  {
   "cell_type": "markdown",
   "metadata": {},
   "source": [
    "- Aunque la recursión se presenta como una solución muy eficiente, lamentablemente (o quizás no...) en *Python* solo lo es para una cantidad de recursiones relativamente pequeña (del órden de 1000). \n",
    "\n",
    "\n",
    "- En otros lenguajes, la recursión no presenta esta restricción (peligroso!).\n",
    "\n",
    "\n",
    "- Cuando tenga la necesidad de realizar este tipo de operaciones, lo más recomendable es regresar a la implementación iterativa.\n",
    "\n",
    "\n",
    "- Para una mayor información al respecto, los invito a visitar [este Blog](http://blog.moertel.com/posts/2013-05-11-recursive-to-iterative.html \"Recursive to iterative\")"
   ]
  },
  {
   "cell_type": "markdown",
   "metadata": {},
   "source": [
    "### Procesando Secuencias\n",
    "En esta sección, veremos algunas herramientas útiles, que quizás le resulten familiares a partir de algún lenguaje de programación funcional como * lisp * o * haskell *. Estas funciones se basan en funciones que son objetos de primera clase en Python, es decir, puede\n",
    "\n",
    "* pasar una función como parámetro a otra función\n",
    "* devolver una función como valor de retorno de alguna función\n",
    "* almacenar una función en una estructura de datos o una variable\n",
    "\n",
    "Hablaremos de las funciones `map`,` filter` y `reduce`. También cubriremos cómo crear funciones sin nombre usando las expresiones * lambda *."
   ]
  },
  {
   "cell_type": "markdown",
   "metadata": {},
   "source": [
    "#### Funciones Map y lambda\n",
    "La función `map` obtiene una lista y una función como parámetros, y devuelve una nueva lista cuya\n",
    "Los elementos son elementos de la lista original transformados por la función de parámetro. Para que esto funcione, la función de parámetro debe introducir exactamente un valor y devolver un valor de salida. Un ejemplo aclarará este concepto:"
   ]
  },
  {
   "cell_type": "code",
   "execution_count": 12,
   "metadata": {},
   "outputs": [
    {
     "name": "stdout",
     "output_type": "stream",
     "text": [
      "<map object at 0x7fdf3f969a00>\n"
     ]
    }
   ],
   "source": [
    "def double(x):\n",
    "    return 2*x\n",
    "L=[12,4,-1]\n",
    "print(map(double, L))\n",
    "#print(map(lambda x: x*2, L))\n",
    "\n",
    "#print(double(L[0]))"
   ]
  },
  {
   "cell_type": "markdown",
   "metadata": {},
   "source": [
    "La función de mapa devuelve un objeto de mapa por razones de eficiencia. Sin embargo, dado que solo queremos imprimir el contenido, primero lo convertimos a una lista y luego lo imprimimos:"
   ]
  },
  {
   "cell_type": "code",
   "execution_count": 13,
   "metadata": {},
   "outputs": [
    {
     "name": "stdout",
     "output_type": "stream",
     "text": [
      "[24, 8, -2]\n"
     ]
    }
   ],
   "source": [
    "print(list(map(double,L)))"
   ]
  },
  {
   "cell_type": "markdown",
   "metadata": {},
   "source": [
    "Cuando uno lee datos numéricos de un archivo o de Internet, los números suelen estar en forma de cadena. Antes de que puedan usarse en cálculos, primero deben convertirse en ints o floats.\n",
    "Un ejemplo simple mostrará esto."
   ]
  },
  {
   "cell_type": "code",
   "execution_count": 24,
   "metadata": {},
   "outputs": [
    {
     "name": "stdout",
     "output_type": "stream",
     "text": [
      "[12, 43, 64, 6]\n"
     ]
    }
   ],
   "source": [
    "s = \"12 43 64 6\"\n",
    "L=s.split()        # The split method of the string class, breaks the string at whitespaces\n",
    "                   # to a list of strings.\n",
    "#print(L)\n",
    "print(list(map(int, L)))  # The int function converts a string to an integer"
   ]
  },
  {
   "cell_type": "markdown",
   "metadata": {},
   "source": [
    "A veces se siente innecesario escribir una función si solo la va a usar en una llamada a la función `map`. Por ejemplo, la función:"
   ]
  },
  {
   "cell_type": "code",
   "execution_count": null,
   "metadata": {},
   "outputs": [],
   "source": [
    "def add_double_and_square(x):\n",
    "    return 2*x+x**2 "
   ]
  },
  {
   "cell_type": "markdown",
   "metadata": {},
   "source": [
    "No es probable que lo necesite en otra parte de su programa. La solución es usar una * expresión * llamada * lambda * para definir una función sin nombre. Debido a que es una expresión, podemos ponerla, por ejemplo, en una lista de argumentos de una llamada a función. La expresión lambda tiene la forma `lambda param1, param2, ...: expresión`, donde después de la palabra clave lambda se enumeran los parámetros de la función, y después de los dos puntos está la expresión que usa los parámetros para calcular el valor de retorno de la función. función. Reemplacemos la función anterior `add_double_and_square` con una función lambda y aplíquela a una lista usando la función` map`."
   ]
  },
  {
   "cell_type": "code",
   "execution_count": null,
   "metadata": {},
   "outputs": [],
   "source": [
    "L=[2,3,5]\n",
    "print(list(map(lambda x : 2*x+x**2, L)))"
   ]
  },
  {
   "cell_type": "markdown",
   "metadata": {},
   "source": [
    "#### <div class=\"alert alert-info\">Mini-desafío (transform)</div>\n",
    "\n",
    "Escribe una función \"transform\" que obtenga dos cadenas como parámetros y devuelva una lista de números enteros. La función debe dividir las cadenas en palabras y convertir estas palabras en números enteros. Esto debería dar dos listas de números enteros. Entonces la función debería devolver una lista cuyos elementos son la multiplicación de dos enteros en las respectivas posiciones en las listas.\n",
    "Por ejemplo\n",
    "`transform (\" 1 5 3 \",\" 2 6 -1 \")`\n",
    "debería devolver la lista de enteros\n",
    "`[2, 30, -3]`.\n",
    "\n",
    "** Tienes ** que usar las funciones / métodos `split`,` map` y `zip`. Puede suponer que las dos cadenas de entrada tienen el formato correcto.\n",
    "<hr/>"
   ]
  },
  {
   "cell_type": "code",
   "execution_count": null,
   "metadata": {},
   "outputs": [],
   "source": [
    "def transform (string1, string2):\n",
    "    \n",
    "    return\n",
    "\n",
    "\n",
    "transform(\"1 5 3\", \"2 6 -1\")"
   ]
  },
  {
   "cell_type": "markdown",
   "metadata": {},
   "source": [
    "#### Función Filter \n"
   ]
  },
  {
   "cell_type": "markdown",
   "metadata": {},
   "source": [
    "La función `filter` toma una función y una lista como parámetros. Pero a diferencia de la construcción del mapa, ahora la función de parámetro debe tomar exactamente un parámetro y devolver un valor de verdad (Verdadero o Falso). La función `filter` luego crea una nueva lista con solo aquellos elementos de la lista original para los cuales la función de parámetro devuelve True. Los elementos para los que la función de parámetro devuelve False se filtran. Un ejemplo demostrará la función `filter`:"
   ]
  },
  {
   "cell_type": "code",
   "execution_count": null,
   "metadata": {
    "ExecuteTime": {
     "end_time": "2019-06-18T08:51:04.876219Z",
     "start_time": "2019-06-18T08:51:04.868956Z"
    }
   },
   "outputs": [],
   "source": [
    "def is_odd(x):\n",
    "    \"\"\"Returns True if x is odd and False if x is even\"\"\"\n",
    "    return x % 2 == 1         # The % operator returns the remainder of integer division\n",
    "L=[1, 4, 5, 9, 10]\n",
    "print(list(filter(is_odd, L)))"
   ]
  },
  {
   "cell_type": "markdown",
   "metadata": {},
   "source": [
    "Se filtraron los elementos pares de la lista.\n",
    "\n",
    "Tenga en cuenta que la función `filter` rara vez se usa en Python moderno, ya que las listas por comprensión pueden hacer lo mismo y al mismo tiempo hacer lo que queramos hacer con los valores filtrados."
   ]
  },
  {
   "cell_type": "code",
   "execution_count": null,
   "metadata": {
    "ExecuteTime": {
     "end_time": "2019-06-18T08:54:12.503567Z",
     "start_time": "2019-06-18T08:54:12.496414Z"
    }
   },
   "outputs": [],
   "source": [
    "[l**2 for l in L if is_odd(l)] # squares of odd values"
   ]
  },
  {
   "cell_type": "markdown",
   "metadata": {},
   "source": [
    "Dicho esto, `filter` es una función útil para conocer."
   ]
  },
  {
   "cell_type": "markdown",
   "metadata": {},
   "source": [
    "#### <div class=\"alert alert-info\">Mini-desafío (positive list)</div>\n",
    "\n",
    "Escribe una función \"lista_positiva\" que obtenga una lista de números como parámetro y devuelva una lista con los números negativos y el cero filtrado usando la función \"filtro\".\n",
    "\n",
    "La llamada de función `lista_positiva ([2, -2,0,1, -7])` debería devolver la lista `[2,1]`. Pruebe su función en la función `principal`.\n",
    "<hr/>"
   ]
  },
  {
   "cell_type": "code",
   "execution_count": null,
   "metadata": {},
   "outputs": [],
   "source": []
  },
  {
   "cell_type": "markdown",
   "metadata": {},
   "source": [
    "#### Función de Reduce\n",
    "La función `sum` que devuelve la suma de una lista numérica, puede pensarse para reducir una lista a un solo elemento. Hace esta reducción aplicando repetidamente el operador `+` hasta que se consuman todos los elementos de la lista. Por ejemplo, la lista `[1,2,3,4]` se reduce mediante la expresión `(((0 + 1) +2) +3) + 4` de aplicaciones repetidas del operador` + `. Podríamos implementar esto con la siguiente función:"
   ]
  },
  {
   "cell_type": "code",
   "execution_count": null,
   "metadata": {},
   "outputs": [],
   "source": [
    "def sumreduce(L):\n",
    "    s=0\n",
    "    for x in L:\n",
    "        s = s+x\n",
    "    return s"
   ]
  },
  {
   "cell_type": "markdown",
   "metadata": {},
   "source": [
    "Debido a que este es un patrón común, la función \"reducir\" es una inclusión común en los lenguajes de programación funcionales. En Python, `reduce` está incluido en el modlue de` functools`. Le da el operador que desea usar como parámetro para reducir (adición en el ejemplo anterior). También puede dar un valor inicial del cálculo (el valor inicial 0 se usó arriba).\n",
    "\n",
    "Si no se utiliza un valor inicial, el primer elemento del iterable se utiliza como valor inicial.\n",
    "\n",
    "Ahora podemos deshacernos de la función separada `sumreduce` usando la función reduce:"
   ]
  },
  {
   "cell_type": "code",
   "execution_count": null,
   "metadata": {
    "ExecuteTime": {
     "end_time": "2019-06-14T10:34:47.938617Z",
     "start_time": "2019-06-14T10:34:47.918796Z"
    }
   },
   "outputs": [],
   "source": [
    "L=[1,2,3,4]\n",
    "from functools import reduce   # import the reduce function from the functools module\n",
    "reduce(lambda x,y:x+y, L, 0)"
   ]
  },
  {
   "cell_type": "markdown",
   "metadata": {},
   "source": [
    "Si quisiéramos obtener un producto de todos los números en una secuencia, usaríamos"
   ]
  },
  {
   "cell_type": "code",
   "execution_count": null,
   "metadata": {
    "ExecuteTime": {
     "end_time": "2019-06-14T10:34:50.226139Z",
     "start_time": "2019-06-14T10:34:50.220525Z"
    }
   },
   "outputs": [],
   "source": [
    "reduce(lambda x,y:x*y, L, 1)"
   ]
  },
  {
   "cell_type": "markdown",
   "metadata": {},
   "source": [
    "Esto corresponde a la secuencia `(((1 * 1) * 2) * 3) * 4` de aplicación del operador` * `."
   ]
  },
  {
   "cell_type": "markdown",
   "metadata": {},
   "source": [
    "<div class=\"alert alert-warning\">Tenga en cuenta que el uso del valor inicial es necesario, porque también queremos poder reducir listas de longitud 0. Si no se especifica ningún valor inicial cuando se ejecuta en una lista vacía, <code>reduce</code> planteará una excepción.</div>"
   ]
  },
  {
   "cell_type": "markdown",
   "metadata": {
    "id": "13AcDcKZWX0b"
   },
   "source": [
    "# Ejercitación integradora $\\newcommand{\\dif}{\\bigstar}$$\\newcommand{\\facil}{\\color{\\green}{\\dif}}$ $\\newcommand{\\pieceofcake}{\\color{\\cyan}{\\dif}}$$\\newcommand{\\medio}{\\color{\\yellow}{\\dif\\dif}}$$\\newcommand{\\media}{\\medio}$$\\newcommand{\\normal}{\\medio}$  $\\newcommand{\\dificil}{\\color{\\orange}{\\dif\\dif\\dif}}$ $\\newcommand{\\imposible}{\\color{\\red}{\\dif\\dif\\dif\\dif}}$\n",
    "$\\newcommand{\\tarc}{\\large\\frown}$\n",
    "$\\newcommand{\\arc}[1]{\\stackrel{\\tarc}{#1}}$\n",
    "<head>\n",
    "<style type=\"text/css\">\n",
    "  .img{ \n",
    "    display: block;\n",
    "    margin-left:auto;\n",
    "    margin-right:auto;\n",
    "  }\n",
    "  </style>\n",
    "  </head>"
   ]
  },
  {
   "cell_type": "markdown",
   "metadata": {
    "id": "ZJ8oR4DW3z4A"
   },
   "source": [
    "###$\\facil$   Cálculo de promedio \n",
    "Cálcular la nota de un alumno es una tarea cotidiana de un profesor. Esta tarea suele realizarse a mano o en excel muchas veces. En esta ocasión la haremos en python. \n",
    "- Escribir una función que calcule el promedio de 3 notas y entrege ese valor usando **return**.\n",
    "- Reescribir la función anterior modificandola para asignar una importancia al primer examen de 20%, al segundo de 50% y al tercero de 30%.\n",
    "- Llamar a cada función anterior 3 veces con distintas notas y verificar, mediante la instrucción **if**, si el alumno aprobó en cada caso (suponga que 4 es la nota de aprobación).\n",
    "\n"
   ]
  },
  {
   "cell_type": "code",
   "execution_count": null,
   "metadata": {
    "id": "3DHirONd90wp"
   },
   "outputs": [],
   "source": []
  },
  {
   "cell_type": "markdown",
   "metadata": {
    "id": "3j1ROqeFJdP-"
   },
   "source": [
    "###$\\facil$ Una buena e-stimación\n",
    "El número $e$ tiene inmensa utilidad para el análisis y la estadística, es una de las super-estrellas de la matemática, y su utilidad radica en que la función $e^x$  es igual a su derivada, por definición de $e$.\n",
    "\n",
    "Gracias a las series de Taylor podemos obtener la siguiente definición del número $e$:\n",
    "\n",
    "$e=1+\\frac{1}{1!}+\\frac{1}{2!}+\\frac{1}{3!}+\\frac{1}{4!}+\\frac{1}{5!}+...$\n",
    "\n",
    "Se pide obtener una aproximación del número $e$ calculando la suma de los primeros $20$ términos de esta sucesión infinita.\n",
    "\n",
    "**Tips**\n",
    "* $n! = 1\\cdot 2\\cdot 3 \\cdot\\ ...\\ \\cdot n$."
   ]
  },
  {
   "cell_type": "code",
   "execution_count": null,
   "metadata": {
    "id": "TESQQaFiLiz8"
   },
   "outputs": [],
   "source": []
  },
  {
   "cell_type": "markdown",
   "metadata": {
    "id": "tS0MU0yrKfAs"
   },
   "source": [
    "###$\\medio$ Ejercicio de entrevista en [Ingemática](https://www.ingematica.net/) \n",
    "Escriba un programa que imprima los números del 1 al 100, pero que para cada número que sea múltiplo de 3 imprima  `N3`, para los múltiplos de 5 imprima `N5`, y para los múltiplos de los dos, `N3N5`.\n",
    "\n",
    "**Tips**\n",
    "* ¡Si el número es divisible por 3 entonces el resto de la división vale cero!\n",
    "```\n",
    "numero % 3 == 0\n",
    ">> True\n",
    "```\n"
   ]
  },
  {
   "cell_type": "code",
   "execution_count": null,
   "metadata": {
    "id": "IUtY_MurVkMl"
   },
   "outputs": [],
   "source": []
  },
  {
   "cell_type": "markdown",
   "metadata": {
    "id": "0Af6_xLhRVrE"
   },
   "source": [
    "###$\\medio$   Test de primalidad \n",
    "Escribir una función que recibe un numero y devuelve *True* si el numero es primo y *False* en caso contrario.\n",
    "\n",
    "Mediante un *for* verificar la *primalidad* de los numeros del $1$ al $20$.\n",
    "\n",
    "**Tips**\n",
    "\n",
    "* Un número $N$ es primo cuando tiene exactamente $2$ divisores ($1$ y $N$). Sin embargo alcanza con verificar que no es múltiplo de ningún número entre $2$ y $\\sqrt{N}$ (recordar que $\\sqrt{N}=N^{0.5}$)\n",
    "* El numero 1 **no** es primo."
   ]
  },
  {
   "cell_type": "code",
   "execution_count": null,
   "metadata": {
    "id": "G4t3MumbR1ew"
   },
   "outputs": [],
   "source": []
  },
  {
   "cell_type": "markdown",
   "metadata": {
    "id": "fm_1Ogs_k0Uu"
   },
   "source": [
    "### $\\normal$ La leyenda de Filius Bonacci  \n",
    "\n",
    "<img class=\"img\" src=\"https://upload.wikimedia.org/wikipedia/commons/9/93/Fibonacci_spiral_34.svg\" height=\"200\" alt = \"Espiral Fibonacci\" title = \"\">\n",
    "\n",
    "Imprima $n$ números de la [sucesion de Fibonacci](https://es.wikipedia.org/wiki/Sucesi%C3%B3n_de_Fibonacci)\n",
    "\n",
    "\n",
    "```\n",
    "0, 1, 1, 2, 3, 5, 8, 13, 21 ...\n",
    "```"
   ]
  },
  {
   "cell_type": "code",
   "execution_count": null,
   "metadata": {
    "id": "Am1NHiy6xeMp"
   },
   "outputs": [],
   "source": []
  },
  {
   "cell_type": "code",
   "execution_count": null,
   "metadata": {
    "id": "Q5MAhD1Jb1rN"
   },
   "outputs": [],
   "source": []
  },
  {
   "cell_type": "code",
   "execution_count": null,
   "metadata": {
    "id": "wgmupIZwRTHO"
   },
   "outputs": [],
   "source": []
  },
  {
   "cell_type": "code",
   "execution_count": null,
   "metadata": {
    "colab": {
     "base_uri": "https://localhost:8080/",
     "height": 35
    },
    "id": "-_v3zGU6cBEX",
    "outputId": "b04adfba-894f-4ce7-d07f-7d301b033c7c"
   },
   "outputs": [],
   "source": [
    "def factorial(v):\n",
    "    ans = 1\n",
    "    for i in range(1,v):\n",
    "        ans *= i\n",
    "    return ans\n",
    "\n",
    "print(factorial(10))\n"
   ]
  },
  {
   "cell_type": "code",
   "execution_count": null,
   "metadata": {
    "id": "Mu1GbWGC-IW9"
   },
   "outputs": [],
   "source": []
  }
 ],
 "metadata": {
  "anaconda-cloud": {},
  "celltoolbar": "Slideshow",
  "kernelspec": {
   "display_name": "Python 3",
   "language": "python",
   "name": "python3"
  },
  "language_info": {
   "codemirror_mode": {
    "name": "ipython",
    "version": 3
   },
   "file_extension": ".py",
   "mimetype": "text/x-python",
   "name": "python",
   "nbconvert_exporter": "python",
   "pygments_lexer": "ipython3",
   "version": "3.8.8"
  }
 },
 "nbformat": 4,
 "nbformat_minor": 4
}
