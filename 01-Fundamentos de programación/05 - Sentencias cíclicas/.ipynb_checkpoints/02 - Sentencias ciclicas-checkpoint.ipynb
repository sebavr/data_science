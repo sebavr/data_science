{
 "cells": [
  {
   "cell_type": "markdown",
   "metadata": {
    "id": "4FLV1yxDh9Rh"
   },
   "source": [
    "# Bienvenidos al Curso de Python!\n",
    "\n",
    "***Clase 2***\n"
   ]
  },
  {
   "cell_type": "markdown",
   "metadata": {
    "id": "J0shbiwuHYah"
   },
   "source": [
    "##  Sentencia WHILE\n",
    "\n"
   ]
  },
  {
   "cell_type": "markdown",
   "metadata": {
    "id": "40pPFBX6CXKJ"
   },
   "source": [
    "Permite ejecutar operaciones mientras se cumpla una condición.\n",
    "\n",
    "**while** (Condicion):\n",
    "\n",
    "    ... lo que se hace mientras se cumpla la condicion\n",
    "\n",
    "**else** :\n",
    "\n",
    "    ... Se ejecuta cuando la condicion no se cumple más\n",
    "    \n",
    "Esto introduce otra estructura basica de un programa que son los ciclos (loops o bucles). En código se ve de la siguiente manera:\n",
    "\n"
   ]
  },
  {
   "cell_type": "code",
   "execution_count": null,
   "metadata": {
    "id": "LLcZ4LH3CMUt",
    "outputId": "a2c51e57-8ddb-4ff9-eca8-ed1fd94e43de"
   },
   "outputs": [
    {
     "name": "stdout",
     "output_type": "stream",
     "text": [
      "1\n",
      "2\n",
      "3\n",
      "4\n",
      "5\n",
      "6\n",
      "7\n",
      "8\n",
      "9\n",
      "Termina el while\n",
      "Continuo con el resto del programa\n"
     ]
    }
   ],
   "source": [
    "x = 1\n",
    "while x < 10:\n",
    "    print(x)\n",
    "    x += 1\n",
    "else:\n",
    "    print('Termina el while')\n",
    "\n",
    "print(\"Continuo con el resto del programa\")"
   ]
  },
  {
   "cell_type": "markdown",
   "metadata": {
    "id": "tzu1YFDNQTQu"
   },
   "source": [
    "Es importante tener en cuenta que la condición se evalúa sólo al principio del loop.\n",
    "\n",
    "Al usar una variable auxiliar para contar la cantidad de repeticiones del while, es recomendable no modificar su valor dentro del bloque excepto para incrementar/decrementar su valor acordemente. Esto es porque se corre el riesgo de que la condición siempre sea True y el while se ejecute infinitamente, además es dificil darse cuenta de que la cantidad de ciclos será de hecho la que queremos.\n",
    "\n",
    "¿Qué realiza este programa?"
   ]
  },
  {
   "cell_type": "code",
   "execution_count": null,
   "metadata": {
    "id": "8ZnPPjB4h3Nz",
    "outputId": "8af52baa-4a9d-495c-efa6-70a63e1165f6"
   },
   "outputs": [
    {
     "name": "stdin",
     "output_type": "stream",
     "text": [
      "Ingrese un número del 1 al 10:  25\n"
     ]
    },
    {
     "name": "stdout",
     "output_type": "stream",
     "text": [
      "Fuera de rango!\n"
     ]
    },
    {
     "name": "stdin",
     "output_type": "stream",
     "text": [
      "Ingrese un número del 1 al 10:  3\n"
     ]
    },
    {
     "name": "stdout",
     "output_type": "stream",
     "text": [
      "False\n",
      "3\n"
     ]
    }
   ],
   "source": [
    "nota = int( input('Ingrese un número del 1 al 10: ') )\n",
    "\n",
    "while nota < 1 or nota > 10:\n",
    "    print('Fuera de rango!')\n",
    "    nota = int( input('Ingrese un número del 1 al 10: ') )\n",
    "\n",
    "print( nota >= 4 )\n",
    "print(nota)"
   ]
  },
  {
   "cell_type": "markdown",
   "metadata": {
    "id": "KHHwPfH3QZQO"
   },
   "source": [
    "#### Mini-desafío If y While\n",
    "Implementar un programa que muestre la siguiente secuencia:\n",
    "\n",
    "1, 2, 3, 4, 5, 4, 3, 2, 1, 0\n",
    "\n",
    "**Para un desafío mayor:** Utilizar un solo *while*, un solo *if* y un solo *else*\n",
    "\n",
    "\n"
   ]
  },
  {
   "cell_type": "code",
   "execution_count": null,
   "metadata": {
    "id": "ELNQM61IIni8",
    "outputId": "506da9c5-5c3c-4de5-edf8-b35f819004c0"
   },
   "outputs": [
    {
     "name": "stdout",
     "output_type": "stream",
     "text": [
      "1,2\n"
     ]
    }
   ],
   "source": [
    "#crear una variable inicial\n",
    "\n",
    "\n",
    "#probar una condición while, if y else\n",
    "\n",
    "\n",
    "\n",
    "Ejemplo:\n",
    "x=1\n",
    "print(x, end=\",\")\n",
    "y=2\n",
    "print(y)\n"
   ]
  },
  {
   "cell_type": "markdown",
   "metadata": {
    "id": "T-KOiUHbLcde"
   },
   "source": [
    "## Sentencia FOR\n",
    "\n"
   ]
  },
  {
   "cell_type": "markdown",
   "metadata": {
    "id": "PhYkTwLbCbsO"
   },
   "source": [
    "La estructura del **for** permite realizar una serie de acciones con una variable, que cambia su valor en cada repetición (iteración).\n",
    "\n",
    "**for** (variable) **in** (conjunto de valores):\n",
    "\n",
    "    ... Lo que quieras hacer con tu variable\n",
    "\n",
    "Veámoslo en un ejemplo de codigo:\n"
   ]
  },
  {
   "cell_type": "code",
   "execution_count": null,
   "metadata": {
    "id": "Cwo3zZy5I3x_"
   },
   "outputs": [],
   "source": [
    "for x in range(1,16,2):\n",
    "    print(x)"
   ]
  },
  {
   "cell_type": "code",
   "execution_count": null,
   "metadata": {
    "id": "-_Y-xlgdfLxT"
   },
   "outputs": [],
   "source": []
  },
  {
   "cell_type": "markdown",
   "metadata": {
    "id": "VujdlKBZMfE3"
   },
   "source": [
    "**range**(a,b,d)  nos genera los valores desde a hasta b con incrementos de d, por ejemplo el siguiente codigo generara los numeros pares entre 0 y 10:\n",
    "\n"
   ]
  },
  {
   "cell_type": "code",
   "execution_count": null,
   "metadata": {
    "id": "XCHNbgvEMdIb",
    "outputId": "6adc11b1-1dd8-4ec4-e101-909f61421389"
   },
   "outputs": [
    {
     "name": "stdout",
     "output_type": "stream",
     "text": [
      "3\n",
      "7\n"
     ]
    }
   ],
   "source": [
    "for x in range(3,11):\n",
    "    print(x)"
   ]
  },
  {
   "cell_type": "markdown",
   "metadata": {
    "id": "7gts4JhvGzdz"
   },
   "source": [
    "Noten que el límite superior del rango nunca es incluído.\n",
    "\n",
    "Al utilizar la instrucción **range( )** no es necesario proporcionar siempre los 3 parametros. Observen que sucede cuando se proporcionan 1 o 2 parámetros:"
   ]
  },
  {
   "cell_type": "code",
   "execution_count": null,
   "metadata": {
    "id": "ofmsq6j6HB4E"
   },
   "outputs": [],
   "source": [
    "print(\"range(5):\")\n",
    "for x in range(5):\n",
    "    print(x)\n",
    "\n",
    "print(\"range(10, 15):\")\n",
    "for x in range(10, 15):\n",
    "    print(x)"
   ]
  },
  {
   "cell_type": "markdown",
   "metadata": {
    "id": "UoNf8Ce-NAi5"
   },
   "source": [
    "### Mini-desafío for\n",
    "Mostrar la siguiente secuencia de datos utilizando la instrucción for y la instrucción if:\n",
    "\n",
    "0, 1, 4, 9, 16, 25, 6, 7, 8, 9"
   ]
  },
  {
   "cell_type": "code",
   "execution_count": null,
   "metadata": {
    "id": "E3NctxBaM3kG"
   },
   "outputs": [],
   "source": [
    "#intervalo con función range\n"
   ]
  },
  {
   "cell_type": "markdown",
   "metadata": {
    "id": "dwS9n-3UfLxU"
   },
   "source": [
    "## for sobre un string\n",
    "La estructura *for* que veremos a continuación tiene una gran versatilidad ya que como veremos, no está limitada a recorrer los valores generados por *range*. También es posible recorrer los caracteres de un string usando *for* como se muestra a continuación:"
   ]
  },
  {
   "cell_type": "code",
   "execution_count": null,
   "metadata": {
    "id": "7n5ZdPRAfLxU",
    "outputId": "a5753ea0-8fe1-4fe6-b280-0ce1154b6f47"
   },
   "outputs": [
    {
     "name": "stdout",
     "output_type": "stream",
     "text": [
      "Vocales:  4\n"
     ]
    }
   ],
   "source": [
    "texto = \"Curso de Python\"\n",
    "vocales = 0\n",
    "for c in texto:\n",
    "    if c == 'a' or c == 'e' or c == 'i' or c == 'o' or c == 'u':\n",
    "        vocales += 1\n",
    "\n",
    "print(\"Vocales: \", vocales)"
   ]
  },
  {
   "cell_type": "markdown",
   "metadata": {
    "id": "XDGgUB3opnot"
   },
   "source": [
    "### for sobre una lista\n",
    "Al igual que con strings, la instrucción *for* puede ir avanzando sobre todos los elementos de una lista:"
   ]
  },
  {
   "cell_type": "code",
   "execution_count": null,
   "metadata": {
    "id": "UNFJKu_YpwmU",
    "outputId": "7a499724-af30-4c8f-9cce-f2651f4391f6"
   },
   "outputs": [
    {
     "name": "stdout",
     "output_type": "stream",
     "text": [
      "1\n",
      "10\n",
      "100\n",
      "1000\n",
      "[5, 6, 7]\n",
      "5\n",
      "hola\n"
     ]
    }
   ],
   "source": [
    "lista = [1, 10, 100, 1000, [5,6,7], 5, \"hola\"]\n",
    "\n",
    "for elemento in lista:\n",
    "    print(elemento)"
   ]
  },
  {
   "cell_type": "markdown",
   "metadata": {
    "id": "UlcBp_8UvehI"
   },
   "source": [
    "Tambien podemos crear una lista del tamaño que queramos de la siguiente manera:\n",
    "\n",
    "> a = **[** x **for** x **in** **range**(N) **]**"
   ]
  },
  {
   "cell_type": "code",
   "execution_count": null,
   "metadata": {
    "id": "2tg0JHq_KwOM",
    "outputId": "47e09a21-f46a-4af6-b9d6-aadf67150826"
   },
   "outputs": [
    {
     "name": "stdout",
     "output_type": "stream",
     "text": [
      "[0, 1, 2, 3, 4, 5, 6, 7, 8, 9]\n"
     ]
    }
   ],
   "source": [
    "b = [x for x in range(10)]\n",
    "print(b)"
   ]
  },
  {
   "cell_type": "code",
   "execution_count": null,
   "metadata": {
    "id": "bH3cqGa-fLxV",
    "outputId": "31109533-dcc9-4b2f-856b-b526f48e5f85"
   },
   "outputs": [
    {
     "name": "stdout",
     "output_type": "stream",
     "text": [
      "[0, 2, 4, 6, 8, 10, 12, 14, 16, 18]\n"
     ]
    }
   ],
   "source": [
    "a=[]\n",
    "for x in range(10):\n",
    "    a.append(x*2)\n",
    "print(a)"
   ]
  },
  {
   "cell_type": "markdown",
   "metadata": {
    "id": "3NnBGiXYKoFd"
   },
   "source": [
    "\n",
    "Podemos tambien aplicarle una operación a la variable x\n",
    "> a = **[** (operacion con x) **for** x **in** **range**(N) **]**"
   ]
  },
  {
   "cell_type": "code",
   "execution_count": null,
   "metadata": {
    "id": "hiu1MacNvyQd",
    "outputId": "1ebef18d-b91f-491a-ea6b-f207b2864dab"
   },
   "outputs": [
    {
     "name": "stdout",
     "output_type": "stream",
     "text": [
      "[0, 1, 2, 3, 4, 5, 6, 7, 8, 9]\n",
      "[0, 2, 4, 6, 8, 10, 12, 14, 16, 18, 20, 22, 24, 26, 28]\n",
      "['hhh', 'ooo', 'lll', 'aaa']\n",
      "[]\n"
     ]
    }
   ],
   "source": [
    "a = [ x for x in range(0, 10)]\n",
    "print(a)\n",
    "b = [x*2 for x in range(15)]\n",
    "print(b)\n",
    "c = [3 * letra for letra in \"hola\"]\n",
    "print(c)\n",
    "d = []\n",
    "print(d)"
   ]
  },
  {
   "cell_type": "code",
   "execution_count": null,
   "metadata": {
    "id": "ToPtc7DafLxV"
   },
   "outputs": [],
   "source": [
    "b = [x*2 for x in range(15)]\n",
    "print(b)"
   ]
  },
  {
   "cell_type": "code",
   "execution_count": null,
   "metadata": {
    "id": "M6iSX2ZOfLxV",
    "outputId": "059b5086-c088-4772-de39-1f9931dfdc98"
   },
   "outputs": [
    {
     "name": "stdout",
     "output_type": "stream",
     "text": [
      "['hhh', 'ooo', 'lll', 'aaa']\n"
     ]
    }
   ],
   "source": [
    "c = [3 * letra for letra in \"hola\"]\n",
    "print(c)\n"
   ]
  },
  {
   "cell_type": "code",
   "execution_count": null,
   "metadata": {
    "id": "mYzxRiQZfLxV"
   },
   "outputs": [],
   "source": [
    "elemento_c=c[1]\n",
    "print(c[2])\n",
    "print(elemento_c)\n",
    "print(c[1:4]) \n"
   ]
  },
  {
   "cell_type": "code",
   "execution_count": null,
   "metadata": {
    "id": "Mt4aYDQPfLxV"
   },
   "outputs": [],
   "source": [
    "c[0], c[1] = c[1], c[0]\n",
    "print(c)"
   ]
  },
  {
   "cell_type": "code",
   "execution_count": null,
   "metadata": {
    "id": "V52amX2dfLxW"
   },
   "outputs": [],
   "source": [
    "a = [x+2 for x in [2,3,4,5]]\n",
    "print(a)\n",
    "print(a[0]) \n",
    "print(a[2])"
   ]
  },
  {
   "cell_type": "markdown",
   "metadata": {
    "id": "3plZLq9dT-1t"
   },
   "source": [
    "### Mini-desafío: listas\n",
    "1. Crear una lista con los números pares menores a 50.\n",
    "2. Crear una lista con el nombre de los días de la semana. Realizar un programa al cual se ingresa el día del año mediante un número de 0 a 364, que determine a qué día de la semana corresponde mediante un número de 0 (Lunes) a 6 (Domingo) y luego muestre en pantalla el elemento correspondiente de la lista, o sea, el día de la semana en forma de texto (suponemos que el día 0 del año es Lunes).\n",
    "\n",
    "  **Ejemplos:**\n",
    "  \n",
    "  `calcularDia(1) => 'Martes'` (Ya que el día 1 cae Martes)\n",
    "\n",
    "  `calcularDia(10) => 'Jueves'` (Ya que el día 10 cae Jueves)\n",
    "\n",
    "  `calcularDia(25) => 'Viernes'` (Ya que el día 25 cae Viernes)\n",
    "<img height=\"300\" src=\"https://raw.githubusercontent.com/IEEESBITBA/Curso-Python/master/_assets/calendario.png\">\n",
    "\n",
    "3. Realizar un programa que ordena nombres alfabeticamente. Primero debe pedir al usuario que ingrese el número de nombres que serán ingresados, luego debe pedir al usuario que ingrese un nombre y repetir ese pedido la cantidad de veces indicada. Los nombres se deben ir agregando a una lista. Por último, ordenar la lista alfabéticamente y mostrar en pantalla de a uno por vez los nombres ordenados (usando un for)."
   ]
  },
  {
   "cell_type": "markdown",
   "metadata": {
    "id": "rNXYzvGZfLxW"
   },
   "source": [
    "## Break y continue para ciclos\n",
    "Romper el bucle, cuando se encuentra el elemento deseado, con la declaración `break`:"
   ]
  },
  {
   "cell_type": "code",
   "execution_count": null,
   "metadata": {
    "id": "-8u2KKWAfLxW",
    "outputId": "824a63e8-9e5a-41c2-cb7e-2791bf310090"
   },
   "outputs": [
    {
     "name": "stdout",
     "output_type": "stream",
     "text": [
      "El primer elemento negativo de la lista fue -1\n"
     ]
    }
   ],
   "source": [
    "l=[1,3,65,3,-1,56,-10]\n",
    "for x in l:\n",
    "    if x < 0:\n",
    "        break\n",
    "print(\"El primer elemento negativo de la lista fue\", x)"
   ]
  },
  {
   "cell_type": "markdown",
   "metadata": {
    "id": "exqnwOrjfLxW"
   },
   "source": [
    "Detener la iteración actual y continuar con la siguiente con la instrucción `continue`:"
   ]
  },
  {
   "cell_type": "code",
   "execution_count": null,
   "metadata": {
    "ExecuteTime": {
     "end_time": "2019-06-17T13:56:49.327404Z",
     "start_time": "2019-06-17T13:56:49.318054Z"
    },
    "id": "1qjhraRHfLxW",
    "outputId": "d16a0779-20b8-418b-cd1f-d5d33a6e4631"
   },
   "outputs": [
    {
     "name": "stdout",
     "output_type": "stream",
     "text": [
      "La Raiz cuadrada de 1 es 1.000\n",
      "El logaritmo natural de 1 es 0.0000\n",
      "La Raiz cuadrada de 3 es 1.732\n",
      "El logaritmo natural de 3 es 1.0986\n",
      "La Raiz cuadrada de 65 es 8.062\n",
      "El logaritmo natural de 65 es 4.1744\n",
      "La Raiz cuadrada de 3 es 1.732\n",
      "El logaritmo natural de 3 es 1.0986\n",
      "La Raiz cuadrada de 56 es 7.483\n",
      "El logaritmo natural de 56 es 4.0254\n"
     ]
    }
   ],
   "source": [
    "from math import sqrt, log\n",
    "l=[1,3,65,3,-1,56,-10]\n",
    "for x in l:\n",
    "    if x < 0:\n",
    "        continue\n",
    "    print(f\"La Raiz cuadrada de {x} es {sqrt(x):.3f}\")\n",
    "    print(f\"El logaritmo natural de {x} es {log(x):.4f}\")"
   ]
  },
  {
   "cell_type": "markdown",
   "metadata": {
    "id": "47aNdtHOfLxW"
   },
   "source": [
    "### Mini-desafío: \n",
    "\n",
    "Consideremos lanzar dos dados. (Un dado puede dar un valor entre 1 y 6.) Utilice dos \"for\" anidados\n",
    "bucles en la función `main` para iterar a través de todas las combinaciones posibles que el par de dados puede dar.\n",
    "Hay 36 combinaciones posibles. Imprima todas esas combinaciones como pares (ordenados) que sumen 5.\n",
    "Por ejemplo, su impresión debe incluir el par `(2,3)`. Imprime un par por línea.\n",
    "<hr/>"
   ]
  },
  {
   "cell_type": "code",
   "execution_count": null,
   "metadata": {
    "id": "cSutu-CJfLxW"
   },
   "outputs": [],
   "source": [
    "\n",
    "            \n"
   ]
  },
  {
   "cell_type": "markdown",
   "metadata": {
    "id": "GI7EN0pGfLxX"
   },
   "source": [
    "NOTA: Hay múltiples manera de hacer interpolación de texto:\n",
    "\n",
    "* Python format string\n",
    "* El método `format` \n",
    "* f-strings\n",
    "\n",
    "Ejemplos:"
   ]
  },
  {
   "cell_type": "code",
   "execution_count": null,
   "metadata": {
    "id": "3dHO4ynJfLxX"
   },
   "outputs": [],
   "source": [
    "print(\"%i plus %i is equal to %i\" % (1, 3, 4))     # Format syntax\n",
    "\n",
    "print(\"{} plus {} is equal to {}\".format(1, 3, 4)) # Format método\n",
    "\n",
    "print(f\"{1} plus {3} is equal to {4}\")             # f-string"
   ]
  },
  {
   "cell_type": "markdown",
   "metadata": {
    "id": "xY4ktEoifLxX"
   },
   "source": [
    "El especificador de formato `i` en la sintaxis de formato corresponde a números enteros y el especificador` f` corresponde a flotantes. Cuando se usan f-strings o el método `format`, los enteros usan` d` en su lugar. En las cadenas de formato, los especificadores generalmente se pueden omitir y generalmente se usan solo cuando se requiere un formato específico. Por ejemplo, en f-strings `f\" {4: 3d} \"` especificaría el número 4 rellenado a la izquierda con espacios de 3 dígitos.\n",
    "\n",
    "A menudo es útil especificar el número de decimales al imprimir flotantes.:"
   ]
  },
  {
   "cell_type": "code",
   "execution_count": null,
   "metadata": {
    "ExecuteTime": {
     "end_time": "2019-06-13T07:20:11.299655Z",
     "start_time": "2019-06-13T07:20:11.290634Z"
    },
    "id": "-HvzK66QfLxX"
   },
   "outputs": [],
   "source": [
    "print(\"%.1f %.2f %.3f\" % (1.6, 1.7, 1.8))               # Estilo antiguo\n",
    "print(\"{:.1f} {:.2f} {:.3f}\".format(1.6, 1.7, 1.8))     # Nuevo estilo\n",
    "print(f\"{1.6:.1f} {1.7:.2f} {1.8:.3f}\")                 # f-string"
   ]
  },
  {
   "cell_type": "markdown",
   "metadata": {
    "id": "-RK75zHYfLxX"
   },
   "source": [
    "The especificador `s` es usado para cadenas de texto."
   ]
  },
  {
   "cell_type": "code",
   "execution_count": null,
   "metadata": {
    "ExecuteTime": {
     "end_time": "2019-06-13T07:22:04.651508Z",
     "start_time": "2019-06-13T07:22:04.646191Z"
    },
    "id": "zAH_XQxvfLxX"
   },
   "outputs": [],
   "source": [
    "print(\"%s concatedado con %s produce %s\" % (\"water\", \"melon\", \"water\"+\"melon\"))\n",
    "print(\"{0} concatenado con {1} produce {0}{1}\".format(\"water\", \"melon\"))\n",
    "print(f\"{'water'} concatenado con {'melon'} produce {'water' + 'melon'}\")"
   ]
  },
  {
   "cell_type": "markdown",
   "metadata": {
    "id": "pY4OCSVDfLxX"
   },
   "source": [
    "Busque aquí más detalles sobre los especificadores de formato y para comparar el estilo antiguo y el nuevo de interpolación de cadenas.\n",
    "\n",
    "Las diferentes formas de interpolación de cuerdas tienen diferentes fortalezas y debilidades. Generalmente, elegir cuál usar es una cuestión de preferencia personal. En este curso, los ejemplos y las soluciones de modelos utilizarán predominantemente cadenas f y el método de formatoLook [here](https://pyformat.info/#number) for more details about format specifiers, and for comparison between the old and new style of string interpolation.\n",
    "\n",
    "Different ways of string interpolation have different strengths and weaknesses. Generally choosing which to use is a matter of personal preference. On this course examples and model solutions will predominantly use f-strings and the `format` method."
   ]
  }
 ],
 "metadata": {
  "colab": {
   "provenance": [],
   "toc_visible": true
  },
  "kernelspec": {
   "display_name": "Python 3 (ipykernel)",
   "language": "python",
   "name": "python3"
  },
  "language_info": {
   "codemirror_mode": {
    "name": "ipython",
    "version": 3
   },
   "file_extension": ".py",
   "mimetype": "text/x-python",
   "name": "python",
   "nbconvert_exporter": "python",
   "pygments_lexer": "ipython3",
   "version": "3.10.9"
  }
 },
 "nbformat": 4,
 "nbformat_minor": 1
}
