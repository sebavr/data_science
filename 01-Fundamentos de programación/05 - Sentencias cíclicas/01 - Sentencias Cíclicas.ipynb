{
 "cells": [
  {
   "cell_type": "markdown",
   "metadata": {
    "id": "5jGI2lqnU3zP"
   },
   "source": [
    "# Sentencias Cíclicas\n",
    "- For\n",
    "- While\n",
    "- Función Range\n",
    "- Métodos de String"
   ]
  },
  {
   "cell_type": "markdown",
   "metadata": {
    "id": "fpLTUIZiVHPZ"
   },
   "source": [
    "## Sentencia FOR"
   ]
  },
  {
   "cell_type": "code",
   "execution_count": 48,
   "metadata": {
    "executionInfo": {
     "elapsed": 2,
     "status": "ok",
     "timestamp": 1685732083997,
     "user": {
      "displayName": "Jorge Sepulveda",
      "userId": "07168895330690088449"
     },
     "user_tz": 240
    },
    "id": "3b9Wi2KtdhzU"
   },
   "outputs": [],
   "source": [
    "# mi animal preferido\n",
    "animal = 'Loro'"
   ]
  },
  {
   "cell_type": "code",
   "execution_count": 1,
   "metadata": {
    "executionInfo": {
     "elapsed": 2,
     "status": "ok",
     "timestamp": 1685729924277,
     "user": {
      "displayName": "Jorge Sepulveda",
      "userId": "07168895330690088449"
     },
     "user_tz": 240
    },
    "id": "3AbPeNztU_Fk"
   },
   "outputs": [],
   "source": [
    "animales = ['Leon', 'Cocodrilo', 'Zebra', 'Jirafa', 'Mono']"
   ]
  },
  {
   "cell_type": "code",
   "execution_count": 7,
   "metadata": {
    "colab": {
     "base_uri": "https://localhost:8080/"
    },
    "executionInfo": {
     "elapsed": 2,
     "status": "ok",
     "timestamp": 1685730066568,
     "user": {
      "displayName": "Jorge Sepulveda",
      "userId": "07168895330690088449"
     },
     "user_tz": 240
    },
    "id": "j7uI853PVTII",
    "outputId": "bd4c1812-597c-4d6f-995d-6082a82507c9"
   },
   "outputs": [
    {
     "name": "stdout",
     "output_type": "stream",
     "text": [
      "Animal:  Leon\n",
      "Animal:  Cocodrilo\n",
      "Animal:  Zebra\n",
      "Animal:  Jirafa\n",
      "Animal:  Mono\n"
     ]
    }
   ],
   "source": [
    "print('Animal: ', animales[0])\n",
    "print('Animal: ', animales[1])\n",
    "print('Animal: ', animales[2])\n",
    "print('Animal: ', animales[3])\n",
    "print('Animal: ', animales[4])"
   ]
  },
  {
   "cell_type": "code",
   "execution_count": 51,
   "metadata": {
    "colab": {
     "base_uri": "https://localhost:8080/"
    },
    "executionInfo": {
     "elapsed": 305,
     "status": "ok",
     "timestamp": 1685732184454,
     "user": {
      "displayName": "Jorge Sepulveda",
      "userId": "07168895330690088449"
     },
     "user_tz": 240
    },
    "id": "j-FmpBvVVb3L",
    "outputId": "615f3a83-43cc-4d1e-8aa5-30ca747b9cd8"
   },
   "outputs": [
    {
     "name": "stdout",
     "output_type": "stream",
     "text": [
      "Buenos dias Leon\n",
      "Buenos dias Cocodrilo\n",
      "Buenos dias Zebra\n",
      "Buenos dias Jirafa\n",
      "Buenos dias Mono\n"
     ]
    }
   ],
   "source": [
    "for _animal in animales:\n",
    "  print('Buenos dias', _animal)"
   ]
  },
  {
   "cell_type": "code",
   "execution_count": 50,
   "metadata": {
    "colab": {
     "base_uri": "https://localhost:8080/",
     "height": 36
    },
    "executionInfo": {
     "elapsed": 266,
     "status": "ok",
     "timestamp": 1685732124949,
     "user": {
      "displayName": "Jorge Sepulveda",
      "userId": "07168895330690088449"
     },
     "user_tz": 240
    },
    "id": "oqHW8PsFdtNB",
    "outputId": "fd6d74fb-85e3-47f0-d949-0331faef2ff6"
   },
   "outputs": [
    {
     "data": {
      "application/vnd.google.colaboratory.intrinsic+json": {
       "type": "string"
      },
      "text/plain": [
       "'Mono'"
      ]
     },
     "execution_count": 50,
     "metadata": {},
     "output_type": "execute_result"
    }
   ],
   "source": [
    "animal"
   ]
  },
  {
   "cell_type": "code",
   "execution_count": 52,
   "metadata": {
    "colab": {
     "base_uri": "https://localhost:8080/"
    },
    "executionInfo": {
     "elapsed": 369,
     "status": "ok",
     "timestamp": 1685732231432,
     "user": {
      "displayName": "Jorge Sepulveda",
      "userId": "07168895330690088449"
     },
     "user_tz": 240
    },
    "id": "dUy70haUYkGF",
    "outputId": "008ddfdd-dfca-44cd-fd04-20adda9dfcac"
   },
   "outputs": [
    {
     "name": "stdout",
     "output_type": "stream",
     "text": [
      "Iteracion 0 Leon\n",
      "Iteracion 1 Cocodrilo\n",
      "Iteracion 2 Zebra\n",
      "Iteracion 3 Jirafa\n",
      "Iteracion 4 Mono\n"
     ]
    }
   ],
   "source": [
    "i = 0\n",
    "for _animal in animales:\n",
    "  print('Iteracion', i, _animal)\n",
    "  i = i + 1"
   ]
  },
  {
   "cell_type": "code",
   "execution_count": 11,
   "metadata": {
    "colab": {
     "base_uri": "https://localhost:8080/"
    },
    "executionInfo": {
     "elapsed": 3,
     "status": "ok",
     "timestamp": 1685730938125,
     "user": {
      "displayName": "Jorge Sepulveda",
      "userId": "07168895330690088449"
     },
     "user_tz": 240
    },
    "id": "_o1b1v3GY1KX",
    "outputId": "e693a3e8-9562-4d08-a9ea-d6df9d7fcb54"
   },
   "outputs": [
    {
     "name": "stdout",
     "output_type": "stream",
     "text": [
      "Iteracion 0 Leon\n",
      "Iteracion 1 Cocodrilo\n",
      "Iteracion 2 Zebra\n",
      "Iteracion 3 Jirafa\n",
      "Iteracion 4 Mono\n"
     ]
    }
   ],
   "source": [
    "for _index,_valor in enumerate(animales):\n",
    "  print('Iteracion', _index, _valor)"
   ]
  },
  {
   "cell_type": "code",
   "execution_count": 29,
   "metadata": {
    "colab": {
     "base_uri": "https://localhost:8080/"
    },
    "executionInfo": {
     "elapsed": 2,
     "status": "ok",
     "timestamp": 1685731554769,
     "user": {
      "displayName": "Jorge Sepulveda",
      "userId": "07168895330690088449"
     },
     "user_tz": 240
    },
    "id": "v17188MLbEpF",
    "outputId": "f5f4fffa-ed83-449f-fd4e-d74864cb7c9e"
   },
   "outputs": [
    {
     "name": "stdout",
     "output_type": "stream",
     "text": [
      "Iteracion 0 Leon\n",
      "Iteracion 1 Cocodrilo\n",
      "Iteracion 2 Zebra\n",
      "Iteracion 3 Jirafa\n",
      "Iteracion 4 Mono\n"
     ]
    }
   ],
   "source": [
    "for a,b in enumerate(animales):\n",
    "  print('Iteracion', a, b)"
   ]
  },
  {
   "cell_type": "code",
   "execution_count": 12,
   "metadata": {
    "executionInfo": {
     "elapsed": 2,
     "status": "ok",
     "timestamp": 1685731060114,
     "user": {
      "displayName": "Jorge Sepulveda",
      "userId": "07168895330690088449"
     },
     "user_tz": 240
    },
    "id": "KVWFUjxEZMsL"
   },
   "outputs": [],
   "source": [
    "t = (0,'Leon')"
   ]
  },
  {
   "cell_type": "code",
   "execution_count": 13,
   "metadata": {
    "colab": {
     "base_uri": "https://localhost:8080/"
    },
    "executionInfo": {
     "elapsed": 279,
     "status": "ok",
     "timestamp": 1685731065310,
     "user": {
      "displayName": "Jorge Sepulveda",
      "userId": "07168895330690088449"
     },
     "user_tz": 240
    },
    "id": "wemcTRZhZqbz",
    "outputId": "982537ac-d616-49c9-d007-9ea2e08a36c4"
   },
   "outputs": [
    {
     "data": {
      "text/plain": [
       "(0, 'Leon')"
      ]
     },
     "execution_count": 13,
     "metadata": {},
     "output_type": "execute_result"
    }
   ],
   "source": [
    "t"
   ]
  },
  {
   "cell_type": "code",
   "execution_count": 14,
   "metadata": {
    "colab": {
     "base_uri": "https://localhost:8080/"
    },
    "executionInfo": {
     "elapsed": 2,
     "status": "ok",
     "timestamp": 1685731075465,
     "user": {
      "displayName": "Jorge Sepulveda",
      "userId": "07168895330690088449"
     },
     "user_tz": 240
    },
    "id": "CzSIMoKUZrob",
    "outputId": "01d9bdbc-fefd-4890-8db0-4981a2211daf"
   },
   "outputs": [
    {
     "data": {
      "text/plain": [
       "tuple"
      ]
     },
     "execution_count": 14,
     "metadata": {},
     "output_type": "execute_result"
    }
   ],
   "source": [
    "type(t)"
   ]
  },
  {
   "cell_type": "code",
   "execution_count": 17,
   "metadata": {
    "executionInfo": {
     "elapsed": 2,
     "status": "ok",
     "timestamp": 1685731119478,
     "user": {
      "displayName": "Jorge Sepulveda",
      "userId": "07168895330690088449"
     },
     "user_tz": 240
    },
    "id": "UCB0ZbkVZuFL"
   },
   "outputs": [],
   "source": [
    "index = t[0]\n",
    "value = t[1]"
   ]
  },
  {
   "cell_type": "code",
   "execution_count": 21,
   "metadata": {
    "executionInfo": {
     "elapsed": 229,
     "status": "ok",
     "timestamp": 1685731265322,
     "user": {
      "displayName": "Jorge Sepulveda",
      "userId": "07168895330690088449"
     },
     "user_tz": 240
    },
    "id": "NCg752enZ7MM"
   },
   "outputs": [],
   "source": [
    "# desempaqueamiento de una tupla\n",
    "i,v = t"
   ]
  },
  {
   "cell_type": "code",
   "execution_count": 33,
   "metadata": {
    "executionInfo": {
     "elapsed": 235,
     "status": "ok",
     "timestamp": 1685731679984,
     "user": {
      "displayName": "Jorge Sepulveda",
      "userId": "07168895330690088449"
     },
     "user_tz": 240
    },
    "id": "w6hjg3uEaYZt"
   },
   "outputs": [],
   "source": [
    "x,y,z = (10,20,30)"
   ]
  },
  {
   "cell_type": "code",
   "execution_count": 36,
   "metadata": {
    "colab": {
     "base_uri": "https://localhost:8080/"
    },
    "executionInfo": {
     "elapsed": 283,
     "status": "ok",
     "timestamp": 1685731707783,
     "user": {
      "displayName": "Jorge Sepulveda",
      "userId": "07168895330690088449"
     },
     "user_tz": 240
    },
    "id": "kg3f0qqScBt_",
    "outputId": "54157a6d-1245-44e4-955c-d47ed5a31471"
   },
   "outputs": [
    {
     "data": {
      "text/plain": [
       "30"
      ]
     },
     "execution_count": 36,
     "metadata": {},
     "output_type": "execute_result"
    }
   ],
   "source": [
    "z"
   ]
  },
  {
   "cell_type": "code",
   "execution_count": 53,
   "metadata": {
    "colab": {
     "base_uri": "https://localhost:8080/"
    },
    "executionInfo": {
     "elapsed": 3,
     "status": "ok",
     "timestamp": 1685732345066,
     "user": {
      "displayName": "Jorge Sepulveda",
      "userId": "07168895330690088449"
     },
     "user_tz": 240
    },
    "id": "CsHJcwYOcG1L",
    "outputId": "26bf32e4-2734-46a6-87b7-3d62f12c60df"
   },
   "outputs": [
    {
     "name": "stdout",
     "output_type": "stream",
     "text": [
      "0\n",
      "1\n",
      "2\n",
      "3\n",
      "4\n",
      "5\n",
      "6\n",
      "7\n",
      "8\n",
      "9\n",
      "10\n"
     ]
    }
   ],
   "source": [
    "seq = [0,1,2,3,4,5,6,7,8,9,10]\n",
    "for _i in seq:\n",
    "  print(_i)"
   ]
  },
  {
   "cell_type": "markdown",
   "metadata": {
    "id": "5qdaoOBpesDD"
   },
   "source": [
    "## 2. Ciclo WHILE"
   ]
  },
  {
   "cell_type": "code",
   "execution_count": 56,
   "metadata": {
    "colab": {
     "base_uri": "https://localhost:8080/"
    },
    "executionInfo": {
     "elapsed": 285,
     "status": "ok",
     "timestamp": 1685732664796,
     "user": {
      "displayName": "Jorge Sepulveda",
      "userId": "07168895330690088449"
     },
     "user_tz": 240
    },
    "id": "xKSJGrgkekIj",
    "outputId": "979964a2-eec4-4571-9c40-87a0e61386ef"
   },
   "outputs": [
    {
     "name": "stdout",
     "output_type": "stream",
     "text": [
      "0\n",
      "1\n",
      "2\n",
      "3\n",
      "4\n",
      "5\n",
      "6\n",
      "7\n",
      "8\n",
      "9\n",
      "10\n"
     ]
    }
   ],
   "source": [
    "j = 0\n",
    "while j <= 10:\n",
    "  print(j)\n",
    "  #j = j + 1\n",
    "  j += 1\n"
   ]
  },
  {
   "cell_type": "markdown",
   "metadata": {
    "id": "JeleoSP3gHcN"
   },
   "source": [
    "## 3. Función Range"
   ]
  },
  {
   "cell_type": "code",
   "execution_count": 57,
   "metadata": {
    "colab": {
     "base_uri": "https://localhost:8080/"
    },
    "executionInfo": {
     "elapsed": 301,
     "status": "ok",
     "timestamp": 1685732796280,
     "user": {
      "displayName": "Jorge Sepulveda",
      "userId": "07168895330690088449"
     },
     "user_tz": 240
    },
    "id": "ATk8Ht2mgHEq",
    "outputId": "4b4e023a-7bb4-47c1-8cfd-0492c4a56436"
   },
   "outputs": [
    {
     "data": {
      "text/plain": [
       "range(0, 10)"
      ]
     },
     "execution_count": 57,
     "metadata": {},
     "output_type": "execute_result"
    }
   ],
   "source": [
    "range(10)"
   ]
  },
  {
   "cell_type": "code",
   "execution_count": 58,
   "metadata": {
    "colab": {
     "base_uri": "https://localhost:8080/"
    },
    "executionInfo": {
     "elapsed": 258,
     "status": "ok",
     "timestamp": 1685732819933,
     "user": {
      "displayName": "Jorge Sepulveda",
      "userId": "07168895330690088449"
     },
     "user_tz": 240
    },
    "id": "LrEP3efngUeF",
    "outputId": "6a594485-9ea5-4715-ffbd-38ce3e7165fa"
   },
   "outputs": [
    {
     "data": {
      "text/plain": [
       "[0, 1, 2, 3, 4, 5, 6, 7, 8, 9]"
      ]
     },
     "execution_count": 58,
     "metadata": {},
     "output_type": "execute_result"
    }
   ],
   "source": [
    "list( range(10) )"
   ]
  },
  {
   "cell_type": "code",
   "execution_count": 59,
   "metadata": {
    "executionInfo": {
     "elapsed": 307,
     "status": "ok",
     "timestamp": 1685732829113,
     "user": {
      "displayName": "Jorge Sepulveda",
      "userId": "07168895330690088449"
     },
     "user_tz": 240
    },
    "id": "kxpErqQ0gYBK"
   },
   "outputs": [],
   "source": [
    "s = 'hola'"
   ]
  },
  {
   "cell_type": "code",
   "execution_count": 60,
   "metadata": {
    "colab": {
     "base_uri": "https://localhost:8080/"
    },
    "executionInfo": {
     "elapsed": 2,
     "status": "ok",
     "timestamp": 1685732832900,
     "user": {
      "displayName": "Jorge Sepulveda",
      "userId": "07168895330690088449"
     },
     "user_tz": 240
    },
    "id": "e0LThIo8gaP6",
    "outputId": "100df893-211c-4aab-e247-36d11cf4cceb"
   },
   "outputs": [
    {
     "data": {
      "text/plain": [
       "['h', 'o', 'l', 'a']"
      ]
     },
     "execution_count": 60,
     "metadata": {},
     "output_type": "execute_result"
    }
   ],
   "source": [
    "list(s)"
   ]
  },
  {
   "cell_type": "code",
   "execution_count": 64,
   "metadata": {
    "colab": {
     "base_uri": "https://localhost:8080/"
    },
    "executionInfo": {
     "elapsed": 2,
     "status": "ok",
     "timestamp": 1685732935972,
     "user": {
      "displayName": "Jorge Sepulveda",
      "userId": "07168895330690088449"
     },
     "user_tz": 240
    },
    "id": "CQpkj55vgbMD",
    "outputId": "72a49d31-d01c-40ad-b044-6eb2e7bf4fd5"
   },
   "outputs": [
    {
     "data": {
      "text/plain": [
       "[1, 2, 3, 4, 5]"
      ]
     },
     "execution_count": 64,
     "metadata": {},
     "output_type": "execute_result"
    }
   ],
   "source": [
    "list( {1,2,3,4,5} )"
   ]
  },
  {
   "cell_type": "code",
   "execution_count": 65,
   "metadata": {
    "colab": {
     "base_uri": "https://localhost:8080/"
    },
    "executionInfo": {
     "elapsed": 253,
     "status": "ok",
     "timestamp": 1685732987107,
     "user": {
      "displayName": "Jorge Sepulveda",
      "userId": "07168895330690088449"
     },
     "user_tz": 240
    },
    "id": "FTZYthaWgpeE",
    "outputId": "88d191d6-45b8-4c16-e7e7-c50a5334c3f8"
   },
   "outputs": [
    {
     "name": "stdout",
     "output_type": "stream",
     "text": [
      "0\n",
      "1\n",
      "2\n",
      "3\n",
      "4\n",
      "5\n",
      "6\n",
      "7\n",
      "8\n",
      "9\n"
     ]
    }
   ],
   "source": [
    "for _i in range(10):\n",
    "  print(_i)"
   ]
  },
  {
   "cell_type": "code",
   "execution_count": 66,
   "metadata": {
    "colab": {
     "base_uri": "https://localhost:8080/"
    },
    "executionInfo": {
     "elapsed": 2,
     "status": "ok",
     "timestamp": 1685733004620,
     "user": {
      "displayName": "Jorge Sepulveda",
      "userId": "07168895330690088449"
     },
     "user_tz": 240
    },
    "id": "uRCLmFiOhA1r",
    "outputId": "196aa73f-33a8-4136-9ec4-98b9c5ad1415"
   },
   "outputs": [
    {
     "data": {
      "text/plain": [
       "range"
      ]
     },
     "execution_count": 66,
     "metadata": {},
     "output_type": "execute_result"
    }
   ],
   "source": [
    "type(range(5))"
   ]
  },
  {
   "cell_type": "code",
   "execution_count": 67,
   "metadata": {
    "colab": {
     "base_uri": "https://localhost:8080/"
    },
    "executionInfo": {
     "elapsed": 252,
     "status": "ok",
     "timestamp": 1685733041499,
     "user": {
      "displayName": "Jorge Sepulveda",
      "userId": "07168895330690088449"
     },
     "user_tz": 240
    },
    "id": "2Zf6QNyZhFL6",
    "outputId": "4a99508d-366a-4d8f-945a-8b47e653da0e"
   },
   "outputs": [
    {
     "name": "stdout",
     "output_type": "stream",
     "text": [
      "10\n",
      "11\n",
      "12\n",
      "13\n",
      "14\n",
      "15\n",
      "16\n",
      "17\n",
      "18\n",
      "19\n"
     ]
    }
   ],
   "source": [
    "for _i in range(10,20):\n",
    "  print(_i)"
   ]
  },
  {
   "cell_type": "code",
   "execution_count": 68,
   "metadata": {
    "colab": {
     "base_uri": "https://localhost:8080/"
    },
    "executionInfo": {
     "elapsed": 253,
     "status": "ok",
     "timestamp": 1685733112868,
     "user": {
      "displayName": "Jorge Sepulveda",
      "userId": "07168895330690088449"
     },
     "user_tz": 240
    },
    "id": "WwIKJgWNhOHK",
    "outputId": "46078465-2da4-40ef-9026-1ab9ca320e1f"
   },
   "outputs": [
    {
     "data": {
      "text/plain": [
       "[0, 1, 2, 3, 4, 5, 6, 7, 8, 9]"
      ]
     },
     "execution_count": 68,
     "metadata": {},
     "output_type": "execute_result"
    }
   ],
   "source": [
    "list(range(0,10))"
   ]
  },
  {
   "cell_type": "code",
   "execution_count": 69,
   "metadata": {
    "colab": {
     "base_uri": "https://localhost:8080/"
    },
    "executionInfo": {
     "elapsed": 276,
     "status": "ok",
     "timestamp": 1685733122726,
     "user": {
      "displayName": "Jorge Sepulveda",
      "userId": "07168895330690088449"
     },
     "user_tz": 240
    },
    "id": "ihQCtx4XhfiK",
    "outputId": "719f1f46-a2d7-4ca8-b308-a207c618db9e"
   },
   "outputs": [
    {
     "data": {
      "text/plain": [
       "[10, 11, 12, 13, 14, 15, 16, 17, 18, 19]"
      ]
     },
     "execution_count": 69,
     "metadata": {},
     "output_type": "execute_result"
    }
   ],
   "source": [
    "list(range(10,20))"
   ]
  },
  {
   "cell_type": "code",
   "execution_count": 70,
   "metadata": {
    "colab": {
     "base_uri": "https://localhost:8080/"
    },
    "executionInfo": {
     "elapsed": 2,
     "status": "ok",
     "timestamp": 1685733131503,
     "user": {
      "displayName": "Jorge Sepulveda",
      "userId": "07168895330690088449"
     },
     "user_tz": 240
    },
    "id": "YZAPeUjEhh77",
    "outputId": "38933e21-9d81-486c-a97e-991d34e32dab"
   },
   "outputs": [
    {
     "data": {
      "text/plain": [
       "[20, 21, 22, 23, 24, 25, 26, 27, 28, 29]"
      ]
     },
     "execution_count": 70,
     "metadata": {},
     "output_type": "execute_result"
    }
   ],
   "source": [
    "list(range(20,30))"
   ]
  },
  {
   "cell_type": "code",
   "execution_count": 71,
   "metadata": {
    "colab": {
     "base_uri": "https://localhost:8080/"
    },
    "executionInfo": {
     "elapsed": 3,
     "status": "ok",
     "timestamp": 1685733200491,
     "user": {
      "displayName": "Jorge Sepulveda",
      "userId": "07168895330690088449"
     },
     "user_tz": 240
    },
    "id": "mqCzxYhnhkMK",
    "outputId": "b3e5b2cd-1bdd-407e-85a1-9fd824271ffe"
   },
   "outputs": [
    {
     "name": "stdout",
     "output_type": "stream",
     "text": [
      "10\n",
      "12\n",
      "14\n",
      "16\n",
      "18\n"
     ]
    }
   ],
   "source": [
    "for _i in range(10,20,2):\n",
    "  print(_i)"
   ]
  },
  {
   "cell_type": "code",
   "execution_count": 72,
   "metadata": {
    "colab": {
     "base_uri": "https://localhost:8080/"
    },
    "executionInfo": {
     "elapsed": 2,
     "status": "ok",
     "timestamp": 1685733255884,
     "user": {
      "displayName": "Jorge Sepulveda",
      "userId": "07168895330690088449"
     },
     "user_tz": 240
    },
    "id": "iJz1rIJbh0-C",
    "outputId": "bbcc3287-afbe-4771-9192-3c3913d57ccb"
   },
   "outputs": [
    {
     "name": "stdout",
     "output_type": "stream",
     "text": [
      "0\n",
      "1\n",
      "2\n",
      "3\n",
      "4\n"
     ]
    }
   ],
   "source": [
    "for _i in range(len(animales)):\n",
    "  print(_i)"
   ]
  },
  {
   "cell_type": "markdown",
   "metadata": {
    "id": "nm3frjiRiXbd"
   },
   "source": [
    "## 4. Métodos de String"
   ]
  },
  {
   "cell_type": "code",
   "execution_count": 73,
   "metadata": {
    "executionInfo": {
     "elapsed": 279,
     "status": "ok",
     "timestamp": 1685733369751,
     "user": {
      "displayName": "Jorge Sepulveda",
      "userId": "07168895330690088449"
     },
     "user_tz": 240
    },
    "id": "KLuGG4nWiCbD"
   },
   "outputs": [],
   "source": [
    "s = 'Hola, bienvenidos al curso de Python!'"
   ]
  },
  {
   "cell_type": "code",
   "execution_count": 74,
   "metadata": {
    "colab": {
     "base_uri": "https://localhost:8080/"
    },
    "executionInfo": {
     "elapsed": 4,
     "status": "ok",
     "timestamp": 1685733406181,
     "user": {
      "displayName": "Jorge Sepulveda",
      "userId": "07168895330690088449"
     },
     "user_tz": 240
    },
    "id": "xoX1Me-HiePr",
    "outputId": "fb773d99-ae6c-4921-e4ae-95d7fee415a4"
   },
   "outputs": [
    {
     "data": {
      "text/plain": [
       "['Hola,', 'bienvenidos', 'al', 'curso', 'de', 'Python!']"
      ]
     },
     "execution_count": 74,
     "metadata": {},
     "output_type": "execute_result"
    }
   ],
   "source": [
    "s.split()"
   ]
  },
  {
   "cell_type": "code",
   "execution_count": 77,
   "metadata": {
    "colab": {
     "base_uri": "https://localhost:8080/"
    },
    "executionInfo": {
     "elapsed": 254,
     "status": "ok",
     "timestamp": 1685733659295,
     "user": {
      "displayName": "Jorge Sepulveda",
      "userId": "07168895330690088449"
     },
     "user_tz": 240
    },
    "id": "JaY6Tfv0inFy",
    "outputId": "50476405-0db2-4c5d-9faa-58264d7dab0f"
   },
   "outputs": [
    {
     "name": "stdout",
     "output_type": "stream",
     "text": [
      "Palabra Hola, tiene 5 caracteres\n",
      "Palabra bienvenidos tiene 11 caracteres\n",
      "Palabra al tiene 2 caracteres\n",
      "Palabra curso tiene 5 caracteres\n",
      "Palabra de tiene 2 caracteres\n",
      "Palabra Python! tiene 7 caracteres\n"
     ]
    }
   ],
   "source": [
    "largos = []\n",
    "for palabra in s.split():\n",
    "  print('Palabra',palabra,'tiene',len(palabra),'caracteres')\n",
    "  largos.append(len(palabra))"
   ]
  },
  {
   "cell_type": "code",
   "execution_count": 80,
   "metadata": {
    "colab": {
     "base_uri": "https://localhost:8080/"
    },
    "executionInfo": {
     "elapsed": 260,
     "status": "ok",
     "timestamp": 1685733726377,
     "user": {
      "displayName": "Jorge Sepulveda",
      "userId": "07168895330690088449"
     },
     "user_tz": 240
    },
    "id": "kW4SoMBHizJS",
    "outputId": "35ba50e9-042a-4d76-ba59-570c4ab3e4bc"
   },
   "outputs": [
    {
     "data": {
      "text/plain": [
       "[5, 11, 2, 5, 2, 7]"
      ]
     },
     "execution_count": 80,
     "metadata": {},
     "output_type": "execute_result"
    }
   ],
   "source": [
    "largos"
   ]
  },
  {
   "cell_type": "code",
   "execution_count": 83,
   "metadata": {
    "colab": {
     "base_uri": "https://localhost:8080/"
    },
    "executionInfo": {
     "elapsed": 3,
     "status": "ok",
     "timestamp": 1685733798674,
     "user": {
      "displayName": "Jorge Sepulveda",
      "userId": "07168895330690088449"
     },
     "user_tz": 240
    },
    "id": "MUhwhW3Wj1Ny",
    "outputId": "a4da4a1c-0e90-4087-f8e1-13b80419c8b4"
   },
   "outputs": [
    {
     "data": {
      "text/plain": [
       "5"
      ]
     },
     "execution_count": 83,
     "metadata": {},
     "output_type": "execute_result"
    }
   ],
   "source": [
    "round(sum(largos)/len(largos))"
   ]
  },
  {
   "cell_type": "code",
   "execution_count": 84,
   "metadata": {
    "executionInfo": {
     "elapsed": 252,
     "status": "ok",
     "timestamp": 1685733917275,
     "user": {
      "displayName": "Jorge Sepulveda",
      "userId": "07168895330690088449"
     },
     "user_tz": 240
    },
    "id": "eg-G7rpGj-4j"
   },
   "outputs": [],
   "source": [
    "import statistics as stat"
   ]
  },
  {
   "cell_type": "code",
   "execution_count": 85,
   "metadata": {
    "colab": {
     "base_uri": "https://localhost:8080/"
    },
    "executionInfo": {
     "elapsed": 1,
     "status": "ok",
     "timestamp": 1685733956412,
     "user": {
      "displayName": "Jorge Sepulveda",
      "userId": "07168895330690088449"
     },
     "user_tz": 240
    },
    "id": "hPGDmEOUkj7S",
    "outputId": "54f242d9-9360-47ae-d920-93b434ef70ab"
   },
   "outputs": [
    {
     "data": {
      "text/plain": [
       "5.333333333333333"
      ]
     },
     "execution_count": 85,
     "metadata": {},
     "output_type": "execute_result"
    }
   ],
   "source": [
    "stat.mean(largos)"
   ]
  },
  {
   "cell_type": "code",
   "execution_count": 87,
   "metadata": {
    "colab": {
     "base_uri": "https://localhost:8080/"
    },
    "executionInfo": {
     "elapsed": 221,
     "status": "ok",
     "timestamp": 1685733983255,
     "user": {
      "displayName": "Jorge Sepulveda",
      "userId": "07168895330690088449"
     },
     "user_tz": 240
    },
    "id": "705NwCNSktbi",
    "outputId": "eaad1b4e-78df-4a28-b264-e0aa097c588e"
   },
   "outputs": [
    {
     "data": {
      "text/plain": [
       "5"
      ]
     },
     "execution_count": 87,
     "metadata": {},
     "output_type": "execute_result"
    }
   ],
   "source": [
    "stat.mode(largos)"
   ]
  },
  {
   "cell_type": "code",
   "execution_count": 88,
   "metadata": {
    "colab": {
     "base_uri": "https://localhost:8080/"
    },
    "executionInfo": {
     "elapsed": 259,
     "status": "ok",
     "timestamp": 1685734020187,
     "user": {
      "displayName": "Jorge Sepulveda",
      "userId": "07168895330690088449"
     },
     "user_tz": 240
    },
    "id": "QUuJFipokvma",
    "outputId": "7b1a4acb-ac42-4937-b28a-79dae05747ac"
   },
   "outputs": [
    {
     "data": {
      "text/plain": [
       "5.0"
      ]
     },
     "execution_count": 88,
     "metadata": {},
     "output_type": "execute_result"
    }
   ],
   "source": [
    "stat.median(largos)"
   ]
  },
  {
   "cell_type": "code",
   "execution_count": 90,
   "metadata": {
    "colab": {
     "base_uri": "https://localhost:8080/"
    },
    "executionInfo": {
     "elapsed": 1,
     "status": "ok",
     "timestamp": 1685734112053,
     "user": {
      "displayName": "Jorge Sepulveda",
      "userId": "07168895330690088449"
     },
     "user_tz": 240
    },
    "id": "62TOdKuFk8_y",
    "outputId": "48800f68-3704-4bd4-d809-7e0720349e31"
   },
   "outputs": [
    {
     "data": {
      "text/plain": [
       "[2, 2, 5, 5, 7, 11]"
      ]
     },
     "execution_count": 90,
     "metadata": {},
     "output_type": "execute_result"
    }
   ],
   "source": [
    "sorted(largos)"
   ]
  },
  {
   "cell_type": "code",
   "execution_count": 91,
   "metadata": {
    "colab": {
     "base_uri": "https://localhost:8080/"
    },
    "executionInfo": {
     "elapsed": 292,
     "status": "ok",
     "timestamp": 1685734149047,
     "user": {
      "displayName": "Jorge Sepulveda",
      "userId": "07168895330690088449"
     },
     "user_tz": 240
    },
    "id": "iIDSEoHIk_oz",
    "outputId": "51cfc1ba-404a-4c0c-d4c7-a323926032b4"
   },
   "outputs": [
    {
     "data": {
      "text/plain": [
       "3.3862466931200785"
      ]
     },
     "execution_count": 91,
     "metadata": {},
     "output_type": "execute_result"
    }
   ],
   "source": [
    "stat.stdev(largos)"
   ]
  },
  {
   "cell_type": "code",
   "execution_count": null,
   "metadata": {
    "id": "TRCOjxHilcdj"
   },
   "outputs": [],
   "source": [
    "d1 = {'receta':230, 'coliflor':88, 'aliño':233}\n",
    "d2 = {'piston':340, 'engine':230}\n"
   ]
  }
 ],
 "metadata": {
  "colab": {
   "authorship_tag": "ABX9TyPE1F7y9PM/0PCuGYNcwePY",
   "provenance": []
  },
  "kernelspec": {
   "display_name": "Python 3 (ipykernel)",
   "language": "python",
   "name": "python3"
  },
  "language_info": {
   "codemirror_mode": {
    "name": "ipython",
    "version": 3
   },
   "file_extension": ".py",
   "mimetype": "text/x-python",
   "name": "python",
   "nbconvert_exporter": "python",
   "pygments_lexer": "ipython3",
   "version": "3.10.9"
  }
 },
 "nbformat": 4,
 "nbformat_minor": 1
}
