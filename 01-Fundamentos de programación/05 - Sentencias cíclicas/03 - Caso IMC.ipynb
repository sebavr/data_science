{
 "cells": [
  {
   "cell_type": "markdown",
   "metadata": {},
   "source": [
    "---\n",
    "# Caso IMC\n",
    "\n",
    "Se tiene a un conjunto de personas con sus datos de peso y estatura. Se requiere hacer un análisis del índice de masa corporal de cada individuo. La fórmula es la siguiente:\n",
    "\n",
    "    Fórmula IMC = Peso / Estatura**2\n",
    "\n",
    "|#Individuo|Peso|Altura|\n",
    "|---|---|---|\n",
    "|1|62|1.65|\n",
    "|2|72|1.73|\n",
    "|3|65|1.57|\n",
    "|4|70|1.68|\n",
    "|5|95|1.89|\n",
    "\n",
    "La categorización es la siguiente:\n",
    "\n",
    "- IMC < 18.5 -> Bajo Peso\n",
    "- IMC 18.5 - 24.9 -> Normal\n",
    "- IMC 25 - 29.9 -> Sobrepeso\n",
    "- IMC 30 - 34.9 -> Obesidad I\n",
    "- IMC 35 - 39.9 -> Obesidad II\n",
    "- IMC 40 - 49.9 -> Obesidad III\n",
    "- IMC > 50 -> Obesidad IV\n",
    "\n",
    "---"
   ]
  },
  {
   "cell_type": "markdown",
   "metadata": {},
   "source": [
    "#### 1. Construya una función que calcule y retorne el valor del índice IMC a partir de la altura y el peso"
   ]
  },
  {
   "cell_type": "code",
   "execution_count": 12,
   "metadata": {},
   "outputs": [],
   "source": []
  },
  {
   "cell_type": "code",
   "execution_count": null,
   "metadata": {},
   "outputs": [],
   "source": []
  },
  {
   "cell_type": "markdown",
   "metadata": {},
   "source": [
    "#### 2. Haga 3 llamados a la función para verificar que retorna valores correctos. Utilice la función print()"
   ]
  },
  {
   "cell_type": "code",
   "execution_count": null,
   "metadata": {},
   "outputs": [],
   "source": []
  },
  {
   "cell_type": "code",
   "execution_count": null,
   "metadata": {},
   "outputs": [],
   "source": []
  },
  {
   "cell_type": "code",
   "execution_count": null,
   "metadata": {},
   "outputs": [],
   "source": []
  },
  {
   "cell_type": "markdown",
   "metadata": {},
   "source": [
    "#### 3. Construya una función que reciba como parámetro el valor numérico del índice IMC y retorne la categoría al cual pertenece"
   ]
  },
  {
   "cell_type": "code",
   "execution_count": null,
   "metadata": {},
   "outputs": [],
   "source": []
  },
  {
   "cell_type": "code",
   "execution_count": null,
   "metadata": {},
   "outputs": [],
   "source": []
  },
  {
   "cell_type": "markdown",
   "metadata": {},
   "source": [
    "#### 4. Haga llamados a la función para verificar que todas las categorizaciones son mostradas correctamente. Utilice la función print()"
   ]
  },
  {
   "cell_type": "code",
   "execution_count": null,
   "metadata": {},
   "outputs": [],
   "source": []
  },
  {
   "cell_type": "code",
   "execution_count": null,
   "metadata": {},
   "outputs": [],
   "source": []
  },
  {
   "cell_type": "markdown",
   "metadata": {},
   "source": [
    "#### 5. Construya una lista con los valores de peso de cada individuo, llámela \"pesos\""
   ]
  },
  {
   "cell_type": "code",
   "execution_count": null,
   "metadata": {},
   "outputs": [],
   "source": []
  },
  {
   "cell_type": "code",
   "execution_count": null,
   "metadata": {},
   "outputs": [],
   "source": []
  },
  {
   "cell_type": "markdown",
   "metadata": {},
   "source": [
    "#### 6. Construya una lista con los valores de altura de cada individuo, llámela \"alturas\""
   ]
  },
  {
   "cell_type": "code",
   "execution_count": null,
   "metadata": {},
   "outputs": [],
   "source": []
  },
  {
   "cell_type": "code",
   "execution_count": null,
   "metadata": {},
   "outputs": [],
   "source": []
  },
  {
   "cell_type": "markdown",
   "metadata": {},
   "source": [
    "#### 7. Calcule el indice IMC del primer individuo utilizando la función construida anteriormente y las listas creadas"
   ]
  },
  {
   "cell_type": "code",
   "execution_count": null,
   "metadata": {},
   "outputs": [],
   "source": []
  },
  {
   "cell_type": "code",
   "execution_count": null,
   "metadata": {},
   "outputs": [],
   "source": []
  },
  {
   "cell_type": "markdown",
   "metadata": {},
   "source": [
    "#### 8. Haga un ciclo para recorrer todos los elementos de las listas \"pesos\" y \"alturas\", para calcular el indice y la categoría al cual pertenece"
   ]
  },
  {
   "cell_type": "code",
   "execution_count": null,
   "metadata": {},
   "outputs": [],
   "source": []
  },
  {
   "cell_type": "code",
   "execution_count": null,
   "metadata": {},
   "outputs": [],
   "source": []
  },
  {
   "cell_type": "code",
   "execution_count": null,
   "metadata": {},
   "outputs": [],
   "source": []
  },
  {
   "cell_type": "code",
   "execution_count": null,
   "metadata": {},
   "outputs": [],
   "source": []
  },
  {
   "cell_type": "markdown",
   "metadata": {},
   "source": [
    "#### 9. Repita el punto anterior pero esta vez almacene la categoría en un nuevo listado"
   ]
  },
  {
   "cell_type": "code",
   "execution_count": null,
   "metadata": {},
   "outputs": [],
   "source": []
  },
  {
   "cell_type": "code",
   "execution_count": null,
   "metadata": {},
   "outputs": [],
   "source": []
  },
  {
   "cell_type": "markdown",
   "metadata": {},
   "source": [
    "#### 10. Imprima en pantalla el listado de categorías llenado anteriormente"
   ]
  },
  {
   "cell_type": "code",
   "execution_count": null,
   "metadata": {},
   "outputs": [],
   "source": []
  },
  {
   "cell_type": "code",
   "execution_count": null,
   "metadata": {},
   "outputs": [],
   "source": []
  },
  {
   "cell_type": "code",
   "execution_count": null,
   "metadata": {},
   "outputs": [],
   "source": []
  },
  {
   "cell_type": "markdown",
   "metadata": {},
   "source": [
    "#### 11. Imprimir de manera friendly los resultados"
   ]
  },
  {
   "cell_type": "code",
   "execution_count": 36,
   "metadata": {},
   "outputs": [
    {
     "name": "stdout",
     "output_type": "stream",
     "text": [
      "El individuo 1 pesa 62 mide 1.73 y su categoria es Normal\n",
      "El individuo 2 pesa 72 mide 1.57 y su categoria es Sobrepeso\n",
      "El individuo 3 pesa 65 mide 1.77 y su categoria es Normal\n",
      "El individuo 4 pesa 70 mide 1.68 y su categoria es Normal\n",
      "El individuo 5 pesa 95 mide 1.89 y su categoria es Sobrepeso\n"
     ]
    }
   ],
   "source": [
    "# El individuo 0 pesa 65 mide 1.65 y su categoria es Normal\n",
    "\n",
    "\n",
    "\n",
    "    "
   ]
  },
  {
   "cell_type": "markdown",
   "metadata": {},
   "source": [
    "## Bien Hecho!!\n",
    "\n",
    "---"
   ]
  }
 ],
 "metadata": {
  "kernelspec": {
   "display_name": "Python 3",
   "language": "python",
   "name": "python3"
  },
  "language_info": {
   "codemirror_mode": {
    "name": "ipython",
    "version": 3
   },
   "file_extension": ".py",
   "mimetype": "text/x-python",
   "name": "python",
   "nbconvert_exporter": "python",
   "pygments_lexer": "ipython3",
   "version": "3.8.8"
  }
 },
 "nbformat": 4,
 "nbformat_minor": 4
}
