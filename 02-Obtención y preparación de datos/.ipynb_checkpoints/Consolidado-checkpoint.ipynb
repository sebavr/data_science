{
 "cells": [
  {
   "cell_type": "markdown",
   "id": "c1a23b71",
   "metadata": {},
   "source": [
    "### Consolidado"
   ]
  },
  {
   "cell_type": "code",
   "execution_count": 1,
   "id": "261a44c2",
   "metadata": {},
   "outputs": [],
   "source": [
    "import pandas as pd\n"
   ]
  },
  {
   "cell_type": "code",
   "execution_count": 8,
   "id": "fc6a6279",
   "metadata": {},
   "outputs": [],
   "source": [
    "df_c = pd.read_csv('Trabajo-final-Colocaciones.csv',encoding='utf-8')\n",
    "df_d = pd.read_csv('Trabajo-final-Deposito.csv',encoding='utf-8')\n",
    "df_i = pd.read_csv('Trabajo-final-Inversiones.csv',encoding='utf-8')"
   ]
  },
  {
   "cell_type": "code",
   "execution_count": null,
   "id": "94ca5da7",
   "metadata": {},
   "outputs": [],
   "source": []
  }
 ],
 "metadata": {
  "kernelspec": {
   "display_name": "Python 3 (ipykernel)",
   "language": "python",
   "name": "python3"
  },
  "language_info": {
   "codemirror_mode": {
    "name": "ipython",
    "version": 3
   },
   "file_extension": ".py",
   "mimetype": "text/x-python",
   "name": "python",
   "nbconvert_exporter": "python",
   "pygments_lexer": "ipython3",
   "version": "3.10.9"
  }
 },
 "nbformat": 4,
 "nbformat_minor": 5
}
