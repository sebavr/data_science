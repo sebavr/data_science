{
 "cells": [
  {
   "cell_type": "markdown",
   "metadata": {
    "id": "1ttiJL4DVWcD"
   },
   "source": [
    "---\n",
    "# Ejercicio Guiado Numpy\n",
    "\n"
   ]
  },
  {
   "cell_type": "markdown",
   "metadata": {
    "id": "1bvLE3eoVWcH"
   },
   "source": [
    "#### Importar la librería con su alias"
   ]
  },
  {
   "cell_type": "code",
   "execution_count": 14,
   "metadata": {
    "id": "AjI_tiMLVWcI"
   },
   "outputs": [],
   "source": [
    "import numpy as np"
   ]
  },
  {
   "cell_type": "markdown",
   "metadata": {
    "id": "hbhfjgcjVWcJ"
   },
   "source": [
    "#### 1. Cree un arreglo de diez elementos con valor 1"
   ]
  },
  {
   "cell_type": "code",
   "execution_count": 5,
   "metadata": {
    "id": "XeYIgY0CVWcJ"
   },
   "outputs": [
    {
     "name": "stdout",
     "output_type": "stream",
     "text": [
      "[1, 1, 1, 1, 1, 1, 1, 1, 1, 1]\n"
     ]
    },
    {
     "data": {
      "text/plain": [
       "array([1, 1, 1, 1, 1, 1, 1, 1, 1, 1])"
      ]
     },
     "execution_count": 5,
     "metadata": {},
     "output_type": "execute_result"
    }
   ],
   "source": [
    "lista1=[]\n",
    "for i in range(10):\n",
    "    lista1.append(1)\n",
    "print(lista1)\n",
    "np.array(lista1)"
   ]
  },
  {
   "cell_type": "code",
   "execution_count": null,
   "metadata": {
    "id": "EXH7Zo4pVWcJ",
    "outputId": "bb2aa57c-f5a2-4ce7-dcd7-3bd15c16baa7"
   },
   "outputs": [
    {
     "data": {
      "text/plain": [
       "array([1., 1., 1., 1., 1., 1., 1., 1., 1., 1.])"
      ]
     },
     "execution_count": 7,
     "metadata": {},
     "output_type": "execute_result"
    }
   ],
   "source": []
  },
  {
   "cell_type": "markdown",
   "metadata": {
    "id": "ihlusbHKVWcK"
   },
   "source": [
    "#### 2. Cree un arreglo de diez elementos con valor 100"
   ]
  },
  {
   "cell_type": "code",
   "execution_count": 8,
   "metadata": {
    "id": "wC-I9bcQVWcK"
   },
   "outputs": [
    {
     "name": "stdout",
     "output_type": "stream",
     "text": [
      "[100, 100, 100, 100, 100, 100, 100, 100, 100, 100]\n"
     ]
    },
    {
     "data": {
      "text/plain": [
       "array([100, 100, 100, 100, 100, 100, 100, 100, 100, 100])"
      ]
     },
     "execution_count": 8,
     "metadata": {},
     "output_type": "execute_result"
    }
   ],
   "source": [
    "lista2=[]\n",
    "for j in range(10):\n",
    "    lista2.append(100)\n",
    "print(lista2)\n",
    "np.array(lista2)"
   ]
  },
  {
   "cell_type": "code",
   "execution_count": null,
   "metadata": {
    "id": "5z-diF3aVWcL",
    "outputId": "ac8a978a-3494-47f9-98a3-360ba05bf8d5"
   },
   "outputs": [
    {
     "data": {
      "text/plain": [
       "array([100., 100., 100., 100., 100., 100., 100., 100., 100., 100.])"
      ]
     },
     "execution_count": 8,
     "metadata": {},
     "output_type": "execute_result"
    }
   ],
   "source": []
  },
  {
   "cell_type": "markdown",
   "metadata": {
    "id": "7RAzUXOjVWcL"
   },
   "source": [
    "#### 3. Cree un arreglo entre 30 y 90 con múltiplos de 3"
   ]
  },
  {
   "cell_type": "code",
   "execution_count": 12,
   "metadata": {
    "id": "ceCwSdcFVWcL"
   },
   "outputs": [
    {
     "name": "stdout",
     "output_type": "stream",
     "text": [
      "[30, 33, 36, 39, 42, 45, 48, 51, 54, 57, 60, 63, 66, 69, 72, 75, 78, 81, 84, 87, 90]\n"
     ]
    },
    {
     "data": {
      "text/plain": [
       "array([30, 33, 36, 39, 42, 45, 48, 51, 54, 57, 60, 63, 66, 69, 72, 75, 78,\n",
       "       81, 84, 87, 90])"
      ]
     },
     "execution_count": 12,
     "metadata": {},
     "output_type": "execute_result"
    }
   ],
   "source": [
    "lista3=[]\n",
    "for i in range(30,91,3):\n",
    "    lista3.append(i)\n",
    "    \n",
    "print(lista3)\n",
    "np.array(lista3)"
   ]
  },
  {
   "cell_type": "code",
   "execution_count": null,
   "metadata": {
    "id": "TPCfZozTVWcL",
    "outputId": "a093d51b-6794-4a51-f2ce-3860e3c4e6fe"
   },
   "outputs": [
    {
     "data": {
      "text/plain": [
       "array([30, 33, 36, 39, 42, 45, 48, 51, 54, 57, 60, 63, 66, 69, 72, 75, 78,\n",
       "       81, 84, 87, 90])"
      ]
     },
     "execution_count": 10,
     "metadata": {},
     "output_type": "execute_result"
    }
   ],
   "source": []
  },
  {
   "cell_type": "markdown",
   "metadata": {
    "id": "NAngqVU0VWcM"
   },
   "source": [
    "#### 4. Cree una matriz de 5x5 con valores consecutivos que partan en 1"
   ]
  },
  {
   "cell_type": "code",
   "execution_count": 20,
   "metadata": {
    "id": "se2oDXW6VWcM"
   },
   "outputs": [
    {
     "data": {
      "text/plain": [
       "array([[ 1,  2,  3,  4,  5],\n",
       "       [ 6,  7,  8,  9, 10],\n",
       "       [11, 12, 13, 14, 15],\n",
       "       [16, 17, 18, 19, 20],\n",
       "       [21, 22, 23, 24, 25]])"
      ]
     },
     "execution_count": 20,
     "metadata": {},
     "output_type": "execute_result"
    }
   ],
   "source": [
    "matriz=np.zeros((5,5)).astype(int)\n",
    "matriz[0,:]=np.linspace(1,5,num=5)\n",
    "matriz[1,:]=np.linspace(6,10,num=5)\n",
    "matriz[2,:]=np.linspace(11,15,num=5)\n",
    "matriz[3,:]=np.linspace(16,20,num=5)\n",
    "matriz[4,:]=np.linspace(21,25,num=5)\n",
    "\n",
    "matriz"
   ]
  },
  {
   "cell_type": "code",
   "execution_count": null,
   "metadata": {
    "id": "1yf3F8qTVWcM",
    "outputId": "72588c3b-96d1-46c5-c2e5-a9fe7f13e71f"
   },
   "outputs": [
    {
     "data": {
      "text/plain": [
       "array([[ 1,  2,  3,  4,  5],\n",
       "       [ 6,  7,  8,  9, 10],\n",
       "       [11, 12, 13, 14, 15],\n",
       "       [16, 17, 18, 19, 20],\n",
       "       [21, 22, 23, 24, 25]])"
      ]
     },
     "execution_count": 4,
     "metadata": {},
     "output_type": "execute_result"
    }
   ],
   "source": []
  },
  {
   "cell_type": "markdown",
   "metadata": {
    "id": "hVjDUFVFVWcM"
   },
   "source": [
    "#### 5. Cree una matriz identidad de dimensiones 5x5"
   ]
  },
  {
   "cell_type": "code",
   "execution_count": 21,
   "metadata": {
    "id": "Yb1oujGPVWcM"
   },
   "outputs": [
    {
     "data": {
      "text/plain": [
       "array([[1., 0., 0., 0., 0.],\n",
       "       [0., 1., 0., 0., 0.],\n",
       "       [0., 0., 1., 0., 0.],\n",
       "       [0., 0., 0., 1., 0.],\n",
       "       [0., 0., 0., 0., 1.]])"
      ]
     },
     "execution_count": 21,
     "metadata": {},
     "output_type": "execute_result"
    }
   ],
   "source": [
    "matriz2=np.identity(5)\n",
    "matriz2"
   ]
  },
  {
   "cell_type": "code",
   "execution_count": null,
   "metadata": {
    "id": "_uBq6NP_VWcM",
    "outputId": "733623da-539c-4fec-bf76-0de000eb9890",
    "scrolled": true
   },
   "outputs": [
    {
     "data": {
      "text/plain": [
       "array([[1., 0., 0., 0., 0.],\n",
       "       [0., 1., 0., 0., 0.],\n",
       "       [0., 0., 1., 0., 0.],\n",
       "       [0., 0., 0., 1., 0.],\n",
       "       [0., 0., 0., 0., 1.]])"
      ]
     },
     "execution_count": 5,
     "metadata": {},
     "output_type": "execute_result"
    }
   ],
   "source": []
  },
  {
   "cell_type": "markdown",
   "metadata": {
    "id": "kCv8B773VWcM"
   },
   "source": [
    "#### 6. Cree una matriz como la siguiente utilizando multiplicación de arreglos"
   ]
  },
  {
   "cell_type": "code",
   "execution_count": 110,
   "metadata": {
    "id": "-8duB-GXVWcN"
   },
   "outputs": [
    {
     "ename": "TypeError",
     "evalue": "unsupported operand type(s) for ** or pow(): 'list' and 'int'",
     "output_type": "error",
     "traceback": [
      "\u001b[1;31m---------------------------------------------------------------------------\u001b[0m",
      "\u001b[1;31mTypeError\u001b[0m                                 Traceback (most recent call last)",
      "Cell \u001b[1;32mIn[110], line 2\u001b[0m\n\u001b[0;32m      1\u001b[0m arreglo1\u001b[38;5;241m=\u001b[39m[\u001b[38;5;241m1\u001b[39m,\u001b[38;5;241m2\u001b[39m,\u001b[38;5;241m3\u001b[39m,\u001b[38;5;241m4\u001b[39m,\u001b[38;5;241m5\u001b[39m]\n\u001b[1;32m----> 2\u001b[0m arr\u001b[38;5;241m=\u001b[39m\u001b[43marreglo1\u001b[49m\u001b[38;5;241;43m*\u001b[39;49m\u001b[38;5;241;43m*\u001b[39;49m\u001b[38;5;241;43m2\u001b[39;49m\n",
      "\u001b[1;31mTypeError\u001b[0m: unsupported operand type(s) for ** or pow(): 'list' and 'int'"
     ]
    }
   ],
   "source": []
  },
  {
   "cell_type": "code",
   "execution_count": null,
   "metadata": {
    "id": "8KZLR0zaVWcN",
    "outputId": "e8fefe37-9363-421b-ddaf-f69036039dcb"
   },
   "outputs": [
    {
     "data": {
      "text/plain": [
       "array([[ 1.,  0.,  0.,  0.,  0.],\n",
       "       [ 0.,  7.,  0.,  0.,  0.],\n",
       "       [ 0.,  0., 13.,  0.,  0.],\n",
       "       [ 0.,  0.,  0., 19.,  0.],\n",
       "       [ 0.,  0.,  0.,  0., 25.]])"
      ]
     },
     "execution_count": 6,
     "metadata": {},
     "output_type": "execute_result"
    }
   ],
   "source": []
  },
  {
   "cell_type": "markdown",
   "metadata": {
    "id": "Xkj6QKdaVWcN"
   },
   "source": [
    "#### 7. Genere un arreglo de 10 números aleatorios entre 1 millón y 90 millones"
   ]
  },
  {
   "cell_type": "code",
   "execution_count": 47,
   "metadata": {
    "id": "snlQMUepVWcN"
   },
   "outputs": [
    {
     "name": "stdout",
     "output_type": "stream",
     "text": [
      "[53793931 42075561  4264859  4214340 48172334 11467725 31837281 82068036\n",
      " 60976103 85240782]\n"
     ]
    }
   ],
   "source": [
    "a = np.random.randint(1e6, 9e7, size=10)\n",
    "print(a)"
   ]
  },
  {
   "cell_type": "code",
   "execution_count": null,
   "metadata": {
    "id": "uq9UhjlfVWcN",
    "outputId": "2bf8d3bc-0d95-4285-8d56-f0e3fd8abd38"
   },
   "outputs": [],
   "source": []
  },
  {
   "cell_type": "markdown",
   "metadata": {
    "id": "5zJ15Lr4VWcN"
   },
   "source": [
    "#### 8. Genere una matriz de 5x4 con números distribuidos de forma normal"
   ]
  },
  {
   "cell_type": "code",
   "execution_count": 48,
   "metadata": {
    "id": "5w57A_uAVWcN"
   },
   "outputs": [
    {
     "name": "stdout",
     "output_type": "stream",
     "text": [
      "[ 0.55673715 -0.48657408  0.34601486  0.09289086  0.86392632]\n"
     ]
    }
   ],
   "source": [
    "arr = np.random.randn(5)\n",
    "print(arr)"
   ]
  },
  {
   "cell_type": "code",
   "execution_count": null,
   "metadata": {
    "id": "eSf2f7wQVWcN",
    "outputId": "3ddcccf5-27ff-4591-e258-bcd99a8c7816",
    "scrolled": true
   },
   "outputs": [
    {
     "data": {
      "text/plain": [
       "array([[ 0.78539222,  0.07396051,  1.39921569, -1.08085886],\n",
       "       [-0.044366  ,  1.28389966,  1.68199233, -0.4534034 ],\n",
       "       [-1.27018571,  0.07075397, -0.50034694,  0.32015866],\n",
       "       [-0.15501072,  0.04617529, -0.73283463,  0.54221407],\n",
       "       [ 0.40287836,  0.04775223, -0.15975731, -0.66970302]])"
      ]
     },
     "execution_count": 23,
     "metadata": {},
     "output_type": "execute_result"
    }
   ],
   "source": []
  },
  {
   "cell_type": "markdown",
   "metadata": {
    "id": "DlqPhATCVWcN"
   },
   "source": [
    "#### 9. Genere una matriz tridimensional de 2x3x4 con números aleatorios enteros entre 1 y 9"
   ]
  },
  {
   "cell_type": "code",
   "execution_count": 60,
   "metadata": {
    "id": "t70w11QNVWcO"
   },
   "outputs": [
    {
     "ename": "ValueError",
     "evalue": "operands could not be broadcast together with shapes (2,3,4) (10,) ",
     "output_type": "error",
     "traceback": [
      "\u001b[1;31m---------------------------------------------------------------------------\u001b[0m",
      "\u001b[1;31mValueError\u001b[0m                                Traceback (most recent call last)",
      "Cell \u001b[1;32mIn[60], line 1\u001b[0m\n\u001b[1;32m----> 1\u001b[0m \u001b[43mnp\u001b[49m\u001b[38;5;241;43m.\u001b[39;49m\u001b[43mones\u001b[49m\u001b[43m(\u001b[49m\u001b[43m(\u001b[49m\u001b[38;5;241;43m2\u001b[39;49m\u001b[43m,\u001b[49m\u001b[38;5;241;43m3\u001b[39;49m\u001b[43m,\u001b[49m\u001b[38;5;241;43m4\u001b[39;49m\u001b[43m)\u001b[49m\u001b[43m)\u001b[49m\u001b[38;5;241;43m*\u001b[39;49m\u001b[43mnp\u001b[49m\u001b[38;5;241;43m.\u001b[39;49m\u001b[43mrandom\u001b[49m\u001b[38;5;241;43m.\u001b[39;49m\u001b[43mrandint\u001b[49m\u001b[43m(\u001b[49m\u001b[38;5;241;43m0\u001b[39;49m\u001b[43m,\u001b[49m\u001b[43m \u001b[49m\u001b[38;5;241;43m100\u001b[39;49m\u001b[43m,\u001b[49m\u001b[43m \u001b[49m\u001b[43msize\u001b[49m\u001b[38;5;241;43m=\u001b[39;49m\u001b[38;5;241;43m10\u001b[39;49m\u001b[43m)\u001b[49m\n",
      "\u001b[1;31mValueError\u001b[0m: operands could not be broadcast together with shapes (2,3,4) (10,) "
     ]
    }
   ],
   "source": []
  },
  {
   "cell_type": "code",
   "execution_count": null,
   "metadata": {
    "id": "Nr3GWIDuVWcO",
    "outputId": "db7e0de2-eb7e-4d17-8f89-016dfd5338c2"
   },
   "outputs": [],
   "source": []
  },
  {
   "cell_type": "markdown",
   "metadata": {
    "id": "jsCZ-xkBVWcO"
   },
   "source": [
    "#### 10. Genere la siguiente matriz"
   ]
  },
  {
   "cell_type": "code",
   "execution_count": 69,
   "metadata": {
    "id": "0r8VtrU7VWcO"
   },
   "outputs": [
    {
     "name": "stdout",
     "output_type": "stream",
     "text": [
      "[[0.1 0.2 0.3 0.4 0.5 0.6 0.7 0.8 0.9 1. ]\n",
      " [1.1 1.2 1.3 1.4 1.5 1.6 1.7 1.8 1.9 2. ]\n",
      " [2.1 2.2 2.3 2.4 2.5 2.6 2.7 2.8 2.9 3. ]\n",
      " [3.1 3.2 3.3 3.4 3.5 3.6 3.7 3.8 3.9 4. ]\n",
      " [4.1 4.2 4.3 4.4 4.5 4.6 4.7 4.8 4.9 5. ]]\n"
     ]
    },
    {
     "data": {
      "text/plain": [
       "array([[0.1, 0.2, 0.3, 0.4, 0.5, 0.6, 0.7, 0.8, 0.9, 1. ],\n",
       "       [1.1, 1.2, 1.3, 1.4, 1.5, 1.6, 1.7, 1.8, 1.9, 2. ],\n",
       "       [2.1, 2.2, 2.3, 2.4, 2.5, 2.6, 2.7, 2.8, 2.9, 3. ],\n",
       "       [3.1, 3.2, 3.3, 3.4, 3.5, 3.6, 3.7, 3.8, 3.9, 4. ],\n",
       "       [4.1, 4.2, 4.3, 4.4, 4.5, 4.6, 4.7, 4.8, 4.9, 5. ]])"
      ]
     },
     "execution_count": 69,
     "metadata": {},
     "output_type": "execute_result"
    }
   ],
   "source": [
    "matriz=np.zeros((5,10)).astype(int)\n",
    "matriz[0,:]=np.linspace(1,10,num=10)\n",
    "matriz[1,:]=np.linspace(11,20,num=10)\n",
    "matriz[2,:]=np.linspace(21,30,num=10)\n",
    "matriz[3,:]=np.linspace(31,40,num=10)\n",
    "matriz[4,:]=np.linspace(41,50,num=10)\n",
    "\n",
    "matriz=matriz*1/10\n",
    "print(matriz)\n",
    "np.array(matriz)"
   ]
  },
  {
   "cell_type": "code",
   "execution_count": null,
   "metadata": {
    "id": "2egQXUIdVWcO",
    "outputId": "1af830a7-60e8-4424-860c-f63b7c5f71c3"
   },
   "outputs": [
    {
     "data": {
      "text/plain": [
       "array([[0.1, 0.2, 0.3, 0.4, 0.5, 0.6, 0.7, 0.8, 0.9, 1. ],\n",
       "       [1.1, 1.2, 1.3, 1.4, 1.5, 1.6, 1.7, 1.8, 1.9, 2. ],\n",
       "       [2.1, 2.2, 2.3, 2.4, 2.5, 2.6, 2.7, 2.8, 2.9, 3. ],\n",
       "       [3.1, 3.2, 3.3, 3.4, 3.5, 3.6, 3.7, 3.8, 3.9, 4. ],\n",
       "       [4.1, 4.2, 4.3, 4.4, 4.5, 4.6, 4.7, 4.8, 4.9, 5. ]])"
      ]
     },
     "execution_count": 35,
     "metadata": {},
     "output_type": "execute_result"
    }
   ],
   "source": []
  },
  {
   "cell_type": "markdown",
   "metadata": {
    "id": "wIuhC5b5VWcO"
   },
   "source": [
    "#### 11. Cree un arreglo de 50 puntos linealmente espaciados entre -1 y 1"
   ]
  },
  {
   "cell_type": "code",
   "execution_count": 74,
   "metadata": {
    "id": "vKZg1S0bVWcO"
   },
   "outputs": [
    {
     "ename": "NameError",
     "evalue": "name 'random' is not defined",
     "output_type": "error",
     "traceback": [
      "\u001b[1;31m---------------------------------------------------------------------------\u001b[0m",
      "\u001b[1;31mNameError\u001b[0m                                 Traceback (most recent call last)",
      "Cell \u001b[1;32mIn[74], line 1\u001b[0m\n\u001b[1;32m----> 1\u001b[0m np\u001b[38;5;241m.\u001b[39mrandom\u001b[38;5;241m.\u001b[39mrandint(\u001b[38;5;241m-\u001b[39m\u001b[38;5;241m1.0\u001b[39m,\u001b[38;5;241m1.0\u001b[39m,\u001b[38;5;241m50\u001b[39m)\u001b[38;5;241m*\u001b[39m\u001b[43mrandom\u001b[49m\u001b[38;5;241m.\u001b[39mrandom()\n",
      "\u001b[1;31mNameError\u001b[0m: name 'random' is not defined"
     ]
    }
   ],
   "source": []
  },
  {
   "cell_type": "code",
   "execution_count": null,
   "metadata": {
    "id": "6u-bzV96VWcO",
    "outputId": "6737e4fd-6d89-4437-9eaa-712ed96496c9",
    "scrolled": true
   },
   "outputs": [],
   "source": []
  },
  {
   "cell_type": "markdown",
   "metadata": {
    "id": "hcy6sAwFVWcO"
   },
   "source": [
    "#### 12. Cree un arreglo con al menos 50 puntos lineamente espaciados entre -1 y 1 que contenga el valor cero"
   ]
  },
  {
   "cell_type": "code",
   "execution_count": null,
   "metadata": {
    "id": "Ii_krxqfVWcO"
   },
   "outputs": [],
   "source": []
  },
  {
   "cell_type": "code",
   "execution_count": null,
   "metadata": {
    "id": "8RARhzMSVWcO",
    "outputId": "4b8eb009-f5ea-4365-ac8a-6e2865be9fcf",
    "scrolled": true
   },
   "outputs": [
    {
     "data": {
      "text/plain": [
       "array([-1.  , -0.96, -0.92, -0.88, -0.84, -0.8 , -0.76, -0.72, -0.68,\n",
       "       -0.64, -0.6 , -0.56, -0.52, -0.48, -0.44, -0.4 , -0.36, -0.32,\n",
       "       -0.28, -0.24, -0.2 , -0.16, -0.12, -0.08, -0.04,  0.  ,  0.04,\n",
       "        0.08,  0.12,  0.16,  0.2 ,  0.24,  0.28,  0.32,  0.36,  0.4 ,\n",
       "        0.44,  0.48,  0.52,  0.56,  0.6 ,  0.64,  0.68,  0.72,  0.76,\n",
       "        0.8 ,  0.84,  0.88,  0.92,  0.96,  1.  ])"
      ]
     },
     "execution_count": 38,
     "metadata": {},
     "output_type": "execute_result"
    }
   ],
   "source": []
  },
  {
   "cell_type": "markdown",
   "metadata": {
    "id": "p-JjIFfoVWcP"
   },
   "source": [
    "#### Para los siguientes ejercios considere la siguiente matriz mat de 5x10"
   ]
  },
  {
   "cell_type": "code",
   "execution_count": 77,
   "metadata": {
    "id": "g9bLHtFRVWcP",
    "outputId": "3e2e77b0-b856-43be-cbf1-40b4a508b6f0"
   },
   "outputs": [
    {
     "data": {
      "text/plain": [
       "array([[ 1,  2,  3,  4,  5,  6,  7,  8,  9, 10],\n",
       "       [11, 12, 13, 14, 15, 16, 17, 18, 19, 20],\n",
       "       [21, 22, 23, 24, 25, 26, 27, 28, 29, 30],\n",
       "       [31, 32, 33, 34, 35, 36, 37, 38, 39, 40],\n",
       "       [41, 42, 43, 44, 45, 46, 47, 48, 49, 50]])"
      ]
     },
     "execution_count": 77,
     "metadata": {},
     "output_type": "execute_result"
    }
   ],
   "source": [
    "mat = np.arange(1,51).reshape(5,10)\n",
    "mat"
   ]
  },
  {
   "cell_type": "markdown",
   "metadata": {
    "id": "FzOjbiATVWcP"
   },
   "source": [
    "#### 13. A partir de la matriz mat, cree dos matrices de 5x5, la primera de ellas con las primeras 5 columnas, y la segunda matriz con las columnas restantes"
   ]
  },
  {
   "cell_type": "code",
   "execution_count": 82,
   "metadata": {
    "id": "_HT_xPHNVWcP"
   },
   "outputs": [
    {
     "data": {
      "text/plain": [
       "array([[ 1,  2,  3,  4,  5],\n",
       "       [11, 12, 13, 14, 15],\n",
       "       [21, 22, 23, 24, 25],\n",
       "       [31, 32, 33, 34, 35],\n",
       "       [41, 42, 43, 44, 45]])"
      ]
     },
     "execution_count": 82,
     "metadata": {},
     "output_type": "execute_result"
    }
   ],
   "source": [
    "mat1=mat[0:5,0:5]\n",
    "mat1\n",
    "\n"
   ]
  },
  {
   "cell_type": "code",
   "execution_count": 87,
   "metadata": {},
   "outputs": [
    {
     "data": {
      "text/plain": [
       "array([[ 6,  7,  8,  9, 10],\n",
       "       [16, 17, 18, 19, 20],\n",
       "       [26, 27, 28, 29, 30],\n",
       "       [36, 37, 38, 39, 40],\n",
       "       [46, 47, 48, 49, 50]])"
      ]
     },
     "execution_count": 87,
     "metadata": {},
     "output_type": "execute_result"
    }
   ],
   "source": [
    "mat2=mat[0:5,5:10]\n",
    "mat2"
   ]
  },
  {
   "cell_type": "code",
   "execution_count": null,
   "metadata": {
    "id": "K-cDhnczVWcP",
    "outputId": "a1545183-7438-4dd1-9951-f4c8df1e086b"
   },
   "outputs": [
    {
     "name": "stdout",
     "output_type": "stream",
     "text": [
      "mat1=\n",
      "[[ 1  2  3  4  5]\n",
      " [11 12 13 14 15]\n",
      " [21 22 23 24 25]\n",
      " [31 32 33 34 35]\n",
      " [41 42 43 44 45]] \n",
      "\n",
      "mat2=\n",
      "[[ 6  7  8  9 10]\n",
      " [16 17 18 19 20]\n",
      " [26 27 28 29 30]\n",
      " [36 37 38 39 40]\n",
      " [46 47 48 49 50]]\n"
     ]
    }
   ],
   "source": []
  },
  {
   "cell_type": "markdown",
   "metadata": {
    "id": "ZLIsT0spVWcP"
   },
   "source": [
    "#### 14. Entregue un arreglo con las sumas de las columnas de mat1"
   ]
  },
  {
   "cell_type": "code",
   "execution_count": 103,
   "metadata": {
    "id": "gQgG2ehHVWcP"
   },
   "outputs": [
    {
     "name": "stdout",
     "output_type": "stream",
     "text": [
      "[105 110 115 120 125]\n"
     ]
    }
   ],
   "source": [
    "\n",
    "lista1=print(mat1[0,:5]+mat1[1,:5]+mat1[2,:5]+mat1[3,:5]+mat1[4,:5])\n",
    "lista1\n",
    "    "
   ]
  },
  {
   "cell_type": "code",
   "execution_count": null,
   "metadata": {
    "id": "RAImUYiNVWcP",
    "outputId": "6ae9a7fd-dad7-4695-8866-a9bf2f7fd6f1"
   },
   "outputs": [],
   "source": []
  },
  {
   "cell_type": "markdown",
   "metadata": {
    "id": "t3CRJjDNVWcP"
   },
   "source": [
    "#### 15. Haga una multiplicación elemento a elemento entre mat1 y mat2"
   ]
  },
  {
   "cell_type": "code",
   "execution_count": 105,
   "metadata": {
    "id": "VxelgX33VWcP"
   },
   "outputs": [
    {
     "data": {
      "text/plain": [
       "array([[   6,   14,   24,   36,   50],\n",
       "       [ 176,  204,  234,  266,  300],\n",
       "       [ 546,  594,  644,  696,  750],\n",
       "       [1116, 1184, 1254, 1326, 1400],\n",
       "       [1886, 1974, 2064, 2156, 2250]])"
      ]
     },
     "execution_count": 105,
     "metadata": {},
     "output_type": "execute_result"
    }
   ],
   "source": [
    "mult=mat1*mat2\n",
    "mult"
   ]
  },
  {
   "cell_type": "code",
   "execution_count": null,
   "metadata": {
    "id": "o2HNA9YlVWcP",
    "outputId": "4b2d24d4-3c74-4d71-cb1d-ba3217cc2490"
   },
   "outputs": [
    {
     "data": {
      "text/plain": [
       "array([[   6,   14,   24,   36,   50],\n",
       "       [ 176,  204,  234,  266,  300],\n",
       "       [ 546,  594,  644,  696,  750],\n",
       "       [1116, 1184, 1254, 1326, 1400],\n",
       "       [1886, 1974, 2064, 2156, 2250]])"
      ]
     },
     "execution_count": 62,
     "metadata": {},
     "output_type": "execute_result"
    }
   ],
   "source": []
  },
  {
   "cell_type": "markdown",
   "metadata": {
    "id": "dMwVQDE7VWcP"
   },
   "source": [
    "#### 16. Entregue una matriz con la diagonal de la matriz obtenida en el punto anterior"
   ]
  },
  {
   "cell_type": "code",
   "execution_count": 106,
   "metadata": {
    "id": "9Bky0RzKVWcQ"
   },
   "outputs": [
    {
     "data": {
      "text/plain": [
       "array([[   6,    0,    0,    0,    0],\n",
       "       [   0,  204,    0,    0,    0],\n",
       "       [   0,    0,  644,    0,    0],\n",
       "       [   0,    0,    0, 1326,    0],\n",
       "       [   0,    0,    0,    0, 2250]])"
      ]
     },
     "execution_count": 106,
     "metadata": {},
     "output_type": "execute_result"
    }
   ],
   "source": [
    "a=np.identity(5).astype(int)*mult\n",
    "a"
   ]
  },
  {
   "cell_type": "code",
   "execution_count": null,
   "metadata": {
    "id": "SxPpuGnWVWcQ",
    "outputId": "70f7236c-a5f6-4d04-c0c0-70e7f0652a77"
   },
   "outputs": [
    {
     "data": {
      "text/plain": [
       "array([[   6.,    0.,    0.,    0.,    0.],\n",
       "       [   0.,  204.,    0.,    0.,    0.],\n",
       "       [   0.,    0.,  644.,    0.,    0.],\n",
       "       [   0.,    0.,    0., 1326.,    0.],\n",
       "       [   0.,    0.,    0.,    0., 2250.]])"
      ]
     },
     "execution_count": 63,
     "metadata": {},
     "output_type": "execute_result"
    }
   ],
   "source": []
  },
  {
   "cell_type": "markdown",
   "metadata": {
    "id": "aDbu4cpaVWcQ"
   },
   "source": [
    "#### 17. Realice una multiplicación matricial entre m1 y m2 (utilice el método dot)"
   ]
  },
  {
   "cell_type": "code",
   "execution_count": 107,
   "metadata": {
    "id": "sGCmVwDyVWcQ"
   },
   "outputs": [
    {
     "data": {
      "text/plain": [
       "array([[ 490,  505,  520,  535,  550],\n",
       "       [1790, 1855, 1920, 1985, 2050],\n",
       "       [3090, 3205, 3320, 3435, 3550],\n",
       "       [4390, 4555, 4720, 4885, 5050],\n",
       "       [5690, 5905, 6120, 6335, 6550]])"
      ]
     },
     "execution_count": 107,
     "metadata": {},
     "output_type": "execute_result"
    }
   ],
   "source": [
    "b=np.dot(mat1,mat2)\n",
    "b"
   ]
  },
  {
   "cell_type": "code",
   "execution_count": null,
   "metadata": {
    "id": "G7KjzaZiVWcQ",
    "outputId": "05dc8a2c-a328-45c1-e538-fb1e594f125a",
    "scrolled": true
   },
   "outputs": [
    {
     "data": {
      "text/plain": [
       "array([[ 490,  505,  520,  535,  550],\n",
       "       [1790, 1855, 1920, 1985, 2050],\n",
       "       [3090, 3205, 3320, 3435, 3550],\n",
       "       [4390, 4555, 4720, 4885, 5050],\n",
       "       [5690, 5905, 6120, 6335, 6550]])"
      ]
     },
     "execution_count": 64,
     "metadata": {},
     "output_type": "execute_result"
    }
   ],
   "source": []
  },
  {
   "cell_type": "markdown",
   "metadata": {
    "id": "-FXvgIa7VWcQ"
   },
   "source": [
    "#### 18. Haga una multiplicación matricial entre m1 y la matriz identidad"
   ]
  },
  {
   "cell_type": "code",
   "execution_count": 109,
   "metadata": {
    "id": "sqlK6jPMVWcQ"
   },
   "outputs": [
    {
     "data": {
      "text/plain": [
       "array([[ 1,  2,  3,  4,  5],\n",
       "       [11, 12, 13, 14, 15],\n",
       "       [21, 22, 23, 24, 25],\n",
       "       [31, 32, 33, 34, 35],\n",
       "       [41, 42, 43, 44, 45]])"
      ]
     },
     "execution_count": 109,
     "metadata": {},
     "output_type": "execute_result"
    }
   ],
   "source": [
    "c=np.ones(5).astype(int)*mat1\n",
    "c"
   ]
  },
  {
   "cell_type": "code",
   "execution_count": null,
   "metadata": {
    "id": "BFbIXu-ZVWcQ",
    "outputId": "cdde1725-c41b-498d-9b96-a2fd7da594e1"
   },
   "outputs": [
    {
     "data": {
      "text/plain": [
       "array([[ 1.,  2.,  3.,  4.,  5.],\n",
       "       [11., 12., 13., 14., 15.],\n",
       "       [21., 22., 23., 24., 25.],\n",
       "       [31., 32., 33., 34., 35.],\n",
       "       [41., 42., 43., 44., 45.]])"
      ]
     },
     "execution_count": 66,
     "metadata": {},
     "output_type": "execute_result"
    }
   ],
   "source": []
  },
  {
   "cell_type": "markdown",
   "metadata": {
    "id": "psPuXvWfVWcQ"
   },
   "source": [
    "---"
   ]
  }
 ],
 "metadata": {
  "colab": {
   "provenance": []
  },
  "kernelspec": {
   "display_name": "Python 3 (ipykernel)",
   "language": "python",
   "name": "python3"
  },
  "language_info": {
   "codemirror_mode": {
    "name": "ipython",
    "version": 3
   },
   "file_extension": ".py",
   "mimetype": "text/x-python",
   "name": "python",
   "nbconvert_exporter": "python",
   "pygments_lexer": "ipython3",
   "version": "3.10.9"
  }
 },
 "nbformat": 4,
 "nbformat_minor": 1
}
