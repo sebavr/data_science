{
 "cells": [
  {
   "cell_type": "markdown",
   "metadata": {},
   "source": [
    "---\n",
    "# Libreria Numpy\n",
    "- Creación de arreglos numpy\n",
    "- Funciones preconstruidas de creación de arreglos\n",
    "- Métodos útiles de arreglos\n",
    "- Indexación y selección\n",
    "- Referencia y copia de un arreglo\n",
    "- Operaciones entre arreglos\n",
    "- Aplicando funciones a un arreglo"
   ]
  },
  {
   "cell_type": "code",
   "execution_count": 1,
   "metadata": {},
   "outputs": [],
   "source": [
    "import numpy as np"
   ]
  },
  {
   "cell_type": "markdown",
   "metadata": {},
   "source": [
    "### Creación de arreglos numpy"
   ]
  },
  {
   "cell_type": "code",
   "execution_count": 3,
   "metadata": {},
   "outputs": [
    {
     "data": {
      "text/plain": [
       "[1, 2, 3]"
      ]
     },
     "execution_count": 3,
     "metadata": {},
     "output_type": "execute_result"
    }
   ],
   "source": [
    "mi_lista = [1, 2, 3]\n",
    "mi_lista"
   ]
  },
  {
   "cell_type": "code",
   "execution_count": 6,
   "metadata": {},
   "outputs": [
    {
     "data": {
      "text/plain": [
       "array([1, 2, 3])"
      ]
     },
     "execution_count": 6,
     "metadata": {},
     "output_type": "execute_result"
    }
   ],
   "source": [
    "mi_np_array = np.array(mi_lista)\n",
    "mi_np_array"
   ]
  },
  {
   "cell_type": "code",
   "execution_count": 11,
   "metadata": {},
   "outputs": [
    {
     "name": "stdout",
     "output_type": "stream",
     "text": [
      "<class 'numpy.ndarray'>\n",
      "int32\n"
     ]
    }
   ],
   "source": [
    "print(type(mi_np_array))\n",
    "print(mi_np_array.dtype)"
   ]
  },
  {
   "cell_type": "code",
   "execution_count": 12,
   "metadata": {},
   "outputs": [
    {
     "data": {
      "text/plain": [
       "[[1, 2, 3], [4, 5, 6], [7, 8, 9]]"
      ]
     },
     "execution_count": 12,
     "metadata": {},
     "output_type": "execute_result"
    }
   ],
   "source": [
    "# creacion de una matriz\n",
    "mi_matriz = [[1,2,3], [4,5,6], [7,8,9]]\n",
    "mi_matriz"
   ]
  },
  {
   "cell_type": "code",
   "execution_count": 13,
   "metadata": {},
   "outputs": [
    {
     "data": {
      "text/plain": [
       "array([[1, 2, 3],\n",
       "       [4, 5, 6],\n",
       "       [7, 8, 9]])"
      ]
     },
     "execution_count": 13,
     "metadata": {},
     "output_type": "execute_result"
    }
   ],
   "source": [
    "mi_matriz_np = np.array(mi_matriz)\n",
    "mi_matriz_np"
   ]
  },
  {
   "cell_type": "markdown",
   "metadata": {},
   "source": [
    "### Funciones preconstruidas para creación"
   ]
  },
  {
   "cell_type": "code",
   "execution_count": 16,
   "metadata": {},
   "outputs": [
    {
     "name": "stdout",
     "output_type": "stream",
     "text": [
      "[0 1 2 3 4 5 6 7 8 9]\n",
      "[10 11 12 13 14 15 16 17 18 19]\n",
      "[10 12 14 16 18]\n"
     ]
    }
   ],
   "source": [
    "# rango de valores de 0 a 10\n",
    "arr1 = np.arange(10)\n",
    "print(arr1)\n",
    "\n",
    "# rango de valores entre 10 y 20\n",
    "arr1 = np.arange(10,20)\n",
    "print(arr1)\n",
    "\n",
    "# rango de valores entre 10 y 20 con incremento 2\n",
    "arr1 = np.arange(10,20,2)\n",
    "print(arr1)"
   ]
  },
  {
   "cell_type": "code",
   "execution_count": 18,
   "metadata": {},
   "outputs": [
    {
     "name": "stdout",
     "output_type": "stream",
     "text": [
      "[0. 0. 0.]\n",
      "[[0. 0. 0. 0.]\n",
      " [0. 0. 0. 0.]\n",
      " [0. 0. 0. 0.]]\n"
     ]
    }
   ],
   "source": [
    "# arreglo de ceros\n",
    "arr = np.zeros(3)\n",
    "print(arr)\n",
    "\n",
    "# matriz de ceros\n",
    "arr = np.zeros((3,4))\n",
    "print(arr)"
   ]
  },
  {
   "cell_type": "code",
   "execution_count": 19,
   "metadata": {},
   "outputs": [
    {
     "name": "stdout",
     "output_type": "stream",
     "text": [
      "[1. 1. 1.]\n",
      "[[1. 1. 1. 1.]\n",
      " [1. 1. 1. 1.]\n",
      " [1. 1. 1. 1.]]\n"
     ]
    }
   ],
   "source": [
    "# arreglo de unos\n",
    "arr = np.ones(3)\n",
    "print(arr)\n",
    "\n",
    "arr = np.ones((3,4))\n",
    "print(arr)"
   ]
  },
  {
   "cell_type": "code",
   "execution_count": 22,
   "metadata": {},
   "outputs": [
    {
     "name": "stdout",
     "output_type": "stream",
     "text": [
      "[0.   0.25 0.5  0.75 1.  ]\n",
      "[ 0.          0.52631579  1.05263158  1.57894737  2.10526316  2.63157895\n",
      "  3.15789474  3.68421053  4.21052632  4.73684211  5.26315789  5.78947368\n",
      "  6.31578947  6.84210526  7.36842105  7.89473684  8.42105263  8.94736842\n",
      "  9.47368421 10.        ]\n"
     ]
    }
   ],
   "source": [
    "# vector con distribución de puntos\n",
    "arr = np.linspace(0,1,5)\n",
    "print(arr)\n",
    "\n",
    "arr = np.linspace(0,10,20)\n",
    "print(arr)"
   ]
  },
  {
   "cell_type": "code",
   "execution_count": 24,
   "metadata": {},
   "outputs": [
    {
     "name": "stdout",
     "output_type": "stream",
     "text": [
      "[[1. 0. 0. 0. 0.]\n",
      " [0. 1. 0. 0. 0.]\n",
      " [0. 0. 1. 0. 0.]\n",
      " [0. 0. 0. 1. 0.]\n",
      " [0. 0. 0. 0. 1.]]\n"
     ]
    }
   ],
   "source": [
    "# matriz identidad\n",
    "arr = np.eye(5)\n",
    "print(arr)"
   ]
  },
  {
   "cell_type": "code",
   "execution_count": 28,
   "metadata": {},
   "outputs": [
    {
     "name": "stdout",
     "output_type": "stream",
     "text": [
      "[0.1858732  0.74181863 0.2716007  0.83155987]\n",
      "[[0.71544582 0.75768507 0.86869258]\n",
      " [0.2304983  0.73961053 0.03656283]\n",
      " [0.89987351 0.0763334  0.4591293 ]]\n"
     ]
    }
   ],
   "source": [
    "# arreglos con valores aleatoreos\n",
    "arr = np.random.rand(4)\n",
    "print(arr)\n",
    "\n",
    "arr = np.random.rand(3,3)\n",
    "print(arr)"
   ]
  },
  {
   "cell_type": "code",
   "execution_count": 29,
   "metadata": {},
   "outputs": [
    {
     "name": "stdout",
     "output_type": "stream",
     "text": [
      "85\n",
      "[82 72 45 35 69 44 35 42 41 78]\n"
     ]
    }
   ],
   "source": [
    "# entero aleatoreo entre 1 y 100\n",
    "arr = np.random.randint(1,100)\n",
    "print(arr)\n",
    "\n",
    "# arreglo de enteros aleatoreos entre 1 y 100\n",
    "arr = np.random.randint(1, 100, 10)\n",
    "print(arr)"
   ]
  },
  {
   "cell_type": "code",
   "execution_count": 31,
   "metadata": {},
   "outputs": [
    {
     "name": "stdout",
     "output_type": "stream",
     "text": [
      "[-0.18100626 -1.0573989  -0.20052464 -1.72537727 -0.57814916]\n"
     ]
    }
   ],
   "source": [
    "# valores aleatoreos distribuidos normalmente\n",
    "arr = np.random.randn(5)\n",
    "print(arr)"
   ]
  },
  {
   "cell_type": "markdown",
   "metadata": {},
   "source": [
    "### Métodos útiles de arreglos"
   ]
  },
  {
   "cell_type": "code",
   "execution_count": 35,
   "metadata": {},
   "outputs": [
    {
     "name": "stdout",
     "output_type": "stream",
     "text": [
      "[ 0  1  2  3  4  5  6  7  8  9 10 11 12 13 14 15 16 17 18 19 20 21 22 23\n",
      " 24]\n",
      "[[ 0  1  2  3  4]\n",
      " [ 5  6  7  8  9]\n",
      " [10 11 12 13 14]\n",
      " [15 16 17 18 19]\n",
      " [20 21 22 23 24]]\n",
      "(5, 5)\n"
     ]
    }
   ],
   "source": [
    "# redimensionamiento de un arreglo\n",
    "arr = np.arange(25)\n",
    "print(arr)\n",
    "\n",
    "m = arr.reshape(5,5)\n",
    "print(m)\n",
    "\n",
    "# dimensionalidad del arreglo\n",
    "print(m.shape)"
   ]
  },
  {
   "cell_type": "code",
   "execution_count": 36,
   "metadata": {},
   "outputs": [
    {
     "ename": "ValueError",
     "evalue": "cannot reshape array of size 25 into shape (4,3)",
     "output_type": "error",
     "traceback": [
      "\u001b[1;31m---------------------------------------------------------------------------\u001b[0m",
      "\u001b[1;31mValueError\u001b[0m                                Traceback (most recent call last)",
      "\u001b[1;32m<ipython-input-36-c902841b18ac>\u001b[0m in \u001b[0;36m<module>\u001b[1;34m\u001b[0m\n\u001b[0;32m      1\u001b[0m \u001b[1;31m# redimensionamiento fallido\u001b[0m\u001b[1;33m\u001b[0m\u001b[1;33m\u001b[0m\u001b[1;33m\u001b[0m\u001b[0m\n\u001b[1;32m----> 2\u001b[1;33m \u001b[0mm\u001b[0m \u001b[1;33m=\u001b[0m \u001b[0marr\u001b[0m\u001b[1;33m.\u001b[0m\u001b[0mreshape\u001b[0m\u001b[1;33m(\u001b[0m\u001b[1;36m4\u001b[0m\u001b[1;33m,\u001b[0m\u001b[1;36m3\u001b[0m\u001b[1;33m)\u001b[0m\u001b[1;33m\u001b[0m\u001b[1;33m\u001b[0m\u001b[0m\n\u001b[0m",
      "\u001b[1;31mValueError\u001b[0m: cannot reshape array of size 25 into shape (4,3)"
     ]
    }
   ],
   "source": [
    "# redimensionamiento fallido\n",
    "m = arr.reshape(4,3)"
   ]
  },
  {
   "cell_type": "code",
   "execution_count": 43,
   "metadata": {},
   "outputs": [
    {
     "name": "stdout",
     "output_type": "stream",
     "text": [
      "[1 3 5 4 2 0]\n",
      "5\n",
      "0\n",
      "2\n",
      "5\n"
     ]
    }
   ],
   "source": [
    "arr = np.array([1,3,5,4,2,0])\n",
    "print(arr)\n",
    "\n",
    "# máximo valor de un arreglo\n",
    "print(arr.max())\n",
    "\n",
    "# mínimo valor de un arreglo\n",
    "print(arr.min())\n",
    "\n",
    "# indice del valor maximo\n",
    "print(arr.argmax())\n",
    "\n",
    "# indice del valor minimo\n",
    "print(arr.argmin())"
   ]
  },
  {
   "cell_type": "markdown",
   "metadata": {},
   "source": [
    "### Indexación y selección"
   ]
  },
  {
   "cell_type": "code",
   "execution_count": 59,
   "metadata": {},
   "outputs": [
    {
     "name": "stdout",
     "output_type": "stream",
     "text": [
      "0\n"
     ]
    }
   ],
   "source": [
    "arr = np.arange(10)\n",
    "\n",
    "# selección por indice\n",
    "print(arr[0])"
   ]
  },
  {
   "cell_type": "code",
   "execution_count": 60,
   "metadata": {},
   "outputs": [
    {
     "name": "stdout",
     "output_type": "stream",
     "text": [
      "[3 4]\n",
      "[3 4 5 6 7 8 9]\n",
      "[0 1 2 3 4]\n"
     ]
    }
   ],
   "source": [
    "# seleccion de rango\n",
    "print(arr[3:5])\n",
    "\n",
    "print(arr[3:])\n",
    "print(arr[:5])"
   ]
  },
  {
   "cell_type": "code",
   "execution_count": 62,
   "metadata": {},
   "outputs": [
    {
     "name": "stdout",
     "output_type": "stream",
     "text": [
      "[100 100 100   3   4   5   6   7   8   9]\n",
      "[100 100 100 100 100   5   6   7   8   9]\n"
     ]
    }
   ],
   "source": [
    "# asignar un valor\n",
    "arr[0] = 100\n",
    "\n",
    "print(arr)\n",
    "\n",
    "# asignar un rango de valores\n",
    "arr[:5] = 100\n",
    "print(arr)"
   ]
  },
  {
   "cell_type": "code",
   "execution_count": 63,
   "metadata": {},
   "outputs": [
    {
     "name": "stdout",
     "output_type": "stream",
     "text": [
      "[[0 1 2]\n",
      " [3 4 5]\n",
      " [6 7 8]]\n",
      "3\n",
      "3\n",
      "[[4 5]\n",
      " [7 8]]\n"
     ]
    }
   ],
   "source": [
    "# seleccion en una matriz\n",
    "m = np.arange(9).reshape(3,3)\n",
    "print(m)\n",
    "\n",
    "# seleccionar un elemento\n",
    "print(m[1][0])\n",
    "print(m[1,0])\n",
    "\n",
    "# seleccionar un rango de elementos\n",
    "print(m[1:3,1:3])"
   ]
  },
  {
   "cell_type": "code",
   "execution_count": 66,
   "metadata": {},
   "outputs": [
    {
     "name": "stdout",
     "output_type": "stream",
     "text": [
      "[ 0  1  2  3  4  5  6  7  8  9 10]\n",
      "[False False False False False False  True  True  True  True  True]\n",
      "[ 6  7  8  9 10]\n"
     ]
    }
   ],
   "source": [
    "# seleccion condicional\n",
    "arr = np.arange(0,11)\n",
    "print(arr)\n",
    "\n",
    "print(arr > 5)\n",
    "\n",
    "print(arr[arr > 5])"
   ]
  },
  {
   "cell_type": "code",
   "execution_count": 8,
   "metadata": {},
   "outputs": [
    {
     "data": {
      "text/plain": [
       "array([[  0,   2,   4,   6,   8,  10,  12,  14],\n",
       "       [ 16,  18,  20,  22,  24,  26,  28,  30],\n",
       "       [ 32,  34,  36,  38,  40,  42,  44,  46],\n",
       "       [ 48,  50,  52,  54,  56,  58,  60,  62],\n",
       "       [ 64,  66,  68,  70,  72,  74,  76,  78],\n",
       "       [ 80,  82,  84,  86,  88,  90,  92,  94],\n",
       "       [ 96,  98, 100, 102, 104, 106, 108, 110],\n",
       "       [112, 114, 116, 118, 120, 122, 124, 126],\n",
       "       [128, 130, 132, 134, 136, 138, 140, 142],\n",
       "       [144, 146, 148, 150, 152, 154, 156, 158]])"
      ]
     },
     "execution_count": 8,
     "metadata": {},
     "output_type": "execute_result"
    }
   ],
   "source": [
    "# selección en una matriz numpy\n",
    "arr = np.arange(0,160,2).reshape(10,8)\n",
    "arr"
   ]
  },
  {
   "cell_type": "code",
   "execution_count": 9,
   "metadata": {},
   "outputs": [
    {
     "data": {
      "text/plain": [
       "array([[100, 102, 104, 106, 108],\n",
       "       [116, 118, 120, 122, 124],\n",
       "       [132, 134, 136, 138, 140]])"
      ]
     },
     "execution_count": 9,
     "metadata": {},
     "output_type": "execute_result"
    }
   ],
   "source": [
    "arr[6:9,2:7]"
   ]
  },
  {
   "cell_type": "code",
   "execution_count": null,
   "metadata": {},
   "outputs": [],
   "source": []
  },
  {
   "cell_type": "markdown",
   "metadata": {},
   "source": [
    "### Referencia y copia"
   ]
  },
  {
   "cell_type": "code",
   "execution_count": 12,
   "metadata": {},
   "outputs": [
    {
     "name": "stdout",
     "output_type": "stream",
     "text": [
      "[100 110 120 130 140 150 160 170 180 190]\n"
     ]
    }
   ],
   "source": [
    "# el problema de la referencia\n",
    "arr = np.arange(100,200,10)\n",
    "print(arr)"
   ]
  },
  {
   "cell_type": "code",
   "execution_count": 13,
   "metadata": {},
   "outputs": [
    {
     "name": "stdout",
     "output_type": "stream",
     "text": [
      "[100 110 120 130 140]\n"
     ]
    }
   ],
   "source": [
    "# tomamos un subset a partir del arreglo definido\n",
    "subset = arr[:5]\n",
    "print(subset)"
   ]
  },
  {
   "cell_type": "code",
   "execution_count": 14,
   "metadata": {},
   "outputs": [
    {
     "name": "stdout",
     "output_type": "stream",
     "text": [
      "[0 0 0 0 0]\n"
     ]
    }
   ],
   "source": [
    "# modificamos los elementos del subset\n",
    "subset[:] = 0\n",
    "print(subset)"
   ]
  },
  {
   "cell_type": "code",
   "execution_count": 15,
   "metadata": {},
   "outputs": [
    {
     "name": "stdout",
     "output_type": "stream",
     "text": [
      "[  0   0   0   0   0 150 160 170 180 190]\n"
     ]
    }
   ],
   "source": [
    "# se modifica el arreglo original!!!!\n",
    "print(arr)"
   ]
  },
  {
   "cell_type": "code",
   "execution_count": 16,
   "metadata": {},
   "outputs": [
    {
     "name": "stdout",
     "output_type": "stream",
     "text": [
      "[100 110 120 130 140 150 160 170 180 190]\n"
     ]
    }
   ],
   "source": [
    "# copia de un arreglo\n",
    "arr = np.arange(100,200,10)\n",
    "print(arr)"
   ]
  },
  {
   "cell_type": "code",
   "execution_count": 17,
   "metadata": {},
   "outputs": [
    {
     "name": "stdout",
     "output_type": "stream",
     "text": [
      "[100 110 120 130 140]\n"
     ]
    }
   ],
   "source": [
    "# copiamos el objeto\n",
    "subset = arr[:5].copy()\n",
    "print(subset)"
   ]
  },
  {
   "cell_type": "code",
   "execution_count": 18,
   "metadata": {},
   "outputs": [
    {
     "name": "stdout",
     "output_type": "stream",
     "text": [
      "[0 0 0 0 0]\n"
     ]
    }
   ],
   "source": [
    "# modificamos el subset\n",
    "subset[:] = 0\n",
    "print(subset)"
   ]
  },
  {
   "cell_type": "code",
   "execution_count": 19,
   "metadata": {},
   "outputs": [
    {
     "name": "stdout",
     "output_type": "stream",
     "text": [
      "[100 110 120 130 140 150 160 170 180 190]\n"
     ]
    }
   ],
   "source": [
    "# el arreglo original no es alterado\n",
    "print(arr)"
   ]
  },
  {
   "cell_type": "markdown",
   "metadata": {},
   "source": [
    "### Operaciones entre arreglos"
   ]
  },
  {
   "cell_type": "code",
   "execution_count": 38,
   "metadata": {},
   "outputs": [
    {
     "name": "stdout",
     "output_type": "stream",
     "text": [
      "Arreglo 1: [ 1  3  5  7  9 11 13 15 17 19] \n",
      "\n",
      "Arreglo 2: [11 14 17 20 23 26 29 32 35 38] \n",
      "\n",
      "Adición: [12 17 22 27 32 37 42 47 52 57] \n",
      "\n",
      "Sustracción: [10 11 12 13 14 15 16 17 18 19] \n",
      "\n",
      "Multiplicación: [ 11  42  85 140 207 286 377 480 595 722] \n",
      "\n",
      "División: [0.09090909 0.21428571 0.29411765 0.35       0.39130435 0.42307692\n",
      " 0.44827586 0.46875    0.48571429 0.5       ] \n",
      "\n"
     ]
    }
   ],
   "source": [
    "arr1 = np.arange(1,20,2)\n",
    "arr2 = np.arange(11,40,3)\n",
    "\n",
    "print('Arreglo 1:',arr1,'\\n')\n",
    "print('Arreglo 2:',arr2,'\\n')\n",
    "\n",
    "# suma de arreglos\n",
    "print('Adición:', arr1 + arr2, '\\n')\n",
    "\n",
    "# resta\n",
    "print('Sustracción:',arr2 - arr1,'\\n')\n",
    "\n",
    "# mult\n",
    "print('Multiplicación:',arr1*arr2,'\\n')\n",
    "\n",
    "# división\n",
    "print('División:',arr1/arr2,'\\n')"
   ]
  },
  {
   "cell_type": "code",
   "execution_count": 40,
   "metadata": {},
   "outputs": [
    {
     "name": "stdout",
     "output_type": "stream",
     "text": [
      "Adición Escalar: [11 13 15 17 19 21 23 25 27 29] \n",
      "\n",
      "Sustracción Escalar: [-9 -7 -5 -3 -1  1  3  5  7  9] \n",
      "\n",
      "Multiplicación Escalar: [ 2  6 10 14 18 22 26 30 34 38] \n",
      "\n",
      "División Escalar: [0.5 1.5 2.5 3.5 4.5 5.5 6.5 7.5 8.5 9.5] \n",
      "\n",
      "Potencia: [   1   27  125  343  729 1331 2197 3375 4913 6859] \n",
      "\n"
     ]
    }
   ],
   "source": [
    "# operaciones con escalares\n",
    "print('Adición Escalar:',arr1 + 10, '\\n')\n",
    "\n",
    "print('Sustracción Escalar:',arr1 - 10, '\\n')\n",
    "\n",
    "print('Multiplicación Escalar:',arr1 * 2, '\\n')\n",
    "\n",
    "print('División Escalar:',arr1 / 2, '\\n')\n",
    "\n",
    "print('Potencia:',arr1**3, '\\n')\n"
   ]
  },
  {
   "cell_type": "code",
   "execution_count": 41,
   "metadata": {},
   "outputs": [
    {
     "name": "stdout",
     "output_type": "stream",
     "text": [
      "[0 1 2 3 4 5 6 7 8 9] \n",
      "\n",
      "[nan  1.  1.  1.  1.  1.  1.  1.  1.  1.] \n",
      "\n",
      "[       inf 1.         0.5        0.33333333 0.25       0.2\n",
      " 0.16666667 0.14285714 0.125      0.11111111] \n",
      "\n"
     ]
    },
    {
     "name": "stderr",
     "output_type": "stream",
     "text": [
      "C:\\Users\\jsepulveda\\Anaconda3\\envs\\dataanalysis\\lib\\site-packages\\ipykernel_launcher.py:5: RuntimeWarning: invalid value encountered in true_divide\n",
      "  \"\"\"\n",
      "C:\\Users\\jsepulveda\\Anaconda3\\envs\\dataanalysis\\lib\\site-packages\\ipykernel_launcher.py:8: RuntimeWarning: divide by zero encountered in true_divide\n",
      "  \n"
     ]
    }
   ],
   "source": [
    "arr = np.arange(10)\n",
    "print(arr,'\\n')\n",
    "\n",
    "# divisiones por cero\n",
    "print(arr/arr,'\\n')\n",
    "\n",
    "# infinito\n",
    "print(1/arr, '\\n')"
   ]
  },
  {
   "cell_type": "markdown",
   "metadata": {},
   "source": [
    "### Aplicando funciones a un arreglo"
   ]
  },
  {
   "cell_type": "code",
   "execution_count": 31,
   "metadata": {},
   "outputs": [
    {
     "name": "stdout",
     "output_type": "stream",
     "text": [
      "Arreglo: [10 12 14 16 18] \n",
      "\n",
      "Valor máximo: 18 \n",
      "\n",
      "Valor mínimo: 10 \n",
      "\n",
      "Función seno: [-0.54402111 -0.53657292  0.99060736 -0.28790332 -0.75098725] \n",
      "\n",
      "Función coseno: [-0.83907153  0.84385396  0.13673722 -0.95765948  0.66031671] \n",
      "\n"
     ]
    }
   ],
   "source": [
    "arr = np.arange(10,20,2)\n",
    "print('Arreglo:',arr,'\\n')\n",
    "\n",
    "# maximo\n",
    "print('Valor máximo:',np.max(arr),'\\n')\n",
    "\n",
    "# minimo\n",
    "print('Valor mínimo:',np.min(arr),'\\n')\n",
    "\n",
    "# sin\n",
    "print('Función seno:',np.sin(arr),'\\n')\n",
    "\n",
    "# cos\n",
    "print('Función coseno:',np.cos(arr),'\\n')"
   ]
  },
  {
   "cell_type": "code",
   "execution_count": 42,
   "metadata": {},
   "outputs": [
    {
     "name": "stdout",
     "output_type": "stream",
     "text": [
      "[0.         1.         1.41421356 1.73205081 2.         2.23606798\n",
      " 2.44948974 2.64575131 2.82842712 3.        ] \n",
      "\n",
      "[1.00000000e+00 2.71828183e+00 7.38905610e+00 2.00855369e+01\n",
      " 5.45981500e+01 1.48413159e+02 4.03428793e+02 1.09663316e+03\n",
      " 2.98095799e+03 8.10308393e+03] \n",
      "\n",
      "[      -inf 0.         0.69314718 1.09861229 1.38629436 1.60943791\n",
      " 1.79175947 1.94591015 2.07944154 2.19722458] \n",
      "\n"
     ]
    },
    {
     "name": "stderr",
     "output_type": "stream",
     "text": [
      "C:\\Users\\jsepulveda\\Anaconda3\\envs\\dataanalysis\\lib\\site-packages\\ipykernel_launcher.py:8: RuntimeWarning: divide by zero encountered in log\n",
      "  \n"
     ]
    }
   ],
   "source": [
    "# sqrt\n",
    "print(np.sqrt(arr), '\\n')\n",
    "\n",
    "# exp\n",
    "print(np.exp(arr), '\\n')\n",
    "\n",
    "# log\n",
    "print(np.log(arr), '\\n')"
   ]
  },
  {
   "cell_type": "code",
   "execution_count": null,
   "metadata": {},
   "outputs": [],
   "source": []
  }
 ],
 "metadata": {
  "kernelspec": {
   "display_name": "Python 3 (ipykernel)",
   "language": "python",
   "name": "python3"
  },
  "language_info": {
   "codemirror_mode": {
    "name": "ipython",
    "version": 3
   },
   "file_extension": ".py",
   "mimetype": "text/x-python",
   "name": "python",
   "nbconvert_exporter": "python",
   "pygments_lexer": "ipython3",
   "version": "3.10.9"
  }
 },
 "nbformat": 4,
 "nbformat_minor": 4
}
