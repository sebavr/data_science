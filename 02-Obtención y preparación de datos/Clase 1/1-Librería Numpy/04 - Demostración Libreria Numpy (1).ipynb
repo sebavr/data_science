{
 "cells": [
  {
   "cell_type": "markdown",
   "metadata": {
    "id": "Z9i5-cpq2Cxg"
   },
   "source": [
    "# Librería Numpy\n",
    "\n"
   ]
  },
  {
   "cell_type": "markdown",
   "metadata": {
    "id": "12H1nvz6KAtM"
   },
   "source": [
    "### ¿Qué es `NumPy`?\n",
    "\n",
    "> - Una biblioteca para `Python`: `ndarray` + `ufunc`\n",
    "\n",
    "> - Los arrays multidimensionales (`ndarray`) nos permiten almacenar datos de manera estructurada\n",
    "\n",
    "> - Las funciones universales (`ufunc`) nos permiten operar con esos datos de manera eficiente"
   ]
  },
  {
   "cell_type": "markdown",
   "metadata": {
    "id": "_BCdKKRwKAtM"
   },
   "source": [
    "> `Python` está organizado en módulos, que son archivos con extensión `*.py` que contienen funciones, variables y otros objetos, y paquetes, que son conjuntos de módulos. \n",
    "\n",
    "\n",
    "> Cuando queremos utilizar objetos que están definidos en un módulo tenemos que *importarlo*, y una vez que lo hemos hecho podemos usar el operador \".\" para ir descendiendo en la jerarquía de paquetes y acceder al objeto que necesitamos."
   ]
  },
  {
   "cell_type": "code",
   "execution_count": null,
   "metadata": {
    "id": "J0uNcU_hKAtN"
   },
   "outputs": [],
   "source": [
    "import numpy"
   ]
  },
  {
   "cell_type": "code",
   "execution_count": null,
   "metadata": {
    "id": "Ai3ri5PVKAtN",
    "outputId": "48056bca-8394-45fb-9e63-78ab5d298c9e"
   },
   "outputs": [
    {
     "data": {
      "text/plain": [
       "<module 'numpy' from '/opt/anaconda3/lib/python3.8/site-packages/numpy/__init__.py'>"
      ]
     },
     "execution_count": 4,
     "metadata": {},
     "output_type": "execute_result"
    }
   ],
   "source": [
    "numpy"
   ]
  },
  {
   "cell_type": "code",
   "execution_count": null,
   "metadata": {
    "id": "JfO3Lco0KAtN"
   },
   "outputs": [],
   "source": [
    "import math"
   ]
  },
  {
   "cell_type": "code",
   "execution_count": null,
   "metadata": {
    "id": "I1u3EnCkKAtN",
    "outputId": "9633fd87-8c12-4a30-d067-fb221292f4e6"
   },
   "outputs": [
    {
     "data": {
      "text/plain": [
       "<module 'math' from '/opt/anaconda3/lib/python3.8/lib-dynload/math.cpython-38-darwin.so'>"
      ]
     },
     "execution_count": 5,
     "metadata": {},
     "output_type": "execute_result"
    }
   ],
   "source": [
    "math"
   ]
  },
  {
   "cell_type": "code",
   "execution_count": null,
   "metadata": {
    "id": "VKZBsyAZKAtN",
    "outputId": "22c1492b-eed8-4e7b-debd-fd5c24b759ec"
   },
   "outputs": [
    {
     "data": {
      "text/plain": [
       "<module 'numpy.random' from '/opt/anaconda3/lib/python3.8/site-packages/numpy/random/__init__.py'>"
      ]
     },
     "execution_count": 6,
     "metadata": {},
     "output_type": "execute_result"
    }
   ],
   "source": [
    "numpy.random"
   ]
  },
  {
   "cell_type": "code",
   "execution_count": null,
   "metadata": {
    "id": "8mPcr124KAtN"
   },
   "outputs": [],
   "source": [
    "import random"
   ]
  },
  {
   "cell_type": "code",
   "execution_count": null,
   "metadata": {
    "id": "HPX5sLaUKAtN",
    "outputId": "e57f96ea-c517-47a9-dd79-f43e4807e806"
   },
   "outputs": [
    {
     "data": {
      "text/plain": [
       "<module 'random' from '/opt/anaconda3/lib/python3.8/random.py'>"
      ]
     },
     "execution_count": 8,
     "metadata": {},
     "output_type": "execute_result"
    }
   ],
   "source": [
    "random"
   ]
  },
  {
   "cell_type": "markdown",
   "metadata": {
    "id": "FUE7Pk1tKAtO"
   },
   "source": [
    "> Y de esta manera accedemos a la función `det`, que calcula el determinante de un array:"
   ]
  },
  {
   "cell_type": "code",
   "execution_count": null,
   "metadata": {
    "id": "Xon7T9Z4KAtO"
   },
   "outputs": [],
   "source": [
    "?numpy.linalg"
   ]
  },
  {
   "cell_type": "markdown",
   "metadata": {
    "id": "jlRIAz78KAtO"
   },
   "source": [
    "> La función *det* está dentro del paquete *linalg*, que a su vez está dentro del paquete NumPy."
   ]
  },
  {
   "cell_type": "code",
   "execution_count": null,
   "metadata": {
    "id": "BH_UlE6dKAtO"
   },
   "outputs": [],
   "source": [
    "from numpy import *"
   ]
  },
  {
   "cell_type": "code",
   "execution_count": null,
   "metadata": {
    "id": "u2NUQMA3KAtO"
   },
   "outputs": [],
   "source": [
    "import numpy as np"
   ]
  },
  {
   "cell_type": "markdown",
   "metadata": {
    "id": "ewx8LlvjKAtO"
   },
   "source": [
    "> Para encontrar ayuda sobre cierto tema podemos usar la función `lookfor`:"
   ]
  },
  {
   "cell_type": "code",
   "execution_count": null,
   "metadata": {
    "id": "S6enjLPwKAtO"
   },
   "outputs": [],
   "source": [
    "np.lookfor(\"solve\")"
   ]
  },
  {
   "cell_type": "markdown",
   "metadata": {
    "id": "UdN5IULTKAtO"
   },
   "source": [
    "### Constantes y funciones matemáticas"
   ]
  },
  {
   "cell_type": "markdown",
   "metadata": {
    "id": "RqAxZqWSKAtO"
   },
   "source": [
    "> Además de arrays, NumPy contiene también constantes y funciones matemáticas de uso cotidiano."
   ]
  },
  {
   "cell_type": "code",
   "execution_count": null,
   "metadata": {
    "id": "qaBtMT8-KAtO",
    "outputId": "ffc9b5f1-2101-442c-abdd-1294dac2ec65"
   },
   "outputs": [
    {
     "data": {
      "text/plain": [
       "2.718281828459045"
      ]
     },
     "execution_count": 11,
     "metadata": {},
     "output_type": "execute_result"
    }
   ],
   "source": [
    "np.e"
   ]
  },
  {
   "cell_type": "code",
   "execution_count": null,
   "metadata": {
    "id": "7Bu3CW6jKAtP",
    "outputId": "592ddaf3-cb9e-4b97-d614-0278935c170a"
   },
   "outputs": [
    {
     "data": {
      "text/plain": [
       "3.141592653589793"
      ]
     },
     "execution_count": 12,
     "metadata": {},
     "output_type": "execute_result"
    }
   ],
   "source": [
    "np.pi"
   ]
  },
  {
   "cell_type": "code",
   "execution_count": null,
   "metadata": {
    "id": "n4pgbx8qKAtP",
    "outputId": "454121d7-3e40-474a-b585-22046f221d01"
   },
   "outputs": [
    {
     "data": {
      "text/plain": [
       "0.6931471805599453"
      ]
     },
     "execution_count": 13,
     "metadata": {},
     "output_type": "execute_result"
    }
   ],
   "source": [
    "np.log(2)"
   ]
  },
  {
   "cell_type": "code",
   "execution_count": null,
   "metadata": {
    "id": "p_BrY3SWKAtP",
    "outputId": "e4daa2d2-a261-4036-be4d-e7d9a9927dab"
   },
   "outputs": [
    {
     "name": "stdout",
     "output_type": "stream",
     "text": [
      "[2.30258509 1.         2.               -inf]\n"
     ]
    },
    {
     "name": "stderr",
     "output_type": "stream",
     "text": [
      "<ipython-input-14-a3e69e632f30>:1: RuntimeWarning: divide by zero encountered in log\n",
      "  lista = np.log([10., np.e, np.e**2, 0])\n"
     ]
    }
   ],
   "source": [
    "lista = np.log([10., np.e, np.e**2, 0])\n",
    "print(lista)"
   ]
  },
  {
   "cell_type": "code",
   "execution_count": null,
   "metadata": {
    "id": "Bl7OW3xaKAtP",
    "outputId": "05d6681c-990b-4178-bcb4-0e9d1725ea04"
   },
   "outputs": [
    {
     "data": {
      "text/plain": [
       "numpy.ndarray"
      ]
     },
     "execution_count": 15,
     "metadata": {},
     "output_type": "execute_result"
    }
   ],
   "source": [
    "type(lista)"
   ]
  },
  {
   "cell_type": "code",
   "execution_count": null,
   "metadata": {
    "id": "oS_cGgQaKAtP",
    "outputId": "7571c2d2-7308-48fc-fa22-52a625b5abe3"
   },
   "outputs": [
    {
     "name": "stdout",
     "output_type": "stream",
     "text": [
      "[0.         0.69314718 1.09861229 1.38629436]\n"
     ]
    },
    {
     "data": {
      "text/plain": [
       "numpy.ndarray"
      ]
     },
     "execution_count": 17,
     "metadata": {},
     "output_type": "execute_result"
    }
   ],
   "source": [
    "lista=[1,2,3,4]\n",
    "lista1=np.log(lista)\n",
    "print(lista1)\n",
    "type(lista1)"
   ]
  },
  {
   "cell_type": "markdown",
   "metadata": {
    "id": "y9nrUNZNKAtP"
   },
   "source": [
    "### ¿Qué es exactamente un array?\n",
    "\n",
    "> Un array de NumPy es una colección de *N* elementos, igual que una secuencia de Python (por ejemplo, una lista). \n",
    "\n",
    "\n",
    "> Tiene las mismas propiedades que una secuencia y alguna más. \n",
    "\n",
    "\n",
    "> Para crear un array, la forma más directa es pasarle una secuencia a la función *np.array*."
   ]
  },
  {
   "cell_type": "code",
   "execution_count": null,
   "metadata": {
    "id": "Tj1TRgwHKAtP",
    "outputId": "4530fc50-7c34-4c52-e271-156d2316c3c8"
   },
   "outputs": [
    {
     "name": "stdout",
     "output_type": "stream",
     "text": [
      "[1, 2, 3, 4, 5, 6, 7]\n",
      "<class 'list'>\n"
     ]
    }
   ],
   "source": [
    "lista1 = [1,2,3]\n",
    "lista2 = [4,5,6,7]\n",
    "lista3 = lista1+lista2\n",
    "print(lista3)\n",
    "print(type(lista3))"
   ]
  },
  {
   "cell_type": "code",
   "execution_count": null,
   "metadata": {
    "id": "OVCi1z5XKAtP",
    "outputId": "f27cc436-1022-4c87-ca53-588b5f44eca6"
   },
   "outputs": [
    {
     "name": "stdout",
     "output_type": "stream",
     "text": [
      "[5, 7, 9]\n"
     ]
    }
   ],
   "source": [
    "lista3 = []\n",
    "for i in range(len(lista1)):\n",
    "    lista3.append(lista1[i]+lista2[i])\n",
    "print(lista3)"
   ]
  },
  {
   "cell_type": "code",
   "execution_count": null,
   "metadata": {
    "id": "FGRX38e4KAtP",
    "outputId": "81baa140-2103-4863-d3a7-b479646bcbb9"
   },
   "outputs": [
    {
     "name": "stdout",
     "output_type": "stream",
     "text": [
      "[1 2 3 4 5 6]\n"
     ]
    },
    {
     "data": {
      "text/plain": [
       "numpy.ndarray"
      ]
     },
     "execution_count": 21,
     "metadata": {},
     "output_type": "execute_result"
    }
   ],
   "source": [
    "lista1 = [1,2,3]\n",
    "lista2 = [4,5,6]\n",
    "arreglo1 = np.array(lista1)\n",
    "arreglo2 = np.array(lista2)\n",
    "arreglo3 = np.append(arreglo1, arreglo2)\n",
    "#arreglo\n",
    "print(arreglo3)\n",
    "arreglo3.dtype\n",
    "type(arreglo3)"
   ]
  },
  {
   "cell_type": "code",
   "execution_count": null,
   "metadata": {
    "id": "4c0_ZopMKAtQ",
    "outputId": "f0962c90-7135-4849-a53d-d8a3454ccd53"
   },
   "outputs": [
    {
     "name": "stdout",
     "output_type": "stream",
     "text": [
      "[5 7 9]\n"
     ]
    }
   ],
   "source": [
    "arreglo3 = arreglo1 + arreglo2\n",
    "print(arreglo3)"
   ]
  },
  {
   "cell_type": "markdown",
   "metadata": {
    "id": "H3lSfxiCKAtQ"
   },
   "source": [
    "> Los arrays de NumPy son *homogéneos*, es decir, todos sus elementos son del mismo tipo. \n",
    "\n",
    "\n",
    "> Si le pasamos a *np.array* una secuencia con objetos de tipos diferentes, promocionará todos al tipo con más información. \n",
    "\n",
    "\n",
    "> Para acceder al tipo del array, podemos usar el atributo *dtype*."
   ]
  },
  {
   "cell_type": "code",
   "execution_count": null,
   "metadata": {
    "id": "fn7617MEKAtQ",
    "outputId": "f9f4ff5c-e598-49ca-f9c0-0fdd019f8c3c"
   },
   "outputs": [
    {
     "name": "stdout",
     "output_type": "stream",
     "text": [
      "[1. 2. 3.]\n",
      "float64\n"
     ]
    }
   ],
   "source": [
    "a = np.array([1, 2., 3])\n",
    "print(a)\n",
    "print(a.dtype)"
   ]
  },
  {
   "cell_type": "code",
   "execution_count": null,
   "metadata": {
    "id": "IeoUlFzYKAtQ",
    "outputId": "66e3b417-fbb2-435a-f5b5-5d86c25df412"
   },
   "outputs": [
    {
     "data": {
      "text/plain": [
       "array(['1', '2', '3', '3'], dtype='<U21')"
      ]
     },
     "execution_count": 24,
     "metadata": {},
     "output_type": "execute_result"
    }
   ],
   "source": [
    "np.array([1, 2, 3, \"3\"])"
   ]
  },
  {
   "cell_type": "markdown",
   "metadata": {
    "id": "SDPU0sVnKAtQ"
   },
   "source": [
    "<div class=\"alert alert-warning\">**Nota**: Si *NumPy* no entiende el tipo de datos o construimos un array con argumentos incorrectos devolverá un array con *dtype* *object*. Estos arrays rara vez son útiles y su aparición suele ser signo de que algo falla en nuestro programa.</div>"
   ]
  },
  {
   "cell_type": "markdown",
   "metadata": {
    "id": "I0ciq4G9KAtQ"
   },
   "source": [
    "> *NumPy* intentará automáticamente construir un array con el tipo adecuado teniendo en cuenta los datos de entrada, aunque nosotros podemos forzarlo."
   ]
  },
  {
   "cell_type": "code",
   "execution_count": null,
   "metadata": {
    "id": "rH-GFxKKKAtQ",
    "outputId": "00795098-bc34-451c-ffd3-26166ba1195c"
   },
   "outputs": [
    {
     "name": "stdout",
     "output_type": "stream",
     "text": [
      "complex128\n",
      "[1.+0.j 2.+0.j 3.+0.j]\n"
     ]
    }
   ],
   "source": [
    "a = np.array([1.,2.,3.],dtype=complex)\n",
    "print(a.dtype)\n",
    "print(a)"
   ]
  },
  {
   "cell_type": "code",
   "execution_count": null,
   "metadata": {
    "id": "9ttw1SvIKAtQ",
    "outputId": "19bf4324-b7c4-4349-e1b8-c20bbd9bd838"
   },
   "outputs": [
    {
     "data": {
      "text/plain": [
       "array([1.+0.j, 2.+0.j, 3.+0.j])"
      ]
     },
     "execution_count": 26,
     "metadata": {},
     "output_type": "execute_result"
    }
   ],
   "source": [
    "np.array([1, 2, 3], dtype=complex)"
   ]
  },
  {
   "cell_type": "markdown",
   "metadata": {
    "id": "914O15-dKAtQ"
   },
   "source": [
    "> También podemos convertir un array de un tipo a otro utilizando el método *.astype*."
   ]
  },
  {
   "cell_type": "code",
   "execution_count": null,
   "metadata": {
    "id": "7tu58HwtKAtR",
    "outputId": "1df22f26-e9b0-464f-a7a6-59d3c0f45741"
   },
   "outputs": [
    {
     "data": {
      "text/plain": [
       "array([1.+0.j, 2.+0.j, 3.+0.j])"
      ]
     },
     "execution_count": 27,
     "metadata": {},
     "output_type": "execute_result"
    }
   ],
   "source": [
    "a"
   ]
  },
  {
   "cell_type": "code",
   "execution_count": null,
   "metadata": {
    "id": "7Yr4czcOKAtR",
    "outputId": "1ef8f281-ab67-4166-ab61-a2b6be76e7ed"
   },
   "outputs": [
    {
     "data": {
      "text/plain": [
       "array(['(1+0j)', '(2+0j)', '(3+0j)'], dtype='<U64')"
      ]
     },
     "execution_count": 28,
     "metadata": {},
     "output_type": "execute_result"
    }
   ],
   "source": [
    "a.astype(str)"
   ]
  },
  {
   "cell_type": "markdown",
   "metadata": {
    "id": "404qFtcTKAtR"
   },
   "source": [
    "### Motivo: eficiencia\n",
    "\n",
    "* Los CICLOS son costosos\n",
    "* Eliminar bucles: **vectorizar** operaciones\n",
    "* Los bucles se ejecutan en Python, las operaciones vectorizadas en C\n",
    "* Las operaciones entre arrays de *NumPy* se realizan **elemento a elemento**\n",
    "\n",
    "Ejemplo:\n",
    "\n",
    "$$ a_{ij} = b_{ij} + c_{ij} $$"
   ]
  },
  {
   "cell_type": "code",
   "execution_count": null,
   "metadata": {
    "id": "5O1oZYfsKAtR",
    "outputId": "64677fee-974c-4576-e543-25e02d4fe39e"
   },
   "outputs": [
    {
     "name": "stdout",
     "output_type": "stream",
     "text": [
      "[0. 0. 0. 0. 0. 0.]\n"
     ]
    }
   ],
   "source": [
    "k = 2\n",
    "a = np.zeros(k*3)\n",
    "print(a)"
   ]
  },
  {
   "cell_type": "code",
   "execution_count": null,
   "metadata": {
    "id": "WNzg7s99KAtR",
    "outputId": "95aec928-11b1-465a-bd7a-7edcd1db4e17"
   },
   "outputs": [
    {
     "name": "stdout",
     "output_type": "stream",
     "text": [
      "[[0. 0.]\n",
      " [0. 0.]\n",
      " [0. 0.]]\n"
     ]
    }
   ],
   "source": [
    "N, M = 3, k\n",
    "a = np.zeros(k*3).reshape(N, M)\n",
    "print(a)"
   ]
  },
  {
   "cell_type": "code",
   "execution_count": null,
   "metadata": {
    "id": "BMNtdFtTKAtR",
    "outputId": "80e3c1f8-a6c6-4683-93e3-06aecc33796c"
   },
   "outputs": [
    {
     "name": "stdout",
     "output_type": "stream",
     "text": [
      "[[9.92687031e-01 5.92924024e-02]\n",
      " [4.22103531e-02 2.95766392e-01]\n",
      " [1.82629711e-04 8.85755414e-01]]\n"
     ]
    }
   ],
   "source": [
    "b=np.random.rand(k*3).reshape(N,M)\n",
    "print(b)"
   ]
  },
  {
   "cell_type": "code",
   "execution_count": null,
   "metadata": {
    "id": "ImwvbdxjKAtR",
    "outputId": "2d718544-c438-4d18-85a3-2c11c32b3ec9"
   },
   "outputs": [
    {
     "data": {
      "text/plain": [
       "array([[9.92687031e-01, 5.92924024e-02],\n",
       "       [4.22103531e-02, 2.95766392e-01],\n",
       "       [1.82629711e-04, 8.85755414e-01]])"
      ]
     },
     "execution_count": 34,
     "metadata": {},
     "output_type": "execute_result"
    }
   ],
   "source": [
    "b"
   ]
  },
  {
   "cell_type": "code",
   "execution_count": null,
   "metadata": {
    "id": "TfQc8e1nKAtR",
    "outputId": "e7923e12-19ad-466f-8b76-0dddbb839730"
   },
   "outputs": [
    {
     "data": {
      "text/plain": [
       "array([[0., 0., 0., ..., 0., 0., 0.],\n",
       "       [0., 0., 0., ..., 0., 0., 0.],\n",
       "       [0., 0., 0., ..., 0., 0., 0.],\n",
       "       ...,\n",
       "       [0., 0., 0., ..., 0., 0., 0.],\n",
       "       [0., 0., 0., ..., 0., 0., 0.],\n",
       "       [0., 0., 0., ..., 0., 0., 0.]])"
      ]
     },
     "execution_count": 36,
     "metadata": {},
     "output_type": "execute_result"
    }
   ],
   "source": [
    "k=100\n",
    "N, M = k, k\n",
    "a = np.empty(k*k).reshape(N, M)\n",
    "b=np.random.rand(k*k).reshape(N,M)\n",
    "c=np.random.rand(k*k).reshape(N,M)\n",
    "a"
   ]
  },
  {
   "cell_type": "code",
   "execution_count": null,
   "metadata": {
    "id": "FkGwSvz5KAtR"
   },
   "outputs": [],
   "source": [
    "import time"
   ]
  },
  {
   "cell_type": "code",
   "execution_count": null,
   "metadata": {
    "id": "81lJd2GEKAtR",
    "outputId": "e77b4d3f-d250-4c71-8971-ea8236a78777"
   },
   "outputs": [
    {
     "name": "stdout",
     "output_type": "stream",
     "text": [
      "el tiempo de solucion fue de:  0.005347013473510742\n"
     ]
    }
   ],
   "source": [
    "#%%timeit\n",
    "\n",
    "tin = time.time()\n",
    "for i in range(N):\n",
    "    for j in range(M):\n",
    "        a[i, j] = b[i, j] + c[i, j]\n",
    "tout = time.time()\n",
    "elapsedt = tout - tin\n",
    "print(\"el tiempo de solucion fue de: \", elapsedt)"
   ]
  },
  {
   "cell_type": "code",
   "execution_count": null,
   "metadata": {
    "id": "NHAkcOEhKAtS",
    "outputId": "a496a61f-003f-4122-eb1b-afb9d803a49e"
   },
   "outputs": [
    {
     "name": "stdout",
     "output_type": "stream",
     "text": [
      "el tiempo de solucion fue de:  0.00021219253540039062\n"
     ]
    }
   ],
   "source": [
    "#%%timeit\n",
    "tin = time.time()\n",
    "a = b + c\n",
    "tout = time.time()\n",
    "elapsedt = tout - tin\n",
    "print(\"el tiempo de solucion fue de: \", elapsedt)"
   ]
  },
  {
   "cell_type": "code",
   "execution_count": null,
   "metadata": {
    "id": "XMXSkj5vKAtS"
   },
   "outputs": [],
   "source": [
    "print(a)"
   ]
  },
  {
   "cell_type": "markdown",
   "metadata": {
    "id": "C1Y1Vmy3KAtS"
   },
   "source": [
    "> ¡1000 veces más rápido! Se hace fundamental **vectorizar** las operaciones y aprovechar al máximo la velocidad de *NumPy*."
   ]
  },
  {
   "cell_type": "markdown",
   "metadata": {
    "id": "9mrXvoQAKAtS"
   },
   "source": [
    "### Indexación de arrays"
   ]
  },
  {
   "cell_type": "markdown",
   "metadata": {
    "id": "Eka4UKN-KAtS"
   },
   "source": [
    "> Una de las herramientas más importantes a la hora de trabajar con arrays es el indexado. \n",
    "\n",
    "\n",
    "> - Consiste en seleccionar elementos aislados o secciones de un array. \n",
    "\n",
    "\n",
    "> - En este curso se verá la indexación básica, pero existen técnicas de indexación avanzada que convierten los arrays en herramientas potentísimas."
   ]
  },
  {
   "cell_type": "code",
   "execution_count": null,
   "metadata": {
    "id": "Nr6QuTj5KAtS",
    "outputId": "307ceceb-21ad-4879-cac4-d891592212d4"
   },
   "outputs": [
    {
     "name": "stdout",
     "output_type": "stream",
     "text": [
      "[[1 2 3]\n",
      " [4 5 6]\n",
      " [7 8 9]]\n"
     ]
    }
   ],
   "source": [
    "a = np.array([[1, 2, 3],[4,5,6],[7,8,9]])\n",
    "print(a)"
   ]
  },
  {
   "cell_type": "markdown",
   "metadata": {
    "id": "pFQdHNjIKAtS"
   },
   "source": [
    "> Los índices se indican entre corchetes justo después del array. \n",
    "\n",
    "\n",
    "> - Recuerda que en Python la indexación empieza en 0. \n",
    "\n",
    "> - Si recuperamos el primer elemento de un array de dos dimensiones, obtenemos la primera fila."
   ]
  },
  {
   "cell_type": "code",
   "execution_count": null,
   "metadata": {
    "id": "K2dysSkFKAtS",
    "outputId": "f44cc3a4-51d2-4139-f688-b9e0fd3b1ea1",
    "tags": []
   },
   "outputs": [
    {
     "data": {
      "text/plain": [
       "8"
      ]
     },
     "execution_count": 42,
     "metadata": {},
     "output_type": "execute_result"
    }
   ],
   "source": [
    "a[2][1]\n",
    "a[2,1]"
   ]
  },
  {
   "cell_type": "code",
   "execution_count": null,
   "metadata": {
    "id": "iVN-Dq1xKAtS",
    "outputId": "407129a8-46d5-430d-e091-e610514ad747"
   },
   "outputs": [
    {
     "data": {
      "text/plain": [
       "3"
      ]
     },
     "execution_count": 62,
     "metadata": {},
     "output_type": "execute_result"
    }
   ],
   "source": [
    "a[2]"
   ]
  },
  {
   "cell_type": "markdown",
   "metadata": {
    "id": "nKJIRKnZKAtS"
   },
   "source": [
    "> En vez de usar *a*[0][0] para recuperar el primer elemento de la primera fila, podemos abreviar aún más la sintaxis:"
   ]
  },
  {
   "cell_type": "code",
   "execution_count": null,
   "metadata": {
    "id": "THa1cDVEKAtT"
   },
   "outputs": [],
   "source": [
    "print(a)\n",
    "a[0, 0]"
   ]
  },
  {
   "cell_type": "markdown",
   "metadata": {
    "id": "kOD6ZAnbKAtT"
   },
   "source": [
    "> No solo podemos recuperar un elemento aislado, sino también porciones del array, utilizando la sintaxis `[<inicio>:<final>:<salto>]`."
   ]
  },
  {
   "cell_type": "code",
   "execution_count": null,
   "metadata": {
    "id": "JwlbcvqgKAtT",
    "outputId": "f9435477-a120-4e1a-bb36-be727213721d"
   },
   "outputs": [
    {
     "data": {
      "text/plain": [
       "array([2, 3])"
      ]
     },
     "execution_count": 43,
     "metadata": {},
     "output_type": "execute_result"
    }
   ],
   "source": [
    "a[0, 1:3]"
   ]
  },
  {
   "cell_type": "code",
   "execution_count": null,
   "metadata": {
    "id": "6-NUeF1mKAtT",
    "outputId": "6c9a126a-8476-4060-fce1-330625dd8ab8"
   },
   "outputs": [
    {
     "data": {
      "text/plain": [
       "array([[1],\n",
       "       [4],\n",
       "       [7]])"
      ]
     },
     "execution_count": 44,
     "metadata": {},
     "output_type": "execute_result"
    }
   ],
   "source": [
    "a[:, 0:1]"
   ]
  },
  {
   "cell_type": "markdown",
   "metadata": {
    "id": "20P5ztS4KAtT"
   },
   "source": [
    "### Creación de arrays\n",
    "\n",
    "> Muchos métodos y muy variados\n",
    "\n",
    "> - A partir de datos existentes: `array`, `copy`\n",
    "> - Unos y ceros: `empty`, `eye`, `ones`, `zeros`, `*_like`\n",
    "> - Rangos: `arange`, `linspace`, `logspace`, `meshgrid`\n",
    "> - Aleatorios: `rand`, `randn`"
   ]
  },
  {
   "cell_type": "code",
   "execution_count": null,
   "metadata": {
    "id": "lyjK408IKAtT"
   },
   "outputs": [],
   "source": [
    "b = np.logspace(1,10,19)\n",
    "print(b)"
   ]
  },
  {
   "cell_type": "markdown",
   "metadata": {
    "id": "ex-te9jIKAtT"
   },
   "source": [
    "### Unos y ceros\n",
    "\n",
    "> - `empty(shape)` crea un array con «basura», equivalente a no inicializarlo, ligeramente más rápido que `zeros` o `ones`\n",
    "> - `eye(N, M=None, k=0)` crea un array con unos en una diagonal y ceros en el resto\n",
    "> - `identity(n)` devuelve la matriz identidad\n",
    "> - Las funciones `*_like(a)` construyen arrays con el mismo tamaño que uno dado"
   ]
  },
  {
   "cell_type": "code",
   "execution_count": null,
   "metadata": {
    "id": "XNQMl0GGKAtT",
    "outputId": "2e1492c3-f9f6-4c92-d6c6-e40da43b8968"
   },
   "outputs": [
    {
     "data": {
      "text/plain": [
       "array([[1, 0, 0, 0, 0],\n",
       "       [0, 1, 0, 0, 0],\n",
       "       [0, 0, 1, 0, 0],\n",
       "       [0, 0, 0, 1, 0],\n",
       "       [0, 0, 0, 0, 1]])"
      ]
     },
     "execution_count": 45,
     "metadata": {},
     "output_type": "execute_result"
    }
   ],
   "source": [
    "a=np.identity(5).astype(int)\n",
    "a"
   ]
  },
  {
   "cell_type": "code",
   "execution_count": null,
   "metadata": {
    "id": "odClmDgVKAtU",
    "outputId": "82eb80b5-9680-41ef-ed15-9e84f15c9c89"
   },
   "outputs": [
    {
     "data": {
      "text/plain": [
       "(5, 5)"
      ]
     },
     "execution_count": 46,
     "metadata": {},
     "output_type": "execute_result"
    }
   ],
   "source": [
    "a.shape"
   ]
  },
  {
   "cell_type": "markdown",
   "metadata": {
    "id": "kSkw7u0TKAtU"
   },
   "source": [
    "> Si la función recibe como argumento *shape*, debemos pasarle el número de filas y columnas como una tupla (es decir, encerrado entre paréntesis)."
   ]
  },
  {
   "cell_type": "code",
   "execution_count": null,
   "metadata": {
    "id": "cmTTE08EKAtU",
    "outputId": "0d7d5e2f-0397-4e11-b662-ec8ba818def9"
   },
   "outputs": [
    {
     "data": {
      "text/plain": [
       "array([[1., 0., 0., 0., 0., 0., 0., 0., 0., 0.],\n",
       "       [0., 1., 0., 0., 0., 0., 0., 0., 0., 0.],\n",
       "       [0., 0., 1., 0., 0., 0., 0., 0., 0., 0.],\n",
       "       [0., 0., 0., 1., 0., 0., 0., 0., 0., 0.],\n",
       "       [0., 0., 0., 0., 1., 0., 0., 0., 0., 0.],\n",
       "       [0., 0., 0., 0., 0., 1., 0., 0., 0., 0.],\n",
       "       [0., 0., 0., 0., 0., 0., 1., 0., 0., 0.],\n",
       "       [0., 0., 0., 0., 0., 0., 0., 1., 0., 0.],\n",
       "       [0., 0., 0., 0., 0., 0., 0., 0., 1., 0.],\n",
       "       [0., 0., 0., 0., 0., 0., 0., 0., 0., 1.]])"
      ]
     },
     "execution_count": 47,
     "metadata": {},
     "output_type": "execute_result"
    }
   ],
   "source": [
    "np.identity(10)"
   ]
  },
  {
   "cell_type": "markdown",
   "metadata": {
    "id": "7dPB7jZ0KAtU"
   },
   "source": [
    "> <div class=\"alert alert-warning\">**Nota**: Un error muy típico es tratar de construir un array llamando a la función con dos argumentos, como se ejemplifica en la celda siguiente. Esto produce un error, porque NumPy espera un solo argumento: una tupla con el número de filas y el número de columnas. Es conveniente asegurarse de cuál es el convenio en cada caso porque no siempre hay consistencia interna.</div>"
   ]
  },
  {
   "cell_type": "code",
   "execution_count": null,
   "metadata": {
    "id": "bKiK0F0tKAtU",
    "outputId": "d5f244e7-7d56-4e74-8894-7c569330eb7c"
   },
   "outputs": [
    {
     "data": {
      "text/plain": [
       "array([[0., 0., 0., 0.],\n",
       "       [0., 0., 0., 0.],\n",
       "       [0., 0., 0., 0.]])"
      ]
     },
     "execution_count": 48,
     "metadata": {},
     "output_type": "execute_result"
    }
   ],
   "source": [
    "np.zeros((3, 4))"
   ]
  },
  {
   "cell_type": "code",
   "execution_count": null,
   "metadata": {
    "id": "7swL20-kKAtU",
    "outputId": "06afc1c5-908d-469b-86b3-ab0cbad2b8f5"
   },
   "outputs": [
    {
     "data": {
      "text/plain": [
       "array([[1., 1., 1., 1.],\n",
       "       [1., 1., 1., 1.],\n",
       "       [1., 1., 1., 1.]])"
      ]
     },
     "execution_count": 49,
     "metadata": {},
     "output_type": "execute_result"
    }
   ],
   "source": [
    "np.ones((3, 4))"
   ]
  },
  {
   "cell_type": "code",
   "execution_count": null,
   "metadata": {
    "id": "-8LhCNbTKAtU",
    "outputId": "18a5f809-bf53-45fd-9222-5928f6ca0a5d"
   },
   "outputs": [
    {
     "data": {
      "text/plain": [
       "array([[1., 0., 0.],\n",
       "       [0., 1., 0.],\n",
       "       [0., 0., 1.]])"
      ]
     },
     "execution_count": 50,
     "metadata": {},
     "output_type": "execute_result"
    }
   ],
   "source": [
    "i3 = np.identity(3)\n",
    "i3"
   ]
  },
  {
   "cell_type": "code",
   "execution_count": null,
   "metadata": {
    "id": "c9rwM0PDKAtU",
    "outputId": "007e2df6-412f-441e-b7d3-7b9512c492c6"
   },
   "outputs": [
    {
     "data": {
      "text/plain": [
       "(3, 3)"
      ]
     },
     "execution_count": 51,
     "metadata": {},
     "output_type": "execute_result"
    }
   ],
   "source": [
    "i3.shape"
   ]
  },
  {
   "cell_type": "code",
   "execution_count": null,
   "metadata": {
    "id": "04-YHjUUKAtU",
    "outputId": "a0d8827f-5709-4b0a-aac4-b901580cc8a9"
   },
   "outputs": [
    {
     "data": {
      "text/plain": [
       "array([[1., 1., 1.],\n",
       "       [1., 1., 1.],\n",
       "       [1., 1., 1.]])"
      ]
     },
     "execution_count": 52,
     "metadata": {},
     "output_type": "execute_result"
    }
   ],
   "source": [
    "np.ones(i3.shape)"
   ]
  },
  {
   "cell_type": "markdown",
   "metadata": {
    "id": "VhQcpIZxKAtU"
   },
   "source": [
    "> Si en lugar de pasar directamente la forma del array ya sabemos que queremos crear un array con la misma forma que otro, podemos usar las funciones `*_like`, que reciben un array en vez de una tupla."
   ]
  },
  {
   "cell_type": "code",
   "execution_count": null,
   "metadata": {
    "id": "fnVvkKqSKAtU",
    "outputId": "f1800126-bde5-416c-fa50-07aeb8f40471"
   },
   "outputs": [
    {
     "data": {
      "text/plain": [
       "array([[1., 1., 1.],\n",
       "       [1., 1., 1.],\n",
       "       [1., 1., 1.]])"
      ]
     },
     "execution_count": 53,
     "metadata": {},
     "output_type": "execute_result"
    }
   ],
   "source": [
    "np.ones_like(i3)"
   ]
  },
  {
   "cell_type": "markdown",
   "metadata": {
    "id": "iRoLlOLMKAtV"
   },
   "source": [
    "### Rangos\n",
    "\n",
    "> - `linspace(start, stop, num=50)` devuelve números equiespaciados dentro de un intervalo\n",
    "> - `logspace(start, stop, num=50, base=10.0)` devuelve números equiespaciados según una escala logarítmica\n",
    "> - `meshgrid(x1, x2, ...)` devuelve matrices de n-coordenadas"
   ]
  },
  {
   "cell_type": "code",
   "execution_count": null,
   "metadata": {
    "id": "u1aP5Jm5KAtV",
    "outputId": "7a55c158-b28d-4232-dd1f-c5b5b098e81f"
   },
   "outputs": [
    {
     "data": {
      "text/plain": [
       "array([0. , 0.1, 0.2, 0.3, 0.4, 0.5, 0.6, 0.7, 0.8, 0.9, 1. ])"
      ]
     },
     "execution_count": 54,
     "metadata": {},
     "output_type": "execute_result"
    }
   ],
   "source": [
    "np.linspace(0, 1, num=11)"
   ]
  },
  {
   "cell_type": "code",
   "execution_count": null,
   "metadata": {
    "id": "1RGoSwEgKAtV",
    "outputId": "2ce67413-c8d6-4ed8-eaf3-b84c7b7fcf86"
   },
   "outputs": [
    {
     "data": {
      "text/plain": [
       "array([   1.        ,    2.15443469,    4.64158883,   10.        ,\n",
       "         21.5443469 ,   46.41588834,  100.        ,  215.443469  ,\n",
       "        464.15888336, 1000.        ])"
      ]
     },
     "execution_count": 56,
     "metadata": {},
     "output_type": "execute_result"
    }
   ],
   "source": [
    "np.logspace(0, 3, num=10)"
   ]
  },
  {
   "cell_type": "markdown",
   "metadata": {
    "id": "yUOXpQGoKAtV"
   },
   "source": [
    "> La función *np.meshgrid* se utiliza mucho a la hora de representar funciones en dos dimensiones, y crea dos arrays: uno varía por filas y otro por columnas. Combinándolos, podemos evaluar la función en un cuadrado."
   ]
  },
  {
   "cell_type": "code",
   "execution_count": null,
   "metadata": {
    "id": "eIxLrE0_KAtV"
   },
   "outputs": [],
   "source": [
    "x = np.linspace(0, 1, num=5)\n",
    "y = np.linspace(0, 1, num=5)\n",
    "\n",
    "xx, yy = np.meshgrid(x, y)"
   ]
  },
  {
   "cell_type": "code",
   "execution_count": null,
   "metadata": {
    "id": "8DXfvxqrKAtV",
    "outputId": "06eb1d73-2de4-4606-b743-fbe67dff2f75"
   },
   "outputs": [
    {
     "data": {
      "text/plain": [
       "(array([[0.  , 0.25, 0.5 , 0.75, 1.  ],\n",
       "        [0.  , 0.25, 0.5 , 0.75, 1.  ],\n",
       "        [0.  , 0.25, 0.5 , 0.75, 1.  ],\n",
       "        [0.  , 0.25, 0.5 , 0.75, 1.  ],\n",
       "        [0.  , 0.25, 0.5 , 0.75, 1.  ]]),\n",
       " array([[0.  , 0.  , 0.  , 0.  , 0.  ],\n",
       "        [0.25, 0.25, 0.25, 0.25, 0.25],\n",
       "        [0.5 , 0.5 , 0.5 , 0.5 , 0.5 ],\n",
       "        [0.75, 0.75, 0.75, 0.75, 0.75],\n",
       "        [1.  , 1.  , 1.  , 1.  , 1.  ]]))"
      ]
     },
     "execution_count": 58,
     "metadata": {},
     "output_type": "execute_result"
    }
   ],
   "source": [
    "xx, yy"
   ]
  },
  {
   "cell_type": "code",
   "execution_count": null,
   "metadata": {
    "id": "lktM21UvKAtV"
   },
   "outputs": [],
   "source": [
    "xx + 1j * yy"
   ]
  },
  {
   "cell_type": "code",
   "execution_count": null,
   "metadata": {
    "id": "PGJRWG87KAtV"
   },
   "outputs": [],
   "source": [
    "import numpy as np"
   ]
  },
  {
   "cell_type": "markdown",
   "metadata": {
    "id": "3OSU8wv0KAtV"
   },
   "source": [
    "### Operaciones con arrays\n",
    "\n",
    "> Las **funciones universales** (`ufunc`) operan sobre arrays de NumPy elemento a elemento y siguiendo las reglas de _broadcasting_.\n",
    "\n",
    "> - Funciones matemáticas: `sin`, `cos`, `sqrt`, `exp`, ...\n",
    "> - Operaciones lógicas: `<`, `~`, ...\n",
    "> - Funciones lógicas: `all`, `any`, `isnan`, `allclose`, ..."
   ]
  },
  {
   "cell_type": "markdown",
   "metadata": {
    "id": "PI6yAGQCKAtV"
   },
   "source": [
    "> <div class=\"alert alert-warning\">**Nota**: Las funciones matemáticas siempre devuelven el mismo tipo de datos de entrada</div>"
   ]
  },
  {
   "cell_type": "code",
   "execution_count": null,
   "metadata": {
    "id": "UeFeD4WqKAtV",
    "outputId": "8c20ba5d-f708-40ff-8780-a57b950f38f0"
   },
   "outputs": [
    {
     "data": {
      "text/plain": [
       "array([ 6,  8, 10, 12, 14, 16])"
      ]
     },
     "execution_count": 23,
     "metadata": {},
     "output_type": "execute_result"
    }
   ],
   "source": [
    "a = np.arange(start=6, stop=18, step=2)\n",
    "a"
   ]
  },
  {
   "cell_type": "code",
   "execution_count": null,
   "metadata": {
    "id": "Yl2d0MPNKAtV",
    "outputId": "ad9a5148-207d-4f94-a522-9bf350bfae94"
   },
   "outputs": [
    {
     "data": {
      "text/plain": [
       "(6,)"
      ]
     },
     "execution_count": 24,
     "metadata": {},
     "output_type": "execute_result"
    }
   ],
   "source": [
    "a.shape"
   ]
  },
  {
   "cell_type": "code",
   "execution_count": null,
   "metadata": {
    "id": "sp5bo_gIKAtW",
    "outputId": "0b08d20e-9077-4519-f8fd-e494ffdc593a",
    "tags": []
   },
   "outputs": [
    {
     "data": {
      "text/plain": [
       "array([-3., -2., -1.,  0.,  1.,  2.])"
      ]
     },
     "execution_count": 28,
     "metadata": {},
     "output_type": "execute_result"
    }
   ],
   "source": [
    "np.arange(-3, 3).astype(float)"
   ]
  },
  {
   "cell_type": "code",
   "execution_count": null,
   "metadata": {
    "id": "kbKfUvQTKAtW",
    "outputId": "179a5fdb-0fed-4eb2-dad6-98cffe109476",
    "tags": []
   },
   "outputs": [
    {
     "data": {
      "text/plain": [
       "array([[ 6,  8, 10],\n",
       "       [12, 14, 16]])"
      ]
     },
     "execution_count": 44,
     "metadata": {},
     "output_type": "execute_result"
    }
   ],
   "source": [
    "a = np.arange(6,18,2).reshape(2, 3)\n",
    "a"
   ]
  },
  {
   "cell_type": "code",
   "execution_count": null,
   "metadata": {
    "id": "3H3XJQULKAtW",
    "outputId": "7eea9024-35fa-4aef-b041-c00cc8c8c222"
   },
   "outputs": [
    {
     "data": {
      "text/plain": [
       "array([[2.44948974, 2.82842712, 3.16227766],\n",
       "       [3.46410162, 3.74165739, 4.        ]])"
      ]
     },
     "execution_count": 45,
     "metadata": {},
     "output_type": "execute_result"
    }
   ],
   "source": [
    "np.sqrt(a)"
   ]
  },
  {
   "cell_type": "code",
   "execution_count": null,
   "metadata": {
    "id": "5nZJt_2FKAtW",
    "outputId": "cc624f17-b635-4c61-8c81-528f9d65e4f7"
   },
   "outputs": [
    {
     "data": {
      "text/plain": [
       "array([[2.44948974, 2.82842712, 3.16227766],\n",
       "       [3.46410162, 3.74165739, 4.        ]])"
      ]
     },
     "execution_count": 40,
     "metadata": {},
     "output_type": "execute_result"
    }
   ],
   "source": [
    "np.sqrt(np.arange(6, 18,2).reshape(2, 3))"
   ]
  },
  {
   "cell_type": "code",
   "execution_count": null,
   "metadata": {
    "id": "ds15pUydKAtW",
    "outputId": "717a8ce4-0230-4071-d7c9-002e7fffa718",
    "tags": []
   },
   "outputs": [
    {
     "data": {
      "text/plain": [
       "array([[1.56508458, 1.68179283, 1.77827941],\n",
       "       [1.86120972, 1.93433642, 2.        ]])"
      ]
     },
     "execution_count": 41,
     "metadata": {},
     "output_type": "execute_result"
    }
   ],
   "source": [
    "np.sqrt(_)"
   ]
  },
  {
   "cell_type": "markdown",
   "metadata": {
    "id": "2rts0P08KAtW"
   },
   "source": [
    "### Funciones de comparación\n",
    "\n",
    "> Las comparaciones devuelven un array de booleanos:"
   ]
  },
  {
   "cell_type": "code",
   "execution_count": null,
   "metadata": {
    "id": "X6aZK6hCKAtW",
    "outputId": "8cd9c5e3-0a22-4ec6-b5c1-a5d9b74945d1"
   },
   "outputs": [
    {
     "data": {
      "text/plain": [
       "(array([0, 1, 2, 3, 4, 5]), array([1, 1, 1, 1, 1, 1]))"
      ]
     },
     "execution_count": 74,
     "metadata": {},
     "output_type": "execute_result"
    }
   ],
   "source": [
    "a = np.arange(6)\n",
    "b = np.ones(6).astype(int)\n",
    "a, b"
   ]
  },
  {
   "cell_type": "code",
   "execution_count": null,
   "metadata": {
    "id": "TxFdN-FZKAtW",
    "outputId": "e5149857-088e-48a3-d26d-e31e9816c8cc"
   },
   "outputs": [
    {
     "data": {
      "text/plain": [
       "array([ True, False, False, False, False, False])"
      ]
     },
     "execution_count": 75,
     "metadata": {},
     "output_type": "execute_result"
    }
   ],
   "source": [
    "a < b"
   ]
  },
  {
   "cell_type": "code",
   "execution_count": null,
   "metadata": {
    "id": "n7JhKiDRKAtW",
    "outputId": "9b66e08a-a2d6-46f5-8019-cc0c1208c7e3"
   },
   "outputs": [
    {
     "data": {
      "text/plain": [
       "True"
      ]
     },
     "execution_count": 76,
     "metadata": {},
     "output_type": "execute_result"
    }
   ],
   "source": [
    "np.any(a < b)"
   ]
  },
  {
   "cell_type": "code",
   "execution_count": null,
   "metadata": {
    "id": "TpMsklu7KAtX",
    "outputId": "598a04d5-23a9-46d5-c8c8-6fd4582095fe"
   },
   "outputs": [
    {
     "data": {
      "text/plain": [
       "False"
      ]
     },
     "execution_count": 77,
     "metadata": {},
     "output_type": "execute_result"
    }
   ],
   "source": [
    "np.all(a < b)"
   ]
  },
  {
   "cell_type": "code",
   "execution_count": null,
   "metadata": {
    "id": "2YMCKDl5KAtX"
   },
   "outputs": [],
   "source": []
  },
  {
   "cell_type": "code",
   "execution_count": null,
   "metadata": {
    "id": "wrnby0A3KAtX",
    "outputId": "20b12d74-d19a-43be-ba9a-882b9f4ab533"
   },
   "outputs": [
    {
     "data": {
      "text/plain": [
       "(array([0., 1., 2., 3., 4., 5.]), array([1., 1., 1., 1., 1., 1.]))"
      ]
     },
     "execution_count": 78,
     "metadata": {},
     "output_type": "execute_result"
    }
   ],
   "source": [
    "a = np.arange(6).astype(float)\n",
    "b = np.ones(6)\n",
    "a, b"
   ]
  },
  {
   "cell_type": "markdown",
   "metadata": {
    "id": "hqDHSPDCKAtX"
   },
   "source": [
    "> Las funciones `isclose` y `allclose` realizan comparaciones entre arrays especificando una tolerancia:"
   ]
  },
  {
   "cell_type": "code",
   "execution_count": null,
   "metadata": {
    "id": "HpRmMY8tKAtX",
    "outputId": "6543278d-e9f3-413b-b835-d6201c40429a"
   },
   "outputs": [
    {
     "data": {
      "text/plain": [
       "array([False,  True, False, False, False, False])"
      ]
     },
     "execution_count": 79,
     "metadata": {},
     "output_type": "execute_result"
    }
   ],
   "source": [
    "np.isclose(a, b, rtol=1e-6)"
   ]
  },
  {
   "cell_type": "code",
   "execution_count": null,
   "metadata": {
    "id": "dlPCAC23KAtX"
   },
   "outputs": [],
   "source": [
    "np.allclose(a, b, rtol=1e-6)"
   ]
  },
  {
   "cell_type": "markdown",
   "metadata": {
    "id": "6RzqVxYhKAta"
   },
   "source": [
    "> <div class=\"alert alert-error\">**¡Importante!** Ni en Python ni en ningún otro lenguaje debemos hacer comparaciones exactas entre números de punto flotante. Las operaciones matemáticas con estos números producen casi siempre resultados poco intuitivos y hay que tener cuidado con ellas. Para una introducción a estas peculiaridades existe la web http://puntoflotante.org/. </div>"
   ]
  },
  {
   "cell_type": "code",
   "execution_count": null,
   "metadata": {
    "id": "lx23CLLNKAta"
   },
   "outputs": [],
   "source": [
    "0.1 + 0.2 + 0.3"
   ]
  },
  {
   "cell_type": "code",
   "execution_count": null,
   "metadata": {
    "id": "OcybktjBKAta"
   },
   "outputs": [],
   "source": [
    "0.3 + 0.2 + 0.1"
   ]
  },
  {
   "cell_type": "code",
   "execution_count": null,
   "metadata": {
    "id": "YVzH6oYDKAta"
   },
   "outputs": [],
   "source": [
    "0.1 + 0.2 + 0.3 == 0.3 + 0.2 + 0.1"
   ]
  },
  {
   "cell_type": "markdown",
   "metadata": {
    "id": "1h-kEJ8gKAta"
   },
   "source": [
    "## Ejercicios"
   ]
  },
  {
   "cell_type": "markdown",
   "metadata": {
    "id": "Ejd-F1zVKAta"
   },
   "source": [
    "### Ejercicio 1.\n",
    "\n",
    "1. Crear un array `z1` 3x4 lleno de ceros de tipo entero.\n",
    "2. Crear un array `z2` 3x4 lleno de ceros salvo la primera fila que serán todo unos.\n",
    "3. Crear un array `z3` 3x4 lleno de ceros salvo la última fila que será el rango entre 5 y 8."
   ]
  },
  {
   "cell_type": "code",
   "execution_count": null,
   "metadata": {
    "id": "0hS1Iv0HKAtb",
    "outputId": "a2c20153-69c4-4fc5-bb74-5246a87627c7"
   },
   "outputs": [
    {
     "data": {
      "text/plain": [
       "array([[0, 0, 0, 0],\n",
       "       [0, 0, 0, 0],\n",
       "       [0, 0, 0, 0]])"
      ]
     },
     "execution_count": 84,
     "metadata": {},
     "output_type": "execute_result"
    }
   ],
   "source": [
    "import numpy\n",
    "z1=numpy.zeros((3,4)).astype(int)\n",
    "z1"
   ]
  },
  {
   "cell_type": "code",
   "execution_count": null,
   "metadata": {
    "id": "ZKspwtBuKAtb",
    "outputId": "e66e8d8f-34e4-45ba-adf0-adb1aa4862b2"
   },
   "outputs": [
    {
     "data": {
      "text/plain": [
       "array([[1, 1, 1, 1],\n",
       "       [0, 0, 0, 0],\n",
       "       [0, 0, 0, 0]])"
      ]
     },
     "execution_count": 87,
     "metadata": {},
     "output_type": "execute_result"
    }
   ],
   "source": [
    "z2=numpy.zeros((3,4)).astype(int)\n",
    "z2\n",
    "z2[0,:]=1\n",
    "z2"
   ]
  },
  {
   "cell_type": "code",
   "execution_count": null,
   "metadata": {
    "id": "yH8048h2KAtb",
    "outputId": "0c670a2b-5b3c-40c1-fe8e-042977cfd901"
   },
   "outputs": [
    {
     "data": {
      "text/plain": [
       "array([[0, 0, 0, 0],\n",
       "       [0, 0, 0, 0],\n",
       "       [5, 6, 7, 8]])"
      ]
     },
     "execution_count": 92,
     "metadata": {},
     "output_type": "execute_result"
    }
   ],
   "source": [
    "z3=numpy.zeros((3,4)).astype(int)\n",
    "z3\n",
    "z3[2,:]=np.linspace(5, 8, num=4)\n",
    "z3"
   ]
  },
  {
   "cell_type": "code",
   "execution_count": null,
   "metadata": {
    "id": "j4atvwEBKAtb",
    "outputId": "2a84192f-c842-4f3e-c588-60cb0b64951e"
   },
   "outputs": [
    {
     "data": {
      "text/plain": [
       "array([ 5, 78, 94, 65, 39, 93, 14, 21, 17, 55])"
      ]
     },
     "execution_count": 48,
     "metadata": {},
     "output_type": "execute_result"
    }
   ],
   "source": [
    "seq = np.random.randint(0, 100, size=10)\n",
    "seq"
   ]
  },
  {
   "cell_type": "code",
   "execution_count": null,
   "metadata": {
    "id": "xxnvEIKbKAtb"
   },
   "outputs": [],
   "source": []
  },
  {
   "cell_type": "markdown",
   "metadata": {
    "id": "_u0mWLk-KAtb"
   },
   "source": [
    "### Ejercicio 2.\n",
    "\n",
    "1. Crea un vector de 10 elementos, siendo los impares unos y los pares doses.\n",
    "2. Crea un «tablero de ajedrez», con unos en las casillas negras y ceros en las blancas."
   ]
  },
  {
   "cell_type": "code",
   "execution_count": null,
   "metadata": {
    "id": "NpdyR1mUKAtb"
   },
   "outputs": [],
   "source": []
  },
  {
   "cell_type": "code",
   "execution_count": null,
   "metadata": {
    "id": "rbm5ouxqKAtb"
   },
   "outputs": [],
   "source": []
  },
  {
   "cell_type": "markdown",
   "metadata": {
    "id": "GeE_thOCKAtb"
   },
   "source": [
    "### Ejercicio 3.\n",
    "\n",
    "1. Crea una matriz aleatoria 5x5 y halla los valores mínimo y máximo.\n",
    "2. Normaliza esa matriz entre 0 y 1."
   ]
  },
  {
   "cell_type": "code",
   "execution_count": null,
   "metadata": {
    "id": "58KlVOdkKAtb",
    "tags": []
   },
   "outputs": [],
   "source": []
  },
  {
   "cell_type": "code",
   "execution_count": null,
   "metadata": {
    "id": "ltS_uVo6KAtb",
    "outputId": "e0e68c30-22dc-4442-ee9f-9bf38c346463"
   },
   "outputs": [
    {
     "data": {
      "text/plain": [
       "array([2, 3, 4, 5])"
      ]
     },
     "execution_count": 50,
     "metadata": {},
     "output_type": "execute_result"
    }
   ],
   "source": [
    "a + 1"
   ]
  },
  {
   "cell_type": "code",
   "execution_count": null,
   "metadata": {
    "id": "Vqwj_ePPKAtb",
    "jupyter": {
     "source_hidden": true
    },
    "outputId": "d905e447-abba-4ad7-b3c1-c8b1ec79688e",
    "tags": []
   },
   "outputs": [
    {
     "data": {
      "text/plain": [
       "array([ 2,  4,  8, 16])"
      ]
     },
     "execution_count": 51,
     "metadata": {},
     "output_type": "execute_result"
    }
   ],
   "source": [
    "2**a"
   ]
  },
  {
   "cell_type": "code",
   "execution_count": null,
   "metadata": {
    "id": "PojaWSeMKAtb",
    "outputId": "759849d5-73c6-42ac-dd4d-18b3d3ad80fc"
   },
   "outputs": [
    {
     "data": {
      "text/plain": [
       "array([1, 2, 3, 4])"
      ]
     },
     "execution_count": 58,
     "metadata": {},
     "output_type": "execute_result"
    }
   ],
   "source": [
    "a = np.array([1, 2, 3, 4])\n",
    "a"
   ]
  },
  {
   "cell_type": "code",
   "execution_count": null,
   "metadata": {
    "id": "c2LmNlSkKAtc",
    "outputId": "f8380f12-3499-4bcc-e2de-b9bfd93662f7"
   },
   "outputs": [
    {
     "data": {
      "text/plain": [
       "array([2., 2., 2., 2.])"
      ]
     },
     "execution_count": 59,
     "metadata": {},
     "output_type": "execute_result"
    }
   ],
   "source": [
    "b = np.ones(4) + 1\n",
    "b"
   ]
  },
  {
   "cell_type": "code",
   "execution_count": null,
   "metadata": {
    "id": "ngEWdfzIKAtc",
    "outputId": "6267c4c0-4d69-4517-e37c-ce0786cf7de7"
   },
   "outputs": [
    {
     "data": {
      "text/plain": [
       "array([-1.,  0.,  1.,  2.])"
      ]
     },
     "execution_count": 53,
     "metadata": {},
     "output_type": "execute_result"
    }
   ],
   "source": [
    "a - b"
   ]
  },
  {
   "cell_type": "code",
   "execution_count": null,
   "metadata": {
    "id": "7ieBiflEKAtc",
    "outputId": "87dc075f-447b-4573-eefe-892fcb4ac590"
   },
   "outputs": [
    {
     "data": {
      "text/plain": [
       "array([2., 4., 6., 8.])"
      ]
     },
     "execution_count": 54,
     "metadata": {},
     "output_type": "execute_result"
    }
   ],
   "source": [
    "a * b"
   ]
  },
  {
   "cell_type": "code",
   "execution_count": null,
   "metadata": {
    "id": "JfIA05XnKAtc",
    "outputId": "0eb93c5f-93f2-44e8-cacb-05cdf6354c03"
   },
   "outputs": [
    {
     "data": {
      "text/plain": [
       "array([0, 1, 2, 3, 4])"
      ]
     },
     "execution_count": 61,
     "metadata": {},
     "output_type": "execute_result"
    }
   ],
   "source": [
    "j = np.arange(5)\n",
    "j"
   ]
  },
  {
   "cell_type": "code",
   "execution_count": null,
   "metadata": {
    "id": "Zj7p1pPoKAtc",
    "outputId": "f1d89c8a-1f33-4c5f-b80b-6c2acec72536"
   },
   "outputs": [
    {
     "data": {
      "text/plain": [
       "array([ 2,  3,  6, 13, 28])"
      ]
     },
     "execution_count": 56,
     "metadata": {},
     "output_type": "execute_result"
    }
   ],
   "source": [
    "2**(j + 1) - j"
   ]
  },
  {
   "cell_type": "markdown",
   "metadata": {
    "id": "G7GK_j-JKAtc"
   },
   "source": [
    "## Bibliografía\n",
    "\n",
    "* Documentación de NumPy http://docs.scipy.org/doc/numpy\n",
    "* Travis Oliphant, \"Guide to NumPy\" http://csc.ucdavis.edu/~chaos/courses/nlp/Software/NumPyBook.pdf\n",
    "* SciPy Lecture Notes http://scipy-lectures.github.io\n",
    "* Nicolas Rougier, \"100 NumPy exercises\" http://www.loria.fr/~rougier/teaching/numpy.100/index.html"
   ]
  }
 ],
 "metadata": {
  "colab": {
   "provenance": [],
   "toc_visible": true
  },
  "kernelspec": {
   "display_name": "Python 3 (ipykernel)",
   "language": "python",
   "name": "python3"
  },
  "language_info": {
   "codemirror_mode": {
    "name": "ipython",
    "version": 3
   },
   "file_extension": ".py",
   "mimetype": "text/x-python",
   "name": "python",
   "nbconvert_exporter": "python",
   "pygments_lexer": "ipython3",
   "version": "3.10.9"
  }
 },
 "nbformat": 4,
 "nbformat_minor": 1
}
