{
 "cells": [
  {
   "cell_type": "markdown",
   "metadata": {},
   "source": [
    "# Caso Covid en Chile"
   ]
  },
  {
   "cell_type": "code",
   "execution_count": 1,
   "metadata": {},
   "outputs": [],
   "source": [
    "import pandas as pd"
   ]
  },
  {
   "cell_type": "code",
   "execution_count": 2,
   "metadata": {},
   "outputs": [],
   "source": [
    "df = pd.read_csv('datos-covid.csv')"
   ]
  },
  {
   "cell_type": "code",
   "execution_count": 3,
   "metadata": {},
   "outputs": [
    {
     "data": {
      "text/html": [
       "<div>\n",
       "<style scoped>\n",
       "    .dataframe tbody tr th:only-of-type {\n",
       "        vertical-align: middle;\n",
       "    }\n",
       "\n",
       "    .dataframe tbody tr th {\n",
       "        vertical-align: top;\n",
       "    }\n",
       "\n",
       "    .dataframe thead th {\n",
       "        text-align: right;\n",
       "    }\n",
       "</style>\n",
       "<table border=\"1\" class=\"dataframe\">\n",
       "  <thead>\n",
       "    <tr style=\"text-align: right;\">\n",
       "      <th></th>\n",
       "      <th>Grupo de edad</th>\n",
       "      <th>Sexo</th>\n",
       "      <th>Fecha</th>\n",
       "      <th>Contagios</th>\n",
       "    </tr>\n",
       "  </thead>\n",
       "  <tbody>\n",
       "    <tr>\n",
       "      <th>0</th>\n",
       "      <td>00 - 04 años</td>\n",
       "      <td>M</td>\n",
       "      <td>2020-03-25</td>\n",
       "      <td>4</td>\n",
       "    </tr>\n",
       "    <tr>\n",
       "      <th>1</th>\n",
       "      <td>05 - 09 años</td>\n",
       "      <td>M</td>\n",
       "      <td>2020-03-25</td>\n",
       "      <td>2</td>\n",
       "    </tr>\n",
       "    <tr>\n",
       "      <th>2</th>\n",
       "      <td>10 - 14 años</td>\n",
       "      <td>M</td>\n",
       "      <td>2020-03-25</td>\n",
       "      <td>7</td>\n",
       "    </tr>\n",
       "    <tr>\n",
       "      <th>3</th>\n",
       "      <td>15 - 19 años</td>\n",
       "      <td>M</td>\n",
       "      <td>2020-03-25</td>\n",
       "      <td>8</td>\n",
       "    </tr>\n",
       "    <tr>\n",
       "      <th>4</th>\n",
       "      <td>20 - 24 años</td>\n",
       "      <td>M</td>\n",
       "      <td>2020-03-25</td>\n",
       "      <td>25</td>\n",
       "    </tr>\n",
       "  </tbody>\n",
       "</table>\n",
       "</div>"
      ],
      "text/plain": [
       "  Grupo de edad Sexo       Fecha  Contagios\n",
       "0  00 - 04 años    M  2020-03-25          4\n",
       "1  05 - 09 años    M  2020-03-25          2\n",
       "2  10 - 14 años    M  2020-03-25          7\n",
       "3  15 - 19 años    M  2020-03-25          8\n",
       "4  20 - 24 años    M  2020-03-25         25"
      ]
     },
     "execution_count": 3,
     "metadata": {},
     "output_type": "execute_result"
    }
   ],
   "source": [
    "df.head(5)"
   ]
  },
  {
   "cell_type": "code",
   "execution_count": 4,
   "metadata": {},
   "outputs": [
    {
     "data": {
      "text/html": [
       "<div>\n",
       "<style scoped>\n",
       "    .dataframe tbody tr th:only-of-type {\n",
       "        vertical-align: middle;\n",
       "    }\n",
       "\n",
       "    .dataframe tbody tr th {\n",
       "        vertical-align: top;\n",
       "    }\n",
       "\n",
       "    .dataframe thead th {\n",
       "        text-align: right;\n",
       "    }\n",
       "</style>\n",
       "<table border=\"1\" class=\"dataframe\">\n",
       "  <thead>\n",
       "    <tr style=\"text-align: right;\">\n",
       "      <th></th>\n",
       "      <th>Grupo de edad</th>\n",
       "      <th>Sexo</th>\n",
       "      <th>Fecha</th>\n",
       "      <th>Contagios</th>\n",
       "    </tr>\n",
       "  </thead>\n",
       "  <tbody>\n",
       "    <tr>\n",
       "      <th>10</th>\n",
       "      <td>50 - 54 años</td>\n",
       "      <td>M</td>\n",
       "      <td>2020-03-25</td>\n",
       "      <td>28</td>\n",
       "    </tr>\n",
       "    <tr>\n",
       "      <th>11</th>\n",
       "      <td>55 - 59 años</td>\n",
       "      <td>M</td>\n",
       "      <td>2020-03-25</td>\n",
       "      <td>30</td>\n",
       "    </tr>\n",
       "    <tr>\n",
       "      <th>12</th>\n",
       "      <td>60 - 64 años</td>\n",
       "      <td>M</td>\n",
       "      <td>2020-03-25</td>\n",
       "      <td>18</td>\n",
       "    </tr>\n",
       "    <tr>\n",
       "      <th>13</th>\n",
       "      <td>65 - 69 años</td>\n",
       "      <td>M</td>\n",
       "      <td>2020-03-25</td>\n",
       "      <td>14</td>\n",
       "    </tr>\n",
       "    <tr>\n",
       "      <th>14</th>\n",
       "      <td>70 - 74 años</td>\n",
       "      <td>M</td>\n",
       "      <td>2020-03-25</td>\n",
       "      <td>16</td>\n",
       "    </tr>\n",
       "    <tr>\n",
       "      <th>15</th>\n",
       "      <td>75 - 79 años</td>\n",
       "      <td>M</td>\n",
       "      <td>2020-03-25</td>\n",
       "      <td>8</td>\n",
       "    </tr>\n",
       "    <tr>\n",
       "      <th>16</th>\n",
       "      <td>80 y más años</td>\n",
       "      <td>M</td>\n",
       "      <td>2020-03-25</td>\n",
       "      <td>6</td>\n",
       "    </tr>\n",
       "    <tr>\n",
       "      <th>17</th>\n",
       "      <td>00 - 04 años</td>\n",
       "      <td>F</td>\n",
       "      <td>2020-03-25</td>\n",
       "      <td>6</td>\n",
       "    </tr>\n",
       "    <tr>\n",
       "      <th>18</th>\n",
       "      <td>05 - 09 años</td>\n",
       "      <td>F</td>\n",
       "      <td>2020-03-25</td>\n",
       "      <td>4</td>\n",
       "    </tr>\n",
       "    <tr>\n",
       "      <th>19</th>\n",
       "      <td>10 - 14 años</td>\n",
       "      <td>F</td>\n",
       "      <td>2020-03-25</td>\n",
       "      <td>2</td>\n",
       "    </tr>\n",
       "  </tbody>\n",
       "</table>\n",
       "</div>"
      ],
      "text/plain": [
       "    Grupo de edad Sexo       Fecha  Contagios\n",
       "10   50 - 54 años    M  2020-03-25         28\n",
       "11   55 - 59 años    M  2020-03-25         30\n",
       "12   60 - 64 años    M  2020-03-25         18\n",
       "13   65 - 69 años    M  2020-03-25         14\n",
       "14   70 - 74 años    M  2020-03-25         16\n",
       "15   75 - 79 años    M  2020-03-25          8\n",
       "16  80 y más años    M  2020-03-25          6\n",
       "17   00 - 04 años    F  2020-03-25          6\n",
       "18   05 - 09 años    F  2020-03-25          4\n",
       "19   10 - 14 años    F  2020-03-25          2"
      ]
     },
     "execution_count": 4,
     "metadata": {},
     "output_type": "execute_result"
    }
   ],
   "source": [
    "df[10:20]"
   ]
  },
  {
   "cell_type": "code",
   "execution_count": 5,
   "metadata": {},
   "outputs": [
    {
     "data": {
      "text/html": [
       "<div>\n",
       "<style scoped>\n",
       "    .dataframe tbody tr th:only-of-type {\n",
       "        vertical-align: middle;\n",
       "    }\n",
       "\n",
       "    .dataframe tbody tr th {\n",
       "        vertical-align: top;\n",
       "    }\n",
       "\n",
       "    .dataframe thead th {\n",
       "        text-align: right;\n",
       "    }\n",
       "</style>\n",
       "<table border=\"1\" class=\"dataframe\">\n",
       "  <thead>\n",
       "    <tr style=\"text-align: right;\">\n",
       "      <th></th>\n",
       "      <th>Contagios</th>\n",
       "    </tr>\n",
       "    <tr>\n",
       "      <th>Grupo de edad</th>\n",
       "      <th></th>\n",
       "    </tr>\n",
       "  </thead>\n",
       "  <tbody>\n",
       "    <tr>\n",
       "      <th>00 - 04 años</th>\n",
       "      <td>74310</td>\n",
       "    </tr>\n",
       "    <tr>\n",
       "      <th>05 - 09 años</th>\n",
       "      <td>57975</td>\n",
       "    </tr>\n",
       "    <tr>\n",
       "      <th>10 - 14 años</th>\n",
       "      <td>70018</td>\n",
       "    </tr>\n",
       "    <tr>\n",
       "      <th>15 - 19 años</th>\n",
       "      <td>127772</td>\n",
       "    </tr>\n",
       "    <tr>\n",
       "      <th>20 - 24 años</th>\n",
       "      <td>326285</td>\n",
       "    </tr>\n",
       "    <tr>\n",
       "      <th>25 - 29 años</th>\n",
       "      <td>529184</td>\n",
       "    </tr>\n",
       "    <tr>\n",
       "      <th>30 - 34 años</th>\n",
       "      <td>521901</td>\n",
       "    </tr>\n",
       "    <tr>\n",
       "      <th>35 - 39 años</th>\n",
       "      <td>427950</td>\n",
       "    </tr>\n",
       "    <tr>\n",
       "      <th>40 - 44 años</th>\n",
       "      <td>358031</td>\n",
       "    </tr>\n",
       "    <tr>\n",
       "      <th>45 - 49 años</th>\n",
       "      <td>355323</td>\n",
       "    </tr>\n",
       "    <tr>\n",
       "      <th>50 - 54 años</th>\n",
       "      <td>333080</td>\n",
       "    </tr>\n",
       "    <tr>\n",
       "      <th>55 - 59 años</th>\n",
       "      <td>304824</td>\n",
       "    </tr>\n",
       "    <tr>\n",
       "      <th>60 - 64 años</th>\n",
       "      <td>220451</td>\n",
       "    </tr>\n",
       "    <tr>\n",
       "      <th>65 - 69 años</th>\n",
       "      <td>141207</td>\n",
       "    </tr>\n",
       "    <tr>\n",
       "      <th>70 - 74 años</th>\n",
       "      <td>103298</td>\n",
       "    </tr>\n",
       "    <tr>\n",
       "      <th>75 - 79 años</th>\n",
       "      <td>74291</td>\n",
       "    </tr>\n",
       "    <tr>\n",
       "      <th>80 y más años</th>\n",
       "      <td>109096</td>\n",
       "    </tr>\n",
       "  </tbody>\n",
       "</table>\n",
       "</div>"
      ],
      "text/plain": [
       "               Contagios\n",
       "Grupo de edad           \n",
       "00 - 04 años       74310\n",
       "05 - 09 años       57975\n",
       "10 - 14 años       70018\n",
       "15 - 19 años      127772\n",
       "20 - 24 años      326285\n",
       "25 - 29 años      529184\n",
       "30 - 34 años      521901\n",
       "35 - 39 años      427950\n",
       "40 - 44 años      358031\n",
       "45 - 49 años      355323\n",
       "50 - 54 años      333080\n",
       "55 - 59 años      304824\n",
       "60 - 64 años      220451\n",
       "65 - 69 años      141207\n",
       "70 - 74 años      103298\n",
       "75 - 79 años       74291\n",
       "80 y más años     109096"
      ]
     },
     "execution_count": 5,
     "metadata": {},
     "output_type": "execute_result"
    }
   ],
   "source": [
    "df.groupby('Grupo de edad').sum()"
   ]
  },
  {
   "cell_type": "code",
   "execution_count": 6,
   "metadata": {},
   "outputs": [
    {
     "data": {
      "text/html": [
       "<div>\n",
       "<style scoped>\n",
       "    .dataframe tbody tr th:only-of-type {\n",
       "        vertical-align: middle;\n",
       "    }\n",
       "\n",
       "    .dataframe tbody tr th {\n",
       "        vertical-align: top;\n",
       "    }\n",
       "\n",
       "    .dataframe thead th {\n",
       "        text-align: right;\n",
       "    }\n",
       "</style>\n",
       "<table border=\"1\" class=\"dataframe\">\n",
       "  <thead>\n",
       "    <tr style=\"text-align: right;\">\n",
       "      <th></th>\n",
       "      <th>Contagios</th>\n",
       "    </tr>\n",
       "    <tr>\n",
       "      <th>Sexo</th>\n",
       "      <th></th>\n",
       "    </tr>\n",
       "  </thead>\n",
       "  <tbody>\n",
       "    <tr>\n",
       "      <th>F</th>\n",
       "      <td>1989709</td>\n",
       "    </tr>\n",
       "    <tr>\n",
       "      <th>M</th>\n",
       "      <td>2145287</td>\n",
       "    </tr>\n",
       "  </tbody>\n",
       "</table>\n",
       "</div>"
      ],
      "text/plain": [
       "      Contagios\n",
       "Sexo           \n",
       "F       1989709\n",
       "M       2145287"
      ]
     },
     "execution_count": 6,
     "metadata": {},
     "output_type": "execute_result"
    }
   ],
   "source": [
    "df.groupby('Sexo').sum()"
   ]
  },
  {
   "cell_type": "code",
   "execution_count": 7,
   "metadata": {},
   "outputs": [
    {
     "data": {
      "text/html": [
       "<div>\n",
       "<style scoped>\n",
       "    .dataframe tbody tr th:only-of-type {\n",
       "        vertical-align: middle;\n",
       "    }\n",
       "\n",
       "    .dataframe tbody tr th {\n",
       "        vertical-align: top;\n",
       "    }\n",
       "\n",
       "    .dataframe thead th {\n",
       "        text-align: right;\n",
       "    }\n",
       "</style>\n",
       "<table border=\"1\" class=\"dataframe\">\n",
       "  <thead>\n",
       "    <tr style=\"text-align: right;\">\n",
       "      <th></th>\n",
       "      <th>Contagios</th>\n",
       "    </tr>\n",
       "    <tr>\n",
       "      <th>Fecha</th>\n",
       "      <th></th>\n",
       "    </tr>\n",
       "  </thead>\n",
       "  <tbody>\n",
       "    <tr>\n",
       "      <th>2020-03-25</th>\n",
       "      <td>1012</td>\n",
       "    </tr>\n",
       "    <tr>\n",
       "      <th>2020-03-26</th>\n",
       "      <td>1252</td>\n",
       "    </tr>\n",
       "    <tr>\n",
       "      <th>2020-03-27</th>\n",
       "      <td>1434</td>\n",
       "    </tr>\n",
       "    <tr>\n",
       "      <th>2020-03-28</th>\n",
       "      <td>1723</td>\n",
       "    </tr>\n",
       "    <tr>\n",
       "      <th>2020-03-29</th>\n",
       "      <td>1906</td>\n",
       "    </tr>\n",
       "    <tr>\n",
       "      <th>2020-03-30</th>\n",
       "      <td>2088</td>\n",
       "    </tr>\n",
       "    <tr>\n",
       "      <th>2020-03-31</th>\n",
       "      <td>2373</td>\n",
       "    </tr>\n",
       "    <tr>\n",
       "      <th>2020-04-01</th>\n",
       "      <td>2744</td>\n",
       "    </tr>\n",
       "    <tr>\n",
       "      <th>2020-04-02</th>\n",
       "      <td>2938</td>\n",
       "    </tr>\n",
       "    <tr>\n",
       "      <th>2020-04-03</th>\n",
       "      <td>3398</td>\n",
       "    </tr>\n",
       "    <tr>\n",
       "      <th>2020-04-04</th>\n",
       "      <td>3785</td>\n",
       "    </tr>\n",
       "    <tr>\n",
       "      <th>2020-04-05</th>\n",
       "      <td>4082</td>\n",
       "    </tr>\n",
       "    <tr>\n",
       "      <th>2020-04-06</th>\n",
       "      <td>4346</td>\n",
       "    </tr>\n",
       "    <tr>\n",
       "      <th>2020-04-07</th>\n",
       "      <td>4617</td>\n",
       "    </tr>\n",
       "    <tr>\n",
       "      <th>2020-04-08</th>\n",
       "      <td>5397</td>\n",
       "    </tr>\n",
       "    <tr>\n",
       "      <th>2020-04-09</th>\n",
       "      <td>5810</td>\n",
       "    </tr>\n",
       "    <tr>\n",
       "      <th>2020-04-10</th>\n",
       "      <td>6292</td>\n",
       "    </tr>\n",
       "    <tr>\n",
       "      <th>2020-04-11</th>\n",
       "      <td>6702</td>\n",
       "    </tr>\n",
       "    <tr>\n",
       "      <th>2020-04-12</th>\n",
       "      <td>7016</td>\n",
       "    </tr>\n",
       "    <tr>\n",
       "      <th>2020-04-13</th>\n",
       "      <td>7412</td>\n",
       "    </tr>\n",
       "    <tr>\n",
       "      <th>2020-04-14</th>\n",
       "      <td>7716</td>\n",
       "    </tr>\n",
       "    <tr>\n",
       "      <th>2020-04-15</th>\n",
       "      <td>8216</td>\n",
       "    </tr>\n",
       "    <tr>\n",
       "      <th>2020-04-16</th>\n",
       "      <td>8740</td>\n",
       "    </tr>\n",
       "    <tr>\n",
       "      <th>2020-04-17</th>\n",
       "      <td>9252</td>\n",
       "    </tr>\n",
       "    <tr>\n",
       "      <th>2020-04-18</th>\n",
       "      <td>9730</td>\n",
       "    </tr>\n",
       "    <tr>\n",
       "      <th>2020-04-19</th>\n",
       "      <td>10088</td>\n",
       "    </tr>\n",
       "    <tr>\n",
       "      <th>2020-04-20</th>\n",
       "      <td>10451</td>\n",
       "    </tr>\n",
       "    <tr>\n",
       "      <th>2020-04-21</th>\n",
       "      <td>10832</td>\n",
       "    </tr>\n",
       "    <tr>\n",
       "      <th>2020-04-22</th>\n",
       "      <td>11296</td>\n",
       "    </tr>\n",
       "    <tr>\n",
       "      <th>2020-04-23</th>\n",
       "      <td>11812</td>\n",
       "    </tr>\n",
       "    <tr>\n",
       "      <th>2020-04-24</th>\n",
       "      <td>12214</td>\n",
       "    </tr>\n",
       "    <tr>\n",
       "      <th>2020-04-25</th>\n",
       "      <td>12785</td>\n",
       "    </tr>\n",
       "    <tr>\n",
       "      <th>2020-04-26</th>\n",
       "      <td>13284</td>\n",
       "    </tr>\n",
       "    <tr>\n",
       "      <th>2020-04-27</th>\n",
       "      <td>13704</td>\n",
       "    </tr>\n",
       "    <tr>\n",
       "      <th>2020-04-28</th>\n",
       "      <td>14362</td>\n",
       "    </tr>\n",
       "    <tr>\n",
       "      <th>2020-05-01</th>\n",
       "      <td>17008</td>\n",
       "    </tr>\n",
       "    <tr>\n",
       "      <th>2020-05-02</th>\n",
       "      <td>18433</td>\n",
       "    </tr>\n",
       "    <tr>\n",
       "      <th>2020-05-04</th>\n",
       "      <td>20567</td>\n",
       "    </tr>\n",
       "    <tr>\n",
       "      <th>2020-05-06</th>\n",
       "      <td>23011</td>\n",
       "    </tr>\n",
       "    <tr>\n",
       "      <th>2020-05-08</th>\n",
       "      <td>25952</td>\n",
       "    </tr>\n",
       "    <tr>\n",
       "      <th>2020-05-11</th>\n",
       "      <td>30047</td>\n",
       "    </tr>\n",
       "    <tr>\n",
       "      <th>2020-05-15</th>\n",
       "      <td>39511</td>\n",
       "    </tr>\n",
       "    <tr>\n",
       "      <th>2020-05-18</th>\n",
       "      <td>46048</td>\n",
       "    </tr>\n",
       "    <tr>\n",
       "      <th>2020-05-22</th>\n",
       "      <td>61848</td>\n",
       "    </tr>\n",
       "    <tr>\n",
       "      <th>2020-05-25</th>\n",
       "      <td>73995</td>\n",
       "    </tr>\n",
       "    <tr>\n",
       "      <th>2020-05-29</th>\n",
       "      <td>90634</td>\n",
       "    </tr>\n",
       "    <tr>\n",
       "      <th>2020-06-01</th>\n",
       "      <td>105157</td>\n",
       "    </tr>\n",
       "    <tr>\n",
       "      <th>2020-06-05</th>\n",
       "      <td>122495</td>\n",
       "    </tr>\n",
       "    <tr>\n",
       "      <th>2020-06-08</th>\n",
       "      <td>138842</td>\n",
       "    </tr>\n",
       "    <tr>\n",
       "      <th>2020-06-12</th>\n",
       "      <td>160840</td>\n",
       "    </tr>\n",
       "    <tr>\n",
       "      <th>2020-06-15</th>\n",
       "      <td>179430</td>\n",
       "    </tr>\n",
       "    <tr>\n",
       "      <th>2020-06-19</th>\n",
       "      <td>231352</td>\n",
       "    </tr>\n",
       "    <tr>\n",
       "      <th>2020-06-23</th>\n",
       "      <td>255361</td>\n",
       "    </tr>\n",
       "    <tr>\n",
       "      <th>2020-06-28</th>\n",
       "      <td>281458</td>\n",
       "    </tr>\n",
       "    <tr>\n",
       "      <th>2020-07-01</th>\n",
       "      <td>292188</td>\n",
       "    </tr>\n",
       "    <tr>\n",
       "      <th>2020-07-05</th>\n",
       "      <td>309356</td>\n",
       "    </tr>\n",
       "    <tr>\n",
       "      <th>2020-07-10</th>\n",
       "      <td>326072</td>\n",
       "    </tr>\n",
       "    <tr>\n",
       "      <th>2020-07-13</th>\n",
       "      <td>336254</td>\n",
       "    </tr>\n",
       "    <tr>\n",
       "      <th>2020-07-17</th>\n",
       "      <td>346486</td>\n",
       "    </tr>\n",
       "    <tr>\n",
       "      <th>2020-07-24</th>\n",
       "      <td>361842</td>\n",
       "    </tr>\n",
       "  </tbody>\n",
       "</table>\n",
       "</div>"
      ],
      "text/plain": [
       "            Contagios\n",
       "Fecha                \n",
       "2020-03-25       1012\n",
       "2020-03-26       1252\n",
       "2020-03-27       1434\n",
       "2020-03-28       1723\n",
       "2020-03-29       1906\n",
       "2020-03-30       2088\n",
       "2020-03-31       2373\n",
       "2020-04-01       2744\n",
       "2020-04-02       2938\n",
       "2020-04-03       3398\n",
       "2020-04-04       3785\n",
       "2020-04-05       4082\n",
       "2020-04-06       4346\n",
       "2020-04-07       4617\n",
       "2020-04-08       5397\n",
       "2020-04-09       5810\n",
       "2020-04-10       6292\n",
       "2020-04-11       6702\n",
       "2020-04-12       7016\n",
       "2020-04-13       7412\n",
       "2020-04-14       7716\n",
       "2020-04-15       8216\n",
       "2020-04-16       8740\n",
       "2020-04-17       9252\n",
       "2020-04-18       9730\n",
       "2020-04-19      10088\n",
       "2020-04-20      10451\n",
       "2020-04-21      10832\n",
       "2020-04-22      11296\n",
       "2020-04-23      11812\n",
       "2020-04-24      12214\n",
       "2020-04-25      12785\n",
       "2020-04-26      13284\n",
       "2020-04-27      13704\n",
       "2020-04-28      14362\n",
       "2020-05-01      17008\n",
       "2020-05-02      18433\n",
       "2020-05-04      20567\n",
       "2020-05-06      23011\n",
       "2020-05-08      25952\n",
       "2020-05-11      30047\n",
       "2020-05-15      39511\n",
       "2020-05-18      46048\n",
       "2020-05-22      61848\n",
       "2020-05-25      73995\n",
       "2020-05-29      90634\n",
       "2020-06-01     105157\n",
       "2020-06-05     122495\n",
       "2020-06-08     138842\n",
       "2020-06-12     160840\n",
       "2020-06-15     179430\n",
       "2020-06-19     231352\n",
       "2020-06-23     255361\n",
       "2020-06-28     281458\n",
       "2020-07-01     292188\n",
       "2020-07-05     309356\n",
       "2020-07-10     326072\n",
       "2020-07-13     336254\n",
       "2020-07-17     346486\n",
       "2020-07-24     361842"
      ]
     },
     "execution_count": 7,
     "metadata": {},
     "output_type": "execute_result"
    }
   ],
   "source": [
    "df.groupby('Fecha').sum()"
   ]
  },
  {
   "cell_type": "code",
   "execution_count": 9,
   "metadata": {},
   "outputs": [
    {
     "data": {
      "text/plain": [
       "<matplotlib.axes._subplots.AxesSubplot at 0x208c8484b08>"
      ]
     },
     "execution_count": 9,
     "metadata": {},
     "output_type": "execute_result"
    },
    {
     "data": {
      "image/png": "[encoded data removed]",
      "text/plain": [
       "<Figure size 432x288 with 1 Axes>"
      ]
     },
     "metadata": {
      "needs_background": "light"
     },
     "output_type": "display_data"
    }
   ],
   "source": [
    "df.groupby('Grupo de edad').sum().plot(kind='bar')"
   ]
  },
  {
   "cell_type": "code",
   "execution_count": 10,
   "metadata": {},
   "outputs": [
    {
     "data": {
      "text/plain": [
       "<matplotlib.axes._subplots.AxesSubplot at 0x208c845ad48>"
      ]
     },
     "execution_count": 10,
     "metadata": {},
     "output_type": "execute_result"
    },
    {
     "data": {
      "image/png": "[encoded data removed]",
      "text/plain": [
       "<Figure size 432x288 with 1 Axes>"
      ]
     },
     "metadata": {
      "needs_background": "light"
     },
     "output_type": "display_data"
    }
   ],
   "source": [
    "df.groupby('Fecha').sum().plot(kind='line')"
   ]
  },
  {
   "cell_type": "code",
   "execution_count": 11,
   "metadata": {},
   "outputs": [
    {
     "data": {
      "text/html": [
       "<div>\n",
       "<style scoped>\n",
       "    .dataframe tbody tr th:only-of-type {\n",
       "        vertical-align: middle;\n",
       "    }\n",
       "\n",
       "    .dataframe tbody tr th {\n",
       "        vertical-align: top;\n",
       "    }\n",
       "\n",
       "    .dataframe thead th {\n",
       "        text-align: right;\n",
       "    }\n",
       "</style>\n",
       "<table border=\"1\" class=\"dataframe\">\n",
       "  <thead>\n",
       "    <tr style=\"text-align: right;\">\n",
       "      <th></th>\n",
       "      <th>Grupo de edad</th>\n",
       "      <th>Sexo</th>\n",
       "      <th>Fecha</th>\n",
       "      <th>Contagios</th>\n",
       "    </tr>\n",
       "  </thead>\n",
       "  <tbody>\n",
       "    <tr>\n",
       "      <th>0</th>\n",
       "      <td>00 - 04 años</td>\n",
       "      <td>M</td>\n",
       "      <td>2020-03-25</td>\n",
       "      <td>4</td>\n",
       "    </tr>\n",
       "    <tr>\n",
       "      <th>1</th>\n",
       "      <td>05 - 09 años</td>\n",
       "      <td>M</td>\n",
       "      <td>2020-03-25</td>\n",
       "      <td>2</td>\n",
       "    </tr>\n",
       "    <tr>\n",
       "      <th>2</th>\n",
       "      <td>10 - 14 años</td>\n",
       "      <td>M</td>\n",
       "      <td>2020-03-25</td>\n",
       "      <td>7</td>\n",
       "    </tr>\n",
       "    <tr>\n",
       "      <th>3</th>\n",
       "      <td>15 - 19 años</td>\n",
       "      <td>M</td>\n",
       "      <td>2020-03-25</td>\n",
       "      <td>8</td>\n",
       "    </tr>\n",
       "    <tr>\n",
       "      <th>4</th>\n",
       "      <td>20 - 24 años</td>\n",
       "      <td>M</td>\n",
       "      <td>2020-03-25</td>\n",
       "      <td>25</td>\n",
       "    </tr>\n",
       "    <tr>\n",
       "      <th>...</th>\n",
       "      <td>...</td>\n",
       "      <td>...</td>\n",
       "      <td>...</td>\n",
       "      <td>...</td>\n",
       "    </tr>\n",
       "    <tr>\n",
       "      <th>2035</th>\n",
       "      <td>60 - 64 años</td>\n",
       "      <td>F</td>\n",
       "      <td>2020-07-24</td>\n",
       "      <td>9062</td>\n",
       "    </tr>\n",
       "    <tr>\n",
       "      <th>2036</th>\n",
       "      <td>65 - 69 años</td>\n",
       "      <td>F</td>\n",
       "      <td>2020-07-24</td>\n",
       "      <td>6015</td>\n",
       "    </tr>\n",
       "    <tr>\n",
       "      <th>2037</th>\n",
       "      <td>70 - 74 años</td>\n",
       "      <td>F</td>\n",
       "      <td>2020-07-24</td>\n",
       "      <td>4533</td>\n",
       "    </tr>\n",
       "    <tr>\n",
       "      <th>2038</th>\n",
       "      <td>75 - 79 años</td>\n",
       "      <td>F</td>\n",
       "      <td>2020-07-24</td>\n",
       "      <td>3452</td>\n",
       "    </tr>\n",
       "    <tr>\n",
       "      <th>2039</th>\n",
       "      <td>80 y más años</td>\n",
       "      <td>F</td>\n",
       "      <td>2020-07-24</td>\n",
       "      <td>6171</td>\n",
       "    </tr>\n",
       "  </tbody>\n",
       "</table>\n",
       "<p>2040 rows × 4 columns</p>\n",
       "</div>"
      ],
      "text/plain": [
       "      Grupo de edad Sexo       Fecha  Contagios\n",
       "0      00 - 04 años    M  2020-03-25          4\n",
       "1      05 - 09 años    M  2020-03-25          2\n",
       "2      10 - 14 años    M  2020-03-25          7\n",
       "3      15 - 19 años    M  2020-03-25          8\n",
       "4      20 - 24 años    M  2020-03-25         25\n",
       "...             ...  ...         ...        ...\n",
       "2035   60 - 64 años    F  2020-07-24       9062\n",
       "2036   65 - 69 años    F  2020-07-24       6015\n",
       "2037   70 - 74 años    F  2020-07-24       4533\n",
       "2038   75 - 79 años    F  2020-07-24       3452\n",
       "2039  80 y más años    F  2020-07-24       6171\n",
       "\n",
       "[2040 rows x 4 columns]"
      ]
     },
     "execution_count": 11,
     "metadata": {},
     "output_type": "execute_result"
    }
   ],
   "source": [
    "df"
   ]
  },
  {
   "cell_type": "code",
   "execution_count": 12,
   "metadata": {},
   "outputs": [
    {
     "data": {
      "text/html": [
       "<div>\n",
       "<style scoped>\n",
       "    .dataframe tbody tr th:only-of-type {\n",
       "        vertical-align: middle;\n",
       "    }\n",
       "\n",
       "    .dataframe tbody tr th {\n",
       "        vertical-align: top;\n",
       "    }\n",
       "\n",
       "    .dataframe thead th {\n",
       "        text-align: right;\n",
       "    }\n",
       "</style>\n",
       "<table border=\"1\" class=\"dataframe\">\n",
       "  <thead>\n",
       "    <tr style=\"text-align: right;\">\n",
       "      <th></th>\n",
       "      <th>Grupo de edad</th>\n",
       "      <th>Sexo</th>\n",
       "      <th>Fecha</th>\n",
       "      <th>Contagios</th>\n",
       "    </tr>\n",
       "  </thead>\n",
       "  <tbody>\n",
       "    <tr>\n",
       "      <th>0</th>\n",
       "      <td>00 - 04 años</td>\n",
       "      <td>M</td>\n",
       "      <td>2020-03-25</td>\n",
       "      <td>4</td>\n",
       "    </tr>\n",
       "    <tr>\n",
       "      <th>1</th>\n",
       "      <td>05 - 09 años</td>\n",
       "      <td>M</td>\n",
       "      <td>2020-03-25</td>\n",
       "      <td>2</td>\n",
       "    </tr>\n",
       "    <tr>\n",
       "      <th>2</th>\n",
       "      <td>10 - 14 años</td>\n",
       "      <td>M</td>\n",
       "      <td>2020-03-25</td>\n",
       "      <td>7</td>\n",
       "    </tr>\n",
       "    <tr>\n",
       "      <th>3</th>\n",
       "      <td>15 - 19 años</td>\n",
       "      <td>M</td>\n",
       "      <td>2020-03-25</td>\n",
       "      <td>8</td>\n",
       "    </tr>\n",
       "    <tr>\n",
       "      <th>4</th>\n",
       "      <td>20 - 24 años</td>\n",
       "      <td>M</td>\n",
       "      <td>2020-03-25</td>\n",
       "      <td>25</td>\n",
       "    </tr>\n",
       "    <tr>\n",
       "      <th>...</th>\n",
       "      <td>...</td>\n",
       "      <td>...</td>\n",
       "      <td>...</td>\n",
       "      <td>...</td>\n",
       "    </tr>\n",
       "    <tr>\n",
       "      <th>2018</th>\n",
       "      <td>60 - 64 años</td>\n",
       "      <td>M</td>\n",
       "      <td>2020-07-24</td>\n",
       "      <td>10668</td>\n",
       "    </tr>\n",
       "    <tr>\n",
       "      <th>2019</th>\n",
       "      <td>65 - 69 años</td>\n",
       "      <td>M</td>\n",
       "      <td>2020-07-24</td>\n",
       "      <td>6751</td>\n",
       "    </tr>\n",
       "    <tr>\n",
       "      <th>2020</th>\n",
       "      <td>70 - 74 años</td>\n",
       "      <td>M</td>\n",
       "      <td>2020-07-24</td>\n",
       "      <td>4742</td>\n",
       "    </tr>\n",
       "    <tr>\n",
       "      <th>2021</th>\n",
       "      <td>75 - 79 años</td>\n",
       "      <td>M</td>\n",
       "      <td>2020-07-24</td>\n",
       "      <td>3243</td>\n",
       "    </tr>\n",
       "    <tr>\n",
       "      <th>2022</th>\n",
       "      <td>80 y más años</td>\n",
       "      <td>M</td>\n",
       "      <td>2020-07-24</td>\n",
       "      <td>3919</td>\n",
       "    </tr>\n",
       "  </tbody>\n",
       "</table>\n",
       "<p>1020 rows × 4 columns</p>\n",
       "</div>"
      ],
      "text/plain": [
       "      Grupo de edad Sexo       Fecha  Contagios\n",
       "0      00 - 04 años    M  2020-03-25          4\n",
       "1      05 - 09 años    M  2020-03-25          2\n",
       "2      10 - 14 años    M  2020-03-25          7\n",
       "3      15 - 19 años    M  2020-03-25          8\n",
       "4      20 - 24 años    M  2020-03-25         25\n",
       "...             ...  ...         ...        ...\n",
       "2018   60 - 64 años    M  2020-07-24      10668\n",
       "2019   65 - 69 años    M  2020-07-24       6751\n",
       "2020   70 - 74 años    M  2020-07-24       4742\n",
       "2021   75 - 79 años    M  2020-07-24       3243\n",
       "2022  80 y más años    M  2020-07-24       3919\n",
       "\n",
       "[1020 rows x 4 columns]"
      ]
     },
     "execution_count": 12,
     "metadata": {},
     "output_type": "execute_result"
    }
   ],
   "source": [
    "df[ df['Sexo'] == 'M'  ]"
   ]
  },
  {
   "cell_type": "code",
   "execution_count": 14,
   "metadata": {},
   "outputs": [
    {
     "data": {
      "text/plain": [
       "0          4\n",
       "1          2\n",
       "2          7\n",
       "3          8\n",
       "4         25\n",
       "        ... \n",
       "2035    9062\n",
       "2036    6015\n",
       "2037    4533\n",
       "2038    3452\n",
       "2039    6171\n",
       "Name: Contagios, Length: 2040, dtype: int64"
      ]
     },
     "execution_count": 14,
     "metadata": {},
     "output_type": "execute_result"
    }
   ],
   "source": [
    "df['Contagios']"
   ]
  },
  {
   "cell_type": "code",
   "execution_count": 15,
   "metadata": {},
   "outputs": [
    {
     "data": {
      "text/plain": [
       "'2020-07-24'"
      ]
     },
     "execution_count": 15,
     "metadata": {},
     "output_type": "execute_result"
    }
   ],
   "source": [
    "df['Fecha'].max()"
   ]
  },
  {
   "cell_type": "code",
   "execution_count": 16,
   "metadata": {},
   "outputs": [
    {
     "data": {
      "text/plain": [
       "'2020-03-25'"
      ]
     },
     "execution_count": 16,
     "metadata": {},
     "output_type": "execute_result"
    }
   ],
   "source": [
    "df['Fecha'].min()"
   ]
  },
  {
   "cell_type": "code",
   "execution_count": 17,
   "metadata": {},
   "outputs": [
    {
     "data": {
      "text/plain": [
       "2040"
      ]
     },
     "execution_count": 17,
     "metadata": {},
     "output_type": "execute_result"
    }
   ],
   "source": [
    "df['Fecha'].count()"
   ]
  },
  {
   "cell_type": "code",
   "execution_count": 19,
   "metadata": {},
   "outputs": [
    {
     "data": {
      "text/plain": [
       "23627"
      ]
     },
     "execution_count": 19,
     "metadata": {},
     "output_type": "execute_result"
    }
   ],
   "source": [
    "df['Contagios'].max()"
   ]
  },
  {
   "cell_type": "code",
   "execution_count": 20,
   "metadata": {
    "scrolled": true
   },
   "outputs": [
    {
     "data": {
      "text/html": [
       "<div>\n",
       "<style scoped>\n",
       "    .dataframe tbody tr th:only-of-type {\n",
       "        vertical-align: middle;\n",
       "    }\n",
       "\n",
       "    .dataframe tbody tr th {\n",
       "        vertical-align: top;\n",
       "    }\n",
       "\n",
       "    .dataframe thead th {\n",
       "        text-align: right;\n",
       "    }\n",
       "</style>\n",
       "<table border=\"1\" class=\"dataframe\">\n",
       "  <thead>\n",
       "    <tr style=\"text-align: right;\">\n",
       "      <th></th>\n",
       "      <th>Contagios</th>\n",
       "    </tr>\n",
       "  </thead>\n",
       "  <tbody>\n",
       "    <tr>\n",
       "      <th>count</th>\n",
       "      <td>2040.000000</td>\n",
       "    </tr>\n",
       "    <tr>\n",
       "      <th>mean</th>\n",
       "      <td>2026.958824</td>\n",
       "    </tr>\n",
       "    <tr>\n",
       "      <th>std</th>\n",
       "      <td>3988.423098</td>\n",
       "    </tr>\n",
       "    <tr>\n",
       "      <th>min</th>\n",
       "      <td>2.000000</td>\n",
       "    </tr>\n",
       "    <tr>\n",
       "      <th>25%</th>\n",
       "      <td>105.000000</td>\n",
       "    </tr>\n",
       "    <tr>\n",
       "      <th>50%</th>\n",
       "      <td>345.500000</td>\n",
       "    </tr>\n",
       "    <tr>\n",
       "      <th>75%</th>\n",
       "      <td>1602.750000</td>\n",
       "    </tr>\n",
       "    <tr>\n",
       "      <th>max</th>\n",
       "      <td>23627.000000</td>\n",
       "    </tr>\n",
       "  </tbody>\n",
       "</table>\n",
       "</div>"
      ],
      "text/plain": [
       "          Contagios\n",
       "count   2040.000000\n",
       "mean    2026.958824\n",
       "std     3988.423098\n",
       "min        2.000000\n",
       "25%      105.000000\n",
       "50%      345.500000\n",
       "75%     1602.750000\n",
       "max    23627.000000"
      ]
     },
     "execution_count": 20,
     "metadata": {},
     "output_type": "execute_result"
    }
   ],
   "source": [
    "df.describe()"
   ]
  },
  {
   "cell_type": "code",
   "execution_count": 21,
   "metadata": {},
   "outputs": [
    {
     "name": "stdout",
     "output_type": "stream",
     "text": [
      "<class 'pandas.core.frame.DataFrame'>\n",
      "RangeIndex: 2040 entries, 0 to 2039\n",
      "Data columns (total 4 columns):\n",
      " #   Column         Non-Null Count  Dtype \n",
      "---  ------         --------------  ----- \n",
      " 0   Grupo de edad  2040 non-null   object\n",
      " 1   Sexo           2040 non-null   object\n",
      " 2   Fecha          2040 non-null   object\n",
      " 3   Contagios      2040 non-null   int64 \n",
      "dtypes: int64(1), object(3)\n",
      "memory usage: 63.9+ KB\n"
     ]
    }
   ],
   "source": [
    "df.info()"
   ]
  },
  {
   "cell_type": "code",
   "execution_count": 22,
   "metadata": {},
   "outputs": [],
   "source": [
    "df.to_csv('nuevo-archivo-covit.csv')"
   ]
  },
  {
   "cell_type": "code",
   "execution_count": 23,
   "metadata": {},
   "outputs": [
    {
     "data": {
      "text/plain": [
       "<matplotlib.axes._subplots.AxesSubplot at 0x208c85de388>"
      ]
     },
     "execution_count": 23,
     "metadata": {},
     "output_type": "execute_result"
    },
    {
     "data": {
      "image/png": "[encoded data removed]",
      "text/plain": [
       "<Figure size 432x288 with 1 Axes>"
      ]
     },
     "metadata": {
      "needs_background": "light"
     },
     "output_type": "display_data"
    }
   ],
   "source": [
    "df[ df['Fecha']=='2020-06-01' ].groupby('Grupo de edad').sum().plot(kind='bar')"
   ]
  },
  {
   "cell_type": "code",
   "execution_count": 24,
   "metadata": {},
   "outputs": [
    {
     "data": {
      "text/plain": [
       "Grupo de edad    00 - 04 años05 - 09 años10 - 14 años15 - 19 añ...\n",
       "Sexo             MMMMMMMMMMMMMMMMMFFFFFFFFFFFFFFFFFMMMMMMMMMMMM...\n",
       "Fecha            2020-03-252020-03-252020-03-252020-03-252020-0...\n",
       "Contagios                                                  4134996\n",
       "dtype: object"
      ]
     },
     "execution_count": 24,
     "metadata": {},
     "output_type": "execute_result"
    }
   ],
   "source": [
    "df.sum()"
   ]
  },
  {
   "cell_type": "code",
   "execution_count": 25,
   "metadata": {},
   "outputs": [
    {
     "data": {
      "text/plain": [
       "Grupo de edad    00 - 04 años05 - 09 años10 - 14 años15 - 19 añ...\n",
       "Sexo                            MMMMMMMMMMMMMMMMMFFFFFFFFFFFFFFFFF\n",
       "Fecha            2020-06-012020-06-012020-06-012020-06-012020-0...\n",
       "Contagios                                                   105157\n",
       "dtype: object"
      ]
     },
     "execution_count": 25,
     "metadata": {},
     "output_type": "execute_result"
    }
   ],
   "source": [
    "df[ df['Fecha']=='2020-06-01' ].sum()"
   ]
  },
  {
   "cell_type": "code",
   "execution_count": 26,
   "metadata": {},
   "outputs": [
    {
     "data": {
      "text/plain": [
       "Contagios    1012\n",
       "dtype: int64"
      ]
     },
     "execution_count": 26,
     "metadata": {},
     "output_type": "execute_result"
    }
   ],
   "source": [
    "df[ df['Fecha']=='2020-03-25' ].groupby('Grupo de edad').sum().sum()"
   ]
  },
  {
   "cell_type": "code",
   "execution_count": null,
   "metadata": {},
   "outputs": [],
   "source": []
  }
 ],
 "metadata": {
  "kernelspec": {
   "display_name": "Python 3 (ipykernel)",
   "language": "python",
   "name": "python3"
  },
  "language_info": {
   "codemirror_mode": {
    "name": "ipython",
    "version": 3
   },
   "file_extension": ".py",
   "mimetype": "text/x-python",
   "name": "python",
   "nbconvert_exporter": "python",
   "pygments_lexer": "ipython3",
   "version": "3.10.9"
  }
 },
 "nbformat": 4,
 "nbformat_minor": 4
}
