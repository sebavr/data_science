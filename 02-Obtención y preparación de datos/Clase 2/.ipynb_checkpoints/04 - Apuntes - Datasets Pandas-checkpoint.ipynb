{
 "cells": [
  {
   "cell_type": "markdown",
   "metadata": {
    "id": "J587LQbD4Yn_"
   },
   "source": [
    "# DataFrames"
   ]
  },
  {
   "cell_type": "markdown",
   "metadata": {
    "id": "xXLkZWUy4YoE"
   },
   "source": [
    "### Estructuras de datos en *Pandas*\n",
    "\n",
    "> Ofrece varias estructuras de datos que nos resultarán de mucha utilidad y que vamos a ir viendo poco a poco. Todas las posibles estructuras de datos que ofrece a día de hoy son:\n",
    "\n",
    "\n",
    "> - <strong>Series:</strong> Son arrays unidimensionales con indexación (arrays con índice o etiquetados), similar a los diccionarios. Pueden generarse a partir de diccionarios o de listas.\n",
    " \n",
    " \n",
    "> - <strong>DataFrame:</strong> Similares a las tablas de bases de datos relacionales como SQL.\n",
    " \n",
    " \n",
    "> - <strong>Panel, Panel4D y PanelND:</strong> Permiten trabajar con más de dos dimensiones. Dado que es algo complejo y poco utilizado trabajar con arrays de más de dos dimensiones no trataremos los paneles en estos tutoriales de introdución a Pandas."
   ]
  },
  {
   "cell_type": "markdown",
   "metadata": {
    "id": "w3ocS88R4YoE"
   },
   "source": [
    "### Dimensionado y Descripción"
   ]
  },
  {
   "cell_type": "markdown",
   "metadata": {
    "id": "4VizuE4q4YoE"
   },
   "source": [
    "La mejor manera para pensar sobre estas estructuras de datos es que la estructura de dato de dimension mayor contiene a la estructura de datos de menor dimensión.\n",
    "\n",
    "> *DataFrame* contiene a las *Series*, *Panel* contiene al *DataFrame*\n",
    "\n",
    "\n",
    "| Data Structure | Dimension | Descripción |\n",
    "|----------------|:---------:|-------------|\n",
    "| Series         | 1         | Arreglo 1-Dimensional homogéneo de tamaño inmutable |\n",
    "|DataFrames      | 2         | Estructura tabular 2-Dimensional, tamaño mutable con columnas heterogéneas|\n",
    "|Panel           | 3         | Arreglo general 3-Dimensional, tamaño variable|\n",
    "\n",
    "La construcción y el manejo de dos o más matrices dimensionales es una tarea tediosa, se le impone una carga al usuario para considerar la orientación del conjunto de datos cuando se escriben las funciones. Pero al usar las estructuras de datos de *Pandas*, se reduce el esfuerzo mental del usuario.\n",
    "\n",
    "- Por ejemplo, con datos tabulares (*DataFrame*), es más útil semánticamente pensar en el índice (las filas) y las columnas, en lugar del eje 0 y el eje 1.\n",
    "\n",
    "#### Mutabilidad\n",
    "\n",
    "Las estructuras en *Pandas* son de valor mutable (se pueden cambiar), y excepto las *Series*, todas son de tamaño mutables. Las *Series* son de tamaño inmutable.\n",
    "\n",
    "Los *DataFrames* son los más usados, los *Panel* no se usan tanto."
   ]
  },
  {
   "cell_type": "markdown",
   "metadata": {
    "id": "6EoL2Wk24YoF"
   },
   "source": [
    "### Cargando el módulo *Pandas*"
   ]
  },
  {
   "cell_type": "code",
   "execution_count": null,
   "metadata": {
    "id": "mRy-aKaK4YoF"
   },
   "outputs": [],
   "source": [
    "import pandas as pd\n",
    "import numpy as np"
   ]
  },
  {
   "cell_type": "markdown",
   "metadata": {
    "id": "UHqETxXz4YoJ"
   },
   "source": [
    "# DataFrame"
   ]
  },
  {
   "cell_type": "markdown",
   "metadata": {
    "id": "hazwCGWq4YoJ"
   },
   "source": [
    "Un *DataFrame* es una estructura 2-Dimensional, es decir, los datos se alinean en forma tabular por filas y columnas."
   ]
  },
  {
   "cell_type": "markdown",
   "metadata": {
    "id": "5ZB_FQTG4YoJ"
   },
   "source": [
    "### Características del *DataFrame*\n",
    "\n",
    "- Las columnas pueden ser de diferente tipo.\n",
    "\n",
    "- Tamaño cambiable.\n",
    "\n",
    "- Ejes etiquetados (filas y columnas).\n",
    "\n",
    "- Se pueden desarrollar operaciones aritméticas en filas y columnas."
   ]
  },
  {
   "cell_type": "markdown",
   "metadata": {
    "id": "WsCRUGHd4YoJ"
   },
   "source": [
    "### *pandas.DataFrame*\n",
    "\n",
    "una estructura de *DataFrame* puede crearse usando el siguiente constructor:"
   ]
  },
  {
   "cell_type": "raw",
   "metadata": {
    "id": "zUS-cGT24YoJ"
   },
   "source": [
    "pandas.DataFrame(data, index, columns, dtype, copy) "
   ]
  },
  {
   "cell_type": "markdown",
   "metadata": {
    "id": "2Y3Yad9J4YoJ"
   },
   "source": [
    "Los parámetros de este constructor son los siguientes:"
   ]
  },
  {
   "cell_type": "markdown",
   "metadata": {
    "id": "MB8RMkzG4YoJ"
   },
   "source": [
    "> ***data:*** Pueden ser de diferentes formas como *ndarray*, *Series*, *map*, *lists*, *dict*, constantes o también otro *DataFrame*.\n",
    "\n",
    "> ***index:*** para las etiquetas de fila, el índice que se utilizará para la trama resultante es dado de forma opcional por defecto por $np.arange(n)$, si no se especifica ningún índice.\n",
    "\n",
    "> ***columns:*** para las etiquetas de columnas, la sintaxis por defecto es $np.arange(n)$. Esto es así si no se especifíca ningún índice.\n",
    "\n",
    "> ***dtype:*** tipo de dato para cada columna\n",
    "\n",
    "> ***copy:*** Es usado para copiar los datos. Por defecto es *False*."
   ]
  },
  {
   "cell_type": "markdown",
   "metadata": {
    "id": "G_5k_ecS4YoK"
   },
   "source": [
    "### Creando un *DataFrame*\n",
    "\n",
    "Un *DataFrame* en Pandas se puede crear usando diferentes entradas, como: *listas*, *diccionarios*, *Series*, *ndarrays*, otros *DataFrame*."
   ]
  },
  {
   "cell_type": "markdown",
   "metadata": {
    "id": "0soT-Qfc4YoK"
   },
   "source": [
    "#### Creando un *DataFrame* vacío"
   ]
  },
  {
   "cell_type": "code",
   "execution_count": null,
   "metadata": {
    "id": "jbPtK8KV4YoK",
    "outputId": "70ddc099-a17c-4dc5-afcb-0074d05d76f1"
   },
   "outputs": [
    {
     "name": "stdout",
     "output_type": "stream",
     "text": [
      "Empty DataFrame\n",
      "Columns: []\n",
      "Index: []\n"
     ]
    }
   ],
   "source": [
    "df = pd.DataFrame()\n",
    "print(df)"
   ]
  },
  {
   "cell_type": "markdown",
   "metadata": {
    "id": "l2mERidG4YoK"
   },
   "source": [
    "#### Creando un *DataFrame* desde listas"
   ]
  },
  {
   "cell_type": "code",
   "execution_count": null,
   "metadata": {
    "id": "0l21I-4P4YoK",
    "outputId": "71412677-28a2-48d1-bc7f-82722b25a1cb"
   },
   "outputs": [
    {
     "name": "stdout",
     "output_type": "stream",
     "text": [
      "   0\n",
      "0  1\n",
      "1  2\n",
      "2  3\n",
      "3  4\n",
      "4  5\n"
     ]
    }
   ],
   "source": [
    "data = [1,2,3,4,5]\n",
    "df = pd.DataFrame(data)\n",
    "print(df)"
   ]
  },
  {
   "cell_type": "code",
   "execution_count": null,
   "metadata": {
    "id": "FPD766x64YoK",
    "outputId": "e7c13100-7f50-4644-8adc-3b8956c65028"
   },
   "outputs": [
    {
     "name": "stdout",
     "output_type": "stream",
     "text": [
      "     Name  Age\n",
      "0    Alex   10\n",
      "1     Bob   12\n",
      "2  Clarke   13\n"
     ]
    }
   ],
   "source": [
    "data = [['Alex',10],['Bob',12],['Clarke',13]]\n",
    "df = pd.DataFrame(data,columns=['Name','Age'])\n",
    "print(df)\n"
   ]
  },
  {
   "cell_type": "code",
   "execution_count": null,
   "metadata": {
    "id": "poSODm8t4YoK",
    "outputId": "47423918-08f0-4395-d0ce-8000df8eda1c"
   },
   "outputs": [
    {
     "name": "stdout",
     "output_type": "stream",
     "text": [
      "     Name   Age\n",
      "0    Alex  10.0\n",
      "1     Bob  12.0\n",
      "2  Clarke  13.0\n"
     ]
    }
   ],
   "source": [
    "df = pd.DataFrame(data,columns=['Name','Age'],dtype=float)\n",
    "print(df)"
   ]
  },
  {
   "cell_type": "markdown",
   "metadata": {
    "id": "f-IyPLyv3eKi"
   },
   "source": [
    "## **Uso de dataframes**\n"
   ]
  },
  {
   "cell_type": "markdown",
   "metadata": {
    "id": "0bG4eyBmHIu2"
   },
   "source": [
    "La librería pandas posee su propio tipo de datos para el manejo de información, el tipo DataFrame. Este tiene muchas operaciones y métodos de todo tipo. Sería muy aburrido explicar cada uno de ellos en detalle ya que varios son muy específicos, pero podrían ser la solución perfecta para un problema muy particular. A continuación veremos las operaciones más utilizadas, confiando en que si llegan a necesitar realizar operaciones más complejas puedan encontrarlas en la [documentación de pandas](https://pandas.pydata.org/pandas-docs/stable/reference/api/pandas.DataFrame.html) o foros como StackOverflow."
   ]
  },
  {
   "cell_type": "code",
   "execution_count": null,
   "metadata": {
    "id": "yYH9Zaq13m4T",
    "outputId": "498b716e-bd05-49f2-ded7-e3e884cc8a46"
   },
   "outputs": [
    {
     "name": "stdout",
     "output_type": "stream",
     "text": [
      "   Legajo Nombre    Apellido  Quimica  Matematica  Fisica\n",
      "0   34567   Juan    Martinez       10           7       9\n",
      "1   34678  Pablo    Gonzales        4           9       4\n",
      "2   34234  Maria  Citanovich        2           4       4\n",
      "3   35679    Sol        Rios        9           8      10\n",
      "4   36789  Paula       Lagos        8           5       8\n",
      "5   32578  Tomas         Reu        1           4       2\n"
     ]
    }
   ],
   "source": [
    "import pandas as pd\n",
    "\n",
    "datos = pd.read_excel(\"Datos.xlsx\") \n",
    "# la variable datos es un tipo de dato especial de pandas\n",
    "print(datos)"
   ]
  },
  {
   "cell_type": "code",
   "execution_count": null,
   "metadata": {
    "id": "rtCs2-944YoL",
    "outputId": "0de6deed-80b6-4d7e-a0da-99004ca1f840"
   },
   "outputs": [
    {
     "data": {
      "text/plain": [
       "pandas.core.frame.DataFrame"
      ]
     },
     "execution_count": 29,
     "metadata": {},
     "output_type": "execute_result"
    }
   ],
   "source": [
    "type(datos)"
   ]
  },
  {
   "cell_type": "markdown",
   "metadata": {
    "id": "Hv008YkD4xbm"
   },
   "source": [
    "Usualmente necesitamos acceder a los datos dispuestos en las columnas esto se hace de forma similar a un diccionario, la forma es la siguiente:"
   ]
  },
  {
   "cell_type": "code",
   "execution_count": null,
   "metadata": {
    "id": "ywvdqmgz4whY",
    "outputId": "1ccc9f29-2321-4931-9b09-d51e4900d65e"
   },
   "outputs": [
    {
     "name": "stdout",
     "output_type": "stream",
     "text": [
      "0    10\n",
      "1     4\n",
      "2     2\n",
      "3     9\n",
      "4     8\n",
      "5     1\n",
      "Name: Quimica, dtype: int64\n"
     ]
    }
   ],
   "source": [
    "columna = 'Quimica'\n",
    "print(datos[columna])\n"
   ]
  },
  {
   "cell_type": "markdown",
   "metadata": {
    "id": "pt6ECixK5Un9"
   },
   "source": [
    "Otra tarea común es acceder a una fila en particular, en el ejemplo sería acceder a un alumno en particular. Se puede lograr de la siguiente forma:"
   ]
  },
  {
   "cell_type": "code",
   "execution_count": null,
   "metadata": {
    "id": "CR0RNXUm5kv8",
    "outputId": "08f1847f-a39f-49aa-9edc-26ccc7ececd4"
   },
   "outputs": [
    {
     "data": {
      "text/plain": [
       "Legajo           34567\n",
       "Nombre            Juan\n",
       "Apellido      Martinez\n",
       "Quimica             10\n",
       "Matematica           7\n",
       "Fisica               9\n",
       "Name: 0, dtype: object"
      ]
     },
     "execution_count": 33,
     "metadata": {},
     "output_type": "execute_result"
    }
   ],
   "source": [
    "indice = 0\n",
    "alumno = datos.loc[indice] \n",
    "alumno"
   ]
  },
  {
   "cell_type": "markdown",
   "metadata": {
    "id": "ezDd8V7f59vn"
   },
   "source": [
    "*¿Por qué se usa .loc[indice] en vez de directamente usar corchetes?*\n",
    "\n",
    "Normalmente se intenta que los operadores siempre signifiquen lo mismo, de forma que los corchetes deberían servir para acceder a un elemento, pero en este caso los corchetes ya se utilizan para acceder a una columna como en el ejemplo anterior, por lo cual se debe usar un operador distinto para acceder a una fila o serían indistinguibles.\n",
    "\n",
    "Veamos ahora cómo se puede acceder a un dato en particular del alumno:"
   ]
  },
  {
   "cell_type": "code",
   "execution_count": null,
   "metadata": {
    "id": "nthq4hDd5880"
   },
   "outputs": [],
   "source": [
    "indice = 0\n",
    "alumno = datos.loc[indice] \n",
    "print(alumno['Matematica'])"
   ]
  },
  {
   "cell_type": "markdown",
   "metadata": {
    "id": "D4EY947g5RSL"
   },
   "source": [
    "### **Mini desafío 2.A**\n",
    "Calcular el promedio de las notas de química de todos los alumnos en el archivo Datos.xlsx.\n",
    "\n",
    "- **Tip:** Podemos usar la función **sum**($iterable$) para obtener la suma de todos los campos. Un ejemplo de como funciona:\n",
    "```\n",
    "mi_lista = [1, 2, 3, 4, 5]\n",
    "total = sum(mi_lista)\n",
    "print(total)\n",
    "```\n",
    " ¡La función **len()** también sigue siendo válida!"
   ]
  },
  {
   "cell_type": "code",
   "execution_count": null,
   "metadata": {
    "id": "BzKZqISLeBky"
   },
   "outputs": [],
   "source": []
  },
  {
   "cell_type": "code",
   "execution_count": null,
   "metadata": {
    "id": "_tA_UIdY4YoL"
   },
   "outputs": [],
   "source": []
  },
  {
   "cell_type": "markdown",
   "metadata": {
    "id": "oloubsnc6nKD"
   },
   "source": [
    "### **Mini desafío 2.B**\n",
    "\n",
    "Escribir una funcion que reciba como parámetros: una variable de tipo **DataFrame** (la tabla de alumnos) y el índice de un alumno. Luego debe devolver con *return* el promedio de sus notas en las diferentes materias."
   ]
  },
  {
   "cell_type": "code",
   "execution_count": null,
   "metadata": {
    "id": "R71K7ner6o8h"
   },
   "outputs": [],
   "source": [
    "#funcion\n",
    "def \n",
    "\n"
   ]
  },
  {
   "cell_type": "code",
   "execution_count": null,
   "metadata": {
    "id": "NeLkDdH74YoM"
   },
   "outputs": [],
   "source": []
  },
  {
   "cell_type": "markdown",
   "metadata": {
    "id": "mL7YIBlP6vuE"
   },
   "source": [
    "## **Otras operaciones**\n",
    "\n",
    "\n"
   ]
  },
  {
   "cell_type": "markdown",
   "metadata": {
    "id": "AzN7fMfAHR8G"
   },
   "source": [
    "Veamos un ejemplo para sacar todos los promedios de los alumnos a la vez."
   ]
  },
  {
   "cell_type": "code",
   "execution_count": null,
   "metadata": {
    "id": "rcNWN_MB7IvD"
   },
   "outputs": [],
   "source": [
    "promedios = (datos['Quimica'] + datos['Matematica'] + datos['Fisica']) / 3\n",
    "promedios = datos.mean()\n",
    "print('Todos los promedios')\n",
    "print(promedios)\n",
    "print('El promedio maximo es',promedios.max())"
   ]
  },
  {
   "cell_type": "code",
   "execution_count": null,
   "metadata": {
    "id": "JjdskPyx4YoM",
    "outputId": "89839eba-6bfe-4f5a-ed49-3bfed994127b"
   },
   "outputs": [
    {
     "name": "stdout",
     "output_type": "stream",
     "text": [
      "       Nombre    Apellido  Quimica  Matematica  Fisica\n",
      "Legajo                                                \n",
      "34567    Juan    Martinez       10           7       9\n",
      "34678   Pablo    Gonzales        4           9       4\n",
      "34234   Maria  Citanovich        2           4       4\n",
      "35679     Sol        Rios        9           8      10\n",
      "36789   Paula       Lagos        8           5       8\n",
      "32578   Tomas         Reu        1           4       2\n"
     ]
    },
    {
     "data": {
      "text/plain": [
       "Legajo\n",
       "34567    8.666667\n",
       "34678    5.666667\n",
       "34234    3.333333\n",
       "35679    9.000000\n",
       "36789    7.000000\n",
       "32578    2.333333\n",
       "dtype: float64"
      ]
     },
     "execution_count": 44,
     "metadata": {},
     "output_type": "execute_result"
    }
   ],
   "source": [
    "datos=pd.read_excel(\"Datos.xlsx\", index_col=\"Legajo\")\n",
    "promedios = datos.mean(axis=1)\n",
    "print(datos)\n",
    "promedios"
   ]
  },
  {
   "cell_type": "code",
   "execution_count": null,
   "metadata": {
    "id": "Xz46SN5n4YoM"
   },
   "outputs": [],
   "source": [
    "datos"
   ]
  },
  {
   "cell_type": "markdown",
   "metadata": {
    "id": "2dS5eCtHbPqn"
   },
   "source": [
    "Podemos ver que cuando se suman columnas de un DataFrame, se calcula la suma elemento a elemento, como si hiciera la operación suma para cada fila por separado. Cuando se divide por 3 la suma de las columnas, realiza la división por 3 de cada resultado por separado y queda al final 1 resultado por fila. Esto es muy práctico y también funciona con otros operadores, por lo cual se vuelve bastante intuitivo realizar cuentas sencillas.\n",
    "\n",
    "También se muestra en el ejemplo el método **.max()** que encuentra el valor máximo."
   ]
  },
  {
   "cell_type": "markdown",
   "metadata": {
    "id": "EdGw9iAB7Fzz"
   },
   "source": [
    "### **Filtrado** \n",
    "\n",
    "En un DataFrame es posible filtrar los datos según alguna condición. Esto se realiza de la siguiente manera:\n",
    "> variable**[** (condicion1) &/| (condicion2) &/| (condicion3) ...  **]**\n",
    "\n",
    "Donde dice `&/|` es porque se puede elegir escribir `&` para hacer un **and**, o se puede escribir `|` para hacer un **or**.\n",
    "\n",
    "Las condiciones siguien el siguiente formato: variable**[** propiedad **]** **>**/**<**/**<=**/**...** (número)\n",
    "\n",
    "**Nota:** No debe ser una comparación sí o sí con un numero, se puede comparar contra cualquier cosa mientras se puedan cumplir esas condiciones (mayor, menor, mayor o igual, igual, etc.).\n",
    "\n",
    "Veamos un ejemplo extrayendo todos los alumnos que hayan aprobado química (nota >= 4):"
   ]
  },
  {
   "cell_type": "code",
   "execution_count": null,
   "metadata": {
    "id": "3lSHLVUj7Yqn",
    "outputId": "e8f9c8ad-40d8-4b70-eb44-ede796f93a49"
   },
   "outputs": [
    {
     "name": "stdout",
     "output_type": "stream",
     "text": [
      "Datos:\n",
      "   Legajo Nombre    Apellido  Quimica  Matematica  Fisica\n",
      "0   34567   Juan    Martinez       10           7       9\n",
      "1   34678  Pablo    Gonzales        4           9       4\n",
      "2   34234  Maria  Citanovich        2           4       4\n",
      "3   35679    Sol        Rios        9           8      10\n",
      "4   36789  Paula       Lagos        8           5       8\n",
      "5   32578  Tomas         Reu        1           4       2\n",
      "Aprobados en Química:\n",
      "  Nombre  Quimica\n",
      "0   Juan       10\n",
      "1  Pablo        4\n",
      "3    Sol        9\n",
      "4  Paula        8\n"
     ]
    }
   ],
   "source": [
    "import pandas as pd\n",
    "\n",
    "datos = pd.read_excel(\"Datos.xlsx\") \n",
    "print(\"Datos:\")\n",
    "print(datos)\n",
    "aprobados = datos.loc[datos['Quimica'] >= 4,['Nombre','Quimica']]\n",
    "print(\"Aprobados en Química:\")\n",
    "print(aprobados)"
   ]
  },
  {
   "cell_type": "markdown",
   "metadata": {
    "id": "5zGnfeZJgZ0y"
   },
   "source": [
    "Podemos hacer otro ejemplo en donde mostramos los alumnos que reprobaron al menos una materia, es decir que:\n",
    "\n",
    "(la nota de Química es menor a 4) **ó** (la nota de Matemática es menor a 4) **ó** (la nota de Física es menor a 4)"
   ]
  },
  {
   "cell_type": "code",
   "execution_count": null,
   "metadata": {
    "id": "9yJpC2yVglSE",
    "outputId": "ffeaff01-afe5-4c5a-a9f9-948d3df16968"
   },
   "outputs": [
    {
     "name": "stdout",
     "output_type": "stream",
     "text": [
      "Reprobaron al menos una materia:\n",
      "   Legajo Nombre    Apellido  Quimica  Matematica  Fisica\n",
      "2   34234  Maria  Citanovich        2           4       4\n",
      "5   32578  Tomas         Reu        1           4       2\n"
     ]
    }
   ],
   "source": [
    "aprobados = datos[ (datos['Quimica'] < 4) | (datos['Matematica'] < 4) | (datos['Fisica'] < 4) ]\n",
    "print(\"Reprobaron al menos una materia:\")\n",
    "print(aprobados) "
   ]
  },
  {
   "cell_type": "markdown",
   "metadata": {
    "id": "LpPtaI977eSc"
   },
   "source": [
    "#### **Mini desafío 3**\n",
    "\n",
    "Obtener el promedio general sólo para aquellos alumnos que aprobaron Matematica."
   ]
  },
  {
   "cell_type": "code",
   "execution_count": null,
   "metadata": {
    "id": "1aNWm0lp7c9-",
    "outputId": "37207e2c-fcfe-4058-a0fa-89726d33fc1f"
   },
   "outputs": [
    {
     "data": {
      "text/html": [
       "<div>\n",
       "<style scoped>\n",
       "    .dataframe tbody tr th:only-of-type {\n",
       "        vertical-align: middle;\n",
       "    }\n",
       "\n",
       "    .dataframe tbody tr th {\n",
       "        vertical-align: top;\n",
       "    }\n",
       "\n",
       "    .dataframe thead th {\n",
       "        text-align: right;\n",
       "    }\n",
       "</style>\n",
       "<table border=\"1\" class=\"dataframe\">\n",
       "  <thead>\n",
       "    <tr style=\"text-align: right;\">\n",
       "      <th></th>\n",
       "      <th>Legajo</th>\n",
       "      <th>Nombre</th>\n",
       "      <th>Apellido</th>\n",
       "      <th>Quimica</th>\n",
       "      <th>Matematica</th>\n",
       "      <th>Fisica</th>\n",
       "      <th>Nombre_copy</th>\n",
       "      <th>Promedio</th>\n",
       "    </tr>\n",
       "  </thead>\n",
       "  <tbody>\n",
       "    <tr>\n",
       "      <th>0</th>\n",
       "      <td>34567</td>\n",
       "      <td>Juan</td>\n",
       "      <td>Martinez</td>\n",
       "      <td>10</td>\n",
       "      <td>7</td>\n",
       "      <td>9</td>\n",
       "      <td>Juan</td>\n",
       "      <td>8648.25</td>\n",
       "    </tr>\n",
       "    <tr>\n",
       "      <th>1</th>\n",
       "      <td>34678</td>\n",
       "      <td>Pablo</td>\n",
       "      <td>Gonzales</td>\n",
       "      <td>4</td>\n",
       "      <td>9</td>\n",
       "      <td>4</td>\n",
       "      <td>Pablo</td>\n",
       "      <td>8673.75</td>\n",
       "    </tr>\n",
       "    <tr>\n",
       "      <th>2</th>\n",
       "      <td>34234</td>\n",
       "      <td>Maria</td>\n",
       "      <td>Citanovich</td>\n",
       "      <td>2</td>\n",
       "      <td>4</td>\n",
       "      <td>4</td>\n",
       "      <td>Maria</td>\n",
       "      <td>8561.00</td>\n",
       "    </tr>\n",
       "    <tr>\n",
       "      <th>3</th>\n",
       "      <td>35679</td>\n",
       "      <td>Sol</td>\n",
       "      <td>Rios</td>\n",
       "      <td>9</td>\n",
       "      <td>8</td>\n",
       "      <td>10</td>\n",
       "      <td>Sol</td>\n",
       "      <td>8926.50</td>\n",
       "    </tr>\n",
       "    <tr>\n",
       "      <th>4</th>\n",
       "      <td>36789</td>\n",
       "      <td>Paula</td>\n",
       "      <td>Lagos</td>\n",
       "      <td>8</td>\n",
       "      <td>5</td>\n",
       "      <td>8</td>\n",
       "      <td>Paula</td>\n",
       "      <td>9202.50</td>\n",
       "    </tr>\n",
       "    <tr>\n",
       "      <th>5</th>\n",
       "      <td>32578</td>\n",
       "      <td>Tomas</td>\n",
       "      <td>Reu</td>\n",
       "      <td>1</td>\n",
       "      <td>4</td>\n",
       "      <td>2</td>\n",
       "      <td>Tomas</td>\n",
       "      <td>8146.25</td>\n",
       "    </tr>\n",
       "  </tbody>\n",
       "</table>\n",
       "</div>"
      ],
      "text/plain": [
       "   Legajo Nombre    Apellido  Quimica  Matematica  Fisica Nombre_copy  \\\n",
       "0   34567   Juan    Martinez       10           7       9        Juan   \n",
       "1   34678  Pablo    Gonzales        4           9       4       Pablo   \n",
       "2   34234  Maria  Citanovich        2           4       4       Maria   \n",
       "3   35679    Sol        Rios        9           8      10         Sol   \n",
       "4   36789  Paula       Lagos        8           5       8       Paula   \n",
       "5   32578  Tomas         Reu        1           4       2       Tomas   \n",
       "\n",
       "   Promedio  \n",
       "0   8648.25  \n",
       "1   8673.75  \n",
       "2   8561.00  \n",
       "3   8926.50  \n",
       "4   9202.50  \n",
       "5   8146.25  "
      ]
     },
     "execution_count": 49,
     "metadata": {},
     "output_type": "execute_result"
    }
   ],
   "source": [
    "\n",
    "datos[\"Promedio\"]=datos.mean(axis=1)\n",
    "datos\n"
   ]
  },
  {
   "cell_type": "markdown",
   "metadata": {
    "id": "qAl4rYZw8AIV"
   },
   "source": [
    "### **Indexar los datos** \n",
    "\n",
    "Pandas tambien nos permite obtener los datos de forma que una columna sirva como índice, o como *clave*. Para eso cuando lo leemos le debemos decir la columna que queremos usar de indice. Esto es igual a lo que se utilizó anteriormente, pero trabajando directamente con DataFrames en lugar de convertirlo a una estructura de datos de Python:\n",
    "\n",
    "> pd.read_excel('archivo', **index_col** = [índice])\n",
    "\n",
    "Veamos un ejemplo:\n",
    "\n",
    "\n"
   ]
  },
  {
   "cell_type": "code",
   "execution_count": null,
   "metadata": {
    "id": "5ZKWYQwv8cag",
    "outputId": "a489e5c4-b8e2-4f38-ec12-f17dc7be0661"
   },
   "outputs": [
    {
     "name": "stdout",
     "output_type": "stream",
     "text": [
      "   Legajo Nombre    Apellido  Quimica  Matematica  Fisica\n",
      "0   34567   Juan    Martinez       10           7       9\n",
      "1   34678  Pablo    Gonzales        4           9       4\n",
      "2   34234  Maria  Citanovich        2           4       4\n",
      "3   35679    Sol        Rios        9           8      10\n",
      "4   36789  Paula       Lagos        8           5       8\n",
      "5   32578  Tomas         Reu        1           4       2\n",
      "\n",
      "            Legajo Nombre  Quimica  Matematica  Fisica\n",
      "Apellido                                              \n",
      "Martinez     34567   Juan       10           7       9\n",
      "Gonzales     34678  Pablo        4           9       4\n",
      "Citanovich   34234  Maria        2           4       4\n",
      "Rios         35679    Sol        9           8      10\n",
      "Lagos        36789  Paula        8           5       8\n",
      "Reu          32578  Tomas        1           4       2\n",
      "\n",
      "       Nombre    Apellido  Quimica  Matematica  Fisica\n",
      "Legajo                                                \n",
      "34567    Juan    Martinez       10           7       9\n",
      "34678   Pablo    Gonzales        4           9       4\n",
      "34234   Maria  Citanovich        2           4       4\n",
      "35679     Sol        Rios        9           8      10\n",
      "36789   Paula       Lagos        8           5       8\n",
      "32578   Tomas         Reu        1           4       2\n"
     ]
    }
   ],
   "source": [
    "import pandas as pd\n",
    "\n",
    "archivo = pd.read_excel(\"Datos.xlsx\")\n",
    "print(archivo)\n",
    "\n",
    "print()\n",
    "\n",
    "archivo = pd.read_excel(\"Datos.xlsx\", index_col = 2)\n",
    "print(archivo)\n",
    "\n",
    "print()\n",
    "\n",
    "# Es posible dar el nombre de la columna que se utilizará como indice\n",
    "archivo = pd.read_excel(\"Datos.xlsx\", index_col = \"Legajo\")\n",
    "print(archivo)"
   ]
  },
  {
   "cell_type": "markdown",
   "metadata": {
    "id": "JeQZWH148h5L"
   },
   "source": [
    "Observen que ahora la primera columna en vez de ser 0,1,2,... son los legajos, esto nos permite acceder con .loc por legajo!"
   ]
  },
  {
   "cell_type": "code",
   "execution_count": null,
   "metadata": {
    "id": "yI_nCqg48mwN",
    "outputId": "635c3013-136b-4307-c170-f57fcc95d9ad"
   },
   "outputs": [
    {
     "name": "stdout",
     "output_type": "stream",
     "text": [
      "Nombre            Juan\n",
      "Apellido      Martinez\n",
      "Quimica             10\n",
      "Matematica           7\n",
      "Fisica               9\n",
      "Name: 34567, dtype: object\n"
     ]
    }
   ],
   "source": [
    "print(archivo.loc[34567])"
   ]
  },
  {
   "cell_type": "markdown",
   "metadata": {
    "id": "p-7VNp1t4YoN"
   },
   "source": [
    "#### Creando un *DataFrame* desde diccionarios de *ndarrays/lists*\n",
    "\n",
    "> Todos los *ndarrays* deben ser de la misma longitud. Si se pasa el índice, entonces la longitud del índice debe ser igual a la longitud de las matrices.\n",
    "\n",
    "> Si no se pasa ningún índice, de manera predeterminada, el índice será $range(n)$, donde $n$ es la longitud de la matriz."
   ]
  },
  {
   "cell_type": "code",
   "execution_count": null,
   "metadata": {
    "id": "JIlCz6qB4YoN",
    "outputId": "8c0c40ee-5d00-4de4-b083-aa0067481676"
   },
   "outputs": [
    {
     "name": "stdout",
     "output_type": "stream",
     "text": [
      "    Name  Age\n",
      "0    Tom   28\n",
      "1   Jack   34\n",
      "2  Steve   29\n",
      "3  Ricky   42\n"
     ]
    }
   ],
   "source": [
    "data = {'Name':['Tom', 'Jack', 'Steve', 'Ricky'],'Age':[28,34,29,42]}\n",
    "df = pd.DataFrame(data)\n",
    "print(df)"
   ]
  },
  {
   "cell_type": "markdown",
   "metadata": {
    "id": "oP9O5KNT4YoN"
   },
   "source": [
    "- Observe los valores $0,1,2,3$. Son el índice predeterminado asignado a cada uno usando la función $range(n)$."
   ]
  },
  {
   "cell_type": "markdown",
   "metadata": {
    "id": "Ko4Erw8I4YoO"
   },
   "source": [
    "Ahora crearemos un *DataFrame* indexado usando *arrays*"
   ]
  },
  {
   "cell_type": "code",
   "execution_count": null,
   "metadata": {
    "id": "1S0UVnt64YoO",
    "outputId": "3c75c409-00cc-446e-d1ae-796499fdf40c"
   },
   "outputs": [
    {
     "name": "stdout",
     "output_type": "stream",
     "text": [
      "    Name  Age\n",
      "1    Tom   28\n",
      "2   Jack   34\n",
      "3  Steve   29\n",
      "4  Ricky   42\n"
     ]
    }
   ],
   "source": [
    "df = pd.DataFrame(data, index=['rank1','rank2','rank3','rank4'])\n",
    "\n",
    "df = pd.DataFrame(data, index=[1,2,3,4])\n",
    "print(df)"
   ]
  },
  {
   "cell_type": "markdown",
   "metadata": {
    "id": "q3FUlbnx4YoO"
   },
   "source": [
    "#### Creando un *DataFrame* desde listas de diccionarios\n",
    "\n",
    "Se puede pasar una lista de diccionarios como datos de entrada para crear un *DataFrame*. Las *claves* serán usadas por defecto como los nombres de las columnas."
   ]
  },
  {
   "cell_type": "code",
   "execution_count": null,
   "metadata": {
    "id": "6o_g42OU4YoO",
    "outputId": "031c0bdc-5901-4a28-bd2e-db26c946493e"
   },
   "outputs": [
    {
     "name": "stdout",
     "output_type": "stream",
     "text": [
      "   a   b     c\n",
      "0  1   2   NaN\n",
      "1  5  10  20.0\n"
     ]
    }
   ],
   "source": [
    "data = [{'a': 1, 'b': 2},{'a': 5, 'b': 10, 'c': 20}]\n",
    "df = pd.DataFrame(data)\n",
    "print(df)"
   ]
  },
  {
   "cell_type": "markdown",
   "metadata": {
    "id": "GRXgNqLG4YoO"
   },
   "source": [
    "- un $NaN$ aparece en donde no hay datos."
   ]
  },
  {
   "cell_type": "markdown",
   "metadata": {
    "id": "rs9ncBLh4YoO"
   },
   "source": [
    "El siguiente ejemplo muestra como se crea un *DataFrame* pasando una lista de diccionarios y los índices de las filas:"
   ]
  },
  {
   "cell_type": "code",
   "execution_count": null,
   "metadata": {
    "id": "GkshspEn4YoO",
    "outputId": "fb95441f-b89d-420a-c0ff-ca55a17d2ee3"
   },
   "outputs": [
    {
     "name": "stdout",
     "output_type": "stream",
     "text": [
      "        a   b     c\n",
      "first   1   2   NaN\n",
      "second  5  10  20.0\n"
     ]
    }
   ],
   "source": [
    "df = pd.DataFrame(data, index=['first', 'second'])\n",
    "print(df)"
   ]
  },
  {
   "cell_type": "markdown",
   "metadata": {
    "id": "zQLmPgr84YoO"
   },
   "source": [
    "El siguiente ejemplo muestra como se crea un *DataFrame* pasando una lista de diccionarios, y los índices de las filas y columnas:"
   ]
  },
  {
   "cell_type": "code",
   "execution_count": null,
   "metadata": {
    "id": "dfSgMSgI4YoO",
    "outputId": "7e21a8d0-dcfa-4bac-8a05-7d7d1e7b46be"
   },
   "outputs": [
    {
     "name": "stdout",
     "output_type": "stream",
     "text": [
      "        a   b\n",
      "first   1   2\n",
      "second  5  10\n",
      "        a  b1\n",
      "first   1 NaN\n",
      "second  5 NaN\n"
     ]
    }
   ],
   "source": [
    "# Con dos índices de columnas, los valores son iguales que las claves del diccionario\n",
    "df1 = pd.DataFrame(data, index=['first', 'second'], columns=['a', 'b'])\n",
    "\n",
    "# Con dos índices de columna y con un índice con otro nombre\n",
    "df2 = pd.DataFrame(data, index=['first', 'second'], columns=['a', 'b1'])\n",
    "print(df1)\n",
    "print(df2)"
   ]
  },
  {
   "cell_type": "markdown",
   "metadata": {
    "id": "ZXwzUKhs4YoO"
   },
   "source": [
    "- Observe que el *DataFrame* $df2$  se crea con un índice de columna que no es la clave del diccionario; por lo tanto, se generan los $NaN$ en su lugar. Mientras que, $df1$ se crea con índices de columnas iguales a las claves del diccionario, por lo que no se agrega $NaN$."
   ]
  },
  {
   "cell_type": "markdown",
   "metadata": {
    "id": "PXkP_Jtb4YoO"
   },
   "source": [
    "#### Creando un *DataFrame* desde un diccionario de Series\n",
    "\n",
    "Se puede pasar una Serie de diccionarios para formar un *DataFrame*. El índice resultante es la unión de todos los índices de serie pasados."
   ]
  },
  {
   "cell_type": "code",
   "execution_count": null,
   "metadata": {
    "id": "ogiPrYjs4YoO",
    "outputId": "8d049c44-be03-4931-ab29-044dfa7c4bf5"
   },
   "outputs": [
    {
     "name": "stdout",
     "output_type": "stream",
     "text": [
      "   one  two\n",
      "a  1.0    1\n",
      "b  2.0    2\n",
      "c  3.0    3\n",
      "d  NaN    4\n"
     ]
    }
   ],
   "source": [
    "d = {'one' : pd.Series([1, 2, 3], index=['a', 'b', 'c']),\n",
    "      'two' : pd.Series([1, 2, 3, 4], index=['a', 'b', 'c', 'd'])}\n",
    "\n",
    "df = pd.DataFrame(d)\n",
    "print(df)"
   ]
  },
  {
   "cell_type": "markdown",
   "metadata": {
    "id": "-AHK0fh54YoP"
   },
   "source": [
    "- para la serie $one$, no hay una etiqueta $'d'$ pasada, pero en el resultado, para la etiqueta $d$, $NaN$ se agrega con $NaN$.\n",
    "\n",
    "Ahora vamos a entender la selección, adición y eliminación de columnas a través de ejemplos."
   ]
  },
  {
   "cell_type": "markdown",
   "metadata": {
    "id": "8AfhUFSb4YoP"
   },
   "source": [
    "## Columnas"
   ]
  },
  {
   "cell_type": "markdown",
   "metadata": {
    "id": "e2GjCXBY4YoP"
   },
   "source": [
    "#### Selección de columna"
   ]
  },
  {
   "cell_type": "code",
   "execution_count": null,
   "metadata": {
    "id": "d3svquWG4YoP",
    "outputId": "bfcac032-34e9-4c45-b364-ca3fd6926369"
   },
   "outputs": [
    {
     "name": "stdout",
     "output_type": "stream",
     "text": [
      "a    1.0\n",
      "b    2.0\n",
      "c    3.0\n",
      "d    NaN\n",
      "Name: one, dtype: float64\n"
     ]
    }
   ],
   "source": [
    "df = pd.DataFrame(d)\n",
    "print(df['one'])"
   ]
  },
  {
   "cell_type": "markdown",
   "metadata": {
    "id": "05OpVt7E4YoP"
   },
   "source": [
    "#### Adición de columna"
   ]
  },
  {
   "cell_type": "code",
   "execution_count": null,
   "metadata": {
    "id": "5p5tc2Sk4YoP"
   },
   "outputs": [],
   "source": [
    "df = pd.DataFrame(d)\n",
    "\n",
    "# Adding a new column to an existing DataFrame object with column label by passing new series\n",
    "\n",
    "print (\"Adicionando una nueva columna pasando como Serie:, \\n\")\n",
    "df['three']=pd.Series([10,20,30],index=['a','b','c'])\n",
    "print(df,'\\n')\n",
    "\n",
    "print (\"Adicionando una nueva columna usando las columnas existentes en el DataFrame:\\n\")\n",
    "df['four']=df['one']+df['three']\n",
    "\n",
    "print(df)"
   ]
  },
  {
   "cell_type": "markdown",
   "metadata": {
    "id": "YkxNCUNB4YoP"
   },
   "source": [
    "#### Borrado de columna"
   ]
  },
  {
   "cell_type": "code",
   "execution_count": null,
   "metadata": {
    "id": "sl-dgTm94YoP",
    "outputId": "1341fb74-0c3a-47c9-b2b3-ec6b10b47ea8"
   },
   "outputs": [
    {
     "name": "stdout",
     "output_type": "stream",
     "text": [
      "Our dataframe is:\n",
      "\n",
      "   one  two  three\n",
      "a  1.0    1   10.0\n",
      "b  2.0    2   20.0\n",
      "c  3.0    3   30.0\n",
      "d  NaN    4    NaN \n",
      "\n"
     ]
    }
   ],
   "source": [
    "import pandas as pd\n",
    "d = {'one' : pd.Series([1, 2, 3], index=['a', 'b', 'c']), \n",
    "     'two' : pd.Series([1, 2, 3, 4], index=['a', 'b', 'c', 'd']), \n",
    "     'three' : pd.Series([10,20,30], index=['a','b','c'])}\n",
    "\n",
    "df = pd.DataFrame(d)\n",
    "print (\"Our dataframe is:\\n\")\n",
    "print(df, '\\n')"
   ]
  },
  {
   "cell_type": "code",
   "execution_count": null,
   "metadata": {
    "id": "kBdgQdmz4YoP",
    "outputId": "983de545-8033-4b28-86a7-4a66167d2bb1"
   },
   "outputs": [
    {
     "data": {
      "text/html": [
       "<div>\n",
       "<style scoped>\n",
       "    .dataframe tbody tr th:only-of-type {\n",
       "        vertical-align: middle;\n",
       "    }\n",
       "\n",
       "    .dataframe tbody tr th {\n",
       "        vertical-align: top;\n",
       "    }\n",
       "\n",
       "    .dataframe thead th {\n",
       "        text-align: right;\n",
       "    }\n",
       "</style>\n",
       "<table border=\"1\" class=\"dataframe\">\n",
       "  <thead>\n",
       "    <tr style=\"text-align: right;\">\n",
       "      <th></th>\n",
       "      <th>one</th>\n",
       "      <th>two</th>\n",
       "      <th>three</th>\n",
       "    </tr>\n",
       "  </thead>\n",
       "  <tbody>\n",
       "    <tr>\n",
       "      <th>a</th>\n",
       "      <td>1.0</td>\n",
       "      <td>1</td>\n",
       "      <td>10.0</td>\n",
       "    </tr>\n",
       "    <tr>\n",
       "      <th>b</th>\n",
       "      <td>2.0</td>\n",
       "      <td>2</td>\n",
       "      <td>20.0</td>\n",
       "    </tr>\n",
       "    <tr>\n",
       "      <th>c</th>\n",
       "      <td>3.0</td>\n",
       "      <td>3</td>\n",
       "      <td>30.0</td>\n",
       "    </tr>\n",
       "    <tr>\n",
       "      <th>d</th>\n",
       "      <td>NaN</td>\n",
       "      <td>4</td>\n",
       "      <td>NaN</td>\n",
       "    </tr>\n",
       "  </tbody>\n",
       "</table>\n",
       "</div>"
      ],
      "text/plain": [
       "   one  two  three\n",
       "a  1.0    1   10.0\n",
       "b  2.0    2   20.0\n",
       "c  3.0    3   30.0\n",
       "d  NaN    4    NaN"
      ]
     },
     "execution_count": 66,
     "metadata": {},
     "output_type": "execute_result"
    }
   ],
   "source": [
    "df_seguridad=df\n",
    "df_seguridad.to_csv(\"seguridad.csv\")\n",
    "df_seguridad"
   ]
  },
  {
   "cell_type": "code",
   "execution_count": null,
   "metadata": {
    "id": "W1W_80CV4YoP",
    "outputId": "e0e134ae-4acc-498f-f56a-0db2d607d454"
   },
   "outputs": [
    {
     "name": "stdout",
     "output_type": "stream",
     "text": [
      "Deleting the first column using DEL function:\n",
      "\n",
      "   two  three\n",
      "a    1   10.0\n",
      "b    2   20.0\n",
      "c    3   30.0\n",
      "d    4    NaN \n",
      "\n"
     ]
    }
   ],
   "source": [
    "# using del function\n",
    "print (\"Deleting the first column using DEL function:\\n\")\n",
    "del df['one']\n",
    "print(df,'\\n')"
   ]
  },
  {
   "cell_type": "code",
   "execution_count": null,
   "metadata": {
    "id": "C3vyhv5U4YoP",
    "outputId": "a25dea59-3b26-4958-97f9-324690f54be7"
   },
   "outputs": [
    {
     "name": "stdout",
     "output_type": "stream",
     "text": [
      "Deleting another column using POP function:\n",
      "\n",
      "   three\n",
      "a   10.0\n",
      "b   20.0\n",
      "c   30.0\n",
      "d    NaN\n"
     ]
    }
   ],
   "source": [
    "# using pop function\n",
    "print (\"Deleting another column using POP function:\\n\")\n",
    "df.pop('two')\n",
    "print(df)"
   ]
  },
  {
   "cell_type": "markdown",
   "metadata": {
    "id": "irk5OiRu4YoQ"
   },
   "source": [
    "### Selección, Adición y Borrado de fila"
   ]
  },
  {
   "cell_type": "markdown",
   "metadata": {
    "id": "jR6l-6Xl4YoQ"
   },
   "source": [
    "#### Selección por etiqueta\n",
    "\n",
    "Las filas se pueden seleccionar pasando la etiqueta de fila por la función *loc*"
   ]
  },
  {
   "cell_type": "code",
   "execution_count": null,
   "metadata": {
    "id": "tLDmjbGt4YoQ",
    "outputId": "5ba6bc54-d881-4a5c-cdd3-0b81475a4aa1"
   },
   "outputs": [
    {
     "name": "stdout",
     "output_type": "stream",
     "text": [
      "   one  two\n",
      "a  1.0    1\n",
      "b  2.0    2\n",
      "c  3.0    3\n",
      "d  NaN    4\n",
      "one    2.0\n",
      "two    2.0\n",
      "Name: b, dtype: float64\n"
     ]
    }
   ],
   "source": [
    "d = {'one' : pd.Series([1, 2, 3], index=['a', 'b', 'c'], dtype=int), \n",
    "     'two' : pd.Series([1, 2, 3,4], index=['a', 'b', 'c', 'd'], dtype=int)}\n",
    "\n",
    "df = pd.DataFrame(d)\n",
    "print(df)\n",
    "\n",
    "print(df.loc['b'])\n"
   ]
  },
  {
   "cell_type": "markdown",
   "metadata": {
    "id": "T2mn2WwH4YoQ"
   },
   "source": [
    "- El resultado es una serie con etiquetas como nombres de columna del *DataFrame*. Y, el Nombre de la serie es la etiqueta con la que se recupera."
   ]
  },
  {
   "cell_type": "markdown",
   "metadata": {
    "id": "Dde8IBba4YoQ"
   },
   "source": [
    "#### Selección por ubicación entera\n",
    "\n",
    "Las filas se pueden seleccionar pasando la ubicación entera a una función *iloc*."
   ]
  },
  {
   "cell_type": "code",
   "execution_count": null,
   "metadata": {
    "id": "yXiA8e5M4YoQ"
   },
   "outputs": [],
   "source": [
    "df = pd.DataFrame(d)\n",
    "print(df.iloc[2])\n"
   ]
  },
  {
   "cell_type": "markdown",
   "metadata": {
    "id": "yPry0imi4YoQ"
   },
   "source": [
    "#### Porcion de fila\n",
    "\n",
    "Múltiples filas se pueden seleccionar usando el operador ':'"
   ]
  },
  {
   "cell_type": "code",
   "execution_count": null,
   "metadata": {
    "id": "CqQ4xKGI4YoQ"
   },
   "outputs": [],
   "source": [
    "df = pd.DataFrame(d)\n",
    "print(df[2:4])\n"
   ]
  },
  {
   "cell_type": "markdown",
   "metadata": {
    "id": "8Lg_1MVC4YoQ"
   },
   "source": [
    "#### Adición de filas\n",
    "\n",
    "Adicionar nuevas filas al *DataFrame* usando la función *append*. Esta función adiciona las filas al final."
   ]
  },
  {
   "cell_type": "code",
   "execution_count": null,
   "metadata": {
    "id": "k25aq6oj4YoQ",
    "outputId": "be9e7d6b-b99c-4a36-e4e6-f63d34f6a0f8"
   },
   "outputs": [
    {
     "data": {
      "text/html": [
       "<div>\n",
       "<style scoped>\n",
       "    .dataframe tbody tr th:only-of-type {\n",
       "        vertical-align: middle;\n",
       "    }\n",
       "\n",
       "    .dataframe tbody tr th {\n",
       "        vertical-align: top;\n",
       "    }\n",
       "\n",
       "    .dataframe thead th {\n",
       "        text-align: right;\n",
       "    }\n",
       "</style>\n",
       "<table border=\"1\" class=\"dataframe\">\n",
       "  <thead>\n",
       "    <tr style=\"text-align: right;\">\n",
       "      <th></th>\n",
       "      <th>a</th>\n",
       "      <th>b</th>\n",
       "    </tr>\n",
       "  </thead>\n",
       "  <tbody>\n",
       "    <tr>\n",
       "      <th>0</th>\n",
       "      <td>1</td>\n",
       "      <td>2</td>\n",
       "    </tr>\n",
       "    <tr>\n",
       "      <th>1</th>\n",
       "      <td>3</td>\n",
       "      <td>4</td>\n",
       "    </tr>\n",
       "  </tbody>\n",
       "</table>\n",
       "</div>"
      ],
      "text/plain": [
       "   a  b\n",
       "0  1  2\n",
       "1  3  4"
      ]
     },
     "execution_count": 84,
     "metadata": {},
     "output_type": "execute_result"
    }
   ],
   "source": [
    "df = pd.DataFrame([[1, 2], [3, 4]], columns = ['a','b'])\n",
    "df2 = pd.DataFrame([[5, 6], [7, 8]], columns = ['a','b'])\n",
    "df\n",
    "\n"
   ]
  },
  {
   "cell_type": "code",
   "execution_count": null,
   "metadata": {
    "id": "23d8jzix4YoQ",
    "outputId": "3df6fa59-b8bd-4b28-e251-fb4ee712e8b4"
   },
   "outputs": [
    {
     "data": {
      "text/html": [
       "<div>\n",
       "<style scoped>\n",
       "    .dataframe tbody tr th:only-of-type {\n",
       "        vertical-align: middle;\n",
       "    }\n",
       "\n",
       "    .dataframe tbody tr th {\n",
       "        vertical-align: top;\n",
       "    }\n",
       "\n",
       "    .dataframe thead th {\n",
       "        text-align: right;\n",
       "    }\n",
       "</style>\n",
       "<table border=\"1\" class=\"dataframe\">\n",
       "  <thead>\n",
       "    <tr style=\"text-align: right;\">\n",
       "      <th></th>\n",
       "      <th>a</th>\n",
       "      <th>b</th>\n",
       "    </tr>\n",
       "  </thead>\n",
       "  <tbody>\n",
       "    <tr>\n",
       "      <th>0</th>\n",
       "      <td>5</td>\n",
       "      <td>6</td>\n",
       "    </tr>\n",
       "    <tr>\n",
       "      <th>1</th>\n",
       "      <td>7</td>\n",
       "      <td>8</td>\n",
       "    </tr>\n",
       "  </tbody>\n",
       "</table>\n",
       "</div>"
      ],
      "text/plain": [
       "   a  b\n",
       "0  5  6\n",
       "1  7  8"
      ]
     },
     "execution_count": 85,
     "metadata": {},
     "output_type": "execute_result"
    }
   ],
   "source": [
    "df2"
   ]
  },
  {
   "cell_type": "code",
   "execution_count": null,
   "metadata": {
    "id": "Qfsd1Fdy4YoQ",
    "outputId": "c0f0cbef-747b-4099-ec0d-de92423c59b0"
   },
   "outputs": [
    {
     "name": "stdout",
     "output_type": "stream",
     "text": [
      "   a  b\n",
      "0  1  2\n",
      "1  3  4\n",
      "0  5  6\n",
      "1  7  8\n"
     ]
    }
   ],
   "source": [
    "df = df.append(df2)\n",
    "print(df)"
   ]
  },
  {
   "cell_type": "markdown",
   "metadata": {
    "id": "-f8P2vcp4YoR"
   },
   "source": [
    "#### Borrado de filas\n",
    "\n",
    "Use la etiqueta de índice para eliminar o cortar filas de un *DataFrame*. Si la etiqueta está duplicada, se eliminarán varias filas.\n",
    "\n",
    "Si observa, en el ejemplo anterior, las etiquetas están duplicadas. Cortemos una etiqueta y veamos cuántas filas se descartarán."
   ]
  },
  {
   "cell_type": "code",
   "execution_count": null,
   "metadata": {
    "id": "ux9QD_JZ4YoR",
    "outputId": "fa3a06c8-8e5d-4a52-9541-210c1a3c697a"
   },
   "outputs": [
    {
     "name": "stdout",
     "output_type": "stream",
     "text": [
      "   a  b\n",
      "0  1  2\n",
      "1  3  4\n",
      "0  5  6\n",
      "1  7  8\n"
     ]
    },
    {
     "data": {
      "text/html": [
       "<div>\n",
       "<style scoped>\n",
       "    .dataframe tbody tr th:only-of-type {\n",
       "        vertical-align: middle;\n",
       "    }\n",
       "\n",
       "    .dataframe tbody tr th {\n",
       "        vertical-align: top;\n",
       "    }\n",
       "\n",
       "    .dataframe thead th {\n",
       "        text-align: right;\n",
       "    }\n",
       "</style>\n",
       "<table border=\"1\" class=\"dataframe\">\n",
       "  <thead>\n",
       "    <tr style=\"text-align: right;\">\n",
       "      <th></th>\n",
       "      <th>a</th>\n",
       "      <th>b</th>\n",
       "    </tr>\n",
       "  </thead>\n",
       "  <tbody>\n",
       "    <tr>\n",
       "      <th>0</th>\n",
       "      <td>1</td>\n",
       "      <td>2</td>\n",
       "    </tr>\n",
       "    <tr>\n",
       "      <th>0</th>\n",
       "      <td>5</td>\n",
       "      <td>6</td>\n",
       "    </tr>\n",
       "  </tbody>\n",
       "</table>\n",
       "</div>"
      ],
      "text/plain": [
       "   a  b\n",
       "0  1  2\n",
       "0  5  6"
      ]
     },
     "execution_count": 92,
     "metadata": {},
     "output_type": "execute_result"
    }
   ],
   "source": [
    "df = pd.DataFrame([[1, 2], [3, 4]], columns = ['a','b'])\n",
    "df2 = pd.DataFrame([[5, 6], [7, 8]], columns = ['a','b'])\n",
    "\n",
    "df = df.append(df2)\n",
    "print(df)\n",
    "\n",
    "# Drop rows with label 0\n",
    "df = df.drop(0)\n",
    "\n",
    "df\n"
   ]
  },
  {
   "cell_type": "code",
   "execution_count": null,
   "metadata": {
    "id": "wMB_wwdj4YoR"
   },
   "outputs": [],
   "source": [
    "print(df)\n",
    "df\n",
    "df2"
   ]
  },
  {
   "cell_type": "code",
   "execution_count": null,
   "metadata": {
    "id": "KAeslEc94YoR"
   },
   "outputs": [],
   "source": [
    "df = pd.DataFrame([[1, 2], [3, 4]], columns = ['a','b'])\n",
    "df2 = pd.DataFrame([[5, 6], [7, 8]], columns = ['a','b'])\n",
    "\n",
    "df2\n",
    "df = df.append(df2)\n",
    "df\n",
    "\n",
    "df = df.drop(0)\n",
    "df"
   ]
  },
  {
   "cell_type": "markdown",
   "metadata": {
    "id": "E66-LdvW4YoR"
   },
   "source": [
    "- En el ejemplo anterior se quitaron dos filas porque éstas dos contenían la misma etiqueta $0$."
   ]
  },
  {
   "cell_type": "code",
   "execution_count": null,
   "metadata": {
    "id": "RZk8FmUh4YoR"
   },
   "outputs": [],
   "source": [
    "import pandas as pd\n",
    "import numpy as np\n",
    "df_lista = pd.DataFrame({'a': [11,12,13], 'b': [21,22,23]})"
   ]
  },
  {
   "cell_type": "markdown",
   "metadata": {
    "id": "Wi7owGMI4YoR"
   },
   "source": [
    "- DataFrame a partir de un diccionario de listas:"
   ]
  },
  {
   "cell_type": "code",
   "execution_count": null,
   "metadata": {
    "id": "oHbkZar64YoR"
   },
   "outputs": [],
   "source": [
    "print('{}'.format(df_lista))\n"
   ]
  },
  {
   "cell_type": "code",
   "execution_count": null,
   "metadata": {
    "id": "4-Kpc3zs4YoR"
   },
   "outputs": [],
   "source": [
    "df_np1D = pd.DataFrame({'a': np.arange(3)**2, 'b': np.random.randn(3)})"
   ]
  },
  {
   "cell_type": "markdown",
   "metadata": {
    "id": "2IOy7wac4YoR"
   },
   "source": [
    "- DataFrame a partir de un diccionario de 1D ndarrays:"
   ]
  },
  {
   "cell_type": "code",
   "execution_count": null,
   "metadata": {
    "id": "T2WXVW-F4YoR",
    "outputId": "dd3ed290-7c39-4dd7-bcff-f9713a9b4d4a"
   },
   "outputs": [
    {
     "name": "stdout",
     "output_type": "stream",
     "text": [
      "   a         b\n",
      "0  0  0.536891\n",
      "1  1  1.863035\n",
      "2  4  0.591718\n"
     ]
    }
   ],
   "source": [
    "print('{}'.format(df_np1D))"
   ]
  },
  {
   "cell_type": "markdown",
   "metadata": {
    "id": "N_5L2vzD4YoR"
   },
   "source": [
    "- DataFrame a partir de un 2D ndarray:"
   ]
  },
  {
   "cell_type": "code",
   "execution_count": null,
   "metadata": {
    "id": "Z0TjdxR64YoR",
    "outputId": "4efbe4e0-53e6-4686-8c81-bc4576943ee1"
   },
   "outputs": [
    {
     "name": "stdout",
     "output_type": "stream",
     "text": [
      "             velocidad    temperatura        presion\n",
      "primero  1.039778e-312  9.761181e-313  1.018558e-312\n",
      "segundo  1.018558e-312  1.018558e-312  1.039778e-312\n",
      "tercero  9.761181e-313  1.018558e-312  1.018558e-312\n",
      "cuarto   1.018558e-312  1.039778e-312  9.761181e-313\n",
      "quinto   1.018558e-312  1.018558e-312  1.018558e-312\n"
     ]
    }
   ],
   "source": [
    "df_np2D = pd.DataFrame(np.empty((5,3)),\n",
    "index = ['primero','segundo','tercero','cuarto','quinto'],\n",
    "columns = ['velocidad', 'temperatura','presion'])\n",
    "print('{}'.format(df_np2D))"
   ]
  },
  {
   "cell_type": "markdown",
   "metadata": {
    "id": "KQiSqqwk4YoS"
   },
   "source": [
    "- DataFrame a partir de los valores de otro (pandas)DataFrame"
   ]
  },
  {
   "cell_type": "code",
   "execution_count": null,
   "metadata": {
    "id": "YDUSWv0d4YoS",
    "outputId": "940af4ba-3bbf-499f-d8ff-b8665c57aae4"
   },
   "outputs": [
    {
     "name": "stdout",
     "output_type": "stream",
     "text": [
      "            velocidad    temperatura        presion\n",
      "first   1.039778e-312  9.761181e-313  1.018558e-312\n",
      "second  1.018558e-312  1.018558e-312  1.039778e-312\n",
      "third   9.761181e-313  1.018558e-312  1.018558e-312\n"
     ]
    }
   ],
   "source": [
    "df_df = pd.DataFrame(df_np2D, index = ['primero','segundo','tercero'])\n",
    "df_df.index = ['first','second','third']\n",
    "print('{}'.format(df_df))\n",
    "#..."
   ]
  },
  {
   "cell_type": "markdown",
   "metadata": {
    "id": "-IOhCux74YoX"
   },
   "source": [
    "### Trabajando con Datos, Indexación, Selección"
   ]
  },
  {
   "cell_type": "markdown",
   "metadata": {
    "id": "cSl2X68o4YoX"
   },
   "source": [
    "> ¿Cómo podemos seleccionar, añadir, eliminar, mover,..., columnas, filas,...?\n",
    "\n",
    "\n",
    "> - Para seleccionar una columna solo hay que usar el nombre de la columna y pasarlo como si fuera un diccionario (o un atributo).\n",
    "\n",
    "\n",
    "> Para añadir una columna simplemente hay que usar un nombre de columna no existente y pasarle los valores para esa columna.\n",
    "\n",
    "\n",
    "> Para eliminar una columna podemos usar *del* o el método *pop* del *DataFrame*.\n",
    "\n",
    "\n",
    "> Para mover una columna podemos usar una combinación de las metodologías anteriores.\n",
    "\n",
    "\n",
    "Por ejemplo, vamos a seleccionar los valores de una columna:"
   ]
  },
  {
   "cell_type": "code",
   "execution_count": null,
   "metadata": {
    "id": "ISfHZyJ94YoX"
   },
   "outputs": [],
   "source": [
    "df = pd.DataFrame(np.random.randn(5,3),\n",
    "                  index = ['primero','segundo','tercero','cuarto','quinto'],\n",
    "                  columns = ['velocidad', 'temperatura','presion'])\n",
    "#print(df['velocidad'])\n",
    "print(df.velocidad)"
   ]
  },
  {
   "cell_type": "markdown",
   "metadata": {
    "id": "NogHH05g4YoX"
   },
   "source": [
    "> Hemos creado un DataFrame y para acceder a la columna velocidad lo podemos hacer de dos formas. \n",
    "\n",
    "\n",
    "> - O bien usando el nombre de la columna como si fuera una clave de un diccionario \n",
    "\n",
    "> - o bien usando el nombre de la columna como si fuera un atributo. \n",
    "\n",
    "\n",
    "> En el caso de que los nombres de las columnas sean números, la segunda opción no podríais usarla...\n",
    "\n",
    "\n",
    "Vamos a añadir una columna nueva al DataFrame. Es algo tan sencillo como usar un nombre de columna no existente y pasarle los datos:"
   ]
  },
  {
   "cell_type": "code",
   "execution_count": null,
   "metadata": {
    "id": "dkUUhvJx4YoX"
   },
   "outputs": [],
   "source": [
    "df['velocidad_maxima'] = np.random.randn(df.shape[0])\n",
    "print(df)"
   ]
  },
  {
   "cell_type": "markdown",
   "metadata": {
    "id": "fZz7qyRD4YoX"
   },
   "source": [
    "> Pero qué pasa si quiero añadir la columna en un lugar específico. Para ello podemos usar el método *insert* (y de paso vemos como podemos borrar una columna):\n",
    "\n",
    "<strong>Forma 1:</strong> \n",
    "- Borramos la columna 'velocidad_maxima' que está al final del df usando *del*\n",
    "- Colocamos la columna eliminada en la posición que especifiquemos"
   ]
  },
  {
   "cell_type": "code",
   "execution_count": null,
   "metadata": {
    "id": "qWMKXKOw4YoX"
   },
   "outputs": [],
   "source": [
    "print(df)\n",
    "columna = df['velocidad_maxima']\n",
    "del df['velocidad_maxima']\n",
    "df.insert(1, 'velocidad_maxima', columna)\n",
    "print(df)"
   ]
  },
  {
   "cell_type": "markdown",
   "metadata": {
    "id": "DCR_WOmc4YoX"
   },
   "source": [
    "<strong>Forma 2:</strong> Usando el método pop: borramos usando el método pop y añadimos la columna borrada en la última posición de nuevo."
   ]
  },
  {
   "cell_type": "code",
   "execution_count": null,
   "metadata": {
    "id": "Hs7sbISU4YoX"
   },
   "outputs": [],
   "source": [
    "print(df)\n",
    "columna = df.pop('velocidad_maxima')\n",
    "print(df)\n",
    "#print(columna)\n",
    "df.insert(3, 'velocidad_maxima', columna)\n",
    "print(df)"
   ]
  },
  {
   "cell_type": "markdown",
   "metadata": {
    "id": "jeTvaidl4YoY"
   },
   "source": [
    "> Para seleccionar datos concretos de un DataFrame podemos usar el índice, una rebanada, valores booleanos, la columna,..."
   ]
  },
  {
   "cell_type": "markdown",
   "metadata": {
    "id": "UbdHbtxx4YoY"
   },
   "source": [
    "- Seleccionamos la columna de velocidades:"
   ]
  },
  {
   "cell_type": "code",
   "execution_count": null,
   "metadata": {
    "id": "ooJlkqDK4YoY"
   },
   "outputs": [],
   "source": [
    "print(df['velocidad'])"
   ]
  },
  {
   "cell_type": "markdown",
   "metadata": {
    "id": "NauyVisk4YoY"
   },
   "source": [
    "- Seleccionamos todas las columnas cuyo índice es igual a tercero:"
   ]
  },
  {
   "cell_type": "code",
   "execution_count": null,
   "metadata": {
    "id": "IUm3fHlC4YoY"
   },
   "outputs": [],
   "source": [
    "print(df.xs('tercero'))"
   ]
  },
  {
   "cell_type": "markdown",
   "metadata": {
    "id": "nlYQ0zkh4YoY"
   },
   "source": [
    "- Seleccionamos todas las columnas cuyo índice está entre tercero y quinto (en este caso los índices son inclusivos)"
   ]
  },
  {
   "cell_type": "code",
   "execution_count": null,
   "metadata": {
    "id": "MeJExMXz4YoY"
   },
   "outputs": [],
   "source": [
    "print(df.loc['tercero':'quinto'])"
   ]
  },
  {
   "cell_type": "markdown",
   "metadata": {
    "id": "RWnEmZqO4YoY"
   },
   "source": [
    "- Seleccionamos todos los valores de velocidad donde la temperatura > 0"
   ]
  },
  {
   "cell_type": "code",
   "execution_count": null,
   "metadata": {
    "id": "yzU_qOzE4YoY"
   },
   "outputs": [],
   "source": [
    "print(df.loc[['velocidad'],['temperatura']])  #Cuál es el error?"
   ]
  },
  {
   "cell_type": "markdown",
   "metadata": {
    "id": "CfScGzzQ4YoY"
   },
   "source": [
    "- Seleccionamos todos los valores de una columna por índice usando una rebanada (slice) de enteros.\n",
    "  - En este caso el límite superior de la rebanada no se incluye (Python tradicional)"
   ]
  },
  {
   "cell_type": "code",
   "execution_count": null,
   "metadata": {
    "id": "mgwm-QY24YoY"
   },
   "outputs": [],
   "source": [
    "print(df.ix[1:3])"
   ]
  },
  {
   "cell_type": "markdown",
   "metadata": {
    "id": "7Q6f-7qf4YoY"
   },
   "source": [
    "- Seleccionamos filas y columnas"
   ]
  },
  {
   "cell_type": "code",
   "execution_count": null,
   "metadata": {
    "id": "6Yir-sDl4YoY"
   },
   "outputs": [],
   "source": [
    "print(df.ix[1:3, ['velocidad', 'presion']])"
   ]
  }
 ],
 "metadata": {
  "colab": {
   "provenance": [],
   "toc_visible": true
  },
  "kernelspec": {
   "display_name": "Python 3 (ipykernel)",
   "language": "python",
   "name": "python3"
  },
  "language_info": {
   "codemirror_mode": {
    "name": "ipython",
    "version": 3
   },
   "file_extension": ".py",
   "mimetype": "text/x-python",
   "name": "python",
   "nbconvert_exporter": "python",
   "pygments_lexer": "ipython3",
   "version": "3.10.9"
  }
 },
 "nbformat": 4,
 "nbformat_minor": 1
}
