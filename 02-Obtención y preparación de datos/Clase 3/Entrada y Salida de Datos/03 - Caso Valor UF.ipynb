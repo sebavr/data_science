{
 "cells": [
  {
   "cell_type": "markdown",
   "metadata": {},
   "source": [
    "---\n",
    "# Obtención Valor UF\n",
    "\n",
    "Se pide confeccionar un programa en python para la obtención de la uf del mes de Octubre de 2021 y posteriormente **almacenarla en una planilla excel** tal como el siguiente ejemplo.\n",
    "\n",
    "\n",
    "| Dia | Valor |\n",
    "|---|---|\n",
    "| 1 | 29936.45 |\n",
    "| 2 | 29947.64 |\n",
    "| 3 | 29956.23 |\n",
    "| 4 | 30016.98 |\n",
    "| ... | ... |\n",
    "\n",
    "\n",
    "La siguiente url contiene datos del valor de la UF.\n",
    "\n",
    "    http://www.sii.cl/valores_y_fechas/uf/uf2021.htm\n"
   ]
  },
  {
   "cell_type": "code",
   "execution_count": 147,
   "metadata": {},
   "outputs": [],
   "source": [
    "import pandas as pd\n",
    "\n",
    "import requests\n",
    "from bs4 import BeautifulSoup"
   ]
  },
  {
   "cell_type": "code",
   "execution_count": 223,
   "metadata": {},
   "outputs": [],
   "source": [
    "url = 'http://www.sii.cl/valores_y_fechas/uf/uf2021.htm'\n",
    "r=requests.get(url)\n",
    "tables = pd.read_html(url)\n",
    "octubre=tables[2]\n",
    "\n",
    "primero=octubre.iloc[:10,:2]\n",
    "segundo=octubre.iloc[:10,2:4]\n",
    "tercero=octubre.iloc[:11,4:6]\n",
    "\n",
    "\n",
    "primeroo=primero.rename({'Octubre': 'Dia','Octubre.1': 'Valor'}, axis=1)\n",
    "segundoo=segundo.rename({'Octubre.2': 'Dia','Octubre.3': 'Valor'}, axis=1)\n",
    "terceroo=tercero.rename({'Octubre.4': 'Dia','Octubre.5': 'Valor'}, axis=1)\n",
    "\n",
    "k=pd.merge(primeroo,segundoo,how=\"outer\")\n",
    "l=pd.merge(k,terceroo,how=\"outer\")\n",
    "l\n",
    "final=l\n",
    "final.to_excel('casoValorUF.xlsx', sheet_name='valorUF',index=False)\n"
   ]
  },
  {
   "cell_type": "code",
   "execution_count": 182,
   "metadata": {},
   "outputs": [
    {
     "ename": "NameError",
     "evalue": "name 'di' is not defined",
     "output_type": "error",
     "traceback": [
      "\u001b[1;31m---------------------------------------------------------------------------\u001b[0m",
      "\u001b[1;31mNameError\u001b[0m                                 Traceback (most recent call last)",
      "Cell \u001b[1;32mIn[182], line 1\u001b[0m\n\u001b[1;32m----> 1\u001b[0m \u001b[43mdi\u001b[49m\n",
      "\u001b[1;31mNameError\u001b[0m: name 'di' is not defined"
     ]
    }
   ],
   "source": []
  },
  {
   "cell_type": "code",
   "execution_count": null,
   "metadata": {},
   "outputs": [],
   "source": []
  },
  {
   "cell_type": "code",
   "execution_count": null,
   "metadata": {},
   "outputs": [],
   "source": []
  },
  {
   "cell_type": "code",
   "execution_count": null,
   "metadata": {},
   "outputs": [],
   "source": []
  },
  {
   "cell_type": "code",
   "execution_count": null,
   "metadata": {},
   "outputs": [],
   "source": []
  },
  {
   "cell_type": "code",
   "execution_count": null,
   "metadata": {},
   "outputs": [],
   "source": []
  },
  {
   "cell_type": "code",
   "execution_count": null,
   "metadata": {},
   "outputs": [],
   "source": []
  }
 ],
 "metadata": {
  "kernelspec": {
   "display_name": "Python 3 (ipykernel)",
   "language": "python",
   "name": "python3"
  },
  "language_info": {
   "codemirror_mode": {
    "name": "ipython",
    "version": 3
   },
   "file_extension": ".py",
   "mimetype": "text/x-python",
   "name": "python",
   "nbconvert_exporter": "python",
   "pygments_lexer": "ipython3",
   "version": "3.10.9"
  }
 },
 "nbformat": 4,
 "nbformat_minor": 4
}
