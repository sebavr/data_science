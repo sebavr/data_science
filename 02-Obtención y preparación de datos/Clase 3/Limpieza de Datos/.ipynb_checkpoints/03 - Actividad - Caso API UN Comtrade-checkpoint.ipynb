{
 "cells": [
  {
   "cell_type": "markdown",
   "metadata": {},
   "source": [
    "---\n",
    "# Caso API UN Comtrade\n",
    "\n",
    "UN COMTRADE es el seudónimo para la base de datos estadística de comercio de las Naciones Unidas, en las cuales más de 170 países o áreas del mundo, llamados reporters, proveen información a la división estadística de las Naciones Unidas con su información anual acerca de comercio e intercambio detallada en categorías de commodities o servicios con sus partners de comercio. Más información en la web oficial de UN Comtrade (https://comtrade.un.org/).\n",
    "\n",
    "Para la consulta de información, se dispone de una aplicación web de consultas mediante un formulario, así como también una API, la cual tiene acceso público.\n",
    "\n",
    "- La interfaz de consultas para descargar información se encuentra en el siguiente enlace: https://comtrade.un.org/Data/\n",
    "- La documentación de la API se encuentra en el siguiente enlace: https://comtrade.un.org/data/doc/api/\n",
    "\n",
    "\n",
    "Se pide:\n",
    "\n",
    "- Obtener datos las exportaciones de commodities de Chile para el año 2019 y 2020.\n",
    "- Hacer un análisis exploratorio de los datos, variables numéricas y categóricas\n",
    "- Hacer un análisis de valores nulos en el set de datos\n",
    "- Hacer un análisis de outlaiers\n",
    "- Aplicar técnicas de limpieza\n",
    "- Guardar datos limpios en un archivo Excel\n",
    "\n",
    "\n",
    "Nota: La siguiente uri ya cuenta con los parámetros adecuados para la obtención de los datos solicitados\n",
    "\n",
    "```python\n",
    "\n",
    "uri = 'https://comtrade.un.org/api/get/plus?r=152&rg=2&px=HS&ps=2019,2020&type=C&freq=A&p=all&max=100000&cc=AG2'\n",
    "    \n",
    "```"
   ]
  },
  {
   "cell_type": "code",
   "execution_count": 1,
   "metadata": {},
   "outputs": [],
   "source": [
    "import pandas as pd"
   ]
  },
  {
   "cell_type": "code",
   "execution_count": null,
   "metadata": {},
   "outputs": [],
   "source": []
  }
 ],
 "metadata": {
  "kernelspec": {
   "display_name": "Python 3 (ipykernel)",
   "language": "python",
   "name": "python3"
  },
  "language_info": {
   "codemirror_mode": {
    "name": "ipython",
    "version": 3
   },
   "file_extension": ".py",
   "mimetype": "text/x-python",
   "name": "python",
   "nbconvert_exporter": "python",
   "pygments_lexer": "ipython3",
   "version": "3.10.9"
  }
 },
 "nbformat": 4,
 "nbformat_minor": 4
}
