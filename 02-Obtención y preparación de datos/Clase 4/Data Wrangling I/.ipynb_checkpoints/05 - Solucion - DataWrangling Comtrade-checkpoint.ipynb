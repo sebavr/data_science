{
 "cells": [
  {
   "cell_type": "markdown",
   "metadata": {},
   "source": [
    "---\n",
    "# DataWrangling Comtrade\n",
    "\n",
    "La siguiente base de datos fue extraida desde UN Comtrade (https://comtrade.un.org/), que correspone a una base de datos con información histórica de comercio entre paises, mantenida por las Naciones Unidas.\n",
    "\n",
    "Los datos informados correponden a transacciones de Chile y de Perú."
   ]
  },
  {
   "cell_type": "markdown",
   "metadata": {},
   "source": [
    "#### 1. Importar librerías"
   ]
  },
  {
   "cell_type": "code",
   "execution_count": 1,
   "metadata": {},
   "outputs": [],
   "source": [
    "import pandas as pd"
   ]
  },
  {
   "cell_type": "markdown",
   "metadata": {},
   "source": [
    "#### 2. Realice la lectura de datos"
   ]
  },
  {
   "cell_type": "code",
   "execution_count": 2,
   "metadata": {},
   "outputs": [],
   "source": [
    "df = pd.read_csv('Comtrade-X-CL-PE.csv')"
   ]
  },
  {
   "cell_type": "markdown",
   "metadata": {},
   "source": [
    "#### 3. Realice operaciones básicas de exploración del dataset"
   ]
  },
  {
   "cell_type": "code",
   "execution_count": 3,
   "metadata": {},
   "outputs": [
    {
     "data": {
      "text/plain": [
       "(32538, 35)"
      ]
     },
     "execution_count": 3,
     "metadata": {},
     "output_type": "execute_result"
    }
   ],
   "source": [
    "df.shape"
   ]
  },
  {
   "cell_type": "code",
   "execution_count": 4,
   "metadata": {
    "scrolled": false
   },
   "outputs": [
    {
     "name": "stdout",
     "output_type": "stream",
     "text": [
      "<class 'pandas.core.frame.DataFrame'>\n",
      "RangeIndex: 32538 entries, 0 to 32537\n",
      "Data columns (total 35 columns):\n",
      " #   Column                  Non-Null Count  Dtype  \n",
      "---  ------                  --------------  -----  \n",
      " 0   Classification          32538 non-null  object \n",
      " 1   Year                    32538 non-null  int64  \n",
      " 2   Period                  32538 non-null  int64  \n",
      " 3   Period Desc.            32538 non-null  int64  \n",
      " 4   Aggregate Level         32538 non-null  int64  \n",
      " 5   Is Leaf Code            32538 non-null  int64  \n",
      " 6   Trade Flow Code         32538 non-null  int64  \n",
      " 7   Trade Flow              32538 non-null  object \n",
      " 8   Reporter Code           32538 non-null  int64  \n",
      " 9   Reporter                32538 non-null  object \n",
      " 10  Reporter ISO            32538 non-null  object \n",
      " 11  Partner Code            32538 non-null  int64  \n",
      " 12  Partner                 32538 non-null  object \n",
      " 13  Partner ISO             32538 non-null  object \n",
      " 14  2nd Partner Code        32538 non-null  int64  \n",
      " 15  2nd Partner             32538 non-null  object \n",
      " 16  2nd Partner ISO         32538 non-null  object \n",
      " 17  Customs Proc. Code      32538 non-null  object \n",
      " 18  Customs                 32538 non-null  object \n",
      " 19  Mode of Transport Code  32538 non-null  int64  \n",
      " 20  Mode of Transport       32538 non-null  object \n",
      " 21  Commodity Code          32538 non-null  int64  \n",
      " 22  Commodity               32538 non-null  object \n",
      " 23  Qty Unit Code           32538 non-null  int64  \n",
      " 24  Qty Unit                0 non-null      float64\n",
      " 25  Qty                     32538 non-null  int64  \n",
      " 26  Alt Qty Unit Code       32538 non-null  int64  \n",
      " 27  Alt Qty Unit            0 non-null      float64\n",
      " 28  Alt Qty                 32538 non-null  int64  \n",
      " 29  Netweight (kg)          28353 non-null  float64\n",
      " 30  Gross weight (kg)       28468 non-null  float64\n",
      " 31  Trade Value (US$)       32538 non-null  int64  \n",
      " 32  CIF Trade Value (US$)   0 non-null      float64\n",
      " 33  FOB Trade Value (US$)   32538 non-null  float64\n",
      " 34  Flag                    32538 non-null  int64  \n",
      "dtypes: float64(6), int64(17), object(12)\n",
      "memory usage: 8.7+ MB\n"
     ]
    }
   ],
   "source": [
    "df.info()"
   ]
  },
  {
   "cell_type": "code",
   "execution_count": 5,
   "metadata": {
    "scrolled": true
   },
   "outputs": [
    {
     "data": {
      "text/html": [
       "<div>\n",
       "<style scoped>\n",
       "    .dataframe tbody tr th:only-of-type {\n",
       "        vertical-align: middle;\n",
       "    }\n",
       "\n",
       "    .dataframe tbody tr th {\n",
       "        vertical-align: top;\n",
       "    }\n",
       "\n",
       "    .dataframe thead th {\n",
       "        text-align: right;\n",
       "    }\n",
       "</style>\n",
       "<table border=\"1\" class=\"dataframe\">\n",
       "  <thead>\n",
       "    <tr style=\"text-align: right;\">\n",
       "      <th></th>\n",
       "      <th>Year</th>\n",
       "      <th>Period</th>\n",
       "      <th>Period Desc.</th>\n",
       "      <th>Aggregate Level</th>\n",
       "      <th>Is Leaf Code</th>\n",
       "      <th>Trade Flow Code</th>\n",
       "      <th>Reporter Code</th>\n",
       "      <th>Partner Code</th>\n",
       "      <th>2nd Partner Code</th>\n",
       "      <th>Mode of Transport Code</th>\n",
       "      <th>...</th>\n",
       "      <th>Qty</th>\n",
       "      <th>Alt Qty Unit Code</th>\n",
       "      <th>Alt Qty Unit</th>\n",
       "      <th>Alt Qty</th>\n",
       "      <th>Netweight (kg)</th>\n",
       "      <th>Gross weight (kg)</th>\n",
       "      <th>Trade Value (US$)</th>\n",
       "      <th>CIF Trade Value (US$)</th>\n",
       "      <th>FOB Trade Value (US$)</th>\n",
       "      <th>Flag</th>\n",
       "    </tr>\n",
       "  </thead>\n",
       "  <tbody>\n",
       "    <tr>\n",
       "      <th>count</th>\n",
       "      <td>32538.000000</td>\n",
       "      <td>32538.000000</td>\n",
       "      <td>32538.000000</td>\n",
       "      <td>32538.0</td>\n",
       "      <td>32538.0</td>\n",
       "      <td>32538.0</td>\n",
       "      <td>32538.000000</td>\n",
       "      <td>32538.000000</td>\n",
       "      <td>32538.0</td>\n",
       "      <td>32538.000000</td>\n",
       "      <td>...</td>\n",
       "      <td>32538.0</td>\n",
       "      <td>32538.0</td>\n",
       "      <td>0.0</td>\n",
       "      <td>32538.0</td>\n",
       "      <td>28353.0</td>\n",
       "      <td>28468.0</td>\n",
       "      <td>3.253800e+04</td>\n",
       "      <td>0.0</td>\n",
       "      <td>3.253800e+04</td>\n",
       "      <td>32538.000000</td>\n",
       "    </tr>\n",
       "    <tr>\n",
       "      <th>mean</th>\n",
       "      <td>2018.500338</td>\n",
       "      <td>2018.500338</td>\n",
       "      <td>2018.500338</td>\n",
       "      <td>2.0</td>\n",
       "      <td>0.0</td>\n",
       "      <td>0.0</td>\n",
       "      <td>491.479255</td>\n",
       "      <td>408.469758</td>\n",
       "      <td>0.0</td>\n",
       "      <td>854.991087</td>\n",
       "      <td>...</td>\n",
       "      <td>0.0</td>\n",
       "      <td>-1.0</td>\n",
       "      <td>NaN</td>\n",
       "      <td>0.0</td>\n",
       "      <td>0.0</td>\n",
       "      <td>0.0</td>\n",
       "      <td>2.049644e+07</td>\n",
       "      <td>NaN</td>\n",
       "      <td>2.049644e+07</td>\n",
       "      <td>0.226935</td>\n",
       "    </tr>\n",
       "    <tr>\n",
       "      <th>std</th>\n",
       "      <td>0.500008</td>\n",
       "      <td>0.500008</td>\n",
       "      <td>0.500008</td>\n",
       "      <td>0.0</td>\n",
       "      <td>0.0</td>\n",
       "      <td>0.0</td>\n",
       "      <td>195.447263</td>\n",
       "      <td>269.264814</td>\n",
       "      <td>0.0</td>\n",
       "      <td>1260.299492</td>\n",
       "      <td>...</td>\n",
       "      <td>0.0</td>\n",
       "      <td>0.0</td>\n",
       "      <td>NaN</td>\n",
       "      <td>0.0</td>\n",
       "      <td>0.0</td>\n",
       "      <td>0.0</td>\n",
       "      <td>3.589122e+08</td>\n",
       "      <td>NaN</td>\n",
       "      <td>3.589122e+08</td>\n",
       "      <td>0.925346</td>\n",
       "    </tr>\n",
       "    <tr>\n",
       "      <th>min</th>\n",
       "      <td>2018.000000</td>\n",
       "      <td>2018.000000</td>\n",
       "      <td>2018.000000</td>\n",
       "      <td>2.0</td>\n",
       "      <td>0.0</td>\n",
       "      <td>0.0</td>\n",
       "      <td>152.000000</td>\n",
       "      <td>0.000000</td>\n",
       "      <td>0.0</td>\n",
       "      <td>0.000000</td>\n",
       "      <td>...</td>\n",
       "      <td>0.0</td>\n",
       "      <td>-1.0</td>\n",
       "      <td>NaN</td>\n",
       "      <td>0.0</td>\n",
       "      <td>0.0</td>\n",
       "      <td>0.0</td>\n",
       "      <td>0.000000e+00</td>\n",
       "      <td>NaN</td>\n",
       "      <td>1.000000e-02</td>\n",
       "      <td>0.000000</td>\n",
       "    </tr>\n",
       "    <tr>\n",
       "      <th>25%</th>\n",
       "      <td>2018.000000</td>\n",
       "      <td>2018.000000</td>\n",
       "      <td>2018.000000</td>\n",
       "      <td>2.0</td>\n",
       "      <td>0.0</td>\n",
       "      <td>0.0</td>\n",
       "      <td>604.000000</td>\n",
       "      <td>178.000000</td>\n",
       "      <td>0.0</td>\n",
       "      <td>0.000000</td>\n",
       "      <td>...</td>\n",
       "      <td>0.0</td>\n",
       "      <td>-1.0</td>\n",
       "      <td>NaN</td>\n",
       "      <td>0.0</td>\n",
       "      <td>0.0</td>\n",
       "      <td>0.0</td>\n",
       "      <td>6.032000e+03</td>\n",
       "      <td>NaN</td>\n",
       "      <td>6.032000e+03</td>\n",
       "      <td>0.000000</td>\n",
       "    </tr>\n",
       "    <tr>\n",
       "      <th>50%</th>\n",
       "      <td>2019.000000</td>\n",
       "      <td>2019.000000</td>\n",
       "      <td>2019.000000</td>\n",
       "      <td>2.0</td>\n",
       "      <td>0.0</td>\n",
       "      <td>0.0</td>\n",
       "      <td>604.000000</td>\n",
       "      <td>380.000000</td>\n",
       "      <td>0.0</td>\n",
       "      <td>0.000000</td>\n",
       "      <td>...</td>\n",
       "      <td>0.0</td>\n",
       "      <td>-1.0</td>\n",
       "      <td>NaN</td>\n",
       "      <td>0.0</td>\n",
       "      <td>0.0</td>\n",
       "      <td>0.0</td>\n",
       "      <td>7.220000e+04</td>\n",
       "      <td>NaN</td>\n",
       "      <td>7.220000e+04</td>\n",
       "      <td>0.000000</td>\n",
       "    </tr>\n",
       "    <tr>\n",
       "      <th>75%</th>\n",
       "      <td>2019.000000</td>\n",
       "      <td>2019.000000</td>\n",
       "      <td>2019.000000</td>\n",
       "      <td>2.0</td>\n",
       "      <td>0.0</td>\n",
       "      <td>0.0</td>\n",
       "      <td>604.000000</td>\n",
       "      <td>642.000000</td>\n",
       "      <td>0.0</td>\n",
       "      <td>2100.000000</td>\n",
       "      <td>...</td>\n",
       "      <td>0.0</td>\n",
       "      <td>-1.0</td>\n",
       "      <td>NaN</td>\n",
       "      <td>0.0</td>\n",
       "      <td>0.0</td>\n",
       "      <td>0.0</td>\n",
       "      <td>8.226188e+05</td>\n",
       "      <td>NaN</td>\n",
       "      <td>8.226190e+05</td>\n",
       "      <td>0.000000</td>\n",
       "    </tr>\n",
       "    <tr>\n",
       "      <th>max</th>\n",
       "      <td>2019.000000</td>\n",
       "      <td>2019.000000</td>\n",
       "      <td>2019.000000</td>\n",
       "      <td>2.0</td>\n",
       "      <td>0.0</td>\n",
       "      <td>0.0</td>\n",
       "      <td>604.000000</td>\n",
       "      <td>899.000000</td>\n",
       "      <td>0.0</td>\n",
       "      <td>9900.000000</td>\n",
       "      <td>...</td>\n",
       "      <td>0.0</td>\n",
       "      <td>-1.0</td>\n",
       "      <td>NaN</td>\n",
       "      <td>0.0</td>\n",
       "      <td>0.0</td>\n",
       "      <td>0.0</td>\n",
       "      <td>2.121004e+10</td>\n",
       "      <td>NaN</td>\n",
       "      <td>2.121004e+10</td>\n",
       "      <td>4.000000</td>\n",
       "    </tr>\n",
       "  </tbody>\n",
       "</table>\n",
       "<p>8 rows × 23 columns</p>\n",
       "</div>"
      ],
      "text/plain": [
       "               Year        Period  Period Desc.  Aggregate Level  \\\n",
       "count  32538.000000  32538.000000  32538.000000          32538.0   \n",
       "mean    2018.500338   2018.500338   2018.500338              2.0   \n",
       "std        0.500008      0.500008      0.500008              0.0   \n",
       "min     2018.000000   2018.000000   2018.000000              2.0   \n",
       "25%     2018.000000   2018.000000   2018.000000              2.0   \n",
       "50%     2019.000000   2019.000000   2019.000000              2.0   \n",
       "75%     2019.000000   2019.000000   2019.000000              2.0   \n",
       "max     2019.000000   2019.000000   2019.000000              2.0   \n",
       "\n",
       "       Is Leaf Code  Trade Flow Code  Reporter Code  Partner Code  \\\n",
       "count       32538.0          32538.0   32538.000000  32538.000000   \n",
       "mean            0.0              0.0     491.479255    408.469758   \n",
       "std             0.0              0.0     195.447263    269.264814   \n",
       "min             0.0              0.0     152.000000      0.000000   \n",
       "25%             0.0              0.0     604.000000    178.000000   \n",
       "50%             0.0              0.0     604.000000    380.000000   \n",
       "75%             0.0              0.0     604.000000    642.000000   \n",
       "max             0.0              0.0     604.000000    899.000000   \n",
       "\n",
       "       2nd Partner Code  Mode of Transport Code  ...      Qty  \\\n",
       "count           32538.0            32538.000000  ...  32538.0   \n",
       "mean                0.0              854.991087  ...      0.0   \n",
       "std                 0.0             1260.299492  ...      0.0   \n",
       "min                 0.0                0.000000  ...      0.0   \n",
       "25%                 0.0                0.000000  ...      0.0   \n",
       "50%                 0.0                0.000000  ...      0.0   \n",
       "75%                 0.0             2100.000000  ...      0.0   \n",
       "max                 0.0             9900.000000  ...      0.0   \n",
       "\n",
       "       Alt Qty Unit Code  Alt Qty Unit  Alt Qty  Netweight (kg)  \\\n",
       "count            32538.0           0.0  32538.0         28353.0   \n",
       "mean                -1.0           NaN      0.0             0.0   \n",
       "std                  0.0           NaN      0.0             0.0   \n",
       "min                 -1.0           NaN      0.0             0.0   \n",
       "25%                 -1.0           NaN      0.0             0.0   \n",
       "50%                 -1.0           NaN      0.0             0.0   \n",
       "75%                 -1.0           NaN      0.0             0.0   \n",
       "max                 -1.0           NaN      0.0             0.0   \n",
       "\n",
       "       Gross weight (kg)  Trade Value (US$)  CIF Trade Value (US$)  \\\n",
       "count            28468.0       3.253800e+04                    0.0   \n",
       "mean                 0.0       2.049644e+07                    NaN   \n",
       "std                  0.0       3.589122e+08                    NaN   \n",
       "min                  0.0       0.000000e+00                    NaN   \n",
       "25%                  0.0       6.032000e+03                    NaN   \n",
       "50%                  0.0       7.220000e+04                    NaN   \n",
       "75%                  0.0       8.226188e+05                    NaN   \n",
       "max                  0.0       2.121004e+10                    NaN   \n",
       "\n",
       "       FOB Trade Value (US$)          Flag  \n",
       "count           3.253800e+04  32538.000000  \n",
       "mean            2.049644e+07      0.226935  \n",
       "std             3.589122e+08      0.925346  \n",
       "min             1.000000e-02      0.000000  \n",
       "25%             6.032000e+03      0.000000  \n",
       "50%             7.220000e+04      0.000000  \n",
       "75%             8.226190e+05      0.000000  \n",
       "max             2.121004e+10      4.000000  \n",
       "\n",
       "[8 rows x 23 columns]"
      ]
     },
     "execution_count": 5,
     "metadata": {},
     "output_type": "execute_result"
    }
   ],
   "source": [
    "df.describe()"
   ]
  },
  {
   "cell_type": "markdown",
   "metadata": {},
   "source": [
    "#### 4. ¿Cuántas filas y columnas tiene el dataset?"
   ]
  },
  {
   "cell_type": "code",
   "execution_count": null,
   "metadata": {},
   "outputs": [],
   "source": []
  },
  {
   "cell_type": "code",
   "execution_count": 6,
   "metadata": {},
   "outputs": [
    {
     "data": {
      "text/plain": [
       "(32538, 35)"
      ]
     },
     "execution_count": 6,
     "metadata": {},
     "output_type": "execute_result"
    }
   ],
   "source": [
    "df.shape"
   ]
  },
  {
   "cell_type": "markdown",
   "metadata": {},
   "source": [
    "#### 5. ¿Cuántos reporters distintos hay en los datos? (campo Reporter)"
   ]
  },
  {
   "cell_type": "code",
   "execution_count": null,
   "metadata": {},
   "outputs": [],
   "source": []
  },
  {
   "cell_type": "code",
   "execution_count": 7,
   "metadata": {},
   "outputs": [
    {
     "data": {
      "text/plain": [
       "array(['Chile', 'Peru'], dtype=object)"
      ]
     },
     "execution_count": 7,
     "metadata": {},
     "output_type": "execute_result"
    }
   ],
   "source": [
    "df['Reporter'].unique()"
   ]
  },
  {
   "cell_type": "markdown",
   "metadata": {},
   "source": [
    "#### 5. ¿Qué años de data considera el reporte?"
   ]
  },
  {
   "cell_type": "code",
   "execution_count": null,
   "metadata": {},
   "outputs": [],
   "source": []
  },
  {
   "cell_type": "code",
   "execution_count": 8,
   "metadata": {},
   "outputs": [
    {
     "data": {
      "text/plain": [
       "array([2018, 2019], dtype=int64)"
      ]
     },
     "execution_count": 8,
     "metadata": {},
     "output_type": "execute_result"
    }
   ],
   "source": [
    "df['Year'].unique()"
   ]
  },
  {
   "cell_type": "markdown",
   "metadata": {},
   "source": [
    "#### 5. Haga un análisis de valores nulos"
   ]
  },
  {
   "cell_type": "code",
   "execution_count": null,
   "metadata": {},
   "outputs": [],
   "source": []
  },
  {
   "cell_type": "code",
   "execution_count": 9,
   "metadata": {
    "scrolled": true
   },
   "outputs": [
    {
     "data": {
      "text/plain": [
       "Classification                0\n",
       "Year                          0\n",
       "Period                        0\n",
       "Period Desc.                  0\n",
       "Aggregate Level               0\n",
       "Is Leaf Code                  0\n",
       "Trade Flow Code               0\n",
       "Trade Flow                    0\n",
       "Reporter Code                 0\n",
       "Reporter                      0\n",
       "Reporter ISO                  0\n",
       "Partner Code                  0\n",
       "Partner                       0\n",
       "Partner ISO                   0\n",
       "2nd Partner Code              0\n",
       "2nd Partner                   0\n",
       "2nd Partner ISO               0\n",
       "Customs Proc. Code            0\n",
       "Customs                       0\n",
       "Mode of Transport Code        0\n",
       "Mode of Transport             0\n",
       "Commodity Code                0\n",
       "Commodity                     0\n",
       "Qty Unit Code                 0\n",
       "Qty Unit                  32538\n",
       "Qty                           0\n",
       "Alt Qty Unit Code             0\n",
       "Alt Qty Unit              32538\n",
       "Alt Qty                       0\n",
       "Netweight (kg)             4185\n",
       "Gross weight (kg)          4070\n",
       "Trade Value (US$)             0\n",
       "CIF Trade Value (US$)     32538\n",
       "FOB Trade Value (US$)         0\n",
       "Flag                          0\n",
       "dtype: int64"
      ]
     },
     "execution_count": 9,
     "metadata": {},
     "output_type": "execute_result"
    }
   ],
   "source": [
    "df.isnull().sum()"
   ]
  },
  {
   "cell_type": "markdown",
   "metadata": {},
   "source": [
    "#### 6. En base al análisis anterior, ¿eliminaría columnas? ¿cuáles? Si es así, proceda..."
   ]
  },
  {
   "cell_type": "code",
   "execution_count": null,
   "metadata": {},
   "outputs": [],
   "source": []
  },
  {
   "cell_type": "code",
   "execution_count": null,
   "metadata": {},
   "outputs": [],
   "source": []
  },
  {
   "cell_type": "markdown",
   "metadata": {},
   "source": [
    "#### 7. ¿Que densidad de datos tienen las columnas Netwweight y Trade Value?\n",
    "Nos referimos al porcentaje de datos no nulo que tiene cada columna respecto al total"
   ]
  },
  {
   "cell_type": "code",
   "execution_count": null,
   "metadata": {},
   "outputs": [],
   "source": []
  },
  {
   "cell_type": "code",
   "execution_count": 16,
   "metadata": {},
   "outputs": [
    {
     "data": {
      "text/plain": [
       "Netweight (kg)        87.138115\n",
       "Trade Value (US$)    100.000000\n",
       "dtype: float64"
      ]
     },
     "execution_count": 16,
     "metadata": {},
     "output_type": "execute_result"
    }
   ],
   "source": [
    "(1 - df[['Netweight (kg)','Trade Value (US$)']].isnull().sum()/df.shape[0])*100"
   ]
  },
  {
   "cell_type": "markdown",
   "metadata": {},
   "source": [
    "#### 8. Analice la columna Netweight. ¿Encuentra alguna inconsistencia?"
   ]
  },
  {
   "cell_type": "code",
   "execution_count": null,
   "metadata": {},
   "outputs": [],
   "source": []
  },
  {
   "cell_type": "code",
   "execution_count": null,
   "metadata": {},
   "outputs": [],
   "source": [
    "df['Netweight (kg)'].describe()"
   ]
  },
  {
   "cell_type": "markdown",
   "metadata": {},
   "source": [
    "#### 9. Calcule los límites inferiores y superiores de outlaiers de la columna Trade Value. ¿Qué cantidad posee dicha columna?"
   ]
  },
  {
   "cell_type": "code",
   "execution_count": null,
   "metadata": {},
   "outputs": [],
   "source": []
  },
  {
   "cell_type": "code",
   "execution_count": 18,
   "metadata": {},
   "outputs": [
    {
     "name": "stdout",
     "output_type": "stream",
     "text": [
      "IQR: 816586.75\n",
      "LSUP: 2047498.875\n",
      "LINF: -1218848.125\n",
      "Cant Outliers 5720\n"
     ]
    }
   ],
   "source": [
    "q1 = df['Trade Value (US$)'].quantile(.25)\n",
    "q3 = df['Trade Value (US$)'].quantile(.75)\n",
    "\n",
    "iqr = q3 - q1\n",
    "print('IQR:',iqr)\n",
    "\n",
    "lsup = q3 + 1.5*iqr\n",
    "print('LSUP:',lsup)\n",
    "\n",
    "linf = q1 - 1.5*iqr\n",
    "print('LINF:',linf)\n",
    "\n",
    "cant = df[df['Trade Value (US$)']>lsup]['Period'].count()\n",
    "print('Cant Outliers',cant)"
   ]
  },
  {
   "cell_type": "markdown",
   "metadata": {},
   "source": [
    "#### 10. Analice el registro que presenta el máximo valor de Trade Value. ¿A qué corresponde? ¿Podría ser considerado un error o un caso poco frecuente? Fundamente su respuesta"
   ]
  },
  {
   "cell_type": "code",
   "execution_count": null,
   "metadata": {},
   "outputs": [],
   "source": []
  },
  {
   "cell_type": "code",
   "execution_count": 20,
   "metadata": {},
   "outputs": [
    {
     "data": {
      "text/html": [
       "<div>\n",
       "<style scoped>\n",
       "    .dataframe tbody tr th:only-of-type {\n",
       "        vertical-align: middle;\n",
       "    }\n",
       "\n",
       "    .dataframe tbody tr th {\n",
       "        vertical-align: top;\n",
       "    }\n",
       "\n",
       "    .dataframe thead th {\n",
       "        text-align: right;\n",
       "    }\n",
       "</style>\n",
       "<table border=\"1\" class=\"dataframe\">\n",
       "  <thead>\n",
       "    <tr style=\"text-align: right;\">\n",
       "      <th></th>\n",
       "      <th>Period</th>\n",
       "      <th>Reporter</th>\n",
       "      <th>Commodity Code</th>\n",
       "      <th>Commodity</th>\n",
       "      <th>Partner</th>\n",
       "      <th>Mode of Transport</th>\n",
       "      <th>Trade Value (US$)</th>\n",
       "    </tr>\n",
       "  </thead>\n",
       "  <tbody>\n",
       "    <tr>\n",
       "      <th>25</th>\n",
       "      <td>2018</td>\n",
       "      <td>Chile</td>\n",
       "      <td>26</td>\n",
       "      <td>Ores, slag and ash</td>\n",
       "      <td>World</td>\n",
       "      <td>All MOTs</td>\n",
       "      <td>21210039528</td>\n",
       "    </tr>\n",
       "  </tbody>\n",
       "</table>\n",
       "</div>"
      ],
      "text/plain": [
       "    Period Reporter  Commodity Code           Commodity Partner  \\\n",
       "25    2018    Chile              26  Ores, slag and ash   World   \n",
       "\n",
       "   Mode of Transport  Trade Value (US$)  \n",
       "25          All MOTs        21210039528  "
      ]
     },
     "execution_count": 20,
     "metadata": {},
     "output_type": "execute_result"
    }
   ],
   "source": [
    "df[df['Trade Value (US$)']==df['Trade Value (US$)'].max()][['Period','Reporter','Commodity Code','Commodity','Partner','Mode of Transport','Trade Value (US$)']]"
   ]
  },
  {
   "cell_type": "markdown",
   "metadata": {},
   "source": [
    "#### 11. ¿Cuáles son los diferentes partners que Chile realiza sus exportaciones? ¿Qué le llama la atención del resultado?"
   ]
  },
  {
   "cell_type": "code",
   "execution_count": null,
   "metadata": {},
   "outputs": [],
   "source": []
  },
  {
   "cell_type": "code",
   "execution_count": 21,
   "metadata": {
    "scrolled": true
   },
   "outputs": [
    {
     "data": {
      "text/plain": [
       "array(['World', 'Algeria', 'Andorra', 'Angola', 'Antigua and Barbuda',\n",
       "       'Azerbaijan', 'Argentina', 'Australia', 'Austria', 'Bahamas',\n",
       "       'Bahrain', 'Bangladesh', 'Armenia', 'Barbados', 'Belgium',\n",
       "       'Bermuda', 'Bolivia (Plurinational State of)',\n",
       "       'Bosnia Herzegovina', 'Botswana', 'Brazil', 'Belize',\n",
       "       'Br. Virgin Isds', 'Brunei Darussalam', 'Bulgaria', 'Myanmar',\n",
       "       'Belarus', 'Cambodia', 'Cameroon', 'Canada', 'Cabo Verde',\n",
       "       'Cayman Isds', 'Sri Lanka', 'China', 'Colombia', 'Comoros',\n",
       "       'Congo', 'Dem. Rep. of the Congo', 'Cook Isds', 'Costa Rica',\n",
       "       'Croatia', 'Cuba', 'Cyprus', 'Czechia', 'Benin', 'Denmark',\n",
       "       'Dominica', 'Dominican Rep.', 'Ecuador', 'El Salvador',\n",
       "       'Equatorial Guinea', 'Ethiopia', 'Estonia', 'Fiji', 'Finland',\n",
       "       'France', 'French Polynesia', 'Fr. South Antarctic Terr.',\n",
       "       'Djibouti', 'Gabon', 'Georgia', 'Germany', 'Ghana', 'Kiribati',\n",
       "       'Greece', 'Grenada', 'Guam', 'Guatemala', 'Guinea', 'Guyana',\n",
       "       'Haiti', 'Honduras', 'China, Hong Kong SAR', 'Hungary', 'Iceland',\n",
       "       'Indonesia', 'Iran', 'Iraq', 'Ireland', 'Israel', 'Italy',\n",
       "       \"Côte d'Ivoire\", 'Jamaica', 'Japan', 'Kazakhstan', 'Jordan',\n",
       "       'Kenya', 'Rep. of Korea', 'Kuwait', 'Kyrgyzstan',\n",
       "       \"Lao People's Dem. Rep.\", 'Lebanon', 'Latvia', 'Liberia', 'Libya',\n",
       "       'Lithuania', 'Luxembourg', 'China, Macao SAR', 'Malaysia',\n",
       "       'Maldives', 'Mali', 'Malta', 'Mauritania', 'Mauritius', 'Mexico',\n",
       "       'Other Asia, nes', 'Mongolia', 'Rep. of Moldova', 'Morocco',\n",
       "       'Mozambique', 'Oman', 'Namibia', 'Nepal', 'Netherlands', 'Curaçao',\n",
       "       'Aruba', 'New Caledonia', 'New Zealand', 'Nicaragua', 'Nigeria',\n",
       "       'Norway', 'N. Mariana Isds', 'FS Micronesia', 'Pakistan', 'Panama',\n",
       "       'Papua New Guinea', 'Paraguay', 'Peru', 'Philippines', 'Poland',\n",
       "       'Portugal', 'Qatar', 'Romania', 'Russian Federation', 'Rwanda',\n",
       "       'Saint Kitts and Nevis', 'Anguilla', 'Saint Lucia',\n",
       "       'Saint Vincent and the Grenadines', 'San Marino', 'Saudi Arabia',\n",
       "       'Senegal', 'Seychelles', 'Sierra Leone', 'India', 'Singapore',\n",
       "       'Slovakia', 'Viet Nam', 'Slovenia', 'Somalia', 'South Africa',\n",
       "       'Spain', 'Suriname', 'Eswatini', 'Sweden', 'Switzerland', 'Syria',\n",
       "       'Thailand', 'Togo', 'Tonga', 'Trinidad and Tobago',\n",
       "       'United Arab Emirates', 'Tunisia', 'Turkey',\n",
       "       'Turks and Caicos Isds', 'Uganda', 'Ukraine', 'North Macedonia',\n",
       "       'Egypt', 'United Kingdom', 'United Rep. of Tanzania', 'USA',\n",
       "       'Burkina Faso', 'Uruguay', 'Uzbekistan', 'Venezuela', 'Samoa',\n",
       "       'Zambia', 'Areas, nes', 'Afghanistan', 'Central African Rep.',\n",
       "       'Chad', 'Gibraltar', 'Madagascar', 'Niger', 'Other Africa, nes',\n",
       "       'Tajikistan'], dtype=object)"
      ]
     },
     "execution_count": 21,
     "metadata": {},
     "output_type": "execute_result"
    }
   ],
   "source": [
    "df[df['Reporter']=='Chile']['Partner'].unique()"
   ]
  },
  {
   "cell_type": "markdown",
   "metadata": {},
   "source": [
    "#### Análisis del partner \"World\"\n",
    "\n",
    "Como se pudo apreciar, el partner \"World\" es un valor que requiere mayor atención. Vamos a crear una nueva columna en el dataframe donde señalaremos si correponde a un registro \"NotWorld:"
   ]
  },
  {
   "cell_type": "code",
   "execution_count": 22,
   "metadata": {},
   "outputs": [],
   "source": [
    "df['NotWorld'] = df['Partner'].apply(lambda x : x !='World')"
   ]
  },
  {
   "cell_type": "markdown",
   "metadata": {},
   "source": [
    "Ahora vamos a sumarizar los valores de registros World y NotWorld, lo haremos tomando como referencia el código de commodity 26"
   ]
  },
  {
   "cell_type": "code",
   "execution_count": 23,
   "metadata": {},
   "outputs": [
    {
     "data": {
      "text/html": [
       "<div>\n",
       "<style scoped>\n",
       "    .dataframe tbody tr th:only-of-type {\n",
       "        vertical-align: middle;\n",
       "    }\n",
       "\n",
       "    .dataframe tbody tr th {\n",
       "        vertical-align: top;\n",
       "    }\n",
       "\n",
       "    .dataframe thead th {\n",
       "        text-align: right;\n",
       "    }\n",
       "</style>\n",
       "<table border=\"1\" class=\"dataframe\">\n",
       "  <thead>\n",
       "    <tr style=\"text-align: right;\">\n",
       "      <th></th>\n",
       "      <th>Trade Value (US$)</th>\n",
       "      <th>FOB Trade Value (US$)</th>\n",
       "    </tr>\n",
       "    <tr>\n",
       "      <th>NotWorld</th>\n",
       "      <th></th>\n",
       "      <th></th>\n",
       "    </tr>\n",
       "  </thead>\n",
       "  <tbody>\n",
       "    <tr>\n",
       "      <th>False</th>\n",
       "      <td>111495065061</td>\n",
       "      <td>1.114951e+11</td>\n",
       "    </tr>\n",
       "    <tr>\n",
       "      <th>True</th>\n",
       "      <td>111495064956</td>\n",
       "      <td>1.114951e+11</td>\n",
       "    </tr>\n",
       "  </tbody>\n",
       "</table>\n",
       "</div>"
      ],
      "text/plain": [
       "          Trade Value (US$)  FOB Trade Value (US$)\n",
       "NotWorld                                          \n",
       "False          111495065061           1.114951e+11\n",
       "True           111495064956           1.114951e+11"
      ]
     },
     "execution_count": 23,
     "metadata": {},
     "output_type": "execute_result"
    }
   ],
   "source": [
    "df[df['Commodity Code']==26].groupby('NotWorld').sum()[['Trade Value (US$)','FOB Trade Value (US$)']]"
   ]
  },
  {
   "cell_type": "markdown",
   "metadata": {},
   "source": [
    "Como se puede apreciar, el registro World totaliza los registros de los demás países. En la siguiente tabla pivoteada se aprecia con mayor claridad."
   ]
  },
  {
   "cell_type": "code",
   "execution_count": 24,
   "metadata": {},
   "outputs": [
    {
     "data": {
      "text/html": [
       "<div>\n",
       "<style scoped>\n",
       "    .dataframe tbody tr th:only-of-type {\n",
       "        vertical-align: middle;\n",
       "    }\n",
       "\n",
       "    .dataframe tbody tr th {\n",
       "        vertical-align: top;\n",
       "    }\n",
       "\n",
       "    .dataframe thead th {\n",
       "        text-align: right;\n",
       "    }\n",
       "</style>\n",
       "<table border=\"1\" class=\"dataframe\">\n",
       "  <thead>\n",
       "    <tr style=\"text-align: right;\">\n",
       "      <th>NotWorld</th>\n",
       "      <th>False</th>\n",
       "      <th>True</th>\n",
       "      <th>All</th>\n",
       "    </tr>\n",
       "    <tr>\n",
       "      <th>Partner</th>\n",
       "      <th></th>\n",
       "      <th></th>\n",
       "      <th></th>\n",
       "    </tr>\n",
       "  </thead>\n",
       "  <tbody>\n",
       "    <tr>\n",
       "      <th>Algeria</th>\n",
       "      <td>NaN</td>\n",
       "      <td>3.388939e+07</td>\n",
       "      <td>33889390</td>\n",
       "    </tr>\n",
       "    <tr>\n",
       "      <th>Argentina</th>\n",
       "      <td>NaN</td>\n",
       "      <td>2.498466e+07</td>\n",
       "      <td>24984664</td>\n",
       "    </tr>\n",
       "    <tr>\n",
       "      <th>Aruba</th>\n",
       "      <td>NaN</td>\n",
       "      <td>1.206900e+04</td>\n",
       "      <td>12069</td>\n",
       "    </tr>\n",
       "    <tr>\n",
       "      <th>Australia</th>\n",
       "      <td>NaN</td>\n",
       "      <td>3.177558e+08</td>\n",
       "      <td>317755802</td>\n",
       "    </tr>\n",
       "    <tr>\n",
       "      <th>Austria</th>\n",
       "      <td>NaN</td>\n",
       "      <td>1.410000e+02</td>\n",
       "      <td>141</td>\n",
       "    </tr>\n",
       "    <tr>\n",
       "      <th>Bahrain</th>\n",
       "      <td>NaN</td>\n",
       "      <td>7.203845e+07</td>\n",
       "      <td>72038449</td>\n",
       "    </tr>\n",
       "    <tr>\n",
       "      <th>Belgium</th>\n",
       "      <td>NaN</td>\n",
       "      <td>9.718908e+08</td>\n",
       "      <td>971890842</td>\n",
       "    </tr>\n",
       "    <tr>\n",
       "      <th>Bolivia (Plurinational State of)</th>\n",
       "      <td>NaN</td>\n",
       "      <td>1.417090e+05</td>\n",
       "      <td>141709</td>\n",
       "    </tr>\n",
       "    <tr>\n",
       "      <th>Brazil</th>\n",
       "      <td>NaN</td>\n",
       "      <td>3.029797e+09</td>\n",
       "      <td>3029797286</td>\n",
       "    </tr>\n",
       "    <tr>\n",
       "      <th>Bulgaria</th>\n",
       "      <td>NaN</td>\n",
       "      <td>1.554337e+09</td>\n",
       "      <td>1554337081</td>\n",
       "    </tr>\n",
       "    <tr>\n",
       "      <th>Cambodia</th>\n",
       "      <td>NaN</td>\n",
       "      <td>1.421587e+07</td>\n",
       "      <td>14215873</td>\n",
       "    </tr>\n",
       "    <tr>\n",
       "      <th>Canada</th>\n",
       "      <td>NaN</td>\n",
       "      <td>9.879890e+08</td>\n",
       "      <td>987989047</td>\n",
       "    </tr>\n",
       "    <tr>\n",
       "      <th>Chile</th>\n",
       "      <td>NaN</td>\n",
       "      <td>9.246581e+08</td>\n",
       "      <td>924658116</td>\n",
       "    </tr>\n",
       "    <tr>\n",
       "      <th>China</th>\n",
       "      <td>NaN</td>\n",
       "      <td>6.246645e+10</td>\n",
       "      <td>62466454143</td>\n",
       "    </tr>\n",
       "    <tr>\n",
       "      <th>China, Hong Kong SAR</th>\n",
       "      <td>NaN</td>\n",
       "      <td>5.346339e+07</td>\n",
       "      <td>53463392</td>\n",
       "    </tr>\n",
       "    <tr>\n",
       "      <th>Colombia</th>\n",
       "      <td>NaN</td>\n",
       "      <td>3.682800e+04</td>\n",
       "      <td>36828</td>\n",
       "    </tr>\n",
       "    <tr>\n",
       "      <th>Dem. People's Rep. of Korea</th>\n",
       "      <td>NaN</td>\n",
       "      <td>6.430528e+06</td>\n",
       "      <td>6430528</td>\n",
       "    </tr>\n",
       "    <tr>\n",
       "      <th>Dominican Rep.</th>\n",
       "      <td>NaN</td>\n",
       "      <td>1.433200e+04</td>\n",
       "      <td>14332</td>\n",
       "    </tr>\n",
       "    <tr>\n",
       "      <th>Ecuador</th>\n",
       "      <td>NaN</td>\n",
       "      <td>3.750190e+05</td>\n",
       "      <td>375019</td>\n",
       "    </tr>\n",
       "    <tr>\n",
       "      <th>El Salvador</th>\n",
       "      <td>NaN</td>\n",
       "      <td>2.144900e+04</td>\n",
       "      <td>21449</td>\n",
       "    </tr>\n",
       "    <tr>\n",
       "      <th>Finland</th>\n",
       "      <td>NaN</td>\n",
       "      <td>5.471485e+08</td>\n",
       "      <td>547148509</td>\n",
       "    </tr>\n",
       "    <tr>\n",
       "      <th>France</th>\n",
       "      <td>NaN</td>\n",
       "      <td>2.656000e+03</td>\n",
       "      <td>2656</td>\n",
       "    </tr>\n",
       "    <tr>\n",
       "      <th>Georgia</th>\n",
       "      <td>NaN</td>\n",
       "      <td>2.916602e+08</td>\n",
       "      <td>291660206</td>\n",
       "    </tr>\n",
       "    <tr>\n",
       "      <th>Germany</th>\n",
       "      <td>NaN</td>\n",
       "      <td>3.001835e+09</td>\n",
       "      <td>3001835440</td>\n",
       "    </tr>\n",
       "    <tr>\n",
       "      <th>Greece</th>\n",
       "      <td>NaN</td>\n",
       "      <td>7.083940e+05</td>\n",
       "      <td>708394</td>\n",
       "    </tr>\n",
       "    <tr>\n",
       "      <th>Hungary</th>\n",
       "      <td>NaN</td>\n",
       "      <td>1.675999e+06</td>\n",
       "      <td>1675999</td>\n",
       "    </tr>\n",
       "    <tr>\n",
       "      <th>India</th>\n",
       "      <td>NaN</td>\n",
       "      <td>3.051014e+09</td>\n",
       "      <td>3051013739</td>\n",
       "    </tr>\n",
       "    <tr>\n",
       "      <th>Indonesia</th>\n",
       "      <td>NaN</td>\n",
       "      <td>2.920142e+07</td>\n",
       "      <td>29201420</td>\n",
       "    </tr>\n",
       "    <tr>\n",
       "      <th>Italy</th>\n",
       "      <td>NaN</td>\n",
       "      <td>1.648806e+08</td>\n",
       "      <td>164880579</td>\n",
       "    </tr>\n",
       "    <tr>\n",
       "      <th>Japan</th>\n",
       "      <td>NaN</td>\n",
       "      <td>1.382684e+10</td>\n",
       "      <td>13826839802</td>\n",
       "    </tr>\n",
       "    <tr>\n",
       "      <th>Luxembourg</th>\n",
       "      <td>NaN</td>\n",
       "      <td>1.050360e+05</td>\n",
       "      <td>105036</td>\n",
       "    </tr>\n",
       "    <tr>\n",
       "      <th>Malaysia</th>\n",
       "      <td>NaN</td>\n",
       "      <td>4.803084e+08</td>\n",
       "      <td>480308367</td>\n",
       "    </tr>\n",
       "    <tr>\n",
       "      <th>Mexico</th>\n",
       "      <td>NaN</td>\n",
       "      <td>5.888744e+08</td>\n",
       "      <td>588874414</td>\n",
       "    </tr>\n",
       "    <tr>\n",
       "      <th>Namibia</th>\n",
       "      <td>NaN</td>\n",
       "      <td>5.692704e+08</td>\n",
       "      <td>569270384</td>\n",
       "    </tr>\n",
       "    <tr>\n",
       "      <th>Netherlands</th>\n",
       "      <td>NaN</td>\n",
       "      <td>8.709755e+08</td>\n",
       "      <td>870975543</td>\n",
       "    </tr>\n",
       "    <tr>\n",
       "      <th>New Zealand</th>\n",
       "      <td>NaN</td>\n",
       "      <td>8.000000e+00</td>\n",
       "      <td>8</td>\n",
       "    </tr>\n",
       "    <tr>\n",
       "      <th>Oman</th>\n",
       "      <td>NaN</td>\n",
       "      <td>1.690940e+07</td>\n",
       "      <td>16909404</td>\n",
       "    </tr>\n",
       "    <tr>\n",
       "      <th>Other Asia, nes</th>\n",
       "      <td>NaN</td>\n",
       "      <td>4.549471e+08</td>\n",
       "      <td>454947118</td>\n",
       "    </tr>\n",
       "    <tr>\n",
       "      <th>Panama</th>\n",
       "      <td>NaN</td>\n",
       "      <td>3.648220e+05</td>\n",
       "      <td>364822</td>\n",
       "    </tr>\n",
       "    <tr>\n",
       "      <th>Peru</th>\n",
       "      <td>NaN</td>\n",
       "      <td>3.738998e+08</td>\n",
       "      <td>373899768</td>\n",
       "    </tr>\n",
       "    <tr>\n",
       "      <th>Philippines</th>\n",
       "      <td>NaN</td>\n",
       "      <td>9.139813e+08</td>\n",
       "      <td>913981299</td>\n",
       "    </tr>\n",
       "    <tr>\n",
       "      <th>Poland</th>\n",
       "      <td>NaN</td>\n",
       "      <td>9.758785e+07</td>\n",
       "      <td>97587854</td>\n",
       "    </tr>\n",
       "    <tr>\n",
       "      <th>Portugal</th>\n",
       "      <td>NaN</td>\n",
       "      <td>2.000000e+00</td>\n",
       "      <td>2</td>\n",
       "    </tr>\n",
       "    <tr>\n",
       "      <th>Rep. of Korea</th>\n",
       "      <td>NaN</td>\n",
       "      <td>9.860864e+09</td>\n",
       "      <td>9860863925</td>\n",
       "    </tr>\n",
       "    <tr>\n",
       "      <th>Russian Federation</th>\n",
       "      <td>NaN</td>\n",
       "      <td>4.393757e+08</td>\n",
       "      <td>439375669</td>\n",
       "    </tr>\n",
       "    <tr>\n",
       "      <th>South Africa</th>\n",
       "      <td>NaN</td>\n",
       "      <td>3.120157e+06</td>\n",
       "      <td>3120157</td>\n",
       "    </tr>\n",
       "    <tr>\n",
       "      <th>Spain</th>\n",
       "      <td>NaN</td>\n",
       "      <td>3.441985e+09</td>\n",
       "      <td>3441985131</td>\n",
       "    </tr>\n",
       "    <tr>\n",
       "      <th>Sweden</th>\n",
       "      <td>NaN</td>\n",
       "      <td>1.454742e+08</td>\n",
       "      <td>145474152</td>\n",
       "    </tr>\n",
       "    <tr>\n",
       "      <th>Switzerland</th>\n",
       "      <td>NaN</td>\n",
       "      <td>1.941276e+07</td>\n",
       "      <td>19412759</td>\n",
       "    </tr>\n",
       "    <tr>\n",
       "      <th>Thailand</th>\n",
       "      <td>NaN</td>\n",
       "      <td>1.095097e+08</td>\n",
       "      <td>109509718</td>\n",
       "    </tr>\n",
       "    <tr>\n",
       "      <th>Turkey</th>\n",
       "      <td>NaN</td>\n",
       "      <td>6.763152e+07</td>\n",
       "      <td>67631520</td>\n",
       "    </tr>\n",
       "    <tr>\n",
       "      <th>USA</th>\n",
       "      <td>NaN</td>\n",
       "      <td>1.533541e+09</td>\n",
       "      <td>1533540983</td>\n",
       "    </tr>\n",
       "    <tr>\n",
       "      <th>United Kingdom</th>\n",
       "      <td>NaN</td>\n",
       "      <td>4.651684e+07</td>\n",
       "      <td>46516841</td>\n",
       "    </tr>\n",
       "    <tr>\n",
       "      <th>Uruguay</th>\n",
       "      <td>NaN</td>\n",
       "      <td>6.400000e+03</td>\n",
       "      <td>6400</td>\n",
       "    </tr>\n",
       "    <tr>\n",
       "      <th>Viet Nam</th>\n",
       "      <td>NaN</td>\n",
       "      <td>8.693078e+07</td>\n",
       "      <td>86930778</td>\n",
       "    </tr>\n",
       "    <tr>\n",
       "      <th>World</th>\n",
       "      <td>1.114951e+11</td>\n",
       "      <td>NaN</td>\n",
       "      <td>111495065061</td>\n",
       "    </tr>\n",
       "    <tr>\n",
       "      <th>All</th>\n",
       "      <td>1.114951e+11</td>\n",
       "      <td>1.114951e+11</td>\n",
       "      <td>222990130017</td>\n",
       "    </tr>\n",
       "  </tbody>\n",
       "</table>\n",
       "</div>"
      ],
      "text/plain": [
       "NotWorld                                 False          True           All\n",
       "Partner                                                                   \n",
       "Algeria                                    NaN  3.388939e+07      33889390\n",
       "Argentina                                  NaN  2.498466e+07      24984664\n",
       "Aruba                                      NaN  1.206900e+04         12069\n",
       "Australia                                  NaN  3.177558e+08     317755802\n",
       "Austria                                    NaN  1.410000e+02           141\n",
       "Bahrain                                    NaN  7.203845e+07      72038449\n",
       "Belgium                                    NaN  9.718908e+08     971890842\n",
       "Bolivia (Plurinational State of)           NaN  1.417090e+05        141709\n",
       "Brazil                                     NaN  3.029797e+09    3029797286\n",
       "Bulgaria                                   NaN  1.554337e+09    1554337081\n",
       "Cambodia                                   NaN  1.421587e+07      14215873\n",
       "Canada                                     NaN  9.879890e+08     987989047\n",
       "Chile                                      NaN  9.246581e+08     924658116\n",
       "China                                      NaN  6.246645e+10   62466454143\n",
       "China, Hong Kong SAR                       NaN  5.346339e+07      53463392\n",
       "Colombia                                   NaN  3.682800e+04         36828\n",
       "Dem. People's Rep. of Korea                NaN  6.430528e+06       6430528\n",
       "Dominican Rep.                             NaN  1.433200e+04         14332\n",
       "Ecuador                                    NaN  3.750190e+05        375019\n",
       "El Salvador                                NaN  2.144900e+04         21449\n",
       "Finland                                    NaN  5.471485e+08     547148509\n",
       "France                                     NaN  2.656000e+03          2656\n",
       "Georgia                                    NaN  2.916602e+08     291660206\n",
       "Germany                                    NaN  3.001835e+09    3001835440\n",
       "Greece                                     NaN  7.083940e+05        708394\n",
       "Hungary                                    NaN  1.675999e+06       1675999\n",
       "India                                      NaN  3.051014e+09    3051013739\n",
       "Indonesia                                  NaN  2.920142e+07      29201420\n",
       "Italy                                      NaN  1.648806e+08     164880579\n",
       "Japan                                      NaN  1.382684e+10   13826839802\n",
       "Luxembourg                                 NaN  1.050360e+05        105036\n",
       "Malaysia                                   NaN  4.803084e+08     480308367\n",
       "Mexico                                     NaN  5.888744e+08     588874414\n",
       "Namibia                                    NaN  5.692704e+08     569270384\n",
       "Netherlands                                NaN  8.709755e+08     870975543\n",
       "New Zealand                                NaN  8.000000e+00             8\n",
       "Oman                                       NaN  1.690940e+07      16909404\n",
       "Other Asia, nes                            NaN  4.549471e+08     454947118\n",
       "Panama                                     NaN  3.648220e+05        364822\n",
       "Peru                                       NaN  3.738998e+08     373899768\n",
       "Philippines                                NaN  9.139813e+08     913981299\n",
       "Poland                                     NaN  9.758785e+07      97587854\n",
       "Portugal                                   NaN  2.000000e+00             2\n",
       "Rep. of Korea                              NaN  9.860864e+09    9860863925\n",
       "Russian Federation                         NaN  4.393757e+08     439375669\n",
       "South Africa                               NaN  3.120157e+06       3120157\n",
       "Spain                                      NaN  3.441985e+09    3441985131\n",
       "Sweden                                     NaN  1.454742e+08     145474152\n",
       "Switzerland                                NaN  1.941276e+07      19412759\n",
       "Thailand                                   NaN  1.095097e+08     109509718\n",
       "Turkey                                     NaN  6.763152e+07      67631520\n",
       "USA                                        NaN  1.533541e+09    1533540983\n",
       "United Kingdom                             NaN  4.651684e+07      46516841\n",
       "Uruguay                                    NaN  6.400000e+03          6400\n",
       "Viet Nam                                   NaN  8.693078e+07      86930778\n",
       "World                             1.114951e+11           NaN  111495065061\n",
       "All                               1.114951e+11  1.114951e+11  222990130017"
      ]
     },
     "execution_count": 24,
     "metadata": {},
     "output_type": "execute_result"
    }
   ],
   "source": [
    "df[df['Commodity Code']==26].pivot_table(index='Partner', columns='NotWorld', \n",
    "                                         values='Trade Value (US$)', aggfunc='sum', \n",
    "                                                                        margins=True)"
   ]
  },
  {
   "cell_type": "markdown",
   "metadata": {},
   "source": [
    "#### 12. Elimire los registros con partner World"
   ]
  },
  {
   "cell_type": "code",
   "execution_count": null,
   "metadata": {},
   "outputs": [],
   "source": []
  },
  {
   "cell_type": "code",
   "execution_count": 25,
   "metadata": {},
   "outputs": [],
   "source": [
    "df.drop(df[df['Partner']=='World'].index, axis=0, inplace=True)"
   ]
  },
  {
   "cell_type": "markdown",
   "metadata": {},
   "source": [
    "#### 13. Vuelva a desplegar el registro con el mayor valor de Trade Value. ¿Qué diferencia se aprecia? ¿A quién le realiza la mayor exportación de ese commodity?"
   ]
  },
  {
   "cell_type": "code",
   "execution_count": null,
   "metadata": {},
   "outputs": [],
   "source": []
  },
  {
   "cell_type": "code",
   "execution_count": 27,
   "metadata": {
    "scrolled": false
   },
   "outputs": [
    {
     "data": {
      "text/html": [
       "<div>\n",
       "<style scoped>\n",
       "    .dataframe tbody tr th:only-of-type {\n",
       "        vertical-align: middle;\n",
       "    }\n",
       "\n",
       "    .dataframe tbody tr th {\n",
       "        vertical-align: top;\n",
       "    }\n",
       "\n",
       "    .dataframe thead th {\n",
       "        text-align: right;\n",
       "    }\n",
       "</style>\n",
       "<table border=\"1\" class=\"dataframe\">\n",
       "  <thead>\n",
       "    <tr style=\"text-align: right;\">\n",
       "      <th></th>\n",
       "      <th>Period</th>\n",
       "      <th>Reporter</th>\n",
       "      <th>Commodity Code</th>\n",
       "      <th>Commodity</th>\n",
       "      <th>Partner</th>\n",
       "      <th>Mode of Transport</th>\n",
       "      <th>Trade Value (US$)</th>\n",
       "    </tr>\n",
       "  </thead>\n",
       "  <tbody>\n",
       "    <tr>\n",
       "      <th>743</th>\n",
       "      <td>2018</td>\n",
       "      <td>Chile</td>\n",
       "      <td>26</td>\n",
       "      <td>Ores, slag and ash</td>\n",
       "      <td>China</td>\n",
       "      <td>All MOTs</td>\n",
       "      <td>10678481900</td>\n",
       "    </tr>\n",
       "  </tbody>\n",
       "</table>\n",
       "</div>"
      ],
      "text/plain": [
       "     Period Reporter  Commodity Code           Commodity Partner  \\\n",
       "743    2018    Chile              26  Ores, slag and ash   China   \n",
       "\n",
       "    Mode of Transport  Trade Value (US$)  \n",
       "743          All MOTs        10678481900  "
      ]
     },
     "execution_count": 27,
     "metadata": {},
     "output_type": "execute_result"
    }
   ],
   "source": [
    "df[df['Trade Value (US$)']==df['Trade Value (US$)'].max()][['Period','Reporter','Commodity Code','Commodity','Partner','Mode of Transport','Trade Value (US$)']]"
   ]
  },
  {
   "cell_type": "markdown",
   "metadata": {},
   "source": [
    "#### Análisis columna Mode of Transport\n",
    "Ahora encontramos que la columna Mode of Transport tiene el valor All MOTs, es posible que suceda lo mismo que con partner World. Antes de eliminar la columna, verificaremos si tanto Chile como Perú reportan sus exportaciones indicando el medio de transporte."
   ]
  },
  {
   "cell_type": "code",
   "execution_count": 28,
   "metadata": {
    "scrolled": true
   },
   "outputs": [
    {
     "data": {
      "text/html": [
       "<div>\n",
       "<style scoped>\n",
       "    .dataframe tbody tr th:only-of-type {\n",
       "        vertical-align: middle;\n",
       "    }\n",
       "\n",
       "    .dataframe tbody tr th {\n",
       "        vertical-align: top;\n",
       "    }\n",
       "\n",
       "    .dataframe thead th {\n",
       "        text-align: right;\n",
       "    }\n",
       "</style>\n",
       "<table border=\"1\" class=\"dataframe\">\n",
       "  <thead>\n",
       "    <tr style=\"text-align: right;\">\n",
       "      <th></th>\n",
       "      <th>NotAllMOTs</th>\n",
       "      <th>True</th>\n",
       "      <th>All</th>\n",
       "    </tr>\n",
       "    <tr>\n",
       "      <th>Reporter</th>\n",
       "      <th>Mode of Transport</th>\n",
       "      <th></th>\n",
       "      <th></th>\n",
       "    </tr>\n",
       "  </thead>\n",
       "  <tbody>\n",
       "    <tr>\n",
       "      <th>Chile</th>\n",
       "      <th>All MOTs</th>\n",
       "      <td>2101889437</td>\n",
       "      <td>2101889437</td>\n",
       "    </tr>\n",
       "    <tr>\n",
       "      <th rowspan=\"3\" valign=\"top\">Peru</th>\n",
       "      <th>Air</th>\n",
       "      <td>193991</td>\n",
       "      <td>193991</td>\n",
       "    </tr>\n",
       "    <tr>\n",
       "      <th>All MOTs</th>\n",
       "      <td>9595133</td>\n",
       "      <td>9595133</td>\n",
       "    </tr>\n",
       "    <tr>\n",
       "      <th>Sea</th>\n",
       "      <td>9401142</td>\n",
       "      <td>9401142</td>\n",
       "    </tr>\n",
       "    <tr>\n",
       "      <th>All</th>\n",
       "      <th></th>\n",
       "      <td>2121079703</td>\n",
       "      <td>2121079703</td>\n",
       "    </tr>\n",
       "  </tbody>\n",
       "</table>\n",
       "</div>"
      ],
      "text/plain": [
       "NotAllMOTs                        True         All\n",
       "Reporter Mode of Transport                        \n",
       "Chile    All MOTs           2101889437  2101889437\n",
       "Peru     Air                    193991      193991\n",
       "         All MOTs              9595133     9595133\n",
       "         Sea                   9401142     9401142\n",
       "All                         2121079703  2121079703"
      ]
     },
     "execution_count": 28,
     "metadata": {},
     "output_type": "execute_result"
    }
   ],
   "source": [
    "df['NotAllMOTs'] = df['Partner'].apply(lambda x : x !='All MOTs')\n",
    "\n",
    "# tomamos como ejemplo los commodities de Animales y carne (commodity code = 2)\n",
    "df[df['Commodity Code']==2].pivot_table(index=['Reporter','Mode of Transport'], \n",
    "                                        columns='NotAllMOTs', \n",
    "                                        values='Trade Value (US$)', \n",
    "                                        aggfunc='sum', margins=True)\n"
   ]
  },
  {
   "cell_type": "markdown",
   "metadata": {},
   "source": [
    "En este caso, se aprecia que Chile no reporta sus exportaciones desglosando el medio de transporte pero Perú sí lo hace. Si hubiéramos eliminado todos los registros de All MOTs, habríamos borrado los datos de Chile..."
   ]
  },
  {
   "cell_type": "markdown",
   "metadata": {},
   "source": [
    "#### 15. Elimine los registros All MOTs solamente para el caso de Perú"
   ]
  },
  {
   "cell_type": "code",
   "execution_count": null,
   "metadata": {},
   "outputs": [],
   "source": []
  },
  {
   "cell_type": "code",
   "execution_count": 29,
   "metadata": {},
   "outputs": [],
   "source": [
    "df.drop(df[(df['Mode of Transport']=='All MOTs')&(df['Reporter']=='Peru')].index, axis=0, inplace=True)"
   ]
  },
  {
   "cell_type": "markdown",
   "metadata": {},
   "source": [
    "#### 16. Vuelva a desplegar el registro que presenta el máximo valor de Trade Value. ¿Quién es el principal partner de exportación de Chile, qué commodity se exporta y cuál es el medio de transporte?"
   ]
  },
  {
   "cell_type": "code",
   "execution_count": null,
   "metadata": {},
   "outputs": [],
   "source": []
  },
  {
   "cell_type": "code",
   "execution_count": 31,
   "metadata": {},
   "outputs": [
    {
     "data": {
      "text/html": [
       "<div>\n",
       "<style scoped>\n",
       "    .dataframe tbody tr th:only-of-type {\n",
       "        vertical-align: middle;\n",
       "    }\n",
       "\n",
       "    .dataframe tbody tr th {\n",
       "        vertical-align: top;\n",
       "    }\n",
       "\n",
       "    .dataframe thead th {\n",
       "        text-align: right;\n",
       "    }\n",
       "</style>\n",
       "<table border=\"1\" class=\"dataframe\">\n",
       "  <thead>\n",
       "    <tr style=\"text-align: right;\">\n",
       "      <th></th>\n",
       "      <th>Period</th>\n",
       "      <th>Reporter</th>\n",
       "      <th>Commodity Code</th>\n",
       "      <th>Commodity</th>\n",
       "      <th>Partner</th>\n",
       "      <th>Mode of Transport</th>\n",
       "      <th>Trade Value (US$)</th>\n",
       "    </tr>\n",
       "  </thead>\n",
       "  <tbody>\n",
       "    <tr>\n",
       "      <th>743</th>\n",
       "      <td>2018</td>\n",
       "      <td>Chile</td>\n",
       "      <td>26</td>\n",
       "      <td>Ores, slag and ash</td>\n",
       "      <td>China</td>\n",
       "      <td>All MOTs</td>\n",
       "      <td>10678481900</td>\n",
       "    </tr>\n",
       "  </tbody>\n",
       "</table>\n",
       "</div>"
      ],
      "text/plain": [
       "     Period Reporter  Commodity Code           Commodity Partner  \\\n",
       "743    2018    Chile              26  Ores, slag and ash   China   \n",
       "\n",
       "    Mode of Transport  Trade Value (US$)  \n",
       "743          All MOTs        10678481900  "
      ]
     },
     "execution_count": 31,
     "metadata": {},
     "output_type": "execute_result"
    }
   ],
   "source": [
    "df2 = df[df['Reporter']=='Chile']\n",
    "df2[df2['Trade Value (US$)']==df2['Trade Value (US$)'].max()][['Period','Reporter','Commodity Code','Commodity','Partner','Mode of Transport','Trade Value (US$)']]"
   ]
  },
  {
   "cell_type": "markdown",
   "metadata": {},
   "source": [
    "#### 17. ¿Quién es el principal partner de exportaciones de Perú, qué commodity es y cuál es el medio de transporte?"
   ]
  },
  {
   "cell_type": "code",
   "execution_count": null,
   "metadata": {},
   "outputs": [],
   "source": []
  },
  {
   "cell_type": "code",
   "execution_count": 32,
   "metadata": {
    "scrolled": true
   },
   "outputs": [
    {
     "data": {
      "text/html": [
       "<div>\n",
       "<style scoped>\n",
       "    .dataframe tbody tr th:only-of-type {\n",
       "        vertical-align: middle;\n",
       "    }\n",
       "\n",
       "    .dataframe tbody tr th {\n",
       "        vertical-align: top;\n",
       "    }\n",
       "\n",
       "    .dataframe thead th {\n",
       "        text-align: right;\n",
       "    }\n",
       "</style>\n",
       "<table border=\"1\" class=\"dataframe\">\n",
       "  <thead>\n",
       "    <tr style=\"text-align: right;\">\n",
       "      <th></th>\n",
       "      <th>Period</th>\n",
       "      <th>Reporter</th>\n",
       "      <th>Commodity Code</th>\n",
       "      <th>Commodity</th>\n",
       "      <th>Partner</th>\n",
       "      <th>Mode of Transport</th>\n",
       "      <th>Trade Value (US$)</th>\n",
       "    </tr>\n",
       "  </thead>\n",
       "  <tbody>\n",
       "    <tr>\n",
       "      <th>23004</th>\n",
       "      <td>2019</td>\n",
       "      <td>Peru</td>\n",
       "      <td>26</td>\n",
       "      <td>Ores, slag and ash</td>\n",
       "      <td>China</td>\n",
       "      <td>Sea</td>\n",
       "      <td>10618326550</td>\n",
       "    </tr>\n",
       "  </tbody>\n",
       "</table>\n",
       "</div>"
      ],
      "text/plain": [
       "       Period Reporter  Commodity Code           Commodity Partner  \\\n",
       "23004    2019     Peru              26  Ores, slag and ash   China   \n",
       "\n",
       "      Mode of Transport  Trade Value (US$)  \n",
       "23004               Sea        10618326550  "
      ]
     },
     "execution_count": 32,
     "metadata": {},
     "output_type": "execute_result"
    }
   ],
   "source": [
    "df2 = df[df['Reporter']=='Peru']\n",
    "df2[df2['Trade Value (US$)']==df2['Trade Value (US$)'].max()][['Period','Reporter','Commodity Code','Commodity','Partner','Mode of Transport','Trade Value (US$)']]"
   ]
  },
  {
   "cell_type": "markdown",
   "metadata": {},
   "source": [
    "#### 18. Cree una columna adicional (Is Leather), booleana, con valor True si el commodity importado está relacionado con cuero (Leather). Posteriormente, contabilice cuántos registros tienen esta marca en True"
   ]
  },
  {
   "cell_type": "code",
   "execution_count": null,
   "metadata": {},
   "outputs": [],
   "source": []
  },
  {
   "cell_type": "code",
   "execution_count": 33,
   "metadata": {},
   "outputs": [
    {
     "data": {
      "text/plain": [
       "395"
      ]
     },
     "execution_count": 33,
     "metadata": {},
     "output_type": "execute_result"
    }
   ],
   "source": [
    "df['isLeather'] = df['Commodity'].apply(lambda x : 'leather' in x.lower())\n",
    "df['isLeather'].sum()"
   ]
  },
  {
   "cell_type": "markdown",
   "metadata": {},
   "source": [
    "#### 19. ¿Cuánto es el valor de las exportaciones de cuero de Chile el año 2019?"
   ]
  },
  {
   "cell_type": "code",
   "execution_count": null,
   "metadata": {},
   "outputs": [],
   "source": []
  },
  {
   "cell_type": "code",
   "execution_count": 34,
   "metadata": {},
   "outputs": [
    {
     "data": {
      "text/plain": [
       "48934992"
      ]
     },
     "execution_count": 34,
     "metadata": {},
     "output_type": "execute_result"
    }
   ],
   "source": [
    "df[(df['isLeather']==True)&(df['Reporter']=='Chile')&(df['Year']==2019)]['Trade Value (US$)'].sum()"
   ]
  },
  {
   "cell_type": "markdown",
   "metadata": {},
   "source": [
    "## Buen trabajo!!"
   ]
  },
  {
   "cell_type": "markdown",
   "metadata": {},
   "source": [
    "---"
   ]
  }
 ],
 "metadata": {
  "kernelspec": {
   "display_name": "Python 3 (ipykernel)",
   "language": "python",
   "name": "python3"
  },
  "language_info": {
   "codemirror_mode": {
    "name": "ipython",
    "version": 3
   },
   "file_extension": ".py",
   "mimetype": "text/x-python",
   "name": "python",
   "nbconvert_exporter": "python",
   "pygments_lexer": "ipython3",
   "version": "3.10.9"
  }
 },
 "nbformat": 4,
 "nbformat_minor": 4
}
