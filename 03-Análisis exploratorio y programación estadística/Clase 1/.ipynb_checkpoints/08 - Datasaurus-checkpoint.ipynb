{
 "cells": [
  {
   "cell_type": "markdown",
   "id": "6666bb74",
   "metadata": {},
   "source": [
    "---\n",
    "# Datasaurus\n",
    "\n",
    "En el siguiente dataset, haremos un análisis forense de este misterioso set de datos para descubrir insights, utilizando técnicas de análisis exploratorio."
   ]
  },
  {
   "cell_type": "code",
   "execution_count": 2,
   "id": "c574c121",
   "metadata": {},
   "outputs": [],
   "source": [
    "import pandas as pd"
   ]
  },
  {
   "cell_type": "code",
   "execution_count": 3,
   "id": "26fb7f92",
   "metadata": {},
   "outputs": [],
   "source": [
    "df = pd.read_csv('DatasaurusDozen.tsv', sep='\\t')"
   ]
  },
  {
   "cell_type": "code",
   "execution_count": 4,
   "id": "8be4b1ec",
   "metadata": {},
   "outputs": [
    {
     "data": {
      "text/html": [
       "<div>\n",
       "<style scoped>\n",
       "    .dataframe tbody tr th:only-of-type {\n",
       "        vertical-align: middle;\n",
       "    }\n",
       "\n",
       "    .dataframe tbody tr th {\n",
       "        vertical-align: top;\n",
       "    }\n",
       "\n",
       "    .dataframe thead th {\n",
       "        text-align: right;\n",
       "    }\n",
       "</style>\n",
       "<table border=\"1\" class=\"dataframe\">\n",
       "  <thead>\n",
       "    <tr style=\"text-align: right;\">\n",
       "      <th></th>\n",
       "      <th>dataset</th>\n",
       "      <th>x</th>\n",
       "      <th>y</th>\n",
       "    </tr>\n",
       "  </thead>\n",
       "  <tbody>\n",
       "    <tr>\n",
       "      <th>0</th>\n",
       "      <td>dino</td>\n",
       "      <td>55.3846</td>\n",
       "      <td>97.1795</td>\n",
       "    </tr>\n",
       "    <tr>\n",
       "      <th>1</th>\n",
       "      <td>dino</td>\n",
       "      <td>51.5385</td>\n",
       "      <td>96.0256</td>\n",
       "    </tr>\n",
       "  </tbody>\n",
       "</table>\n",
       "</div>"
      ],
      "text/plain": [
       "  dataset        x        y\n",
       "0    dino  55.3846  97.1795\n",
       "1    dino  51.5385  96.0256"
      ]
     },
     "execution_count": 4,
     "metadata": {},
     "output_type": "execute_result"
    }
   ],
   "source": [
    "df.head(2)"
   ]
  },
  {
   "cell_type": "markdown",
   "id": "591c0cdf",
   "metadata": {},
   "source": [
    "### Análisis Exploratorio Inicial\n",
    "\n",
    "Realice un análisis exploratorio inicial en donde pueda determinar:\n",
    "\n",
    "- Estructura del dataframe\n",
    "- Cantidad de datos\n",
    "- Valores nulos\n",
    "- Valores duplicados\n",
    "- Outlaiers"
   ]
  },
  {
   "cell_type": "markdown",
   "id": "96b04674",
   "metadata": {},
   "source": [
    "#### Estructura del dataframe\n"
   ]
  },
  {
   "cell_type": "code",
   "execution_count": 9,
   "id": "2fc791ce",
   "metadata": {},
   "outputs": [
    {
     "name": "stdout",
     "output_type": "stream",
     "text": [
      "<class 'pandas.core.frame.DataFrame'>\n",
      "RangeIndex: 1846 entries, 0 to 1845\n",
      "Data columns (total 3 columns):\n",
      " #   Column   Non-Null Count  Dtype  \n",
      "---  ------   --------------  -----  \n",
      " 0   dataset  1846 non-null   object \n",
      " 1   x        1846 non-null   float64\n",
      " 2   y        1846 non-null   float64\n",
      "dtypes: float64(2), object(1)\n",
      "memory usage: 43.4+ KB\n"
     ]
    }
   ],
   "source": [
    "df.info()"
   ]
  },
  {
   "cell_type": "markdown",
   "id": "0f1519e4",
   "metadata": {},
   "source": [
    "#### Cantidad de datos"
   ]
  },
  {
   "cell_type": "code",
   "execution_count": 8,
   "id": "ddcd3b14",
   "metadata": {},
   "outputs": [
    {
     "data": {
      "text/plain": [
       "1846"
      ]
     },
     "execution_count": 8,
     "metadata": {},
     "output_type": "execute_result"
    }
   ],
   "source": [
    "df.shape[0]"
   ]
  },
  {
   "cell_type": "markdown",
   "id": "b212d671",
   "metadata": {},
   "source": [
    "#### Valores Nulos"
   ]
  },
  {
   "cell_type": "code",
   "execution_count": 10,
   "id": "e441cadf",
   "metadata": {},
   "outputs": [
    {
     "data": {
      "text/plain": [
       "dataset    0\n",
       "x          0\n",
       "y          0\n",
       "dtype: int64"
      ]
     },
     "execution_count": 10,
     "metadata": {},
     "output_type": "execute_result"
    }
   ],
   "source": [
    "df.isnull().sum()"
   ]
  },
  {
   "cell_type": "markdown",
   "id": "2a933318",
   "metadata": {},
   "source": [
    "#### Valores Duplicados"
   ]
  },
  {
   "cell_type": "code",
   "execution_count": 18,
   "id": "fcab55d1",
   "metadata": {},
   "outputs": [
    {
     "data": {
      "text/plain": [
       "0"
      ]
     },
     "execution_count": 18,
     "metadata": {},
     "output_type": "execute_result"
    }
   ],
   "source": [
    "df.duplicated().sum()"
   ]
  },
  {
   "cell_type": "markdown",
   "id": "b95bc0ad",
   "metadata": {},
   "source": [
    "#### Outlaiers X"
   ]
  },
  {
   "cell_type": "code",
   "execution_count": 63,
   "id": "31661a3a",
   "metadata": {},
   "outputs": [
    {
     "name": "stdout",
     "output_type": "stream",
     "text": [
      "LINF 15.5607495229\n",
      "LSUP 98.2881232748\n"
     ]
    }
   ],
   "source": [
    "q1 = df['x'].quantile(q=.25)\n",
    "q3 = df['x'].quantile(q=.75)\n",
    "\n",
    "# rango intercuartil\n",
    "iqr = q3 - q1\n",
    "\n",
    "linf = max(q1 - 1.5*iqr, min(df['x']))\n",
    "lsup = min(q3 + 1.5*iqr, max(df['x']))\n",
    "\n",
    "print('LINF', linf)\n",
    "print('LSUP', lsup)"
   ]
  },
  {
   "cell_type": "markdown",
   "id": "7bbd8e69",
   "metadata": {},
   "source": [
    "#### Outlaiers Y"
   ]
  },
  {
   "cell_type": "code",
   "execution_count": 64,
   "id": "5b20a3d6",
   "metadata": {},
   "outputs": [
    {
     "name": "stdout",
     "output_type": "stream",
     "text": [
      "LINF 0.0151193251552\n",
      "LSUP 99.6946801425\n"
     ]
    }
   ],
   "source": [
    "q1 = df['y'].quantile(q=.25)\n",
    "q3 = df['y'].quantile(q=.75)\n",
    "\n",
    "# rango intercuartil\n",
    "iqr = q3 - q1\n",
    "\n",
    "linf = max(q1 - 1.5*iqr, min(df['y']))\n",
    "lsup = min(q3 + 1.5*iqr, max(df['y']))\n",
    "\n",
    "print('LINF', linf)\n",
    "print('LSUP', lsup)"
   ]
  },
  {
   "cell_type": "markdown",
   "id": "2c843c46",
   "metadata": {},
   "source": [
    "### Análisis Exploratorio de Datos"
   ]
  },
  {
   "cell_type": "code",
   "execution_count": 19,
   "id": "dbf1f932",
   "metadata": {},
   "outputs": [
    {
     "data": {
      "text/plain": [
       "array(['dino', 'away', 'h_lines', 'v_lines', 'x_shape', 'star',\n",
       "       'high_lines', 'dots', 'circle', 'bullseye', 'slant_up',\n",
       "       'slant_down', 'wide_lines'], dtype=object)"
      ]
     },
     "execution_count": 19,
     "metadata": {},
     "output_type": "execute_result"
    }
   ],
   "source": [
    "# En el set de datos vienen distintas clases de datasets, \n",
    "# estas se encuentran en la columna \"dataset\"\n",
    "# una forma sencilla de conocer los distintos valores que vienen,\n",
    "# es la siguiente\n",
    "\n",
    "df['dataset'].unique()\n"
   ]
  },
  {
   "cell_type": "code",
   "execution_count": 21,
   "id": "6f5030ae",
   "metadata": {},
   "outputs": [],
   "source": [
    "# En este primer análisis, trabajaremos con el dataset slant_down\n",
    "df_slant = df[df['dataset']=='slant_down']"
   ]
  },
  {
   "cell_type": "code",
   "execution_count": 22,
   "id": "87230764",
   "metadata": {},
   "outputs": [
    {
     "data": {
      "text/plain": [
       "(142, 3)"
      ]
     },
     "execution_count": 22,
     "metadata": {},
     "output_type": "execute_result"
    }
   ],
   "source": [
    "df_slant.shape"
   ]
  },
  {
   "cell_type": "code",
   "execution_count": null,
   "id": "498d3180",
   "metadata": {},
   "outputs": [],
   "source": []
  },
  {
   "cell_type": "code",
   "execution_count": null,
   "id": "8dade52a",
   "metadata": {},
   "outputs": [],
   "source": []
  },
  {
   "cell_type": "markdown",
   "id": "04288d1e",
   "metadata": {},
   "source": [
    "### Análisis Dataset slant_down\n",
    "\n",
    "Realice los siguientes cálculos:\n",
    "* media de x\n",
    "* media de y\n",
    "* desviación estándar de x\n",
    "* desviación estándar de y\n",
    "* correlación de xy"
   ]
  },
  {
   "cell_type": "code",
   "execution_count": 26,
   "id": "5a71970a",
   "metadata": {},
   "outputs": [
    {
     "data": {
      "text/html": [
       "<div>\n",
       "<style scoped>\n",
       "    .dataframe tbody tr th:only-of-type {\n",
       "        vertical-align: middle;\n",
       "    }\n",
       "\n",
       "    .dataframe tbody tr th {\n",
       "        vertical-align: top;\n",
       "    }\n",
       "\n",
       "    .dataframe thead th {\n",
       "        text-align: right;\n",
       "    }\n",
       "</style>\n",
       "<table border=\"1\" class=\"dataframe\">\n",
       "  <thead>\n",
       "    <tr style=\"text-align: right;\">\n",
       "      <th></th>\n",
       "      <th>dataset</th>\n",
       "      <th>x</th>\n",
       "      <th>y</th>\n",
       "    </tr>\n",
       "  </thead>\n",
       "  <tbody>\n",
       "    <tr>\n",
       "      <th>1562</th>\n",
       "      <td>slant_down</td>\n",
       "      <td>52.872021</td>\n",
       "      <td>97.343223</td>\n",
       "    </tr>\n",
       "    <tr>\n",
       "      <th>1563</th>\n",
       "      <td>slant_down</td>\n",
       "      <td>59.014144</td>\n",
       "      <td>93.574875</td>\n",
       "    </tr>\n",
       "    <tr>\n",
       "      <th>1564</th>\n",
       "      <td>slant_down</td>\n",
       "      <td>56.375109</td>\n",
       "      <td>96.305148</td>\n",
       "    </tr>\n",
       "    <tr>\n",
       "      <th>1565</th>\n",
       "      <td>slant_down</td>\n",
       "      <td>37.839200</td>\n",
       "      <td>94.359444</td>\n",
       "    </tr>\n",
       "    <tr>\n",
       "      <th>1566</th>\n",
       "      <td>slant_down</td>\n",
       "      <td>39.885373</td>\n",
       "      <td>90.634662</td>\n",
       "    </tr>\n",
       "    <tr>\n",
       "      <th>...</th>\n",
       "      <td>...</td>\n",
       "      <td>...</td>\n",
       "      <td>...</td>\n",
       "    </tr>\n",
       "    <tr>\n",
       "      <th>1699</th>\n",
       "      <td>slant_down</td>\n",
       "      <td>39.596501</td>\n",
       "      <td>32.136132</td>\n",
       "    </tr>\n",
       "    <tr>\n",
       "      <th>1700</th>\n",
       "      <td>slant_down</td>\n",
       "      <td>95.593416</td>\n",
       "      <td>33.234129</td>\n",
       "    </tr>\n",
       "    <tr>\n",
       "      <th>1701</th>\n",
       "      <td>slant_down</td>\n",
       "      <td>52.772288</td>\n",
       "      <td>99.613472</td>\n",
       "    </tr>\n",
       "    <tr>\n",
       "      <th>1702</th>\n",
       "      <td>slant_down</td>\n",
       "      <td>53.178614</td>\n",
       "      <td>98.603861</td>\n",
       "    </tr>\n",
       "    <tr>\n",
       "      <th>1703</th>\n",
       "      <td>slant_down</td>\n",
       "      <td>37.627053</td>\n",
       "      <td>93.060673</td>\n",
       "    </tr>\n",
       "  </tbody>\n",
       "</table>\n",
       "<p>142 rows × 3 columns</p>\n",
       "</div>"
      ],
      "text/plain": [
       "         dataset          x          y\n",
       "1562  slant_down  52.872021  97.343223\n",
       "1563  slant_down  59.014144  93.574875\n",
       "1564  slant_down  56.375109  96.305148\n",
       "1565  slant_down  37.839200  94.359444\n",
       "1566  slant_down  39.885373  90.634662\n",
       "...          ...        ...        ...\n",
       "1699  slant_down  39.596501  32.136132\n",
       "1700  slant_down  95.593416  33.234129\n",
       "1701  slant_down  52.772288  99.613472\n",
       "1702  slant_down  53.178614  98.603861\n",
       "1703  slant_down  37.627053  93.060673\n",
       "\n",
       "[142 rows x 3 columns]"
      ]
     },
     "execution_count": 26,
     "metadata": {},
     "output_type": "execute_result"
    }
   ],
   "source": [
    "df_slant\n",
    "\n"
   ]
  },
  {
   "cell_type": "markdown",
   "id": "8c839d31",
   "metadata": {},
   "source": [
    "#### Media de X y Y"
   ]
  },
  {
   "cell_type": "code",
   "execution_count": 27,
   "id": "78ccb51c",
   "metadata": {
    "scrolled": false
   },
   "outputs": [
    {
     "data": {
      "text/plain": [
       "54.2678488233662"
      ]
     },
     "execution_count": 27,
     "metadata": {},
     "output_type": "execute_result"
    }
   ],
   "source": [
    "df_slant['x'].mean()\n"
   ]
  },
  {
   "cell_type": "code",
   "execution_count": 28,
   "id": "ce2d49ec",
   "metadata": {
    "scrolled": true
   },
   "outputs": [
    {
     "data": {
      "text/plain": [
       "47.835896330588206"
      ]
     },
     "execution_count": 28,
     "metadata": {},
     "output_type": "execute_result"
    }
   ],
   "source": [
    "df_slant['y'].mean()"
   ]
  },
  {
   "cell_type": "code",
   "execution_count": 28,
   "id": "aaf2a7d5",
   "metadata": {
    "scrolled": true
   },
   "outputs": [
    {
     "data": {
      "text/plain": [
       "47.835896330588206"
      ]
     },
     "execution_count": 28,
     "metadata": {},
     "output_type": "execute_result"
    }
   ],
   "source": [
    "df_slant['y'].mean()"
   ]
  },
  {
   "cell_type": "markdown",
   "id": "8c81ffe1",
   "metadata": {},
   "source": [
    "#### Desviación estandar de X y Y"
   ]
  },
  {
   "cell_type": "code",
   "execution_count": 29,
   "id": "7f3f3149",
   "metadata": {
    "scrolled": true
   },
   "outputs": [
    {
     "data": {
      "text/plain": [
       "16.766758947404618"
      ]
     },
     "execution_count": 29,
     "metadata": {},
     "output_type": "execute_result"
    }
   ],
   "source": [
    "df_slant['x'].std()"
   ]
  },
  {
   "cell_type": "code",
   "execution_count": 30,
   "id": "a368183e",
   "metadata": {
    "scrolled": false
   },
   "outputs": [
    {
     "data": {
      "text/plain": [
       "26.936104931637743"
      ]
     },
     "execution_count": 30,
     "metadata": {},
     "output_type": "execute_result"
    }
   ],
   "source": [
    "df_slant['y'].std()"
   ]
  },
  {
   "cell_type": "markdown",
   "id": "edf8ac6d",
   "metadata": {},
   "source": [
    "#### correlación de xy"
   ]
  },
  {
   "cell_type": "markdown",
   "id": "7d3055fd",
   "metadata": {},
   "source": [
    "#### correlación de xy"
   ]
  },
  {
   "cell_type": "code",
   "execution_count": 31,
   "id": "a2c2953c",
   "metadata": {
    "scrolled": true
   },
   "outputs": [
    {
     "data": {
      "text/html": [
       "<div>\n",
       "<style scoped>\n",
       "    .dataframe tbody tr th:only-of-type {\n",
       "        vertical-align: middle;\n",
       "    }\n",
       "\n",
       "    .dataframe tbody tr th {\n",
       "        vertical-align: top;\n",
       "    }\n",
       "\n",
       "    .dataframe thead th {\n",
       "        text-align: right;\n",
       "    }\n",
       "</style>\n",
       "<table border=\"1\" class=\"dataframe\">\n",
       "  <thead>\n",
       "    <tr style=\"text-align: right;\">\n",
       "      <th></th>\n",
       "      <th>x</th>\n",
       "      <th>y</th>\n",
       "    </tr>\n",
       "  </thead>\n",
       "  <tbody>\n",
       "    <tr>\n",
       "      <th>x</th>\n",
       "      <td>1.000000</td>\n",
       "      <td>-0.066019</td>\n",
       "    </tr>\n",
       "    <tr>\n",
       "      <th>y</th>\n",
       "      <td>-0.066019</td>\n",
       "      <td>1.000000</td>\n",
       "    </tr>\n",
       "  </tbody>\n",
       "</table>\n",
       "</div>"
      ],
      "text/plain": [
       "          x         y\n",
       "x  1.000000 -0.066019\n",
       "y -0.066019  1.000000"
      ]
     },
     "execution_count": 31,
     "metadata": {},
     "output_type": "execute_result"
    }
   ],
   "source": [
    "df[['x','y']].corr()"
   ]
  },
  {
   "cell_type": "code",
   "execution_count": 40,
   "id": "c9f90aca",
   "metadata": {
    "scrolled": true
   },
   "outputs": [
    {
     "data": {
      "text/html": [
       "<div>\n",
       "<style scoped>\n",
       "    .dataframe tbody tr th:only-of-type {\n",
       "        vertical-align: middle;\n",
       "    }\n",
       "\n",
       "    .dataframe tbody tr th {\n",
       "        vertical-align: top;\n",
       "    }\n",
       "\n",
       "    .dataframe thead th {\n",
       "        text-align: right;\n",
       "    }\n",
       "</style>\n",
       "<table border=\"1\" class=\"dataframe\">\n",
       "  <thead>\n",
       "    <tr style=\"text-align: right;\">\n",
       "      <th></th>\n",
       "      <th>x</th>\n",
       "      <th>y</th>\n",
       "    </tr>\n",
       "  </thead>\n",
       "  <tbody>\n",
       "    <tr>\n",
       "      <th>x</th>\n",
       "      <td>1.00000</td>\n",
       "      <td>-0.06898</td>\n",
       "    </tr>\n",
       "    <tr>\n",
       "      <th>y</th>\n",
       "      <td>-0.06898</td>\n",
       "      <td>1.00000</td>\n",
       "    </tr>\n",
       "  </tbody>\n",
       "</table>\n",
       "</div>"
      ],
      "text/plain": [
       "         x        y\n",
       "x  1.00000 -0.06898\n",
       "y -0.06898  1.00000"
      ]
     },
     "execution_count": 40,
     "metadata": {},
     "output_type": "execute_result"
    }
   ],
   "source": [
    "df_slant[['x','y']].corr()"
   ]
  },
  {
   "cell_type": "code",
   "execution_count": 27,
   "id": "658631e1",
   "metadata": {
    "scrolled": false
   },
   "outputs": [
    {
     "data": {
      "text/plain": [
       "54.2678488233662"
      ]
     },
     "execution_count": 27,
     "metadata": {},
     "output_type": "execute_result"
    }
   ],
   "source": [
    "df_slant['x'].mean()\n"
   ]
  },
  {
   "cell_type": "code",
   "execution_count": 28,
   "id": "e4e9440a",
   "metadata": {
    "scrolled": true
   },
   "outputs": [
    {
     "data": {
      "text/plain": [
       "47.835896330588206"
      ]
     },
     "execution_count": 28,
     "metadata": {},
     "output_type": "execute_result"
    }
   ],
   "source": [
    "df_slant['y'].mean()"
   ]
  },
  {
   "cell_type": "markdown",
   "id": "d69dfb4c",
   "metadata": {},
   "source": [
    "#### Desviación estandar de X y Y"
   ]
  },
  {
   "cell_type": "code",
   "execution_count": 29,
   "id": "a1fff391",
   "metadata": {
    "scrolled": true
   },
   "outputs": [
    {
     "data": {
      "text/plain": [
       "16.766758947404618"
      ]
     },
     "execution_count": 29,
     "metadata": {},
     "output_type": "execute_result"
    }
   ],
   "source": [
    "df_slant['x'].std()"
   ]
  },
  {
   "cell_type": "code",
   "execution_count": 30,
   "id": "53b659b9",
   "metadata": {
    "scrolled": true
   },
   "outputs": [
    {
     "data": {
      "text/plain": [
       "26.936104931637743"
      ]
     },
     "execution_count": 30,
     "metadata": {},
     "output_type": "execute_result"
    }
   ],
   "source": [
    "df_slant['y'].std()"
   ]
  },
  {
   "cell_type": "markdown",
   "id": "e3af6483",
   "metadata": {},
   "source": [
    "### Análisis Dataset dino\n",
    "\n",
    "Repita el mismo análisis con el dataset dino"
   ]
  },
  {
   "cell_type": "code",
   "execution_count": 33,
   "id": "adf8e57b",
   "metadata": {},
   "outputs": [
    {
     "data": {
      "text/html": [
       "<div>\n",
       "<style scoped>\n",
       "    .dataframe tbody tr th:only-of-type {\n",
       "        vertical-align: middle;\n",
       "    }\n",
       "\n",
       "    .dataframe tbody tr th {\n",
       "        vertical-align: top;\n",
       "    }\n",
       "\n",
       "    .dataframe thead th {\n",
       "        text-align: right;\n",
       "    }\n",
       "</style>\n",
       "<table border=\"1\" class=\"dataframe\">\n",
       "  <thead>\n",
       "    <tr style=\"text-align: right;\">\n",
       "      <th></th>\n",
       "      <th>dataset</th>\n",
       "      <th>x</th>\n",
       "      <th>y</th>\n",
       "    </tr>\n",
       "  </thead>\n",
       "  <tbody>\n",
       "    <tr>\n",
       "      <th>0</th>\n",
       "      <td>dino</td>\n",
       "      <td>55.3846</td>\n",
       "      <td>97.1795</td>\n",
       "    </tr>\n",
       "    <tr>\n",
       "      <th>1</th>\n",
       "      <td>dino</td>\n",
       "      <td>51.5385</td>\n",
       "      <td>96.0256</td>\n",
       "    </tr>\n",
       "    <tr>\n",
       "      <th>2</th>\n",
       "      <td>dino</td>\n",
       "      <td>46.1538</td>\n",
       "      <td>94.4872</td>\n",
       "    </tr>\n",
       "    <tr>\n",
       "      <th>3</th>\n",
       "      <td>dino</td>\n",
       "      <td>42.8205</td>\n",
       "      <td>91.4103</td>\n",
       "    </tr>\n",
       "    <tr>\n",
       "      <th>4</th>\n",
       "      <td>dino</td>\n",
       "      <td>40.7692</td>\n",
       "      <td>88.3333</td>\n",
       "    </tr>\n",
       "    <tr>\n",
       "      <th>...</th>\n",
       "      <td>...</td>\n",
       "      <td>...</td>\n",
       "      <td>...</td>\n",
       "    </tr>\n",
       "    <tr>\n",
       "      <th>137</th>\n",
       "      <td>dino</td>\n",
       "      <td>39.4872</td>\n",
       "      <td>25.3846</td>\n",
       "    </tr>\n",
       "    <tr>\n",
       "      <th>138</th>\n",
       "      <td>dino</td>\n",
       "      <td>91.2821</td>\n",
       "      <td>41.5385</td>\n",
       "    </tr>\n",
       "    <tr>\n",
       "      <th>139</th>\n",
       "      <td>dino</td>\n",
       "      <td>50.0000</td>\n",
       "      <td>95.7692</td>\n",
       "    </tr>\n",
       "    <tr>\n",
       "      <th>140</th>\n",
       "      <td>dino</td>\n",
       "      <td>47.9487</td>\n",
       "      <td>95.0000</td>\n",
       "    </tr>\n",
       "    <tr>\n",
       "      <th>141</th>\n",
       "      <td>dino</td>\n",
       "      <td>44.1026</td>\n",
       "      <td>92.6923</td>\n",
       "    </tr>\n",
       "  </tbody>\n",
       "</table>\n",
       "<p>142 rows × 3 columns</p>\n",
       "</div>"
      ],
      "text/plain": [
       "    dataset        x        y\n",
       "0      dino  55.3846  97.1795\n",
       "1      dino  51.5385  96.0256\n",
       "2      dino  46.1538  94.4872\n",
       "3      dino  42.8205  91.4103\n",
       "4      dino  40.7692  88.3333\n",
       "..      ...      ...      ...\n",
       "137    dino  39.4872  25.3846\n",
       "138    dino  91.2821  41.5385\n",
       "139    dino  50.0000  95.7692\n",
       "140    dino  47.9487  95.0000\n",
       "141    dino  44.1026  92.6923\n",
       "\n",
       "[142 rows x 3 columns]"
      ]
     },
     "execution_count": 33,
     "metadata": {},
     "output_type": "execute_result"
    }
   ],
   "source": [
    "df_dino = df[df['dataset']=='dino']\n",
    "df_dino\n",
    "\n"
   ]
  },
  {
   "cell_type": "code",
   "execution_count": null,
   "id": "55f5bd43",
   "metadata": {},
   "outputs": [],
   "source": []
  },
  {
   "cell_type": "markdown",
   "id": "a8baf82b",
   "metadata": {},
   "source": [
    "#### Media de X y Y"
   ]
  },
  {
   "cell_type": "code",
   "execution_count": 59,
   "id": "60f2626e",
   "metadata": {},
   "outputs": [
    {
     "data": {
      "text/html": [
       "<div>\n",
       "<style scoped>\n",
       "    .dataframe tbody tr th:only-of-type {\n",
       "        vertical-align: middle;\n",
       "    }\n",
       "\n",
       "    .dataframe tbody tr th {\n",
       "        vertical-align: top;\n",
       "    }\n",
       "\n",
       "    .dataframe thead th {\n",
       "        text-align: right;\n",
       "    }\n",
       "</style>\n",
       "<table border=\"1\" class=\"dataframe\">\n",
       "  <thead>\n",
       "    <tr style=\"text-align: right;\">\n",
       "      <th></th>\n",
       "      <th>x</th>\n",
       "      <th>y</th>\n",
       "    </tr>\n",
       "  </thead>\n",
       "  <tbody>\n",
       "    <tr>\n",
       "      <th>x</th>\n",
       "      <td>1.000000</td>\n",
       "      <td>-0.064472</td>\n",
       "    </tr>\n",
       "    <tr>\n",
       "      <th>y</th>\n",
       "      <td>-0.064472</td>\n",
       "      <td>1.000000</td>\n",
       "    </tr>\n",
       "  </tbody>\n",
       "</table>\n",
       "</div>"
      ],
      "text/plain": [
       "          x         y\n",
       "x  1.000000 -0.064472\n",
       "y -0.064472  1.000000"
      ]
     },
     "execution_count": 59,
     "metadata": {},
     "output_type": "execute_result"
    }
   ],
   "source": [
    "df_dino[['x','y']].corr()"
   ]
  },
  {
   "cell_type": "code",
   "execution_count": 34,
   "id": "0b42ada0",
   "metadata": {
    "scrolled": false
   },
   "outputs": [
    {
     "data": {
      "text/plain": [
       "54.26327323943662"
      ]
     },
     "execution_count": 34,
     "metadata": {},
     "output_type": "execute_result"
    }
   ],
   "source": [
    "df_dino['x'].mean()\n"
   ]
  },
  {
   "cell_type": "code",
   "execution_count": 35,
   "id": "939c02a8",
   "metadata": {
    "scrolled": true
   },
   "outputs": [
    {
     "data": {
      "text/plain": [
       "47.832252816901416"
      ]
     },
     "execution_count": 35,
     "metadata": {},
     "output_type": "execute_result"
    }
   ],
   "source": [
    "df_dino['y'].mean()"
   ]
  },
  {
   "cell_type": "code",
   "execution_count": 36,
   "id": "49cabc0b",
   "metadata": {
    "scrolled": true
   },
   "outputs": [
    {
     "data": {
      "text/plain": [
       "47.832252816901416"
      ]
     },
     "execution_count": 36,
     "metadata": {},
     "output_type": "execute_result"
    }
   ],
   "source": [
    "df_dino['y'].mddean()"
   ]
  },
  {
   "cell_type": "markdown",
   "id": "22a61a36",
   "metadata": {},
   "source": [
    "#### Desviación estandar de X y Y"
   ]
  },
  {
   "cell_type": "code",
   "execution_count": 37,
   "id": "9ca69297",
   "metadata": {
    "scrolled": true
   },
   "outputs": [
    {
     "data": {
      "text/plain": [
       "16.765142039116785"
      ]
     },
     "execution_count": 37,
     "metadata": {},
     "output_type": "execute_result"
    }
   ],
   "source": [
    "df_dino['x'].std()"
   ]
  },
  {
   "cell_type": "code",
   "execution_count": 38,
   "id": "0c4e1fab",
   "metadata": {
    "scrolled": false
   },
   "outputs": [
    {
     "data": {
      "text/plain": [
       "26.935403486939123"
      ]
     },
     "execution_count": 38,
     "metadata": {},
     "output_type": "execute_result"
    }
   ],
   "source": [
    "df_dino['y'].std()"
   ]
  },
  {
   "cell_type": "markdown",
   "id": "601d18f0",
   "metadata": {},
   "source": [
    "#### correlación de xy"
   ]
  },
  {
   "cell_type": "code",
   "execution_count": 39,
   "id": "3e0dd41d",
   "metadata": {
    "scrolled": true
   },
   "outputs": [
    {
     "data": {
      "text/html": [
       "<div>\n",
       "<style scoped>\n",
       "    .dataframe tbody tr th:only-of-type {\n",
       "        vertical-align: middle;\n",
       "    }\n",
       "\n",
       "    .dataframe tbody tr th {\n",
       "        vertical-align: top;\n",
       "    }\n",
       "\n",
       "    .dataframe thead th {\n",
       "        text-align: right;\n",
       "    }\n",
       "</style>\n",
       "<table border=\"1\" class=\"dataframe\">\n",
       "  <thead>\n",
       "    <tr style=\"text-align: right;\">\n",
       "      <th></th>\n",
       "      <th>x</th>\n",
       "      <th>y</th>\n",
       "    </tr>\n",
       "  </thead>\n",
       "  <tbody>\n",
       "    <tr>\n",
       "      <th>x</th>\n",
       "      <td>1.000000</td>\n",
       "      <td>-0.064472</td>\n",
       "    </tr>\n",
       "    <tr>\n",
       "      <th>y</th>\n",
       "      <td>-0.064472</td>\n",
       "      <td>1.000000</td>\n",
       "    </tr>\n",
       "  </tbody>\n",
       "</table>\n",
       "</div>"
      ],
      "text/plain": [
       "          x         y\n",
       "x  1.000000 -0.064472\n",
       "y -0.064472  1.000000"
      ]
     },
     "execution_count": 39,
     "metadata": {},
     "output_type": "execute_result"
    }
   ],
   "source": [
    "df_dino[['x','y']].corr()"
   ]
  },
  {
   "cell_type": "code",
   "execution_count": null,
   "id": "02bc010e",
   "metadata": {},
   "outputs": [],
   "source": []
  },
  {
   "cell_type": "code",
   "execution_count": null,
   "id": "e35c6c4f",
   "metadata": {},
   "outputs": [],
   "source": []
  },
  {
   "cell_type": "markdown",
   "id": "f0daad83",
   "metadata": {},
   "source": [
    "### Análisis Dataset star\n",
    "\n",
    "Repita el mismo análisis con el dataset star"
   ]
  },
  {
   "cell_type": "code",
   "execution_count": null,
   "id": "242f7e08",
   "metadata": {},
   "outputs": [],
   "source": [
    "\n",
    "\n"
   ]
  },
  {
   "cell_type": "code",
   "execution_count": 41,
   "id": "167dd591",
   "metadata": {},
   "outputs": [
    {
     "data": {
      "text/html": [
       "<div>\n",
       "<style scoped>\n",
       "    .dataframe tbody tr th:only-of-type {\n",
       "        vertical-align: middle;\n",
       "    }\n",
       "\n",
       "    .dataframe tbody tr th {\n",
       "        vertical-align: top;\n",
       "    }\n",
       "\n",
       "    .dataframe thead th {\n",
       "        text-align: right;\n",
       "    }\n",
       "</style>\n",
       "<table border=\"1\" class=\"dataframe\">\n",
       "  <thead>\n",
       "    <tr style=\"text-align: right;\">\n",
       "      <th></th>\n",
       "      <th>dataset</th>\n",
       "      <th>x</th>\n",
       "      <th>y</th>\n",
       "    </tr>\n",
       "  </thead>\n",
       "  <tbody>\n",
       "    <tr>\n",
       "      <th>710</th>\n",
       "      <td>star</td>\n",
       "      <td>58.213608</td>\n",
       "      <td>91.881892</td>\n",
       "    </tr>\n",
       "    <tr>\n",
       "      <th>711</th>\n",
       "      <td>star</td>\n",
       "      <td>58.196054</td>\n",
       "      <td>92.214989</td>\n",
       "    </tr>\n",
       "    <tr>\n",
       "      <th>712</th>\n",
       "      <td>star</td>\n",
       "      <td>58.718231</td>\n",
       "      <td>90.310532</td>\n",
       "    </tr>\n",
       "    <tr>\n",
       "      <th>713</th>\n",
       "      <td>star</td>\n",
       "      <td>57.278373</td>\n",
       "      <td>89.907607</td>\n",
       "    </tr>\n",
       "    <tr>\n",
       "      <th>714</th>\n",
       "      <td>star</td>\n",
       "      <td>58.082020</td>\n",
       "      <td>92.008145</td>\n",
       "    </tr>\n",
       "    <tr>\n",
       "      <th>...</th>\n",
       "      <td>...</td>\n",
       "      <td>...</td>\n",
       "      <td>...</td>\n",
       "    </tr>\n",
       "    <tr>\n",
       "      <th>847</th>\n",
       "      <td>star</td>\n",
       "      <td>43.722551</td>\n",
       "      <td>19.077328</td>\n",
       "    </tr>\n",
       "    <tr>\n",
       "      <th>848</th>\n",
       "      <td>star</td>\n",
       "      <td>79.326078</td>\n",
       "      <td>52.900391</td>\n",
       "    </tr>\n",
       "    <tr>\n",
       "      <th>849</th>\n",
       "      <td>star</td>\n",
       "      <td>56.663974</td>\n",
       "      <td>87.940125</td>\n",
       "    </tr>\n",
       "    <tr>\n",
       "      <th>850</th>\n",
       "      <td>star</td>\n",
       "      <td>57.821789</td>\n",
       "      <td>90.693167</td>\n",
       "    </tr>\n",
       "    <tr>\n",
       "      <th>851</th>\n",
       "      <td>star</td>\n",
       "      <td>58.243172</td>\n",
       "      <td>92.104328</td>\n",
       "    </tr>\n",
       "  </tbody>\n",
       "</table>\n",
       "<p>142 rows × 3 columns</p>\n",
       "</div>"
      ],
      "text/plain": [
       "    dataset          x          y\n",
       "710    star  58.213608  91.881892\n",
       "711    star  58.196054  92.214989\n",
       "712    star  58.718231  90.310532\n",
       "713    star  57.278373  89.907607\n",
       "714    star  58.082020  92.008145\n",
       "..      ...        ...        ...\n",
       "847    star  43.722551  19.077328\n",
       "848    star  79.326078  52.900391\n",
       "849    star  56.663974  87.940125\n",
       "850    star  57.821789  90.693167\n",
       "851    star  58.243172  92.104328\n",
       "\n",
       "[142 rows x 3 columns]"
      ]
     },
     "execution_count": 41,
     "metadata": {},
     "output_type": "execute_result"
    }
   ],
   "source": [
    "df_star = df[df['dataset']=='star']\n",
    "df_star\n",
    "\n"
   ]
  },
  {
   "cell_type": "markdown",
   "id": "825ef35f",
   "metadata": {},
   "source": [
    "#### Media de X y Y"
   ]
  },
  {
   "cell_type": "code",
   "execution_count": 42,
   "id": "13edc2f8",
   "metadata": {
    "scrolled": false
   },
   "outputs": [
    {
     "data": {
      "text/plain": [
       "54.26734110449506"
      ]
     },
     "execution_count": 42,
     "metadata": {},
     "output_type": "execute_result"
    }
   ],
   "source": [
    "df_star['x'].mean()\n"
   ]
  },
  {
   "cell_type": "code",
   "execution_count": 43,
   "id": "46fbcb36",
   "metadata": {
    "scrolled": true
   },
   "outputs": [
    {
     "data": {
      "text/plain": [
       "47.839545225097886"
      ]
     },
     "execution_count": 43,
     "metadata": {},
     "output_type": "execute_result"
    }
   ],
   "source": [
    "df_star['y'].mean()"
   ]
  },
  {
   "cell_type": "markdown",
   "id": "b3b43366",
   "metadata": {},
   "source": [
    "#### Desviación estandar de X y Y"
   ]
  },
  {
   "cell_type": "code",
   "execution_count": 44,
   "id": "f4179a6d",
   "metadata": {
    "scrolled": true
   },
   "outputs": [
    {
     "data": {
      "text/plain": [
       "16.76895921627654"
      ]
     },
     "execution_count": 44,
     "metadata": {},
     "output_type": "execute_result"
    }
   ],
   "source": [
    "df_star['x'].std()"
   ]
  },
  {
   "cell_type": "code",
   "execution_count": 45,
   "id": "18c5d09b",
   "metadata": {
    "scrolled": false
   },
   "outputs": [
    {
     "data": {
      "text/plain": [
       "26.93027468764851"
      ]
     },
     "execution_count": 45,
     "metadata": {},
     "output_type": "execute_result"
    }
   ],
   "source": [
    "df_star['y'].std()"
   ]
  },
  {
   "cell_type": "markdown",
   "id": "94ff4813",
   "metadata": {},
   "source": [
    "#### correlación de xy"
   ]
  },
  {
   "cell_type": "code",
   "execution_count": 46,
   "id": "83d001e6",
   "metadata": {
    "scrolled": true
   },
   "outputs": [
    {
     "data": {
      "text/html": [
       "<div>\n",
       "<style scoped>\n",
       "    .dataframe tbody tr th:only-of-type {\n",
       "        vertical-align: middle;\n",
       "    }\n",
       "\n",
       "    .dataframe tbody tr th {\n",
       "        vertical-align: top;\n",
       "    }\n",
       "\n",
       "    .dataframe thead th {\n",
       "        text-align: right;\n",
       "    }\n",
       "</style>\n",
       "<table border=\"1\" class=\"dataframe\">\n",
       "  <thead>\n",
       "    <tr style=\"text-align: right;\">\n",
       "      <th></th>\n",
       "      <th>x</th>\n",
       "      <th>y</th>\n",
       "    </tr>\n",
       "  </thead>\n",
       "  <tbody>\n",
       "    <tr>\n",
       "      <th>x</th>\n",
       "      <td>1.000000</td>\n",
       "      <td>-0.062961</td>\n",
       "    </tr>\n",
       "    <tr>\n",
       "      <th>y</th>\n",
       "      <td>-0.062961</td>\n",
       "      <td>1.000000</td>\n",
       "    </tr>\n",
       "  </tbody>\n",
       "</table>\n",
       "</div>"
      ],
      "text/plain": [
       "          x         y\n",
       "x  1.000000 -0.062961\n",
       "y -0.062961  1.000000"
      ]
     },
     "execution_count": 46,
     "metadata": {},
     "output_type": "execute_result"
    }
   ],
   "source": [
    "df_star[['x','y']].corr()"
   ]
  },
  {
   "cell_type": "code",
   "execution_count": null,
   "id": "bb6a1469",
   "metadata": {},
   "outputs": [],
   "source": []
  },
  {
   "cell_type": "code",
   "execution_count": null,
   "id": "76a4b140",
   "metadata": {},
   "outputs": [],
   "source": []
  },
  {
   "cell_type": "markdown",
   "id": "54aa8e8b",
   "metadata": {},
   "source": [
    "### Análisis y Conclusiones"
   ]
  },
  {
   "cell_type": "markdown",
   "id": "59c1e131",
   "metadata": {},
   "source": [
    "Aparentemente, este misterioso set de datos esconde algunos misterios... ¿Se podrá concluir que cada dataset contiene los mismos datos, o al menos son datos muy similares?"
   ]
  },
  {
   "cell_type": "markdown",
   "id": "1647a9a9",
   "metadata": {},
   "source": [
    "#### Responda acá\n",
    "\n",
    "Aparentemente todos los datos son similares. Tanto las medias son muy parecidas. \n",
    "Las desviaciones estander tambien lo son por lo que el comportamiento de los datos en los 3 analisis son similares.\n",
    "\n",
    "\n"
   ]
  },
  {
   "cell_type": "markdown",
   "id": "ea48aba9",
   "metadata": {},
   "source": [
    "Considere extender el análisis exploratorio para corroborar o refutar la aseveración anterior"
   ]
  },
  {
   "cell_type": "code",
   "execution_count": null,
   "id": "cee6dd7a",
   "metadata": {},
   "outputs": [],
   "source": []
  },
  {
   "cell_type": "code",
   "execution_count": null,
   "id": "46aff973",
   "metadata": {},
   "outputs": [],
   "source": []
  },
  {
   "cell_type": "code",
   "execution_count": null,
   "id": "d2c1bf35",
   "metadata": {},
   "outputs": [],
   "source": []
  },
  {
   "cell_type": "markdown",
   "id": "5ed80f4c",
   "metadata": {},
   "source": [
    "Realice un análisis visual de los datasets anteriores"
   ]
  },
  {
   "cell_type": "markdown",
   "id": "37f97320",
   "metadata": {},
   "source": [
    "#### Analisis visual Slant_down"
   ]
  },
  {
   "cell_type": "markdown",
   "id": "742308ba",
   "metadata": {},
   "source": [
    "#### Histograma Slant_down"
   ]
  },
  {
   "cell_type": "code",
   "execution_count": 51,
   "id": "ef7f6601",
   "metadata": {},
   "outputs": [
    {
     "data": {
      "text/plain": [
       "<Axes: ylabel='Frequency'>"
      ]
     },
     "execution_count": 51,
     "metadata": {},
     "output_type": "execute_result"
    },
    {
     "data": {
      "image/png": "[encoded data removed]",
      "text/plain": [
       "<Figure size 640x480 with 1 Axes>"
      ]
     },
     "metadata": {},
     "output_type": "display_data"
    }
   ],
   "source": [
    "df_slant.plot(kind='hist', bins=10)"
   ]
  },
  {
   "cell_type": "markdown",
   "id": "6f85413e",
   "metadata": {},
   "source": [
    "#### Diagrama de distribución Slant_down"
   ]
  },
  {
   "cell_type": "code",
   "execution_count": 50,
   "id": "7fb9a583",
   "metadata": {
    "scrolled": true
   },
   "outputs": [
    {
     "data": {
      "text/plain": [
       "<Axes: ylabel='Density'>"
      ]
     },
     "execution_count": 50,
     "metadata": {},
     "output_type": "execute_result"
    },
    {
     "data": {
      "image/png": "[encoded data removed]",
      "text/plain": [
       "<Figure size 640x480 with 1 Axes>"
      ]
     },
     "metadata": {},
     "output_type": "display_data"
    }
   ],
   "source": [
    "df_slant.plot(kind='kde')"
   ]
  },
  {
   "cell_type": "markdown",
   "id": "b0d6a22f",
   "metadata": {},
   "source": [
    "#### Diagrama de cajas Slant Down"
   ]
  },
  {
   "cell_type": "code",
   "execution_count": 57,
   "id": "7bf5d116",
   "metadata": {},
   "outputs": [
    {
     "data": {
      "text/plain": [
       "<Axes: >"
      ]
     },
     "execution_count": 57,
     "metadata": {},
     "output_type": "execute_result"
    },
    {
     "data": {
      "image/png": "[encoded data removed]",
      "text/plain": [
       "<Figure size 640x480 with 1 Axes>"
      ]
     },
     "metadata": {},
     "output_type": "display_data"
    }
   ],
   "source": [
    "df_slant.plot(kind='box')"
   ]
  },
  {
   "cell_type": "markdown",
   "id": "d7c3e68e",
   "metadata": {},
   "source": [
    "#### Analisis visual Dino"
   ]
  },
  {
   "cell_type": "markdown",
   "id": "7c8e7303",
   "metadata": {},
   "source": [
    "#### Histograma Dino"
   ]
  },
  {
   "cell_type": "code",
   "execution_count": 54,
   "id": "0e0f5e43",
   "metadata": {
    "scrolled": true
   },
   "outputs": [
    {
     "data": {
      "text/plain": [
       "<Axes: ylabel='Frequency'>"
      ]
     },
     "execution_count": 54,
     "metadata": {},
     "output_type": "execute_result"
    },
    {
     "data": {
      "image/png": "[encoded data removed]",
      "text/plain": [
       "<Figure size 640x480 with 1 Axes>"
      ]
     },
     "metadata": {},
     "output_type": "display_data"
    }
   ],
   "source": [
    "df_dino.plot(kind='hist', bins=10)"
   ]
  },
  {
   "cell_type": "markdown",
   "id": "56703774",
   "metadata": {},
   "source": [
    "#### Diagrama de distribución Dino"
   ]
  },
  {
   "cell_type": "code",
   "execution_count": 55,
   "id": "bdd5307e",
   "metadata": {
    "scrolled": true
   },
   "outputs": [
    {
     "data": {
      "text/plain": [
       "<Axes: ylabel='Density'>"
      ]
     },
     "execution_count": 55,
     "metadata": {},
     "output_type": "execute_result"
    },
    {
     "data": {
      "image/png": "[encoded data removed]",
      "text/plain": [
       "<Figure size 640x480 with 1 Axes>"
      ]
     },
     "metadata": {},
     "output_type": "display_data"
    }
   ],
   "source": [
    "df_dino.plot(kind='kde')"
   ]
  },
  {
   "cell_type": "markdown",
   "id": "135f98da",
   "metadata": {},
   "source": [
    "#### Diagrama de cajas Dino"
   ]
  },
  {
   "cell_type": "code",
   "execution_count": 58,
   "id": "f01a820f",
   "metadata": {},
   "outputs": [
    {
     "data": {
      "text/plain": [
       "<Axes: >"
      ]
     },
     "execution_count": 58,
     "metadata": {},
     "output_type": "execute_result"
    },
    {
     "data": {
      "image/png": "[encoded data removed]",
      "text/plain": [
       "<Figure size 640x480 with 1 Axes>"
      ]
     },
     "metadata": {},
     "output_type": "display_data"
    }
   ],
   "source": [
    "df_dino.plot(kind='box')"
   ]
  },
  {
   "cell_type": "code",
   "execution_count": null,
   "id": "e501c3a4",
   "metadata": {},
   "outputs": [],
   "source": []
  },
  {
   "cell_type": "markdown",
   "id": "537d6ce4",
   "metadata": {},
   "source": [
    "#### Analisis visual Star"
   ]
  },
  {
   "cell_type": "markdown",
   "id": "c08ceff4",
   "metadata": {},
   "source": [
    "#### Histograma Star"
   ]
  },
  {
   "cell_type": "code",
   "execution_count": 60,
   "id": "6ab75d3d",
   "metadata": {
    "scrolled": true
   },
   "outputs": [
    {
     "data": {
      "text/plain": [
       "<Axes: ylabel='Frequency'>"
      ]
     },
     "execution_count": 60,
     "metadata": {},
     "output_type": "execute_result"
    },
    {
     "data": {
      "image/png": "[encoded data removed]",
      "text/plain": [
       "<Figure size 640x480 with 1 Axes>"
      ]
     },
     "metadata": {},
     "output_type": "display_data"
    }
   ],
   "source": [
    "df_star.plot(kind='hist', bins=10)"
   ]
  },
  {
   "cell_type": "markdown",
   "id": "78cc6cdd",
   "metadata": {},
   "source": [
    "#### Diagrama de distribución Star"
   ]
  },
  {
   "cell_type": "code",
   "execution_count": 61,
   "id": "c27abdf6",
   "metadata": {
    "scrolled": true
   },
   "outputs": [
    {
     "data": {
      "text/plain": [
       "<Axes: ylabel='Density'>"
      ]
     },
     "execution_count": 61,
     "metadata": {},
     "output_type": "execute_result"
    },
    {
     "data": {
      "image/png": "[encoded data removed]",
      "text/plain": [
       "<Figure size 640x480 with 1 Axes>"
      ]
     },
     "metadata": {},
     "output_type": "display_data"
    }
   ],
   "source": [
    "df_star.plot(kind='kde')"
   ]
  },
  {
   "cell_type": "markdown",
   "id": "69509b55",
   "metadata": {},
   "source": [
    "#### Diagrama de cajas Dino"
   ]
  },
  {
   "cell_type": "code",
   "execution_count": 62,
   "id": "980a23d8",
   "metadata": {},
   "outputs": [
    {
     "data": {
      "text/plain": [
       "<Axes: >"
      ]
     },
     "execution_count": 62,
     "metadata": {},
     "output_type": "execute_result"
    },
    {
     "data": {
      "image/png": "[encoded data removed]",
      "text/plain": [
       "<Figure size 640x480 with 1 Axes>"
      ]
     },
     "metadata": {},
     "output_type": "display_data"
    }
   ],
   "source": [
    "df_star.plot(kind='box')"
   ]
  },
  {
   "cell_type": "code",
   "execution_count": null,
   "id": "20f5b1e7",
   "metadata": {},
   "outputs": [],
   "source": []
  },
  {
   "cell_type": "markdown",
   "id": "41ba4b7c",
   "metadata": {},
   "source": [
    "¿Qué hallazgos ha encontrado que sean relevantes?"
   ]
  },
  {
   "cell_type": "markdown",
   "id": "353381d1",
   "metadata": {},
   "source": [
    "# Responda acá\n",
    "Entre Dino y Slant hay pequeñas diferencias en el histograma. Tomando como referencia valores desde 0 a 20.\n",
    "El que es mas distinto es el Star, dado que presente mas valores de x donde los demás datasets no tienen valores.\n",
    "Por ende los dataset presentan diferencias, a pesar de que en analisis inicial no presentaban casi ninguna diferencia.\n",
    "\n"
   ]
  },
  {
   "cell_type": "code",
   "execution_count": null,
   "id": "1548f0c6",
   "metadata": {},
   "outputs": [],
   "source": []
  }
 ],
 "metadata": {
  "kernelspec": {
   "display_name": "Python 3 (ipykernel)",
   "language": "python",
   "name": "python3"
  },
  "language_info": {
   "codemirror_mode": {
    "name": "ipython",
    "version": 3
   },
   "file_extension": ".py",
   "mimetype": "text/x-python",
   "name": "python",
   "nbconvert_exporter": "python",
   "pygments_lexer": "ipython3",
   "version": "3.10.9"
  }
 },
 "nbformat": 4,
 "nbformat_minor": 5
}
