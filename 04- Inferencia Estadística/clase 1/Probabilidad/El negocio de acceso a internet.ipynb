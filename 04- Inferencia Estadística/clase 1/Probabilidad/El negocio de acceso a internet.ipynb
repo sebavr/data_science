{
 "cells": [
  {
   "cell_type": "markdown",
   "id": "1210daa3",
   "metadata": {},
   "source": [
    "## El negocio de acceso a Internet"
   ]
  },
  {
   "cell_type": "markdown",
   "id": "aca0cd1e",
   "metadata": {},
   "source": [
    "En la provincia de Soria, el negocio de acceso a Internet se reparte entre dos operadores,\n",
    "Timofónica\n",
    "y Robafone y dos únicas marcas de routers , Xisco y Nuaweii . En Soria, la cuota de mercado de\n",
    "Timofónica es del 60% y de Robafone el resto. El 70% de los usuarios dispone de router Xisco y el 30%\n",
    "de ambas marcas. Además se sabe que la probabilidad de corte de acceso es 0.1 para usuarios de\n",
    "Timofónica , 0.15 para Robafone y 0.05 para routers Xisco.\n",
    "\n",
    "\n",
    "- 1.Crear un script en Python que defina las probabilidades proporcionadas en el enunciado (usar un\n",
    "diccionario\n",
    "\n",
    "- 2. Implementar en el script las expresiones correspondiente al Teorema de Bayes para responder las\n",
    "siguientes preguntas:\n",
    "\n",
    "    - ¿Cuál es la probabilidad de que a un usuario se le corte el Internet?,\n",
    "\n",
    "    - Si se sabe que un usuario tiene la línea cortada, ¿cuál es la probabilidad de que tenga router Xisco en casa?,\n",
    "\n",
    "- 3. ¿Cuál es la probabilidad de que se produzca un corte a un usuario que no tiene un\n",
    "router Xisco\n",
    "\n",
    "Interpretar los resultados obtenidos."
   ]
  },
  {
   "cell_type": "code",
   "execution_count": 11,
   "id": "6606aed6",
   "metadata": {},
   "outputs": [],
   "source": [
    "pr= dict\n",
    "pr={\n",
    "    \"Timofónica\":0.6,\n",
    "    \"Robafone\":0.4,\n",
    "    \"Xisco\":0.7,\n",
    "    \"Xisco y Nuaweii\":0.3,\n",
    "    \"Corte|Timofónica\":0.1,\n",
    "    \"Corte|Robafone\":0.15,\n",
    "    \"Corte|Xisco\":0.05    \n",
    "}\n",
    "#pr[\"Timofónica\"] =0.6"
   ]
  },
  {
   "cell_type": "code",
   "execution_count": 10,
   "id": "9647852e",
   "metadata": {},
   "outputs": [
    {
     "data": {
      "text/plain": [
       "0.6"
      ]
     },
     "execution_count": 10,
     "metadata": {},
     "output_type": "execute_result"
    }
   ],
   "source": [
    "pr[\"Timofónica\"]"
   ]
  },
  {
   "cell_type": "markdown",
   "id": "46a2e4f1",
   "metadata": {},
   "source": [
    "###   - ¿Cuál es la probabilidad de que a un usuario se le corte el Internet?"
   ]
  },
  {
   "cell_type": "code",
   "execution_count": 14,
   "id": "0e685ad8",
   "metadata": {},
   "outputs": [],
   "source": [
    "pr[\"Corte\"]=pr[\"Corte|Timofónica\"]*pr[\"Timofónica\"]+pr[\"Corte|Robafone\"]*pr[\"Robafone\"]+pr[\"Corte|Xisco\"]*pr[\"Xisco\"]"
   ]
  },
  {
   "cell_type": "code",
   "execution_count": 15,
   "id": "a8875b4a",
   "metadata": {},
   "outputs": [
    {
     "data": {
      "text/plain": [
       "0.155"
      ]
     },
     "execution_count": 15,
     "metadata": {},
     "output_type": "execute_result"
    }
   ],
   "source": [
    "pr[\"Corte\"]"
   ]
  },
  {
   "cell_type": "markdown",
   "id": "905a0f54",
   "metadata": {},
   "source": [
    "La probabilidad de que a un usuario se le corte internet es de 15.5%"
   ]
  },
  {
   "cell_type": "markdown",
   "id": "b757ab8c",
   "metadata": {},
   "source": [
    "### Si se sabe que un usuario tiene la línea cortada, ¿cuál es la probabilidad de que tenga router Xisco en casa?"
   ]
  },
  {
   "cell_type": "code",
   "execution_count": null,
   "id": "a5271fe2",
   "metadata": {},
   "outputs": [],
   "source": [
    "Teorema de bayes"
   ]
  },
  {
   "cell_type": "code",
   "execution_count": 17,
   "id": "dc149a82",
   "metadata": {},
   "outputs": [
    {
     "data": {
      "text/plain": [
       "0.2258064516129032"
      ]
     },
     "execution_count": 17,
     "metadata": {},
     "output_type": "execute_result"
    }
   ],
   "source": [
    "pr[\"Xisco|Corte\"]=pr[\"Xisco\"]*pr[\"Corte|Xisco\"]/pr[\"Corte\"]\n",
    "pr[\"Xisco|Corte\"]"
   ]
  },
  {
   "cell_type": "markdown",
   "id": "cfa55739",
   "metadata": {},
   "source": [
    "La probabilidad de que un usuario con linea cortada tenga un router Xisco es de 22,58%"
   ]
  },
  {
   "cell_type": "markdown",
   "id": "bffda791",
   "metadata": {},
   "source": [
    "### ¿Cuál es la probabilidad de que se produzca un corte a un usuario que no tiene un router Xisco"
   ]
  },
  {
   "cell_type": "markdown",
   "id": "3b9f1872",
   "metadata": {},
   "source": [
    "Si no es Xisco, entonces es Nuaweii. Seria la probabilidad de que se produzca un corte sabiendo que es de Nuaeii"
   ]
  },
  {
   "cell_type": "code",
   "execution_count": null,
   "id": "77c5c484",
   "metadata": {},
   "outputs": [],
   "source": [
    "pr[\"Corte|Nuaweii\"]=pr[\"Corte ∩ Nuaweii\"]/pr[\"Nuaweii\"]  -----------------------(1)\n",
    "\n",
    "pr[\"Nuaweii\"]=1-pr['Xisco']    -------------------------------------------------(2)                          \n",
    "pr[\"Nuaweii\"]=pr[\"Ω-Xisco\"]    \n",
    "pr[\"Corte ∩ Nuaweii\"]=pr[\"Corte ∩ [Ω-Xisco]\"] -----------------------------------(3)\n",
    "\n",
    "pr[\"Corte ∩ [Ω-Xisco]\"]=pr[\"Corte-Corte ∩ Xisco\"] ------------------------------(4)\n",
    "\n",
    "pr[\"Corte-Corte ∩ Xisco\"]=pr[\"Corte\"]-pr[\"Corte ∩ Xisco\"] ------------------------(5)\n",
    "\n",
    "Aplicando Probabilidad Condicional:\n",
    "    \n",
    "pr[\"Corte ∩ Xisco\"]=pr[\"Corte|Xisco\"]*pr[\"Xisco\"] --------------------------------(6)"
   ]
  },
  {
   "cell_type": "code",
   "execution_count": 22,
   "id": "eb68f89b",
   "metadata": {},
   "outputs": [
    {
     "data": {
      "text/plain": [
       "0.034999999999999996"
      ]
     },
     "execution_count": 22,
     "metadata": {},
     "output_type": "execute_result"
    }
   ],
   "source": [
    "\n",
    "pr[\"Corte ∩ Xisco\"]=pr[\"Corte|Xisco\"]*pr[\"Xisco\"]\n",
    "pr[\"Corte ∩ Xisco\"]"
   ]
  },
  {
   "cell_type": "code",
   "execution_count": null,
   "id": "96796621",
   "metadata": {},
   "outputs": [],
   "source": [
    "Aplicamos (5)"
   ]
  },
  {
   "cell_type": "code",
   "execution_count": 23,
   "id": "a2b82022",
   "metadata": {},
   "outputs": [
    {
     "data": {
      "text/plain": [
       "0.12"
      ]
     },
     "execution_count": 23,
     "metadata": {},
     "output_type": "execute_result"
    }
   ],
   "source": [
    "pr[\"Corte ∩ Nuaweii\"]=pr[\"Corte\"]-pr[\"Corte ∩ Xisco\"]\n",
    "pr[\"Corte ∩ Nuaweii\"]"
   ]
  },
  {
   "cell_type": "code",
   "execution_count": null,
   "id": "76aab086",
   "metadata": {},
   "outputs": [],
   "source": [
    "Entonces aplicamos en (1) y en (2):"
   ]
  },
  {
   "cell_type": "code",
   "execution_count": 25,
   "id": "29fc4d6e",
   "metadata": {},
   "outputs": [
    {
     "data": {
      "text/plain": [
       "0.3999999999999999"
      ]
     },
     "execution_count": 25,
     "metadata": {},
     "output_type": "execute_result"
    }
   ],
   "source": [
    "pr[\"Corte|Nuaweii\"]=pr[\"Corte ∩ Nuaweii\"]/(1-pr['Xisco'])\n",
    "pr[\"Corte|Nuaweii\"]"
   ]
  },
  {
   "cell_type": "code",
   "execution_count": null,
   "id": "3277dadc",
   "metadata": {},
   "outputs": [],
   "source": [
    "La probabilidad de que se produzca un corte en un usuario que no tiene Router Xisco es de 40%"
   ]
  }
 ],
 "metadata": {
  "kernelspec": {
   "display_name": "Python 3 (ipykernel)",
   "language": "python",
   "name": "python3"
  },
  "language_info": {
   "codemirror_mode": {
    "name": "ipython",
    "version": 3
   },
   "file_extension": ".py",
   "mimetype": "text/x-python",
   "name": "python",
   "nbconvert_exporter": "python",
   "pygments_lexer": "ipython3",
   "version": "3.10.9"
  }
 },
 "nbformat": 4,
 "nbformat_minor": 5
}
