{
 "cells": [
  {
   "cell_type": "markdown",
   "id": "cb92c3b5",
   "metadata": {},
   "source": [
    "# Actividad Lanzamiento de dados"
   ]
  },
  {
   "cell_type": "markdown",
   "id": "560cc9d3",
   "metadata": {},
   "source": [
    "## Problema 1"
   ]
  },
  {
   "cell_type": "markdown",
   "id": "43e1bd20",
   "metadata": {},
   "source": [
    "Usted va a jugar dados al casino, lanza dos dados y para ganar la lo apostado, necesita que la suma esté \n",
    "en el intervalo [7, 9]. ¿Qué probabilidad tiene de ganar la apuesta? Resuélvalo con Python."
   ]
  },
  {
   "cell_type": "markdown",
   "id": "ce6c96f2",
   "metadata": {},
   "source": [
    "##### Respuesta:"
   ]
  },
  {
   "cell_type": "markdown",
   "id": "942fd87e",
   "metadata": {},
   "source": [
    "Para que los dados den 7,8 y 9 deben dar:\n",
    "\n",
    "Para 7:\n",
    "1 y 6\n",
    "2 y 5\n",
    "3 y 4\n",
    "4 y 3\n",
    "5 y 2\n",
    "6 y 1\n",
    "\n",
    "Para 8:\n",
    "2 y 6\n",
    "3 y 5\n",
    "4 y 4\n",
    "5 y 3\n",
    "6 y 2\n",
    "\n",
    "Para 9:\n",
    "3 y 6\n",
    "4 y 5\n",
    "5 y 4\n",
    "6 y 3\n",
    "\n"
   ]
  },
  {
   "cell_type": "code",
   "execution_count": 4,
   "id": "41bc3267",
   "metadata": {},
   "outputs": [
    {
     "name": "stdout",
     "output_type": "stream",
     "text": [
      "0.4166666666666667\n"
     ]
    }
   ],
   "source": [
    "p= dict\n",
    "p={\n",
    "    \"dado7\":6,\n",
    "    \"dado8\":5,\n",
    "    \"dado9\":4,\n",
    "    \"total\":36\n",
    "}\n",
    "\n",
    "p[\"dado7-9\"]=(p[\"dado7\"]+p[\"dado8\"]+p[\"dado9\"])/p[\"total\"]\n",
    "print(p[\"dado7-9\"])"
   ]
  },
  {
   "cell_type": "code",
   "execution_count": null,
   "id": "e6e7052c",
   "metadata": {},
   "outputs": [],
   "source": [
    "La probabilidad de ganar la apuesta es de 41,6%"
   ]
  },
  {
   "cell_type": "markdown",
   "id": "1a731836",
   "metadata": {},
   "source": [
    "## Problema 1"
   ]
  },
  {
   "cell_type": "markdown",
   "id": "71921c28",
   "metadata": {},
   "source": [
    "Una empresa recibe llamadas telefónicas de sus clientes y el tiempo de espera entre cada llamada sigue \n",
    "una distribución exponencial, con una tasa de llegada promedio de 4 llamadas por hora. El jefe (The Big \n",
    "Boss) quiere saber cuál es la probabilidad de que la empresa tenga que esperar más de 10 minutos entre \n",
    "dos llamadas consecutivas. Si no le responde pronto, lo reemplaza. Resuélvalo con Python."
   ]
  },
  {
   "cell_type": "code",
   "execution_count": null,
   "id": "ff027314",
   "metadata": {},
   "outputs": [],
   "source": [
    "media: 4 llamadas/hora\n",
    "\n"
   ]
  },
  {
   "cell_type": "code",
   "execution_count": 5,
   "id": "6a39a838",
   "metadata": {},
   "outputs": [],
   "source": [
    "import numpy as np\n",
    "from scipy import stats\n",
    "from scipy.stats import expon"
   ]
  },
  {
   "cell_type": "code",
   "execution_count": 8,
   "id": "1810d053",
   "metadata": {},
   "outputs": [],
   "source": [
    "t=expon.cdf(10, loc=0, scale=4) #Calcula P(X<10)"
   ]
  },
  {
   "cell_type": "code",
   "execution_count": 9,
   "id": "1b1ba338",
   "metadata": {},
   "outputs": [
    {
     "data": {
      "text/plain": [
       "0.08208499862389884"
      ]
     },
     "execution_count": 9,
     "metadata": {},
     "output_type": "execute_result"
    }
   ],
   "source": [
    "1-t"
   ]
  },
  {
   "cell_type": "code",
   "execution_count": null,
   "id": "aa485444",
   "metadata": {},
   "outputs": [],
   "source": [
    "La probabilidad de que la empresa tenga que esperar mas de 10 minutos entre dos llamados consecutivos es de 8,2%"
   ]
  }
 ],
 "metadata": {
  "kernelspec": {
   "display_name": "Python 3 (ipykernel)",
   "language": "python",
   "name": "python3"
  },
  "language_info": {
   "codemirror_mode": {
    "name": "ipython",
    "version": 3
   },
   "file_extension": ".py",
   "mimetype": "text/x-python",
   "name": "python",
   "nbconvert_exporter": "python",
   "pygments_lexer": "ipython3",
   "version": "3.10.9"
  }
 },
 "nbformat": 4,
 "nbformat_minor": 5
}
