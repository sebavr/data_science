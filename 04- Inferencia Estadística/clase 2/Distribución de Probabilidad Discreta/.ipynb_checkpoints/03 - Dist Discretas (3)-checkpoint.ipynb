{
 "cells": [
  {
   "cell_type": "markdown",
   "id": "74f05328-564a-48da-b9c3-9b67f58cfed0",
   "metadata": {},
   "source": [
    "## Graficando distribuciones"
   ]
  },
  {
   "cell_type": "markdown",
   "id": "0841b7e5-10d5-4b04-9719-c1fcb1cc60b1",
   "metadata": {},
   "source": [
    "### Histogramas"
   ]
  },
  {
   "cell_type": "markdown",
   "id": "203ee48e-d6ff-4fea-9d67-e9a16fe5dae7",
   "metadata": {},
   "source": [
    "Una de las mejores maneras de describir una variable es representar los valores que aparecen en el conjunto de datos y el número de veces que aparece cada valor. La representación más común de una distribución es un histograma, que es un gráfico que muestra la frecuencia de cada valor.\n",
    "\n",
    "En Python, podemos graficar fácilmente un histograma con la ayuda de la función hist de matplotlib, simplemente debemos pasarle los datos y la cantidad de contenedores en los que queremos dividirlos. Por ejemplo, podríamos graficar el histograma de una distribución normal del siguiente modo."
   ]
  },
  {
   "cell_type": "code",
   "execution_count": 1,
   "id": "70044b64-a4da-42f5-aade-e2b147fffcde",
   "metadata": {},
   "outputs": [],
   "source": [
    "# importando modulos necesarios\n",
    "%matplotlib inline\n",
    "\n",
    "import matplotlib.pyplot as plt\n",
    "import numpy as np \n",
    "from scipy import stats \n",
    "import seaborn as sns \n",
    "\n",
    "np.random.seed(2016) # replicar random\n",
    "\n",
    "# parametros esteticos de seaborn\n",
    "sns.set_palette(\"deep\", desat=.6)\n",
    "sns.set_context(rc={\"figure.figsize\": (8, 4)})"
   ]
  },
  {
   "cell_type": "code",
   "execution_count": 3,
   "id": "943b7d5e-dc94-4a42-a967-0331a8fdbf6a",
   "metadata": {},
   "outputs": [
    {
     "data": {
      "image/png": "[encoded data removed]",
      "text/plain": [
       "<Figure size 640x480 with 1 Axes>"
      ]
     },
     "metadata": {},
     "output_type": "display_data"
    }
   ],
   "source": [
    "# Graficando histograma\n",
    "mu, sigma = 0, 0.2 # media y desvio estandar\n",
    "datos = np.random.normal(mu, sigma, 1000) #creando muestra de datos\n",
    "\n",
    "# histograma de distribución normal.\n",
    "cuenta, cajas, ignorar = plt.hist(datos, 20)\n",
    "plt.ylabel('frequencia')\n",
    "plt.xlabel('valores')\n",
    "plt.title('Histograma')\n",
    "plt.show()"
   ]
  },
  {
   "cell_type": "markdown",
   "id": "a5abe594-ca8a-4497-9b62-36ae75195954",
   "metadata": {},
   "source": [
    "### Función de masa de Probabilidad"
   ]
  },
  {
   "cell_type": "markdown",
   "id": "46b08b76-25f5-4b84-af43-9114d9c98232",
   "metadata": {},
   "source": [
    "Otra forma de representar a las distribuciones discretas es utilizando su Función de Masa de Probabilidad o FMP, la cual relaciona cada valor con su probabilidad en lugar de su frecuencia como vimos anteriormente. Esta función es normalizada de forma tal que el valor total de probabilidad sea 1. La ventaja que nos ofrece utilizar la FMP es que podemos comparar dos distribuciones sin necesidad de ser confundidos por las diferencias en el tamaño de las muestras. También debemos tener en cuenta que FMP funciona bien si el número de valores es pequeño; pero a medida que el número de valores aumenta, la probabilidad asociada a cada valor se hace cada vez más pequeña y el efecto del ruido aleatorio aumenta. Veamos un ejemplo con Python.Otra forma de representar a las distribuciones discretas es utilizando su Función de Masa de Probabilidad o FMP, la cual relaciona cada valor con su probabilidad en lugar de su frecuencia como vimos anteriormente. Esta función es normalizada de forma tal que el valor total de probabilidad sea 1. La ventaja que nos ofrece utilizar la FMP es que podemos comparar dos distribuciones sin necesidad de ser confundidos por las diferencias en el tamaño de las muestras. También debemos tener en cuenta que FMP funciona bien si el número de valores es pequeño; pero a medida que el número de valores aumenta, la probabilidad asociada a cada valor se hace cada vez más pequeña y el efecto del ruido aleatorio aumenta. Veamos un ejemplo con Python."
   ]
  },
  {
   "cell_type": "code",
   "execution_count": null,
   "id": "dc7f420d-f684-4501-8ca7-6ba55b19b088",
   "metadata": {},
   "outputs": [],
   "source": [
    "# Graficando FMP\n",
    "n, p = 30, 0.4 # parametros de forma de la distribución binomial\n",
    "n_1, p_1 = 20, 0.3 # parametros de forma de la distribución binomial\n",
    "x = np.arange(stats.binom.ppf(0.01, n, p),\n",
    "              stats.binom.ppf(0.99, n, p))\n",
    "x_1 = np.arange(stats.binom.ppf(0.01, n_1, p_1),\n",
    "              stats.binom.ppf(0.99, n_1, p_1))\n",
    "fmp = stats.binom.pmf(x, n, p) # Función de Masa de Probabilidad\n",
    "fmp_1 = stats.binom.pmf(x_1, n_1, p_1) # Función de Masa de Probabilidad\n",
    "plt.plot(x, fmp, '--')\n",
    "plt.plot(x_1, fmp_1)\n",
    "plt.vlines(x, 0, fmp, colors='b', lw=5, alpha=0.5)\n",
    "plt.vlines(x_1, 0, fmp_1, colors='g', lw=5, alpha=0.5)\n",
    "plt.title('Función de Masa de Probabilidad')\n",
    "plt.ylabel('probabilidad')\n",
    "plt.xlabel('valores')\n",
    "plt.show()"
   ]
  },
  {
   "cell_type": "markdown",
   "id": "364a8a36-b5f6-4083-8c98-172de80f3450",
   "metadata": {},
   "source": [
    "### Función de Distribución Acumulada"
   ]
  },
  {
   "cell_type": "markdown",
   "id": "5d40ca80-1495-400e-9031-e99d4593a58c",
   "metadata": {},
   "source": [
    "Si queremos evitar los problemas que se generan con FMP cuando el número de valores es muy grande, podemos recurrir a utilizar la Función de Distribución Acumulada o FDA, para representar a nuestras distribuciones, tanto discretas como continuas. Esta función relaciona los valores con su correspondiente percentil; es decir que va a describir la probabilidad de que una variable aleatoria X sujeta a cierta ley de distribución de probabilidad se sitúe en la zona de valores menores o iguales a x."
   ]
  },
  {
   "cell_type": "code",
   "execution_count": null,
   "id": "1c61ba9f-a1ed-4ca5-bd94-65e866fafbbb",
   "metadata": {},
   "outputs": [],
   "source": [
    "# Graficando Función de Distribución Acumulada con Python\n",
    "x_1 = np.linspace(stats.norm(10, 1.2).ppf(0.01),\n",
    "                  stats.norm(10, 1.2).ppf(0.99), 100)\n",
    "fda_binom = stats.binom.cdf(x, n, p) # Función de Distribución Acumulada\n",
    "fda_normal = stats.norm(10, 1.2).cdf(x_1) # Función de Distribución Acumulada\n",
    "plt.plot(x, fda_binom, '--', label='FDA binomial')\n",
    "plt.plot(x_1, fda_normal, label='FDA nomal')\n",
    "plt.title('Función de Distribución Acumulada')\n",
    "plt.ylabel('probabilidad')\n",
    "plt.xlabel('valores')\n",
    "plt.legend(loc=4)\n",
    "plt.show()"
   ]
  },
  {
   "cell_type": "markdown",
   "id": "b76e5322-930e-41dd-9ea7-4af364adf46f",
   "metadata": {},
   "source": [
    "### Fucnión de Densidad de Probabilidad"
   ]
  },
  {
   "cell_type": "markdown",
   "id": "12913163-2068-48ea-b3a2-7c7c3cd12614",
   "metadata": {},
   "source": [
    "Por último, el equivalente a la FMP para distribuciones continuas es la Función de Densidad de Probabilidad o FDP. Esta función es la derivada de la Función de Distribución Acumulada. Por ejemplo, para la distribución normal que graficamos anteriormente, su FDP es la siguiente. La típica forma de campana que caracteriza a esta distribución."
   ]
  },
  {
   "cell_type": "code",
   "execution_count": null,
   "id": "154364f7-e265-455e-bfce-73dca7fa9867",
   "metadata": {},
   "outputs": [],
   "source": [
    "\n",
    "# Graficando Función de Densidad de Probibilidad con Python\n",
    "FDP_normal = stats.norm(10, 1.2).pdf(x_1) # FDP\n",
    "plt.plot(x_1, FDP_normal, label='FDP nomal')\n",
    "plt.title('Función de Densidad de Probabilidad')\n",
    "plt.ylabel('probabilidad')\n",
    "plt.xlabel('valores')\n",
    "plt.show()"
   ]
  },
  {
   "cell_type": "markdown",
   "id": "81b1faa2-88f5-4587-942f-91b1dde2ba12",
   "metadata": {},
   "source": [
    "## Distribuciones Discretas"
   ]
  },
  {
   "cell_type": "markdown",
   "id": "74a48f8c-d0bd-4cd7-babd-46ec22afd940",
   "metadata": {},
   "source": [
    "### Distribución Poisson"
   ]
  },
  {
   "cell_type": "code",
   "execution_count": null,
   "id": "cffd763b-ee44-4e50-87a6-e27b2a96fcc0",
   "metadata": {},
   "outputs": [],
   "source": [
    "# Graficando Poisson\n",
    "mu =  3.6 # parametro de forma \n",
    "poisson = stats.poisson(mu) # Distribución\n",
    "x = np.arange(poisson.ppf(0.01),\n",
    "              poisson.ppf(0.99))\n",
    "fmp = poisson.pmf(x) # Función de Masa de Probabilidad\n",
    "plt.plot(x, fmp, '--')\n",
    "plt.vlines(x, 0, fmp, colors='b', lw=5, alpha=0.5)\n",
    "plt.title('Distribución Poisson')\n",
    "plt.ylabel('probabilidad')\n",
    "plt.xlabel('valores')\n",
    "plt.show()"
   ]
  },
  {
   "cell_type": "code",
   "execution_count": null,
   "id": "c020ab0b-6346-42d6-a07c-82175c6319dc",
   "metadata": {},
   "outputs": [],
   "source": [
    "# histograma\n",
    "aleatorios = poisson.rvs(1000)  # genera aleatorios\n",
    "cuenta, cajas, ignorar = plt.hist(aleatorios, 20)\n",
    "plt.ylabel('frequencia')\n",
    "plt.xlabel('valores')\n",
    "plt.title('Histograma Poisson')\n",
    "plt.show()"
   ]
  },
  {
   "cell_type": "markdown",
   "id": "ad5c5021-b99e-44fd-b35f-b2203aac11b2",
   "metadata": {},
   "source": [
    "### Distribución Binomial"
   ]
  },
  {
   "cell_type": "code",
   "execution_count": null,
   "id": "90c3bec8-e42a-4507-b191-84b459359d5a",
   "metadata": {},
   "outputs": [],
   "source": [
    "# Graficando Binomial\n",
    "N, p = 30, 0.4 # parametros de forma \n",
    "binomial = stats.binom(N, p) # Distribución\n",
    "x = np.arange(binomial.ppf(0.01),\n",
    "              binomial.ppf(0.99))\n",
    "fmp = binomial.pmf(x) # Función de Masa de Probabilidad\n",
    "plt.plot(x, fmp, '--')\n",
    "plt.vlines(x, 0, fmp, colors='b', lw=5, alpha=0.5)\n",
    "plt.title('Distribución Binomial')\n",
    "plt.ylabel('probabilidad')\n",
    "plt.xlabel('valores')\n",
    "plt.show()"
   ]
  },
  {
   "cell_type": "code",
   "execution_count": null,
   "id": "e17f8af3-ca07-4cf6-bd7e-15b61ad7d10c",
   "metadata": {},
   "outputs": [],
   "source": [
    "\n",
    "# histograma\n",
    "aleatorios = binomial.rvs(1000)  # genera aleatorios\n",
    "cuenta, cajas, ignorar = plt.hist(aleatorios, 20)\n",
    "plt.ylabel('frequencia')\n",
    "plt.xlabel('valores')\n",
    "plt.title('Histograma Binomial')\n",
    "plt.show()"
   ]
  },
  {
   "cell_type": "markdown",
   "id": "e6367aae-308d-406a-941c-c5341c7e8fc8",
   "metadata": {},
   "source": [
    "### Distribución Geométrica"
   ]
  },
  {
   "cell_type": "code",
   "execution_count": null,
   "id": "f19c6ad6-43df-493e-b2fa-26085e348c88",
   "metadata": {},
   "outputs": [],
   "source": [
    "\n",
    "# Graficando Geométrica\n",
    "p =  0.3 # parametro de forma \n",
    "geometrica = stats.geom(p) # Distribución\n",
    "x = np.arange(geometrica.ppf(0.01),\n",
    "              geometrica.ppf(0.99))\n",
    "fmp = geometrica.pmf(x) # Función de Masa de Probabilidad\n",
    "plt.plot(x, fmp, '--')\n",
    "plt.vlines(x, 0, fmp, colors='b', lw=5, alpha=0.5)\n",
    "plt.title('Distribución Geométrica')\n",
    "plt.ylabel('probabilidad')\n",
    "plt.xlabel('valores')\n",
    "plt.show()"
   ]
  },
  {
   "cell_type": "code",
   "execution_count": null,
   "id": "eeeda757-8038-449e-9e24-1cf4348625a8",
   "metadata": {},
   "outputs": [],
   "source": [
    "\n",
    "# histograma\n",
    "aleatorios = geometrica.rvs(1000)  # genera aleatorios\n",
    "cuenta, cajas, ignorar = plt.hist(aleatorios, 20)\n",
    "plt.ylabel('frequencia')\n",
    "plt.xlabel('valores')\n",
    "plt.title('Histograma Geométrica')\n",
    "plt.show()"
   ]
  },
  {
   "cell_type": "markdown",
   "id": "df102352-a813-421e-8b47-3b98f6d38197",
   "metadata": {},
   "source": [
    "### Distribución Hipergeométrica"
   ]
  },
  {
   "cell_type": "code",
   "execution_count": null,
   "id": "c6847fc6-6f14-405d-8577-5cb674959141",
   "metadata": {},
   "outputs": [],
   "source": [
    "# Graficando Hipergeométrica\n",
    "M, n, N = 30, 10, 12 # parametros de forma \n",
    "hipergeometrica = stats.hypergeom(M, n, N) # Distribución\n",
    "x = np.arange(0, n+1)\n",
    "fmp = hipergeometrica.pmf(x) # Función de Masa de Probabilidad\n",
    "plt.plot(x, fmp, '--')\n",
    "plt.vlines(x, 0, fmp, colors='b', lw=5, alpha=0.5)\n",
    "plt.title('Distribución Hipergeométrica')\n",
    "plt.ylabel('probabilidad')\n",
    "plt.xlabel('valores')\n",
    "plt.show()"
   ]
  },
  {
   "cell_type": "code",
   "execution_count": null,
   "id": "81e34053-7f3f-459b-b394-60b4dc011212",
   "metadata": {},
   "outputs": [],
   "source": [
    "# histograma\n",
    "aleatorios = hipergeometrica.rvs(1000)  # genera aleatorios\n",
    "cuenta, cajas, ignorar = plt.hist(aleatorios, 20)\n",
    "plt.ylabel('frequencia')\n",
    "plt.xlabel('valores')\n",
    "plt.title('Histograma Hipergeométrica')\n",
    "plt.show()\n"
   ]
  },
  {
   "cell_type": "markdown",
   "id": "10434a79-4f8a-4687-adba-394f9ff2e793",
   "metadata": {},
   "source": [
    "### Distribución de Bernoulli"
   ]
  },
  {
   "cell_type": "code",
   "execution_count": null,
   "id": "0de2cef5-f900-4b95-b93f-48e929623228",
   "metadata": {},
   "outputs": [],
   "source": [
    "\n",
    "# Graficando Bernoulli\n",
    "p =  0.5 # parametro de forma \n",
    "bernoulli = stats.bernoulli(p)\n",
    "x = np.arange(-1, 3)\n",
    "fmp = bernoulli.pmf(x) # Función de Masa de Probabilidad\n",
    "fig, ax = plt.subplots()\n",
    "ax.plot(x, fmp, 'bo')\n",
    "ax.vlines(x, 0, fmp, colors='b', lw=5, alpha=0.5)\n",
    "ax.set_yticks([0., 0.2, 0.4, 0.6])\n",
    "plt.title('Distribución Bernoulli')\n",
    "plt.ylabel('probabilidad')\n",
    "plt.xlabel('valores')\n",
    "plt.show()"
   ]
  },
  {
   "cell_type": "code",
   "execution_count": null,
   "id": "85c4fde4-7a9e-448c-b555-4316761419db",
   "metadata": {},
   "outputs": [],
   "source": [
    "# histograma\n",
    "aleatorios = bernoulli.rvs(1000)  # genera aleatorios\n",
    "cuenta, cajas, ignorar = plt.hist(aleatorios, 20)\n",
    "plt.ylabel('frequencia')\n",
    "plt.xlabel('valores')\n",
    "plt.title('Histograma Bernoulli')\n",
    "plt.show()"
   ]
  }
 ],
 "metadata": {
  "kernelspec": {
   "display_name": "Python 3 (ipykernel)",
   "language": "python",
   "name": "python3"
  },
  "language_info": {
   "codemirror_mode": {
    "name": "ipython",
    "version": 3
   },
   "file_extension": ".py",
   "mimetype": "text/x-python",
   "name": "python",
   "nbconvert_exporter": "python",
   "pygments_lexer": "ipython3",
   "version": "3.10.9"
  }
 },
 "nbformat": 4,
 "nbformat_minor": 5
}
