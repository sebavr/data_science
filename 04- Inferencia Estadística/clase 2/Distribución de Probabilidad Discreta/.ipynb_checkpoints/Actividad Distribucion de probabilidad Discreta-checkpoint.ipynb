{
 "cells": [
  {
   "cell_type": "markdown",
   "id": "0dc3b3a3",
   "metadata": {},
   "source": [
    "# Problema 1\n"
   ]
  },
  {
   "cell_type": "markdown",
   "id": "823f777b",
   "metadata": {},
   "source": [
    "Un estudio determinó que al seleccionar al azar adultos que poseen teléfonos inteligentes, el 54% de \n",
    "ellos los usa estando en clase o en reuniones. Se quiere encontrar la probabilidad de que, seleccionando \n",
    "al azar 8 personas con teléfono inteligente, exactamente 6 de ellas los utilicen en clase o reuniones.\n"
   ]
  },
  {
   "cell_type": "markdown",
   "id": "ee6cdc6d",
   "metadata": {},
   "source": [
    "#### Respuesta:"
   ]
  },
  {
   "cell_type": "markdown",
   "id": "7027dff9",
   "metadata": {},
   "source": [
    "Dado que trata de una selección al azar donde es posible solo dos posibles resultados(en clase o reuniones) este enunciado sigue la distribución de Binomial. Esto porque además se repite 8 veces."
   ]
  },
  {
   "cell_type": "code",
   "execution_count": 14,
   "id": "69d5e200",
   "metadata": {},
   "outputs": [
    {
     "data": {
      "text/plain": [
       "0.14690489044654095"
      ]
     },
     "execution_count": 14,
     "metadata": {},
     "output_type": "execute_result"
    }
   ],
   "source": [
    "# importando modulos necesarios\n",
    "%matplotlib inline\n",
    "\n",
    "import matplotlib.pyplot as plt\n",
    "import numpy as np \n",
    "from scipy import stats \n",
    "import seaborn as sns \n",
    "\n",
    "\n",
    "#Calculando\n",
    "\n",
    "#calcular la probabilidad binomial \n",
    "stats.binom.pmf (k = 6 , n = 8 , p = 0.54)\n",
    "\n"
   ]
  },
  {
   "cell_type": "markdown",
   "id": "4559ea0a",
   "metadata": {},
   "source": [
    "Esto quiere decir que hay un 14,69% de que al seleccionar 8 personas con teléfono inteligente, 6 de ellas lo utilicen en clase o reuniones."
   ]
  },
  {
   "cell_type": "markdown",
   "id": "e2233d2f",
   "metadata": {},
   "source": [
    "# Problema 2\n"
   ]
  },
  {
   "cell_type": "markdown",
   "id": "4fb81756",
   "metadata": {},
   "source": [
    "Durante un año reciente, una clínica registró 4221 nacimientos. Con este dato único, determinar la \n",
    "probabilidad de que haya 15 nacimientos en 1 día. ¿Es poco frecuente este suceso?\n"
   ]
  },
  {
   "cell_type": "markdown",
   "id": "81b7c282",
   "metadata": {},
   "source": [
    "#### Respuesta:"
   ]
  },
  {
   "cell_type": "code",
   "execution_count": null,
   "id": "758171c6",
   "metadata": {},
   "outputs": [],
   "source": [
    "Este sigue el orden Poisson, debido a que son eventos independientes(nacimientos) que ocurren en un intervalo de tiempo.\n",
    "La variable es la cantidad de nacimientos y el intervalo es 1 dia."
   ]
  },
  {
   "cell_type": "code",
   "execution_count": 33,
   "id": "d9f58490",
   "metadata": {},
   "outputs": [
    {
     "name": "stdout",
     "output_type": "stream",
     "text": [
      "11.564383561643835\n"
     ]
    }
   ],
   "source": [
    "#probabilidad de 15 nacimientos al dia\n",
    "p=15 #nacimientos/dia\n",
    "p_nacimientos =4221/365\n",
    "print(p_nacimientos)\n",
    "mu=p_nacimientos"
   ]
  },
  {
   "cell_type": "code",
   "execution_count": 36,
   "id": "e4327b99",
   "metadata": {},
   "outputs": [
    {
     "data": {
      "text/plain": [
       "0.06426725297344572"
      ]
     },
     "execution_count": 36,
     "metadata": {},
     "output_type": "execute_result"
    }
   ],
   "source": [
    "stats.poisson.pmf(mu=11.564383561643835, k=15)"
   ]
  },
  {
   "cell_type": "markdown",
   "id": "b66145d6",
   "metadata": {},
   "source": [
    "Esto quiere decir que hay un 6,42% de que haya 15 nacimientos en un dia. "
   ]
  },
  {
   "cell_type": "code",
   "execution_count": null,
   "id": "98bb63ef",
   "metadata": {},
   "outputs": [],
   "source": []
  }
 ],
 "metadata": {
  "kernelspec": {
   "display_name": "Python 3 (ipykernel)",
   "language": "python",
   "name": "python3"
  },
  "language_info": {
   "codemirror_mode": {
    "name": "ipython",
    "version": 3
   },
   "file_extension": ".py",
   "mimetype": "text/x-python",
   "name": "python",
   "nbconvert_exporter": "python",
   "pygments_lexer": "ipython3",
   "version": "3.10.9"
  }
 },
 "nbformat": 4,
 "nbformat_minor": 5
}
