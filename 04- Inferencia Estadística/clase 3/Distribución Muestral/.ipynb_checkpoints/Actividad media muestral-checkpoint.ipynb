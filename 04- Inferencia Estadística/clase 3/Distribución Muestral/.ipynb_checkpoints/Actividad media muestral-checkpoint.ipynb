{
 "cells": [
  {
   "cell_type": "markdown",
   "id": "f2f4d0f7",
   "metadata": {},
   "source": [
    "### 1) La duración media de las bombillas de una determinada marca sigue una distribución normal $N(1500,160)$"
   ]
  },
  {
   "cell_type": "markdown",
   "id": "364ff7e2",
   "metadata": {},
   "source": [
    "#### Si escogemos una bombilla al azar, ¿cuál es la probabilidad de que funcione más de 1524 horas?"
   ]
  },
  {
   "cell_type": "code",
   "execution_count": 9,
   "id": "aaca2909",
   "metadata": {},
   "outputs": [],
   "source": [
    "# importando modulos necesarios\n",
    "%matplotlib inline\n",
    "\n",
    "import matplotlib.pyplot as plt\n",
    "import numpy as np \n",
    "from scipy import stats \n",
    "import seaborn as sns \n",
    "from scipy.stats import norm"
   ]
  },
  {
   "cell_type": "code",
   "execution_count": 20,
   "id": "82112cb7",
   "metadata": {},
   "outputs": [],
   "source": [
    "def probabilidad(mu,desv,x):\n",
    "    distribucion_normal=stats.norm(mu,desv)\n",
    "    pr=distribucion_normal.cdf(x)\n",
    "    print(pr)\n"
   ]
  },
  {
   "cell_type": "code",
   "execution_count": 21,
   "id": "5d37f916",
   "metadata": {
    "scrolled": true
   },
   "outputs": [
    {
     "name": "stdout",
     "output_type": "stream",
     "text": [
      "0.5596176923702425\n"
     ]
    }
   ],
   "source": [
    "mu=1500\n",
    "desv=160\n",
    "\n",
    "probabilidad(mu,desv,1524)"
   ]
  },
  {
   "cell_type": "code",
   "execution_count": 18,
   "id": "a58a7cd4",
   "metadata": {},
   "outputs": [],
   "source": [
    "#cdf menor\n",
    "#sdf superior"
   ]
  },
  {
   "cell_type": "code",
   "execution_count": 23,
   "id": "a427739d",
   "metadata": {},
   "outputs": [
    {
     "data": {
      "text/plain": [
       "0.4403823076297575"
      ]
     },
     "execution_count": 23,
     "metadata": {},
     "output_type": "execute_result"
    }
   ],
   "source": [
    "1-0.5596176923702425"
   ]
  },
  {
   "cell_type": "markdown",
   "id": "9925356a",
   "metadata": {},
   "source": [
    "La probabilidad que funcione más de 1524 horas es de 44,03%"
   ]
  },
  {
   "cell_type": "markdown",
   "id": "062a9385",
   "metadata": {},
   "source": [
    "#### Si escogemos una muestra de 100 bombillas y calculamos su duración media, ¿cuál es la probabilidad de que sea superior a 1524 horas?"
   ]
  },
  {
   "cell_type": "code",
   "execution_count": 24,
   "id": "7cfd17a2",
   "metadata": {},
   "outputs": [
    {
     "name": "stdout",
     "output_type": "stream",
     "text": [
      "0.9331927987311419\n"
     ]
    }
   ],
   "source": [
    "desv=16\n",
    "probabilidad(mu,desv,1524)\n"
   ]
  },
  {
   "cell_type": "code",
   "execution_count": 25,
   "id": "bae76079",
   "metadata": {},
   "outputs": [
    {
     "data": {
      "text/plain": [
       "0.06680720126885809"
      ]
     },
     "execution_count": 25,
     "metadata": {},
     "output_type": "execute_result"
    }
   ],
   "source": [
    "1-0.9331927987311419"
   ]
  },
  {
   "cell_type": "markdown",
   "id": "2b2332f9",
   "metadata": {},
   "source": [
    "La probabilidad que funcione más de 1524 horas es de 6,68%"
   ]
  },
  {
   "cell_type": "markdown",
   "id": "2d0b43e1",
   "metadata": {},
   "source": [
    "### 2.Los pesos de las ovejas de una cierta ganadería tienen una media de 50 kg con una desviación típica de 4. Elegimos al azar una muestra aleatoria simple de 100 ovejas. Determina:"
   ]
  },
  {
   "cell_type": "markdown",
   "id": "d01c198b",
   "metadata": {},
   "source": [
    "- La probabilidad de que su media sea superior a 51 kg.\n",
    "\n",
    "- La probabilidad de que su media sea inferior a 56 kg.\n",
    "\n",
    "- La probabilidad de que su media sea superior a 49 kg.\n",
    "\n",
    "- La probabilidad de que su media esté entre 49,5 kg y 50,3 kg.\n",
    "\n",
    "- Interpretar los resultados obtenidos."
   ]
  },
  {
   "cell_type": "markdown",
   "id": "8a0adbbb",
   "metadata": {},
   "source": [
    "#### La probabilidad de que su media sea superior a 51 kg."
   ]
  },
  {
   "cell_type": "code",
   "execution_count": 30,
   "id": "f234cb09",
   "metadata": {},
   "outputs": [
    {
     "name": "stdout",
     "output_type": "stream",
     "text": [
      "0.9937903346742238\n"
     ]
    }
   ],
   "source": [
    "desv=4/pow( 100, 1/2)\n",
    "mu=50\n",
    "\n",
    "probabilidad(mu,desv,51)"
   ]
  },
  {
   "cell_type": "code",
   "execution_count": 31,
   "id": "f827c508",
   "metadata": {},
   "outputs": [
    {
     "data": {
      "text/plain": [
       "0.006209665325776159"
      ]
     },
     "execution_count": 31,
     "metadata": {},
     "output_type": "execute_result"
    }
   ],
   "source": [
    "1-0.9937903346742238"
   ]
  },
  {
   "cell_type": "markdown",
   "id": "98b2c3cb",
   "metadata": {},
   "source": [
    "Hay una probabilidad de 0,62% de que la media sea superior a 51 kg"
   ]
  },
  {
   "cell_type": "markdown",
   "id": "6d7160e5",
   "metadata": {},
   "source": [
    "#### La probabilidad de que su media sea inferior a 56 kg."
   ]
  },
  {
   "cell_type": "code",
   "execution_count": 32,
   "id": "782be639",
   "metadata": {},
   "outputs": [
    {
     "name": "stdout",
     "output_type": "stream",
     "text": [
      "1.0\n"
     ]
    }
   ],
   "source": [
    "probabilidad(mu,desv,56)"
   ]
  },
  {
   "cell_type": "markdown",
   "id": "6254300a",
   "metadata": {},
   "source": [
    "La probabilidad de que la media sea inferior a 56 kg es de 100%"
   ]
  },
  {
   "cell_type": "markdown",
   "id": "dafafbb2",
   "metadata": {},
   "source": [
    "#### La probabilidad de que su media sea superior a 49 kg."
   ]
  },
  {
   "cell_type": "code",
   "execution_count": 36,
   "id": "ca006796",
   "metadata": {},
   "outputs": [
    {
     "name": "stdout",
     "output_type": "stream",
     "text": [
      "0.006209665325776132\n"
     ]
    }
   ],
   "source": [
    " probabilidad(mu,desv,49)"
   ]
  },
  {
   "cell_type": "code",
   "execution_count": 37,
   "id": "a11a9800",
   "metadata": {},
   "outputs": [
    {
     "data": {
      "text/plain": [
       "0.9937903346742238"
      ]
     },
     "execution_count": 37,
     "metadata": {},
     "output_type": "execute_result"
    }
   ],
   "source": [
    "1-0.006209665325776132"
   ]
  },
  {
   "cell_type": "markdown",
   "id": "277766f8",
   "metadata": {},
   "source": [
    "Hay una probabilidad de 99,37% de que la media sea superior a 49 kg"
   ]
  },
  {
   "cell_type": "markdown",
   "id": "7b758284",
   "metadata": {},
   "source": [
    "####  La probabilidad de que su media esté entre 49,5 kg y 50,3 kg."
   ]
  },
  {
   "cell_type": "code",
   "execution_count": 61,
   "id": "02490579",
   "metadata": {},
   "outputs": [
    {
     "name": "stdout",
     "output_type": "stream",
     "text": [
      "0.7733726476231296\n"
     ]
    }
   ],
   "source": [
    "a= probabilidad(mu,desv,50.3)\n"
   ]
  },
  {
   "cell_type": "code",
   "execution_count": 62,
   "id": "a80bbe10",
   "metadata": {},
   "outputs": [
    {
     "name": "stdout",
     "output_type": "stream",
     "text": [
      "0.10564977366685535\n"
     ]
    }
   ],
   "source": [
    "b= probabilidad(mu,desv,49.5)"
   ]
  },
  {
   "cell_type": "code",
   "execution_count": 64,
   "id": "fd916819",
   "metadata": {},
   "outputs": [
    {
     "data": {
      "text/plain": [
       "0.6677228739562743"
      ]
     },
     "execution_count": 64,
     "metadata": {},
     "output_type": "execute_result"
    }
   ],
   "source": [
    "0.7733726476231296-0.10564977366685535"
   ]
  },
  {
   "cell_type": "markdown",
   "id": "256b5b6d",
   "metadata": {},
   "source": [
    "La probabuilidad de que la media este entre 49,5 y 50,3 es de 66,77%"
   ]
  },
  {
   "cell_type": "code",
   "execution_count": null,
   "id": "16910843",
   "metadata": {},
   "outputs": [],
   "source": []
  }
 ],
 "metadata": {
  "kernelspec": {
   "display_name": "Python 3 (ipykernel)",
   "language": "python",
   "name": "python3"
  },
  "language_info": {
   "codemirror_mode": {
    "name": "ipython",
    "version": 3
   },
   "file_extension": ".py",
   "mimetype": "text/x-python",
   "name": "python",
   "nbconvert_exporter": "python",
   "pygments_lexer": "ipython3",
   "version": "3.10.9"
  }
 },
 "nbformat": 4,
 "nbformat_minor": 5
}
