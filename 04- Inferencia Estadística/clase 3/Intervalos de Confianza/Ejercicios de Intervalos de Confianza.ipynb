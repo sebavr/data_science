{
 "cells": [
  {
   "cell_type": "markdown",
   "id": "362cb4f8",
   "metadata": {},
   "source": [
    "#### Respuesta:"
   ]
  },
  {
   "cell_type": "markdown",
   "id": "1ee8431e",
   "metadata": {},
   "source": [
    "## Problema 1"
   ]
  },
  {
   "cell_type": "markdown",
   "id": "003d2419",
   "metadata": {},
   "source": [
    "Se hizo una encuesta a 325 personas mayores de 16 años y se encontró que 120 iban al teatro \n",
    "regularmente. Hallar, con un nivel de confianza del 94%, un intervalo para estudiar la proporción de los \n",
    "ciudadanos que van al teatro regularmente."
   ]
  },
  {
   "cell_type": "markdown",
   "id": "51be3fbf",
   "metadata": {},
   "source": [
    "- 1= <b> va al teatro regularmente</b>\n",
    "- 0=  <b> no va el teatro regularmente</b>"
   ]
  },
  {
   "cell_type": "code",
   "execution_count": 58,
   "id": "a2caea91",
   "metadata": {},
   "outputs": [
    {
     "data": {
      "text/plain": [
       "0.36923076923076925"
      ]
     },
     "execution_count": 58,
     "metadata": {},
     "output_type": "execute_result"
    }
   ],
   "source": [
    "p=120/325\n",
    "p"
   ]
  },
  {
   "cell_type": "markdown",
   "id": "bc7258da",
   "metadata": {},
   "source": [
    "Sera la proporcion mediade que los ciudadanos vayan al teatro regularmente"
   ]
  },
  {
   "cell_type": "code",
   "execution_count": 59,
   "id": "851c3005",
   "metadata": {},
   "outputs": [
    {
     "name": "stderr",
     "output_type": "stream",
     "text": [
      "C:\\Users\\Sebastian\\AppData\\Local\\Temp\\ipykernel_4700\\3803315904.py:23: DeprecationWarning: Use of keyword argument 'alpha' for method 'interval' is deprecated and wil be removed in SciPy 1.11.0. Use first positional argument or keyword argument 'confidence' instead.\n",
      "  st.norm.interval(alpha = 0.94 , loc = 0.37, scale = st.sem (a))\n"
     ]
    },
    {
     "data": {
      "text/plain": [
       "(0.31805957154820697, 0.421940428451793)"
      ]
     },
     "execution_count": 59,
     "metadata": {},
     "output_type": "execute_result"
    }
   ],
   "source": [
    "import numpy as np\n",
    "import scipy.stats\n",
    "# Creamos la muestra del ejercicio\n",
    "import random\n",
    "muestra=[]\n",
    "for i in range(0,325):\n",
    "    if i<=179:\n",
    "        muestra.append(1)\n",
    "    else:\n",
    "        muestra.append(0)\n",
    "        \n",
    "        \n",
    "\n",
    "random.shuffle(muestra)\n",
    "\n",
    "\n",
    "\n",
    "# Lo transformamos\n",
    "a = 1.0 * np.array(muestra)\n",
    "a\n",
    "\n",
    "\n",
    "st.norm.interval(alpha = 0.94 , loc = 0.37, scale = st.sem (a))"
   ]
  },
  {
   "cell_type": "markdown",
   "id": "df2db014",
   "metadata": {},
   "source": [
    "Con un nivel de confianza del 94% se tiene que el intervalo para estudiar la proporción de ciudadanos que van al teatro regularmente esta entre 0.318 y 0.421"
   ]
  },
  {
   "cell_type": "code",
   "execution_count": null,
   "id": "00ea3be9",
   "metadata": {},
   "outputs": [],
   "source": []
  },
  {
   "cell_type": "markdown",
   "id": "db3376f6",
   "metadata": {},
   "source": [
    "## Problema 2"
   ]
  },
  {
   "cell_type": "markdown",
   "id": "4f73613a",
   "metadata": {},
   "source": [
    "En una encuesta realizada a 800 personas elegidas al azar del censo electoral, 240 declaran su intención de votar al partido A.\n",
    "- a)    Estima, con un nivel de confianza del  95,45 % ,  entre qué valores se encuentra la intención de voto al susodicho partido en todo el censo.\n",
    "- b)    Discute, razonadamente, el efecto que tendría sobre el intervalo de confianza el aumento, o la disminución, del nivel de confianza.\n"
   ]
  },
  {
   "cell_type": "markdown",
   "id": "3f5a0078",
   "metadata": {},
   "source": [
    "- 1= <b> Votar por el partido A </b>\n",
    "- 0=  <b> No vota por el partido A</b>"
   ]
  },
  {
   "cell_type": "code",
   "execution_count": 64,
   "id": "5a21052c",
   "metadata": {},
   "outputs": [
    {
     "data": {
      "text/plain": [
       "array([0., 1., 0., 0., 1., 0., 0., 1., 0., 0., 1., 0., 0., 1., 0., 0., 1.,\n",
       "       1., 0., 1., 0., 0., 0., 0., 0., 0., 0., 1., 0., 1., 1., 0., 0., 0.,\n",
       "       1., 1., 0., 0., 1., 0., 0., 0., 0., 1., 0., 1., 0., 0., 0., 0., 0.,\n",
       "       0., 0., 0., 0., 0., 0., 0., 1., 1., 0., 1., 0., 1., 0., 0., 1., 1.,\n",
       "       0., 0., 0., 0., 0., 0., 0., 0., 1., 0., 0., 0., 1., 0., 0., 1., 1.,\n",
       "       0., 0., 1., 0., 0., 0., 0., 1., 0., 0., 0., 0., 0., 0., 0., 0., 0.,\n",
       "       0., 0., 0., 0., 1., 0., 0., 0., 0., 0., 0., 1., 0., 0., 0., 1., 0.,\n",
       "       0., 1., 1., 0., 0., 1., 0., 0., 0., 1., 1., 0., 0., 1., 0., 0., 0.,\n",
       "       0., 0., 0., 1., 0., 1., 1., 1., 1., 0., 0., 0., 0., 0., 0., 1., 0.,\n",
       "       1., 1., 0., 0., 0., 0., 0., 0., 0., 1., 1., 0., 0., 0., 0., 0., 0.,\n",
       "       0., 0., 0., 0., 0., 1., 1., 0., 1., 0., 1., 0., 1., 0., 0., 1., 1.,\n",
       "       0., 1., 1., 0., 0., 0., 1., 0., 0., 0., 1., 1., 0., 1., 0., 0., 1.,\n",
       "       0., 0., 0., 0., 1., 1., 1., 0., 0., 0., 0., 0., 1., 1., 0., 0., 0.,\n",
       "       1., 1., 0., 0., 1., 0., 0., 0., 0., 0., 1., 1., 0., 0., 1., 0., 0.,\n",
       "       0., 0., 0., 0., 0., 0., 0., 1., 0., 1., 0., 0., 0., 0., 0., 0., 0.,\n",
       "       1., 1., 0., 0., 0., 0., 0., 1., 1., 0., 0., 0., 1., 1., 0., 0., 0.,\n",
       "       0., 0., 0., 0., 1., 0., 0., 1., 0., 0., 0., 1., 0., 0., 0., 0., 1.,\n",
       "       1., 1., 0., 0., 0., 0., 0., 0., 0., 0., 0., 0., 0., 0., 0., 1., 1.,\n",
       "       0., 0., 0., 1., 0., 0., 0., 1., 0., 1., 1., 1., 1., 0., 0., 0., 1.,\n",
       "       1., 1., 0., 0., 1., 0., 0., 1., 0., 1., 1., 0., 1., 1., 1., 0., 0.,\n",
       "       0., 0., 1., 0., 0., 0., 1., 0., 0., 0., 1., 1., 0., 0., 0., 0., 1.,\n",
       "       0., 1., 1., 0., 0., 0., 1., 1., 0., 0., 1., 0., 0., 0., 0., 1., 0.,\n",
       "       0., 1., 0., 1., 0., 0., 1., 0., 0., 0., 0., 1., 0., 0., 1., 0., 0.,\n",
       "       0., 0., 0., 1., 1., 0., 0., 0., 0., 1., 0., 0., 0., 0., 0., 0., 1.,\n",
       "       1., 0., 0., 1., 0., 1., 0., 1., 1., 1., 1., 0., 1., 0., 0., 0., 1.,\n",
       "       0., 0., 1., 0., 0., 0., 1., 1., 0., 0., 0., 0., 0., 0., 0., 0., 0.,\n",
       "       1., 0., 0., 0., 0., 0., 0., 0., 0., 0., 1., 0., 1., 0., 1., 0., 1.,\n",
       "       0., 0., 1., 1., 0., 1., 1., 0., 0., 0., 0., 1., 1., 1., 0., 0., 1.,\n",
       "       0., 0., 1., 1., 0., 0., 0., 1., 1., 0., 0., 1., 0., 0., 1., 1., 0.,\n",
       "       0., 0., 0., 0., 1., 0., 0., 0., 0., 1., 1., 1., 1., 1., 0., 0., 0.,\n",
       "       0., 0., 0., 1., 0., 0., 0., 1., 0., 1., 0., 0., 0., 0., 0., 0., 0.,\n",
       "       0., 0., 1., 0., 1., 0., 0., 1., 0., 0., 0., 1., 0., 0., 0., 0., 0.,\n",
       "       0., 0., 0., 1., 0., 0., 1., 1., 0., 0., 1., 0., 0., 1., 0., 1., 0.,\n",
       "       0., 0., 1., 1., 0., 0., 0., 0., 0., 0., 0., 1., 0., 0., 0., 1., 0.,\n",
       "       1., 0., 0., 1., 0., 1., 0., 0., 0., 1., 0., 1., 0., 1., 1., 1., 0.,\n",
       "       0., 0., 1., 0., 1., 0., 1., 0., 0., 0., 0., 1., 0., 0., 1., 0., 0.,\n",
       "       0., 1., 1., 0., 1., 0., 0., 1., 1., 0., 0., 1., 0., 1., 0., 0., 0.,\n",
       "       0., 0., 1., 1., 0., 1., 0., 0., 0., 0., 0., 0., 0., 0., 0., 0., 1.,\n",
       "       0., 0., 0., 1., 0., 0., 0., 1., 0., 0., 0., 0., 0., 0., 0., 0., 1.,\n",
       "       1., 0., 1., 0., 0., 0., 0., 0., 1., 1., 1., 1., 0., 0., 0., 0., 0.,\n",
       "       0., 0., 0., 0., 1., 0., 1., 1., 0., 0., 0., 0., 0., 0., 0., 0., 0.,\n",
       "       0., 0., 0., 0., 0., 0., 1., 0., 0., 1., 0., 1., 0., 0., 1., 0., 1.,\n",
       "       0., 1., 0., 0., 0., 1., 0., 0., 0., 1., 1., 0., 0., 0., 0., 1., 1.,\n",
       "       1., 0., 0., 0., 1., 1., 0., 0., 0., 1., 0., 0., 0., 0., 1., 0., 0.,\n",
       "       0., 0., 0., 0., 1., 0., 0., 0., 0., 0., 0., 0., 0., 0., 0., 0., 0.,\n",
       "       0., 0., 0., 0., 0., 1., 0., 0., 0., 1., 1., 0., 0., 0., 0., 0., 0.,\n",
       "       1., 0., 0., 0., 0., 1., 1., 0., 0., 0., 0., 0., 0., 1., 0., 0., 1.,\n",
       "       0.])"
      ]
     },
     "execution_count": 64,
     "metadata": {},
     "output_type": "execute_result"
    }
   ],
   "source": [
    "# Creamos la muestra del ejercicio\n",
    "muestra1=[]\n",
    "for i in range(0,800):\n",
    "    if i<=239:\n",
    "        muestra1.append(1)\n",
    "    else:\n",
    "        muestra1.append(0)\n",
    "        \n",
    "random.shuffle(muestra1)\n",
    "# Lo transformamos\n",
    "b= 1.0 * np.array(muestra1)\n",
    "b\n"
   ]
  },
  {
   "cell_type": "markdown",
   "id": "88393ed5",
   "metadata": {},
   "source": [
    "- #### a) Estima, con un nivel de confianza del  95,45 % ,  entre qué valores se encuentra la intención de voto al susodicho partido en todo el censo."
   ]
  },
  {
   "cell_type": "code",
   "execution_count": 65,
   "id": "2f902b4b",
   "metadata": {},
   "outputs": [
    {
     "data": {
      "text/plain": [
       "0.3"
      ]
     },
     "execution_count": 65,
     "metadata": {},
     "output_type": "execute_result"
    }
   ],
   "source": [
    "p=240/800\n",
    "p"
   ]
  },
  {
   "cell_type": "code",
   "execution_count": 77,
   "id": "f7013dc3",
   "metadata": {},
   "outputs": [
    {
     "data": {
      "text/plain": [
       "(0.2675759855664642, 0.3324240144335357)"
      ]
     },
     "execution_count": 77,
     "metadata": {},
     "output_type": "execute_result"
    }
   ],
   "source": [
    "st.norm.interval(confidence = 0.9545 , loc =p, scale = st.sem (muestra1))"
   ]
  },
  {
   "cell_type": "markdown",
   "id": "1766d244",
   "metadata": {},
   "source": [
    "Con un nivel de confianza del 95,45% se tiene que el intervalo de la intencion de voto al partido A esta entre 26,75% y 33,24%"
   ]
  },
  {
   "cell_type": "markdown",
   "id": "fd4b35af",
   "metadata": {},
   "source": [
    "- #### b)    Discute, razonadamente, el efecto que tendría sobre el intervalo de confianza el aumento, o la disminución, del nivel de confianza."
   ]
  },
  {
   "cell_type": "markdown",
   "id": "ddb38671",
   "metadata": {},
   "source": [
    "#### Aumento"
   ]
  },
  {
   "cell_type": "code",
   "execution_count": 78,
   "id": "e988825d",
   "metadata": {},
   "outputs": [
    {
     "data": {
      "text/plain": [
       "(0.2622852775628349, 0.3377147224371651)"
      ]
     },
     "execution_count": 78,
     "metadata": {},
     "output_type": "execute_result"
    }
   ],
   "source": [
    "st.norm.interval(confidence = 0.98 , loc =p, scale = st.sem (muestra1))"
   ]
  },
  {
   "cell_type": "markdown",
   "id": "5c8ff1a6",
   "metadata": {},
   "source": [
    "#### Disminución"
   ]
  },
  {
   "cell_type": "code",
   "execution_count": 79,
   "id": "4486811c",
   "metadata": {},
   "outputs": [
    {
     "data": {
      "text/plain": [
       "(0.2733336537142725, 0.3266663462857275)"
      ]
     },
     "execution_count": 79,
     "metadata": {},
     "output_type": "execute_result"
    }
   ],
   "source": [
    "st.norm.interval(confidence = 0.90 , loc =p, scale = st.sem (muestra1))"
   ]
  },
  {
   "cell_type": "markdown",
   "id": "81cdb62d",
   "metadata": {},
   "source": [
    "Al aumentar el nivel de confianza el intervalo tambien lo hace. Mientras que si se disminuye la confianza tambien lo hara el intervalo.\n",
    "Es decir, al tener mas seguridad y por tanto mayor confianza, mayor sera el error."
   ]
  },
  {
   "cell_type": "code",
   "execution_count": null,
   "id": "da3fc146",
   "metadata": {},
   "outputs": [],
   "source": []
  },
  {
   "cell_type": "markdown",
   "id": "f9230d0c",
   "metadata": {},
   "source": [
    "## Problema 3"
   ]
  },
  {
   "cell_type": "markdown",
   "id": "0abd12de",
   "metadata": {},
   "source": [
    "En un control de calidad se analizó una muestra aleatoria de  750  tornillos resultando defectuosos  80  de ellos. Hallar: \n",
    "- a)    Un intervalo de confianza para la proporción de tornillos defectuosos en el conjunto de producción con  99 %  de confianza. \n",
    "- b)    ¿Cuál es el error máximo cometido en la estimación anterior? \n",
    "- c)    Si deseamos que el error cometido, con el mismo nivel de confianza, sea la décima parte del apartado anterior, ¿cuál ha de ser el tamaño de la muestra?\n"
   ]
  },
  {
   "cell_type": "markdown",
   "id": "5e292caa",
   "metadata": {},
   "source": [
    "- 1= <b> Tornillo defectuoso </b>\n",
    "- 0=  <b> Tornillo sin defectos</b>"
   ]
  },
  {
   "cell_type": "code",
   "execution_count": 75,
   "id": "267bf147",
   "metadata": {},
   "outputs": [
    {
     "data": {
      "text/plain": [
       "0.11"
      ]
     },
     "execution_count": 75,
     "metadata": {},
     "output_type": "execute_result"
    }
   ],
   "source": [
    "#Proporcion de tornillos defectuosos:\n",
    "t=80/750\n",
    "round(t,2)"
   ]
  },
  {
   "cell_type": "code",
   "execution_count": 81,
   "id": "b6adec5f",
   "metadata": {},
   "outputs": [],
   "source": [
    "# Creamos la muestra del ejercicio\n",
    "muestra2=[]\n",
    "for i in range(0,750):\n",
    "    if i<=79:\n",
    "        muestra2.append(1)\n",
    "    else:\n",
    "        muestra2.append(0)\n",
    "        \n",
    "random.shuffle(muestra2)\n",
    "# Lo transformamos\n",
    "c= 1.0 * np.array(muestra2)\n",
    "\n"
   ]
  },
  {
   "cell_type": "markdown",
   "id": "f11380bb",
   "metadata": {},
   "source": [
    "#### - a)    Un intervalo de confianza para la proporción de tornillos defectuosos en el conjunto de producción con  99 %  de confianza. "
   ]
  },
  {
   "cell_type": "code",
   "execution_count": 82,
   "id": "1f1f6e26",
   "metadata": {},
   "outputs": [
    {
     "data": {
      "text/plain": [
       "(0.07761324400260468, 0.13572008933072865)"
      ]
     },
     "execution_count": 82,
     "metadata": {},
     "output_type": "execute_result"
    }
   ],
   "source": [
    "f=st.norm.interval(confidence = 0.99 , loc =t, scale = st.sem (muestra2))\n",
    "f"
   ]
  },
  {
   "cell_type": "markdown",
   "id": "0db309f3",
   "metadata": {},
   "source": [
    "Con un nivel de confianza del 99% se tiene que el intervalo de la proporcion de tornillos defectuosos en el conjunto de producción es de 7.76% y 13,57%"
   ]
  },
  {
   "cell_type": "markdown",
   "id": "90bb7c8c",
   "metadata": {},
   "source": [
    "#### - b)    ¿Cuál es el error máximo cometido en la estimación anterior?  "
   ]
  },
  {
   "cell_type": "code",
   "execution_count": 85,
   "id": "360f818f",
   "metadata": {},
   "outputs": [
    {
     "data": {
      "text/plain": [
       "0.02905342266406198"
      ]
     },
     "execution_count": 85,
     "metadata": {},
     "output_type": "execute_result"
    }
   ],
   "source": [
    "error=f[1]-t\n",
    "error"
   ]
  },
  {
   "cell_type": "markdown",
   "id": "30afa443",
   "metadata": {},
   "source": [
    "####  -c)Si deseamos que el error cometido, con el mismo nivel de confianza, sea la décima parte del apartado anterior, ¿cuál ha de ser el tamaño de la muestra?"
   ]
  },
  {
   "cell_type": "markdown",
   "id": "86d81dca",
   "metadata": {},
   "source": [
    "$$\\frac{X}{\\sqrt{Muestra}}=Error$$"
   ]
  },
  {
   "cell_type": "code",
   "execution_count": 91,
   "id": "b9aba83b",
   "metadata": {},
   "outputs": [
    {
     "data": {
      "text/plain": [
       "0.7956607482919292"
      ]
     },
     "execution_count": 91,
     "metadata": {},
     "output_type": "execute_result"
    }
   ],
   "source": [
    "X=error*pow(750,0.5)\n",
    "X"
   ]
  },
  {
   "cell_type": "code",
   "execution_count": 94,
   "id": "f34d447d",
   "metadata": {},
   "outputs": [
    {
     "name": "stdout",
     "output_type": "stream",
     "text": [
      "El valor de X es:0.7956607482919292\n"
     ]
    }
   ],
   "source": [
    "print('El valor de X es:'+str(X))"
   ]
  },
  {
   "cell_type": "code",
   "execution_count": 86,
   "id": "28b97ea8",
   "metadata": {},
   "outputs": [
    {
     "data": {
      "text/plain": [
       "0.0029053422664061983"
      ]
     },
     "execution_count": 86,
     "metadata": {},
     "output_type": "execute_result"
    }
   ],
   "source": [
    "Error=error*0.1\n",
    "Error"
   ]
  },
  {
   "cell_type": "markdown",
   "id": "0371d5cb",
   "metadata": {},
   "source": [
    "Ordenando los valores tenemos:"
   ]
  },
  {
   "cell_type": "markdown",
   "id": "f801c47a",
   "metadata": {},
   "source": [
    "$$\\left( {\\frac{X}{Error}}\\right)^{2}=Muestra$$"
   ]
  },
  {
   "cell_type": "code",
   "execution_count": 96,
   "id": "217b04e6",
   "metadata": {},
   "outputs": [
    {
     "name": "stdout",
     "output_type": "stream",
     "text": [
      "74999.99999999999\n"
     ]
    }
   ],
   "source": [
    "MMuestra=pow((X/Error),2)\n",
    "print(MMuestra)"
   ]
  },
  {
   "cell_type": "markdown",
   "id": "4f505f61",
   "metadata": {},
   "source": [
    "Para que se cumplan las condiciones, debes er mayor o igual a 74999.99999999999. Si la muestra es de menor tamaño, el error sera de 0,29%"
   ]
  },
  {
   "cell_type": "code",
   "execution_count": null,
   "id": "277f8c75",
   "metadata": {},
   "outputs": [],
   "source": []
  }
 ],
 "metadata": {
  "kernelspec": {
   "display_name": "Python 3 (ipykernel)",
   "language": "python",
   "name": "python3"
  },
  "language_info": {
   "codemirror_mode": {
    "name": "ipython",
    "version": 3
   },
   "file_extension": ".py",
   "mimetype": "text/x-python",
   "name": "python",
   "nbconvert_exporter": "python",
   "pygments_lexer": "ipython3",
   "version": "3.10.9"
  }
 },
 "nbformat": 4,
 "nbformat_minor": 5
}
