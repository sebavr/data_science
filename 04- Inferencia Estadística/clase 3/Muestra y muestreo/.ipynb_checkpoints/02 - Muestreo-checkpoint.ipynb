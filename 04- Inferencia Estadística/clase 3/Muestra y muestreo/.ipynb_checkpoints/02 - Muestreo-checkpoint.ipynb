{
 "cells": [
  {
   "cell_type": "markdown",
   "id": "d61fcdc4-de3f-44ca-9f60-5dc77f8adbc7",
   "metadata": {},
   "source": [
    "### Muestreo"
   ]
  },
  {
   "cell_type": "code",
   "execution_count": 1,
   "id": "c6ac4fda-af6d-48ed-b806-38c3d0cf8f58",
   "metadata": {},
   "outputs": [],
   "source": [
    "import pandas as pd\n",
    "import numpy as np\n",
    "import matplotlib.pyplot as plt\n",
    "%matplotlib inline"
   ]
  },
  {
   "cell_type": "markdown",
   "id": "4095ec0e-9d09-4cf9-bbc3-15bb78a1a2bb",
   "metadata": {},
   "source": [
    "random.choice()"
   ]
  },
  {
   "cell_type": "code",
   "execution_count": 3,
   "id": "7c6adadf-5a68-489c-a5e0-838651823730",
   "metadata": {},
   "outputs": [
    {
     "data": {
      "text/plain": [
       "16"
      ]
     },
     "execution_count": 3,
     "metadata": {},
     "output_type": "execute_result"
    }
   ],
   "source": [
    "bmi_list = [29, 18, 20, 22, 19, 25, 30, 28, 22, 21, 18, 19, 20, 20, 22, 23]\n",
    "len(bmi_list)"
   ]
  },
  {
   "cell_type": "code",
   "execution_count": 6,
   "id": "bb59e3c3-39d0-4592-92f9-1a8d9f2bc1a9",
   "metadata": {},
   "outputs": [
    {
     "name": "stdout",
     "output_type": "stream",
     "text": [
      "First random choice: 22\n",
      "Second random choice: 30\n",
      "Third random choice: 22\n"
     ]
    }
   ],
   "source": [
    "import random \n",
    "print(\"First random choice:\", random.choice(bmi_list)) \n",
    "print(\"Second random choice:\", random.choice(bmi_list))\n",
    "print(\"Third random choice:\", random.choice(bmi_list))"
   ]
  },
  {
   "cell_type": "markdown",
   "id": "72db671d-651a-425b-af71-22075e1dc24f",
   "metadata": {},
   "source": [
    "El método 'random.sample ()' es útil para muestrear aleatoriamente N elementos de una lista. Por ejemplo, si queremos tomar muestras de N = 5 elementos de nuestra lista de IMC, hacemos lo siguiente:"
   ]
  },
  {
   "cell_type": "code",
   "execution_count": 11,
   "id": "ffc3f834-ccd7-45f7-985d-ef1848f01662",
   "metadata": {},
   "outputs": [
    {
     "name": "stdout",
     "output_type": "stream",
     "text": [
      "Random sample, N = 5 : [19, 18, 22, 30, 22]\n"
     ]
    }
   ],
   "source": [
    "print(\"Random sample, N = 5 :\", random.sample(bmi_list, 5))"
   ]
  },
  {
   "cell_type": "code",
   "execution_count": 12,
   "id": "a59f623a-2d92-48c1-bbb2-01f84fc2bd29",
   "metadata": {},
   "outputs": [
    {
     "name": "stdout",
     "output_type": "stream",
     "text": [
      "Random sample, N = 10: [20, 25, 21, 28, 30, 20, 18, 18, 22, 20]\n"
     ]
    }
   ],
   "source": [
    "n=10\n",
    "print(\"Random sample, N = 10:\", random.sample(bmi_list, n))"
   ]
  },
  {
   "cell_type": "markdown",
   "id": "057ccce3-e6c9-41de-a1c0-6bd1962df90f",
   "metadata": {},
   "source": [
    "Además de la selección y el muestreo aleatorios, el módulo aleatorio tiene una función para mezclar elementos en una lista. Imprimamos nuestra lista de IMC y luego imprimamos el resultado de barajar nuestra lista de IMC:"
   ]
  },
  {
   "cell_type": "code",
   "execution_count": 14,
   "id": "1e13ef84-7656-41b7-9557-131af3cf6130",
   "metadata": {},
   "outputs": [
    {
     "name": "stdout",
     "output_type": "stream",
     "text": [
      "BMI list:  [19, 22, 25, 29, 19, 18, 23, 21, 22, 28, 18, 30, 22, 20, 20, 20]\n",
      "Shuffled BMI list:  [20, 22, 18, 23, 20, 22, 19, 21, 18, 19, 29, 25, 20, 30, 22, 28]\n"
     ]
    }
   ],
   "source": [
    "print(\"BMI list: \", bmi_list)\n",
    "pob2=random.shuffle(bmi_list)\n",
    "print(\"Shuffled BMI list: \", bmi_list)"
   ]
  },
  {
   "cell_type": "markdown",
   "id": "8f13dbc6-a321-4642-8158-740a163a6a3b",
   "metadata": {},
   "source": [
    "El módulo aleatorio tiene una función para generar un número entero aleatorio proporcionado un rango de valores. Generemos un número entero aleatorio en el rango de 1 a 5:"
   ]
  },
  {
   "cell_type": "code",
   "execution_count": 20,
   "id": "98b10c95-1b88-4b63-8ad9-7556f22899ea",
   "metadata": {},
   "outputs": [
    {
     "name": "stdout",
     "output_type": "stream",
     "text": [
      "Random Integer:  1\n"
     ]
    }
   ],
   "source": [
    "print(\"Random Integer: \", random.randint(1,5))"
   ]
  },
  {
   "cell_type": "markdown",
   "id": "2b91c033-e2ef-4eeb-8903-004eed4b71b8",
   "metadata": {},
   "source": [
    "### Muestreo aleatorio Estratificado con DataFrame"
   ]
  },
  {
   "cell_type": "code",
   "execution_count": 22,
   "id": "8cf4998f-12cf-42af-a895-8817f76d7d4c",
   "metadata": {},
   "outputs": [
    {
     "data": {
      "text/html": [
       "<div>\n",
       "<style scoped>\n",
       "    .dataframe tbody tr th:only-of-type {\n",
       "        vertical-align: middle;\n",
       "    }\n",
       "\n",
       "    .dataframe tbody tr th {\n",
       "        vertical-align: top;\n",
       "    }\n",
       "\n",
       "    .dataframe thead th {\n",
       "        text-align: right;\n",
       "    }\n",
       "</style>\n",
       "<table border=\"1\" class=\"dataframe\">\n",
       "  <thead>\n",
       "    <tr style=\"text-align: right;\">\n",
       "      <th></th>\n",
       "      <th>0</th>\n",
       "      <th>1</th>\n",
       "      <th>2</th>\n",
       "      <th>3</th>\n",
       "      <th>Healthy</th>\n",
       "    </tr>\n",
       "  </thead>\n",
       "  <tbody>\n",
       "    <tr>\n",
       "      <th>0</th>\n",
       "      <td>1.506257</td>\n",
       "      <td>1.004813</td>\n",
       "      <td>-0.210015</td>\n",
       "      <td>1.579444</td>\n",
       "      <td>1</td>\n",
       "    </tr>\n",
       "    <tr>\n",
       "      <th>1</th>\n",
       "      <td>-0.134111</td>\n",
       "      <td>0.043934</td>\n",
       "      <td>-0.092293</td>\n",
       "      <td>-0.462726</td>\n",
       "      <td>1</td>\n",
       "    </tr>\n",
       "    <tr>\n",
       "      <th>2</th>\n",
       "      <td>0.980507</td>\n",
       "      <td>-0.332221</td>\n",
       "      <td>-0.681247</td>\n",
       "      <td>0.120531</td>\n",
       "      <td>0</td>\n",
       "    </tr>\n",
       "    <tr>\n",
       "      <th>3</th>\n",
       "      <td>-1.272854</td>\n",
       "      <td>1.504247</td>\n",
       "      <td>1.373633</td>\n",
       "      <td>-0.723953</td>\n",
       "      <td>0</td>\n",
       "    </tr>\n",
       "    <tr>\n",
       "      <th>4</th>\n",
       "      <td>-0.605584</td>\n",
       "      <td>0.591739</td>\n",
       "      <td>-0.555244</td>\n",
       "      <td>1.666112</td>\n",
       "      <td>1</td>\n",
       "    </tr>\n",
       "    <tr>\n",
       "      <th>5</th>\n",
       "      <td>-0.101592</td>\n",
       "      <td>1.652309</td>\n",
       "      <td>0.612092</td>\n",
       "      <td>1.612685</td>\n",
       "      <td>1</td>\n",
       "    </tr>\n",
       "    <tr>\n",
       "      <th>6</th>\n",
       "      <td>-0.398538</td>\n",
       "      <td>-1.591622</td>\n",
       "      <td>1.266358</td>\n",
       "      <td>0.303628</td>\n",
       "      <td>1</td>\n",
       "    </tr>\n",
       "  </tbody>\n",
       "</table>\n",
       "</div>"
      ],
      "text/plain": [
       "          0         1         2         3  Healthy\n",
       "0  1.506257  1.004813 -0.210015  1.579444        1\n",
       "1 -0.134111  0.043934 -0.092293 -0.462726        1\n",
       "2  0.980507 -0.332221 -0.681247  0.120531        0\n",
       "3 -1.272854  1.504247  1.373633 -0.723953        0\n",
       "4 -0.605584  0.591739 -0.555244  1.666112        1\n",
       "5 -0.101592  1.652309  0.612092  1.612685        1\n",
       "6 -0.398538 -1.591622  1.266358  0.303628        1"
      ]
     },
     "execution_count": 22,
     "metadata": {},
     "output_type": "execute_result"
    }
   ],
   "source": [
    "import pandas as pd\n",
    "import numpy as np\n",
    "\n",
    "data = pd.DataFrame(np.random.randn(7, 4))\n",
    "data['Healthy'] = [1, 1, 0, 0, 1, 1, 1]\n",
    "data"
   ]
  },
  {
   "cell_type": "markdown",
   "id": "a7b2f8ef-769b-481b-8180-4ff1fa9c8b26",
   "metadata": {},
   "source": [
    "Estos datos tienen dos muestras no saludables y cinco saludables. Para elegir al azar dos muestras de la población sana que haces:"
   ]
  },
  {
   "cell_type": "code",
   "execution_count": 24,
   "id": "cc256bae-fd37-41ad-b88e-1f68ecfa0681",
   "metadata": {},
   "outputs": [
    {
     "data": {
      "text/html": [
       "<div>\n",
       "<style scoped>\n",
       "    .dataframe tbody tr th:only-of-type {\n",
       "        vertical-align: middle;\n",
       "    }\n",
       "\n",
       "    .dataframe tbody tr th {\n",
       "        vertical-align: top;\n",
       "    }\n",
       "\n",
       "    .dataframe thead th {\n",
       "        text-align: right;\n",
       "    }\n",
       "</style>\n",
       "<table border=\"1\" class=\"dataframe\">\n",
       "  <thead>\n",
       "    <tr style=\"text-align: right;\">\n",
       "      <th></th>\n",
       "      <th>0</th>\n",
       "      <th>1</th>\n",
       "      <th>2</th>\n",
       "      <th>3</th>\n",
       "      <th>Healthy</th>\n",
       "    </tr>\n",
       "  </thead>\n",
       "  <tbody>\n",
       "    <tr>\n",
       "      <th>1</th>\n",
       "      <td>-0.134111</td>\n",
       "      <td>0.043934</td>\n",
       "      <td>-0.092293</td>\n",
       "      <td>-0.462726</td>\n",
       "      <td>1</td>\n",
       "    </tr>\n",
       "    <tr>\n",
       "      <th>0</th>\n",
       "      <td>1.506257</td>\n",
       "      <td>1.004813</td>\n",
       "      <td>-0.210015</td>\n",
       "      <td>1.579444</td>\n",
       "      <td>1</td>\n",
       "    </tr>\n",
       "  </tbody>\n",
       "</table>\n",
       "</div>"
      ],
      "text/plain": [
       "          0         1         2         3  Healthy\n",
       "1 -0.134111  0.043934 -0.092293 -0.462726        1\n",
       "0  1.506257  1.004813 -0.210015  1.579444        1"
      ]
     },
     "execution_count": 24,
     "metadata": {},
     "output_type": "execute_result"
    }
   ],
   "source": [
    "healthy_indices = data[data.Healthy == 1].index\n",
    "random_indices = np.random.choice(healthy_indices, 2, replace=False)\n",
    "\n",
    "healthy_sample = data.loc[random_indices]\n",
    "random_indices\n",
    "healthy_sample"
   ]
  },
  {
   "cell_type": "markdown",
   "id": "5c7a560d-415b-40eb-ac8b-04f7c6ddce34",
   "metadata": {},
   "source": [
    "Para elegir automáticamente una submuestra del mismo tamaño que el grupo no saludable que puede hacer:"
   ]
  },
  {
   "cell_type": "code",
   "execution_count": 30,
   "id": "4b8107d1-c3e3-4de8-b5c8-e2e8ba4569e3",
   "metadata": {},
   "outputs": [
    {
     "data": {
      "text/html": [
       "<div>\n",
       "<style scoped>\n",
       "    .dataframe tbody tr th:only-of-type {\n",
       "        vertical-align: middle;\n",
       "    }\n",
       "\n",
       "    .dataframe tbody tr th {\n",
       "        vertical-align: top;\n",
       "    }\n",
       "\n",
       "    .dataframe thead th {\n",
       "        text-align: right;\n",
       "    }\n",
       "</style>\n",
       "<table border=\"1\" class=\"dataframe\">\n",
       "  <thead>\n",
       "    <tr style=\"text-align: right;\">\n",
       "      <th></th>\n",
       "      <th>0</th>\n",
       "      <th>1</th>\n",
       "      <th>2</th>\n",
       "      <th>3</th>\n",
       "      <th>Healthy</th>\n",
       "    </tr>\n",
       "  </thead>\n",
       "  <tbody>\n",
       "    <tr>\n",
       "      <th>3</th>\n",
       "      <td>-1.272854</td>\n",
       "      <td>1.504247</td>\n",
       "      <td>1.373633</td>\n",
       "      <td>-0.723953</td>\n",
       "      <td>0</td>\n",
       "    </tr>\n",
       "    <tr>\n",
       "      <th>2</th>\n",
       "      <td>0.980507</td>\n",
       "      <td>-0.332221</td>\n",
       "      <td>-0.681247</td>\n",
       "      <td>0.120531</td>\n",
       "      <td>0</td>\n",
       "    </tr>\n",
       "  </tbody>\n",
       "</table>\n",
       "</div>"
      ],
      "text/plain": [
       "          0         1         2         3  Healthy\n",
       "3 -1.272854  1.504247  1.373633 -0.723953        0\n",
       "2  0.980507 -0.332221 -0.681247  0.120531        0"
      ]
     },
     "execution_count": 30,
     "metadata": {},
     "output_type": "execute_result"
    }
   ],
   "source": [
    "sample_size = sum(data.Healthy == 0)  # Equivalent to len(data[data.Healthy == 0])\n",
    "no_healthy_indices = data[data.Healthy == 0].index\n",
    "random_indices = np.random.choice(no_healthy_indices, sample_size, replace=False)\n",
    "sample_size\n",
    "random_indices\n",
    "no_healthy_sample = data.loc[random_indices]\n",
    "no_healthy_sample"
   ]
  },
  {
   "cell_type": "markdown",
   "id": "40f19a77-aa03-432d-b930-92f20bd194c9",
   "metadata": {},
   "source": [
    "Como variante, puede usar el método estocástico. Suponga que tiene un conjunto de datos data que es una gran cantidad de tuplas (X, Y), Donde Y es información del ojo enfermo (0 o 1). Puede preparar un contenedor para su conjunto de datos, que pasa todos los ojos no enfermos y los ojos enfermos con probabilidad 0.3/0.7 (solo necesita el 30% de los ojos enfermos del conjunto de datos)."
   ]
  },
  {
   "cell_type": "code",
   "execution_count": 33,
   "id": "596b6c1a-045e-45c4-97f9-ad8a969d5846",
   "metadata": {},
   "outputs": [
    {
     "ename": "SyntaxError",
     "evalue": "invalid syntax (<ipython-input-33-077f4740d85b>, line 16)",
     "output_type": "error",
     "traceback": [
      "\u001b[0;36m  File \u001b[0;32m\"<ipython-input-33-077f4740d85b>\"\u001b[0;36m, line \u001b[0;32m16\u001b[0m\n\u001b[0;31m    your_dataset= #generar un conjunto de datos\u001b[0m\n\u001b[0m                  ^\u001b[0m\n\u001b[0;31mSyntaxError\u001b[0m\u001b[0;31m:\u001b[0m invalid syntax\n"
     ]
    }
   ],
   "source": [
    "from random import random\n",
    "\n",
    "\n",
    "def wrapper(data):\n",
    "    prob = 0.3 / 0.7\n",
    "\n",
    "    for X, Y in data:\n",
    "        if Y == 0:\n",
    "            yield X, Y\n",
    "        else:\n",
    "            if random() < prob:\n",
    "                yield X, Y\n",
    "\n",
    "\n",
    "# now you can use the wrapper to extract needed information\n",
    "your_dataset= #generar un conjunto de datos\n",
    "for X, Y in wrapper(your_dataset):\n",
    "    print (X, Y)"
   ]
  },
  {
   "cell_type": "code",
   "execution_count": null,
   "id": "8ec9586b-15a6-49a6-90d5-d95623958617",
   "metadata": {},
   "outputs": [],
   "source": []
  },
  {
   "cell_type": "code",
   "execution_count": null,
   "id": "f1a187b0-82b6-4ca5-affe-5be399a6a024",
   "metadata": {},
   "outputs": [],
   "source": []
  },
  {
   "cell_type": "code",
   "execution_count": null,
   "id": "3148d1ac-1f21-40d5-839a-746965799227",
   "metadata": {},
   "outputs": [],
   "source": []
  },
  {
   "cell_type": "markdown",
   "id": "675f67bf-b820-4cdd-9c63-6e0785d9acae",
   "metadata": {},
   "source": [
    "## Teorema del Límite Central"
   ]
  },
  {
   "cell_type": "code",
   "execution_count": 34,
   "id": "1f73d470-423c-4d6c-b003-3ae962d35045",
   "metadata": {},
   "outputs": [],
   "source": [
    "import pandas as pd\n",
    "import numpy as np\n",
    "import matplotlib.pyplot as plt\n",
    "%matplotlib inline\n",
    "\n",
    "from scipy.stats import expon\n",
    "from scipy.stats import uniform"
   ]
  },
  {
   "cell_type": "markdown",
   "id": "81d4fa36-21df-4925-818f-05327341f8c5",
   "metadata": {},
   "source": [
    "### Para una distribución exponencial"
   ]
  },
  {
   "cell_type": "code",
   "execution_count": 35,
   "id": "2701461a-bb04-429d-b8eb-f2d9a1e897a4",
   "metadata": {},
   "outputs": [],
   "source": [
    "poblacion_expo = pd.DataFrame()\n",
    "poblacion_expo['number'] = expon.rvs(10, size = 100000)"
   ]
  },
  {
   "cell_type": "code",
   "execution_count": 36,
   "id": "79cac75d-1a47-4e8e-8f32-ba3560a680fe",
   "metadata": {},
   "outputs": [
    {
     "data": {
      "text/plain": [
       "<AxesSubplot:>"
      ]
     },
     "execution_count": 36,
     "metadata": {},
     "output_type": "execute_result"
    },
    {
     "data": {
      "image/png": "[encoded data removed]",
      "text/plain": [
       "<Figure size 432x288 with 1 Axes>"
      ]
     },
     "metadata": {
      "needs_background": "light"
     },
     "output_type": "display_data"
    }
   ],
   "source": [
    "poblacion_expo['number'].hist(bins=100)"
   ]
  },
  {
   "cell_type": "code",
   "execution_count": 37,
   "id": "124325d6-d3ee-4c98-bbae-fb8e92665a07",
   "metadata": {},
   "outputs": [],
   "source": [
    "muestra_promedio_dis_expo = []\n",
    "\n",
    "tamano = 5000\n",
    "\n",
    "for i in range(0,tamano):\n",
    "  muestra_promedio_dis_expo.append(poblacion_expo.sample(n=100).mean().values[0])"
   ]
  },
  {
   "cell_type": "code",
   "execution_count": 38,
   "id": "80747498-7c45-42c1-8f1e-a951d368b64f",
   "metadata": {},
   "outputs": [
    {
     "data": {
      "image/png": "[encoded data removed]",
      "text/plain": [
       "<Figure size 432x288 with 1 Axes>"
      ]
     },
     "metadata": {
      "needs_background": "light"
     },
     "output_type": "display_data"
    }
   ],
   "source": [
    "fig, ax = plt.subplots()\n",
    "ax.hist(muestra_promedio_dis_expo, bins=50, alpha = 0.5)\n",
    "ax.set_xlabel('Valor promedio')\n",
    "ax.set_ylabel('Frecuencia')\n",
    "ax.grid()"
   ]
  },
  {
   "cell_type": "markdown",
   "id": "a4e1f3d7-ced0-487b-85ca-c64b099c16c8",
   "metadata": {},
   "source": [
    "### Para una distribución uniforme"
   ]
  },
  {
   "cell_type": "code",
   "execution_count": 39,
   "id": "d1eaa6a5-66c7-493a-9373-8bdd52a0b081",
   "metadata": {},
   "outputs": [],
   "source": [
    "poblacion_uniforme = pd.DataFrame()\n",
    "poblacion_uniforme['number'] = uniform.rvs(10, size = 100000)"
   ]
  },
  {
   "cell_type": "code",
   "execution_count": 40,
   "id": "3dfaf21f-cc31-4d6c-926e-d9de4f1045ed",
   "metadata": {},
   "outputs": [
    {
     "data": {
      "text/plain": [
       "<AxesSubplot:>"
      ]
     },
     "execution_count": 40,
     "metadata": {},
     "output_type": "execute_result"
    },
    {
     "data": {
      "image/png": "[encoded data removed]",
      "text/plain": [
       "<Figure size 432x288 with 1 Axes>"
      ]
     },
     "metadata": {
      "needs_background": "light"
     },
     "output_type": "display_data"
    }
   ],
   "source": [
    "poblacion_uniforme['number'].hist(bins=100)"
   ]
  },
  {
   "cell_type": "code",
   "execution_count": 41,
   "id": "58723ec4-5489-4790-84c1-49f38f5870d1",
   "metadata": {},
   "outputs": [],
   "source": [
    "muestra_promedio_pob_uniforme = []\n",
    "\n",
    "tamano = 5000\n",
    "\n",
    "for i in range(0,tamano):\n",
    "  muestra_promedio_pob_uniforme.append(poblacion_uniforme.sample(n=100).mean().values[0])"
   ]
  },
  {
   "cell_type": "code",
   "execution_count": 42,
   "id": "a78ceb58-486b-4433-8ab8-2318f5fdf3de",
   "metadata": {},
   "outputs": [
    {
     "data": {
      "image/png": "[encoded data removed]",
      "text/plain": [
       "<Figure size 432x288 with 1 Axes>"
      ]
     },
     "metadata": {
      "needs_background": "light"
     },
     "output_type": "display_data"
    }
   ],
   "source": [
    "fig, ax = plt.subplots()\n",
    "ax.hist(muestra_promedio_pob_uniforme, bins=50, alpha = 0.5)\n",
    "ax.set_xlabel('Valor promedio')\n",
    "ax.set_ylabel('Frecuencia')\n",
    "ax.grid()"
   ]
  },
  {
   "cell_type": "markdown",
   "id": "3e02c5ac-35e6-4c97-954c-6c5d1a39aac9",
   "metadata": {},
   "source": [
    "Comparación:"
   ]
  },
  {
   "cell_type": "code",
   "execution_count": 43,
   "id": "9d0b69ad-c7aa-476d-af33-58e9a18b97a0",
   "metadata": {},
   "outputs": [
    {
     "data": {
      "image/png": "[encoded data removed]",
      "text/plain": [
       "<Figure size 432x288 with 1 Axes>"
      ]
     },
     "metadata": {
      "needs_background": "light"
     },
     "output_type": "display_data"
    }
   ],
   "source": [
    "fig, ax = plt.subplots()\n",
    "\n",
    "ax.hist(muestra_promedio_pob_uniforme, bins=50, alpha = 0.5, label='Variable uniforme')\n",
    "ax.hist(muestra_promedio_dis_expo, bins=50, alpha = 0.5, label='Variable exponencial')\n",
    "\n",
    "ax.set_xlabel('Valor promedio')\n",
    "ax.set_ylabel('Frecuencia')\n",
    "ax.legend()\n",
    "ax.grid()"
   ]
  },
  {
   "cell_type": "code",
   "execution_count": 44,
   "id": "6f0095fe-334c-4adc-8002-6108dee7f6b8",
   "metadata": {},
   "outputs": [
    {
     "data": {
      "image/png": "[encoded data removed]",
      "text/plain": [
       "<Figure size 432x288 with 1 Axes>"
      ]
     },
     "metadata": {
      "needs_background": "light"
     },
     "output_type": "display_data"
    }
   ],
   "source": [
    "fig, ax = plt.subplots()\n",
    "\n",
    "# Estandarizacion\n",
    "z_uniforme = (muestra_promedio_pob_uniforme - np.mean(muestra_promedio_pob_uniforme)) / np.std(muestra_promedio_pob_uniforme)\n",
    "z_expo = (muestra_promedio_dis_expo - np.mean(muestra_promedio_dis_expo)) / np.std(muestra_promedio_dis_expo)\n",
    "\n",
    "ax.hist(z_uniforme, bins=50, alpha = 0.5, label='Variable uniforme')\n",
    "ax.hist(z_expo, bins=50, alpha = 0.5, label='Variable exponencial')\n",
    "\n",
    "ax.axvline(np.mean(z_uniforme), c='r', linestyle='--', label='Promedio uniforme')\n",
    "ax.axvline(np.mean(z_expo), c='b', linestyle='--', label='Promedio expo')\n",
    "\n",
    "ax.set_xlabel('Valor promedio')\n",
    "ax.set_ylabel('Frecuencia')\n",
    "ax.legend()\n",
    "ax.grid()"
   ]
  },
  {
   "cell_type": "markdown",
   "id": "99372d6e-cb73-4b2e-8eac-e672125a13fe",
   "metadata": {},
   "source": [
    "## Estimadores muestrales"
   ]
  },
  {
   "cell_type": "code",
   "execution_count": 45,
   "id": "611aa120-6444-4f0d-bb87-5599244726ac",
   "metadata": {},
   "outputs": [],
   "source": [
    "import numpy as np\n",
    "import pandas as pd\n",
    "from scipy import stats\n",
    "import matplotlib.pyplot as plt\n",
    "import seaborn as sns\n",
    "\n",
    "%matplotlib inline"
   ]
  },
  {
   "cell_type": "markdown",
   "id": "4cd4c14b-e2d4-4947-a2e5-cbd214aba672",
   "metadata": {},
   "source": [
    "Vamos a simular que tomamos una muestra de tamaño 1. La muestra tuvo un valor de 3. Al no conocer los parametros poblacionales de la distribucion, vamos a generar una serie de hipotesis.\n",
    "\n",
    "Supongamos tener dos medias y calculemos la probabilidad de obtener la muestra bajo la hipotesis de los parametros poblacionales (las dos medias)."
   ]
  },
  {
   "cell_type": "code",
   "execution_count": 46,
   "id": "eccd1106-4854-4686-8a80-6fda3252019e",
   "metadata": {},
   "outputs": [
    {
     "name": "stdout",
     "output_type": "stream",
     "text": [
      "La probabilidad de obtener  3  en una muestra con una media  4  y desviacion de  1  es  0.24197072451914337\n",
      "La probabilidad de obtener  3  en una muestra con una media  7  y desviacion de  1  es  0.00013383022576488537\n"
     ]
    }
   ],
   "source": [
    "from scipy.stats import norm\n",
    "\n",
    "x1 = 3\n",
    "\n",
    "#medias\n",
    "mu1 = 4\n",
    "mu2 = 7\n",
    "#desviacion estandar\n",
    "sigma = 1\n",
    "p_muestra = norm.pdf(x1, mu1, sigma)\n",
    "p_muestra_2 = norm.pdf(x1, mu2, sigma)\n",
    "\n",
    "\n",
    "print('La probabilidad de obtener ', x1, ' en una muestra con una media ', mu1, ' y desviacion de ', sigma, ' es ', p_muestra)\n",
    "print('La probabilidad de obtener ', x1, ' en una muestra con una media ', mu2, ' y desviacion de ', sigma, ' es ', p_muestra_2)"
   ]
  },
  {
   "cell_type": "markdown",
   "id": "95914327-6ad8-418b-92a0-719ca787a134",
   "metadata": {},
   "source": [
    "Queremos ver la probabilidad conjunta de que ocurran dos casos x1 y x2."
   ]
  },
  {
   "cell_type": "code",
   "execution_count": 47,
   "id": "9f589a5d-d3c6-405f-b97d-302aedffa3cf",
   "metadata": {},
   "outputs": [
    {
     "name": "stdout",
     "output_type": "stream",
     "text": [
      "La probabilidad de obtener  3 y  10  en una muestra con una media  4  y desviacion de  1  es  1.4701857752651781e-09\n",
      "La probabilidad de obtener  3 y  10  en una muestra con una media  7  y desviacion de  1  es  5.931152735254122e-07\n"
     ]
    }
   ],
   "source": [
    "from scipy.stats import norm\n",
    "\n",
    "x1 = 3\n",
    "x2 = 10\n",
    "\n",
    "\n",
    "#medias\n",
    "mu1 = 4\n",
    "mu2 = 7\n",
    "#desviacion estandar\n",
    "sigma = 1\n",
    "p_muestra = norm.pdf(x1, mu1, sigma) * norm.pdf(x2, mu1, sigma)\n",
    "p_muestra_2 = norm.pdf(x1, mu2, sigma) * norm.pdf(x2, mu2, sigma)\n",
    "\n",
    "print('La probabilidad de obtener ', x1, 'y ', x2, ' en una muestra con una media ', mu1, ' y desviacion de ', sigma, ' es ', p_muestra)\n",
    "print('La probabilidad de obtener ', x1, 'y ', x2, ' en una muestra con una media ', mu2, ' y desviacion de ', sigma, ' es ', p_muestra_2)"
   ]
  },
  {
   "cell_type": "markdown",
   "id": "4b67c8ac-5de7-4b94-9282-dfd07f6fdb2d",
   "metadata": {},
   "source": [
    "Obtegamos valores aleatorias de la muestra"
   ]
  },
  {
   "cell_type": "code",
   "execution_count": 48,
   "id": "63cb837e-ddcf-43b8-a1cb-7f1df9679cb8",
   "metadata": {},
   "outputs": [
    {
     "data": {
      "text/plain": [
       "array([4.25104243, 4.5734067 , 4.75492101, 5.98752318, 5.68196269,\n",
       "       2.89342158, 3.88170667, 3.76684209, 6.10806712, 5.13976432])"
      ]
     },
     "execution_count": 48,
     "metadata": {},
     "output_type": "execute_result"
    }
   ],
   "source": [
    "mu = 5\n",
    "sigma = 1\n",
    "\n",
    "muestra_10 = norm.rvs(mu, sigma, size = 10)\n",
    "muestra_10"
   ]
  },
  {
   "cell_type": "code",
   "execution_count": 49,
   "id": "73bebee8-5920-4bea-b10f-72b235a32ab9",
   "metadata": {},
   "outputs": [],
   "source": [
    "#medias\n",
    "mu1 = 4\n",
    "mu2 = 7\n",
    "#desviacion estandar\n",
    "sigma = 1\n",
    "\n",
    "data_1 = norm.rvs(mu1, sigma, size=100000)\n",
    "data_2 = norm.rvs(mu2, sigma, size=100000)"
   ]
  },
  {
   "cell_type": "code",
   "execution_count": 57,
   "id": "3891fb88-3e53-4c46-9553-8c10763efb8b",
   "metadata": {},
   "outputs": [],
   "source": [
    "muestra_10\n",
    "y = list([])\n",
    "\n",
    "for i in range(len(muestra_10)):\n",
    "  y.append(3000)"
   ]
  },
  {
   "cell_type": "code",
   "execution_count": 58,
   "id": "cb6342eb-c5cf-4ae9-8c80-de6746285434",
   "metadata": {},
   "outputs": [
    {
     "data": {
      "text/plain": [
       "<matplotlib.collections.PathCollection at 0x7faad9380400>"
      ]
     },
     "execution_count": 58,
     "metadata": {},
     "output_type": "execute_result"
    },
    {
     "data": {
      "image/png": "[encoded data removed]",
      "text/plain": [
       "<Figure size 432x288 with 1 Axes>"
      ]
     },
     "metadata": {
      "needs_background": "light"
     },
     "output_type": "display_data"
    }
   ],
   "source": [
    "ax = sns.distplot(data_1, bins = 50, color = 'blue', kde = False)\n",
    "ax.set(xlabel = 'Distribucion Normal mu1', ylabel = 'Frecuencia')\n",
    "\n",
    "ax = sns.distplot(data_2, bins = 50, color = 'red', kde = False)\n",
    "ax.set(xlabel = 'Distribucion Normal mu2', ylabel = 'Frecuencia')\n",
    "\n",
    "ax.scatter(muestra_10, y, c = 'k')"
   ]
  },
  {
   "cell_type": "code",
   "execution_count": 56,
   "id": "bb08dbe1-1bea-45c5-844c-1309a470ccf7",
   "metadata": {},
   "outputs": [
    {
     "data": {
      "text/plain": [
       "<matplotlib.collections.PathCollection at 0x7faad91dc220>"
      ]
     },
     "execution_count": 56,
     "metadata": {},
     "output_type": "execute_result"
    },
    {
     "data": {
      "image/png": "[encoded data removed]",
      "text/plain": [
       "<Figure size 432x288 with 1 Axes>"
      ]
     },
     "metadata": {
      "needs_background": "light"
     },
     "output_type": "display_data"
    }
   ],
   "source": [
    "fig, ax = plt.subplots()\n",
    "\n",
    "ax.hist(data_1, bins = 50, color = 'blue', alpha=0.5)\n",
    "ax.set(xlabel = 'Distribucion Normal mu1', ylabel = 'Frecuencia')\n",
    "\n",
    "ax.hist(data_2, bins = 50, color = 'red', alpha=0.5)\n",
    "ax.set(xlabel = 'Distribucion Normal mu2', ylabel = 'Frecuencia')\n",
    "\n",
    "ax.scatter(muestra_10, y, c = 'k')"
   ]
  },
  {
   "cell_type": "markdown",
   "id": "b636c83a-d4e6-4d7f-9ce7-4f9a70b9852c",
   "metadata": {},
   "source": [
    "Con esto podemos ver como la muestra de 10 elementos puede pertencer con mayor probabilidad a una hipotesis respecto a la otra.\n",
    "\n",
    "La primer hipotesis en la de color azul y la segunda hipotesis de color rojo. Los puntos obtenidos de forma aleatoria fueron graficados todos a una misma altura y podemos observar que se encuentran la mayoria dentro de la primer hipotesis."
   ]
  },
  {
   "cell_type": "code",
   "execution_count": null,
   "id": "342e417a-5b16-495e-8f2d-f902b7c01827",
   "metadata": {},
   "outputs": [],
   "source": []
  },
  {
   "cell_type": "markdown",
   "id": "6428a91e-e6ae-4e1f-9bab-316718f97b30",
   "metadata": {},
   "source": [
    "## Distribuciones muestrales"
   ]
  },
  {
   "cell_type": "code",
   "execution_count": 59,
   "id": "61f4a89d-6f17-4171-a619-53a89a7b1c98",
   "metadata": {},
   "outputs": [],
   "source": [
    "import matplotlib.pyplot as plt\n",
    "from IPython.core.display import Image\n",
    "import seaborn as sns\n",
    "\n",
    "%matplotlib inline"
   ]
  },
  {
   "cell_type": "markdown",
   "id": "6519c5df-cf27-46b9-b3c5-97e300cf7edb",
   "metadata": {},
   "source": [
    "# T-student\n",
    "\n",
    "En probabilidad y estadística, la [distribución t (de Student)](https://es.wikipedia.org/wiki/Distribuci%C3%B3n_t_de_Student) es una distribución de probabilidad que surge del problema de estimar la media de una población normalmente distribuida cuando el tamaño de la muestra es pequeño. \n",
    "\n",
    "Aparece de manera natural al realizar la prueba t de Student para la determinación de las diferencias entre dos varianzas muestrales y para la construcción del intervalo de confianza para la diferencia entre las partes de dos poblaciones cuando se desconoce la desviación típica de una población y esta debe ser estimada a partir de los datos de una muestra. "
   ]
  },
  {
   "cell_type": "code",
   "execution_count": null,
   "id": "119549af-f07f-4efe-8b33-0fcc2df71a45",
   "metadata": {},
   "outputs": [],
   "source": []
  },
  {
   "cell_type": "code",
   "execution_count": 60,
   "id": "f45a607f-1efd-45de-84be-48f1aec3e763",
   "metadata": {},
   "outputs": [
    {
     "data": {
      "image/png": "[encoded data removed]",
      "text/plain": [
       "<Figure size 432x288 with 1 Axes>"
      ]
     },
     "metadata": {
      "needs_background": "light"
     },
     "output_type": "display_data"
    }
   ],
   "source": [
    "from scipy.stats import t\n",
    "\n",
    "# Generemos dos muestras aleatorias para verlas graficadas. \n",
    "data1 = t.rvs(100, size = 1000000)\n",
    "data2 = t.rvs(10, size = 1000000)\n",
    "\n",
    "ax = sns.distplot(data2, bins = 500, kde = False, color = 'blue')\n",
    "ax = sns.distplot(data1, bins = 500, kde = False, color = 'red')"
   ]
  },
  {
   "cell_type": "markdown",
   "id": "ede03006-eb7a-434f-b10f-f6dabd2a5037",
   "metadata": {},
   "source": [
    "# Chi - cuadrado\n",
    "\n",
    "La [distribución Chi Cuadrado](https://es.wikipedia.org/wiki/Distribuci%C3%B3n_%CF%87%C2%B2) o de Pearson, ésta es una distribución probabilística continua que se apoya en un parámetro que representa los grados de libertad, la utilidad de este tipo de distribución es que permite determinar la relación entre dos variables, es decir, si existe o no, dependencia estadística entre ellas.\n",
    "\n",
    "Para poder utilizarla se deben plantear 2 hipotesis. \n",
    "\n",
    "Una hipotesis nula y una hipotesis alternativa. Realizando la prueba de chi-cuadrada podemos obtener cual de las hipotesis es mas probabe. Una chi-cuadrada se calcula y la otra se obtiene por [tabla](http://uregina.ca/~gingrich/appchi.pdf)."
   ]
  },
  {
   "cell_type": "code",
   "execution_count": 61,
   "id": "0d1206ff-8fed-478e-91eb-fbd1a0182b14",
   "metadata": {},
   "outputs": [
    {
     "data": {
      "image/png": "[encoded data removed]",
      "text/plain": [
       "<Figure size 432x288 with 1 Axes>"
      ]
     },
     "metadata": {
      "needs_background": "light"
     },
     "output_type": "display_data"
    }
   ],
   "source": [
    "from scipy.stats import chi2\n",
    "\n",
    "# Generemos dos muestras aleatorias para verlas graficadas. \n",
    "data1 = chi2.rvs(5, size = 1000000)\n",
    "data2 = chi2.rvs(15, size = 1000000)\n",
    "\n",
    "ax = sns.distplot(data2, bins = 500, kde = False, color = 'blue')\n",
    "ax = sns.distplot(data1, bins = 500, kde = False, color = 'red')"
   ]
  },
  {
   "cell_type": "markdown",
   "id": "19efc880-bba3-4e2e-ac01-d96dcf9885e5",
   "metadata": {},
   "source": [
    "# F Fisher-Snecdecor\n",
    "\n",
    "La [distribución F de Fisher](https://es.qwe.wiki/wiki/F-distribution) es una distribución que depende de dos parámetros. Se utiliza para evaluar la capacidad explicativa que tiene un grupo de variables independientes sobre la variación de la variable dependiente. Este test es de uso común en inferencia estadística para realizar contrastes de hipótesis."
   ]
  },
  {
   "cell_type": "code",
   "execution_count": 62,
   "id": "a2fdacc9-e96c-41cf-a188-a23b411be116",
   "metadata": {},
   "outputs": [
    {
     "data": {
      "image/png": "[encoded data removed]",
      "text/plain": [
       "<Figure size 432x288 with 1 Axes>"
      ]
     },
     "metadata": {
      "needs_background": "light"
     },
     "output_type": "display_data"
    }
   ],
   "source": [
    "from scipy.stats import f\n",
    "\n",
    "# Generemos dos muestras aleatorias para verlas graficadas. \n",
    "data1 = f.rvs(5, 25, size = 1000000)\n",
    "data2 = f.rvs(15, 25, size = 1000000)\n",
    "\n",
    "ax = sns.distplot(data2, bins = 500, kde = False, color = 'blue')\n",
    "ax = sns.distplot(data1, bins = 500, kde = False, color = 'red')"
   ]
  },
  {
   "cell_type": "markdown",
   "id": "01f10798-5523-4e53-ab97-163147ced274",
   "metadata": {},
   "source": [
    "## Calculo de probabildad"
   ]
  },
  {
   "cell_type": "code",
   "execution_count": 63,
   "id": "4ba799c7-e3e2-4ca8-b4e6-5cd7204a9016",
   "metadata": {},
   "outputs": [
    {
     "data": {
      "text/plain": [
       "0.0019800859524222187"
      ]
     },
     "execution_count": 63,
     "metadata": {},
     "output_type": "execute_result"
    }
   ],
   "source": [
    "# Calculo de probabilidad\n",
    "# 15 y 25 son los grados de libertad de muestra x, y\n",
    "# ¿que probabilidad hay de obtener un 4 en esa distribucion?\n",
    "f.pdf(4,15,25) "
   ]
  },
  {
   "cell_type": "code",
   "execution_count": 64,
   "id": "8a869175-0115-40f2-ac2d-0178c5ec280e",
   "metadata": {},
   "outputs": [
    {
     "data": {
      "text/plain": [
       "0.9988900520089906"
      ]
     },
     "execution_count": 64,
     "metadata": {},
     "output_type": "execute_result"
    }
   ],
   "source": [
    "# Calculo de probabilidad ACUMULADA\n",
    "\n",
    "f.cdf(4,15,25) "
   ]
  },
  {
   "cell_type": "code",
   "execution_count": 65,
   "id": "dada33e6-2160-4640-9c51-b2d0a879e95c",
   "metadata": {},
   "outputs": [
    {
     "data": {
      "text/plain": [
       "4.000000000000022"
      ]
     },
     "execution_count": 65,
     "metadata": {},
     "output_type": "execute_result"
    }
   ],
   "source": [
    "# calculo del valor que acumula una determinada probabilidad\n",
    "f.ppf(0.9988900520089906, 15, 25)"
   ]
  },
  {
   "cell_type": "code",
   "execution_count": 66,
   "id": "2319ed53-6b45-47f5-bc17-6d867b408bc1",
   "metadata": {},
   "outputs": [
    {
     "data": {
      "text/plain": [
       "0.982011155699839"
      ]
     },
     "execution_count": 66,
     "metadata": {},
     "output_type": "execute_result"
    }
   ],
   "source": [
    "# Veamos cual es el valor que acumula el 50%\n",
    "f.ppf(0.5, 15, 25)"
   ]
  },
  {
   "cell_type": "code",
   "execution_count": null,
   "id": "363ff676-7ac1-4138-a3ec-d83e12e23162",
   "metadata": {},
   "outputs": [],
   "source": []
  }
 ],
 "metadata": {
  "kernelspec": {
   "display_name": "Python 3 (ipykernel)",
   "language": "python",
   "name": "python3"
  },
  "language_info": {
   "codemirror_mode": {
    "name": "ipython",
    "version": 3
   },
   "file_extension": ".py",
   "mimetype": "text/x-python",
   "name": "python",
   "nbconvert_exporter": "python",
   "pygments_lexer": "ipython3",
   "version": "3.10.9"
  }
 },
 "nbformat": 4,
 "nbformat_minor": 5
}
