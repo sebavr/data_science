{
 "cells": [
  {
   "cell_type": "markdown",
   "id": "06a3a6e2",
   "metadata": {},
   "source": [
    "### Problema 1"
   ]
  },
  {
   "cell_type": "markdown",
   "id": "b8df4326",
   "metadata": {},
   "source": [
    "Una máquina fabrica tornillos cuyo valor nominal debe ser de 800 milímetros de largo, con una \n",
    "desviación estándar de 5%. Se toma una muestra aleatoria, es decir en distintos días de la semana de \n",
    "producción, que totaliza unos 40 tornillos. Cuando se calcula la longitud promedio de la muestra, se \n",
    "obtiene el valor 790 milímetros. Determinar si el largo promedio está en la tolerancia con niveles de \n",
    "significancia respectivamente de 1%, 5% y 10%"
   ]
  },
  {
   "cell_type": "markdown",
   "id": "7b995eac",
   "metadata": {},
   "source": [
    "#### Respuesta:"
   ]
  },
  {
   "cell_type": "markdown",
   "id": "3f40ab76",
   "metadata": {},
   "source": [
    "La desviacion estandar es el 5%, entonces\n",
    "800*0.05\n",
    "=40\n"
   ]
  },
  {
   "cell_type": "markdown",
   "id": "bc17abf4",
   "metadata": {},
   "source": [
    "- muestra=40\n",
    "- media=790\n",
    "- desv=40"
   ]
  },
  {
   "cell_type": "markdown",
   "id": "db5f8c35",
   "metadata": {},
   "source": [
    "\n",
    "    \n",
    "   $$ H_{0}: \\text{El largo promedio de la muestra esta dentro de la tolerancia de niveles requerida} $$\n"
   ]
  },
  {
   "cell_type": "code",
   "execution_count": 43,
   "id": "37663a2e",
   "metadata": {},
   "outputs": [],
   "source": [
    "import numpy as np\n",
    "import scipy.stats as st\n",
    "import math \n",
    "\n"
   ]
  },
  {
   "cell_type": "markdown",
   "id": "0ba96b1e",
   "metadata": {},
   "source": []
  },
  {
   "cell_type": "markdown",
   "id": "5e7243e8",
   "metadata": {},
   "source": [
    "Con 1%"
   ]
  },
  {
   "cell_type": "code",
   "execution_count": 54,
   "id": "65c290fd",
   "metadata": {},
   "outputs": [
    {
     "data": {
      "text/plain": [
       "(773.7090250739604, 806.2909749260396)"
      ]
     },
     "execution_count": 54,
     "metadata": {},
     "output_type": "execute_result"
    }
   ],
   "source": [
    "st.norm.interval(confidence = 0.99 , loc =790, scale = 40/math.sqrt(40))"
   ]
  },
  {
   "cell_type": "markdown",
   "id": "50091eab",
   "metadata": {},
   "source": [
    "Con 5%"
   ]
  },
  {
   "cell_type": "code",
   "execution_count": 53,
   "id": "3ce4916a",
   "metadata": {},
   "outputs": [
    {
     "data": {
      "text/plain": [
       "(777.6040993539087, 802.3959006460913)"
      ]
     },
     "execution_count": 53,
     "metadata": {},
     "output_type": "execute_result"
    }
   ],
   "source": [
    "st.norm.interval(confidence = 0.95 , loc =790, scale = 40/math.sqrt(40))"
   ]
  },
  {
   "cell_type": "markdown",
   "id": "3f9b4e74",
   "metadata": {},
   "source": [
    "Con 10%"
   ]
  },
  {
   "cell_type": "code",
   "execution_count": 52,
   "id": "07074931",
   "metadata": {},
   "outputs": [
    {
     "data": {
      "text/plain": [
       "(779.5970322424888, 800.4029677575112)"
      ]
     },
     "execution_count": 52,
     "metadata": {},
     "output_type": "execute_result"
    }
   ],
   "source": [
    "st.norm.interval(confidence = 0.90 , loc =790, scale = 40/math.sqrt(40))"
   ]
  },
  {
   "cell_type": "markdown",
   "id": "aadc64cd",
   "metadata": {},
   "source": [
    "800 esta dentro del rango de las 3 tolerancias por lo que No se rechaza la hipotesis nula"
   ]
  },
  {
   "cell_type": "code",
   "execution_count": null,
   "id": "1ac32bc9",
   "metadata": {},
   "outputs": [],
   "source": []
  },
  {
   "cell_type": "markdown",
   "id": "cdbfbd02",
   "metadata": {},
   "source": [
    "### Problema 2"
   ]
  },
  {
   "cell_type": "markdown",
   "id": "fa31bda9",
   "metadata": {},
   "source": [
    "Carl Reinhold August Wunderlich fue un médico que fue pionero en la medición de la temperatura \n",
    "promedio del cuerpo humano saludable, que descubrió que era de 98,6 ° F. Casi 150 años después, \n",
    "los investigadores de la Universidad de Maryland evalúan el famoso estándar de 98.6 ° F. Se midieron \n",
    "la temperatura corporal de 148 hombres y mujeres sanos, que produjeron un promedio de 98.24923 °\n",
    "F. Con la desviación estándar tradicionalmente conocida de la temperatura del cuerpo humano en \n",
    "alrededor de 0,63 ° F ¿hay evidencia a un nivel de significancia del 1% de que la verdadera \n",
    "temperatura promedio del cuerpo humano difiere de 98,6 ° F?."
   ]
  },
  {
   "cell_type": "markdown",
   "id": "01b3f21e",
   "metadata": {},
   "source": [
    "#### Respuesta:"
   ]
  },
  {
   "cell_type": "code",
   "execution_count": 55,
   "id": "75cc3f0d",
   "metadata": {},
   "outputs": [],
   "source": [
    "N=148\n",
    "mu= 98.24923\n",
    "sigma=0.63\n",
    "\n"
   ]
  },
  {
   "cell_type": "markdown",
   "id": "f09e6ba9",
   "metadata": {},
   "source": [
    "    \n",
    "   $$ H_{0}: \\text{La temperatura del cuerpo humano no difiere de los 98,6 °F} $$"
   ]
  },
  {
   "cell_type": "code",
   "execution_count": 56,
   "id": "907aa4ca",
   "metadata": {},
   "outputs": [
    {
     "data": {
      "text/plain": [
       "(98.1158389253729, 98.3826210746271)"
      ]
     },
     "execution_count": 56,
     "metadata": {},
     "output_type": "execute_result"
    }
   ],
   "source": [
    "st.norm.interval(confidence = 0.99 , loc =mu, scale = sigma/math.sqrt(N))"
   ]
  },
  {
   "cell_type": "markdown",
   "id": "c1bcc8cc",
   "metadata": {},
   "source": [
    "Se rechaza la hipotesis nula, ya que si difiere de los  98,6 ° F a un nivel de significancia del 1%"
   ]
  },
  {
   "cell_type": "code",
   "execution_count": null,
   "id": "b110cb07",
   "metadata": {},
   "outputs": [],
   "source": []
  }
 ],
 "metadata": {
  "kernelspec": {
   "display_name": "Python 3 (ipykernel)",
   "language": "python",
   "name": "python3"
  },
  "language_info": {
   "codemirror_mode": {
    "name": "ipython",
    "version": 3
   },
   "file_extension": ".py",
   "mimetype": "text/x-python",
   "name": "python",
   "nbconvert_exporter": "python",
   "pygments_lexer": "ipython3",
   "version": "3.10.9"
  }
 },
 "nbformat": 4,
 "nbformat_minor": 5
}
