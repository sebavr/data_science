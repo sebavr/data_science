{
 "cells": [
  {
   "cell_type": "markdown",
   "id": "7c3efbf2",
   "metadata": {},
   "source": [
    "### Enunciado del Problema:\n"
   ]
  },
  {
   "cell_type": "markdown",
   "id": "b0d0f8f4",
   "metadata": {},
   "source": [
    "Usted ha sido contratado en el ministerio de educación para analizar los resultados de una nueva \n",
    "metodología de educación implementada en el colegio Graham Parker (GP), versus el colegio\n",
    "Marteen Sheen (MS), en donde no fue aplicada la metodología.\n",
    "Ambos colegios han tenido históricamente desempeños similares en las notas de sus alumnos. \n",
    "\n",
    "En base a este set de datos que se adjunta (notas-alumnos.csv), aplique sus conocimientos de \n",
    "estadística diferencial para determinar si esta nueva metodología de educación aplicada produjo\n",
    "una mejora significativa en el promedio de los estudiantes."
   ]
  },
  {
   "cell_type": "markdown",
   "id": "c05bdcdf",
   "metadata": {},
   "source": [
    "#### Respuesta:"
   ]
  },
  {
   "cell_type": "code",
   "execution_count": 70,
   "id": "8d4e6f5f",
   "metadata": {},
   "outputs": [],
   "source": [
    "import matplotlib.pyplot as plt \n",
    "import numpy as np\n",
    "import pandas as pd\n",
    "import scipy.stats as st\n",
    "import math \n"
   ]
  },
  {
   "cell_type": "markdown",
   "id": "15c98f88",
   "metadata": {},
   "source": [
    "#### Obtención y limpieza de datos"
   ]
  },
  {
   "cell_type": "code",
   "execution_count": 3,
   "id": "1f05afda",
   "metadata": {},
   "outputs": [],
   "source": [
    "df=pd.read_csv('notas-alumnos.csv')"
   ]
  },
  {
   "cell_type": "code",
   "execution_count": 4,
   "id": "949619df",
   "metadata": {},
   "outputs": [
    {
     "data": {
      "text/html": [
       "<div>\n",
       "<style scoped>\n",
       "    .dataframe tbody tr th:only-of-type {\n",
       "        vertical-align: middle;\n",
       "    }\n",
       "\n",
       "    .dataframe tbody tr th {\n",
       "        vertical-align: top;\n",
       "    }\n",
       "\n",
       "    .dataframe thead th {\n",
       "        text-align: right;\n",
       "    }\n",
       "</style>\n",
       "<table border=\"1\" class=\"dataframe\">\n",
       "  <thead>\n",
       "    <tr style=\"text-align: right;\">\n",
       "      <th></th>\n",
       "      <th>colegio</th>\n",
       "      <th>sexo</th>\n",
       "      <th>edad</th>\n",
       "      <th>ausencias</th>\n",
       "      <th>N1</th>\n",
       "      <th>N2</th>\n",
       "      <th>N3</th>\n",
       "    </tr>\n",
       "  </thead>\n",
       "  <tbody>\n",
       "    <tr>\n",
       "      <th>0</th>\n",
       "      <td>GP</td>\n",
       "      <td>F</td>\n",
       "      <td>18</td>\n",
       "      <td>6</td>\n",
       "      <td>1.8</td>\n",
       "      <td>2.1</td>\n",
       "      <td>2.1</td>\n",
       "    </tr>\n",
       "    <tr>\n",
       "      <th>1</th>\n",
       "      <td>GP</td>\n",
       "      <td>F</td>\n",
       "      <td>17</td>\n",
       "      <td>4</td>\n",
       "      <td>1.8</td>\n",
       "      <td>1.8</td>\n",
       "      <td>2.1</td>\n",
       "    </tr>\n",
       "    <tr>\n",
       "      <th>2</th>\n",
       "      <td>GP</td>\n",
       "      <td>F</td>\n",
       "      <td>15</td>\n",
       "      <td>10</td>\n",
       "      <td>2.4</td>\n",
       "      <td>2.8</td>\n",
       "      <td>3.5</td>\n",
       "    </tr>\n",
       "    <tr>\n",
       "      <th>3</th>\n",
       "      <td>GP</td>\n",
       "      <td>F</td>\n",
       "      <td>15</td>\n",
       "      <td>2</td>\n",
       "      <td>5.2</td>\n",
       "      <td>4.9</td>\n",
       "      <td>5.2</td>\n",
       "    </tr>\n",
       "    <tr>\n",
       "      <th>4</th>\n",
       "      <td>GP</td>\n",
       "      <td>F</td>\n",
       "      <td>16</td>\n",
       "      <td>4</td>\n",
       "      <td>2.1</td>\n",
       "      <td>3.5</td>\n",
       "      <td>3.5</td>\n",
       "    </tr>\n",
       "  </tbody>\n",
       "</table>\n",
       "</div>"
      ],
      "text/plain": [
       "  colegio sexo  edad  ausencias   N1   N2   N3\n",
       "0      GP    F    18          6  1.8  2.1  2.1\n",
       "1      GP    F    17          4  1.8  1.8  2.1\n",
       "2      GP    F    15         10  2.4  2.8  3.5\n",
       "3      GP    F    15          2  5.2  4.9  5.2\n",
       "4      GP    F    16          4  2.1  3.5  3.5"
      ]
     },
     "execution_count": 4,
     "metadata": {},
     "output_type": "execute_result"
    }
   ],
   "source": [
    "df.head()"
   ]
  },
  {
   "cell_type": "code",
   "execution_count": 5,
   "id": "20d6cb81",
   "metadata": {},
   "outputs": [
    {
     "data": {
      "text/html": [
       "<div>\n",
       "<style scoped>\n",
       "    .dataframe tbody tr th:only-of-type {\n",
       "        vertical-align: middle;\n",
       "    }\n",
       "\n",
       "    .dataframe tbody tr th {\n",
       "        vertical-align: top;\n",
       "    }\n",
       "\n",
       "    .dataframe thead th {\n",
       "        text-align: right;\n",
       "    }\n",
       "</style>\n",
       "<table border=\"1\" class=\"dataframe\">\n",
       "  <thead>\n",
       "    <tr style=\"text-align: right;\">\n",
       "      <th></th>\n",
       "      <th>colegio</th>\n",
       "      <th>sexo</th>\n",
       "      <th>edad</th>\n",
       "      <th>ausencias</th>\n",
       "      <th>N1</th>\n",
       "      <th>N2</th>\n",
       "      <th>N3</th>\n",
       "    </tr>\n",
       "  </thead>\n",
       "  <tbody>\n",
       "    <tr>\n",
       "      <th>390</th>\n",
       "      <td>MS</td>\n",
       "      <td>M</td>\n",
       "      <td>20</td>\n",
       "      <td>11</td>\n",
       "      <td>3.2</td>\n",
       "      <td>3.2</td>\n",
       "      <td>3.2</td>\n",
       "    </tr>\n",
       "    <tr>\n",
       "      <th>391</th>\n",
       "      <td>MS</td>\n",
       "      <td>M</td>\n",
       "      <td>17</td>\n",
       "      <td>3</td>\n",
       "      <td>4.9</td>\n",
       "      <td>5.6</td>\n",
       "      <td>5.6</td>\n",
       "    </tr>\n",
       "    <tr>\n",
       "      <th>392</th>\n",
       "      <td>MS</td>\n",
       "      <td>M</td>\n",
       "      <td>21</td>\n",
       "      <td>3</td>\n",
       "      <td>3.5</td>\n",
       "      <td>2.8</td>\n",
       "      <td>2.4</td>\n",
       "    </tr>\n",
       "    <tr>\n",
       "      <th>393</th>\n",
       "      <td>MS</td>\n",
       "      <td>M</td>\n",
       "      <td>18</td>\n",
       "      <td>0</td>\n",
       "      <td>3.9</td>\n",
       "      <td>4.2</td>\n",
       "      <td>3.5</td>\n",
       "    </tr>\n",
       "    <tr>\n",
       "      <th>394</th>\n",
       "      <td>MS</td>\n",
       "      <td>M</td>\n",
       "      <td>19</td>\n",
       "      <td>5</td>\n",
       "      <td>2.8</td>\n",
       "      <td>3.2</td>\n",
       "      <td>3.2</td>\n",
       "    </tr>\n",
       "  </tbody>\n",
       "</table>\n",
       "</div>"
      ],
      "text/plain": [
       "    colegio sexo  edad  ausencias   N1   N2   N3\n",
       "390      MS    M    20         11  3.2  3.2  3.2\n",
       "391      MS    M    17          3  4.9  5.6  5.6\n",
       "392      MS    M    21          3  3.5  2.8  2.4\n",
       "393      MS    M    18          0  3.9  4.2  3.5\n",
       "394      MS    M    19          5  2.8  3.2  3.2"
      ]
     },
     "execution_count": 5,
     "metadata": {},
     "output_type": "execute_result"
    }
   ],
   "source": [
    "df.tail()"
   ]
  },
  {
   "cell_type": "code",
   "execution_count": 48,
   "id": "c26e7d9c",
   "metadata": {},
   "outputs": [
    {
     "data": {
      "text/plain": [
       "colegio      46\n",
       "sexo         46\n",
       "edad         46\n",
       "ausencias    46\n",
       "N1           46\n",
       "N2           46\n",
       "N3           46\n",
       "Promedio     46\n",
       "dtype: int64"
      ]
     },
     "execution_count": 48,
     "metadata": {},
     "output_type": "execute_result"
    }
   ],
   "source": [
    "df[df['colegio']=='MS'].count()"
   ]
  },
  {
   "cell_type": "code",
   "execution_count": 49,
   "id": "ef0a8f6e",
   "metadata": {},
   "outputs": [
    {
     "data": {
      "text/plain": [
       "colegio      349\n",
       "sexo         349\n",
       "edad         349\n",
       "ausencias    349\n",
       "N1           349\n",
       "N2           349\n",
       "N3           349\n",
       "Promedio     349\n",
       "dtype: int64"
      ]
     },
     "execution_count": 49,
     "metadata": {},
     "output_type": "execute_result"
    }
   ],
   "source": [
    "df[df['colegio']=='GP'].count()"
   ]
  },
  {
   "cell_type": "markdown",
   "id": "b66d175a",
   "metadata": {},
   "source": [
    "#### Agregamos columna promedio"
   ]
  },
  {
   "cell_type": "code",
   "execution_count": 10,
   "id": "3ed9ff71",
   "metadata": {},
   "outputs": [],
   "source": [
    "df['Promedio']=round((df['N1']+df['N2']+df['N3'])/3,1)"
   ]
  },
  {
   "cell_type": "code",
   "execution_count": 11,
   "id": "7433b8a4",
   "metadata": {},
   "outputs": [
    {
     "data": {
      "text/html": [
       "<div>\n",
       "<style scoped>\n",
       "    .dataframe tbody tr th:only-of-type {\n",
       "        vertical-align: middle;\n",
       "    }\n",
       "\n",
       "    .dataframe tbody tr th {\n",
       "        vertical-align: top;\n",
       "    }\n",
       "\n",
       "    .dataframe thead th {\n",
       "        text-align: right;\n",
       "    }\n",
       "</style>\n",
       "<table border=\"1\" class=\"dataframe\">\n",
       "  <thead>\n",
       "    <tr style=\"text-align: right;\">\n",
       "      <th></th>\n",
       "      <th>colegio</th>\n",
       "      <th>sexo</th>\n",
       "      <th>edad</th>\n",
       "      <th>ausencias</th>\n",
       "      <th>N1</th>\n",
       "      <th>N2</th>\n",
       "      <th>N3</th>\n",
       "      <th>Promedio</th>\n",
       "    </tr>\n",
       "  </thead>\n",
       "  <tbody>\n",
       "    <tr>\n",
       "      <th>0</th>\n",
       "      <td>GP</td>\n",
       "      <td>F</td>\n",
       "      <td>18</td>\n",
       "      <td>6</td>\n",
       "      <td>1.8</td>\n",
       "      <td>2.1</td>\n",
       "      <td>2.1</td>\n",
       "      <td>2.0</td>\n",
       "    </tr>\n",
       "    <tr>\n",
       "      <th>1</th>\n",
       "      <td>GP</td>\n",
       "      <td>F</td>\n",
       "      <td>17</td>\n",
       "      <td>4</td>\n",
       "      <td>1.8</td>\n",
       "      <td>1.8</td>\n",
       "      <td>2.1</td>\n",
       "      <td>1.9</td>\n",
       "    </tr>\n",
       "    <tr>\n",
       "      <th>2</th>\n",
       "      <td>GP</td>\n",
       "      <td>F</td>\n",
       "      <td>15</td>\n",
       "      <td>10</td>\n",
       "      <td>2.4</td>\n",
       "      <td>2.8</td>\n",
       "      <td>3.5</td>\n",
       "      <td>2.9</td>\n",
       "    </tr>\n",
       "    <tr>\n",
       "      <th>3</th>\n",
       "      <td>GP</td>\n",
       "      <td>F</td>\n",
       "      <td>15</td>\n",
       "      <td>2</td>\n",
       "      <td>5.2</td>\n",
       "      <td>4.9</td>\n",
       "      <td>5.2</td>\n",
       "      <td>5.1</td>\n",
       "    </tr>\n",
       "    <tr>\n",
       "      <th>4</th>\n",
       "      <td>GP</td>\n",
       "      <td>F</td>\n",
       "      <td>16</td>\n",
       "      <td>4</td>\n",
       "      <td>2.1</td>\n",
       "      <td>3.5</td>\n",
       "      <td>3.5</td>\n",
       "      <td>3.0</td>\n",
       "    </tr>\n",
       "    <tr>\n",
       "      <th>...</th>\n",
       "      <td>...</td>\n",
       "      <td>...</td>\n",
       "      <td>...</td>\n",
       "      <td>...</td>\n",
       "      <td>...</td>\n",
       "      <td>...</td>\n",
       "      <td>...</td>\n",
       "      <td>...</td>\n",
       "    </tr>\n",
       "    <tr>\n",
       "      <th>390</th>\n",
       "      <td>MS</td>\n",
       "      <td>M</td>\n",
       "      <td>20</td>\n",
       "      <td>11</td>\n",
       "      <td>3.2</td>\n",
       "      <td>3.2</td>\n",
       "      <td>3.2</td>\n",
       "      <td>3.2</td>\n",
       "    </tr>\n",
       "    <tr>\n",
       "      <th>391</th>\n",
       "      <td>MS</td>\n",
       "      <td>M</td>\n",
       "      <td>17</td>\n",
       "      <td>3</td>\n",
       "      <td>4.9</td>\n",
       "      <td>5.6</td>\n",
       "      <td>5.6</td>\n",
       "      <td>5.4</td>\n",
       "    </tr>\n",
       "    <tr>\n",
       "      <th>392</th>\n",
       "      <td>MS</td>\n",
       "      <td>M</td>\n",
       "      <td>21</td>\n",
       "      <td>3</td>\n",
       "      <td>3.5</td>\n",
       "      <td>2.8</td>\n",
       "      <td>2.4</td>\n",
       "      <td>2.9</td>\n",
       "    </tr>\n",
       "    <tr>\n",
       "      <th>393</th>\n",
       "      <td>MS</td>\n",
       "      <td>M</td>\n",
       "      <td>18</td>\n",
       "      <td>0</td>\n",
       "      <td>3.9</td>\n",
       "      <td>4.2</td>\n",
       "      <td>3.5</td>\n",
       "      <td>3.9</td>\n",
       "    </tr>\n",
       "    <tr>\n",
       "      <th>394</th>\n",
       "      <td>MS</td>\n",
       "      <td>M</td>\n",
       "      <td>19</td>\n",
       "      <td>5</td>\n",
       "      <td>2.8</td>\n",
       "      <td>3.2</td>\n",
       "      <td>3.2</td>\n",
       "      <td>3.1</td>\n",
       "    </tr>\n",
       "  </tbody>\n",
       "</table>\n",
       "<p>395 rows × 8 columns</p>\n",
       "</div>"
      ],
      "text/plain": [
       "    colegio sexo  edad  ausencias   N1   N2   N3  Promedio\n",
       "0        GP    F    18          6  1.8  2.1  2.1       2.0\n",
       "1        GP    F    17          4  1.8  1.8  2.1       1.9\n",
       "2        GP    F    15         10  2.4  2.8  3.5       2.9\n",
       "3        GP    F    15          2  5.2  4.9  5.2       5.1\n",
       "4        GP    F    16          4  2.1  3.5  3.5       3.0\n",
       "..      ...  ...   ...        ...  ...  ...  ...       ...\n",
       "390      MS    M    20         11  3.2  3.2  3.2       3.2\n",
       "391      MS    M    17          3  4.9  5.6  5.6       5.4\n",
       "392      MS    M    21          3  3.5  2.8  2.4       2.9\n",
       "393      MS    M    18          0  3.9  4.2  3.5       3.9\n",
       "394      MS    M    19          5  2.8  3.2  3.2       3.1\n",
       "\n",
       "[395 rows x 8 columns]"
      ]
     },
     "execution_count": 11,
     "metadata": {},
     "output_type": "execute_result"
    }
   ],
   "source": [
    "df"
   ]
  },
  {
   "cell_type": "code",
   "execution_count": 12,
   "id": "59a3667e",
   "metadata": {},
   "outputs": [
    {
     "name": "stdout",
     "output_type": "stream",
     "text": [
      "<class 'pandas.core.frame.DataFrame'>\n",
      "RangeIndex: 395 entries, 0 to 394\n",
      "Data columns (total 8 columns):\n",
      " #   Column     Non-Null Count  Dtype  \n",
      "---  ------     --------------  -----  \n",
      " 0   colegio    395 non-null    object \n",
      " 1   sexo       395 non-null    object \n",
      " 2   edad       395 non-null    int64  \n",
      " 3   ausencias  395 non-null    int64  \n",
      " 4   N1         395 non-null    float64\n",
      " 5   N2         395 non-null    float64\n",
      " 6   N3         395 non-null    float64\n",
      " 7   Promedio   395 non-null    float64\n",
      "dtypes: float64(4), int64(2), object(2)\n",
      "memory usage: 24.8+ KB\n"
     ]
    }
   ],
   "source": [
    "df.info()"
   ]
  },
  {
   "cell_type": "code",
   "execution_count": 15,
   "id": "d1d73628",
   "metadata": {},
   "outputs": [
    {
     "data": {
      "text/plain": [
       "colegio      0\n",
       "sexo         0\n",
       "edad         0\n",
       "ausencias    0\n",
       "N1           0\n",
       "N2           0\n",
       "N3           0\n",
       "Promedio     0\n",
       "dtype: int64"
      ]
     },
     "execution_count": 15,
     "metadata": {},
     "output_type": "execute_result"
    }
   ],
   "source": [
    "df.isnull().sum()"
   ]
  },
  {
   "cell_type": "code",
   "execution_count": 16,
   "id": "2439ff2e",
   "metadata": {},
   "outputs": [
    {
     "data": {
      "text/html": [
       "<div>\n",
       "<style scoped>\n",
       "    .dataframe tbody tr th:only-of-type {\n",
       "        vertical-align: middle;\n",
       "    }\n",
       "\n",
       "    .dataframe tbody tr th {\n",
       "        vertical-align: top;\n",
       "    }\n",
       "\n",
       "    .dataframe thead th {\n",
       "        text-align: right;\n",
       "    }\n",
       "</style>\n",
       "<table border=\"1\" class=\"dataframe\">\n",
       "  <thead>\n",
       "    <tr style=\"text-align: right;\">\n",
       "      <th></th>\n",
       "      <th>edad</th>\n",
       "      <th>ausencias</th>\n",
       "      <th>N1</th>\n",
       "      <th>N2</th>\n",
       "      <th>N3</th>\n",
       "      <th>Promedio</th>\n",
       "    </tr>\n",
       "  </thead>\n",
       "  <tbody>\n",
       "    <tr>\n",
       "      <th>count</th>\n",
       "      <td>395.000000</td>\n",
       "      <td>395.000000</td>\n",
       "      <td>395.000000</td>\n",
       "      <td>395.000000</td>\n",
       "      <td>395.000000</td>\n",
       "      <td>395.000000</td>\n",
       "    </tr>\n",
       "    <tr>\n",
       "      <th>mean</th>\n",
       "      <td>16.696203</td>\n",
       "      <td>5.708861</td>\n",
       "      <td>3.824810</td>\n",
       "      <td>3.760506</td>\n",
       "      <td>3.654430</td>\n",
       "      <td>3.746835</td>\n",
       "    </tr>\n",
       "    <tr>\n",
       "      <th>std</th>\n",
       "      <td>1.276043</td>\n",
       "      <td>8.003096</td>\n",
       "      <td>1.164139</td>\n",
       "      <td>1.312304</td>\n",
       "      <td>1.601205</td>\n",
       "      <td>1.291876</td>\n",
       "    </tr>\n",
       "    <tr>\n",
       "      <th>min</th>\n",
       "      <td>15.000000</td>\n",
       "      <td>0.000000</td>\n",
       "      <td>1.000000</td>\n",
       "      <td>0.000000</td>\n",
       "      <td>0.000000</td>\n",
       "      <td>0.500000</td>\n",
       "    </tr>\n",
       "    <tr>\n",
       "      <th>25%</th>\n",
       "      <td>16.000000</td>\n",
       "      <td>0.000000</td>\n",
       "      <td>2.800000</td>\n",
       "      <td>3.200000</td>\n",
       "      <td>2.800000</td>\n",
       "      <td>2.900000</td>\n",
       "    </tr>\n",
       "    <tr>\n",
       "      <th>50%</th>\n",
       "      <td>17.000000</td>\n",
       "      <td>4.000000</td>\n",
       "      <td>3.900000</td>\n",
       "      <td>3.900000</td>\n",
       "      <td>3.900000</td>\n",
       "      <td>3.800000</td>\n",
       "    </tr>\n",
       "    <tr>\n",
       "      <th>75%</th>\n",
       "      <td>18.000000</td>\n",
       "      <td>8.000000</td>\n",
       "      <td>4.600000</td>\n",
       "      <td>4.600000</td>\n",
       "      <td>4.900000</td>\n",
       "      <td>4.700000</td>\n",
       "    </tr>\n",
       "    <tr>\n",
       "      <th>max</th>\n",
       "      <td>22.000000</td>\n",
       "      <td>75.000000</td>\n",
       "      <td>6.600000</td>\n",
       "      <td>6.600000</td>\n",
       "      <td>7.000000</td>\n",
       "      <td>6.700000</td>\n",
       "    </tr>\n",
       "  </tbody>\n",
       "</table>\n",
       "</div>"
      ],
      "text/plain": [
       "             edad   ausencias          N1          N2          N3    Promedio\n",
       "count  395.000000  395.000000  395.000000  395.000000  395.000000  395.000000\n",
       "mean    16.696203    5.708861    3.824810    3.760506    3.654430    3.746835\n",
       "std      1.276043    8.003096    1.164139    1.312304    1.601205    1.291876\n",
       "min     15.000000    0.000000    1.000000    0.000000    0.000000    0.500000\n",
       "25%     16.000000    0.000000    2.800000    3.200000    2.800000    2.900000\n",
       "50%     17.000000    4.000000    3.900000    3.900000    3.900000    3.800000\n",
       "75%     18.000000    8.000000    4.600000    4.600000    4.900000    4.700000\n",
       "max     22.000000   75.000000    6.600000    6.600000    7.000000    6.700000"
      ]
     },
     "execution_count": 16,
     "metadata": {},
     "output_type": "execute_result"
    }
   ],
   "source": [
    "df.describe()"
   ]
  },
  {
   "cell_type": "markdown",
   "id": "52cc3433",
   "metadata": {},
   "source": [
    "#### Análisis Exploratorio de Datos"
   ]
  },
  {
   "cell_type": "code",
   "execution_count": 24,
   "id": "a21b457c",
   "metadata": {},
   "outputs": [
    {
     "data": {
      "text/plain": [
       "Text(0, 0.5, 'Frecuencia de promedios')"
      ]
     },
     "execution_count": 24,
     "metadata": {},
     "output_type": "execute_result"
    },
    {
     "data": {
      "image/png": "[encoded data removed]",
      "text/plain": [
       "<Figure size 640x480 with 1 Axes>"
      ]
     },
     "metadata": {},
     "output_type": "display_data"
    }
   ],
   "source": [
    "#histograma\n",
    "fig=plt.figure()\n",
    "ax=fig.add_subplot(111)\n",
    "\n",
    "bins=np.arange(0,7,1)\n",
    "n,bins,patches=ax.hist(df['Promedio'],bins=bins,histtype='bar',ec='darkblue',fc='lightblue')\n",
    "ax.set_xlabel('Promedios')\n",
    "ax.set_ylabel('Frecuencia de promedios')\n"
   ]
  },
  {
   "cell_type": "markdown",
   "id": "246e21a3",
   "metadata": {},
   "source": [
    "#### Histograma por colegios"
   ]
  },
  {
   "cell_type": "code",
   "execution_count": 52,
   "id": "e272c2f5",
   "metadata": {},
   "outputs": [
    {
     "data": {
      "image/png": "[encoded data removed]",
      "text/plain": [
       "<Figure size 1000x500 with 2 Axes>"
      ]
     },
     "metadata": {},
     "output_type": "display_data"
    }
   ],
   "source": [
    "\n",
    "\n",
    "fig=plt.figure(figsize=(10,5))\n",
    "ax1=fig.add_subplot(121)\n",
    "ax2=fig.add_subplot(122)\n",
    "\n",
    "\n",
    "bins=np.arange(0,7,1)\n",
    "nbins=int(np.sqrt(len(df)))\n",
    "\n",
    "_=ax1.hist(df[df['colegio'] =='GP']['Promedio'],bins=nbins,histtype='bar',ec='darkblue',fc='lightblue')\n",
    "_=ax2.hist(df[df['colegio'] =='MS']['Promedio'],bins=nbins,histtype='bar',ec='darkblue',fc='red')\n",
    "\n",
    "ax1.set_title('Colegio GP')\n",
    "ax2.set_title('Colegio MS')\n",
    "\n",
    "for ax in [ax1,ax2]:\n",
    "    ax.set_xlabel('Promedios')\n",
    "    ax.set_ylabel('Frecuencia de promedios')"
   ]
  },
  {
   "cell_type": "markdown",
   "id": "0841db4f",
   "metadata": {},
   "source": [
    "La primera impresión que nos da es que para el Colegio GP hubo una concentracion mayor entre los promedios 3 y 4. Mientras que para el Colegio MS estan alrededor de 5 y mayor a 4. Cabe destacar que ambas muestras tienen un numero de muestra distinto."
   ]
  },
  {
   "cell_type": "markdown",
   "id": "5a63d6f6",
   "metadata": {},
   "source": [
    "#### Planteamiento del problema"
   ]
  },
  {
   "cell_type": "markdown",
   "id": "1242467d",
   "metadata": {},
   "source": [
    "- Para realizar el analisis, primero debemos ver que es lo que se quiere lograr. Se desea ver si la metolodologia implementada produce una mejora significativa en el promedio de los estudiantes.\n",
    "\n",
    "- Entonces:"
   ]
  },
  {
   "cell_type": "markdown",
   "id": "f00109cb",
   "metadata": {},
   "source": [
    "   $$ H_{0}: \\text{La metolodologia implementada produce una mejora significativa en el promedio de los estudiantes} $$\n",
    "        \n",
    "   $$ H_{1}: \\text{La metolodologia implementada no produce una mejora significativa en el promedio de los estudiantes} $$"
   ]
  },
  {
   "cell_type": "markdown",
   "id": "164b0098",
   "metadata": {},
   "source": [
    "La muestra es conjunto de estudiantes compuestos del Colegio GP y MS. "
   ]
  },
  {
   "cell_type": "markdown",
   "id": "82ecd887",
   "metadata": {},
   "source": [
    "#### Selección y justificación del test estadístico\n"
   ]
  },
  {
   "cell_type": "markdown",
   "id": "4c4641bf",
   "metadata": {},
   "source": [
    "Se usara la distribución normal, dado que son mas de 30 datos en la muestra."
   ]
  },
  {
   "cell_type": "markdown",
   "id": "210d8e1e",
   "metadata": {},
   "source": [
    "#### Calculo de Estadisticos"
   ]
  },
  {
   "cell_type": "code",
   "execution_count": 67,
   "id": "b82b2cf2",
   "metadata": {},
   "outputs": [
    {
     "name": "stdout",
     "output_type": "stream",
     "text": [
      "Colegio GP, mean:3.77, median:3.80, std:1.30, len:349\n"
     ]
    }
   ],
   "source": [
    "#Estadisticos para Colegio GP\n",
    "colegio=df[df['colegio']=='GP']\n",
    "\n",
    "print('%s, mean:%.2f, median:%.2f, std:%.2f, len:%.d'%('Colegio GP',colegio['Promedio'].mean(),colegio['Promedio'].median(),colegio['Promedio'].std(),len(colegio)))"
   ]
  },
  {
   "cell_type": "code",
   "execution_count": 68,
   "id": "ed07df87",
   "metadata": {},
   "outputs": [
    {
     "name": "stdout",
     "output_type": "stream",
     "text": [
      "Colegio MS, mean:3.60, median:3.55, std:1.23, len:46\n"
     ]
    }
   ],
   "source": [
    "#Estadisticos para Colegio MS\n",
    "colegio=df[df['colegio']=='MS']\n",
    "\n",
    "print('%s, mean:%.2f, median:%.2f, std:%.2f, len:%.d'%('Colegio MS',colegio['Promedio'].mean(),colegio['Promedio'].median(),colegio['Promedio'].std(),len(colegio)))"
   ]
  },
  {
   "cell_type": "markdown",
   "id": "c1f71599",
   "metadata": {},
   "source": [
    "Si se considera que ambas son muestras representativas de la población ya que en un futuro se espera aplicar la metodologia a nivel nacional dependiendo de los resultados. Entonces se hara inferencia estadistica de ambas para compararlas a un nivel de confianza de 1%,5% y 10%"
   ]
  },
  {
   "cell_type": "markdown",
   "id": "a9b66cc1",
   "metadata": {},
   "source": [
    "### Colegio GP"
   ]
  },
  {
   "cell_type": "code",
   "execution_count": 99,
   "id": "87908b50",
   "metadata": {},
   "outputs": [
    {
     "name": "stdout",
     "output_type": "stream",
     "text": [
      "Para un nivel de confianza de 1% ,los promedios del colegio Gp se encuentran entre:(3.590754724113629, 3.949245275886371)\n",
      "Para un nivel de confianza de 5% ,los promedios del colegio Gp se encuentran entre:(3.633611193236989, 3.9063888067630113)\n",
      "Para un nivel de confianza de 10% ,los promedios del colegio Gp se encuentran entre:(3.6555389051792355, 3.8844610948207645)\n"
     ]
    }
   ],
   "source": [
    "mu=3.77\n",
    "sigma=1.30\n",
    "N=349\n",
    "\n",
    "confianza=0.99,0.95,0.9\n",
    "nivel='1','5','10'\n",
    "s=[]\n",
    "\n",
    "for i in range(0,3):\n",
    "    s.append(st.norm.interval(confidence = confianza[i] , loc =mu, scale = sigma/math.sqrt(N)))\n",
    "    print('Para un nivel de confianza de '+str(nivel[i])+'% ,los promedios del colegio Gp se encuentran entre:'+str(s[i]))\n",
    "\n"
   ]
  },
  {
   "cell_type": "markdown",
   "id": "92311d77",
   "metadata": {},
   "source": [
    "### Colegio MS"
   ]
  },
  {
   "cell_type": "code",
   "execution_count": 101,
   "id": "764844d9",
   "metadata": {},
   "outputs": [
    {
     "name": "stdout",
     "output_type": "stream",
     "text": [
      "Para un nivel de confianza de 1% ,los promedios del colegio MS se encuentran entre:(3.132864067179282, 4.067135932820718)\n",
      "Para un nivel de confianza de 5% ,los promedios del colegio MS se encuentran entre:(3.2445534636353095, 3.9554465363646907)\n",
      "Para un nivel de confianza de 10% ,los promedios del colegio MS se encuentran entre:(3.301699863294171, 3.898300136705829)\n"
     ]
    }
   ],
   "source": [
    "mu=3.60\n",
    "sigma=1.23\n",
    "N=46\n",
    "\n",
    "confianza=0.99,0.95,0.9\n",
    "nivel='1','5','10'\n",
    "s=[]\n",
    "\n",
    "for i in range(0,3):\n",
    "    s.append(st.norm.interval(confidence = confianza[i] , loc =mu, scale = sigma/math.sqrt(N)))\n",
    "    print('Para un nivel de confianza de '+str(nivel[i])+'% ,los promedios del colegio MS se encuentran entre:'+str(s[i]))\n",
    "\n"
   ]
  },
  {
   "cell_type": "markdown",
   "id": "523ea7ec",
   "metadata": {},
   "source": [
    "#### Interpretación y conclusión"
   ]
  },
  {
   "cell_type": "markdown",
   "id": "c6a96b23",
   "metadata": {},
   "source": [
    "Si bien se puede notar que el promedio de GP es superior a MS, este se encuentra en un intervalo menor que el de MS. Para todos los niveles de confianza el valor del limite superior del Colegio MS fue superior a GP. Sin embargo caso contrario ocurre en el limite inferior, donde MS tiene valores mas bajos que GP. Con esto se puede concluir mas los histogramas que hubo personas que tuvieron mejor desempeño, tambien hubo personas que tuvieron un menor desempeño. Si las muestras hubieran sido mas parecidas y equitativas se podría realizar un mejor analisis, por lo que se recomienda que las muestras tengan un valor parecido para que los resultados sean mas concordantes. Se rechaza la hipotesis nula, por lo que los alumnos no mejoraron sus promedios de forma significativa con la nueva metodologia."
   ]
  },
  {
   "cell_type": "code",
   "execution_count": null,
   "id": "64c0527e",
   "metadata": {},
   "outputs": [],
   "source": []
  }
 ],
 "metadata": {
  "kernelspec": {
   "display_name": "Python 3 (ipykernel)",
   "language": "python",
   "name": "python3"
  },
  "language_info": {
   "codemirror_mode": {
    "name": "ipython",
    "version": 3
   },
   "file_extension": ".py",
   "mimetype": "text/x-python",
   "name": "python",
   "nbconvert_exporter": "python",
   "pygments_lexer": "ipython3",
   "version": "3.10.9"
  }
 },
 "nbformat": 4,
 "nbformat_minor": 5
}
