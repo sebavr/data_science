{
 "cells": [
  {
   "cell_type": "markdown",
   "metadata": {},
   "source": [
    "# Inferencia Estadística.\n",
    "\n",
    "\n",
    "\n",
    "\n",
    "\n"
   ]
  },
  {
   "cell_type": "markdown",
   "metadata": {},
   "source": [
    "## Caso de Estudio: Empres e-commerce\n",
    "\n",
    "###  Cargar librerias y dataset."
   ]
  },
  {
   "cell_type": "code",
   "execution_count": 2,
   "metadata": {},
   "outputs": [],
   "source": [
    "import matplotlib.pyplot as plt \n",
    "import numpy as np\n",
    "import pandas as pd"
   ]
  },
  {
   "cell_type": "code",
   "execution_count": 3,
   "metadata": {},
   "outputs": [],
   "source": [
    "#path='/Users/s/'\n",
    "#dat=pd.read_csv('%s/abtest.csv'%path)\n",
    "dat=pd.read_csv('abtest.csv')\n"
   ]
  },
  {
   "cell_type": "markdown",
   "metadata": {},
   "source": [
    "**1.** Imagine que ud. trabaja en una empresa de e-commerce, que está testeando un nuevo diseño de página web. El objetivo es lograr un aumento en la tasa de conversión (porcentaje de usuarios que realiza una compra) de al menos un 2%.\n",
    "\n",
    "Para el testeo, se diseña un experimento en base a dos grupos:\n",
    "\n",
    "> Grupo control (A): se les muestra la página original.\n",
    "\n",
    "> Grupo de tratamiento (B): se les muestra el nuevo diseño. \n",
    "\n",
    "Para cada grupo, se monitorea la actividad en la página web y se asigna una tasa de conversión de acuerdo a la siguiente regla: \n",
    "\n",
    "    0 - El usuario no compró el producto durante la sesión en la página web. \n",
    "    1 - El usuario si compró el producto durante la sesión en la página web. \n",
    "\n",
    "El experimento se desarrolla durante un mes, y para cada día se reporta la tasa de conversión promedio de cada grupo. Los datos están contenidos en el archivo `abtest.csv`.\n",
    "\n",
    "Para este caso, diseñe e implemente un testeo A/B que permita determinar si el diseño de la nueva página es o no efectivo. (40 pts)\n",
    "\n",
    "**R. 40 puntos si cumple lo solicitado, debe recomendar la página luego del análisis\n",
    "Descontar: 10 puntos si no comenta los resultados, otros\n",
    "10 puntos depende sugiere la recomendación de la nueva página o no**"
   ]
  },
  {
   "cell_type": "code",
   "execution_count": null,
   "metadata": {},
   "outputs": [],
   "source": []
  },
  {
   "cell_type": "markdown",
   "metadata": {},
   "source": [
    "## Caso de Estudio: Análisis de Votaciones Presidenciales en EEUU 2020.\n",
    "\n",
    "\n",
    "###  Descripción del Dataset.\n",
    "\n",
    "Los datos para este problema correspoden a los resultados de las elecciones presidenciales 2020 de EEUU (Biden vs. Trump), a nivel de condados. Además, se incluyen algunas variables sociodemográficos y resultados de elecciones anteriores.\n",
    "\n",
    "Estos datos pueden ser visualizados en el siguiente mapa de USA Today:\n",
    "\n",
    "https://www.usatoday.com/in-depth/graphics/2020/11/10/election-maps-2020-america-county-results-more-voters/6226197002/"
   ]
  },
  {
   "cell_type": "markdown",
   "metadata": {},
   "source": [
    "## Trabajo Individual\n",
    "\n",
    "**1.** Elija dos estados de EEUU, y compare la distribución de votos republicanos y demócratas a través de estadísticas descriptivas. Elabore también un gráfico de caja (boxplot), y comente sobre las similitudes y diferencias que puede inferir a partir del análisis exploratorio gráfico y cuantitativo.<br> (20 pts) \n",
    "\n",
    "**R. 20 puntos si cumple lo solicitado\n",
    "Descontar: 5 puntos si no comenta los resultados\n",
    "           5 puntos si no graficó el boxplot**\n",
    "\n",
    "\n"
   ]
  },
  {
   "cell_type": "code",
   "execution_count": null,
   "metadata": {},
   "outputs": [],
   "source": []
  },
  {
   "cell_type": "markdown",
   "metadata": {},
   "source": [
    "**2.** A partir de los datos entregados, estudie la posible correlación entre la fracción de votos republicanos (o demócratas) y alguna otras de las variables incluidas en la base de datos. Puede trabajar con todos los estados, o con alguna selección de ellos. Para este estudio, se requiere:<br>  (40 pts)\n",
    "\n",
    "a) Explorar y proponer una posible correlación o relación analítica entre variables.<br>\n",
    "b) Plantear una hipótesis que refleje esta correlación.<br>\n",
    "c) Diseñar y realizar el test de hipótesis.<br>\n",
    "d) Concluir acerca de la validez y significancia de la correlación identificada.<br>\n",
    "\n",
    "**R. 40 puntos si cumple lo solicitado\n",
    "Descontar: 10 puntos si no comenta los resultados\n",
    "5 puntos por hipótesis mal planteada 5 puntos menos por no justificar selección de variable por correlación**"
   ]
  },
  {
   "cell_type": "code",
   "execution_count": null,
   "metadata": {},
   "outputs": [],
   "source": []
  }
 ],
 "metadata": {
  "kernelspec": {
   "display_name": "Python 3",
   "language": "python",
   "name": "python3"
  },
  "language_info": {
   "codemirror_mode": {
    "name": "ipython",
    "version": 3
   },
   "file_extension": ".py",
   "mimetype": "text/x-python",
   "name": "python",
   "nbconvert_exporter": "python",
   "pygments_lexer": "ipython3",
   "version": "3.8.8"
  }
 },
 "nbformat": 4,
 "nbformat_minor": 4
}
