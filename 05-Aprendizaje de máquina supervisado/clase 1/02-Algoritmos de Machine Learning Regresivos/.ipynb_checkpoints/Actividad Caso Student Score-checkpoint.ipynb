{
 "cells": [
  {
   "cell_type": "markdown",
   "id": "8f1b465f",
   "metadata": {},
   "source": [
    "## Actividad Caso Student Score"
   ]
  },
  {
   "cell_type": "markdown",
   "id": "516baf23",
   "metadata": {},
   "source": [
    "Confeccione un notebook, ordenado y reproducible, en \n",
    "donde:\n",
    "- 1. Realice un análisis exploratorio del set de datos. ¿Algún insight?\n",
    "- 2. Implemente el algoritmo de descenso de gradiente para establecer un modelo regresivo lineal.\n",
    "- 3. Determine métricas de ajuste y error del modelo"
   ]
  },
  {
   "cell_type": "markdown",
   "id": "b7cbd9b4",
   "metadata": {},
   "source": [
    "##### Respuesta:"
   ]
  },
  {
   "cell_type": "code",
   "execution_count": 1,
   "id": "78b2cc99",
   "metadata": {},
   "outputs": [],
   "source": [
    "import pandas as pd\n",
    "import numpy as np\n",
    "import matplotlib.pyplot as plt\n",
    "%matplotlib inline"
   ]
  },
  {
   "cell_type": "code",
   "execution_count": 2,
   "id": "e374d49e",
   "metadata": {},
   "outputs": [],
   "source": [
    "df = pd.read_csv('student_scores.csv')"
   ]
  },
  {
   "cell_type": "markdown",
   "id": "97fa2689",
   "metadata": {},
   "source": [
    "#### Analisis Exploratorio"
   ]
  },
  {
   "cell_type": "code",
   "execution_count": 3,
   "id": "80da0c14",
   "metadata": {},
   "outputs": [
    {
     "data": {
      "text/html": [
       "<div>\n",
       "<style scoped>\n",
       "    .dataframe tbody tr th:only-of-type {\n",
       "        vertical-align: middle;\n",
       "    }\n",
       "\n",
       "    .dataframe tbody tr th {\n",
       "        vertical-align: top;\n",
       "    }\n",
       "\n",
       "    .dataframe thead th {\n",
       "        text-align: right;\n",
       "    }\n",
       "</style>\n",
       "<table border=\"1\" class=\"dataframe\">\n",
       "  <thead>\n",
       "    <tr style=\"text-align: right;\">\n",
       "      <th></th>\n",
       "      <th>Hours</th>\n",
       "      <th>Scores</th>\n",
       "    </tr>\n",
       "  </thead>\n",
       "  <tbody>\n",
       "    <tr>\n",
       "      <th>0</th>\n",
       "      <td>2.5</td>\n",
       "      <td>21</td>\n",
       "    </tr>\n",
       "    <tr>\n",
       "      <th>1</th>\n",
       "      <td>5.1</td>\n",
       "      <td>47</td>\n",
       "    </tr>\n",
       "    <tr>\n",
       "      <th>2</th>\n",
       "      <td>3.2</td>\n",
       "      <td>27</td>\n",
       "    </tr>\n",
       "    <tr>\n",
       "      <th>3</th>\n",
       "      <td>8.5</td>\n",
       "      <td>75</td>\n",
       "    </tr>\n",
       "    <tr>\n",
       "      <th>4</th>\n",
       "      <td>3.5</td>\n",
       "      <td>30</td>\n",
       "    </tr>\n",
       "  </tbody>\n",
       "</table>\n",
       "</div>"
      ],
      "text/plain": [
       "   Hours  Scores\n",
       "0    2.5      21\n",
       "1    5.1      47\n",
       "2    3.2      27\n",
       "3    8.5      75\n",
       "4    3.5      30"
      ]
     },
     "execution_count": 3,
     "metadata": {},
     "output_type": "execute_result"
    }
   ],
   "source": [
    "df.head()"
   ]
  },
  {
   "cell_type": "code",
   "execution_count": 5,
   "id": "44d9877b",
   "metadata": {},
   "outputs": [
    {
     "name": "stdout",
     "output_type": "stream",
     "text": [
      "<class 'pandas.core.frame.DataFrame'>\n",
      "RangeIndex: 25 entries, 0 to 24\n",
      "Data columns (total 2 columns):\n",
      " #   Column  Non-Null Count  Dtype  \n",
      "---  ------  --------------  -----  \n",
      " 0   Hours   25 non-null     float64\n",
      " 1   Scores  25 non-null     int64  \n",
      "dtypes: float64(1), int64(1)\n",
      "memory usage: 528.0 bytes\n"
     ]
    }
   ],
   "source": [
    "df.info()"
   ]
  },
  {
   "cell_type": "code",
   "execution_count": 6,
   "id": "714fb8df",
   "metadata": {},
   "outputs": [
    {
     "data": {
      "text/plain": [
       "Hours     0\n",
       "Scores    0\n",
       "dtype: int64"
      ]
     },
     "execution_count": 6,
     "metadata": {},
     "output_type": "execute_result"
    }
   ],
   "source": [
    "df.isnull().sum()"
   ]
  },
  {
   "cell_type": "code",
   "execution_count": 7,
   "id": "5a9255f0",
   "metadata": {},
   "outputs": [
    {
     "data": {
      "text/html": [
       "<div>\n",
       "<style scoped>\n",
       "    .dataframe tbody tr th:only-of-type {\n",
       "        vertical-align: middle;\n",
       "    }\n",
       "\n",
       "    .dataframe tbody tr th {\n",
       "        vertical-align: top;\n",
       "    }\n",
       "\n",
       "    .dataframe thead th {\n",
       "        text-align: right;\n",
       "    }\n",
       "</style>\n",
       "<table border=\"1\" class=\"dataframe\">\n",
       "  <thead>\n",
       "    <tr style=\"text-align: right;\">\n",
       "      <th></th>\n",
       "      <th>Hours</th>\n",
       "      <th>Scores</th>\n",
       "    </tr>\n",
       "  </thead>\n",
       "  <tbody>\n",
       "    <tr>\n",
       "      <th>count</th>\n",
       "      <td>25.000000</td>\n",
       "      <td>25.000000</td>\n",
       "    </tr>\n",
       "    <tr>\n",
       "      <th>mean</th>\n",
       "      <td>5.012000</td>\n",
       "      <td>51.480000</td>\n",
       "    </tr>\n",
       "    <tr>\n",
       "      <th>std</th>\n",
       "      <td>2.525094</td>\n",
       "      <td>25.286887</td>\n",
       "    </tr>\n",
       "    <tr>\n",
       "      <th>min</th>\n",
       "      <td>1.100000</td>\n",
       "      <td>17.000000</td>\n",
       "    </tr>\n",
       "    <tr>\n",
       "      <th>25%</th>\n",
       "      <td>2.700000</td>\n",
       "      <td>30.000000</td>\n",
       "    </tr>\n",
       "    <tr>\n",
       "      <th>50%</th>\n",
       "      <td>4.800000</td>\n",
       "      <td>47.000000</td>\n",
       "    </tr>\n",
       "    <tr>\n",
       "      <th>75%</th>\n",
       "      <td>7.400000</td>\n",
       "      <td>75.000000</td>\n",
       "    </tr>\n",
       "    <tr>\n",
       "      <th>max</th>\n",
       "      <td>9.200000</td>\n",
       "      <td>95.000000</td>\n",
       "    </tr>\n",
       "  </tbody>\n",
       "</table>\n",
       "</div>"
      ],
      "text/plain": [
       "           Hours     Scores\n",
       "count  25.000000  25.000000\n",
       "mean    5.012000  51.480000\n",
       "std     2.525094  25.286887\n",
       "min     1.100000  17.000000\n",
       "25%     2.700000  30.000000\n",
       "50%     4.800000  47.000000\n",
       "75%     7.400000  75.000000\n",
       "max     9.200000  95.000000"
      ]
     },
     "execution_count": 7,
     "metadata": {},
     "output_type": "execute_result"
    }
   ],
   "source": [
    "df.describe()"
   ]
  },
  {
   "cell_type": "markdown",
   "id": "fb9ff041",
   "metadata": {},
   "source": [
    "#### Analisis Visual"
   ]
  },
  {
   "cell_type": "code",
   "execution_count": 9,
   "id": "07db2a3a",
   "metadata": {},
   "outputs": [
    {
     "data": {
      "text/plain": [
       "Text(0, 0.5, 'Scores')"
      ]
     },
     "execution_count": 9,
     "metadata": {},
     "output_type": "execute_result"
    },
    {
     "data": {
      "image/png": "[encoded data removed]",
      "text/plain": [
       "<Figure size 640x480 with 1 Axes>"
      ]
     },
     "metadata": {},
     "output_type": "display_data"
    }
   ],
   "source": [
    "plt.scatter(x=df['Hours'],y=df['Scores'])\n",
    "plt.xlabel('Hours')\n",
    "plt.ylabel('Scores')"
   ]
  },
  {
   "cell_type": "markdown",
   "id": "8d30c8a9",
   "metadata": {},
   "source": [
    "Se ve que hay una tendencia lineal en el comportamiento de las vairables hours y Scores. Mientras más horas este un alumno estudiando, su calificacion será mejor."
   ]
  },
  {
   "cell_type": "markdown",
   "id": "4ecd66f6",
   "metadata": {},
   "source": [
    "- ### 2. Implemente el algoritmo de descenso de gradiente para establecer un modelo regresivo lineal."
   ]
  },
  {
   "cell_type": "code",
   "execution_count": 17,
   "id": "6b48193e",
   "metadata": {},
   "outputs": [
    {
     "data": {
      "text/plain": [
       "0      3.5\n",
       "1      6.1\n",
       "2      4.2\n",
       "3      9.5\n",
       "4      4.5\n",
       "5      2.5\n",
       "6     10.2\n",
       "7      6.5\n",
       "8      9.3\n",
       "9      3.7\n",
       "10     8.7\n",
       "11     6.9\n",
       "12     5.5\n",
       "13     4.3\n",
       "14     2.1\n",
       "15     9.9\n",
       "16     3.5\n",
       "17     2.9\n",
       "18     7.1\n",
       "19     8.4\n",
       "20     3.7\n",
       "21     5.8\n",
       "22     4.8\n",
       "23     7.9\n",
       "24     8.8\n",
       "Name: Hours, dtype: float64"
      ]
     },
     "execution_count": 17,
     "metadata": {},
     "output_type": "execute_result"
    }
   ],
   "source": [
    "# Supongamos los siguientes valores arbitrarios para theta_0 y theta_1\n",
    "theta_0 = 1\n",
    "theta_1 = 1\n",
    "\n",
    "# a continuación hacemos predicciones con el modelo\n",
    "h_theta = theta_0 + theta_1*X\n",
    "h_theta"
   ]
  },
  {
   "cell_type": "code",
   "execution_count": 18,
   "id": "dfc56c88",
   "metadata": {},
   "outputs": [
    {
     "name": "stdout",
     "output_type": "stream",
     "text": [
      "El MSE para theta_0=1 y theta_1=1 es 1283.8166\n"
     ]
    }
   ],
   "source": [
    "mse = sum((y - h_theta)**2) / (2*len(y))\n",
    "print(f'El MSE para theta_0={theta_0} y theta_1={theta_1} es {mse}')"
   ]
  },
  {
   "cell_type": "code",
   "execution_count": 19,
   "id": "f68d4613",
   "metadata": {},
   "outputs": [
    {
     "name": "stdout",
     "output_type": "stream",
     "text": [
      "El MSE para theta_0=-2 y theta_1=3 es 893.9254\n"
     ]
    }
   ],
   "source": [
    "# podemos probar con otros valores, acá hemos obtenido un mejor resultado\n",
    "theta_0 = -2\n",
    "theta_1 = 3\n",
    "h_theta = theta_0 + theta_1*X\n",
    "mse = sum((y - h_theta)**2) / (2*len(y))\n",
    "print(f'El MSE para theta_0={theta_0} y theta_1={theta_1} es {mse}')"
   ]
  },
  {
   "cell_type": "code",
   "execution_count": 20,
   "id": "d302bff9",
   "metadata": {},
   "outputs": [
    {
     "name": "stdout",
     "output_type": "stream",
     "text": [
      "El MSE para theta_0=-1 y theta_1=2 es 1100.7463999999998\n"
     ]
    }
   ],
   "source": [
    "# podemos seguir intentando, conseguimos mejorar nuevamente\n",
    "theta_0 = -1\n",
    "theta_1 = 2\n",
    "h_theta = theta_0 + theta_1*X\n",
    "mse = sum((y - h_theta)**2) / (2*len(y))\n",
    "print(f'El MSE para theta_0={theta_0} y theta_1={theta_1} es {mse}')"
   ]
  },
  {
   "cell_type": "code",
   "execution_count": null,
   "id": "5bc6fe4d",
   "metadata": {},
   "outputs": [],
   "source": []
  },
  {
   "cell_type": "markdown",
   "id": "ffee15c5",
   "metadata": {},
   "source": [
    "- ### 3. Determine métricas de ajuste y error del modelo"
   ]
  },
  {
   "cell_type": "code",
   "execution_count": 11,
   "id": "1ec7f0c4",
   "metadata": {},
   "outputs": [],
   "source": [
    "# implementación en python\n",
    "\n",
    "# calcula el valor predicho y\n",
    "def h(theta, X):\n",
    "  h = theta[0]  + theta[1] * X\n",
    "  return h;\n",
    "\n",
    "# definimos la funcion de costo en base al mse\n",
    "def cost(theta, X, y):\n",
    "  m = len(y)\n",
    "  mse = 1 / (2*m) * sum((h(theta, X) - y)**2)\n",
    "  return mse\n",
    "\n",
    "\n",
    "def gradient_descent(theta, X, y, alpha=0.01):\n",
    "\n",
    "  # nuevo theta, actualizado\n",
    "  new_theta = [0,0]\n",
    "\n",
    "  # cantidad de instancias\n",
    "  m = len(y)\n",
    "\n",
    "  new_theta[0] = theta[0] - alpha * 1/m * sum( h(theta, X) - y )\n",
    "  new_theta[1] = theta[1] - alpha * 1/m * sum( (h(theta, X) - y) * X )\n",
    "\n",
    "  return new_theta"
   ]
  },
  {
   "cell_type": "code",
   "execution_count": 12,
   "id": "e639c547",
   "metadata": {},
   "outputs": [],
   "source": [
    "X=df['Hours']\n",
    "y=df['Scores']"
   ]
  },
  {
   "cell_type": "code",
   "execution_count": 13,
   "id": "dd535cea",
   "metadata": {},
   "outputs": [
    {
     "name": "stdout",
     "output_type": "stream",
     "text": [
      "579.5936\n"
     ]
    }
   ],
   "source": [
    "# comprobando la funcion de costo\n",
    "print(cost([1,4], X, y))"
   ]
  },
  {
   "cell_type": "code",
   "execution_count": 14,
   "id": "ed63dce3",
   "metadata": {},
   "outputs": [
    {
     "name": "stdout",
     "output_type": "stream",
     "text": [
      "Loss: 14.441365254622738 Theta: [2.4836734009718473, 9.775803391497918]\n"
     ]
    }
   ],
   "source": [
    "# inicializacion aleatoria de theta\n",
    "theta = [0,0]\n",
    "\n",
    "# learning rate\n",
    "alpha = 0.01\n",
    "\n",
    "# iteraciones\n",
    "epochs = 10000\n",
    "\n",
    "costs = []\n",
    "for i in range(epochs):\n",
    "  theta = gradient_descent(theta, X, y, alpha)\n",
    "  loss = cost(theta, X, y)\n",
    "  costs.append(loss)\n",
    "\n",
    "print(\"Loss:\", costs[-1], \"Theta:\", theta)"
   ]
  },
  {
   "cell_type": "code",
   "execution_count": 15,
   "id": "3ff9d2bb",
   "metadata": {},
   "outputs": [
    {
     "data": {
      "image/png": "[encoded data removed]",
      "text/plain": [
       "<Figure size 1000x300 with 1 Axes>"
      ]
     },
     "metadata": {},
     "output_type": "display_data"
    }
   ],
   "source": [
    "plt.figure(figsize=(10,3))\n",
    "plt.title('Loss per epoch')\n",
    "plt.plot(costs)\n",
    "plt.xlabel('Epoch')\n",
    "plt.ylabel('Loss')\n",
    "plt.xlim([0,20])\n",
    "plt.show()"
   ]
  },
  {
   "cell_type": "code",
   "execution_count": null,
   "id": "ab819d5d",
   "metadata": {},
   "outputs": [],
   "source": []
  }
 ],
 "metadata": {
  "kernelspec": {
   "display_name": "Python 3 (ipykernel)",
   "language": "python",
   "name": "python3"
  },
  "language_info": {
   "codemirror_mode": {
    "name": "ipython",
    "version": 3
   },
   "file_extension": ".py",
   "mimetype": "text/x-python",
   "name": "python",
   "nbconvert_exporter": "python",
   "pygments_lexer": "ipython3",
   "version": "3.10.9"
  }
 },
 "nbformat": 4,
 "nbformat_minor": 5
}
