{
 "cells": [
  {
   "cell_type": "markdown",
   "metadata": {
    "id": "NIuAvLz0ps1D"
   },
   "source": [
    "# Algoritmo Descenso de Gradiente"
   ]
  },
  {
   "cell_type": "code",
   "execution_count": 1,
   "metadata": {
    "executionInfo": {
     "elapsed": 1029,
     "status": "ok",
     "timestamp": 1680455409394,
     "user": {
      "displayName": "Jorge Sepulveda",
      "userId": "07168895330690088449"
     },
     "user_tz": 240
    },
    "id": "cNZ8_g7JpoRr"
   },
   "outputs": [],
   "source": [
    "import pandas as pd\n",
    "import numpy as np\n",
    "import matplotlib.pyplot as plt\n",
    "%matplotlib inline"
   ]
  },
  {
   "cell_type": "markdown",
   "metadata": {
    "id": "by1G0Q3ZO6a0"
   },
   "source": [
    "## Generación de Datos de Ejemplo\n",
    "En este paso generaremos un set de datos de ejemplo con un comportamiento lineal de acuerdo a los parámetros $b$ y $m$."
   ]
  },
  {
   "cell_type": "code",
   "execution_count": 2,
   "metadata": {
    "executionInfo": {
     "elapsed": 356,
     "status": "ok",
     "timestamp": 1680455418342,
     "user": {
      "displayName": "Jorge Sepulveda",
      "userId": "07168895330690088449"
     },
     "user_tz": 240
    },
    "id": "_porq9isO-mT"
   },
   "outputs": [],
   "source": [
    "# y = b + m*x + err\n",
    "def genera_datos_lineales(b, m, errp):\n",
    "  X = np.random.uniform(0,10,25)\n",
    "  y = np.array([])\n",
    "  X_mean = np.sum(X) / len(X)\n",
    "  for x in X:\n",
    "    err = np.random.normal(1) * errp\n",
    "    y = np.append(y, b + m*x + err)\n",
    "\n",
    "  return X,y\n"
   ]
  },
  {
   "cell_type": "code",
   "execution_count": 4,
   "metadata": {
    "executionInfo": {
     "elapsed": 517,
     "status": "ok",
     "timestamp": 1680455423715,
     "user": {
      "displayName": "Jorge Sepulveda",
      "userId": "07168895330690088449"
     },
     "user_tz": 240
    },
    "id": "uAmf7MB0ebRx"
   },
   "outputs": [],
   "source": [
    "# crearemos un set de datos totalmente ajustado con parametros 3 para el intercepto y 4 para la pendiente\n",
    "b = 3\n",
    "m = 4\n",
    "errp = 0\n",
    "\n",
    "X, y = genera_datos_lineales(b, m, errp)\n"
   ]
  },
  {
   "cell_type": "markdown",
   "metadata": {
    "id": "tuXxyc8ZXkAo"
   },
   "source": [
    "## Set de Datos\n",
    "Supongamos que existe un set de datos con features $X$ y etiquetas $y$, en donde $ y \\in \\mathbb{R}$."
   ]
  },
  {
   "cell_type": "code",
   "execution_count": 5,
   "metadata": {
    "colab": {
     "base_uri": "https://localhost:8080/"
    },
    "executionInfo": {
     "elapsed": 8,
     "status": "ok",
     "timestamp": 1680455423716,
     "user": {
      "displayName": "Jorge Sepulveda",
      "userId": "07168895330690088449"
     },
     "user_tz": 240
    },
    "id": "pOfCjT_xYKwL",
    "outputId": "72614c09-9baa-48dc-9ffd-c828997000fe"
   },
   "outputs": [
    {
     "data": {
      "text/plain": [
       "array([4.61294671, 1.20656387, 2.20901909, 7.1203587 , 6.30782423,\n",
       "       7.32019505, 6.87861054, 1.93994965, 8.20183901, 0.29530598,\n",
       "       1.53047746, 0.16934817, 9.14005545, 7.54939542, 8.37187605,\n",
       "       1.71678591, 9.69131861, 0.35332949, 0.23415507, 5.01261014,\n",
       "       1.94652769, 5.54359476, 2.65741511, 9.46901937, 7.47293151])"
      ]
     },
     "execution_count": 5,
     "metadata": {},
     "output_type": "execute_result"
    }
   ],
   "source": [
    "X"
   ]
  },
  {
   "cell_type": "code",
   "execution_count": 6,
   "metadata": {
    "colab": {
     "base_uri": "https://localhost:8080/"
    },
    "executionInfo": {
     "elapsed": 491,
     "status": "ok",
     "timestamp": 1680455424644,
     "user": {
      "displayName": "Jorge Sepulveda",
      "userId": "07168895330690088449"
     },
     "user_tz": 240
    },
    "id": "AxrRRFk6XjFp",
    "outputId": "83789621-f1ca-434a-a777-cc6bad74bceb"
   },
   "outputs": [
    {
     "data": {
      "text/plain": [
       "array([21.45178683,  7.8262555 , 11.83607638, 31.4814348 , 28.23129692,\n",
       "       32.28078019, 30.51444216, 10.75979858, 35.80735605,  4.18122394,\n",
       "        9.12190985,  3.67739267, 39.56022182, 33.19758166, 36.48750421,\n",
       "        9.86714363, 41.76527445,  4.41331796,  3.93662029, 23.05044056,\n",
       "       10.78611075, 25.17437903, 13.62966043, 40.8760775 , 32.89172606])"
      ]
     },
     "execution_count": 6,
     "metadata": {},
     "output_type": "execute_result"
    }
   ],
   "source": [
    "y"
   ]
  },
  {
   "cell_type": "code",
   "execution_count": 7,
   "metadata": {
    "colab": {
     "base_uri": "https://localhost:8080/",
     "height": 466
    },
    "executionInfo": {
     "elapsed": 381,
     "status": "ok",
     "timestamp": 1680455425988,
     "user": {
      "displayName": "Jorge Sepulveda",
      "userId": "07168895330690088449"
     },
     "user_tz": 240
    },
    "id": "DgqroipTO5rB",
    "outputId": "fc033557-be92-4dc5-94b0-62a666296e9a"
   },
   "outputs": [
    {
     "data": {
      "text/plain": [
       "Text(0, 0.5, 'y')"
      ]
     },
     "execution_count": 7,
     "metadata": {},
     "output_type": "execute_result"
    },
    {
     "data": {
      "image/png": "[encoded data removed]",
      "text/plain": [
       "<Figure size 640x480 with 1 Axes>"
      ]
     },
     "metadata": {},
     "output_type": "display_data"
    }
   ],
   "source": [
    "plt.scatter(x=X, y=y)\n",
    "plt.xlabel('x')\n",
    "plt.ylabel('y')"
   ]
  },
  {
   "cell_type": "markdown",
   "metadata": {
    "id": "GNnrJrjG5Hfk"
   },
   "source": [
    "## Hipótesis\n",
    "\n",
    "La formulación de la hipótesis será que hay una relación lineal entre $X$ e $y$. Por tanto:\n",
    "\n",
    "$h_{\\Theta}(x) = \\Theta_{0} + \\Theta_{1}x$\n",
    "\n",
    "En donde, $\\Theta_{0}$ corresponde al intercepto y $\\Theta_{1}$ corresponde al coeficiente de $x$"
   ]
  },
  {
   "cell_type": "markdown",
   "metadata": {
    "id": "CxcgMT0H5yj6"
   },
   "source": [
    "Una tarea regresiva consiste en encontrar los valores de $\\Theta_{0}$ y $\\Theta_{0}$ a partir de los datos proporcionados. Pero, como ya sabemos, no eligiremos cualquier valor sino aquellos que produzcan el menor error cuadrático."
   ]
  },
  {
   "cell_type": "code",
   "execution_count": 8,
   "metadata": {
    "executionInfo": {
     "elapsed": 429,
     "status": "ok",
     "timestamp": 1680448286283,
     "user": {
      "displayName": "Jorge Sepulveda",
      "userId": "07168895330690088449"
     },
     "user_tz": 240
    },
    "id": "2OKp8iC16OZ8"
   },
   "outputs": [],
   "source": [
    "# Supongamos los siguientes valores arbitrarios para theta_0 y theta_1\n",
    "theta_0 = 1\n",
    "theta_1 = 1"
   ]
  },
  {
   "cell_type": "code",
   "execution_count": 9,
   "metadata": {
    "colab": {
     "base_uri": "https://localhost:8080/"
    },
    "executionInfo": {
     "elapsed": 2,
     "status": "ok",
     "timestamp": 1680448286682,
     "user": {
      "displayName": "Jorge Sepulveda",
      "userId": "07168895330690088449"
     },
     "user_tz": 240
    },
    "id": "kPluCUgA6iIW",
    "outputId": "0da0aa7c-1dca-417d-973d-f0f208bbbc42"
   },
   "outputs": [
    {
     "data": {
      "text/plain": [
       "array([ 5.61294671,  2.20656387,  3.20901909,  8.1203587 ,  7.30782423,\n",
       "        8.32019505,  7.87861054,  2.93994965,  9.20183901,  1.29530598,\n",
       "        2.53047746,  1.16934817, 10.14005545,  8.54939542,  9.37187605,\n",
       "        2.71678591, 10.69131861,  1.35332949,  1.23415507,  6.01261014,\n",
       "        2.94652769,  6.54359476,  3.65741511, 10.46901937,  8.47293151])"
      ]
     },
     "execution_count": 9,
     "metadata": {},
     "output_type": "execute_result"
    }
   ],
   "source": [
    "# a continuación hacemos predicciones con el modelo\n",
    "h_theta = theta_0 + theta_1*X\n",
    "h_theta"
   ]
  },
  {
   "cell_type": "markdown",
   "metadata": {
    "id": "towP4WC0rRh-"
   },
   "source": [
    "## Función de Costo\n",
    "\n",
    "La función de costo (también llamada Función de Pérdida), el cual denotaremos por $J(Θ)$, es una medida de error que representa el nivel de inexactitud entre las etiquetas actuales $y$ y las etiquetas predichas $y_{pred}$. La función de costo, es elegida de forma que tenga un mínimo global único (es decir, una función convexa).\n",
    "\n",
    "En el caso de una regresión lineal, una buena decisión es considerar, como función de costo, el error cuadrático medio (MSE).\n",
    "\n",
    "Entonces,\n",
    "\n",
    "$J(Θ) = \\frac{1}{2m}\\sum_{i=0}^{m}(y^{(i)} - y^{(i)}_{pred})^{2}$\n",
    "\n",
    "$J(Θ) = \\frac{1}{2m}\\sum_{i=0}^{m}(y^{(i)} - h_{\\Theta}(x^{i}))^{2}$\n",
    "\n",
    "En donde, $m$ es el número de instancias del set de datos, $y^{(i)}$ es la etiqueta de la $i$-ésima instancia, y^{(i)}_{pred} es la etiqueta predicha para la $i$-ésima instancia del set de datos, y x^{i} corresponde al vector de features de la $i$-ésima instancia del set de datos.\n",
    "\n",
    "![Funcion de Costo MSE](http://www.iharris.net/assets/mean-square-error-two-dims.png \"Funcion de Costo MSE\")\n"
   ]
  },
  {
   "cell_type": "code",
   "execution_count": 10,
   "metadata": {
    "colab": {
     "base_uri": "https://localhost:8080/"
    },
    "executionInfo": {
     "elapsed": 10,
     "status": "ok",
     "timestamp": 1680448287949,
     "user": {
      "displayName": "Jorge Sepulveda",
      "userId": "07168895330690088449"
     },
     "user_tz": 240
    },
    "id": "MnV8ixr3489k",
    "outputId": "74bdb776-ee98-40cb-d054-ea244ddc6373"
   },
   "outputs": [
    {
     "name": "stdout",
     "output_type": "stream",
     "text": [
      "El MSE para theta_0=1 y theta_1=1 es 176.29708738328253\n"
     ]
    }
   ],
   "source": [
    "mse = sum((y - h_theta)**2) / (2*len(y))\n",
    "print(f'El MSE para theta_0={theta_0} y theta_1={theta_1} es {mse}')"
   ]
  },
  {
   "cell_type": "code",
   "execution_count": 11,
   "metadata": {
    "colab": {
     "base_uri": "https://localhost:8080/"
    },
    "executionInfo": {
     "elapsed": 8,
     "status": "ok",
     "timestamp": 1680448287949,
     "user": {
      "displayName": "Jorge Sepulveda",
      "userId": "07168895330690088449"
     },
     "user_tz": 240
    },
    "id": "ZFXBFBV0qViv",
    "outputId": "5f7d9315-5357-49d2-c1cf-ce42a955e765"
   },
   "outputs": [
    {
     "name": "stdout",
     "output_type": "stream",
     "text": [
      "El MSE para theta_0=-2 y theta_1=3 es 52.13792823824726\n"
     ]
    }
   ],
   "source": [
    "# podemos probar con otros valores, acá hemos obtenido un mejor resultado\n",
    "theta_0 = -2\n",
    "theta_1 = 3\n",
    "h_theta = theta_0 + theta_1*X\n",
    "mse = sum((y - h_theta)**2) / (2*len(y))\n",
    "print(f'El MSE para theta_0={theta_0} y theta_1={theta_1} es {mse}')"
   ]
  },
  {
   "cell_type": "code",
   "execution_count": 12,
   "metadata": {
    "colab": {
     "base_uri": "https://localhost:8080/"
    },
    "executionInfo": {
     "elapsed": 5,
     "status": "ok",
     "timestamp": 1680448287950,
     "user": {
      "displayName": "Jorge Sepulveda",
      "userId": "07168895330690088449"
     },
     "user_tz": 240
    },
    "id": "sM0ehJt_8PR1",
    "outputId": "8cfa8a45-d5f2-484b-f1a2-53e56e34bf98"
   },
   "outputs": [
    {
     "name": "stdout",
     "output_type": "stream",
     "text": [
      "El MSE para theta_0=-1 y theta_1=2 es 110.4150154880835\n"
     ]
    }
   ],
   "source": [
    "# podemos seguir intentando, conseguimos mejorar nuevamente\n",
    "theta_0 = -1\n",
    "theta_1 = 2\n",
    "h_theta = theta_0 + theta_1*X\n",
    "mse = sum((y - h_theta)**2) / (2*len(y))\n",
    "print(f'El MSE para theta_0={theta_0} y theta_1={theta_1} es {mse}')"
   ]
  },
  {
   "cell_type": "code",
   "execution_count": 13,
   "metadata": {
    "executionInfo": {
     "elapsed": 2,
     "status": "ok",
     "timestamp": 1680448288450,
     "user": {
      "displayName": "Jorge Sepulveda",
      "userId": "07168895330690088449"
     },
     "user_tz": 240
    },
    "id": "U1SZmBH78kWB"
   },
   "outputs": [],
   "source": [
    "# podríamos seguir probando, pero la idea sería hacer un algoritmo que encuentre los valores\n",
    "# de theta_0 y theta_1 que den el mínimo MSE"
   ]
  },
  {
   "cell_type": "markdown",
   "metadata": {
    "id": "tdB2Ya9s809P"
   },
   "source": [
    "## Descenso de Gradiente\n",
    "Para optimizar el MSE utilizaremos el descenso de gradiente. Este es un algoritmo optimizador que encuentra el mínimo de una función guiándose por el gradiente. ¿Cómo funciona este algoritmo? ahora lo veremos:\n",
    "\n",
    "Primero, inicializaremos $\\Theta_{0}$ y $\\Theta_{0}$ con algún valor aleatorio.\n",
    "\n",
    "Segundo, avanzaremos en dirección opuesta al gradiente del punto que acabamos de inicializar, en la función de costos. Recordemos que el gradiente es el vector de derivadas parciales.\n",
    "\n",
    "$\\nabla J(\\Theta) = \\frac{\\partial }{\\partial \\Theta}J(\\Theta) = (\\frac{\\partial J}{\\partial \\Theta_{0}}, \\frac{\\partial J}{\\partial \\Theta_{1}})$\n",
    "\n",
    "Pero, ¿cómo es eso de avanzar?. Pues bien, vamos a desplazarnos del punto inicial hacia un nuevo punto dentro de la función de costo $J(\\Theta)$, moviéndonos sólo una fracción $\\alpha$ del gradiente. Por lo tanto, el algoritmo queda expresado de la siguiente forma:\n",
    "\n",
    "repetir hasta(convergencia) {\n",
    "\n",
    "$\\Theta_{0}^{nuevo} := \\Theta_{0} - \\alpha ̇\\cdot \\frac{\\partial J}{\\partial \\Theta_{0}}$\n",
    "\n",
    "y,\n",
    "\n",
    "$\\Theta_{1}^{nuevo} := \\Theta_{1} - \\alpha ̇\\cdot \\frac{\\partial J}{\\partial \\Theta_{1}}$\n",
    "\n",
    "}\n",
    "\n",
    "La constante $\\alpha$ es llamada *learning rate* y controla cuán rápido el algoritmo desciende en dirección al mínimo.\n",
    "\n",
    "Entonces, repetimos el segundo paso (calcular un nuevo punto) hasta converger al mínimo o bien hasta agotar una cantidad máxima de iteraciones.\n",
    "\n",
    "Derivando las ecuaciones, llegamos a lo siguiente:\n",
    "\n",
    "\n",
    "$\\Theta_{0}^{nuevo} = \\Theta_{0} - \\alpha ̇\\cdot \\frac{1}{m} \\sum_{i=0}^{m}(\\Theta_{0} + \\Theta_{1} \\cdot x^{(i)} - y^{(i)})$\n",
    "\n",
    "y,\n",
    "\n",
    "$\\Theta_{1}^{nuevo} = \\Theta_{1} - \\alpha ̇\\cdot \\frac{1}{m} \\sum_{i=0}^{m}((\\Theta_{0} + \\Theta_{1} \\cdot x^{(i)} - y^{(i)}) \\cdot x^{(i)})$\n",
    "\n"
   ]
  },
  {
   "cell_type": "code",
   "execution_count": 14,
   "metadata": {
    "executionInfo": {
     "elapsed": 391,
     "status": "ok",
     "timestamp": 1680448524921,
     "user": {
      "displayName": "Jorge Sepulveda",
      "userId": "07168895330690088449"
     },
     "user_tz": 240
    },
    "id": "AZueZb_U80kx"
   },
   "outputs": [],
   "source": [
    "# implementación en python\n",
    "\n",
    "# calcula el valor predicho y\n",
    "def h(theta, X):\n",
    "  h = theta[0]  + theta[1] * X\n",
    "  return h;\n",
    "\n",
    "# definimos la funcion de costo en base al mse\n",
    "def cost(theta, X, y):\n",
    "  m = len(y)\n",
    "  mse = 1 / (2*m) * sum((h(theta, X) - y)**2)\n",
    "  return mse\n",
    "\n",
    "\n",
    "def gradient_descent(theta, X, y, alpha=0.01):\n",
    "\n",
    "  # nuevo theta, actualizado\n",
    "  new_theta = [0,0]\n",
    "\n",
    "  # cantidad de instancias\n",
    "  m = len(y)\n",
    "\n",
    "  new_theta[0] = theta[0] - alpha * 1/m * sum( h(theta, X) - y )\n",
    "  new_theta[1] = theta[1] - alpha * 1/m * sum( (h(theta, X) - y) * X )\n",
    "\n",
    "  return new_theta"
   ]
  },
  {
   "cell_type": "code",
   "execution_count": null,
   "metadata": {
    "executionInfo": {
     "elapsed": 2,
     "status": "ok",
     "timestamp": 1680448525381,
     "user": {
      "displayName": "Jorge Sepulveda",
      "userId": "07168895330690088449"
     },
     "user_tz": 240
    },
    "id": "tZ76lULFZhhQ"
   },
   "outputs": [],
   "source": []
  },
  {
   "cell_type": "code",
   "execution_count": 15,
   "metadata": {
    "colab": {
     "base_uri": "https://localhost:8080/"
    },
    "executionInfo": {
     "elapsed": 5,
     "status": "ok",
     "timestamp": 1680448525809,
     "user": {
      "displayName": "Jorge Sepulveda",
      "userId": "07168895330690088449"
     },
     "user_tz": 240
    },
    "id": "mrPSP7v_LicG",
    "outputId": "e749e703-1e70-4cc5-ff0c-37d31f24ac97"
   },
   "outputs": [
    {
     "name": "stdout",
     "output_type": "stream",
     "text": [
      "2.0\n",
      "320.59889951082505\n",
      "52.13792823824726\n",
      "110.4150154880835\n"
     ]
    }
   ],
   "source": [
    "# comprobando la funcion de costo\n",
    "print(cost([1,4], X, y))\n",
    "print(cost([0,0], X, y))\n",
    "print(cost([-2,3], X, y))\n",
    "print(cost([-1,2], X, y))"
   ]
  },
  {
   "cell_type": "code",
   "execution_count": 16,
   "metadata": {
    "colab": {
     "base_uri": "https://localhost:8080/"
    },
    "executionInfo": {
     "elapsed": 1056,
     "status": "ok",
     "timestamp": 1680448632640,
     "user": {
      "displayName": "Jorge Sepulveda",
      "userId": "07168895330690088449"
     },
     "user_tz": 240
    },
    "id": "_voHpE2lG_nX",
    "outputId": "ce0b5b06-5169-4ce9-ee48-c273510f51d3"
   },
   "outputs": [
    {
     "name": "stdout",
     "output_type": "stream",
     "text": [
      "Loss: 1.158521125407578e-27 Theta: [2.999999999999916, 4.000000000000013]\n"
     ]
    }
   ],
   "source": [
    "# inicializacion aleatoria de theta\n",
    "theta = [0,0]\n",
    "\n",
    "# learning rate\n",
    "alpha = 0.01\n",
    "\n",
    "# iteraciones\n",
    "epochs = 10000\n",
    "\n",
    "costs = []\n",
    "for i in range(epochs):\n",
    "  theta = gradient_descent(theta, X, y, alpha)\n",
    "  loss = cost(theta, X, y)\n",
    "  costs.append(loss)\n",
    "\n",
    "print(\"Loss:\", costs[-1], \"Theta:\", theta)"
   ]
  },
  {
   "cell_type": "code",
   "execution_count": 17,
   "metadata": {
    "colab": {
     "base_uri": "https://localhost:8080/",
     "height": 333
    },
    "executionInfo": {
     "elapsed": 321,
     "status": "ok",
     "timestamp": 1680448754103,
     "user": {
      "displayName": "Jorge Sepulveda",
      "userId": "07168895330690088449"
     },
     "user_tz": 240
    },
    "id": "LI1TQYI6Mr7V",
    "outputId": "cd5c760d-1c8d-4b5c-a3b6-434c547dac09"
   },
   "outputs": [
    {
     "data": {
      "image/png": "[encoded data removed]",
      "text/plain": [
       "<Figure size 1000x300 with 1 Axes>"
      ]
     },
     "metadata": {},
     "output_type": "display_data"
    }
   ],
   "source": [
    "plt.figure(figsize=(10,3))\n",
    "plt.title('Loss per epoch')\n",
    "plt.plot(costs)\n",
    "plt.xlabel('Epoch')\n",
    "plt.ylabel('Loss')\n",
    "plt.xlim([0,20])\n",
    "plt.show()"
   ]
  },
  {
   "cell_type": "code",
   "execution_count": null,
   "metadata": {
    "executionInfo": {
     "elapsed": 1,
     "status": "ok",
     "timestamp": 1680448606846,
     "user": {
      "displayName": "Jorge Sepulveda",
      "userId": "07168895330690088449"
     },
     "user_tz": 240
    },
    "id": "johQ-Vi_bCRH"
   },
   "outputs": [],
   "source": []
  }
 ],
 "metadata": {
  "colab": {
   "authorship_tag": "ABX9TyP+ZLG9aXCo+BTRssBUSl/l",
   "provenance": []
  },
  "kernelspec": {
   "display_name": "Python 3 (ipykernel)",
   "language": "python",
   "name": "python3"
  },
  "language_info": {
   "codemirror_mode": {
    "name": "ipython",
    "version": 3
   },
   "file_extension": ".py",
   "mimetype": "text/x-python",
   "name": "python",
   "nbconvert_exporter": "python",
   "pygments_lexer": "ipython3",
   "version": "3.10.9"
  }
 },
 "nbformat": 4,
 "nbformat_minor": 1
}
