{
 "cells": [
  {
   "cell_type": "markdown",
   "id": "58e9e747",
   "metadata": {},
   "source": [
    "### Plantee un problema de clasificación"
   ]
  },
  {
   "cell_type": "markdown",
   "id": "d6fa3cc8",
   "metadata": {},
   "source": [
    "- Defina un problema de clasificación que podría resolver aplicando aprendizaje de máquina e indique el tipo de clasificación que corresponde, indicando cuáles podrían ser los features y cuál sería la variable objetivo.\n",
    "- Construya una infografía en donde explique con “peras y manzanas” su idea."
   ]
  },
  {
   "cell_type": "code",
   "execution_count": null,
   "id": "47e7f182",
   "metadata": {},
   "outputs": [],
   "source": [
    "Clasificar paises por su rendimiento economico."
   ]
  },
  {
   "cell_type": "markdown",
   "id": "f9467ea4",
   "metadata": {},
   "source": [
    "#### Infografia"
   ]
  },
  {
   "cell_type": "markdown",
   "id": "b12fa43f",
   "metadata": {},
   "source": [
    "- Problema a Resolver: Clasificar países según su rendimiento economico en estos ultimos años\n",
    "- Features que utilizará: Inflacion, indice de Gini, Crecimiento, Importaciones, Exportaciones,Deuda externa\n",
    "- Variable Objetivo: Una puntuacion que diga si esta bien, normal,mal. Podria ser 1,2,3\n",
    "- Tipo de Clasificación:Multi-clase"
   ]
  },
  {
   "cell_type": "code",
   "execution_count": null,
   "id": "f9854022",
   "metadata": {},
   "outputs": [],
   "source": []
  }
 ],
 "metadata": {
  "kernelspec": {
   "display_name": "Python 3 (ipykernel)",
   "language": "python",
   "name": "python3"
  },
  "language_info": {
   "codemirror_mode": {
    "name": "ipython",
    "version": 3
   },
   "file_extension": ".py",
   "mimetype": "text/x-python",
   "name": "python",
   "nbconvert_exporter": "python",
   "pygments_lexer": "ipython3",
   "version": "3.10.9"
  }
 },
 "nbformat": 4,
 "nbformat_minor": 5
}
