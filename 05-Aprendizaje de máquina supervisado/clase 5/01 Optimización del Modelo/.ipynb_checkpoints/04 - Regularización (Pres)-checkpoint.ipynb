{
 "cells": [
  {
   "cell_type": "markdown",
   "metadata": {},
   "source": [
    "# Sobreajuste y regularización"
   ]
  },
  {
   "cell_type": "code",
   "execution_count": 1,
   "metadata": {},
   "outputs": [],
   "source": [
    "import numpy as np\n",
    "import pandas as pd\n",
    "import matplotlib.pyplot as plt\n",
    "%matplotlib inline"
   ]
  },
  {
   "cell_type": "markdown",
   "metadata": {},
   "source": [
    "### Generacion de Datos"
   ]
  },
  {
   "cell_type": "code",
   "execution_count": 2,
   "metadata": {},
   "outputs": [],
   "source": [
    "np.random.seed(40)\n",
    "x = np.linspace(1,5,10)\n",
    "y = 0.2*x + 3 + np.random.randn(len(x))"
   ]
  },
  {
   "cell_type": "code",
   "execution_count": 492,
   "metadata": {
    "scrolled": true
   },
   "outputs": [
    {
     "data": {
      "text/plain": [
       "Text(0, 0.5, 'Respuesta y')"
      ]
     },
     "execution_count": 492,
     "metadata": {},
     "output_type": "execute_result"
    },
    {
     "data": {
      "image/png": "[encoded data removed]",
      "text/plain": [
       "<Figure size 432x288 with 1 Axes>"
      ]
     },
     "metadata": {
      "needs_background": "light"
     },
     "output_type": "display_data"
    }
   ],
   "source": [
    "plt.scatter(x,y)\n",
    "plt.xlabel('Feature x')\n",
    "plt.ylabel('Respuesta y')"
   ]
  },
  {
   "cell_type": "markdown",
   "metadata": {},
   "source": [
    "### Creación de un polinomio"
   ]
  },
  {
   "cell_type": "code",
   "execution_count": 493,
   "metadata": {},
   "outputs": [],
   "source": [
    "def expand(x):\n",
    "    X = pd.DataFrame()\n",
    "    X['x'] = x\n",
    "    X['x2'] = x**2\n",
    "    X['x3'] = x**3\n",
    "    X['x4'] = x**4\n",
    "    X['x5'] = x**5\n",
    "    X['x6'] = x**6\n",
    "    X['x7'] = x**7\n",
    "    X['x8'] = x**8\n",
    "    X['x9'] = x**9\n",
    "    X['x10'] = x**10\n",
    "    return X"
   ]
  },
  {
   "cell_type": "code",
   "execution_count": 494,
   "metadata": {},
   "outputs": [],
   "source": [
    "X = expand(x)"
   ]
  },
  {
   "cell_type": "code",
   "execution_count": 495,
   "metadata": {},
   "outputs": [
    {
     "data": {
      "text/html": [
       "<div>\n",
       "<style scoped>\n",
       "    .dataframe tbody tr th:only-of-type {\n",
       "        vertical-align: middle;\n",
       "    }\n",
       "\n",
       "    .dataframe tbody tr th {\n",
       "        vertical-align: top;\n",
       "    }\n",
       "\n",
       "    .dataframe thead th {\n",
       "        text-align: right;\n",
       "    }\n",
       "</style>\n",
       "<table border=\"1\" class=\"dataframe\">\n",
       "  <thead>\n",
       "    <tr style=\"text-align: right;\">\n",
       "      <th></th>\n",
       "      <th>x</th>\n",
       "      <th>x2</th>\n",
       "      <th>x3</th>\n",
       "      <th>x4</th>\n",
       "      <th>x5</th>\n",
       "      <th>x6</th>\n",
       "      <th>x7</th>\n",
       "      <th>x8</th>\n",
       "      <th>x9</th>\n",
       "      <th>x10</th>\n",
       "    </tr>\n",
       "  </thead>\n",
       "  <tbody>\n",
       "    <tr>\n",
       "      <th>0</th>\n",
       "      <td>1.000000</td>\n",
       "      <td>1.000000</td>\n",
       "      <td>1.000000</td>\n",
       "      <td>1.000000</td>\n",
       "      <td>1.000000</td>\n",
       "      <td>1.000000</td>\n",
       "      <td>1.000000</td>\n",
       "      <td>1.000000</td>\n",
       "      <td>1.000000</td>\n",
       "      <td>1.000000</td>\n",
       "    </tr>\n",
       "    <tr>\n",
       "      <th>1</th>\n",
       "      <td>1.444444</td>\n",
       "      <td>2.086420</td>\n",
       "      <td>3.013717</td>\n",
       "      <td>4.353147</td>\n",
       "      <td>6.287880</td>\n",
       "      <td>9.082493</td>\n",
       "      <td>13.119156</td>\n",
       "      <td>18.949892</td>\n",
       "      <td>27.372066</td>\n",
       "      <td>39.537429</td>\n",
       "    </tr>\n",
       "    <tr>\n",
       "      <th>2</th>\n",
       "      <td>1.888889</td>\n",
       "      <td>3.567901</td>\n",
       "      <td>6.739369</td>\n",
       "      <td>12.729919</td>\n",
       "      <td>24.045403</td>\n",
       "      <td>45.419094</td>\n",
       "      <td>85.791623</td>\n",
       "      <td>162.050843</td>\n",
       "      <td>306.096037</td>\n",
       "      <td>578.181404</td>\n",
       "    </tr>\n",
       "    <tr>\n",
       "      <th>3</th>\n",
       "      <td>2.333333</td>\n",
       "      <td>5.444444</td>\n",
       "      <td>12.703704</td>\n",
       "      <td>29.641975</td>\n",
       "      <td>69.164609</td>\n",
       "      <td>161.384088</td>\n",
       "      <td>376.562872</td>\n",
       "      <td>878.646700</td>\n",
       "      <td>2050.175634</td>\n",
       "      <td>4783.743146</td>\n",
       "    </tr>\n",
       "    <tr>\n",
       "      <th>4</th>\n",
       "      <td>2.777778</td>\n",
       "      <td>7.716049</td>\n",
       "      <td>21.433471</td>\n",
       "      <td>59.537418</td>\n",
       "      <td>165.381717</td>\n",
       "      <td>459.393658</td>\n",
       "      <td>1276.093494</td>\n",
       "      <td>3544.704151</td>\n",
       "      <td>9846.400420</td>\n",
       "      <td>27351.112278</td>\n",
       "    </tr>\n",
       "  </tbody>\n",
       "</table>\n",
       "</div>"
      ],
      "text/plain": [
       "          x        x2         x3         x4          x5          x6  \\\n",
       "0  1.000000  1.000000   1.000000   1.000000    1.000000    1.000000   \n",
       "1  1.444444  2.086420   3.013717   4.353147    6.287880    9.082493   \n",
       "2  1.888889  3.567901   6.739369  12.729919   24.045403   45.419094   \n",
       "3  2.333333  5.444444  12.703704  29.641975   69.164609  161.384088   \n",
       "4  2.777778  7.716049  21.433471  59.537418  165.381717  459.393658   \n",
       "\n",
       "            x7           x8           x9           x10  \n",
       "0     1.000000     1.000000     1.000000      1.000000  \n",
       "1    13.119156    18.949892    27.372066     39.537429  \n",
       "2    85.791623   162.050843   306.096037    578.181404  \n",
       "3   376.562872   878.646700  2050.175634   4783.743146  \n",
       "4  1276.093494  3544.704151  9846.400420  27351.112278  "
      ]
     },
     "execution_count": 495,
     "metadata": {},
     "output_type": "execute_result"
    }
   ],
   "source": [
    "X.head(5)"
   ]
  },
  {
   "cell_type": "code",
   "execution_count": 496,
   "metadata": {
    "scrolled": true
   },
   "outputs": [
    {
     "data": {
      "text/plain": [
       "array([2.5924523 , 3.16275247, 2.69317142, 4.39538142, 1.71115452,\n",
       "       3.17744202, 6.02582368, 4.31103228, 4.6213781 , 5.05553444])"
      ]
     },
     "execution_count": 496,
     "metadata": {},
     "output_type": "execute_result"
    }
   ],
   "source": [
    "y"
   ]
  },
  {
   "cell_type": "markdown",
   "metadata": {},
   "source": [
    "### Ajuste de un modelo lineal"
   ]
  },
  {
   "cell_type": "code",
   "execution_count": 205,
   "metadata": {},
   "outputs": [],
   "source": [
    "from sklearn.linear_model import LinearRegression"
   ]
  },
  {
   "cell_type": "code",
   "execution_count": 497,
   "metadata": {},
   "outputs": [
    {
     "data": {
      "text/plain": [
       "LinearRegression(copy_X=True, fit_intercept=True, n_jobs=None, normalize=False)"
      ]
     },
     "execution_count": 497,
     "metadata": {},
     "output_type": "execute_result"
    }
   ],
   "source": [
    "lr = LinearRegression()\n",
    "lr.fit(X,y)"
   ]
  },
  {
   "cell_type": "code",
   "execution_count": 498,
   "metadata": {
    "scrolled": true
   },
   "outputs": [
    {
     "data": {
      "text/plain": [
       "array([ 4.59820357e+03, -3.53918569e+03, -1.51658104e+03,  4.44909442e+03,\n",
       "       -3.43401682e+03,  1.43690410e+03, -3.62093706e+02,  5.49595639e+01,\n",
       "       -4.63915682e+00,  1.67586076e-01])"
      ]
     },
     "execution_count": 498,
     "metadata": {},
     "output_type": "execute_result"
    }
   ],
   "source": [
    "lr.coef_"
   ]
  },
  {
   "cell_type": "code",
   "execution_count": 499,
   "metadata": {},
   "outputs": [],
   "source": [
    "X_pred = expand( np.linspace(1,5,100) )"
   ]
  },
  {
   "cell_type": "code",
   "execution_count": 500,
   "metadata": {},
   "outputs": [],
   "source": [
    "y_pred = lr.predict(X_pred)"
   ]
  },
  {
   "cell_type": "code",
   "execution_count": 501,
   "metadata": {},
   "outputs": [
    {
     "data": {
      "text/plain": [
       "[<matplotlib.lines.Line2D at 0x236b4d32708>]"
      ]
     },
     "execution_count": 501,
     "metadata": {},
     "output_type": "execute_result"
    },
    {
     "data": {
      "image/png": "[encoded data removed]",
      "text/plain": [
       "<Figure size 432x288 with 1 Axes>"
      ]
     },
     "metadata": {
      "needs_background": "light"
     },
     "output_type": "display_data"
    }
   ],
   "source": [
    "plt.scatter(X['x'],y)\n",
    "plt.plot(X_pred['x'],y_pred)"
   ]
  },
  {
   "cell_type": "markdown",
   "metadata": {},
   "source": [
    "### Ajuste modelo lineal con Regularización L1"
   ]
  },
  {
   "cell_type": "code",
   "execution_count": 164,
   "metadata": {},
   "outputs": [],
   "source": [
    "from sklearn.linear_model import Lasso"
   ]
  },
  {
   "cell_type": "code",
   "execution_count": 502,
   "metadata": {},
   "outputs": [
    {
     "data": {
      "text/plain": [
       "Lasso(alpha=0.001, copy_X=True, fit_intercept=True, max_iter=100000,\n",
       "      normalize=True, positive=False, precompute=False, random_state=None,\n",
       "      selection='cyclic', tol=0.0001, warm_start=False)"
      ]
     },
     "execution_count": 502,
     "metadata": {},
     "output_type": "execute_result"
    }
   ],
   "source": [
    "lr1 = Lasso(max_iter=100000, alpha=0.001, normalize=True)\n",
    "lr1.fit(X,y)"
   ]
  },
  {
   "cell_type": "code",
   "execution_count": 503,
   "metadata": {},
   "outputs": [
    {
     "data": {
      "text/plain": [
       "array([-0.00000000e+00,  0.00000000e+00,  3.41516146e-02,  0.00000000e+00,\n",
       "        0.00000000e+00, -0.00000000e+00, -0.00000000e+00, -5.25208699e-06,\n",
       "       -0.00000000e+00, -0.00000000e+00])"
      ]
     },
     "execution_count": 503,
     "metadata": {},
     "output_type": "execute_result"
    }
   ],
   "source": [
    "lr1.coef_"
   ]
  },
  {
   "cell_type": "code",
   "execution_count": 504,
   "metadata": {},
   "outputs": [],
   "source": [
    "y_pred = lr1.predict(X_pred)"
   ]
  },
  {
   "cell_type": "code",
   "execution_count": 505,
   "metadata": {
    "scrolled": true
   },
   "outputs": [
    {
     "data": {
      "text/plain": [
       "[<matplotlib.lines.Line2D at 0x236b4db6b48>]"
      ]
     },
     "execution_count": 505,
     "metadata": {},
     "output_type": "execute_result"
    },
    {
     "data": {
      "image/png": "[encoded data removed]",
      "text/plain": [
       "<Figure size 432x288 with 1 Axes>"
      ]
     },
     "metadata": {
      "needs_background": "light"
     },
     "output_type": "display_data"
    }
   ],
   "source": [
    "plt.scatter(X['x'],y)\n",
    "plt.plot(X_pred['x'],y_pred)"
   ]
  },
  {
   "cell_type": "markdown",
   "metadata": {},
   "source": [
    "### Ajuste modelo con regularización L2"
   ]
  },
  {
   "cell_type": "code",
   "execution_count": 266,
   "metadata": {},
   "outputs": [],
   "source": [
    "from sklearn.linear_model import Ridge"
   ]
  },
  {
   "cell_type": "code",
   "execution_count": 509,
   "metadata": {},
   "outputs": [
    {
     "data": {
      "text/plain": [
       "Ridge(alpha=0.001, copy_X=True, fit_intercept=True, max_iter=None,\n",
       "      normalize=True, random_state=None, solver='auto', tol=0.001)"
      ]
     },
     "execution_count": 509,
     "metadata": {},
     "output_type": "execute_result"
    }
   ],
   "source": [
    "lr2 = Ridge(alpha=0.001, normalize=True)\n",
    "lr2.fit(X,y)"
   ]
  },
  {
   "cell_type": "code",
   "execution_count": 510,
   "metadata": {},
   "outputs": [],
   "source": [
    "y_pred = lr2.predict(X_pred)"
   ]
  },
  {
   "cell_type": "code",
   "execution_count": 511,
   "metadata": {},
   "outputs": [
    {
     "data": {
      "text/plain": [
       "[<matplotlib.lines.Line2D at 0x236b4e87488>]"
      ]
     },
     "execution_count": 511,
     "metadata": {},
     "output_type": "execute_result"
    },
    {
     "data": {
      "image/png": "[encoded data removed]",
      "text/plain": [
       "<Figure size 432x288 with 1 Axes>"
      ]
     },
     "metadata": {
      "needs_background": "light"
     },
     "output_type": "display_data"
    }
   ],
   "source": [
    "plt.scatter(X['x'],y)\n",
    "plt.plot(X_pred['x'],y_pred)"
   ]
  },
  {
   "cell_type": "code",
   "execution_count": null,
   "metadata": {},
   "outputs": [],
   "source": []
  }
 ],
 "metadata": {
  "kernelspec": {
   "display_name": "Python 3 (ipykernel)",
   "language": "python",
   "name": "python3"
  },
  "language_info": {
   "codemirror_mode": {
    "name": "ipython",
    "version": 3
   },
   "file_extension": ".py",
   "mimetype": "text/x-python",
   "name": "python",
   "nbconvert_exporter": "python",
   "pygments_lexer": "ipython3",
   "version": "3.10.9"
  }
 },
 "nbformat": 4,
 "nbformat_minor": 4
}
