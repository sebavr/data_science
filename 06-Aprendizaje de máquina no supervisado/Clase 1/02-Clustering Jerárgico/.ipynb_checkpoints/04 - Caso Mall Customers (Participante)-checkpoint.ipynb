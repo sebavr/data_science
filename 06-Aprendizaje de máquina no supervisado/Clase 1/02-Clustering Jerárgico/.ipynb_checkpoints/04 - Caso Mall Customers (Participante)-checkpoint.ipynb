{
 "cells": [
  {
   "cell_type": "markdown",
   "metadata": {},
   "source": [
    "---\n",
    "# Caso Mall Customers\n",
    "\n",
    "Se cuenta con un dataset de clientes de un importante mall de la ciudad. Los datos son los siguientes:\n",
    "\n",
    "- CustomerID: correlativo identificador del cliente\n",
    "- Genre: sexo del cliente\n",
    "- Age: edad del cliente\n",
    "- Annual Income: sueldo anual en miles de dolares\n",
    "- Spending Score: score de gasto calculado para el cliente, mientras mayor más gasta\n",
    "\n",
    "Se busca realizar una caracterización de los clientes, para lo cual se le solicita que realice una **Clusterización Jerárquica** considerando solamente las variables **Annual Income** y **Spending Score**. Se busca contestar las siguientes preguntas:\n",
    "\n",
    "- Cuántos clusters se aprecian\n",
    "- Qué grupo de clientes es representado en cada cluster\n",
    "\n",
    "---"
   ]
  },
  {
   "cell_type": "code",
   "execution_count": 19,
   "metadata": {},
   "outputs": [],
   "source": [
    "import numpy as np\n",
    "import matplotlib.pyplot as plt\n",
    "import pandas as pd"
   ]
  },
  {
   "cell_type": "markdown",
   "metadata": {},
   "source": [
    "### Carga de datos"
   ]
  },
  {
   "cell_type": "code",
   "execution_count": 20,
   "metadata": {},
   "outputs": [],
   "source": [
    "dataset = pd.read_csv('Mall_Customers.csv')"
   ]
  },
  {
   "cell_type": "code",
   "execution_count": 21,
   "metadata": {
    "scrolled": true
   },
   "outputs": [
    {
     "data": {
      "text/html": [
       "<div>\n",
       "<style scoped>\n",
       "    .dataframe tbody tr th:only-of-type {\n",
       "        vertical-align: middle;\n",
       "    }\n",
       "\n",
       "    .dataframe tbody tr th {\n",
       "        vertical-align: top;\n",
       "    }\n",
       "\n",
       "    .dataframe thead th {\n",
       "        text-align: right;\n",
       "    }\n",
       "</style>\n",
       "<table border=\"1\" class=\"dataframe\">\n",
       "  <thead>\n",
       "    <tr style=\"text-align: right;\">\n",
       "      <th></th>\n",
       "      <th>CustomerID</th>\n",
       "      <th>Genre</th>\n",
       "      <th>Age</th>\n",
       "      <th>Annual Income (k$)</th>\n",
       "      <th>Spending Score (1-100)</th>\n",
       "    </tr>\n",
       "  </thead>\n",
       "  <tbody>\n",
       "    <tr>\n",
       "      <th>0</th>\n",
       "      <td>1</td>\n",
       "      <td>Male</td>\n",
       "      <td>19</td>\n",
       "      <td>15</td>\n",
       "      <td>39</td>\n",
       "    </tr>\n",
       "    <tr>\n",
       "      <th>1</th>\n",
       "      <td>2</td>\n",
       "      <td>Male</td>\n",
       "      <td>21</td>\n",
       "      <td>15</td>\n",
       "      <td>81</td>\n",
       "    </tr>\n",
       "    <tr>\n",
       "      <th>2</th>\n",
       "      <td>3</td>\n",
       "      <td>Female</td>\n",
       "      <td>20</td>\n",
       "      <td>16</td>\n",
       "      <td>6</td>\n",
       "    </tr>\n",
       "    <tr>\n",
       "      <th>3</th>\n",
       "      <td>4</td>\n",
       "      <td>Female</td>\n",
       "      <td>23</td>\n",
       "      <td>16</td>\n",
       "      <td>77</td>\n",
       "    </tr>\n",
       "    <tr>\n",
       "      <th>4</th>\n",
       "      <td>5</td>\n",
       "      <td>Female</td>\n",
       "      <td>31</td>\n",
       "      <td>17</td>\n",
       "      <td>40</td>\n",
       "    </tr>\n",
       "  </tbody>\n",
       "</table>\n",
       "</div>"
      ],
      "text/plain": [
       "   CustomerID   Genre  Age  Annual Income (k$)  Spending Score (1-100)\n",
       "0           1    Male   19                  15                      39\n",
       "1           2    Male   21                  15                      81\n",
       "2           3  Female   20                  16                       6\n",
       "3           4  Female   23                  16                      77\n",
       "4           5  Female   31                  17                      40"
      ]
     },
     "execution_count": 21,
     "metadata": {},
     "output_type": "execute_result"
    }
   ],
   "source": [
    "dataset.head()"
   ]
  },
  {
   "cell_type": "code",
   "execution_count": 22,
   "metadata": {},
   "outputs": [
    {
     "data": {
      "text/plain": [
       "(200, 5)"
      ]
     },
     "execution_count": 22,
     "metadata": {},
     "output_type": "execute_result"
    }
   ],
   "source": [
    "dataset.shape"
   ]
  },
  {
   "cell_type": "markdown",
   "metadata": {},
   "source": [
    "### Formulación del Modelo"
   ]
  },
  {
   "cell_type": "code",
   "execution_count": 23,
   "metadata": {},
   "outputs": [],
   "source": [
    "\n",
    "X = dataset.iloc[:, [3, 4]].values"
   ]
  },
  {
   "cell_type": "markdown",
   "metadata": {},
   "source": [
    "### Escalamiento"
   ]
  },
  {
   "cell_type": "code",
   "execution_count": 5,
   "metadata": {},
   "outputs": [],
   "source": []
  },
  {
   "cell_type": "code",
   "execution_count": 8,
   "metadata": {},
   "outputs": [],
   "source": []
  },
  {
   "cell_type": "code",
   "execution_count": null,
   "metadata": {},
   "outputs": [],
   "source": []
  },
  {
   "cell_type": "markdown",
   "metadata": {},
   "source": [
    "### Clusterización Jerárquica"
   ]
  },
  {
   "cell_type": "code",
   "execution_count": 24,
   "metadata": {},
   "outputs": [],
   "source": [
    "# imports\n",
    "from matplotlib import pyplot as plt\n",
    "import numpy as np"
   ]
  },
  {
   "cell_type": "code",
   "execution_count": 25,
   "metadata": {},
   "outputs": [],
   "source": [
    "# setups\n",
    "%matplotlib inline\n",
    "np.set_printoptions(precision=5, suppress=True)  # suprime notación científica en los tipos de dato float"
   ]
  },
  {
   "cell_type": "code",
   "execution_count": 26,
   "metadata": {
    "scrolled": false
   },
   "outputs": [],
   "source": [
    "from scipy.cluster.hierarchy import dendrogram, linkage"
   ]
  },
  {
   "cell_type": "code",
   "execution_count": 27,
   "metadata": {},
   "outputs": [],
   "source": [
    "Z = linkage(X, method='ward')"
   ]
  },
  {
   "cell_type": "code",
   "execution_count": 28,
   "metadata": {},
   "outputs": [
    {
     "data": {
      "text/plain": [
       "0.7179298392392908"
      ]
     },
     "execution_count": 28,
     "metadata": {},
     "output_type": "execute_result"
    }
   ],
   "source": [
    "from scipy.cluster.hierarchy import cophenet\n",
    "from scipy.spatial.distance import pdist\n",
    "\n",
    "c, coph_dists = cophenet(Z,pdist(X))\n",
    "c"
   ]
  },
  {
   "cell_type": "code",
   "execution_count": 29,
   "metadata": {},
   "outputs": [
    {
     "data": {
      "text/plain": [
       "array([65., 68.,  0.,  2.])"
      ]
     },
     "execution_count": 29,
     "metadata": {},
     "output_type": "execute_result"
    }
   ],
   "source": [
    "Z[0]"
   ]
  },
  {
   "cell_type": "code",
   "execution_count": 30,
   "metadata": {},
   "outputs": [
    {
     "data": {
      "text/plain": [
       "array([[ 65.,  68.,   0.,   2.],\n",
       "       [ 48.,  49.,   0.,   2.],\n",
       "       [156., 158.,   0.,   2.],\n",
       "       [129., 131.,   0.,   2.],\n",
       "       [ 21.,  23.,   1.,   2.],\n",
       "       [ 51.,  53.,   1.,   2.],\n",
       "       [ 60.,  61.,   1.,   2.],\n",
       "       [ 67.,  69.,   1.,   2.],\n",
       "       [ 64.,  66.,   1.,   2.],\n",
       "       [ 79.,  82.,   1.,   2.],\n",
       "       [ 74.,  85.,   1.,   2.],\n",
       "       [ 78.,  80.,   1.,   2.],\n",
       "       [ 75.,  81.,   1.,   2.],\n",
       "       [ 92.,  97.,   1.,   2.],\n",
       "       [101., 109.,   1.,   2.],\n",
       "       [107., 113.,   1.,   2.],\n",
       "       [ 94.,  98.,   1.,   2.],\n",
       "       [103., 104.,   1.,   2.],\n",
       "       [100., 105.,   1.,   2.],\n",
       "       [150., 154.,   1.,   2.]])"
      ]
     },
     "execution_count": 30,
     "metadata": {},
     "output_type": "execute_result"
    }
   ],
   "source": [
    "Z[:20]"
   ]
  },
  {
   "cell_type": "code",
   "execution_count": 34,
   "metadata": {},
   "outputs": [
    {
     "data": {
      "text/plain": [
       "(199, 4)"
      ]
     },
     "execution_count": 34,
     "metadata": {},
     "output_type": "execute_result"
    }
   ],
   "source": [
    "Z.shape"
   ]
  },
  {
   "cell_type": "markdown",
   "metadata": {},
   "source": [
    "# Ajustar el clustering jerárquico a nuestro conjunto de datos"
   ]
  },
  {
   "cell_type": "code",
   "execution_count": 31,
   "metadata": {},
   "outputs": [
    {
     "name": "stderr",
     "output_type": "stream",
     "text": [
      "C:\\Users\\Sebastian\\anaconda3\\lib\\site-packages\\sklearn\\cluster\\_agglomerative.py:983: FutureWarning: Attribute `affinity` was deprecated in version 1.2 and will be removed in 1.4. Use `metric` instead\n",
      "  warnings.warn(\n"
     ]
    },
    {
     "data": {
      "text/plain": [
       "array([4, 3, 4, 3, 4, 3, 4, 3, 4, 3, 4, 3, 4, 3, 4, 3, 4, 3, 4, 3, 4, 3,\n",
       "       4, 3, 4, 3, 4, 3, 4, 3, 4, 3, 4, 3, 4, 3, 4, 3, 4, 3, 4, 3, 4, 1,\n",
       "       4, 1, 1, 1, 1, 1, 1, 1, 1, 1, 1, 1, 1, 1, 1, 1, 1, 1, 1, 1, 1, 1,\n",
       "       1, 1, 1, 1, 1, 1, 1, 1, 1, 1, 1, 1, 1, 1, 1, 1, 1, 1, 1, 1, 1, 1,\n",
       "       1, 1, 1, 1, 1, 1, 1, 1, 1, 1, 1, 1, 1, 1, 1, 1, 1, 1, 1, 1, 1, 1,\n",
       "       1, 1, 1, 1, 1, 1, 1, 1, 1, 1, 1, 1, 1, 2, 1, 2, 1, 2, 0, 2, 0, 2,\n",
       "       1, 2, 0, 2, 0, 2, 0, 2, 0, 2, 1, 2, 0, 2, 1, 2, 0, 2, 0, 2, 0, 2,\n",
       "       0, 2, 0, 2, 0, 2, 1, 2, 0, 2, 0, 2, 0, 2, 0, 2, 0, 2, 0, 2, 0, 2,\n",
       "       0, 2, 0, 2, 0, 2, 0, 2, 0, 2, 0, 2, 0, 2, 0, 2, 0, 2, 0, 2, 0, 2,\n",
       "       0, 2], dtype=int64)"
      ]
     },
     "execution_count": 31,
     "metadata": {},
     "output_type": "execute_result"
    }
   ],
   "source": [
    "from sklearn.cluster import AgglomerativeClustering\n",
    "hc = AgglomerativeClustering(n_clusters = 5, affinity = \"euclidean\", linkage = \"ward\")\n",
    "y_hc = hc.fit_predict(X)\n",
    "y_hc"
   ]
  },
  {
   "cell_type": "markdown",
   "metadata": {},
   "source": [
    "# Visualización de los clusters"
   ]
  },
  {
   "cell_type": "code",
   "execution_count": 32,
   "metadata": {},
   "outputs": [
    {
     "data": {
      "image/png": "[encoded data removed]",
      "text/plain": [
       "<Figure size 640x480 with 1 Axes>"
      ]
     },
     "metadata": {},
     "output_type": "display_data"
    }
   ],
   "source": [
    "plt.scatter(X[y_hc == 0, 0], X[y_hc == 0, 1], s = 100, c = \"red\", label = \"Cautos\")\n",
    "plt.scatter(X[y_hc == 1, 0], X[y_hc == 1, 1], s = 100, c = \"blue\", label = \"Estandard\")\n",
    "plt.scatter(X[y_hc == 2, 0], X[y_hc == 2, 1], s = 100, c = \"green\", label = \"Objetivo\")\n",
    "plt.scatter(X[y_hc == 3, 0], X[y_hc == 3, 1], s = 100, c = \"cyan\", label = \"Descuidados\")\n",
    "plt.scatter(X[y_hc == 4, 0], X[y_hc == 4, 1], s = 100, c = \"magenta\", label = \"Conservadores\")\n",
    "plt.title(\"Cluster de clientes\")\n",
    "plt.xlabel(\"Ingresos anuales (en miles de $)\")\n",
    "plt.ylabel(\"Puntuación de Gastos (1-100)\")\n",
    "plt.legend()\n",
    "plt.show()"
   ]
  },
  {
   "cell_type": "markdown",
   "metadata": {},
   "source": [
    "### Grafique los resultados"
   ]
  },
  {
   "cell_type": "code",
   "execution_count": 15,
   "metadata": {},
   "outputs": [
    {
     "data": {
      "image/png": "[encoded data removed]",
      "text/plain": [
       "<Figure size 2500x1000 with 1 Axes>"
      ]
     },
     "metadata": {},
     "output_type": "display_data"
    }
   ],
   "source": [
    "plt.figure(figsize=(25,10))\n",
    "plt.title('Dendrograma de Clustering Jerarquico')\n",
    "plt.xlabel('Indice de la muestra')\n",
    "plt.ylabel('Distancia')\n",
    "dendrogram(\n",
    "    Z,\n",
    "    leaf_rotation=90.,\n",
    "    leaf_font_size=8.,\n",
    ")\n",
    "plt.show()"
   ]
  },
  {
   "cell_type": "code",
   "execution_count": 16,
   "metadata": {},
   "outputs": [
    {
     "data": {
      "image/png": "[encoded data removed]",
      "text/plain": [
       "<Figure size 2500x1000 with 1 Axes>"
      ]
     },
     "metadata": {},
     "output_type": "display_data"
    }
   ],
   "source": [
    "plt.figure(figsize=(25,10))\n",
    "plt.title('Dendrograma de Clustering Jerarquico')\n",
    "plt.xlabel('Indice de la muestra')\n",
    "plt.ylabel('Distancia')\n",
    "dendrogram(\n",
    "    Z,\n",
    "    truncate_mode='lastp',# muestra solo los ultimos p clusters agrupados\n",
    "    p=10, # cantidad de clusters agrupados a mostrar\n",
    "    show_leaf_counts=True # si es True: muestra la cantidad de indices agrupados de cada cluster\n",
    "    #show_contracted=True # para desplegar una distribucion en las ramas truncadas\n",
    "    \n",
    ")\n",
    "plt.show()"
   ]
  },
  {
   "cell_type": "markdown",
   "metadata": {},
   "source": [
    "### Modifique dataset original con resultados de la clusterización"
   ]
  },
  {
   "cell_type": "code",
   "execution_count": 47,
   "metadata": {},
   "outputs": [
    {
     "data": {
      "text/plain": [
       "array([[ 74.     ,  85.     ,   1.     ,   2.     ],\n",
       "       [ 78.     ,  80.     ,   1.     ,   2.     ],\n",
       "       [ 75.     ,  81.     ,   1.     ,   2.     ],\n",
       "       [ 92.     ,  97.     ,   1.     ,   2.     ],\n",
       "       [101.     , 109.     ,   1.     ,   2.     ],\n",
       "       [107.     , 113.     ,   1.     ,   2.     ],\n",
       "       [ 94.     ,  98.     ,   1.     ,   2.     ],\n",
       "       [103.     , 104.     ,   1.     ,   2.     ],\n",
       "       [100.     , 105.     ,   1.     ,   2.     ],\n",
       "       [150.     , 154.     ,   1.     ,   2.     ],\n",
       "       [119.     , 120.     ,   1.     ,   2.     ],\n",
       "       [170.     , 174.     ,   1.     ,   2.     ],\n",
       "       [151.     , 155.     ,   1.     ,   2.     ],\n",
       "       [ 63.     , 200.     ,   1.1547 ,   3.     ],\n",
       "       [ 99.     , 213.     ,   1.29099,   3.     ],\n",
       "       [  3.     ,   5.     ,   1.41421,   2.     ],\n",
       "       [ 26.     ,  28.     ,   1.41421,   2.     ],\n",
       "       [ 40.     ,  42.     ,   1.41421,   2.     ],\n",
       "       [ 10.     ,  14.     ,   1.41421,   2.     ],\n",
       "       [ 54.     ,  57.     ,   1.41421,   2.     ],\n",
       "       [ 58.     ,  62.     ,   1.41421,   2.     ],\n",
       "       [ 70.     ,  73.     ,   1.41421,   2.     ],\n",
       "       [ 91.     ,  93.     ,   1.41421,   2.     ],\n",
       "       [108.     , 112.     ,   1.41421,   2.     ],\n",
       "       [126.     , 132.     ,   1.41421,   2.     ],\n",
       "       [137.     , 139.     ,   1.41421,   2.     ],\n",
       "       [147.     , 159.     ,   1.41421,   2.     ],\n",
       "       [ 77.     , 210.     ,   1.73205,   3.     ],\n",
       "       [ 76.     , 212.     ,   1.73205,   3.     ],\n",
       "       [149.     , 222.     ,   1.73205,   3.     ],\n",
       "       [ 12.     , 228.     ,   1.82574,   3.     ],\n",
       "       [116.     , 233.     ,   1.82574,   3.     ],\n",
       "       [ 13.     ,  15.     ,   2.     ,   2.     ],\n",
       "       [  2.     ,   6.     ,   2.     ,   2.     ],\n",
       "       [ 87.     ,  90.     ,   2.     ,   2.     ],\n",
       "       [106.     , 110.     ,   2.     ,   2.     ],\n",
       "       [114.     , 115.     ,   2.     ,   2.     ],\n",
       "       [128.     , 130.     ,   2.     ,   2.     ],\n",
       "       [134.     , 136.     ,   2.     ,   2.     ],\n",
       "       [148.     , 152.     ,   2.     ,   2.     ],\n",
       "       [153.     , 157.     ,   2.     ,   2.     ],\n",
       "       [165.     , 171.     ,   2.     ,   2.     ],\n",
       "       [111.     , 217.     ,   2.08167,   3.     ],\n",
       "       [  0.     ,   4.     ,   2.23607,   2.     ],\n",
       "       [ 50.     ,  52.     ,   2.23607,   2.     ],\n",
       "       [ 86.     ,  88.     ,   2.23607,   2.     ],\n",
       "       [ 89.     ,  96.     ,   2.23607,   2.     ],\n",
       "       [146.     , 160.     ,   2.23607,   2.     ],\n",
       "       [216.     , 218.     ,   2.23607,   4.     ],\n",
       "       [164.     , 168.     ,   2.23607,   2.     ],\n",
       "       [181.     , 183.     ,   2.23607,   2.     ],\n",
       "       [187.     , 191.     ,   2.23607,   2.     ],\n",
       "       [186.     , 190.     ,   2.23607,   2.     ],\n",
       "       [176.     , 221.     ,   2.38048,   3.     ],\n",
       "       [133.     , 235.     ,   2.44949,   3.     ],\n",
       "       [208.     , 230.     ,   2.54951,   4.     ],\n",
       "       [140.     , 248.     ,   2.58199,   3.     ],\n",
       "       [125.     , 203.     ,   2.58199,   3.     ],\n",
       "       [ 38.     ,  44.     ,   2.82843,   2.     ],\n",
       "       [ 83.     , 209.     ,   2.88675,   3.     ],\n",
       "       [ 59.     , 207.     ,   2.88675,   3.     ],\n",
       "       [122.     , 220.     ,   2.88675,   3.     ],\n",
       "       [ 16.     ,  20.     ,   3.     ,   2.     ],\n",
       "       [ 30.     ,  32.     ,   3.     ,   2.     ],\n",
       "       [118.     , 121.     ,   3.     ,   2.     ],\n",
       "       [102.     , 117.     ,   3.     ,   2.     ],\n",
       "       [ 34.     ,  36.     ,   3.16228,   2.     ],\n",
       "       [214.     , 215.     ,   3.16228,   4.     ],\n",
       "       [135.     , 143.     ,   3.16228,   2.     ],\n",
       "       [167.     , 173.     ,   3.16228,   2.     ],\n",
       "       [ 95.     , 224.     ,   3.2914 ,   4.     ],\n",
       "       [138.     , 247.     ,   3.4641 ,   3.     ],\n",
       "       [232.     , 258.     ,   3.51188,   6.     ],\n",
       "       [ 37.     ,  39.     ,   3.60555,   2.     ],\n",
       "       [ 55.     , 201.     ,   3.65148,   3.     ],\n",
       "       [ 84.     , 238.     ,   3.67423,   4.     ],\n",
       "       [ 46.     , 254.     ,   3.69685,   3.     ],\n",
       "       [ 43.     ,  45.     ,   4.     ,   2.     ],\n",
       "       [245.     , 246.     ,   4.     ,   4.     ],\n",
       "       [ 72.     , 270.     ,   4.08248,   4.     ],\n",
       "       [ 11.     ,  19.     ,   4.12311,   2.     ],\n",
       "       [  8.     , 243.     ,   4.16333,   3.     ],\n",
       "       [ 56.     , 265.     ,   4.30116,   5.     ],\n",
       "       [ 47.     , 229.     ,   4.39697,   3.     ],\n",
       "       [123.     , 127.     ,   4.47214,   2.     ],\n",
       "       [141.     , 145.     ,   4.47214,   2.     ],\n",
       "       [172.     , 263.     ,   4.56435,   4.     ],\n",
       "       [206.     , 231.     ,   4.94975,   4.     ],\n",
       "       [241.     , 274.     ,   4.98665,   5.     ],\n",
       "       [ 33.     ,  41.     ,   5.     ,   2.     ],\n",
       "       [236.     , 250.     ,   5.     ,   4.     ],\n",
       "       [ 25.     ,  29.     ,   5.09902,   2.     ],\n",
       "       [178.     , 182.     ,   5.09902,   2.     ],\n",
       "       [211.     , 285.     ,   5.30723,   6.     ],\n",
       "       [144.     , 219.     ,   5.32291,   3.     ],\n",
       "       [225.     , 242.     ,   5.38516,   4.     ],\n",
       "       [142.     , 257.     ,   5.68624,   3.     ],\n",
       "       [244.     , 255.     ,   5.70088,   4.     ],\n",
       "       [162.     , 202.     ,   5.7735 ,   3.     ],\n",
       "       [239.     , 278.     ,   5.89915,   5.     ],\n",
       "       [256.     , 280.     ,   6.06905,   6.     ],\n",
       "       [169.     , 177.     ,   6.08276,   2.     ],\n",
       "       [ 71.     , 269.     ,   6.13732,   4.     ],\n",
       "       [163.     , 295.     ,   6.21825,   3.     ],\n",
       "       [  7.     , 290.     ,   6.245  ,   3.     ],\n",
       "       [179.     , 260.     ,   6.245  ,   3.     ],\n",
       "       [  1.     , 305.     ,   6.27694,   5.     ],\n",
       "       [277.     , 288.     ,   6.32456,   8.     ],\n",
       "       [  9.     ,  17.     ,   6.32456,   2.     ],\n",
       "       [ 31.     , 204.     ,   6.35085,   3.     ],\n",
       "       [252.     , 275.     ,   6.45497,   5.     ],\n",
       "       [223.     , 297.     ,   6.48258,   7.     ],\n",
       "       [205.     , 287.     ,   6.5192 ,   4.     ],\n",
       "       [ 35.     , 301.     ,   6.58281,   3.     ],\n",
       "       [124.     , 234.     ,   6.58281,   3.     ],\n",
       "       [ 24.     , 276.     ,   6.58281,   3.     ],\n",
       "       [ 18.     , 272.     ,   6.95222,   3.     ],\n",
       "       [180.     , 184.     ,   7.28011,   2.     ],\n",
       "       [166.     , 259.     ,   7.50555,   3.     ],\n",
       "       [264.     , 267.     ,   7.52773,   6.     ],\n",
       "       [289.     , 292.     ,   7.55719,   9.     ],\n",
       "       [ 22.     , 273.     ,   7.59386,   3.     ],\n",
       "       [188.     , 262.     ,   7.59386,   3.     ],\n",
       "       [161.     , 309.     ,   7.62889,   6.     ],\n",
       "       [195.     , 197.     ,   7.81025,   2.     ],\n",
       "       [284.     , 293.     ,   7.85281,   6.     ],\n",
       "       [266.     , 281.     ,   8.04156,   6.     ],\n",
       "       [175.     , 279.     ,   8.83176,   3.     ],\n",
       "       [237.     , 312.     ,   9.09474,   7.     ],\n",
       "       [249.     , 304.     ,   9.30949,   5.     ],\n",
       "       [189.     , 315.     ,   9.32738,   4.     ],\n",
       "       [226.     , 326.     ,   9.33095,   5.     ],\n",
       "       [271.     , 320.     ,   9.45604,   8.     ],\n",
       "       [310.     , 317.     ,   9.64118,  14.     ],\n",
       "       [192.     , 194.     ,  10.63015,   2.     ],\n",
       "       [282.     , 298.     ,  10.77933,  11.     ],\n",
       "       [303.     , 307.     ,  10.99242,  10.     ],\n",
       "       [318.     , 319.     ,  11.6046 ,   5.     ],\n",
       "       [227.     , 268.     ,  12.04159,   4.     ],\n",
       "       [294.     , 313.     ,  12.05543,   5.     ],\n",
       "       [185.     , 340.     ,  12.43382,   5.     ],\n",
       "       [251.     , 311.     ,  12.90349,   4.     ],\n",
       "       [306.     , 324.     ,  13.2916 ,   6.     ],\n",
       "       [300.     , 329.     ,  13.32917,  10.     ],\n",
       "       [296.     , 302.     ,  13.37286,   6.     ],\n",
       "       [286.     , 321.     ,  14.1519 ,  10.     ],\n",
       "       [ 27.     , 347.     ,  14.47987,   6.     ],\n",
       "       [196.     , 198.     ,  14.86607,   2.     ],\n",
       "       [333.     , 349.     ,  15.74513,  11.     ],\n",
       "       [299.     , 323.     ,  15.90178,   5.     ],\n",
       "       [240.     , 291.     ,  15.96872,   6.     ],\n",
       "       [308.     , 336.     ,  16.52607,   9.     ],\n",
       "       [199.     , 334.     ,  17.82321,   3.     ],\n",
       "       [322.     , 355.     ,  18.0115 ,  14.     ],\n",
       "       [325.     , 331.     ,  18.91208,   6.     ],\n",
       "       [253.     , 341.     ,  19.37672,   7.     ],\n",
       "       [193.     , 350.     ,  19.50385,   6.     ],\n",
       "       [283.     , 356.     ,  20.47763,   8.     ],\n",
       "       [328.     , 339.     ,  20.79463,   8.     ],\n",
       "       [330.     , 335.     ,  20.97671,  15.     ],\n",
       "       [327.     , 332.     ,  22.95067,   5.     ],\n",
       "       [337.     , 358.     ,  24.12064,  14.     ],\n",
       "       [343.     , 345.     ,  24.43495,  25.     ],\n",
       "       [261.     , 351.     ,  25.1164 ,   6.     ],\n",
       "       [344.     , 357.     ,  26.30589,   4.     ],\n",
       "       [338.     , 369.     ,  27.06895,  22.     ],\n",
       "       [342.     , 346.     ,  27.70128,  18.     ],\n",
       "       [360.     , 364.     ,  28.9885 ,  12.     ],\n",
       "       [316.     , 367.     ,  29.942  ,  13.     ],\n",
       "       [354.     , 368.     ,  29.94618,  14.     ],\n",
       "       [314.     , 359.     ,  30.79448,   8.     ],\n",
       "       [348.     , 365.     ,  36.41125,  11.     ],\n",
       "       [372.     , 376.     ,  48.20228,  43.     ],\n",
       "       [363.     , 375.     ,  48.76575,  36.     ],\n",
       "       [361.     , 379.     ,  49.48843,  23.     ],\n",
       "       [353.     , 373.     ,  49.88403,  16.     ],\n",
       "       [370.     , 374.     ,  53.24201,   9.     ],\n",
       "       [378.     , 380.     ,  55.29105,  21.     ],\n",
       "       [362.     , 366.     ,  58.49406,   9.     ],\n",
       "       [352.     , 382.     ,  64.53741,  49.     ],\n",
       "       [371.     , 385.     ,  69.52315,  30.     ],\n",
       "       [377.     , 381.     ,  81.17936,  23.     ],\n",
       "       [383.     , 389.     , 106.65058,  85.     ],\n",
       "       [388.     , 390.     , 112.8182 ,  39.     ],\n",
       "       [384.     , 386.     , 113.88602,  32.     ],\n",
       "       [391.     , 392.     , 245.6546 , 108.     ],\n",
       "       [387.     , 395.     , 262.56263, 129.     ],\n",
       "       [393.     , 394.     , 394.85966,  71.     ],\n",
       "       [396.     , 397.     , 405.66004, 200.     ]])"
      ]
     },
     "execution_count": 47,
     "metadata": {},
     "output_type": "execute_result"
    }
   ],
   "source": [
    "Z[10:]"
   ]
  },
  {
   "cell_type": "code",
   "execution_count": 42,
   "metadata": {},
   "outputs": [
    {
     "data": {
      "text/plain": [
       "array([[ 65.     ,  68.     ,   0.     ,   2.     ],\n",
       "       [ 48.     ,  49.     ,   0.     ,   2.     ],\n",
       "       [156.     , 158.     ,   0.     ,   2.     ],\n",
       "       [129.     , 131.     ,   0.     ,   2.     ],\n",
       "       [ 21.     ,  23.     ,   1.     ,   2.     ],\n",
       "       [ 51.     ,  53.     ,   1.     ,   2.     ],\n",
       "       [ 60.     ,  61.     ,   1.     ,   2.     ],\n",
       "       [ 67.     ,  69.     ,   1.     ,   2.     ],\n",
       "       [ 64.     ,  66.     ,   1.     ,   2.     ],\n",
       "       [ 79.     ,  82.     ,   1.     ,   2.     ],\n",
       "       [ 74.     ,  85.     ,   1.     ,   2.     ],\n",
       "       [ 78.     ,  80.     ,   1.     ,   2.     ],\n",
       "       [ 75.     ,  81.     ,   1.     ,   2.     ],\n",
       "       [ 92.     ,  97.     ,   1.     ,   2.     ],\n",
       "       [101.     , 109.     ,   1.     ,   2.     ],\n",
       "       [107.     , 113.     ,   1.     ,   2.     ],\n",
       "       [ 94.     ,  98.     ,   1.     ,   2.     ],\n",
       "       [103.     , 104.     ,   1.     ,   2.     ],\n",
       "       [100.     , 105.     ,   1.     ,   2.     ],\n",
       "       [150.     , 154.     ,   1.     ,   2.     ],\n",
       "       [119.     , 120.     ,   1.     ,   2.     ],\n",
       "       [170.     , 174.     ,   1.     ,   2.     ],\n",
       "       [151.     , 155.     ,   1.     ,   2.     ],\n",
       "       [ 63.     , 200.     ,   1.1547 ,   3.     ],\n",
       "       [ 99.     , 213.     ,   1.29099,   3.     ],\n",
       "       [  3.     ,   5.     ,   1.41421,   2.     ],\n",
       "       [ 26.     ,  28.     ,   1.41421,   2.     ],\n",
       "       [ 40.     ,  42.     ,   1.41421,   2.     ],\n",
       "       [ 10.     ,  14.     ,   1.41421,   2.     ],\n",
       "       [ 54.     ,  57.     ,   1.41421,   2.     ],\n",
       "       [ 58.     ,  62.     ,   1.41421,   2.     ],\n",
       "       [ 70.     ,  73.     ,   1.41421,   2.     ],\n",
       "       [ 91.     ,  93.     ,   1.41421,   2.     ],\n",
       "       [108.     , 112.     ,   1.41421,   2.     ],\n",
       "       [126.     , 132.     ,   1.41421,   2.     ],\n",
       "       [137.     , 139.     ,   1.41421,   2.     ],\n",
       "       [147.     , 159.     ,   1.41421,   2.     ],\n",
       "       [ 77.     , 210.     ,   1.73205,   3.     ],\n",
       "       [ 76.     , 212.     ,   1.73205,   3.     ],\n",
       "       [149.     , 222.     ,   1.73205,   3.     ],\n",
       "       [ 12.     , 228.     ,   1.82574,   3.     ],\n",
       "       [116.     , 233.     ,   1.82574,   3.     ],\n",
       "       [ 13.     ,  15.     ,   2.     ,   2.     ],\n",
       "       [  2.     ,   6.     ,   2.     ,   2.     ],\n",
       "       [ 87.     ,  90.     ,   2.     ,   2.     ],\n",
       "       [106.     , 110.     ,   2.     ,   2.     ],\n",
       "       [114.     , 115.     ,   2.     ,   2.     ],\n",
       "       [128.     , 130.     ,   2.     ,   2.     ],\n",
       "       [134.     , 136.     ,   2.     ,   2.     ],\n",
       "       [148.     , 152.     ,   2.     ,   2.     ],\n",
       "       [153.     , 157.     ,   2.     ,   2.     ],\n",
       "       [165.     , 171.     ,   2.     ,   2.     ],\n",
       "       [111.     , 217.     ,   2.08167,   3.     ],\n",
       "       [  0.     ,   4.     ,   2.23607,   2.     ],\n",
       "       [ 50.     ,  52.     ,   2.23607,   2.     ],\n",
       "       [ 86.     ,  88.     ,   2.23607,   2.     ],\n",
       "       [ 89.     ,  96.     ,   2.23607,   2.     ],\n",
       "       [146.     , 160.     ,   2.23607,   2.     ],\n",
       "       [216.     , 218.     ,   2.23607,   4.     ],\n",
       "       [164.     , 168.     ,   2.23607,   2.     ],\n",
       "       [181.     , 183.     ,   2.23607,   2.     ],\n",
       "       [187.     , 191.     ,   2.23607,   2.     ],\n",
       "       [186.     , 190.     ,   2.23607,   2.     ],\n",
       "       [176.     , 221.     ,   2.38048,   3.     ],\n",
       "       [133.     , 235.     ,   2.44949,   3.     ],\n",
       "       [208.     , 230.     ,   2.54951,   4.     ],\n",
       "       [140.     , 248.     ,   2.58199,   3.     ],\n",
       "       [125.     , 203.     ,   2.58199,   3.     ],\n",
       "       [ 38.     ,  44.     ,   2.82843,   2.     ],\n",
       "       [ 83.     , 209.     ,   2.88675,   3.     ],\n",
       "       [ 59.     , 207.     ,   2.88675,   3.     ],\n",
       "       [122.     , 220.     ,   2.88675,   3.     ],\n",
       "       [ 16.     ,  20.     ,   3.     ,   2.     ],\n",
       "       [ 30.     ,  32.     ,   3.     ,   2.     ],\n",
       "       [118.     , 121.     ,   3.     ,   2.     ],\n",
       "       [102.     , 117.     ,   3.     ,   2.     ],\n",
       "       [ 34.     ,  36.     ,   3.16228,   2.     ],\n",
       "       [214.     , 215.     ,   3.16228,   4.     ],\n",
       "       [135.     , 143.     ,   3.16228,   2.     ],\n",
       "       [167.     , 173.     ,   3.16228,   2.     ],\n",
       "       [ 95.     , 224.     ,   3.2914 ,   4.     ],\n",
       "       [138.     , 247.     ,   3.4641 ,   3.     ],\n",
       "       [232.     , 258.     ,   3.51188,   6.     ],\n",
       "       [ 37.     ,  39.     ,   3.60555,   2.     ],\n",
       "       [ 55.     , 201.     ,   3.65148,   3.     ],\n",
       "       [ 84.     , 238.     ,   3.67423,   4.     ],\n",
       "       [ 46.     , 254.     ,   3.69685,   3.     ],\n",
       "       [ 43.     ,  45.     ,   4.     ,   2.     ],\n",
       "       [245.     , 246.     ,   4.     ,   4.     ],\n",
       "       [ 72.     , 270.     ,   4.08248,   4.     ],\n",
       "       [ 11.     ,  19.     ,   4.12311,   2.     ],\n",
       "       [  8.     , 243.     ,   4.16333,   3.     ],\n",
       "       [ 56.     , 265.     ,   4.30116,   5.     ],\n",
       "       [ 47.     , 229.     ,   4.39697,   3.     ],\n",
       "       [123.     , 127.     ,   4.47214,   2.     ],\n",
       "       [141.     , 145.     ,   4.47214,   2.     ],\n",
       "       [172.     , 263.     ,   4.56435,   4.     ],\n",
       "       [206.     , 231.     ,   4.94975,   4.     ],\n",
       "       [241.     , 274.     ,   4.98665,   5.     ],\n",
       "       [ 33.     ,  41.     ,   5.     ,   2.     ],\n",
       "       [236.     , 250.     ,   5.     ,   4.     ],\n",
       "       [ 25.     ,  29.     ,   5.09902,   2.     ],\n",
       "       [178.     , 182.     ,   5.09902,   2.     ],\n",
       "       [211.     , 285.     ,   5.30723,   6.     ],\n",
       "       [144.     , 219.     ,   5.32291,   3.     ],\n",
       "       [225.     , 242.     ,   5.38516,   4.     ],\n",
       "       [142.     , 257.     ,   5.68624,   3.     ],\n",
       "       [244.     , 255.     ,   5.70088,   4.     ],\n",
       "       [162.     , 202.     ,   5.7735 ,   3.     ],\n",
       "       [239.     , 278.     ,   5.89915,   5.     ],\n",
       "       [256.     , 280.     ,   6.06905,   6.     ],\n",
       "       [169.     , 177.     ,   6.08276,   2.     ],\n",
       "       [ 71.     , 269.     ,   6.13732,   4.     ],\n",
       "       [163.     , 295.     ,   6.21825,   3.     ],\n",
       "       [  7.     , 290.     ,   6.245  ,   3.     ],\n",
       "       [179.     , 260.     ,   6.245  ,   3.     ],\n",
       "       [  1.     , 305.     ,   6.27694,   5.     ],\n",
       "       [277.     , 288.     ,   6.32456,   8.     ],\n",
       "       [  9.     ,  17.     ,   6.32456,   2.     ],\n",
       "       [ 31.     , 204.     ,   6.35085,   3.     ],\n",
       "       [252.     , 275.     ,   6.45497,   5.     ],\n",
       "       [223.     , 297.     ,   6.48258,   7.     ],\n",
       "       [205.     , 287.     ,   6.5192 ,   4.     ],\n",
       "       [ 35.     , 301.     ,   6.58281,   3.     ],\n",
       "       [124.     , 234.     ,   6.58281,   3.     ],\n",
       "       [ 24.     , 276.     ,   6.58281,   3.     ],\n",
       "       [ 18.     , 272.     ,   6.95222,   3.     ],\n",
       "       [180.     , 184.     ,   7.28011,   2.     ],\n",
       "       [166.     , 259.     ,   7.50555,   3.     ],\n",
       "       [264.     , 267.     ,   7.52773,   6.     ],\n",
       "       [289.     , 292.     ,   7.55719,   9.     ],\n",
       "       [ 22.     , 273.     ,   7.59386,   3.     ],\n",
       "       [188.     , 262.     ,   7.59386,   3.     ],\n",
       "       [161.     , 309.     ,   7.62889,   6.     ],\n",
       "       [195.     , 197.     ,   7.81025,   2.     ],\n",
       "       [284.     , 293.     ,   7.85281,   6.     ],\n",
       "       [266.     , 281.     ,   8.04156,   6.     ],\n",
       "       [175.     , 279.     ,   8.83176,   3.     ],\n",
       "       [237.     , 312.     ,   9.09474,   7.     ],\n",
       "       [249.     , 304.     ,   9.30949,   5.     ],\n",
       "       [189.     , 315.     ,   9.32738,   4.     ],\n",
       "       [226.     , 326.     ,   9.33095,   5.     ],\n",
       "       [271.     , 320.     ,   9.45604,   8.     ],\n",
       "       [310.     , 317.     ,   9.64118,  14.     ],\n",
       "       [192.     , 194.     ,  10.63015,   2.     ],\n",
       "       [282.     , 298.     ,  10.77933,  11.     ],\n",
       "       [303.     , 307.     ,  10.99242,  10.     ],\n",
       "       [318.     , 319.     ,  11.6046 ,   5.     ],\n",
       "       [227.     , 268.     ,  12.04159,   4.     ],\n",
       "       [294.     , 313.     ,  12.05543,   5.     ],\n",
       "       [185.     , 340.     ,  12.43382,   5.     ],\n",
       "       [251.     , 311.     ,  12.90349,   4.     ],\n",
       "       [306.     , 324.     ,  13.2916 ,   6.     ],\n",
       "       [300.     , 329.     ,  13.32917,  10.     ],\n",
       "       [296.     , 302.     ,  13.37286,   6.     ],\n",
       "       [286.     , 321.     ,  14.1519 ,  10.     ],\n",
       "       [ 27.     , 347.     ,  14.47987,   6.     ],\n",
       "       [196.     , 198.     ,  14.86607,   2.     ],\n",
       "       [333.     , 349.     ,  15.74513,  11.     ],\n",
       "       [299.     , 323.     ,  15.90178,   5.     ],\n",
       "       [240.     , 291.     ,  15.96872,   6.     ],\n",
       "       [308.     , 336.     ,  16.52607,   9.     ],\n",
       "       [199.     , 334.     ,  17.82321,   3.     ],\n",
       "       [322.     , 355.     ,  18.0115 ,  14.     ],\n",
       "       [325.     , 331.     ,  18.91208,   6.     ],\n",
       "       [253.     , 341.     ,  19.37672,   7.     ],\n",
       "       [193.     , 350.     ,  19.50385,   6.     ],\n",
       "       [283.     , 356.     ,  20.47763,   8.     ],\n",
       "       [328.     , 339.     ,  20.79463,   8.     ],\n",
       "       [330.     , 335.     ,  20.97671,  15.     ],\n",
       "       [327.     , 332.     ,  22.95067,   5.     ],\n",
       "       [337.     , 358.     ,  24.12064,  14.     ],\n",
       "       [343.     , 345.     ,  24.43495,  25.     ],\n",
       "       [261.     , 351.     ,  25.1164 ,   6.     ],\n",
       "       [344.     , 357.     ,  26.30589,   4.     ],\n",
       "       [338.     , 369.     ,  27.06895,  22.     ],\n",
       "       [342.     , 346.     ,  27.70128,  18.     ],\n",
       "       [360.     , 364.     ,  28.9885 ,  12.     ],\n",
       "       [316.     , 367.     ,  29.942  ,  13.     ],\n",
       "       [354.     , 368.     ,  29.94618,  14.     ],\n",
       "       [314.     , 359.     ,  30.79448,   8.     ],\n",
       "       [348.     , 365.     ,  36.41125,  11.     ],\n",
       "       [372.     , 376.     ,  48.20228,  43.     ],\n",
       "       [363.     , 375.     ,  48.76575,  36.     ],\n",
       "       [361.     , 379.     ,  49.48843,  23.     ],\n",
       "       [353.     , 373.     ,  49.88403,  16.     ],\n",
       "       [370.     , 374.     ,  53.24201,   9.     ],\n",
       "       [378.     , 380.     ,  55.29105,  21.     ],\n",
       "       [362.     , 366.     ,  58.49406,   9.     ],\n",
       "       [352.     , 382.     ,  64.53741,  49.     ],\n",
       "       [371.     , 385.     ,  69.52315,  30.     ],\n",
       "       [377.     , 381.     ,  81.17936,  23.     ],\n",
       "       [383.     , 389.     , 106.65058,  85.     ],\n",
       "       [388.     , 390.     , 112.8182 ,  39.     ],\n",
       "       [384.     , 386.     , 113.88602,  32.     ],\n",
       "       [391.     , 392.     , 245.6546 , 108.     ],\n",
       "       [387.     , 395.     , 262.56263, 129.     ],\n",
       "       [393.     , 394.     , 394.85966,  71.     ],\n",
       "       [396.     , 397.     , 405.66004, 200.     ]])"
      ]
     },
     "execution_count": 42,
     "metadata": {},
     "output_type": "execute_result"
    }
   ],
   "source": [
    "Z[:][:][:][:]"
   ]
  },
  {
   "cell_type": "code",
   "execution_count": 45,
   "metadata": {},
   "outputs": [
    {
     "data": {
      "text/plain": [
       "array([4, 3, 4, 3, 4, 3, 4, 3, 4, 3, 4, 3, 4, 3, 4, 3, 4, 3, 4, 3, 4, 3,\n",
       "       4, 3, 4, 3, 4, 3, 4, 3, 4, 3, 4, 3, 4, 3, 4, 3, 4, 3, 4, 3, 4, 1,\n",
       "       4, 1, 1, 1, 1, 1, 1, 1, 1, 1, 1, 1, 1, 1, 1, 1, 1, 1, 1, 1, 1, 1,\n",
       "       1, 1, 1, 1, 1, 1, 1, 1, 1, 1, 1, 1, 1, 1, 1, 1, 1, 1, 1, 1, 1, 1,\n",
       "       1, 1, 1, 1, 1, 1, 1, 1, 1, 1, 1, 1, 1, 1, 1, 1, 1, 1, 1, 1, 1, 1,\n",
       "       1, 1, 1, 1, 1, 1, 1, 1, 1, 1, 1, 1, 1, 2, 1, 2, 1, 2, 0, 2, 0, 2,\n",
       "       1, 2, 0, 2, 0, 2, 0, 2, 0, 2, 1, 2, 0, 2, 1, 2, 0, 2, 0, 2, 0, 2,\n",
       "       0, 2, 0, 2, 0, 2, 1, 2, 0, 2, 0, 2, 0, 2, 0, 2, 0, 2, 0, 2, 0, 2,\n",
       "       0, 2, 0, 2, 0, 2, 0, 2, 0, 2, 0, 2, 0, 2, 0, 2, 0, 2, 0, 2, 0, 2,\n",
       "       0, 2], dtype=int64)"
      ]
     },
     "execution_count": 45,
     "metadata": {},
     "output_type": "execute_result"
    }
   ],
   "source": [
    "y_hc"
   ]
  },
  {
   "cell_type": "code",
   "execution_count": 92,
   "metadata": {},
   "outputs": [],
   "source": [
    "def punt(data):\n",
    "    puntos=data\n",
    "    if (puntos==4):\n",
    "        return 'Conservador'\n",
    "    if (puntos==3):\n",
    "        return 'Descuidado'\n",
    "    if (puntos==2):\n",
    "        return 'Objetivo'\n",
    "    if (puntos==1):\n",
    "        return 'Estandard'\n",
    "    if (puntos==0):\n",
    "        return 'Cauto'\n"
   ]
  },
  {
   "cell_type": "code",
   "execution_count": 93,
   "metadata": {},
   "outputs": [],
   "source": [
    "dataset['caracterizacion']=dataset['puntuacion'].apply(punt)"
   ]
  },
  {
   "cell_type": "code",
   "execution_count": 94,
   "metadata": {},
   "outputs": [
    {
     "data": {
      "text/html": [
       "<div>\n",
       "<style scoped>\n",
       "    .dataframe tbody tr th:only-of-type {\n",
       "        vertical-align: middle;\n",
       "    }\n",
       "\n",
       "    .dataframe tbody tr th {\n",
       "        vertical-align: top;\n",
       "    }\n",
       "\n",
       "    .dataframe thead th {\n",
       "        text-align: right;\n",
       "    }\n",
       "</style>\n",
       "<table border=\"1\" class=\"dataframe\">\n",
       "  <thead>\n",
       "    <tr style=\"text-align: right;\">\n",
       "      <th></th>\n",
       "      <th>CustomerID</th>\n",
       "      <th>Genre</th>\n",
       "      <th>Age</th>\n",
       "      <th>Annual Income (k$)</th>\n",
       "      <th>Spending Score (1-100)</th>\n",
       "      <th>puntuacion</th>\n",
       "      <th>caracterizacion</th>\n",
       "    </tr>\n",
       "  </thead>\n",
       "  <tbody>\n",
       "    <tr>\n",
       "      <th>0</th>\n",
       "      <td>1</td>\n",
       "      <td>Male</td>\n",
       "      <td>19</td>\n",
       "      <td>15</td>\n",
       "      <td>39</td>\n",
       "      <td>4</td>\n",
       "      <td>Conservador</td>\n",
       "    </tr>\n",
       "    <tr>\n",
       "      <th>1</th>\n",
       "      <td>2</td>\n",
       "      <td>Male</td>\n",
       "      <td>21</td>\n",
       "      <td>15</td>\n",
       "      <td>81</td>\n",
       "      <td>3</td>\n",
       "      <td>Descuidado</td>\n",
       "    </tr>\n",
       "    <tr>\n",
       "      <th>2</th>\n",
       "      <td>3</td>\n",
       "      <td>Female</td>\n",
       "      <td>20</td>\n",
       "      <td>16</td>\n",
       "      <td>6</td>\n",
       "      <td>4</td>\n",
       "      <td>Conservador</td>\n",
       "    </tr>\n",
       "    <tr>\n",
       "      <th>3</th>\n",
       "      <td>4</td>\n",
       "      <td>Female</td>\n",
       "      <td>23</td>\n",
       "      <td>16</td>\n",
       "      <td>77</td>\n",
       "      <td>3</td>\n",
       "      <td>Descuidado</td>\n",
       "    </tr>\n",
       "    <tr>\n",
       "      <th>4</th>\n",
       "      <td>5</td>\n",
       "      <td>Female</td>\n",
       "      <td>31</td>\n",
       "      <td>17</td>\n",
       "      <td>40</td>\n",
       "      <td>4</td>\n",
       "      <td>Conservador</td>\n",
       "    </tr>\n",
       "    <tr>\n",
       "      <th>...</th>\n",
       "      <td>...</td>\n",
       "      <td>...</td>\n",
       "      <td>...</td>\n",
       "      <td>...</td>\n",
       "      <td>...</td>\n",
       "      <td>...</td>\n",
       "      <td>...</td>\n",
       "    </tr>\n",
       "    <tr>\n",
       "      <th>195</th>\n",
       "      <td>196</td>\n",
       "      <td>Female</td>\n",
       "      <td>35</td>\n",
       "      <td>120</td>\n",
       "      <td>79</td>\n",
       "      <td>2</td>\n",
       "      <td>Objetivo</td>\n",
       "    </tr>\n",
       "    <tr>\n",
       "      <th>196</th>\n",
       "      <td>197</td>\n",
       "      <td>Female</td>\n",
       "      <td>45</td>\n",
       "      <td>126</td>\n",
       "      <td>28</td>\n",
       "      <td>0</td>\n",
       "      <td>Cauto</td>\n",
       "    </tr>\n",
       "    <tr>\n",
       "      <th>197</th>\n",
       "      <td>198</td>\n",
       "      <td>Male</td>\n",
       "      <td>32</td>\n",
       "      <td>126</td>\n",
       "      <td>74</td>\n",
       "      <td>2</td>\n",
       "      <td>Objetivo</td>\n",
       "    </tr>\n",
       "    <tr>\n",
       "      <th>198</th>\n",
       "      <td>199</td>\n",
       "      <td>Male</td>\n",
       "      <td>32</td>\n",
       "      <td>137</td>\n",
       "      <td>18</td>\n",
       "      <td>0</td>\n",
       "      <td>Cauto</td>\n",
       "    </tr>\n",
       "    <tr>\n",
       "      <th>199</th>\n",
       "      <td>200</td>\n",
       "      <td>Male</td>\n",
       "      <td>30</td>\n",
       "      <td>137</td>\n",
       "      <td>83</td>\n",
       "      <td>2</td>\n",
       "      <td>Objetivo</td>\n",
       "    </tr>\n",
       "  </tbody>\n",
       "</table>\n",
       "<p>200 rows × 7 columns</p>\n",
       "</div>"
      ],
      "text/plain": [
       "     CustomerID   Genre  Age  Annual Income (k$)  Spending Score (1-100)  \\\n",
       "0             1    Male   19                  15                      39   \n",
       "1             2    Male   21                  15                      81   \n",
       "2             3  Female   20                  16                       6   \n",
       "3             4  Female   23                  16                      77   \n",
       "4             5  Female   31                  17                      40   \n",
       "..          ...     ...  ...                 ...                     ...   \n",
       "195         196  Female   35                 120                      79   \n",
       "196         197  Female   45                 126                      28   \n",
       "197         198    Male   32                 126                      74   \n",
       "198         199    Male   32                 137                      18   \n",
       "199         200    Male   30                 137                      83   \n",
       "\n",
       "     puntuacion caracterizacion  \n",
       "0             4     Conservador  \n",
       "1             3      Descuidado  \n",
       "2             4     Conservador  \n",
       "3             3      Descuidado  \n",
       "4             4     Conservador  \n",
       "..          ...             ...  \n",
       "195           2        Objetivo  \n",
       "196           0           Cauto  \n",
       "197           2        Objetivo  \n",
       "198           0           Cauto  \n",
       "199           2        Objetivo  \n",
       "\n",
       "[200 rows x 7 columns]"
      ]
     },
     "execution_count": 94,
     "metadata": {},
     "output_type": "execute_result"
    }
   ],
   "source": [
    "dataset"
   ]
  },
  {
   "cell_type": "code",
   "execution_count": null,
   "metadata": {},
   "outputs": [],
   "source": []
  }
 ],
 "metadata": {
  "kernelspec": {
   "display_name": "Python 3 (ipykernel)",
   "language": "python",
   "name": "python3"
  },
  "language_info": {
   "codemirror_mode": {
    "name": "ipython",
    "version": 3
   },
   "file_extension": ".py",
   "mimetype": "text/x-python",
   "name": "python",
   "nbconvert_exporter": "python",
   "pygments_lexer": "ipython3",
   "version": "3.10.9"
  }
 },
 "nbformat": 4,
 "nbformat_minor": 2
}
