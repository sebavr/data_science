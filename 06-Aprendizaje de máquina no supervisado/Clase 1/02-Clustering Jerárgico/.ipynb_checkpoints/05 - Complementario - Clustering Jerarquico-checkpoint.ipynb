{
 "cells": [
  {
   "cell_type": "markdown",
   "metadata": {
    "colab_type": "text",
    "id": "3yFpBwmNz70v"
   },
   "source": [
    "# 1. Clustering Jerárquico"
   ]
  },
  {
   "cell_type": "markdown",
   "metadata": {},
   "source": [
    "## Agrupación jerárquica\n",
    "\n",
    "La agrupación jerárquica funciona colocando primero cada punto de datos en su propio grupo y luego fusionando los grupos en función de alguna regla, hasta que solo quede el número deseado de grupos. Para que esto funcione, es necesario que haya una medida de distancia entre los puntos de datos. Con esta medida de distancia `d`, podemos definir otra medida de distancia entre los **clusters** U y V usando uno de los siguientes métodos (*vínculos*):\n",
    "\n",
    "* `single`: $d(U, V) := \\min_{u \\in U, v \\in V} d(u,v)$ \n",
    "             basado en dos objetos más cercanos\n",
    "* `complete`: $d(U, V) := \\max_{u \\in U, v \\in V} d(u,v)$ \n",
    "             basado en dos objetos más lejanos\n",
    "* `average`: $d(U, V) := \\sum_{u \\in U, v \\in V} \\frac{d(u,v)}{|U||V|}$\n",
    "             basado en la media aritmética de todos los objetos\n",
    "* `ward`: intenta minimizar la varianza en cada grupo\n",
    "* `centroids`: basado en la media geométrica de todos los objetos\n",
    "* `median`: basado en la mediana de todos los objetos\n",
    "\n",
    "En cada iteración del algoritmo, se fusionan dos grupos más cercanos entre sí. Después de esto, se vuelve a calcular la distancia entre los conglomerados y luego continúa con la siguiente iteración.\n",
    "\n",
    "- Creación de una matriz de distancias mediante vinculación\n",
    "     - ```método```: cómo calcular la proximidad de los conglomerados\n",
    "     - ```metric```: métrica de distancia\n",
    "     - ```optimal_ordering```: puntos de datos del pedido"
   ]
  },
  {
   "cell_type": "markdown",
   "metadata": {
    "colab_type": "text",
    "id": "v8OxSXXSz-OP"
   },
   "source": [
    "# Importar las librerías\n"
   ]
  },
  {
   "cell_type": "code",
   "execution_count": null,
   "metadata": {
    "colab": {},
    "colab_type": "code",
    "id": "edZX51YLzs59"
   },
   "outputs": [],
   "source": [
    "import numpy as np\n",
    "import matplotlib.pyplot as plt\n",
    "import pandas as pd"
   ]
  },
  {
   "cell_type": "markdown",
   "metadata": {
    "colab_type": "text",
    "id": "8XfXlqtF0B58"
   },
   "source": [
    "# Importar el data set\n"
   ]
  },
  {
   "cell_type": "code",
   "execution_count": null,
   "metadata": {
    "colab": {},
    "colab_type": "code",
    "id": "-nnozsHsz_-N"
   },
   "outputs": [],
   "source": [
    "dataset = pd.read_csv('sesion3_Mall_Customers.csv')\n",
    "X = dataset.iloc[:, [3, 4]].values\n",
    "dataset"
   ]
  },
  {
   "cell_type": "code",
   "execution_count": null,
   "metadata": {},
   "outputs": [],
   "source": [
    "X"
   ]
  },
  {
   "cell_type": "code",
   "execution_count": null,
   "metadata": {},
   "outputs": [],
   "source": [
    "dataset.describe()"
   ]
  },
  {
   "cell_type": "markdown",
   "metadata": {
    "colab_type": "text",
    "id": "SsVEdPzf4XmV"
   },
   "source": [
    "# Utilizar el dendrograma para encontrar el número óptimo de clusters"
   ]
  },
  {
   "cell_type": "code",
   "execution_count": null,
   "metadata": {
    "colab": {},
    "colab_type": "code",
    "id": "v9CtwK834bjy"
   },
   "outputs": [],
   "source": [
    "import scipy.cluster.hierarchy as sch\n",
    "dendrogram = sch.dendrogram(sch.linkage(X, method = \"ward\"))\n",
    "plt.title(\"Dendrograma\")\n",
    "plt.xlabel(\"Clientes\")\n",
    "plt.ylabel(\"Distancia Euclídea\")\n",
    "plt.show()"
   ]
  },
  {
   "cell_type": "markdown",
   "metadata": {
    "colab_type": "text",
    "id": "5AH_uCEz68rb"
   },
   "source": [
    "# Ajustar el clustering jerárquico a nuestro conjunto de datos"
   ]
  },
  {
   "cell_type": "code",
   "execution_count": null,
   "metadata": {
    "colab": {
     "base_uri": "https://localhost:8080/",
     "height": 54
    },
    "colab_type": "code",
    "id": "oeuAy8LI69vi",
    "outputId": "10346439-d6ac-4abd-b5bb-033e9a284716"
   },
   "outputs": [],
   "source": [
    "from sklearn.cluster import AgglomerativeClustering\n",
    "hc = AgglomerativeClustering(n_clusters = 5, affinity = \"euclidean\", linkage = \"ward\")\n",
    "y_hc = hc.fit_predict(X)\n",
    "y_hc"
   ]
  },
  {
   "cell_type": "markdown",
   "metadata": {
    "colab_type": "text",
    "id": "cgweTaJ67BOB"
   },
   "source": [
    "# Visualización de los clusters"
   ]
  },
  {
   "cell_type": "code",
   "execution_count": null,
   "metadata": {},
   "outputs": [],
   "source": [
    "plt.scatter(X[y_hc == 0, 0], X[y_hc == 0, 1], s = 100, c = \"red\", label = \"Cautos\")\n",
    "plt.scatter(X[y_hc == 1, 0], X[y_hc == 1, 1], s = 100, c = \"blue\", label = \"Estandard\")\n",
    "plt.scatter(X[y_hc == 2, 0], X[y_hc == 2, 1], s = 100, c = \"green\", label = \"Objetivo\")\n",
    "plt.scatter(X[y_hc == 3, 0], X[y_hc == 3, 1], s = 100, c = \"cyan\", label = \"Descuidados\")\n",
    "plt.scatter(X[y_hc == 4, 0], X[y_hc == 4, 1], s = 100, c = \"magenta\", label = \"Conservadores\")\n",
    "plt.title(\"Cluster de clientes\")\n",
    "plt.xlabel(\"Ingresos anuales (en miles de $)\")\n",
    "plt.ylabel(\"Puntuación de Gastos (1-100)\")\n",
    "plt.legend()\n",
    "plt.show()"
   ]
  },
  {
   "cell_type": "markdown",
   "metadata": {},
   "source": [
    "### Un Ejemplo utilizando la librería Scipy"
   ]
  },
  {
   "cell_type": "code",
   "execution_count": null,
   "metadata": {},
   "outputs": [],
   "source": [
    "import numpy as np\n",
    "\n",
    "X = np.array([[5,3],\n",
    "    [10,15],\n",
    "    [15,12],\n",
    "    [24,10],\n",
    "    [30,30],\n",
    "    [85,70],\n",
    "    [71,80],\n",
    "    [60,78],\n",
    "    [70,55],\n",
    "    [80,91],])"
   ]
  },
  {
   "cell_type": "code",
   "execution_count": null,
   "metadata": {},
   "outputs": [],
   "source": [
    "import matplotlib.pyplot as plt\n",
    "\n",
    "labels = range(1, 11)\n",
    "plt.figure(figsize=(10, 7))\n",
    "plt.subplots_adjust(bottom=0.1)\n",
    "plt.scatter(X[:,0],X[:,1], label='True Position')\n",
    "\n",
    "for label, x, y in zip(labels, X[:, 0], X[:, 1]):\n",
    "    plt.annotate(\n",
    "        label,\n",
    "        xy=(x, y), xytext=(-3, 3),\n",
    "        textcoords='offset points', ha='right', va='bottom')\n",
    "plt.show()"
   ]
  },
  {
   "cell_type": "code",
   "execution_count": null,
   "metadata": {},
   "outputs": [],
   "source": [
    "from scipy.cluster.hierarchy import dendrogram, linkage\n",
    "from matplotlib import pyplot as plt\n",
    "\n",
    "linked = linkage(X, 'single')\n",
    "\n",
    "labelList = range(1, 11)\n",
    "\n",
    "plt.figure(figsize=(10, 7))\n",
    "dendrogram(linked,\n",
    "            orientation='top',\n",
    "            labels=labelList,\n",
    "            distance_sort='descending',\n",
    "            show_leaf_counts=True)\n",
    "plt.show()"
   ]
  },
  {
   "cell_type": "markdown",
   "metadata": {},
   "source": [
    "## with scikit-learn"
   ]
  },
  {
   "cell_type": "code",
   "execution_count": null,
   "metadata": {},
   "outputs": [],
   "source": [
    "from sklearn.cluster import AgglomerativeClustering\n",
    "\n",
    "cluster = AgglomerativeClustering(n_clusters=2, affinity='euclidean', linkage='ward')\n",
    "cluster.fit_predict(X)"
   ]
  },
  {
   "cell_type": "code",
   "execution_count": null,
   "metadata": {},
   "outputs": [],
   "source": [
    "print(cluster.labels_)"
   ]
  },
  {
   "cell_type": "code",
   "execution_count": null,
   "metadata": {},
   "outputs": [],
   "source": [
    "plt.scatter(X[:,0],X[:,1], c=cluster.labels_, cmap='rainbow')\n"
   ]
  },
  {
   "cell_type": "markdown",
   "metadata": {},
   "source": [
    "### Agrupación jerárquica: método ward\n",
    "¡Es hora de Comic-Con! Comic-Con es una convención anual basada en cómics que se celebra en las principales ciudades del mundo. Tienes los datos del paso del año pasado, el número de personas en el campo de la convención en un momento dado. Le gustaría decidir la ubicación de su puesto para maximizar las ventas. Utilizando el método de la sala, aplique agrupaciones jerárquicas para encontrar los dos puntos de atracción en el área."
   ]
  },
  {
   "cell_type": "markdown",
   "metadata": {},
   "source": [
    "- Preprocesamiento"
   ]
  },
  {
   "cell_type": "code",
   "execution_count": null,
   "metadata": {},
   "outputs": [],
   "source": [
    "comic_con = pd.read_csv('comic_con.csv', index_col=0)\n",
    "comic_con.head()"
   ]
  },
  {
   "cell_type": "code",
   "execution_count": null,
   "metadata": {},
   "outputs": [],
   "source": [
    "from scipy.cluster.vq import whiten\n",
    "\n",
    "comic_con['x_scaled'] = whiten(comic_con['x_coordinate'])\n",
    "comic_con['y_scaled'] = whiten(comic_con['y_coordinate'])"
   ]
  },
  {
   "cell_type": "code",
   "execution_count": null,
   "metadata": {},
   "outputs": [],
   "source": [
    "from scipy.cluster.hierarchy import linkage, fcluster\n",
    "import seaborn as sns\n",
    "\n",
    "# Use the linkage()\n",
    "distance_matrix = linkage(comic_con[['x_scaled', 'y_scaled']], method='ward', metric='euclidean')\n",
    "\n",
    "# Assign cluster labels\n",
    "comic_con['cluster_labels'] = fcluster(distance_matrix, 2, criterion='maxclust')\n",
    "\n",
    "# Plot clusters\n",
    "sns.scatterplot(x='x_scaled', y='y_scaled', hue='cluster_labels', data=comic_con);"
   ]
  },
  {
   "cell_type": "markdown",
   "metadata": {},
   "source": [
    "### Agrupación jerárquica: método single\n",
    "Usemos el mismo conjunto de datos de pisadas y verifiquemos si se ven cambios si usamos un método diferente para la agrupación."
   ]
  },
  {
   "cell_type": "code",
   "execution_count": null,
   "metadata": {},
   "outputs": [],
   "source": [
    "# Use the linkage()\n",
    "distance_matrix = linkage(comic_con[['x_scaled', 'y_scaled']], method='single', metric='euclidean')\n",
    "\n",
    "# Assign cluster labels\n",
    "comic_con['cluster_labels'] = fcluster(distance_matrix, 2, criterion='maxclust')\n",
    "\n",
    "# Plot clusters\n",
    "sns.scatterplot(x='x_scaled', y='y_scaled', hue='cluster_labels', data=comic_con);"
   ]
  },
  {
   "cell_type": "markdown",
   "metadata": {},
   "source": [
    "### Agrupación jerárquica: método complete\n",
    "Por tercera y última vez, usemos el mismo conjunto de datos de pisadas y verifiquemos si se observan cambios si usamos un método diferente para la agrupación.\n",
    "\n"
   ]
  },
  {
   "cell_type": "code",
   "execution_count": null,
   "metadata": {},
   "outputs": [],
   "source": [
    "# Use the linkage()\n",
    "distance_matrix = linkage(comic_con[['x_scaled', 'y_scaled']], method='complete', metric='euclidean')\n",
    "\n",
    "# Assign cluster labels\n",
    "comic_con['cluster_labels'] = fcluster(distance_matrix, 2, criterion='maxclust')\n",
    "\n",
    "# Plot clusters\n",
    "sns.scatterplot(x='x_scaled', y='y_scaled', hue='cluster_labels', data=comic_con);"
   ]
  },
  {
   "cell_type": "markdown",
   "metadata": {},
   "source": [
    "## Visualizar clústeres\n",
    "- ¿Por qué visualizar clústeres?\n",
    "     - Trate de dar sentido a los grupos formados\n",
    "     - Un paso adicional en la validación de clústeres.\n",
    "     - Detectar tendencias en los datos"
   ]
  },
  {
   "cell_type": "markdown",
   "metadata": {},
   "source": [
    "### Visualice clústeres con matplotlib\n",
    "Hemos comentado que las visualizaciones son necesarias para evaluar los clústeres que se forman y detectar tendencias en sus datos. Centrémonos ahora en visualizar el conjunto de datos de pisadas de Comic-Con utilizando el módulo matplotlib."
   ]
  },
  {
   "cell_type": "code",
   "execution_count": null,
   "metadata": {},
   "outputs": [],
   "source": [
    "# Define a colors dictionary for clusters\n",
    "colors = {1:'red', 2:'blue'}\n",
    "\n",
    "# Plot the scatter plot\n",
    "comic_con.plot.scatter(x='x_scaled', y='y_scaled', c=comic_con['cluster_labels'].apply(lambda x: colors[x]));"
   ]
  },
  {
   "cell_type": "markdown",
   "metadata": {},
   "source": [
    "### Visualice grupos con seaborn\n",
    "Visualicemos ahora el conjunto de datos de pisadas de Comic Con utilizando el módulo seaborn. Visualizar clústeres usando seaborn es más fácil con la función incorporada `` `hue`` para etiquetas de clúster."
   ]
  },
  {
   "cell_type": "code",
   "execution_count": null,
   "metadata": {},
   "outputs": [],
   "source": [
    "# Plot a scatter plot using seaborn\n",
    "sns.scatterplot(x='x_scaled', y='y_scaled', hue='cluster_labels', data=comic_con)"
   ]
  },
  {
   "cell_type": "markdown",
   "metadata": {},
   "source": [
    "## ¿Cuántos clusters?\n",
    "- Introducción a los dendrogramas\n",
    "     - Estrategia hasta ahora: decide los grupos en la inspección visual\n",
    "     - Los dendrogramas ayudan a mostrar progresiones a medida que se fusionan los grupos\n",
    "     - Un dendrograma es un diagrama de ramificación que demuestra cómo se compone cada grupo al ramificarse en sus nodos secundarios."
   ]
  },
  {
   "cell_type": "markdown",
   "metadata": {},
   "source": [
    "### Crea un dendrograma\n",
    "Los dendrogramas son diagramas de ramificación que muestran la fusión de grupos a medida que nos movemos por la matriz de distancias. Usemos los datos de pisadas de Comic Con para crear un dendrograma.\n",
    "\n"
   ]
  },
  {
   "cell_type": "code",
   "execution_count": null,
   "metadata": {},
   "outputs": [],
   "source": [
    "from scipy.cluster.hierarchy import dendrogram\n",
    "\n",
    "# Create a dendrogram\n",
    "dn = dendrogram(distance_matrix)"
   ]
  },
  {
   "cell_type": "markdown",
   "metadata": {},
   "source": [
    "### Limitaciones de la agrupación jerárquica\n",
    "- Comparación del tiempo de ejecución del método de vinculación\n",
    "     - Aumento del tiempo de ejecución con puntos de datos.\n",
    "     - Aumento cuadrático del tiempo de ejecución\n",
    "     - No es factible para grandes conjuntos de datos"
   ]
  },
  {
   "cell_type": "markdown",
   "metadata": {},
   "source": [
    "### Ejecución de tiempo de agrupación jerárquica\n",
    "En ejercicios anteriores de este capítulo, usó los datos de la pisada de Comic-Con para crear clústeres. En este ejercicio, calculará cuánto tiempo lleva ejecutar el algoritmo en el sistema de DataCamp.\n",
    "\n",
    "Recuerde que puede cronometrar la ejecución de pequeños fragmentos de código con:\n",
    "```python\n",
    "%timeit sum([1, 3, 2])\n",
    "```"
   ]
  },
  {
   "cell_type": "code",
   "execution_count": null,
   "metadata": {},
   "outputs": [],
   "source": [
    "%timeit linkage(comic_con[['x_scaled', 'y_scaled']], method='ward', metric='euclidean')"
   ]
  },
  {
   "cell_type": "markdown",
   "metadata": {},
   "source": [
    "## 2. Agrupación por densidad\n",
    "### Un ejemplo más complicado"
   ]
  },
  {
   "cell_type": "markdown",
   "metadata": {},
   "source": [
    "El algoritmo de k-medias puede tener dificultades cuando los grupos no tienen formas convexas:"
   ]
  },
  {
   "cell_type": "code",
   "execution_count": null,
   "metadata": {},
   "outputs": [],
   "source": [
    "from sklearn.datasets import make_moons\n",
    "X,y = make_moons(200, noise=0.05, random_state=0)"
   ]
  },
  {
   "cell_type": "code",
   "execution_count": null,
   "metadata": {},
   "outputs": [],
   "source": [
    "X"
   ]
  },
  {
   "cell_type": "code",
   "execution_count": null,
   "metadata": {},
   "outputs": [],
   "source": [
    "plt.scatter(X[:,0], X[:,1]);"
   ]
  },
  {
   "cell_type": "code",
   "execution_count": null,
   "metadata": {},
   "outputs": [],
   "source": [
    "from sklearn.cluster import KMeans\n",
    "model=KMeans(6)\n",
    "model.fit(X)\n",
    "plt.scatter(X[:,0], X[:,1], c=model.labels_);"
   ]
  },
  {
   "cell_type": "markdown",
   "metadata": {},
   "source": [
    "La agrupación no funciona bien ahora, ya que no es posible separar las dos agrupaciones con una línea. Podríamos incrustar este conjunto de datos en un espacio dimensional superior, donde la separación es posible. Y luego aplique el agrupamiento de k-medias."
   ]
  },
  {
   "cell_type": "markdown",
   "metadata": {},
   "source": [
    "Alternativamente, podemos usar un tipo diferente de algoritmo de agrupamiento para este caso. El * algoritmo DBSCAN * se basa en densidades y funciona bien con datos cuya densidad en los clústeres es uniforme."
   ]
  },
  {
   "cell_type": "code",
   "execution_count": null,
   "metadata": {},
   "outputs": [],
   "source": [
    "from sklearn.cluster import DBSCAN\n",
    "model = DBSCAN(eps=0.3)\n",
    "model.fit(X)\n",
    "plt.scatter(X[:,0], X[:,1], c=model.labels_);"
   ]
  },
  {
   "cell_type": "markdown",
   "metadata": {},
   "source": [
    "La buena noticia es que DBSCAN no requiere que el usuario especifique el número de clústeres. Pero ahora el algoritmo depende de otro hiperparámetro: un umbral para la distancia (aquí 0,3)."
   ]
  }
 ],
 "metadata": {
  "colab": {
   "collapsed_sections": [],
   "name": "multiple_linear_regression_new_version.ipynb",
   "provenance": [],
   "toc_visible": true
  },
  "kernelspec": {
   "display_name": "Python 3 (ipykernel)",
   "language": "python",
   "name": "python3"
  },
  "language_info": {
   "codemirror_mode": {
    "name": "ipython",
    "version": 3
   },
   "file_extension": ".py",
   "mimetype": "text/x-python",
   "name": "python",
   "nbconvert_exporter": "python",
   "pygments_lexer": "ipython3",
   "version": "3.10.9"
  }
 },
 "nbformat": 4,
 "nbformat_minor": 4
}
