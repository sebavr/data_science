{
 "cells": [
  {
   "cell_type": "markdown",
   "metadata": {},
   "source": [
    "# Implementacion Perceptron Regresivo en Python\n",
    "Para esto, resolveremos el caso Ecommerce adaptando nuestro perceptrón de clasificación para que resuelva un problema de regresión"
   ]
  },
  {
   "cell_type": "code",
   "execution_count": 9,
   "metadata": {},
   "outputs": [],
   "source": [
    "import numpy as np\n",
    "import pandas as pd\n",
    "import matplotlib.pyplot as plt\n",
    "%matplotlib inline"
   ]
  },
  {
   "cell_type": "code",
   "execution_count": 10,
   "metadata": {},
   "outputs": [],
   "source": [
    "df = pd.read_csv('Ecommerce.csv')"
   ]
  },
  {
   "cell_type": "code",
   "execution_count": 11,
   "metadata": {},
   "outputs": [
    {
     "data": {
      "text/html": [
       "<div>\n",
       "<style scoped>\n",
       "    .dataframe tbody tr th:only-of-type {\n",
       "        vertical-align: middle;\n",
       "    }\n",
       "\n",
       "    .dataframe tbody tr th {\n",
       "        vertical-align: top;\n",
       "    }\n",
       "\n",
       "    .dataframe thead th {\n",
       "        text-align: right;\n",
       "    }\n",
       "</style>\n",
       "<table border=\"1\" class=\"dataframe\">\n",
       "  <thead>\n",
       "    <tr style=\"text-align: right;\">\n",
       "      <th></th>\n",
       "      <th>Email</th>\n",
       "      <th>Address</th>\n",
       "      <th>Avatar</th>\n",
       "      <th>Avg. Session Length</th>\n",
       "      <th>Time on App</th>\n",
       "      <th>Time on Website</th>\n",
       "      <th>Length of Membership</th>\n",
       "      <th>Yearly Amount Spent</th>\n",
       "    </tr>\n",
       "  </thead>\n",
       "  <tbody>\n",
       "    <tr>\n",
       "      <th>0</th>\n",
       "      <td>mstephenson@fernandez.com</td>\n",
       "      <td>835 Frank Tunnel\\nWrightmouth, MI 82180-9605</td>\n",
       "      <td>Violet</td>\n",
       "      <td>34.497268</td>\n",
       "      <td>12.655651</td>\n",
       "      <td>39.577668</td>\n",
       "      <td>4.082621</td>\n",
       "      <td>587.951054</td>\n",
       "    </tr>\n",
       "    <tr>\n",
       "      <th>1</th>\n",
       "      <td>hduke@hotmail.com</td>\n",
       "      <td>4547 Archer Common\\nDiazchester, CA 06566-8576</td>\n",
       "      <td>DarkGreen</td>\n",
       "      <td>31.926272</td>\n",
       "      <td>11.109461</td>\n",
       "      <td>37.268959</td>\n",
       "      <td>2.664034</td>\n",
       "      <td>392.204933</td>\n",
       "    </tr>\n",
       "    <tr>\n",
       "      <th>2</th>\n",
       "      <td>pallen@yahoo.com</td>\n",
       "      <td>24645 Valerie Unions Suite 582\\nCobbborough, D...</td>\n",
       "      <td>Bisque</td>\n",
       "      <td>33.000915</td>\n",
       "      <td>11.330278</td>\n",
       "      <td>37.110597</td>\n",
       "      <td>4.104543</td>\n",
       "      <td>487.547505</td>\n",
       "    </tr>\n",
       "    <tr>\n",
       "      <th>3</th>\n",
       "      <td>riverarebecca@gmail.com</td>\n",
       "      <td>1414 David Throughway\\nPort Jason, OH 22070-1220</td>\n",
       "      <td>SaddleBrown</td>\n",
       "      <td>34.305557</td>\n",
       "      <td>13.717514</td>\n",
       "      <td>36.721283</td>\n",
       "      <td>3.120179</td>\n",
       "      <td>581.852344</td>\n",
       "    </tr>\n",
       "    <tr>\n",
       "      <th>4</th>\n",
       "      <td>mstephens@davidson-herman.com</td>\n",
       "      <td>14023 Rodriguez Passage\\nPort Jacobville, PR 3...</td>\n",
       "      <td>MediumAquaMarine</td>\n",
       "      <td>33.330673</td>\n",
       "      <td>12.795189</td>\n",
       "      <td>37.536653</td>\n",
       "      <td>4.446308</td>\n",
       "      <td>599.406092</td>\n",
       "    </tr>\n",
       "  </tbody>\n",
       "</table>\n",
       "</div>"
      ],
      "text/plain": [
       "                           Email  \\\n",
       "0      mstephenson@fernandez.com   \n",
       "1              hduke@hotmail.com   \n",
       "2               pallen@yahoo.com   \n",
       "3        riverarebecca@gmail.com   \n",
       "4  mstephens@davidson-herman.com   \n",
       "\n",
       "                                             Address            Avatar  \\\n",
       "0       835 Frank Tunnel\\nWrightmouth, MI 82180-9605            Violet   \n",
       "1     4547 Archer Common\\nDiazchester, CA 06566-8576         DarkGreen   \n",
       "2  24645 Valerie Unions Suite 582\\nCobbborough, D...            Bisque   \n",
       "3   1414 David Throughway\\nPort Jason, OH 22070-1220       SaddleBrown   \n",
       "4  14023 Rodriguez Passage\\nPort Jacobville, PR 3...  MediumAquaMarine   \n",
       "\n",
       "   Avg. Session Length  Time on App  Time on Website  Length of Membership  \\\n",
       "0            34.497268    12.655651        39.577668              4.082621   \n",
       "1            31.926272    11.109461        37.268959              2.664034   \n",
       "2            33.000915    11.330278        37.110597              4.104543   \n",
       "3            34.305557    13.717514        36.721283              3.120179   \n",
       "4            33.330673    12.795189        37.536653              4.446308   \n",
       "\n",
       "   Yearly Amount Spent  \n",
       "0           587.951054  \n",
       "1           392.204933  \n",
       "2           487.547505  \n",
       "3           581.852344  \n",
       "4           599.406092  "
      ]
     },
     "execution_count": 11,
     "metadata": {},
     "output_type": "execute_result"
    }
   ],
   "source": [
    "df.head()"
   ]
  },
  {
   "cell_type": "markdown",
   "metadata": {},
   "source": [
    "### Formulación del Modelo"
   ]
  },
  {
   "cell_type": "code",
   "execution_count": 12,
   "metadata": {},
   "outputs": [],
   "source": [
    "X = df[['Avg. Session Length','Time on App','Time on Website','Length of Membership']].values\n",
    "y = df['Yearly Amount Spent'].values"
   ]
  },
  {
   "cell_type": "code",
   "execution_count": 13,
   "metadata": {},
   "outputs": [
    {
     "data": {
      "text/plain": [
       "array([[34.49726773, 12.65565115, 39.57766802,  4.08262063],\n",
       "       [31.92627203, 11.10946073, 37.26895887,  2.66403418],\n",
       "       [33.00091476, 11.33027806, 37.11059744,  4.1045432 ],\n",
       "       [34.30555663, 13.71751367, 36.72128268,  3.12017878],\n",
       "       [33.33067252, 12.79518855, 37.5366533 ,  4.44630832]])"
      ]
     },
     "execution_count": 13,
     "metadata": {},
     "output_type": "execute_result"
    }
   ],
   "source": [
    "X[:5]"
   ]
  },
  {
   "cell_type": "code",
   "execution_count": 14,
   "metadata": {},
   "outputs": [
    {
     "data": {
      "text/plain": [
       "array([587.95105397, 392.20493344, 487.54750487, 581.85234404,\n",
       "       599.40609205])"
      ]
     },
     "execution_count": 14,
     "metadata": {},
     "output_type": "execute_result"
    }
   ],
   "source": [
    "y[:5]"
   ]
  },
  {
   "cell_type": "markdown",
   "metadata": {},
   "source": [
    "### Implementación Perceptrón"
   ]
  },
  {
   "cell_type": "code",
   "execution_count": 15,
   "metadata": {},
   "outputs": [],
   "source": [
    "# Define una función que calcule el producto punto entre dos vectores:\n",
    "def dot_product(x, w):\n",
    "    return np.dot(x,w)"
   ]
  },
  {
   "cell_type": "code",
   "execution_count": 16,
   "metadata": {},
   "outputs": [],
   "source": [
    "# Define la función de activación.\n",
    "def activation(x):\n",
    "    # en este caso utilizamos funcion de activacion lineal\n",
    "    return x"
   ]
  },
  {
   "cell_type": "code",
   "execution_count": 25,
   "metadata": {},
   "outputs": [
    {
     "data": {
      "text/plain": [
       "1000"
      ]
     },
     "execution_count": 25,
     "metadata": {},
     "output_type": "execute_result"
    }
   ],
   "source": [
    "activation(1000)"
   ]
  },
  {
   "cell_type": "code",
   "execution_count": 26,
   "metadata": {},
   "outputs": [],
   "source": [
    "# Define la función de entrenamiento del perceptrón:\n",
    "def perceptron_train(X, y, num_epochs, learning_rate):\n",
    "    #inicializar pesso de forma aleatoria\n",
    "    weights=np.random.rand(X.shape[1])\n",
    "    \n",
    "\n",
    "    # acá dejaremos el error que hubo entre lo real y lo calculado\n",
    "    # de cada iteración\n",
    "    errors=[]\n",
    "    \n",
    "    # iterar las epocas\n",
    "    for epochs in range(num_epochs):\n",
    "        \n",
    "        epoch_error=0\n",
    "\n",
    "        #itera sobre todos los elementos del set de entrenamiento\n",
    "        for i in range(X.shape[0]):\n",
    "            # calcular la salida del perceptron\n",
    "            output=activation(dot_product(X[i], weights))\n",
    "            # contabilizar el error\n",
    "            if output!=y[i]:\n",
    "                # definimos la siguiente metrica de error\n",
    "                #calcular como diferencia cuadratica\n",
    "                error=y[i] - output\n",
    "                # actualizamos los pesos si la salida es incorrecta\n",
    "                weights=weights + learning_rate*error*X[i]\n",
    "                epoch_error= epoch_error+abs(error)\n",
    "        errors.append(epoch_error)\n",
    "\n",
    "    return weights, errors\n",
    " "
   ]
  },
  {
   "cell_type": "code",
   "execution_count": 32,
   "metadata": {},
   "outputs": [],
   "source": [
    "weights, errors = perceptron_train(X, y, num_epochs=30, learning_rate=0.0001)\n",
    "#el learning_rate se disminuye para que los parametros puedan converger"
   ]
  },
  {
   "cell_type": "code",
   "execution_count": 33,
   "metadata": {},
   "outputs": [
    {
     "data": {
      "text/plain": [
       "(array([11.21178754, 27.56029391, -9.82400511, 48.06826689]),\n",
       " [32441.697798775633,\n",
       "  29720.622138235933,\n",
       "  28360.884313636234,\n",
       "  27080.838680134017,\n",
       "  25870.978957171614,\n",
       "  24727.560818828344,\n",
       "  23653.981224551804,\n",
       "  22646.733335089757,\n",
       "  21697.646212990763,\n",
       "  20814.223101535845,\n",
       "  19986.03386890654,\n",
       "  19208.721154394774,\n",
       "  18485.726087627983,\n",
       "  17810.22280144889,\n",
       "  17178.676823860213,\n",
       "  16586.66736936948,\n",
       "  16027.292960333047,\n",
       "  15508.160564895403,\n",
       "  15021.004354389434,\n",
       "  14569.73121247434,\n",
       "  14156.257504270718,\n",
       "  13776.471536183275,\n",
       "  13430.560355434782,\n",
       "  13119.447582526283,\n",
       "  12831.241565862034,\n",
       "  12565.955017625702,\n",
       "  12320.535060487593,\n",
       "  12097.01643367312,\n",
       "  11895.273488821329,\n",
       "  11714.569631976057])"
      ]
     },
     "execution_count": 33,
     "metadata": {},
     "output_type": "execute_result"
    }
   ],
   "source": [
    "weights, errors "
   ]
  },
  {
   "cell_type": "markdown",
   "metadata": {},
   "source": [
    "## Haciendo Predicciones"
   ]
  },
  {
   "cell_type": "code",
   "execution_count": 34,
   "metadata": {},
   "outputs": [],
   "source": [
    "def perceptron_predict(x, weights):\n",
    "    return activation(dot_product(x,weights))"
   ]
  },
  {
   "cell_type": "code",
   "execution_count": 35,
   "metadata": {},
   "outputs": [
    {
     "name": "stdout",
     "output_type": "stream",
     "text": [
      "543.0027867985995\n"
     ]
    }
   ],
   "source": [
    "x = np.array([34.49726773, 12.65565115, 39.57766802,  4.08262063])\n",
    "prediction = perceptron_predict(x, weights)\n",
    "print(prediction) "
   ]
  },
  {
   "cell_type": "markdown",
   "metadata": {},
   "source": [
    "### Prediccion con [34.497268, 12.655651, 39.577668, 4.082621]\n"
   ]
  },
  {
   "cell_type": "code",
   "execution_count": 39,
   "metadata": {},
   "outputs": [
    {
     "name": "stdout",
     "output_type": "stream",
     "text": [
      "543.0028036734768\n"
     ]
    }
   ],
   "source": [
    "\n",
    "x = np.array([34.497268, 12.655651, 39.577668, 4.082621])\n",
    "prediction = perceptron_predict(x, weights)\n",
    "print(prediction) "
   ]
  },
  {
   "cell_type": "markdown",
   "metadata": {},
   "source": [
    "## Evaluando el desempeño"
   ]
  },
  {
   "cell_type": "code",
   "execution_count": 36,
   "metadata": {},
   "outputs": [
    {
     "data": {
      "text/plain": [
       "[543.0027868674337,\n",
       " 426.05564528093794,\n",
       " 514.9886172363043,\n",
       " 551.9168383160054,\n",
       " 571.3016368985924,\n",
       " 636.5828257931395,\n",
       " 537.0982803788036,\n",
       " 553.4797048673729,\n",
       " 538.6014521992352,\n",
       " 472.70566038768914,\n",
       " 502.37173073411435,\n",
       " 513.2637754621418,\n",
       " 460.0960840612828,\n",
       " 562.5551780133517,\n",
       " 485.66359281602354,\n",
       " 498.5350514297839,\n",
       " 491.52040817321137,\n",
       " 432.93222344103685,\n",
       " 463.6320981448006,\n",
       " 581.2778596567928,\n",
       " 533.8993251282341,\n",
       " 437.6754583510945,\n",
       " 449.6400598196901,\n",
       " 517.3302999224425,\n",
       " 646.7476568866085,\n",
       " 454.6727770175624,\n",
       " 593.9209712796651,\n",
       " 493.21754975229385,\n",
       " 543.3290957234552,\n",
       " 562.680673275972,\n",
       " 503.7729214316091,\n",
       " 491.6253750833896,\n",
       " 587.8118507255645,\n",
       " 481.7266077475624,\n",
       " 539.4355206741074,\n",
       " 500.41772846765474,\n",
       " 407.24158490929204,\n",
       " 500.79947492504334,\n",
       " 497.77908068025425,\n",
       " 554.9893314546016,\n",
       " 538.7390551211358,\n",
       " 518.2630514538785,\n",
       " 561.2720465244764,\n",
       " 547.3717993021075,\n",
       " 482.797908202552,\n",
       " 514.5102247179983,\n",
       " 569.4243580744953,\n",
       " 564.405657419956,\n",
       " 492.8332495023991,\n",
       " 463.348342996898,\n",
       " 670.9346140193051,\n",
       " 457.87416992814167,\n",
       " 400.4868753301598,\n",
       " 486.0247507129662,\n",
       " 494.3444112736141,\n",
       " 516.4817494749794,\n",
       " 504.1454254779019,\n",
       " 479.8427257687315,\n",
       " 499.56856116660714,\n",
       " 535.6505869456382,\n",
       " 573.4101755478372,\n",
       " 521.3552996529127,\n",
       " 597.2617643032481,\n",
       " 485.89682881533395,\n",
       " 540.1991122677837,\n",
       " 695.756201069508,\n",
       " 565.7686427817634,\n",
       " 501.98068239527333,\n",
       " 438.64412381376013,\n",
       " 446.87570077997043,\n",
       " 468.16028626531374,\n",
       " 592.4393091341638,\n",
       " 447.43277843978535,\n",
       " 542.428237761136,\n",
       " 535.078363421791,\n",
       " 466.1286030390714,\n",
       " 471.15859697952953,\n",
       " 548.9605677545787,\n",
       " 503.71371138288345,\n",
       " 490.1091122703216,\n",
       " 491.78202519937827,\n",
       " 488.92985487427705,\n",
       " 593.1275117279165,\n",
       " 383.8669647917217,\n",
       " 529.6006341246522,\n",
       " 567.6249468056313,\n",
       " 488.1798337548451,\n",
       " 478.6832983770197,\n",
       " 568.5727412829519,\n",
       " 531.7963710415038,\n",
       " 456.56489476319064,\n",
       " 586.4587627022677,\n",
       " 534.6752700255389,\n",
       " 449.457966368178,\n",
       " 528.7133365961457,\n",
       " 536.7915145184875,\n",
       " 530.2550781458949,\n",
       " 583.9593073232514,\n",
       " 497.4534441251347,\n",
       " 504.9544591537597,\n",
       " 533.477895427078,\n",
       " 439.45539981825505,\n",
       " 434.24820454544744,\n",
       " 508.5384006107012,\n",
       " 445.7131435729634,\n",
       " 524.4276932678408,\n",
       " 524.645069656358,\n",
       " 428.8600344694505,\n",
       " 538.4626068906256,\n",
       " 526.011095177178,\n",
       " 486.8825948090682,\n",
       " 502.9685286251835,\n",
       " 459.52716238517314,\n",
       " 453.4237376934035,\n",
       " 634.0813917345513,\n",
       " 436.35875146004787,\n",
       " 483.1970996967385,\n",
       " 580.740689456981,\n",
       " 506.29415105352086,\n",
       " 553.9422171849906,\n",
       " 556.2372624198977,\n",
       " 553.1562743611544,\n",
       " 505.15794348062707,\n",
       " 520.4226080251669,\n",
       " 509.5086110625451,\n",
       " 554.1707817169081,\n",
       " 533.1821743616119,\n",
       " 472.4940070937224,\n",
       " 535.8287978486378,\n",
       " 457.39109636898274,\n",
       " 528.3047833457036,\n",
       " 559.9982196794451,\n",
       " 461.54880778909444,\n",
       " 554.5604297426243,\n",
       " 420.00870169476747,\n",
       " 500.41223912121535,\n",
       " 530.9502926229617,\n",
       " 459.62929361177305,\n",
       " 489.71687994506067,\n",
       " 465.7340401705138,\n",
       " 502.47514518946167,\n",
       " 502.24068208986455,\n",
       " 493.1601988308219,\n",
       " 371.9280993630878,\n",
       " 472.50740845116775,\n",
       " 521.5729545709262,\n",
       " 484.03870221776106,\n",
       " 500.6629207669348,\n",
       " 430.1906412623245,\n",
       " 495.0021909540351,\n",
       " 431.49892067959695,\n",
       " 650.0897443912002,\n",
       " 559.0088317663619,\n",
       " 644.4414024476057,\n",
       " 559.9845579758643,\n",
       " 510.270296009308,\n",
       " 582.7262171569981,\n",
       " 723.9935764300753,\n",
       " 485.21321911749214,\n",
       " 506.7919353603587,\n",
       " 494.30894498183574,\n",
       " 419.9625276249676,\n",
       " 523.8252829632667,\n",
       " 521.6982732757099,\n",
       " 544.143671567851,\n",
       " 516.5348097762965,\n",
       " 464.58768748405396,\n",
       " 576.2653739401817,\n",
       " 527.1697384554656,\n",
       " 527.7580334613867,\n",
       " 439.4404071675498,\n",
       " 478.9665513387171,\n",
       " 638.7788640782469,\n",
       " 364.11767553477597,\n",
       " 468.9805727625776,\n",
       " 409.9366979432718,\n",
       " 531.2720493922683,\n",
       " 547.1525143951887,\n",
       " 549.6938140873282,\n",
       " 504.33012358282474,\n",
       " 521.0055055795913,\n",
       " 519.5712298981725,\n",
       " 490.7383448146893,\n",
       " 475.54890192814753,\n",
       " 574.2969197295746,\n",
       " 513.4724361703303,\n",
       " 463.2732612537951,\n",
       " 532.2886204651377,\n",
       " 538.0477751651044,\n",
       " 483.2051306899671,\n",
       " 573.9364180950654,\n",
       " 483.93405328993936,\n",
       " 530.877541635457,\n",
       " 575.7068973995927,\n",
       " 439.9684129766367,\n",
       " 456.5524802506002,\n",
       " 400.51839633674166,\n",
       " 618.4977569971456,\n",
       " 546.0429671159386,\n",
       " 515.6036719094355,\n",
       " 483.20374199152707,\n",
       " 579.6880085617032,\n",
       " 485.3184840426536,\n",
       " 425.1542603323469,\n",
       " 570.1607382013535,\n",
       " 646.3813349105715,\n",
       " 439.6881127915427,\n",
       " 546.0104929525614,\n",
       " 458.99884813875576,\n",
       " 472.68398914252316,\n",
       " 509.54167369003125,\n",
       " 552.5191839307729,\n",
       " 518.5035385345086,\n",
       " 551.4996532019388,\n",
       " 406.1314311838848,\n",
       " 540.2449436394563,\n",
       " 415.722073843883,\n",
       " 552.7231141726613,\n",
       " 451.4552869456547,\n",
       " 533.3954007255984,\n",
       " 508.02420322872496,\n",
       " 569.2732704682385,\n",
       " 499.19200021543065,\n",
       " 578.7225424673361,\n",
       " 537.343288248346,\n",
       " 333.7072212316101,\n",
       " 544.9578382161955,\n",
       " 476.70599649349043,\n",
       " 479.3402253080015,\n",
       " 457.12652336061535,\n",
       " 549.4529511820497,\n",
       " 515.1439505059922,\n",
       " 588.3833004086523,\n",
       " 488.9492159946725,\n",
       " 504.9603920654369,\n",
       " 513.6288967660371,\n",
       " 513.3591651168954,\n",
       " 425.7211750086688,\n",
       " 461.9011675633091,\n",
       " 542.0890796202585,\n",
       " 444.1568540333178,\n",
       " 566.7595069305431,\n",
       " 428.84926999093216,\n",
       " 502.54439309053106,\n",
       " 588.4929063035256,\n",
       " 424.19269904339177,\n",
       " 569.1059222374961,\n",
       " 605.0303776545331,\n",
       " 482.20671384254194,\n",
       " 519.9546013267257,\n",
       " 530.7021493273803,\n",
       " 461.8888488932259,\n",
       " 462.2701736022936,\n",
       " 534.108508512706,\n",
       " 507.2240835585244,\n",
       " 508.80434968434406,\n",
       " 566.9404927645069,\n",
       " 545.7562085744133,\n",
       " 616.7537208127363,\n",
       " 420.25377718477796,\n",
       " 612.2250273593011,\n",
       " 530.404340225819,\n",
       " 431.6827088944109,\n",
       " 472.15863564255676,\n",
       " 588.507247524897,\n",
       " 539.4924788202261,\n",
       " 520.8147811498736,\n",
       " 428.73425116768783,\n",
       " 493.54928543450296,\n",
       " 561.1298382703877,\n",
       " 516.0633154921469,\n",
       " 615.9450538931192,\n",
       " 554.1833248065058,\n",
       " 614.117263926114,\n",
       " 496.266973524491,\n",
       " 559.6707738872652,\n",
       " 464.20592251369726,\n",
       " 608.4497842183691,\n",
       " 509.7872104816238,\n",
       " 474.48541573232797,\n",
       " 512.9307600082274,\n",
       " 540.9256169740381,\n",
       " 487.0452006624703,\n",
       " 423.3819454612765,\n",
       " 465.5215854958854,\n",
       " 488.68231363270127,\n",
       " 596.5129365245543,\n",
       " 423.5543307570383,\n",
       " 422.33587243547777,\n",
       " 446.8891716456261,\n",
       " 519.4719731753663,\n",
       " 409.00347591712097,\n",
       " 590.3476654077062,\n",
       " 493.5142103881633,\n",
       " 547.5276768495941,\n",
       " 478.84500867269463,\n",
       " 511.67497652989977,\n",
       " 497.14905929078367,\n",
       " 597.3221629930258,\n",
       " 378.3385495614581,\n",
       " 512.6460911688023,\n",
       " 499.06417323361995,\n",
       " 539.007823443119,\n",
       " 361.51505119257234,\n",
       " 504.3250683883431,\n",
       " 654.8894417435627,\n",
       " 441.7437652002574,\n",
       " 467.4921096181563,\n",
       " 606.7930812792415,\n",
       " 356.811478701077,\n",
       " 496.65396256072734,\n",
       " 502.30195983072804,\n",
       " 409.45477857235784,\n",
       " 550.6644940464239,\n",
       " 581.3821021418515,\n",
       " 553.8176902329276,\n",
       " 469.054442499495,\n",
       " 449.06863777280523,\n",
       " 559.0698075375333,\n",
       " 573.9886059412763,\n",
       " 403.22659090953476,\n",
       " 523.4460177771086,\n",
       " 510.07440016441205,\n",
       " 492.5473842177749,\n",
       " 559.2981521026456,\n",
       " 478.4400279801178,\n",
       " 501.90935792107814,\n",
       " 570.0490377052629,\n",
       " 437.6800468287154,\n",
       " 466.3220734831467,\n",
       " 487.3076957092958,\n",
       " 531.70499495747,\n",
       " 427.6827665043021,\n",
       " 504.8816368387443,\n",
       " 390.49650304739015,\n",
       " 455.73807707417535,\n",
       " 486.17890296538155,\n",
       " 475.56920657750675,\n",
       " 388.6170869249141,\n",
       " 484.95562415551063,\n",
       " 531.732589196517,\n",
       " 552.9339067347368,\n",
       " 511.7337006841476,\n",
       " 564.3253652353375,\n",
       " 451.79697931098514,\n",
       " 469.3823652622182,\n",
       " 510.4017867000334,\n",
       " 565.4590800518074,\n",
       " 464.2733529031815,\n",
       " 487.672719250166,\n",
       " 540.4245676531514,\n",
       " 530.6039370919674,\n",
       " 519.6527906731676,\n",
       " 570.8641652569491,\n",
       " 535.8503880044201,\n",
       " 449.073477414836,\n",
       " 606.8695861540634,\n",
       " 472.37988839380887,\n",
       " 447.5477228851129,\n",
       " 553.5925206437988,\n",
       " 470.8590884343024,\n",
       " 426.3511784483915,\n",
       " 412.9751821511595,\n",
       " 532.5534735567037,\n",
       " 486.69318334586285,\n",
       " 576.440593078176,\n",
       " 508.91374260326165,\n",
       " 443.7437884983858,\n",
       " 654.6915718077234,\n",
       " 516.6286679697873,\n",
       " 516.7274370964972,\n",
       " 451.45748718360824,\n",
       " 432.64533684686717,\n",
       " 468.999596186316,\n",
       " 460.97452020589037,\n",
       " 484.8277423537968,\n",
       " 493.8333773095925,\n",
       " 529.3620610771524,\n",
       " 520.4914910124263,\n",
       " 397.5699201145794,\n",
       " 532.5449351652056,\n",
       " 521.4114187675627,\n",
       " 438.59632336727253,\n",
       " 579.3252217164968,\n",
       " 509.8178188771276,\n",
       " 476.30721807716037,\n",
       " 509.04760088400644,\n",
       " 501.818561411793,\n",
       " 456.6572075221899,\n",
       " 576.8219078654362,\n",
       " 527.2387004222894,\n",
       " 497.63707624060163,\n",
       " 549.6285197743854,\n",
       " 504.29986099259474,\n",
       " 550.640614150698,\n",
       " 498.9921320221765,\n",
       " 645.418075573061,\n",
       " 550.8170793868896,\n",
       " 515.5246244690808,\n",
       " 463.53208884915705,\n",
       " 625.4739275896209,\n",
       " 509.45762013343017,\n",
       " 516.5673634226234,\n",
       " 583.7355217494463,\n",
       " 516.4815399917643,\n",
       " 508.2826592330662,\n",
       " 467.15253942483844,\n",
       " 444.04036510946065,\n",
       " 497.8591176021067,\n",
       " 551.3399804068401,\n",
       " 571.6335988230945,\n",
       " 587.0639319377982,\n",
       " 489.0342593868712,\n",
       " 519.1664033767133,\n",
       " 544.3909699033907,\n",
       " 337.09962765703597,\n",
       " 507.81685215459663,\n",
       " 474.76203816919366,\n",
       " 522.1273773822847,\n",
       " 500.00370493278325,\n",
       " 622.7106482946125,\n",
       " 569.0966347486245,\n",
       " 604.8737627806214,\n",
       " 483.17333592024977,\n",
       " 487.47877872942115,\n",
       " 567.0660133636114,\n",
       " 545.5897925070192,\n",
       " 536.0182738508557,\n",
       " 560.1641974150031,\n",
       " 486.26135966754543,\n",
       " 528.9755519547384,\n",
       " 485.6622814802531,\n",
       " 546.4214903572545,\n",
       " 455.2416930143022,\n",
       " 368.1224642665864,\n",
       " 568.3160205001528,\n",
       " 563.3476847542182,\n",
       " 459.1452655733045,\n",
       " 442.0102287364191,\n",
       " 556.2206229743766,\n",
       " 510.78700550549615,\n",
       " 506.50409774918614,\n",
       " 376.5640674316712,\n",
       " 539.7995031190959,\n",
       " 484.2884676704043,\n",
       " 542.6861534007935,\n",
       " 535.6852894735074,\n",
       " 356.5444042256456,\n",
       " 492.51046894769485,\n",
       " 466.8608991619692,\n",
       " 485.7274948180757,\n",
       " 450.64259894759493,\n",
       " 514.6779361685003,\n",
       " 483.8236249367792,\n",
       " 481.85952030887154,\n",
       " 481.5653406913261,\n",
       " 454.7393216355598,\n",
       " 531.3987134395161,\n",
       " 527.6353318858338,\n",
       " 434.85255068811705,\n",
       " 567.6252956867897,\n",
       " 528.3418578039252,\n",
       " 431.21609695398257,\n",
       " 445.98843283053986,\n",
       " 632.3800069046898,\n",
       " 513.3079850169725,\n",
       " 579.6332111005454,\n",
       " 449.92048633200375,\n",
       " 542.2353218582263,\n",
       " 460.0133026756027,\n",
       " 467.52870366857167,\n",
       " 538.2864683293521,\n",
       " 484.59607119987146,\n",
       " 472.6042063487088,\n",
       " 499.29388024625655,\n",
       " 537.59071212399,\n",
       " 415.6146528391056,\n",
       " 530.1047849203212,\n",
       " 501.7495337819229,\n",
       " 425.1268977301013,\n",
       " 551.8799485768052,\n",
       " 517.3722789643323,\n",
       " 528.9387700402148,\n",
       " 487.6285613240408,\n",
       " 474.59094501938824,\n",
       " 519.5238169499627,\n",
       " 573.5443697972429,\n",
       " 402.05963598199946,\n",
       " 551.6972562621472,\n",
       " 390.39878327117214,\n",
       " 490.77488830447305,\n",
       " 511.36620451714214,\n",
       " 420.820280876234,\n",
       " 618.4467390759057,\n",
       " 502.88570582026387,\n",
       " 568.8617289159063,\n",
       " 517.9753336965725,\n",
       " 544.7115715436538,\n",
       " 465.5096396481323,\n",
       " 500.3421562197411]"
      ]
     },
     "execution_count": 36,
     "metadata": {},
     "output_type": "execute_result"
    }
   ],
   "source": [
    "y_pred = [perceptron_predict(x, weights) for x in X]\n",
    "y_pred"
   ]
  },
  {
   "cell_type": "markdown",
   "metadata": {},
   "source": [
    "### Calcule el MAE."
   ]
  },
  {
   "cell_type": "code",
   "execution_count": 42,
   "metadata": {},
   "outputs": [
    {
     "data": {
      "text/plain": [
       "22.693418504040256"
      ]
     },
     "execution_count": 42,
     "metadata": {},
     "output_type": "execute_result"
    }
   ],
   "source": [
    "np.mean(np.abs(y-y_pred))"
   ]
  },
  {
   "cell_type": "markdown",
   "metadata": {},
   "source": [
    "### Calculo de R2"
   ]
  },
  {
   "cell_type": "code",
   "execution_count": 43,
   "metadata": {},
   "outputs": [],
   "source": [
    "def r2(y_true,y_pred):\n",
    "    y_mean=sum(y_true)/len(y_true)\n",
    "    \n",
    "    return sum((y_pred-y_mean)**2)/sum((y_true-y_mean)**2)"
   ]
  },
  {
   "cell_type": "code",
   "execution_count": 44,
   "metadata": {},
   "outputs": [
    {
     "data": {
      "text/plain": [
       "0.5560136355179112"
      ]
     },
     "execution_count": 44,
     "metadata": {},
     "output_type": "execute_result"
    }
   ],
   "source": [
    "r2(y,y_pred)"
   ]
  },
  {
   "cell_type": "markdown",
   "metadata": {},
   "source": [
    "### Error por epochs"
   ]
  },
  {
   "cell_type": "code",
   "execution_count": 38,
   "metadata": {},
   "outputs": [
    {
     "data": {
      "text/plain": [
       "[<matplotlib.lines.Line2D at 0x1d2033cfcd0>]"
      ]
     },
     "execution_count": 38,
     "metadata": {},
     "output_type": "execute_result"
    },
    {
     "data": {
      "image/png": "[encoded data removed]",
      "text/plain": [
       "<Figure size 640x480 with 1 Axes>"
      ]
     },
     "metadata": {},
     "output_type": "display_data"
    }
   ],
   "source": [
    "# graficamos los errores en cada epoch\n",
    "plt.plot(errors, marker='*')"
   ]
  },
  {
   "cell_type": "code",
   "execution_count": null,
   "metadata": {},
   "outputs": [],
   "source": []
  },
  {
   "cell_type": "code",
   "execution_count": null,
   "metadata": {},
   "outputs": [],
   "source": []
  }
 ],
 "metadata": {
  "kernelspec": {
   "display_name": "Python 3 (ipykernel)",
   "language": "python",
   "name": "python3"
  },
  "language_info": {
   "codemirror_mode": {
    "name": "ipython",
    "version": 3
   },
   "file_extension": ".py",
   "mimetype": "text/x-python",
   "name": "python",
   "nbconvert_exporter": "python",
   "pygments_lexer": "ipython3",
   "version": "3.10.9"
  }
 },
 "nbformat": 4,
 "nbformat_minor": 2
}
