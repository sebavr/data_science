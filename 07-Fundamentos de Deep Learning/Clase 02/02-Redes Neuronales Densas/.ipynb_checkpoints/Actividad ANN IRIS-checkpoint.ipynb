{
 "cells": [
  {
   "cell_type": "markdown",
   "id": "d543e163",
   "metadata": {},
   "source": [
    "# ANN - Clasificación IRIS"
   ]
  },
  {
   "cell_type": "code",
   "execution_count": 1,
   "id": "ce283006",
   "metadata": {},
   "outputs": [],
   "source": [
    "import pandas as pd\n",
    "import numpy as np\n",
    "import matplotlib.pyplot as plt\n",
    "%matplotlib inline"
   ]
  },
  {
   "cell_type": "markdown",
   "id": "308b1927",
   "metadata": {},
   "source": [
    "## Lectura de Datos"
   ]
  },
  {
   "cell_type": "code",
   "execution_count": 14,
   "id": "191cf25d",
   "metadata": {},
   "outputs": [],
   "source": [
    "df = pd.read_csv('iris-data.csv')"
   ]
  },
  {
   "cell_type": "code",
   "execution_count": 15,
   "id": "07b547c9",
   "metadata": {},
   "outputs": [
    {
     "data": {
      "text/html": [
       "<div>\n",
       "<style scoped>\n",
       "    .dataframe tbody tr th:only-of-type {\n",
       "        vertical-align: middle;\n",
       "    }\n",
       "\n",
       "    .dataframe tbody tr th {\n",
       "        vertical-align: top;\n",
       "    }\n",
       "\n",
       "    .dataframe thead th {\n",
       "        text-align: right;\n",
       "    }\n",
       "</style>\n",
       "<table border=\"1\" class=\"dataframe\">\n",
       "  <thead>\n",
       "    <tr style=\"text-align: right;\">\n",
       "      <th></th>\n",
       "      <th>sepal length</th>\n",
       "      <th>sepal width</th>\n",
       "      <th>petal length</th>\n",
       "      <th>petal width</th>\n",
       "    </tr>\n",
       "  </thead>\n",
       "  <tbody>\n",
       "    <tr>\n",
       "      <th>0</th>\n",
       "      <td>5.1</td>\n",
       "      <td>3.5</td>\n",
       "      <td>1.4</td>\n",
       "      <td>0.2</td>\n",
       "    </tr>\n",
       "    <tr>\n",
       "      <th>1</th>\n",
       "      <td>4.9</td>\n",
       "      <td>3.0</td>\n",
       "      <td>1.4</td>\n",
       "      <td>0.2</td>\n",
       "    </tr>\n",
       "  </tbody>\n",
       "</table>\n",
       "</div>"
      ],
      "text/plain": [
       "   sepal length  sepal width  petal length  petal width\n",
       "0           5.1          3.5           1.4          0.2\n",
       "1           4.9          3.0           1.4          0.2"
      ]
     },
     "execution_count": 15,
     "metadata": {},
     "output_type": "execute_result"
    }
   ],
   "source": [
    "df.head(2)"
   ]
  },
  {
   "cell_type": "code",
   "execution_count": 16,
   "id": "ba7f3cae",
   "metadata": {},
   "outputs": [],
   "source": [
    "df2=pd.read_csv('iris-classes.csv')"
   ]
  },
  {
   "cell_type": "code",
   "execution_count": 24,
   "id": "506574b4",
   "metadata": {},
   "outputs": [
    {
     "data": {
      "text/plain": [
       "array(['Iris-setosa', 'Iris-versicolor', 'Iris-virginica'], dtype=object)"
      ]
     },
     "execution_count": 24,
     "metadata": {},
     "output_type": "execute_result"
    }
   ],
   "source": [
    "df2['class'].unique()"
   ]
  },
  {
   "cell_type": "markdown",
   "id": "b19a1e3f",
   "metadata": {},
   "source": [
    "### Wrangling"
   ]
  },
  {
   "cell_type": "code",
   "execution_count": 25,
   "id": "9bc75a3f",
   "metadata": {},
   "outputs": [],
   "source": [
    "def clase(data):\n",
    "    puntos=data\n",
    "    if (puntos=='Iris-setosa'):\n",
    "        return 0\n",
    "    if (puntos=='Iris-versicolor'):\n",
    "        return 1\n",
    "    if (puntos=='Iris-virginica'):\n",
    "        return 2"
   ]
  },
  {
   "cell_type": "code",
   "execution_count": 26,
   "id": "688e8de6",
   "metadata": {},
   "outputs": [],
   "source": [
    "df2['class2']=df2['class'].apply(clase)"
   ]
  },
  {
   "cell_type": "code",
   "execution_count": 28,
   "id": "44022f5c",
   "metadata": {},
   "outputs": [
    {
     "data": {
      "text/html": [
       "<div>\n",
       "<style scoped>\n",
       "    .dataframe tbody tr th:only-of-type {\n",
       "        vertical-align: middle;\n",
       "    }\n",
       "\n",
       "    .dataframe tbody tr th {\n",
       "        vertical-align: top;\n",
       "    }\n",
       "\n",
       "    .dataframe thead th {\n",
       "        text-align: right;\n",
       "    }\n",
       "</style>\n",
       "<table border=\"1\" class=\"dataframe\">\n",
       "  <thead>\n",
       "    <tr style=\"text-align: right;\">\n",
       "      <th></th>\n",
       "      <th>class</th>\n",
       "      <th>class2</th>\n",
       "    </tr>\n",
       "  </thead>\n",
       "  <tbody>\n",
       "    <tr>\n",
       "      <th>0</th>\n",
       "      <td>Iris-setosa</td>\n",
       "      <td>0</td>\n",
       "    </tr>\n",
       "    <tr>\n",
       "      <th>1</th>\n",
       "      <td>Iris-setosa</td>\n",
       "      <td>0</td>\n",
       "    </tr>\n",
       "    <tr>\n",
       "      <th>2</th>\n",
       "      <td>Iris-setosa</td>\n",
       "      <td>0</td>\n",
       "    </tr>\n",
       "    <tr>\n",
       "      <th>3</th>\n",
       "      <td>Iris-setosa</td>\n",
       "      <td>0</td>\n",
       "    </tr>\n",
       "    <tr>\n",
       "      <th>4</th>\n",
       "      <td>Iris-setosa</td>\n",
       "      <td>0</td>\n",
       "    </tr>\n",
       "  </tbody>\n",
       "</table>\n",
       "</div>"
      ],
      "text/plain": [
       "         class  class2\n",
       "0  Iris-setosa       0\n",
       "1  Iris-setosa       0\n",
       "2  Iris-setosa       0\n",
       "3  Iris-setosa       0\n",
       "4  Iris-setosa       0"
      ]
     },
     "execution_count": 28,
     "metadata": {},
     "output_type": "execute_result"
    }
   ],
   "source": [
    "df2.head()"
   ]
  },
  {
   "cell_type": "code",
   "execution_count": 5,
   "id": "a36a3830",
   "metadata": {},
   "outputs": [
    {
     "data": {
      "text/plain": [
       "(150, 4)"
      ]
     },
     "execution_count": 5,
     "metadata": {},
     "output_type": "execute_result"
    }
   ],
   "source": [
    "df.shape"
   ]
  },
  {
   "cell_type": "code",
   "execution_count": 6,
   "id": "f03530da",
   "metadata": {},
   "outputs": [
    {
     "data": {
      "text/plain": [
       "sepal length    0\n",
       "sepal width     0\n",
       "petal length    0\n",
       "petal width     0\n",
       "dtype: int64"
      ]
     },
     "execution_count": 6,
     "metadata": {},
     "output_type": "execute_result"
    }
   ],
   "source": [
    "df.isnull().sum()"
   ]
  },
  {
   "cell_type": "markdown",
   "id": "7c4dccca",
   "metadata": {},
   "source": [
    "## Planteamiento del modelo"
   ]
  },
  {
   "cell_type": "code",
   "execution_count": 29,
   "id": "dee3a063",
   "metadata": {},
   "outputs": [],
   "source": [
    "X = df[['sepal length','sepal width','petal length','petal width']]\n",
    "y=df2[['class2']]"
   ]
  },
  {
   "cell_type": "markdown",
   "id": "08e90e8a",
   "metadata": {},
   "source": [
    "## Preprocesamiento"
   ]
  },
  {
   "cell_type": "markdown",
   "id": "93825872",
   "metadata": {},
   "source": [
    "### Escalamiento\n",
    "\n"
   ]
  },
  {
   "cell_type": "code",
   "execution_count": 38,
   "id": "b3cc3918",
   "metadata": {},
   "outputs": [],
   "source": [
    "from sklearn.preprocessing import StandardScaler"
   ]
  },
  {
   "cell_type": "code",
   "execution_count": 39,
   "id": "85624b05",
   "metadata": {},
   "outputs": [],
   "source": [
    "scaler = StandardScaler()\n",
    "X_enc = scaler.fit_transform(X)"
   ]
  },
  {
   "cell_type": "code",
   "execution_count": 40,
   "id": "369c9c66",
   "metadata": {},
   "outputs": [
    {
     "data": {
      "text/plain": [
       "array([[-0.90068117,  1.03205722, -1.3412724 , -1.31297673],\n",
       "       [-1.14301691, -0.1249576 , -1.3412724 , -1.31297673]])"
      ]
     },
     "execution_count": 40,
     "metadata": {},
     "output_type": "execute_result"
    }
   ],
   "source": [
    "X_enc[:2]"
   ]
  },
  {
   "cell_type": "markdown",
   "id": "b26ef3d6",
   "metadata": {},
   "source": [
    "### One hot Y"
   ]
  },
  {
   "cell_type": "code",
   "execution_count": 31,
   "id": "b1ab078a",
   "metadata": {},
   "outputs": [],
   "source": [
    "from sklearn.preprocessing import OneHotEncoder"
   ]
  },
  {
   "cell_type": "code",
   "execution_count": 32,
   "id": "811b42b6",
   "metadata": {},
   "outputs": [],
   "source": [
    "enc = OneHotEncoder()"
   ]
  },
  {
   "cell_type": "code",
   "execution_count": 33,
   "id": "863d71ad",
   "metadata": {},
   "outputs": [],
   "source": [
    "y_enc = enc.fit_transform(y.values.reshape(-1,1)).toarray()"
   ]
  },
  {
   "cell_type": "code",
   "execution_count": 35,
   "id": "97495da8",
   "metadata": {},
   "outputs": [
    {
     "data": {
      "text/plain": [
       "array([[1., 0., 0.],\n",
       "       [1., 0., 0.],\n",
       "       [1., 0., 0.],\n",
       "       [1., 0., 0.],\n",
       "       [1., 0., 0.],\n",
       "       [1., 0., 0.],\n",
       "       [1., 0., 0.],\n",
       "       [1., 0., 0.],\n",
       "       [1., 0., 0.],\n",
       "       [1., 0., 0.],\n",
       "       [1., 0., 0.],\n",
       "       [1., 0., 0.],\n",
       "       [1., 0., 0.],\n",
       "       [1., 0., 0.],\n",
       "       [1., 0., 0.],\n",
       "       [1., 0., 0.],\n",
       "       [1., 0., 0.],\n",
       "       [1., 0., 0.],\n",
       "       [1., 0., 0.],\n",
       "       [1., 0., 0.],\n",
       "       [1., 0., 0.],\n",
       "       [1., 0., 0.],\n",
       "       [1., 0., 0.],\n",
       "       [1., 0., 0.],\n",
       "       [1., 0., 0.],\n",
       "       [1., 0., 0.],\n",
       "       [1., 0., 0.],\n",
       "       [1., 0., 0.],\n",
       "       [1., 0., 0.],\n",
       "       [1., 0., 0.],\n",
       "       [1., 0., 0.],\n",
       "       [1., 0., 0.],\n",
       "       [1., 0., 0.],\n",
       "       [1., 0., 0.],\n",
       "       [1., 0., 0.],\n",
       "       [1., 0., 0.],\n",
       "       [1., 0., 0.],\n",
       "       [1., 0., 0.],\n",
       "       [1., 0., 0.],\n",
       "       [1., 0., 0.],\n",
       "       [1., 0., 0.],\n",
       "       [1., 0., 0.],\n",
       "       [1., 0., 0.],\n",
       "       [1., 0., 0.],\n",
       "       [1., 0., 0.],\n",
       "       [1., 0., 0.],\n",
       "       [1., 0., 0.],\n",
       "       [1., 0., 0.],\n",
       "       [1., 0., 0.],\n",
       "       [1., 0., 0.],\n",
       "       [0., 1., 0.],\n",
       "       [0., 1., 0.],\n",
       "       [0., 1., 0.],\n",
       "       [0., 1., 0.],\n",
       "       [0., 1., 0.],\n",
       "       [0., 1., 0.],\n",
       "       [0., 1., 0.],\n",
       "       [0., 1., 0.],\n",
       "       [0., 1., 0.],\n",
       "       [0., 1., 0.],\n",
       "       [0., 1., 0.],\n",
       "       [0., 1., 0.],\n",
       "       [0., 1., 0.],\n",
       "       [0., 1., 0.],\n",
       "       [0., 1., 0.],\n",
       "       [0., 1., 0.],\n",
       "       [0., 1., 0.],\n",
       "       [0., 1., 0.],\n",
       "       [0., 1., 0.],\n",
       "       [0., 1., 0.],\n",
       "       [0., 1., 0.],\n",
       "       [0., 1., 0.],\n",
       "       [0., 1., 0.],\n",
       "       [0., 1., 0.],\n",
       "       [0., 1., 0.],\n",
       "       [0., 1., 0.],\n",
       "       [0., 1., 0.],\n",
       "       [0., 1., 0.],\n",
       "       [0., 1., 0.],\n",
       "       [0., 1., 0.],\n",
       "       [0., 1., 0.],\n",
       "       [0., 1., 0.],\n",
       "       [0., 1., 0.],\n",
       "       [0., 1., 0.],\n",
       "       [0., 1., 0.],\n",
       "       [0., 1., 0.],\n",
       "       [0., 1., 0.],\n",
       "       [0., 1., 0.],\n",
       "       [0., 1., 0.],\n",
       "       [0., 1., 0.],\n",
       "       [0., 1., 0.],\n",
       "       [0., 1., 0.],\n",
       "       [0., 1., 0.],\n",
       "       [0., 1., 0.],\n",
       "       [0., 1., 0.],\n",
       "       [0., 1., 0.],\n",
       "       [0., 1., 0.],\n",
       "       [0., 1., 0.],\n",
       "       [0., 1., 0.],\n",
       "       [0., 1., 0.],\n",
       "       [0., 0., 1.],\n",
       "       [0., 0., 1.],\n",
       "       [0., 0., 1.],\n",
       "       [0., 0., 1.],\n",
       "       [0., 0., 1.],\n",
       "       [0., 0., 1.],\n",
       "       [0., 0., 1.],\n",
       "       [0., 0., 1.],\n",
       "       [0., 0., 1.],\n",
       "       [0., 0., 1.],\n",
       "       [0., 0., 1.],\n",
       "       [0., 0., 1.],\n",
       "       [0., 0., 1.],\n",
       "       [0., 0., 1.],\n",
       "       [0., 0., 1.],\n",
       "       [0., 0., 1.],\n",
       "       [0., 0., 1.],\n",
       "       [0., 0., 1.],\n",
       "       [0., 0., 1.],\n",
       "       [0., 0., 1.],\n",
       "       [0., 0., 1.],\n",
       "       [0., 0., 1.],\n",
       "       [0., 0., 1.],\n",
       "       [0., 0., 1.],\n",
       "       [0., 0., 1.],\n",
       "       [0., 0., 1.],\n",
       "       [0., 0., 1.],\n",
       "       [0., 0., 1.],\n",
       "       [0., 0., 1.],\n",
       "       [0., 0., 1.],\n",
       "       [0., 0., 1.],\n",
       "       [0., 0., 1.],\n",
       "       [0., 0., 1.],\n",
       "       [0., 0., 1.],\n",
       "       [0., 0., 1.],\n",
       "       [0., 0., 1.],\n",
       "       [0., 0., 1.],\n",
       "       [0., 0., 1.],\n",
       "       [0., 0., 1.],\n",
       "       [0., 0., 1.],\n",
       "       [0., 0., 1.],\n",
       "       [0., 0., 1.],\n",
       "       [0., 0., 1.],\n",
       "       [0., 0., 1.],\n",
       "       [0., 0., 1.],\n",
       "       [0., 0., 1.],\n",
       "       [0., 0., 1.],\n",
       "       [0., 0., 1.],\n",
       "       [0., 0., 1.],\n",
       "       [0., 0., 1.]])"
      ]
     },
     "execution_count": 35,
     "metadata": {},
     "output_type": "execute_result"
    }
   ],
   "source": [
    "y_enc"
   ]
  },
  {
   "cell_type": "markdown",
   "id": "9d4ec59c",
   "metadata": {},
   "source": [
    "### Validacion Cruzada"
   ]
  },
  {
   "cell_type": "code",
   "execution_count": 41,
   "id": "e6da93f3",
   "metadata": {},
   "outputs": [],
   "source": [
    "from sklearn.model_selection import train_test_split"
   ]
  },
  {
   "cell_type": "code",
   "execution_count": 78,
   "id": "ad3852c5",
   "metadata": {},
   "outputs": [],
   "source": [
    "X_train, X_test, y_train, y_test = train_test_split(X_enc, y_enc, test_size=0.2, random_state=42)"
   ]
  },
  {
   "cell_type": "code",
   "execution_count": null,
   "id": "1c59003c",
   "metadata": {},
   "outputs": [],
   "source": []
  },
  {
   "cell_type": "markdown",
   "id": "6c532cf6",
   "metadata": {},
   "source": [
    "### Arquitectura de la red neuronal"
   ]
  },
  {
   "cell_type": "markdown",
   "id": "8439ac5d",
   "metadata": {},
   "source": [
    "En este caso, utilizaremos capas densas (fully connected)\n",
    "\n",
    "*  Probar con activation: relu, tanh, linear\n",
    "*  Probar optimizadores: Adam, SGD, RMSProp, Adagrad\n",
    "*  Probar combinaciones de capas"
   ]
  },
  {
   "cell_type": "markdown",
   "id": "c459f753",
   "metadata": {},
   "source": [
    "- • Input vector (4 nodos) activación ‘tanh’\n",
    "- • Hidden Layer 1 (10 nodos) activación ‘tanh’\n",
    "- • Hidden Layer 2 (8 nodos) activación ‘tanh’\n",
    "- • Hidden Layer 3 (6 nodos) activación ‘softmax’\n",
    "- • Utilice optimizador Adam con learning rate de 0.02"
   ]
  },
  {
   "cell_type": "code",
   "execution_count": 79,
   "id": "0ec74b9e",
   "metadata": {},
   "outputs": [],
   "source": [
    "import tensorflow\n",
    "from tensorflow import keras"
   ]
  },
  {
   "cell_type": "code",
   "execution_count": 80,
   "id": "5a3bc46f",
   "metadata": {},
   "outputs": [],
   "source": [
    "from tensorflow.keras import Sequential, Input\n",
    "from tensorflow.keras.layers import Dense"
   ]
  },
  {
   "cell_type": "code",
   "execution_count": 99,
   "id": "16a78772",
   "metadata": {},
   "outputs": [],
   "source": [
    "model = Sequential()\n",
    "model.add( Input(shape=(4,)) )\n",
    "model.add( Dense(10, activation='tanh') )\n",
    "model.add( Dense(8, activation='tanh') )\n",
    "model.add( Dense(3, activation='softmax') )"
   ]
  },
  {
   "cell_type": "code",
   "execution_count": 100,
   "id": "80d0d3b3",
   "metadata": {},
   "outputs": [],
   "source": [
    "opt = keras.optimizers.Adam(learning_rate=0.02)\n",
    "model.compile(loss='categorical_crossentropy', optimizer=opt,\n",
    "              metrics=['accuracy'])\n",
    "\n"
   ]
  },
  {
   "cell_type": "markdown",
   "id": "39164b31",
   "metadata": {},
   "source": [
    "### Visualización del modelo"
   ]
  },
  {
   "cell_type": "code",
   "execution_count": 101,
   "id": "85544823",
   "metadata": {},
   "outputs": [
    {
     "name": "stdout",
     "output_type": "stream",
     "text": [
      "Model: \"sequential_11\"\n",
      "_________________________________________________________________\n",
      " Layer (type)                Output Shape              Param #   \n",
      "=================================================================\n",
      " dense_24 (Dense)            (None, 10)                50        \n",
      "                                                                 \n",
      " dense_25 (Dense)            (None, 8)                 88        \n",
      "                                                                 \n",
      " dense_26 (Dense)            (None, 3)                 27        \n",
      "                                                                 \n",
      "=================================================================\n",
      "Total params: 165 (660.00 Byte)\n",
      "Trainable params: 165 (660.00 Byte)\n",
      "Non-trainable params: 0 (0.00 Byte)\n",
      "_________________________________________________________________\n"
     ]
    }
   ],
   "source": [
    "model.summary()"
   ]
  },
  {
   "cell_type": "code",
   "execution_count": 102,
   "id": "70078140",
   "metadata": {},
   "outputs": [],
   "source": [
    "from tensorflow.keras.utils import plot_model"
   ]
  },
  {
   "cell_type": "code",
   "execution_count": 103,
   "id": "ba2fe36d",
   "metadata": {},
   "outputs": [
    {
     "data": {
      "image/png": "[encoded data removed]",
      "text/plain": [
       "<IPython.core.display.Image object>"
      ]
     },
     "execution_count": 103,
     "metadata": {},
     "output_type": "execute_result"
    }
   ],
   "source": [
    "plot_model(model, show_shapes=True, show_layer_activations=True)"
   ]
  },
  {
   "cell_type": "markdown",
   "id": "e25b8175",
   "metadata": {},
   "source": [
    "### Entrenamiento"
   ]
  },
  {
   "cell_type": "code",
   "execution_count": 104,
   "id": "26552f6f",
   "metadata": {},
   "outputs": [
    {
     "name": "stdout",
     "output_type": "stream",
     "text": [
      "Epoch 1/100\n",
      "1/1 [==============================] - 1s 985ms/step - loss: 1.1146 - accuracy: 0.3500 - val_loss: 0.9240 - val_accuracy: 0.5333\n",
      "Epoch 2/100\n",
      "1/1 [==============================] - 0s 46ms/step - loss: 0.9701 - accuracy: 0.4417 - val_loss: 0.8040 - val_accuracy: 0.7667\n",
      "Epoch 3/100\n",
      "1/1 [==============================] - 0s 48ms/step - loss: 0.8496 - accuracy: 0.7583 - val_loss: 0.7014 - val_accuracy: 0.9333\n",
      "Epoch 4/100\n",
      "1/1 [==============================] - 0s 47ms/step - loss: 0.7484 - accuracy: 0.8750 - val_loss: 0.6136 - val_accuracy: 0.9333\n",
      "Epoch 5/100\n",
      "1/1 [==============================] - 0s 47ms/step - loss: 0.6625 - accuracy: 0.8833 - val_loss: 0.5392 - val_accuracy: 0.9333\n",
      "Epoch 6/100\n",
      "1/1 [==============================] - 0s 50ms/step - loss: 0.5898 - accuracy: 0.8833 - val_loss: 0.4779 - val_accuracy: 0.9333\n",
      "Epoch 7/100\n",
      "1/1 [==============================] - 0s 45ms/step - loss: 0.5292 - accuracy: 0.8750 - val_loss: 0.4285 - val_accuracy: 0.9667\n",
      "Epoch 8/100\n",
      "1/1 [==============================] - 0s 46ms/step - loss: 0.4795 - accuracy: 0.8917 - val_loss: 0.3895 - val_accuracy: 0.9667\n",
      "Epoch 9/100\n",
      "1/1 [==============================] - 0s 49ms/step - loss: 0.4390 - accuracy: 0.8917 - val_loss: 0.3588 - val_accuracy: 0.9667\n",
      "Epoch 10/100\n",
      "1/1 [==============================] - 0s 45ms/step - loss: 0.4058 - accuracy: 0.8917 - val_loss: 0.3344 - val_accuracy: 0.9667\n",
      "Epoch 11/100\n",
      "1/1 [==============================] - 0s 45ms/step - loss: 0.3782 - accuracy: 0.9083 - val_loss: 0.3146 - val_accuracy: 0.9333\n",
      "Epoch 12/100\n",
      "1/1 [==============================] - 0s 48ms/step - loss: 0.3550 - accuracy: 0.9083 - val_loss: 0.2980 - val_accuracy: 0.9333\n",
      "Epoch 13/100\n",
      "1/1 [==============================] - 0s 51ms/step - loss: 0.3351 - accuracy: 0.9167 - val_loss: 0.2833 - val_accuracy: 0.9667\n",
      "Epoch 14/100\n",
      "1/1 [==============================] - 0s 45ms/step - loss: 0.3175 - accuracy: 0.9333 - val_loss: 0.2695 - val_accuracy: 0.9667\n",
      "Epoch 15/100\n",
      "1/1 [==============================] - 0s 51ms/step - loss: 0.3012 - accuracy: 0.9417 - val_loss: 0.2560 - val_accuracy: 0.9667\n",
      "Epoch 16/100\n",
      "1/1 [==============================] - 0s 44ms/step - loss: 0.2857 - accuracy: 0.9333 - val_loss: 0.2427 - val_accuracy: 0.9667\n",
      "Epoch 17/100\n",
      "1/1 [==============================] - 0s 52ms/step - loss: 0.2707 - accuracy: 0.9333 - val_loss: 0.2295 - val_accuracy: 0.9667\n",
      "Epoch 18/100\n",
      "1/1 [==============================] - 0s 70ms/step - loss: 0.2560 - accuracy: 0.9333 - val_loss: 0.2165 - val_accuracy: 0.9667\n",
      "Epoch 19/100\n",
      "1/1 [==============================] - 0s 54ms/step - loss: 0.2418 - accuracy: 0.9500 - val_loss: 0.2036 - val_accuracy: 0.9667\n",
      "Epoch 20/100\n",
      "1/1 [==============================] - 0s 52ms/step - loss: 0.2279 - accuracy: 0.9500 - val_loss: 0.1908 - val_accuracy: 0.9667\n",
      "Epoch 21/100\n",
      "1/1 [==============================] - 0s 46ms/step - loss: 0.2146 - accuracy: 0.9667 - val_loss: 0.1781 - val_accuracy: 1.0000\n",
      "Epoch 22/100\n",
      "1/1 [==============================] - 0s 50ms/step - loss: 0.2020 - accuracy: 0.9667 - val_loss: 0.1659 - val_accuracy: 1.0000\n",
      "Epoch 23/100\n",
      "1/1 [==============================] - 0s 45ms/step - loss: 0.1900 - accuracy: 0.9667 - val_loss: 0.1542 - val_accuracy: 1.0000\n",
      "Epoch 24/100\n",
      "1/1 [==============================] - 0s 48ms/step - loss: 0.1789 - accuracy: 0.9667 - val_loss: 0.1433 - val_accuracy: 1.0000\n",
      "Epoch 25/100\n",
      "1/1 [==============================] - 0s 43ms/step - loss: 0.1685 - accuracy: 0.9583 - val_loss: 0.1333 - val_accuracy: 1.0000\n",
      "Epoch 26/100\n",
      "1/1 [==============================] - 0s 49ms/step - loss: 0.1589 - accuracy: 0.9583 - val_loss: 0.1243 - val_accuracy: 1.0000\n",
      "Epoch 27/100\n",
      "1/1 [==============================] - 0s 47ms/step - loss: 0.1500 - accuracy: 0.9583 - val_loss: 0.1161 - val_accuracy: 0.9667\n",
      "Epoch 28/100\n",
      "1/1 [==============================] - 0s 50ms/step - loss: 0.1418 - accuracy: 0.9583 - val_loss: 0.1086 - val_accuracy: 0.9667\n",
      "Epoch 29/100\n",
      "1/1 [==============================] - 0s 45ms/step - loss: 0.1342 - accuracy: 0.9583 - val_loss: 0.1019 - val_accuracy: 0.9667\n",
      "Epoch 30/100\n",
      "1/1 [==============================] - 0s 54ms/step - loss: 0.1272 - accuracy: 0.9583 - val_loss: 0.0956 - val_accuracy: 0.9667\n",
      "Epoch 31/100\n",
      "1/1 [==============================] - 0s 58ms/step - loss: 0.1207 - accuracy: 0.9583 - val_loss: 0.0899 - val_accuracy: 0.9667\n",
      "Epoch 32/100\n",
      "1/1 [==============================] - 0s 52ms/step - loss: 0.1148 - accuracy: 0.9583 - val_loss: 0.0847 - val_accuracy: 0.9667\n",
      "Epoch 33/100\n",
      "1/1 [==============================] - 0s 49ms/step - loss: 0.1093 - accuracy: 0.9583 - val_loss: 0.0802 - val_accuracy: 0.9667\n",
      "Epoch 34/100\n",
      "1/1 [==============================] - 0s 52ms/step - loss: 0.1042 - accuracy: 0.9583 - val_loss: 0.0762 - val_accuracy: 0.9667\n",
      "Epoch 35/100\n",
      "1/1 [==============================] - 0s 50ms/step - loss: 0.0996 - accuracy: 0.9583 - val_loss: 0.0729 - val_accuracy: 0.9667\n",
      "Epoch 36/100\n",
      "1/1 [==============================] - 0s 50ms/step - loss: 0.0954 - accuracy: 0.9583 - val_loss: 0.0702 - val_accuracy: 0.9667\n",
      "Epoch 37/100\n",
      "1/1 [==============================] - 0s 46ms/step - loss: 0.0916 - accuracy: 0.9583 - val_loss: 0.0680 - val_accuracy: 0.9667\n",
      "Epoch 38/100\n",
      "1/1 [==============================] - 0s 49ms/step - loss: 0.0881 - accuracy: 0.9583 - val_loss: 0.0662 - val_accuracy: 0.9667\n",
      "Epoch 39/100\n",
      "1/1 [==============================] - 0s 46ms/step - loss: 0.0849 - accuracy: 0.9583 - val_loss: 0.0647 - val_accuracy: 0.9667\n",
      "Epoch 40/100\n",
      "1/1 [==============================] - 0s 51ms/step - loss: 0.0820 - accuracy: 0.9583 - val_loss: 0.0635 - val_accuracy: 0.9667\n",
      "Epoch 41/100\n",
      "1/1 [==============================] - 0s 46ms/step - loss: 0.0794 - accuracy: 0.9667 - val_loss: 0.0623 - val_accuracy: 0.9667\n",
      "Epoch 42/100\n",
      "1/1 [==============================] - 0s 47ms/step - loss: 0.0770 - accuracy: 0.9750 - val_loss: 0.0613 - val_accuracy: 0.9667\n",
      "Epoch 43/100\n",
      "1/1 [==============================] - 0s 48ms/step - loss: 0.0748 - accuracy: 0.9750 - val_loss: 0.0602 - val_accuracy: 0.9667\n",
      "Epoch 44/100\n",
      "1/1 [==============================] - 0s 57ms/step - loss: 0.0728 - accuracy: 0.9750 - val_loss: 0.0592 - val_accuracy: 0.9667\n",
      "Epoch 45/100\n",
      "1/1 [==============================] - 0s 53ms/step - loss: 0.0710 - accuracy: 0.9750 - val_loss: 0.0579 - val_accuracy: 0.9667\n",
      "Epoch 46/100\n",
      "1/1 [==============================] - 0s 50ms/step - loss: 0.0694 - accuracy: 0.9750 - val_loss: 0.0564 - val_accuracy: 0.9667\n",
      "Epoch 47/100\n",
      "1/1 [==============================] - 0s 45ms/step - loss: 0.0679 - accuracy: 0.9750 - val_loss: 0.0547 - val_accuracy: 1.0000\n",
      "Epoch 48/100\n",
      "1/1 [==============================] - 0s 47ms/step - loss: 0.0665 - accuracy: 0.9750 - val_loss: 0.0527 - val_accuracy: 1.0000\n",
      "Epoch 49/100\n",
      "1/1 [==============================] - 0s 46ms/step - loss: 0.0652 - accuracy: 0.9750 - val_loss: 0.0505 - val_accuracy: 1.0000\n",
      "Epoch 50/100\n",
      "1/1 [==============================] - 0s 49ms/step - loss: 0.0639 - accuracy: 0.9750 - val_loss: 0.0482 - val_accuracy: 1.0000\n",
      "Epoch 51/100\n",
      "1/1 [==============================] - 0s 48ms/step - loss: 0.0628 - accuracy: 0.9750 - val_loss: 0.0459 - val_accuracy: 1.0000\n",
      "Epoch 52/100\n",
      "1/1 [==============================] - 0s 52ms/step - loss: 0.0618 - accuracy: 0.9750 - val_loss: 0.0436 - val_accuracy: 1.0000\n",
      "Epoch 53/100\n",
      "1/1 [==============================] - 0s 49ms/step - loss: 0.0608 - accuracy: 0.9750 - val_loss: 0.0414 - val_accuracy: 1.0000\n",
      "Epoch 54/100\n",
      "1/1 [==============================] - 0s 48ms/step - loss: 0.0599 - accuracy: 0.9750 - val_loss: 0.0391 - val_accuracy: 1.0000\n",
      "Epoch 55/100\n",
      "1/1 [==============================] - 0s 44ms/step - loss: 0.0591 - accuracy: 0.9833 - val_loss: 0.0369 - val_accuracy: 1.0000\n",
      "Epoch 56/100\n",
      "1/1 [==============================] - 0s 44ms/step - loss: 0.0583 - accuracy: 0.9833 - val_loss: 0.0349 - val_accuracy: 1.0000\n",
      "Epoch 57/100\n",
      "1/1 [==============================] - 0s 40ms/step - loss: 0.0576 - accuracy: 0.9833 - val_loss: 0.0331 - val_accuracy: 1.0000\n",
      "Epoch 58/100\n",
      "1/1 [==============================] - 0s 44ms/step - loss: 0.0570 - accuracy: 0.9833 - val_loss: 0.0315 - val_accuracy: 1.0000\n",
      "Epoch 59/100\n",
      "1/1 [==============================] - 0s 48ms/step - loss: 0.0564 - accuracy: 0.9833 - val_loss: 0.0302 - val_accuracy: 1.0000\n",
      "Epoch 60/100\n",
      "1/1 [==============================] - 0s 44ms/step - loss: 0.0558 - accuracy: 0.9833 - val_loss: 0.0291 - val_accuracy: 1.0000\n",
      "Epoch 61/100\n",
      "1/1 [==============================] - 0s 47ms/step - loss: 0.0553 - accuracy: 0.9833 - val_loss: 0.0282 - val_accuracy: 1.0000\n",
      "Epoch 62/100\n",
      "1/1 [==============================] - 0s 39ms/step - loss: 0.0548 - accuracy: 0.9833 - val_loss: 0.0273 - val_accuracy: 1.0000\n",
      "Epoch 63/100\n",
      "1/1 [==============================] - 0s 37ms/step - loss: 0.0543 - accuracy: 0.9833 - val_loss: 0.0265 - val_accuracy: 1.0000\n",
      "Epoch 64/100\n",
      "1/1 [==============================] - 0s 41ms/step - loss: 0.0539 - accuracy: 0.9833 - val_loss: 0.0258 - val_accuracy: 1.0000\n",
      "Epoch 65/100\n",
      "1/1 [==============================] - 0s 40ms/step - loss: 0.0535 - accuracy: 0.9833 - val_loss: 0.0253 - val_accuracy: 1.0000\n",
      "Epoch 66/100\n",
      "1/1 [==============================] - 0s 40ms/step - loss: 0.0531 - accuracy: 0.9833 - val_loss: 0.0249 - val_accuracy: 1.0000\n",
      "Epoch 67/100\n",
      "1/1 [==============================] - 0s 42ms/step - loss: 0.0527 - accuracy: 0.9833 - val_loss: 0.0246 - val_accuracy: 1.0000\n",
      "Epoch 68/100\n",
      "1/1 [==============================] - 0s 42ms/step - loss: 0.0523 - accuracy: 0.9833 - val_loss: 0.0243 - val_accuracy: 1.0000\n",
      "Epoch 69/100\n",
      "1/1 [==============================] - 0s 52ms/step - loss: 0.0520 - accuracy: 0.9833 - val_loss: 0.0239 - val_accuracy: 1.0000\n",
      "Epoch 70/100\n",
      "1/1 [==============================] - 0s 46ms/step - loss: 0.0517 - accuracy: 0.9833 - val_loss: 0.0235 - val_accuracy: 1.0000\n",
      "Epoch 71/100\n",
      "1/1 [==============================] - 0s 49ms/step - loss: 0.0514 - accuracy: 0.9833 - val_loss: 0.0231 - val_accuracy: 1.0000\n",
      "Epoch 72/100\n",
      "1/1 [==============================] - 0s 43ms/step - loss: 0.0511 - accuracy: 0.9833 - val_loss: 0.0227 - val_accuracy: 1.0000\n",
      "Epoch 73/100\n",
      "1/1 [==============================] - 0s 41ms/step - loss: 0.0508 - accuracy: 0.9833 - val_loss: 0.0224 - val_accuracy: 1.0000\n",
      "Epoch 74/100\n",
      "1/1 [==============================] - 0s 50ms/step - loss: 0.0505 - accuracy: 0.9833 - val_loss: 0.0221 - val_accuracy: 1.0000\n",
      "Epoch 75/100\n",
      "1/1 [==============================] - 0s 48ms/step - loss: 0.0502 - accuracy: 0.9833 - val_loss: 0.0218 - val_accuracy: 1.0000\n",
      "Epoch 76/100\n",
      "1/1 [==============================] - 0s 45ms/step - loss: 0.0500 - accuracy: 0.9833 - val_loss: 0.0213 - val_accuracy: 1.0000\n",
      "Epoch 77/100\n",
      "1/1 [==============================] - 0s 45ms/step - loss: 0.0497 - accuracy: 0.9833 - val_loss: 0.0210 - val_accuracy: 1.0000\n",
      "Epoch 78/100\n",
      "1/1 [==============================] - 0s 42ms/step - loss: 0.0495 - accuracy: 0.9833 - val_loss: 0.0207 - val_accuracy: 1.0000\n",
      "Epoch 79/100\n",
      "1/1 [==============================] - 0s 78ms/step - loss: 0.0492 - accuracy: 0.9833 - val_loss: 0.0205 - val_accuracy: 1.0000\n",
      "Epoch 80/100\n",
      "1/1 [==============================] - 0s 40ms/step - loss: 0.0490 - accuracy: 0.9833 - val_loss: 0.0204 - val_accuracy: 1.0000\n",
      "Epoch 81/100\n",
      "1/1 [==============================] - 0s 43ms/step - loss: 0.0487 - accuracy: 0.9833 - val_loss: 0.0203 - val_accuracy: 1.0000\n",
      "Epoch 82/100\n",
      "1/1 [==============================] - 0s 51ms/step - loss: 0.0485 - accuracy: 0.9833 - val_loss: 0.0203 - val_accuracy: 1.0000\n",
      "Epoch 83/100\n",
      "1/1 [==============================] - 0s 43ms/step - loss: 0.0483 - accuracy: 0.9833 - val_loss: 0.0203 - val_accuracy: 1.0000\n",
      "Epoch 84/100\n",
      "1/1 [==============================] - 0s 42ms/step - loss: 0.0481 - accuracy: 0.9833 - val_loss: 0.0204 - val_accuracy: 1.0000\n",
      "Epoch 85/100\n",
      "1/1 [==============================] - 0s 43ms/step - loss: 0.0479 - accuracy: 0.9833 - val_loss: 0.0206 - val_accuracy: 1.0000\n",
      "Epoch 86/100\n",
      "1/1 [==============================] - 0s 43ms/step - loss: 0.0477 - accuracy: 0.9833 - val_loss: 0.0209 - val_accuracy: 1.0000\n",
      "Epoch 87/100\n",
      "1/1 [==============================] - 0s 79ms/step - loss: 0.0475 - accuracy: 0.9833 - val_loss: 0.0213 - val_accuracy: 1.0000\n",
      "Epoch 88/100\n",
      "1/1 [==============================] - 0s 47ms/step - loss: 0.0473 - accuracy: 0.9833 - val_loss: 0.0216 - val_accuracy: 1.0000\n",
      "Epoch 89/100\n",
      "1/1 [==============================] - 0s 45ms/step - loss: 0.0471 - accuracy: 0.9833 - val_loss: 0.0220 - val_accuracy: 1.0000\n",
      "Epoch 90/100\n",
      "1/1 [==============================] - 0s 45ms/step - loss: 0.0469 - accuracy: 0.9833 - val_loss: 0.0224 - val_accuracy: 1.0000\n",
      "Epoch 91/100\n",
      "1/1 [==============================] - 0s 48ms/step - loss: 0.0467 - accuracy: 0.9833 - val_loss: 0.0229 - val_accuracy: 1.0000\n",
      "Epoch 92/100\n",
      "1/1 [==============================] - 0s 46ms/step - loss: 0.0465 - accuracy: 0.9833 - val_loss: 0.0235 - val_accuracy: 1.0000\n",
      "Epoch 93/100\n",
      "1/1 [==============================] - 0s 45ms/step - loss: 0.0463 - accuracy: 0.9833 - val_loss: 0.0241 - val_accuracy: 1.0000\n",
      "Epoch 94/100\n",
      "1/1 [==============================] - 0s 48ms/step - loss: 0.0461 - accuracy: 0.9833 - val_loss: 0.0246 - val_accuracy: 1.0000\n",
      "Epoch 95/100\n",
      "1/1 [==============================] - 0s 49ms/step - loss: 0.0460 - accuracy: 0.9833 - val_loss: 0.0252 - val_accuracy: 1.0000\n",
      "Epoch 96/100\n",
      "1/1 [==============================] - 0s 43ms/step - loss: 0.0458 - accuracy: 0.9833 - val_loss: 0.0257 - val_accuracy: 1.0000\n",
      "Epoch 97/100\n",
      "1/1 [==============================] - 0s 40ms/step - loss: 0.0456 - accuracy: 0.9833 - val_loss: 0.0263 - val_accuracy: 1.0000\n",
      "Epoch 98/100\n",
      "1/1 [==============================] - 0s 47ms/step - loss: 0.0455 - accuracy: 0.9833 - val_loss: 0.0271 - val_accuracy: 1.0000\n",
      "Epoch 99/100\n",
      "1/1 [==============================] - 0s 47ms/step - loss: 0.0453 - accuracy: 0.9833 - val_loss: 0.0279 - val_accuracy: 1.0000\n",
      "Epoch 100/100\n",
      "1/1 [==============================] - 0s 52ms/step - loss: 0.0451 - accuracy: 0.9833 - val_loss: 0.0287 - val_accuracy: 1.0000\n"
     ]
    }
   ],
   "source": [
    "history = model.fit(X_train, y_train,\n",
    "                    batch_size=128, epochs=100,\n",
    "                    validation_data=(X_test,y_test) )"
   ]
  },
  {
   "cell_type": "markdown",
   "id": "9fdc6d4c",
   "metadata": {},
   "source": [
    "## Evaluación"
   ]
  },
  {
   "cell_type": "code",
   "execution_count": 105,
   "id": "be23a84a",
   "metadata": {},
   "outputs": [],
   "source": [
    "from sklearn.metrics import accuracy_score"
   ]
  },
  {
   "cell_type": "code",
   "execution_count": 106,
   "id": "b1ac117d",
   "metadata": {},
   "outputs": [
    {
     "name": "stdout",
     "output_type": "stream",
     "text": [
      "1/1 [==============================] - 0s 94ms/step\n"
     ]
    }
   ],
   "source": [
    "y_pred = model.predict(X_test)"
   ]
  },
  {
   "cell_type": "code",
   "execution_count": 107,
   "id": "a132425d",
   "metadata": {},
   "outputs": [
    {
     "data": {
      "text/plain": [
       "array([[2.4737967e-03, 9.9629384e-01, 1.2323317e-03],\n",
       "       [9.9632996e-01, 3.6089667e-03, 6.0991668e-05],\n",
       "       [7.8363601e-06, 2.9769535e-03, 9.9701524e-01],\n",
       "       [2.4960600e-03, 9.9463117e-01, 2.8727942e-03],\n",
       "       [2.2281802e-03, 9.9434656e-01, 3.4251832e-03]], dtype=float32)"
      ]
     },
     "execution_count": 107,
     "metadata": {},
     "output_type": "execute_result"
    }
   ],
   "source": [
    "y_pred[:5]"
   ]
  },
  {
   "cell_type": "code",
   "execution_count": 108,
   "id": "9286cfe4",
   "metadata": {},
   "outputs": [],
   "source": [
    "y_pred_clase = np.argmax(y_pred, axis=1)\n",
    "y_test_clase = np.argmax(y_test, axis=1)"
   ]
  },
  {
   "cell_type": "code",
   "execution_count": 109,
   "id": "1cb7d2ee",
   "metadata": {},
   "outputs": [
    {
     "data": {
      "text/plain": [
       "1.0"
      ]
     },
     "execution_count": 109,
     "metadata": {},
     "output_type": "execute_result"
    }
   ],
   "source": [
    "accuracy_score(y_test_clase,y_pred_clase)"
   ]
  },
  {
   "cell_type": "markdown",
   "id": "d05a6dbf",
   "metadata": {},
   "source": [
    "## Evolución del entrenamiento"
   ]
  },
  {
   "cell_type": "code",
   "execution_count": 110,
   "id": "855a203d",
   "metadata": {},
   "outputs": [
    {
     "data": {
      "image/png": "[encoded data removed]",
      "text/plain": [
       "<Figure size 640x480 with 2 Axes>"
      ]
     },
     "metadata": {},
     "output_type": "display_data"
    }
   ],
   "source": [
    "plt.subplot(2,1,1)\n",
    "plt.title('Train Set - Loss')\n",
    "plt.plot(history.history['loss'])\n",
    "plt.subplot(2,1,2)\n",
    "plt.title('Train Set - Accuracy')\n",
    "plt.plot(history.history['accuracy'])\n",
    "plt.tight_layout()"
   ]
  },
  {
   "cell_type": "markdown",
   "id": "1a26b403",
   "metadata": {},
   "source": [
    "#### Comentarios"
   ]
  },
  {
   "cell_type": "markdown",
   "id": "566c1d03",
   "metadata": {},
   "source": [
    "Hubo que modificar las salidas debido a que no iban a encajar. Se establecio que las salidas serian 3 valores(0,1,2). "
   ]
  },
  {
   "cell_type": "code",
   "execution_count": null,
   "id": "2fbe51f2",
   "metadata": {},
   "outputs": [],
   "source": []
  }
 ],
 "metadata": {
  "kernelspec": {
   "display_name": "Python 3 (ipykernel)",
   "language": "python",
   "name": "python3"
  },
  "language_info": {
   "codemirror_mode": {
    "name": "ipython",
    "version": 3
   },
   "file_extension": ".py",
   "mimetype": "text/x-python",
   "name": "python",
   "nbconvert_exporter": "python",
   "pygments_lexer": "ipython3",
   "version": "3.10.9"
  }
 },
 "nbformat": 4,
 "nbformat_minor": 5
}
