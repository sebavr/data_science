{
 "cells": [
  {
   "cell_type": "markdown",
   "metadata": {
    "id": "C1XDiAPeUxYR"
   },
   "source": [
    "# ANN - Clasificación Titanic"
   ]
  },
  {
   "cell_type": "code",
   "execution_count": 3,
   "metadata": {
    "executionInfo": {
     "elapsed": 430,
     "status": "ok",
     "timestamp": 1681338166848,
     "user": {
      "displayName": "Jorge Sepulveda",
      "userId": "07168895330690088449"
     },
     "user_tz": 240
    },
    "id": "VKlfd9tcOmZB"
   },
   "outputs": [],
   "source": [
    "import pandas as pd\n",
    "import numpy as np\n",
    "import matplotlib.pyplot as plt\n",
    "%matplotlib inline"
   ]
  },
  {
   "cell_type": "markdown",
   "metadata": {
    "id": "iB8OZj3sU-5J"
   },
   "source": [
    "## Lectura de Datos"
   ]
  },
  {
   "cell_type": "code",
   "execution_count": 4,
   "metadata": {
    "executionInfo": {
     "elapsed": 10,
     "status": "ok",
     "timestamp": 1681338166849,
     "user": {
      "displayName": "Jorge Sepulveda",
      "userId": "07168895330690088449"
     },
     "user_tz": 240
    },
    "id": "4Xsy1oLDQmdA"
   },
   "outputs": [],
   "source": [
    "df = pd.read_csv('titanic.csv')"
   ]
  },
  {
   "cell_type": "code",
   "execution_count": 5,
   "metadata": {
    "colab": {
     "base_uri": "https://localhost:8080/",
     "height": 112
    },
    "executionInfo": {
     "elapsed": 9,
     "status": "ok",
     "timestamp": 1681338166849,
     "user": {
      "displayName": "Jorge Sepulveda",
      "userId": "07168895330690088449"
     },
     "user_tz": 240
    },
    "id": "U6TlKeODQmVY",
    "outputId": "e3156f6a-7db8-453e-9165-8a0ac305c9c2"
   },
   "outputs": [
    {
     "data": {
      "text/html": [
       "<div>\n",
       "<style scoped>\n",
       "    .dataframe tbody tr th:only-of-type {\n",
       "        vertical-align: middle;\n",
       "    }\n",
       "\n",
       "    .dataframe tbody tr th {\n",
       "        vertical-align: top;\n",
       "    }\n",
       "\n",
       "    .dataframe thead th {\n",
       "        text-align: right;\n",
       "    }\n",
       "</style>\n",
       "<table border=\"1\" class=\"dataframe\">\n",
       "  <thead>\n",
       "    <tr style=\"text-align: right;\">\n",
       "      <th></th>\n",
       "      <th>PassengerId</th>\n",
       "      <th>Survived</th>\n",
       "      <th>Pclass</th>\n",
       "      <th>Name</th>\n",
       "      <th>Sex</th>\n",
       "      <th>Age</th>\n",
       "      <th>SibSp</th>\n",
       "      <th>Parch</th>\n",
       "      <th>Ticket</th>\n",
       "      <th>Fare</th>\n",
       "      <th>Cabin</th>\n",
       "      <th>Embarked</th>\n",
       "    </tr>\n",
       "  </thead>\n",
       "  <tbody>\n",
       "    <tr>\n",
       "      <th>0</th>\n",
       "      <td>1</td>\n",
       "      <td>0</td>\n",
       "      <td>3</td>\n",
       "      <td>Braund, Mr. Owen Harris</td>\n",
       "      <td>male</td>\n",
       "      <td>22.0</td>\n",
       "      <td>1</td>\n",
       "      <td>0</td>\n",
       "      <td>A/5 21171</td>\n",
       "      <td>7.2500</td>\n",
       "      <td>NaN</td>\n",
       "      <td>S</td>\n",
       "    </tr>\n",
       "    <tr>\n",
       "      <th>1</th>\n",
       "      <td>2</td>\n",
       "      <td>1</td>\n",
       "      <td>1</td>\n",
       "      <td>Cumings, Mrs. John Bradley (Florence Briggs Th...</td>\n",
       "      <td>female</td>\n",
       "      <td>38.0</td>\n",
       "      <td>1</td>\n",
       "      <td>0</td>\n",
       "      <td>PC 17599</td>\n",
       "      <td>71.2833</td>\n",
       "      <td>C85</td>\n",
       "      <td>C</td>\n",
       "    </tr>\n",
       "  </tbody>\n",
       "</table>\n",
       "</div>"
      ],
      "text/plain": [
       "   PassengerId  Survived  Pclass  \\\n",
       "0            1         0       3   \n",
       "1            2         1       1   \n",
       "\n",
       "                                                Name     Sex   Age  SibSp  \\\n",
       "0                            Braund, Mr. Owen Harris    male  22.0      1   \n",
       "1  Cumings, Mrs. John Bradley (Florence Briggs Th...  female  38.0      1   \n",
       "\n",
       "   Parch     Ticket     Fare Cabin Embarked  \n",
       "0      0  A/5 21171   7.2500   NaN        S  \n",
       "1      0   PC 17599  71.2833   C85        C  "
      ]
     },
     "execution_count": 5,
     "metadata": {},
     "output_type": "execute_result"
    }
   ],
   "source": [
    "df.head(2)"
   ]
  },
  {
   "cell_type": "markdown",
   "metadata": {
    "id": "A4Os4Awmgvgw"
   },
   "source": [
    "## Limpieza de Datos"
   ]
  },
  {
   "cell_type": "code",
   "execution_count": 6,
   "metadata": {
    "executionInfo": {
     "elapsed": 9,
     "status": "ok",
     "timestamp": 1681338166850,
     "user": {
      "displayName": "Jorge Sepulveda",
      "userId": "07168895330690088449"
     },
     "user_tz": 240
    },
    "id": "_r9hMV7KgvUe"
   },
   "outputs": [],
   "source": [
    "df[['Age']] = df[['Age']].fillna(value=df[['Age']].mean())\n",
    "df[['Fare']] = df[['Fare']].fillna(value=df[['Fare']].mean())\n",
    "df[['Embarked']] = df[['Embarked']].fillna(value=df['Embarked'].value_counts().idxmax())"
   ]
  },
  {
   "cell_type": "code",
   "execution_count": 7,
   "metadata": {
    "colab": {
     "base_uri": "https://localhost:8080/"
    },
    "executionInfo": {
     "elapsed": 9,
     "status": "ok",
     "timestamp": 1681338166850,
     "user": {
      "displayName": "Jorge Sepulveda",
      "userId": "07168895330690088449"
     },
     "user_tz": 240
    },
    "id": "Rz7jGMkygvHX",
    "outputId": "d302d96f-be5d-40ba-f97b-3c6ac8b82836"
   },
   "outputs": [
    {
     "data": {
      "text/plain": [
       "PassengerId      0\n",
       "Survived         0\n",
       "Pclass           0\n",
       "Name             0\n",
       "Sex              0\n",
       "Age              0\n",
       "SibSp            0\n",
       "Parch            0\n",
       "Ticket           0\n",
       "Fare             0\n",
       "Cabin          687\n",
       "Embarked         0\n",
       "dtype: int64"
      ]
     },
     "execution_count": 7,
     "metadata": {},
     "output_type": "execute_result"
    }
   ],
   "source": [
    "df.isnull().sum()"
   ]
  },
  {
   "cell_type": "markdown",
   "metadata": {
    "id": "zZAuzUauVNP4"
   },
   "source": [
    "## Planteamiento del modelo"
   ]
  },
  {
   "cell_type": "code",
   "execution_count": 8,
   "metadata": {
    "executionInfo": {
     "elapsed": 6,
     "status": "ok",
     "timestamp": 1681338166850,
     "user": {
      "displayName": "Jorge Sepulveda",
      "userId": "07168895330690088449"
     },
     "user_tz": 240
    },
    "id": "gUb9FEWVQuEI"
   },
   "outputs": [],
   "source": [
    "X = df[['Age','Sex','Fare','Pclass', 'SibSp',\t'Parch']]\n",
    "y = df['Survived']"
   ]
  },
  {
   "cell_type": "code",
   "execution_count": null,
   "metadata": {
    "executionInfo": {
     "elapsed": 421,
     "status": "ok",
     "timestamp": 1681338167265,
     "user": {
      "displayName": "Jorge Sepulveda",
      "userId": "07168895330690088449"
     },
     "user_tz": 240
    },
    "id": "aBJ2d-EPVTph"
   },
   "outputs": [],
   "source": []
  },
  {
   "cell_type": "markdown",
   "metadata": {
    "id": "T0IsVvGhVQ9r"
   },
   "source": [
    "## Preprocesamiento\n",
    "\n",
    "Haremos lo siguiente:\n",
    "\n",
    "\n",
    "*   Binarización\n",
    "*   Escalamiento\n",
    "*   Hot encoding Y\n",
    "\n"
   ]
  },
  {
   "cell_type": "markdown",
   "metadata": {
    "id": "5cWSkTukVY6T"
   },
   "source": [
    "### Variables Dummy (binarización)"
   ]
  },
  {
   "cell_type": "code",
   "execution_count": 9,
   "metadata": {
    "executionInfo": {
     "elapsed": 11,
     "status": "ok",
     "timestamp": 1681338167265,
     "user": {
      "displayName": "Jorge Sepulveda",
      "userId": "07168895330690088449"
     },
     "user_tz": 240
    },
    "id": "cZDb0AAqQuBb"
   },
   "outputs": [],
   "source": [
    "X = pd.get_dummies(X, drop_first=True)"
   ]
  },
  {
   "cell_type": "code",
   "execution_count": 10,
   "metadata": {
    "colab": {
     "base_uri": "https://localhost:8080/"
    },
    "executionInfo": {
     "elapsed": 12,
     "status": "ok",
     "timestamp": 1681338167266,
     "user": {
      "displayName": "Jorge Sepulveda",
      "userId": "07168895330690088449"
     },
     "user_tz": 240
    },
    "id": "EajuAAwfQt-N",
    "outputId": "d3bae60e-906c-4fa3-b5f0-55aa4b50a811"
   },
   "outputs": [
    {
     "data": {
      "text/html": [
       "<div>\n",
       "<style scoped>\n",
       "    .dataframe tbody tr th:only-of-type {\n",
       "        vertical-align: middle;\n",
       "    }\n",
       "\n",
       "    .dataframe tbody tr th {\n",
       "        vertical-align: top;\n",
       "    }\n",
       "\n",
       "    .dataframe thead th {\n",
       "        text-align: right;\n",
       "    }\n",
       "</style>\n",
       "<table border=\"1\" class=\"dataframe\">\n",
       "  <thead>\n",
       "    <tr style=\"text-align: right;\">\n",
       "      <th></th>\n",
       "      <th>Age</th>\n",
       "      <th>Fare</th>\n",
       "      <th>Pclass</th>\n",
       "      <th>SibSp</th>\n",
       "      <th>Parch</th>\n",
       "      <th>Sex_male</th>\n",
       "    </tr>\n",
       "  </thead>\n",
       "  <tbody>\n",
       "    <tr>\n",
       "      <th>0</th>\n",
       "      <td>22.0</td>\n",
       "      <td>7.2500</td>\n",
       "      <td>3</td>\n",
       "      <td>1</td>\n",
       "      <td>0</td>\n",
       "      <td>1</td>\n",
       "    </tr>\n",
       "    <tr>\n",
       "      <th>1</th>\n",
       "      <td>38.0</td>\n",
       "      <td>71.2833</td>\n",
       "      <td>1</td>\n",
       "      <td>1</td>\n",
       "      <td>0</td>\n",
       "      <td>0</td>\n",
       "    </tr>\n",
       "    <tr>\n",
       "      <th>2</th>\n",
       "      <td>26.0</td>\n",
       "      <td>7.9250</td>\n",
       "      <td>3</td>\n",
       "      <td>0</td>\n",
       "      <td>0</td>\n",
       "      <td>0</td>\n",
       "    </tr>\n",
       "    <tr>\n",
       "      <th>3</th>\n",
       "      <td>35.0</td>\n",
       "      <td>53.1000</td>\n",
       "      <td>1</td>\n",
       "      <td>1</td>\n",
       "      <td>0</td>\n",
       "      <td>0</td>\n",
       "    </tr>\n",
       "    <tr>\n",
       "      <th>4</th>\n",
       "      <td>35.0</td>\n",
       "      <td>8.0500</td>\n",
       "      <td>3</td>\n",
       "      <td>0</td>\n",
       "      <td>0</td>\n",
       "      <td>1</td>\n",
       "    </tr>\n",
       "  </tbody>\n",
       "</table>\n",
       "</div>"
      ],
      "text/plain": [
       "    Age     Fare  Pclass  SibSp  Parch  Sex_male\n",
       "0  22.0   7.2500       3      1      0         1\n",
       "1  38.0  71.2833       1      1      0         0\n",
       "2  26.0   7.9250       3      0      0         0\n",
       "3  35.0  53.1000       1      1      0         0\n",
       "4  35.0   8.0500       3      0      0         1"
      ]
     },
     "execution_count": 10,
     "metadata": {},
     "output_type": "execute_result"
    }
   ],
   "source": [
    "X.head()"
   ]
  },
  {
   "cell_type": "code",
   "execution_count": null,
   "metadata": {
    "colab": {
     "base_uri": "https://localhost:8080/",
     "height": 112
    },
    "executionInfo": {
     "elapsed": 11,
     "status": "ok",
     "timestamp": 1681338167266,
     "user": {
      "displayName": "Jorge Sepulveda",
      "userId": "07168895330690088449"
     },
     "user_tz": 240
    },
    "id": "aYWDRzJsVo6W",
    "outputId": "0e4cf2a0-652b-43d9-bf3a-8b0e4a33696c"
   },
   "outputs": [],
   "source": []
  },
  {
   "cell_type": "markdown",
   "metadata": {
    "id": "Q90tcKCtVv9p"
   },
   "source": [
    "### Escalamiento"
   ]
  },
  {
   "cell_type": "code",
   "execution_count": 11,
   "metadata": {
    "executionInfo": {
     "elapsed": 10,
     "status": "ok",
     "timestamp": 1681338167266,
     "user": {
      "displayName": "Jorge Sepulveda",
      "userId": "07168895330690088449"
     },
     "user_tz": 240
    },
    "id": "kNSooXTjVvxh"
   },
   "outputs": [],
   "source": [
    "from sklearn.preprocessing import StandardScaler"
   ]
  },
  {
   "cell_type": "code",
   "execution_count": 12,
   "metadata": {
    "executionInfo": {
     "elapsed": 10,
     "status": "ok",
     "timestamp": 1681338167266,
     "user": {
      "displayName": "Jorge Sepulveda",
      "userId": "07168895330690088449"
     },
     "user_tz": 240
    },
    "id": "2GK6eaGbVvqN"
   },
   "outputs": [],
   "source": [
    "scaler = StandardScaler()\n",
    "X_enc = scaler.fit_transform(X)"
   ]
  },
  {
   "cell_type": "code",
   "execution_count": 13,
   "metadata": {
    "colab": {
     "base_uri": "https://localhost:8080/"
    },
    "executionInfo": {
     "elapsed": 10,
     "status": "ok",
     "timestamp": 1681338167266,
     "user": {
      "displayName": "Jorge Sepulveda",
      "userId": "07168895330690088449"
     },
     "user_tz": 240
    },
    "id": "CQKZseg8V_zz",
    "outputId": "d085d4e9-abc6-4891-8365-cb44b95f256a"
   },
   "outputs": [
    {
     "data": {
      "text/plain": [
       "array([[-0.5924806 , -0.50244517,  0.82737724,  0.43279337, -0.47367361,\n",
       "         0.73769513],\n",
       "       [ 0.63878901,  0.78684529, -1.56610693,  0.43279337, -0.47367361,\n",
       "        -1.35557354]])"
      ]
     },
     "execution_count": 13,
     "metadata": {},
     "output_type": "execute_result"
    }
   ],
   "source": [
    "X_enc[:2]"
   ]
  },
  {
   "cell_type": "markdown",
   "metadata": {
    "id": "Ruqs7KagWCEr"
   },
   "source": [
    "### One hot Y"
   ]
  },
  {
   "cell_type": "code",
   "execution_count": 14,
   "metadata": {
    "executionInfo": {
     "elapsed": 9,
     "status": "ok",
     "timestamp": 1681338167267,
     "user": {
      "displayName": "Jorge Sepulveda",
      "userId": "07168895330690088449"
     },
     "user_tz": 240
    },
    "id": "AFXT5WAoRMki"
   },
   "outputs": [],
   "source": [
    "from sklearn.preprocessing import OneHotEncoder"
   ]
  },
  {
   "cell_type": "code",
   "execution_count": 15,
   "metadata": {
    "executionInfo": {
     "elapsed": 8,
     "status": "ok",
     "timestamp": 1681338167267,
     "user": {
      "displayName": "Jorge Sepulveda",
      "userId": "07168895330690088449"
     },
     "user_tz": 240
    },
    "id": "8jlgXakNTOLO"
   },
   "outputs": [],
   "source": [
    "enc = OneHotEncoder()"
   ]
  },
  {
   "cell_type": "code",
   "execution_count": 16,
   "metadata": {
    "colab": {
     "base_uri": "https://localhost:8080/"
    },
    "executionInfo": {
     "elapsed": 8,
     "status": "ok",
     "timestamp": 1681338167267,
     "user": {
      "displayName": "Jorge Sepulveda",
      "userId": "07168895330690088449"
     },
     "user_tz": 240
    },
    "id": "uyUIrAVhTOIe",
    "outputId": "52e7f6b6-cfed-465e-f01c-a0099d73a0e8"
   },
   "outputs": [],
   "source": [
    "y_enc = enc.fit_transform(y.values.reshape(-1,1)).toarray()"
   ]
  },
  {
   "cell_type": "code",
   "execution_count": 17,
   "metadata": {},
   "outputs": [
    {
     "data": {
      "text/plain": [
       "array([[1., 0.],\n",
       "       [0., 1.],\n",
       "       [0., 1.],\n",
       "       [0., 1.],\n",
       "       [1., 0.]])"
      ]
     },
     "execution_count": 17,
     "metadata": {},
     "output_type": "execute_result"
    }
   ],
   "source": [
    "y_enc[:5]"
   ]
  },
  {
   "cell_type": "markdown",
   "metadata": {
    "id": "jtPUW6kiWJn7"
   },
   "source": [
    "### Validacion Cruzada"
   ]
  },
  {
   "cell_type": "code",
   "execution_count": 18,
   "metadata": {
    "executionInfo": {
     "elapsed": 313,
     "status": "ok",
     "timestamp": 1681338167574,
     "user": {
      "displayName": "Jorge Sepulveda",
      "userId": "07168895330690088449"
     },
     "user_tz": 240
    },
    "id": "le3vh7JARMsN"
   },
   "outputs": [],
   "source": [
    "from sklearn.model_selection import train_test_split"
   ]
  },
  {
   "cell_type": "code",
   "execution_count": 19,
   "metadata": {
    "executionInfo": {
     "elapsed": 5,
     "status": "ok",
     "timestamp": 1681338167575,
     "user": {
      "displayName": "Jorge Sepulveda",
      "userId": "07168895330690088449"
     },
     "user_tz": 240
    },
    "id": "rrRbv1QJRMoD"
   },
   "outputs": [],
   "source": [
    "X_train, X_test, y_train, y_test = train_test_split(X_enc, y_enc, test_size=0.33, random_state=42)"
   ]
  },
  {
   "cell_type": "code",
   "execution_count": null,
   "metadata": {
    "executionInfo": {
     "elapsed": 5,
     "status": "ok",
     "timestamp": 1681338167575,
     "user": {
      "displayName": "Jorge Sepulveda",
      "userId": "07168895330690088449"
     },
     "user_tz": 240
    },
    "id": "WMs-iBCoWPoL"
   },
   "outputs": [],
   "source": []
  },
  {
   "cell_type": "markdown",
   "metadata": {
    "id": "2KErXqHwWMd3"
   },
   "source": [
    "### Arquitectura de la red neuronal\n",
    "\n",
    "La arquitectura es un arte. En este caso, utilizaremos capas densas (fully connected)\n",
    "\n",
    "*  Probar con activation: relu, tanh, linear\n",
    "*  Probar optimizadores: Adam, SGD, RMSProp, Adagrad\n",
    "*  Probar combinaciones de capas"
   ]
  },
  {
   "cell_type": "code",
   "execution_count": 20,
   "metadata": {},
   "outputs": [],
   "source": [
    "import tensorflow"
   ]
  },
  {
   "cell_type": "code",
   "execution_count": 21,
   "metadata": {
    "executionInfo": {
     "elapsed": 2737,
     "status": "ok",
     "timestamp": 1681338170308,
     "user": {
      "displayName": "Jorge Sepulveda",
      "userId": "07168895330690088449"
     },
     "user_tz": 240
    },
    "id": "KBen4e5AO3C2"
   },
   "outputs": [],
   "source": [
    "from tensorflow.keras import Sequential, Input\n",
    "from tensorflow.keras.layers import Dense"
   ]
  },
  {
   "cell_type": "code",
   "execution_count": 22,
   "metadata": {
    "executionInfo": {
     "elapsed": 6,
     "status": "ok",
     "timestamp": 1681338170309,
     "user": {
      "displayName": "Jorge Sepulveda",
      "userId": "07168895330690088449"
     },
     "user_tz": 240
    },
    "id": "puGktXtIPSoY"
   },
   "outputs": [],
   "source": [
    "model = Sequential()\n",
    "model.add( Input(shape=(6,)) )\n",
    "model.add( Dense(20, activation='linear') )\n",
    "model.add( Dense(10, activation='linear') )\n",
    "model.add( Dense(2, activation='softmax') )"
   ]
  },
  {
   "cell_type": "code",
   "execution_count": 23,
   "metadata": {
    "executionInfo": {
     "elapsed": 5,
     "status": "ok",
     "timestamp": 1681338170309,
     "user": {
      "displayName": "Jorge Sepulveda",
      "userId": "07168895330690088449"
     },
     "user_tz": 240
    },
    "id": "tya4nkgQRW9i"
   },
   "outputs": [],
   "source": [
    "model.compile(loss='categorical_crossentropy',\n",
    "              optimizer='sgd',\n",
    "              metrics=['accuracy'])"
   ]
  },
  {
   "cell_type": "code",
   "execution_count": null,
   "metadata": {
    "executionInfo": {
     "elapsed": 5,
     "status": "ok",
     "timestamp": 1681338170309,
     "user": {
      "displayName": "Jorge Sepulveda",
      "userId": "07168895330690088449"
     },
     "user_tz": 240
    },
    "id": "pHuQZyR-ZDhe"
   },
   "outputs": [],
   "source": []
  },
  {
   "cell_type": "markdown",
   "metadata": {
    "id": "ZWUT4waFZ_Zn"
   },
   "source": [
    "### Visualización del modelo"
   ]
  },
  {
   "cell_type": "code",
   "execution_count": 24,
   "metadata": {
    "colab": {
     "base_uri": "https://localhost:8080/"
    },
    "executionInfo": {
     "elapsed": 413,
     "status": "ok",
     "timestamp": 1681338170717,
     "user": {
      "displayName": "Jorge Sepulveda",
      "userId": "07168895330690088449"
     },
     "user_tz": 240
    },
    "id": "G0IIz4biWgxD",
    "outputId": "4994c8b3-e7bb-478c-f06a-e0597cce1313"
   },
   "outputs": [
    {
     "name": "stdout",
     "output_type": "stream",
     "text": [
      "Model: \"sequential\"\n",
      "_________________________________________________________________\n",
      " Layer (type)                Output Shape              Param #   \n",
      "=================================================================\n",
      " dense (Dense)               (None, 20)                140       \n",
      "                                                                 \n",
      " dense_1 (Dense)             (None, 10)                210       \n",
      "                                                                 \n",
      " dense_2 (Dense)             (None, 2)                 22        \n",
      "                                                                 \n",
      "=================================================================\n",
      "Total params: 372 (1.45 KB)\n",
      "Trainable params: 372 (1.45 KB)\n",
      "Non-trainable params: 0 (0.00 Byte)\n",
      "_________________________________________________________________\n"
     ]
    }
   ],
   "source": [
    "model.summary()"
   ]
  },
  {
   "cell_type": "code",
   "execution_count": 25,
   "metadata": {
    "colab": {
     "base_uri": "https://localhost:8080/",
     "height": 422
    },
    "executionInfo": {
     "elapsed": 5,
     "status": "ok",
     "timestamp": 1681338170718,
     "user": {
      "displayName": "Jorge Sepulveda",
      "userId": "07168895330690088449"
     },
     "user_tz": 240
    },
    "id": "6oCvzt-RY_HV",
    "outputId": "74b2f75d-c7ce-4a39-f9da-2c9a7e7a2560"
   },
   "outputs": [],
   "source": [
    "from tensorflow.keras.utils import plot_model"
   ]
  },
  {
   "cell_type": "code",
   "execution_count": 26,
   "metadata": {},
   "outputs": [
    {
     "data": {
      "image/png": "[encoded data removed]",
      "text/plain": [
       "<IPython.core.display.Image object>"
      ]
     },
     "execution_count": 26,
     "metadata": {},
     "output_type": "execute_result"
    }
   ],
   "source": [
    "plot_model(model, show_shapes=True, show_layer_activations=True)"
   ]
  },
  {
   "cell_type": "markdown",
   "metadata": {
    "id": "QBMlBd2iZAW4"
   },
   "source": [
    "### Entrenamiento"
   ]
  },
  {
   "cell_type": "code",
   "execution_count": 27,
   "metadata": {
    "colab": {
     "base_uri": "https://localhost:8080/"
    },
    "executionInfo": {
     "elapsed": 6232,
     "status": "ok",
     "timestamp": 1681338176946,
     "user": {
      "displayName": "Jorge Sepulveda",
      "userId": "07168895330690088449"
     },
     "user_tz": 240
    },
    "id": "TIkNhGDeSYQR",
    "outputId": "49a2c4d0-d125-4125-c94e-2a4a3cac69d5"
   },
   "outputs": [
    {
     "name": "stdout",
     "output_type": "stream",
     "text": [
      "Epoch 1/50\n",
      "5/5 [==============================] - 1s 71ms/step - loss: 0.9293 - accuracy: 0.2215 - val_loss: 0.8517 - val_accuracy: 0.2237\n",
      "Epoch 2/50\n",
      "5/5 [==============================] - 0s 14ms/step - loss: 0.8160 - accuracy: 0.2450 - val_loss: 0.7570 - val_accuracy: 0.5153\n",
      "Epoch 3/50\n",
      "5/5 [==============================] - 0s 12ms/step - loss: 0.7328 - accuracy: 0.5352 - val_loss: 0.6863 - val_accuracy: 0.6305\n",
      "Epoch 4/50\n",
      "5/5 [==============================] - 0s 13ms/step - loss: 0.6713 - accuracy: 0.6342 - val_loss: 0.6329 - val_accuracy: 0.6814\n",
      "Epoch 5/50\n",
      "5/5 [==============================] - 0s 14ms/step - loss: 0.6255 - accuracy: 0.6862 - val_loss: 0.5930 - val_accuracy: 0.7153\n",
      "Epoch 6/50\n",
      "5/5 [==============================] - 0s 13ms/step - loss: 0.5913 - accuracy: 0.7282 - val_loss: 0.5615 - val_accuracy: 0.7729\n",
      "Epoch 7/50\n",
      "5/5 [==============================] - 0s 13ms/step - loss: 0.5647 - accuracy: 0.7651 - val_loss: 0.5372 - val_accuracy: 0.7966\n",
      "Epoch 8/50\n",
      "5/5 [==============================] - 0s 12ms/step - loss: 0.5448 - accuracy: 0.7836 - val_loss: 0.5176 - val_accuracy: 0.8000\n",
      "Epoch 9/50\n",
      "5/5 [==============================] - 0s 14ms/step - loss: 0.5290 - accuracy: 0.7735 - val_loss: 0.5013 - val_accuracy: 0.8068\n",
      "Epoch 10/50\n",
      "5/5 [==============================] - 0s 14ms/step - loss: 0.5161 - accuracy: 0.7953 - val_loss: 0.4889 - val_accuracy: 0.8102\n",
      "Epoch 11/50\n",
      "5/5 [==============================] - 0s 12ms/step - loss: 0.5064 - accuracy: 0.7970 - val_loss: 0.4784 - val_accuracy: 0.8068\n",
      "Epoch 12/50\n",
      "5/5 [==============================] - 0s 16ms/step - loss: 0.4984 - accuracy: 0.7953 - val_loss: 0.4695 - val_accuracy: 0.8034\n",
      "Epoch 13/50\n",
      "5/5 [==============================] - 0s 16ms/step - loss: 0.4921 - accuracy: 0.7936 - val_loss: 0.4622 - val_accuracy: 0.8034\n",
      "Epoch 14/50\n",
      "5/5 [==============================] - 0s 18ms/step - loss: 0.4869 - accuracy: 0.7953 - val_loss: 0.4561 - val_accuracy: 0.8034\n",
      "Epoch 15/50\n",
      "5/5 [==============================] - 0s 16ms/step - loss: 0.4826 - accuracy: 0.7953 - val_loss: 0.4509 - val_accuracy: 0.8034\n",
      "Epoch 16/50\n",
      "5/5 [==============================] - 0s 17ms/step - loss: 0.4791 - accuracy: 0.7953 - val_loss: 0.4465 - val_accuracy: 0.8000\n",
      "Epoch 17/50\n",
      "5/5 [==============================] - 0s 17ms/step - loss: 0.4763 - accuracy: 0.7936 - val_loss: 0.4428 - val_accuracy: 0.8000\n",
      "Epoch 18/50\n",
      "5/5 [==============================] - 0s 16ms/step - loss: 0.4742 - accuracy: 0.7936 - val_loss: 0.4395 - val_accuracy: 0.8000\n",
      "Epoch 19/50\n",
      "5/5 [==============================] - 0s 14ms/step - loss: 0.4720 - accuracy: 0.7936 - val_loss: 0.4366 - val_accuracy: 0.7966\n",
      "Epoch 20/50\n",
      "5/5 [==============================] - 0s 14ms/step - loss: 0.4706 - accuracy: 0.7936 - val_loss: 0.4343 - val_accuracy: 0.8000\n",
      "Epoch 21/50\n",
      "5/5 [==============================] - 0s 13ms/step - loss: 0.4693 - accuracy: 0.7936 - val_loss: 0.4321 - val_accuracy: 0.8000\n",
      "Epoch 22/50\n",
      "5/5 [==============================] - 0s 14ms/step - loss: 0.4681 - accuracy: 0.7936 - val_loss: 0.4303 - val_accuracy: 0.8034\n",
      "Epoch 23/50\n",
      "5/5 [==============================] - 0s 13ms/step - loss: 0.4673 - accuracy: 0.7936 - val_loss: 0.4286 - val_accuracy: 0.8034\n",
      "Epoch 24/50\n",
      "5/5 [==============================] - 0s 12ms/step - loss: 0.4663 - accuracy: 0.7953 - val_loss: 0.4271 - val_accuracy: 0.8034\n",
      "Epoch 25/50\n",
      "5/5 [==============================] - 0s 12ms/step - loss: 0.4655 - accuracy: 0.7936 - val_loss: 0.4256 - val_accuracy: 0.8034\n",
      "Epoch 26/50\n",
      "5/5 [==============================] - 0s 12ms/step - loss: 0.4650 - accuracy: 0.7953 - val_loss: 0.4243 - val_accuracy: 0.8034\n",
      "Epoch 27/50\n",
      "5/5 [==============================] - 0s 14ms/step - loss: 0.4643 - accuracy: 0.7936 - val_loss: 0.4233 - val_accuracy: 0.8034\n",
      "Epoch 28/50\n",
      "5/5 [==============================] - 0s 13ms/step - loss: 0.4640 - accuracy: 0.7953 - val_loss: 0.4222 - val_accuracy: 0.8034\n",
      "Epoch 29/50\n",
      "5/5 [==============================] - 0s 12ms/step - loss: 0.4636 - accuracy: 0.7936 - val_loss: 0.4215 - val_accuracy: 0.8068\n",
      "Epoch 30/50\n",
      "5/5 [==============================] - 0s 13ms/step - loss: 0.4634 - accuracy: 0.7953 - val_loss: 0.4208 - val_accuracy: 0.8068\n",
      "Epoch 31/50\n",
      "5/5 [==============================] - 0s 13ms/step - loss: 0.4632 - accuracy: 0.7953 - val_loss: 0.4201 - val_accuracy: 0.8068\n",
      "Epoch 32/50\n",
      "5/5 [==============================] - 0s 13ms/step - loss: 0.4629 - accuracy: 0.7936 - val_loss: 0.4193 - val_accuracy: 0.8102\n",
      "Epoch 33/50\n",
      "5/5 [==============================] - 0s 14ms/step - loss: 0.4625 - accuracy: 0.7953 - val_loss: 0.4188 - val_accuracy: 0.8102\n",
      "Epoch 34/50\n",
      "5/5 [==============================] - 0s 12ms/step - loss: 0.4627 - accuracy: 0.7953 - val_loss: 0.4184 - val_accuracy: 0.8102\n",
      "Epoch 35/50\n",
      "5/5 [==============================] - 0s 14ms/step - loss: 0.4623 - accuracy: 0.7936 - val_loss: 0.4180 - val_accuracy: 0.8102\n",
      "Epoch 36/50\n",
      "5/5 [==============================] - 0s 15ms/step - loss: 0.4622 - accuracy: 0.7953 - val_loss: 0.4175 - val_accuracy: 0.8102\n",
      "Epoch 37/50\n",
      "5/5 [==============================] - 0s 14ms/step - loss: 0.4624 - accuracy: 0.7936 - val_loss: 0.4171 - val_accuracy: 0.8102\n",
      "Epoch 38/50\n",
      "5/5 [==============================] - 0s 16ms/step - loss: 0.4618 - accuracy: 0.7936 - val_loss: 0.4168 - val_accuracy: 0.8102\n",
      "Epoch 39/50\n",
      "5/5 [==============================] - 0s 16ms/step - loss: 0.4617 - accuracy: 0.7936 - val_loss: 0.4163 - val_accuracy: 0.8102\n",
      "Epoch 40/50\n",
      "5/5 [==============================] - 0s 16ms/step - loss: 0.4619 - accuracy: 0.7936 - val_loss: 0.4161 - val_accuracy: 0.8102\n",
      "Epoch 41/50\n",
      "5/5 [==============================] - 0s 16ms/step - loss: 0.4619 - accuracy: 0.7936 - val_loss: 0.4158 - val_accuracy: 0.8136\n",
      "Epoch 42/50\n",
      "5/5 [==============================] - 0s 15ms/step - loss: 0.4618 - accuracy: 0.7936 - val_loss: 0.4156 - val_accuracy: 0.8136\n",
      "Epoch 43/50\n",
      "5/5 [==============================] - 0s 14ms/step - loss: 0.4615 - accuracy: 0.7936 - val_loss: 0.4153 - val_accuracy: 0.8102\n",
      "Epoch 44/50\n",
      "5/5 [==============================] - 0s 14ms/step - loss: 0.4615 - accuracy: 0.7936 - val_loss: 0.4150 - val_accuracy: 0.8136\n",
      "Epoch 45/50\n",
      "5/5 [==============================] - 0s 12ms/step - loss: 0.4618 - accuracy: 0.7919 - val_loss: 0.4147 - val_accuracy: 0.8102\n",
      "Epoch 46/50\n",
      "5/5 [==============================] - 0s 16ms/step - loss: 0.4614 - accuracy: 0.7953 - val_loss: 0.4143 - val_accuracy: 0.8136\n",
      "Epoch 47/50\n",
      "5/5 [==============================] - 0s 15ms/step - loss: 0.4613 - accuracy: 0.7936 - val_loss: 0.4141 - val_accuracy: 0.8136\n",
      "Epoch 48/50\n",
      "5/5 [==============================] - 0s 16ms/step - loss: 0.4615 - accuracy: 0.7936 - val_loss: 0.4139 - val_accuracy: 0.8169\n",
      "Epoch 49/50\n",
      "5/5 [==============================] - 0s 15ms/step - loss: 0.4612 - accuracy: 0.7953 - val_loss: 0.4138 - val_accuracy: 0.8169\n",
      "Epoch 50/50\n",
      "5/5 [==============================] - 0s 21ms/step - loss: 0.4613 - accuracy: 0.7953 - val_loss: 0.4138 - val_accuracy: 0.8169\n"
     ]
    }
   ],
   "source": [
    "history = model.fit(X_train, y_train,\n",
    "                    batch_size=128, epochs=50,\n",
    "                    validation_data=(X_test,y_test) )"
   ]
  },
  {
   "cell_type": "markdown",
   "metadata": {
    "id": "DpVqk7hSakkI"
   },
   "source": [
    "## Evaluación"
   ]
  },
  {
   "cell_type": "code",
   "execution_count": 28,
   "metadata": {
    "executionInfo": {
     "elapsed": 6,
     "status": "ok",
     "timestamp": 1681338176946,
     "user": {
      "displayName": "Jorge Sepulveda",
      "userId": "07168895330690088449"
     },
     "user_tz": 240
    },
    "id": "9g3PwfFAS3GY"
   },
   "outputs": [],
   "source": [
    "from sklearn.metrics import accuracy_score"
   ]
  },
  {
   "cell_type": "code",
   "execution_count": 29,
   "metadata": {
    "colab": {
     "base_uri": "https://localhost:8080/"
    },
    "executionInfo": {
     "elapsed": 362,
     "status": "ok",
     "timestamp": 1681338177303,
     "user": {
      "displayName": "Jorge Sepulveda",
      "userId": "07168895330690088449"
     },
     "user_tz": 240
    },
    "id": "b_UV4qQ8ao74",
    "outputId": "fbb769ff-1007-4dd4-cf9e-6fae0fe016a3"
   },
   "outputs": [
    {
     "name": "stdout",
     "output_type": "stream",
     "text": [
      "10/10 [==============================] - 0s 3ms/step\n"
     ]
    }
   ],
   "source": [
    "y_pred = model.predict(X_test)"
   ]
  },
  {
   "cell_type": "code",
   "execution_count": 30,
   "metadata": {
    "executionInfo": {
     "elapsed": 5,
     "status": "ok",
     "timestamp": 1681338177303,
     "user": {
      "displayName": "Jorge Sepulveda",
      "userId": "07168895330690088449"
     },
     "user_tz": 240
    },
    "id": "U1UAxBLVa1M4"
   },
   "outputs": [
    {
     "data": {
      "text/plain": [
       "array([[0.91507435, 0.08492568],\n",
       "       [0.7660573 , 0.23394264],\n",
       "       [0.84418064, 0.15581934],\n",
       "       [0.11334997, 0.88664997],\n",
       "       [0.32193482, 0.67806524]], dtype=float32)"
      ]
     },
     "execution_count": 30,
     "metadata": {},
     "output_type": "execute_result"
    }
   ],
   "source": [
    "y_pred[:5]"
   ]
  },
  {
   "cell_type": "code",
   "execution_count": 1,
   "metadata": {
    "colab": {
     "base_uri": "https://localhost:8080/"
    },
    "executionInfo": {
     "elapsed": 5,
     "status": "ok",
     "timestamp": 1681338177304,
     "user": {
      "displayName": "Jorge Sepulveda",
      "userId": "07168895330690088449"
     },
     "user_tz": 240
    },
    "id": "lhG05iATauBv",
    "outputId": "b454a4e3-5ad4-47bc-e78e-1b965d144d74"
   },
   "outputs": [
    {
     "ename": "NameError",
     "evalue": "name 'np' is not defined",
     "output_type": "error",
     "traceback": [
      "\u001b[1;31m---------------------------------------------------------------------------\u001b[0m",
      "\u001b[1;31mNameError\u001b[0m                                 Traceback (most recent call last)",
      "Cell \u001b[1;32mIn[1], line 1\u001b[0m\n\u001b[1;32m----> 1\u001b[0m y_pred_clases \u001b[38;5;241m=\u001b[39m \u001b[43mnp\u001b[49m\u001b[38;5;241m.\u001b[39margmax(y_pred, axis\u001b[38;5;241m=\u001b[39m\u001b[38;5;241m1\u001b[39m)\n",
      "\u001b[1;31mNameError\u001b[0m: name 'np' is not defined"
     ]
    }
   ],
   "source": [
    "\n",
    "\n",
    "\n",
    "y_pred_clases = np.argmax(y_pred, axis=1)"
   ]
  },
  {
   "cell_type": "code",
   "execution_count": 32,
   "metadata": {},
   "outputs": [
    {
     "data": {
      "text/plain": [
       "0.8169491525423729"
      ]
     },
     "execution_count": 32,
     "metadata": {},
     "output_type": "execute_result"
    }
   ],
   "source": [
    "accuracy_score(y_test_clase,y_pred_clase)"
   ]
  },
  {
   "cell_type": "markdown",
   "metadata": {
    "id": "_p5y0kCJi2xO"
   },
   "source": [
    "## Evolución del entrenamiento"
   ]
  },
  {
   "cell_type": "code",
   "execution_count": 33,
   "metadata": {
    "executionInfo": {
     "elapsed": 3,
     "status": "ok",
     "timestamp": 1681338177304,
     "user": {
      "displayName": "Jorge Sepulveda",
      "userId": "07168895330690088449"
     },
     "user_tz": 240
    },
    "id": "SgorvIykjAE_"
   },
   "outputs": [
    {
     "data": {
      "image/png": "[encoded data removed]",
      "text/plain": [
       "<Figure size 640x480 with 2 Axes>"
      ]
     },
     "metadata": {},
     "output_type": "display_data"
    }
   ],
   "source": [
    "plt.subplot(2,1,1)\n",
    "plt.title('Train Set - Loss')\n",
    "plt.plot(history.history['loss'])\n",
    "plt.subplot(2,1,2)\n",
    "plt.title('Train Set - Accuracy')\n",
    "plt.plot(history.history['accuracy'])\n",
    "plt.tight_layout()"
   ]
  },
  {
   "cell_type": "code",
   "execution_count": null,
   "metadata": {
    "colab": {
     "base_uri": "https://localhost:8080/",
     "height": 469
    },
    "executionInfo": {
     "elapsed": 689,
     "status": "ok",
     "timestamp": 1681338240484,
     "user": {
      "displayName": "Jorge Sepulveda",
      "userId": "07168895330690088449"
     },
     "user_tz": 240
    },
    "id": "MXRTAJK1jJ-I",
    "outputId": "1b7ad479-be5a-4f16-fdf3-4dce69311ef6"
   },
   "outputs": [],
   "source": [
    "# train set"
   ]
  },
  {
   "cell_type": "code",
   "execution_count": null,
   "metadata": {
    "colab": {
     "base_uri": "https://localhost:8080/",
     "height": 469
    },
    "executionInfo": {
     "elapsed": 589,
     "status": "ok",
     "timestamp": 1681338266625,
     "user": {
      "displayName": "Jorge Sepulveda",
      "userId": "07168895330690088449"
     },
     "user_tz": 240
    },
    "id": "JdGSHthDjgVC",
    "outputId": "e1a8fc61-4cfa-4c49-c1ee-394a18b69d39"
   },
   "outputs": [],
   "source": [
    "# validation set\n"
   ]
  },
  {
   "cell_type": "code",
   "execution_count": 34,
   "metadata": {
    "id": "ed7ETtTbk4cW"
   },
   "outputs": [
    {
     "data": {
      "image/png": "[encoded data removed]",
      "text/plain": [
       "<Figure size 640x480 with 2 Axes>"
      ]
     },
     "metadata": {},
     "output_type": "display_data"
    }
   ],
   "source": [
    "plt.subplot(2,1,1)\n",
    "plt.title('Validation Set - Loss')\n",
    "plt.plot(history.history['val_loss'])\n",
    "plt.subplot(2,1,2)\n",
    "plt.title('Validation Set - Accuracy')\n",
    "plt.plot(history.history['val_accuracy'])\n",
    "plt.tight_layout()"
   ]
  },
  {
   "cell_type": "code",
   "execution_count": null,
   "metadata": {},
   "outputs": [],
   "source": []
  }
 ],
 "metadata": {
  "colab": {
   "authorship_tag": "ABX9TyNcao92jrSsAJ/EdR+x6eBu",
   "provenance": []
  },
  "kernelspec": {
   "display_name": "Python 3 (ipykernel)",
   "language": "python",
   "name": "python3"
  },
  "language_info": {
   "codemirror_mode": {
    "name": "ipython",
    "version": 3
   },
   "file_extension": ".py",
   "mimetype": "text/x-python",
   "name": "python",
   "nbconvert_exporter": "python",
   "pygments_lexer": "ipython3",
   "version": "3.10.9"
  }
 },
 "nbformat": 4,
 "nbformat_minor": 1
}
