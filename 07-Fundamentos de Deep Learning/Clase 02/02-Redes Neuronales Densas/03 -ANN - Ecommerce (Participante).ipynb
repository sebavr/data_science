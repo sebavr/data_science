{
 "cells": [
  {
   "cell_type": "markdown",
   "metadata": {
    "id": "C1XDiAPeUxYR"
   },
   "source": [
    "# ANN - Regresión Caso Ecommerce"
   ]
  },
  {
   "cell_type": "code",
   "execution_count": 2,
   "metadata": {
    "executionInfo": {
     "elapsed": 460,
     "status": "ok",
     "timestamp": 1681399228800,
     "user": {
      "displayName": "Jorge Sepulveda",
      "userId": "07168895330690088449"
     },
     "user_tz": 240
    },
    "id": "VKlfd9tcOmZB"
   },
   "outputs": [],
   "source": [
    "import pandas as pd\n",
    "import numpy as np"
   ]
  },
  {
   "cell_type": "markdown",
   "metadata": {
    "id": "iB8OZj3sU-5J"
   },
   "source": [
    "## Lectura de Datos"
   ]
  },
  {
   "cell_type": "code",
   "execution_count": 3,
   "metadata": {
    "executionInfo": {
     "elapsed": 453,
     "status": "ok",
     "timestamp": 1681399241626,
     "user": {
      "displayName": "Jorge Sepulveda",
      "userId": "07168895330690088449"
     },
     "user_tz": 240
    },
    "id": "4Xsy1oLDQmdA"
   },
   "outputs": [],
   "source": [
    "df = pd.read_csv('Ecommerce.csv')"
   ]
  },
  {
   "cell_type": "code",
   "execution_count": 5,
   "metadata": {
    "colab": {
     "base_uri": "https://localhost:8080/",
     "height": 191
    },
    "executionInfo": {
     "elapsed": 899,
     "status": "ok",
     "timestamp": 1681400021098,
     "user": {
      "displayName": "Jorge Sepulveda",
      "userId": "07168895330690088449"
     },
     "user_tz": 240
    },
    "id": "U6TlKeODQmVY",
    "outputId": "0cbd1384-32a2-4a28-a14a-3635ec2a78be"
   },
   "outputs": [
    {
     "data": {
      "text/html": [
       "\n",
       "  <div id=\"df-ce299b2b-1125-4644-b4fc-546dd1e36aa4\">\n",
       "    <div class=\"colab-df-container\">\n",
       "      <div>\n",
       "<style scoped>\n",
       "    .dataframe tbody tr th:only-of-type {\n",
       "        vertical-align: middle;\n",
       "    }\n",
       "\n",
       "    .dataframe tbody tr th {\n",
       "        vertical-align: top;\n",
       "    }\n",
       "\n",
       "    .dataframe thead th {\n",
       "        text-align: right;\n",
       "    }\n",
       "</style>\n",
       "<table border=\"1\" class=\"dataframe\">\n",
       "  <thead>\n",
       "    <tr style=\"text-align: right;\">\n",
       "      <th></th>\n",
       "      <th>Email</th>\n",
       "      <th>Address</th>\n",
       "      <th>Avatar</th>\n",
       "      <th>Avg. Session Length</th>\n",
       "      <th>Time on App</th>\n",
       "      <th>Time on Website</th>\n",
       "      <th>Length of Membership</th>\n",
       "      <th>Yearly Amount Spent</th>\n",
       "    </tr>\n",
       "  </thead>\n",
       "  <tbody>\n",
       "    <tr>\n",
       "      <th>0</th>\n",
       "      <td>mstephenson@fernandez.com</td>\n",
       "      <td>835 Frank Tunnel\\nWrightmouth, MI 82180-9605</td>\n",
       "      <td>Violet</td>\n",
       "      <td>34.497268</td>\n",
       "      <td>12.655651</td>\n",
       "      <td>39.577668</td>\n",
       "      <td>4.082621</td>\n",
       "      <td>587.951054</td>\n",
       "    </tr>\n",
       "    <tr>\n",
       "      <th>1</th>\n",
       "      <td>hduke@hotmail.com</td>\n",
       "      <td>4547 Archer Common\\nDiazchester, CA 06566-8576</td>\n",
       "      <td>DarkGreen</td>\n",
       "      <td>31.926272</td>\n",
       "      <td>11.109461</td>\n",
       "      <td>37.268959</td>\n",
       "      <td>2.664034</td>\n",
       "      <td>392.204933</td>\n",
       "    </tr>\n",
       "  </tbody>\n",
       "</table>\n",
       "</div>\n",
       "      <button class=\"colab-df-convert\" onclick=\"convertToInteractive('df-ce299b2b-1125-4644-b4fc-546dd1e36aa4')\"\n",
       "              title=\"Convert this dataframe to an interactive table.\"\n",
       "              style=\"display:none;\">\n",
       "        \n",
       "  <svg xmlns=\"http://www.w3.org/2000/svg\" height=\"24px\"viewBox=\"0 0 24 24\"\n",
       "       width=\"24px\">\n",
       "    <path d=\"M0 0h24v24H0V0z\" fill=\"none\"/>\n",
       "    <path d=\"M18.56 5.44l.94 2.06.94-2.06 2.06-.94-2.06-.94-.94-2.06-.94 2.06-2.06.94zm-11 1L8.5 8.5l.94-2.06 2.06-.94-2.06-.94L8.5 2.5l-.94 2.06-2.06.94zm10 10l.94 2.06.94-2.06 2.06-.94-2.06-.94-.94-2.06-.94 2.06-2.06.94z\"/><path d=\"M17.41 7.96l-1.37-1.37c-.4-.4-.92-.59-1.43-.59-.52 0-1.04.2-1.43.59L10.3 9.45l-7.72 7.72c-.78.78-.78 2.05 0 2.83L4 21.41c.39.39.9.59 1.41.59.51 0 1.02-.2 1.41-.59l7.78-7.78 2.81-2.81c.8-.78.8-2.07 0-2.86zM5.41 20L4 18.59l7.72-7.72 1.47 1.35L5.41 20z\"/>\n",
       "  </svg>\n",
       "      </button>\n",
       "      \n",
       "  <style>\n",
       "    .colab-df-container {\n",
       "      display:flex;\n",
       "      flex-wrap:wrap;\n",
       "      gap: 12px;\n",
       "    }\n",
       "\n",
       "    .colab-df-convert {\n",
       "      background-color: #E8F0FE;\n",
       "      border: none;\n",
       "      border-radius: 50%;\n",
       "      cursor: pointer;\n",
       "      display: none;\n",
       "      fill: #1967D2;\n",
       "      height: 32px;\n",
       "      padding: 0 0 0 0;\n",
       "      width: 32px;\n",
       "    }\n",
       "\n",
       "    .colab-df-convert:hover {\n",
       "      background-color: #E2EBFA;\n",
       "      box-shadow: 0px 1px 2px rgba(60, 64, 67, 0.3), 0px 1px 3px 1px rgba(60, 64, 67, 0.15);\n",
       "      fill: #174EA6;\n",
       "    }\n",
       "\n",
       "    [theme=dark] .colab-df-convert {\n",
       "      background-color: #3B4455;\n",
       "      fill: #D2E3FC;\n",
       "    }\n",
       "\n",
       "    [theme=dark] .colab-df-convert:hover {\n",
       "      background-color: #434B5C;\n",
       "      box-shadow: 0px 1px 3px 1px rgba(0, 0, 0, 0.15);\n",
       "      filter: drop-shadow(0px 1px 2px rgba(0, 0, 0, 0.3));\n",
       "      fill: #FFFFFF;\n",
       "    }\n",
       "  </style>\n",
       "\n",
       "      <script>\n",
       "        const buttonEl =\n",
       "          document.querySelector('#df-ce299b2b-1125-4644-b4fc-546dd1e36aa4 button.colab-df-convert');\n",
       "        buttonEl.style.display =\n",
       "          google.colab.kernel.accessAllowed ? 'block' : 'none';\n",
       "\n",
       "        async function convertToInteractive(key) {\n",
       "          const element = document.querySelector('#df-ce299b2b-1125-4644-b4fc-546dd1e36aa4');\n",
       "          const dataTable =\n",
       "            await google.colab.kernel.invokeFunction('convertToInteractive',\n",
       "                                                     [key], {});\n",
       "          if (!dataTable) return;\n",
       "\n",
       "          const docLinkHtml = 'Like what you see? Visit the ' +\n",
       "            '<a target=\"_blank\" href=https://colab.research.google.com/notebooks/data_table.ipynb>data table notebook</a>'\n",
       "            + ' to learn more about interactive tables.';\n",
       "          element.innerHTML = '';\n",
       "          dataTable['output_type'] = 'display_data';\n",
       "          await google.colab.output.renderOutput(dataTable, element);\n",
       "          const docLink = document.createElement('div');\n",
       "          docLink.innerHTML = docLinkHtml;\n",
       "          element.appendChild(docLink);\n",
       "        }\n",
       "      </script>\n",
       "    </div>\n",
       "  </div>\n",
       "  "
      ],
      "text/plain": [
       "                       Email                                         Address  \\\n",
       "0  mstephenson@fernandez.com    835 Frank Tunnel\\nWrightmouth, MI 82180-9605   \n",
       "1          hduke@hotmail.com  4547 Archer Common\\nDiazchester, CA 06566-8576   \n",
       "\n",
       "      Avatar  Avg. Session Length  Time on App  Time on Website  \\\n",
       "0     Violet            34.497268    12.655651        39.577668   \n",
       "1  DarkGreen            31.926272    11.109461        37.268959   \n",
       "\n",
       "   Length of Membership  Yearly Amount Spent  \n",
       "0              4.082621           587.951054  \n",
       "1              2.664034           392.204933  "
      ]
     },
     "execution_count": 5,
     "metadata": {},
     "output_type": "execute_result"
    }
   ],
   "source": [
    "df.head(2)"
   ]
  },
  {
   "cell_type": "markdown",
   "metadata": {
    "id": "A4Os4Awmgvgw"
   },
   "source": [
    "## Limpieza de Datos"
   ]
  },
  {
   "cell_type": "code",
   "execution_count": 6,
   "metadata": {
    "colab": {
     "base_uri": "https://localhost:8080/"
    },
    "executionInfo": {
     "elapsed": 380,
     "status": "ok",
     "timestamp": 1681400027824,
     "user": {
      "displayName": "Jorge Sepulveda",
      "userId": "07168895330690088449"
     },
     "user_tz": 240
    },
    "id": "Rz7jGMkygvHX",
    "outputId": "0dafe707-3eb0-40a6-f906-00b414fd2bd3"
   },
   "outputs": [
    {
     "data": {
      "text/plain": [
       "Email                   0\n",
       "Address                 0\n",
       "Avatar                  0\n",
       "Avg. Session Length     0\n",
       "Time on App             0\n",
       "Time on Website         0\n",
       "Length of Membership    0\n",
       "Yearly Amount Spent     0\n",
       "dtype: int64"
      ]
     },
     "execution_count": 6,
     "metadata": {},
     "output_type": "execute_result"
    }
   ],
   "source": [
    "df.isnull().sum()"
   ]
  },
  {
   "cell_type": "markdown",
   "metadata": {
    "id": "zZAuzUauVNP4"
   },
   "source": [
    "## Planteamiento del modelo"
   ]
  },
  {
   "cell_type": "code",
   "execution_count": 7,
   "metadata": {
    "executionInfo": {
     "elapsed": 379,
     "status": "ok",
     "timestamp": 1681400061522,
     "user": {
      "displayName": "Jorge Sepulveda",
      "userId": "07168895330690088449"
     },
     "user_tz": 240
    },
    "id": "gUb9FEWVQuEI"
   },
   "outputs": [],
   "source": [
    "X = df[['Avg. Session Length','Time on App','Time on Website','Length of Membership']]\n",
    "y = df['Yearly Amount Spent']"
   ]
  },
  {
   "cell_type": "code",
   "execution_count": null,
   "metadata": {
    "id": "aBJ2d-EPVTph"
   },
   "outputs": [],
   "source": []
  },
  {
   "cell_type": "markdown",
   "metadata": {
    "id": "T0IsVvGhVQ9r"
   },
   "source": [
    "## Preprocesamiento\n",
    "\n",
    "Haremos lo siguiente:\n",
    "\n",
    "*   Escalamiento\n",
    "\n"
   ]
  },
  {
   "cell_type": "markdown",
   "metadata": {
    "id": "Q90tcKCtVv9p"
   },
   "source": [
    "### Escalamiento"
   ]
  },
  {
   "cell_type": "code",
   "execution_count": 8,
   "metadata": {
    "executionInfo": {
     "elapsed": 1764,
     "status": "ok",
     "timestamp": 1681400092627,
     "user": {
      "displayName": "Jorge Sepulveda",
      "userId": "07168895330690088449"
     },
     "user_tz": 240
    },
    "id": "kNSooXTjVvxh"
   },
   "outputs": [],
   "source": [
    "from sklearn.preprocessing import StandardScaler"
   ]
  },
  {
   "cell_type": "code",
   "execution_count": 9,
   "metadata": {
    "executionInfo": {
     "elapsed": 7,
     "status": "ok",
     "timestamp": 1681400092628,
     "user": {
      "displayName": "Jorge Sepulveda",
      "userId": "07168895330690088449"
     },
     "user_tz": 240
    },
    "id": "2GK6eaGbVvqN"
   },
   "outputs": [],
   "source": [
    "scaler = StandardScaler()\n",
    "X_enc = scaler.fit_transform(X)"
   ]
  },
  {
   "cell_type": "code",
   "execution_count": 10,
   "metadata": {
    "colab": {
     "base_uri": "https://localhost:8080/"
    },
    "executionInfo": {
     "elapsed": 6,
     "status": "ok",
     "timestamp": 1681400092628,
     "user": {
      "displayName": "Jorge Sepulveda",
      "userId": "07168895330690088449"
     },
     "user_tz": 240
    },
    "id": "CQKZseg8V_zz",
    "outputId": "86eb667c-e512-450a-9dbc-50d051bcca12"
   },
   "outputs": [
    {
     "data": {
      "text/plain": [
       "array([[ 1.45635117,  0.60728003,  2.49358859,  0.55010651],\n",
       "       [-1.13650215, -0.94946372,  0.20655573, -0.87092735]])"
      ]
     },
     "execution_count": 10,
     "metadata": {},
     "output_type": "execute_result"
    }
   ],
   "source": [
    "X_enc[:2]"
   ]
  },
  {
   "cell_type": "markdown",
   "metadata": {
    "id": "jtPUW6kiWJn7"
   },
   "source": [
    "### Validacion Cruzada"
   ]
  },
  {
   "cell_type": "code",
   "execution_count": 12,
   "metadata": {
    "executionInfo": {
     "elapsed": 4,
     "status": "ok",
     "timestamp": 1681400113268,
     "user": {
      "displayName": "Jorge Sepulveda",
      "userId": "07168895330690088449"
     },
     "user_tz": 240
    },
    "id": "le3vh7JARMsN"
   },
   "outputs": [],
   "source": [
    "from sklearn.model_selection import train_test_split"
   ]
  },
  {
   "cell_type": "code",
   "execution_count": 14,
   "metadata": {
    "executionInfo": {
     "elapsed": 3,
     "status": "ok",
     "timestamp": 1681400122177,
     "user": {
      "displayName": "Jorge Sepulveda",
      "userId": "07168895330690088449"
     },
     "user_tz": 240
    },
    "id": "rrRbv1QJRMoD"
   },
   "outputs": [],
   "source": [
    "X_train, X_test, y_train, y_test = train_test_split(X, y, test_size=0.33, random_state=42)"
   ]
  },
  {
   "cell_type": "code",
   "execution_count": 14,
   "metadata": {
    "executionInfo": {
     "elapsed": 381,
     "status": "ok",
     "timestamp": 1681400132189,
     "user": {
      "displayName": "Jorge Sepulveda",
      "userId": "07168895330690088449"
     },
     "user_tz": 240
    },
    "id": "WMs-iBCoWPoL"
   },
   "outputs": [],
   "source": []
  },
  {
   "cell_type": "markdown",
   "metadata": {
    "id": "2KErXqHwWMd3"
   },
   "source": [
    "### Arquitectura de la red neuronal\n",
    "\n",
    "La arquitectura es un arte. En este caso, utilizaremos capas densas (fully connected)\n",
    "\n",
    "*  Probar con activation: relu, tanh, linear\n",
    "*  Probar optimizadores: Adam, SGD, RMSProp, Adagrad\n",
    "*  Probar combinaciones de capas"
   ]
  },
  {
   "cell_type": "code",
   "execution_count": 17,
   "metadata": {
    "executionInfo": {
     "elapsed": 3,
     "status": "ok",
     "timestamp": 1681400171630,
     "user": {
      "displayName": "Jorge Sepulveda",
      "userId": "07168895330690088449"
     },
     "user_tz": 240
    },
    "id": "KBen4e5AO3C2"
   },
   "outputs": [],
   "source": [
    "from tensorflow.keras import Sequential\n",
    "from tensorflow.keras.layers import Dense, Input\n",
    "from tensorflow.keras.optimizers import SGD, Adam\n",
    "from tensorflow.keras.utils import plot_model"
   ]
  },
  {
   "cell_type": "code",
   "execution_count": 18,
   "metadata": {
    "executionInfo": {
     "elapsed": 595,
     "status": "ok",
     "timestamp": 1681400173796,
     "user": {
      "displayName": "Jorge Sepulveda",
      "userId": "07168895330690088449"
     },
     "user_tz": 240
    },
    "id": "puGktXtIPSoY"
   },
   "outputs": [],
   "source": [
    "model = Sequential()\n",
    "model.add(Input(shape=(4,)))\n",
    "model.add(Dense(20, activation='linear'))\n",
    "model.add(Dense(10, activation='linear'))\n",
    "model.add(Dense(1, activation='linear'))"
   ]
  },
  {
   "cell_type": "code",
   "execution_count": 53,
   "metadata": {
    "executionInfo": {
     "elapsed": 514,
     "status": "ok",
     "timestamp": 1681400745681,
     "user": {
      "displayName": "Jorge Sepulveda",
      "userId": "07168895330690088449"
     },
     "user_tz": 240
    },
    "id": "tya4nkgQRW9i"
   },
   "outputs": [],
   "source": [
    "model.compile(loss='mse', \n",
    "              optimizer=Adam(learning_rate=0.01),\n",
    "              metrics=[r2])"
   ]
  },
  {
   "cell_type": "code",
   "execution_count": 48,
   "metadata": {
    "executionInfo": {
     "elapsed": 403,
     "status": "ok",
     "timestamp": 1681400697522,
     "user": {
      "displayName": "Jorge Sepulveda",
      "userId": "07168895330690088449"
     },
     "user_tz": 240
    },
    "id": "pHuQZyR-ZDhe"
   },
   "outputs": [],
   "source": [
    "from keras import backend as K"
   ]
  },
  {
   "cell_type": "code",
   "execution_count": 50,
   "metadata": {
    "executionInfo": {
     "elapsed": 3,
     "status": "ok",
     "timestamp": 1681400723015,
     "user": {
      "displayName": "Jorge Sepulveda",
      "userId": "07168895330690088449"
     },
     "user_tz": 240
    },
    "id": "YovibVnDSqBw"
   },
   "outputs": [],
   "source": [
    "def r2(y_true, y_pred):\n",
    "    SS_res =  K.sum(K.square( y_true-y_pred ))\n",
    "    SS_tot = K.sum(K.square( y_true - K.mean(y_true) ) )\n",
    "    return ( 1 - SS_res/(SS_tot + K.epsilon()) )"
   ]
  },
  {
   "cell_type": "markdown",
   "metadata": {
    "id": "ZWUT4waFZ_Zn"
   },
   "source": [
    "### Visualización del modelo"
   ]
  },
  {
   "cell_type": "code",
   "execution_count": 42,
   "metadata": {
    "colab": {
     "base_uri": "https://localhost:8080/"
    },
    "executionInfo": {
     "elapsed": 7,
     "status": "ok",
     "timestamp": 1681400587562,
     "user": {
      "displayName": "Jorge Sepulveda",
      "userId": "07168895330690088449"
     },
     "user_tz": 240
    },
    "id": "G0IIz4biWgxD",
    "outputId": "8ab27b96-e3f3-4904-bd8b-1135069a8b06"
   },
   "outputs": [
    {
     "name": "stdout",
     "output_type": "stream",
     "text": [
      "Model: \"sequential_1\"\n",
      "_________________________________________________________________\n",
      " Layer (type)                Output Shape              Param #   \n",
      "=================================================================\n",
      " dense (Dense)               (None, 20)                100       \n",
      "                                                                 \n",
      " dense_1 (Dense)             (None, 10)                210       \n",
      "                                                                 \n",
      " dense_2 (Dense)             (None, 1)                 11        \n",
      "                                                                 \n",
      "=================================================================\n",
      "Total params: 321\n",
      "Trainable params: 321\n",
      "Non-trainable params: 0\n",
      "_________________________________________________________________\n"
     ]
    }
   ],
   "source": [
    "model.summary()"
   ]
  },
  {
   "cell_type": "code",
   "execution_count": 43,
   "metadata": {
    "colab": {
     "base_uri": "https://localhost:8080/",
     "height": 422
    },
    "executionInfo": {
     "elapsed": 1265,
     "status": "ok",
     "timestamp": 1681400588825,
     "user": {
      "displayName": "Jorge Sepulveda",
      "userId": "07168895330690088449"
     },
     "user_tz": 240
    },
    "id": "6oCvzt-RY_HV",
    "outputId": "8eb32056-603a-4e2f-a9f1-57229ab7a14e"
   },
   "outputs": [
    {
     "data": {
      "image/png": "[encoded data removed]",
      "text/plain": [
       "<IPython.core.display.Image object>"
      ]
     },
     "execution_count": 43,
     "metadata": {},
     "output_type": "execute_result"
    }
   ],
   "source": [
    "plot_model(model, show_shapes=True, show_layer_activations=True)"
   ]
  },
  {
   "cell_type": "markdown",
   "metadata": {
    "id": "QBMlBd2iZAW4"
   },
   "source": [
    "### Entrenamiento"
   ]
  },
  {
   "cell_type": "code",
   "execution_count": 54,
   "metadata": {
    "colab": {
     "base_uri": "https://localhost:8080/"
    },
    "executionInfo": {
     "elapsed": 6006,
     "status": "ok",
     "timestamp": 1681400760067,
     "user": {
      "displayName": "Jorge Sepulveda",
      "userId": "07168895330690088449"
     },
     "user_tz": 240
    },
    "id": "TIkNhGDeSYQR",
    "outputId": "5e597aa4-cfa4-47df-8a99-b7191de5c4c6"
   },
   "outputs": [
    {
     "name": "stdout",
     "output_type": "stream",
     "text": [
      "Epoch 1/50\n",
      "3/3 [==============================] - 1s 108ms/step - loss: 3542.3950 - r2: 0.5784 - val_loss: 1377.6489 - val_r2: 0.7491\n",
      "Epoch 2/50\n",
      "3/3 [==============================] - 0s 19ms/step - loss: 3011.4092 - r2: 0.5394 - val_loss: 1633.5139 - val_r2: 0.7026\n",
      "Epoch 3/50\n",
      "3/3 [==============================] - 0s 19ms/step - loss: 1253.5922 - r2: 0.8227 - val_loss: 2204.4077 - val_r2: 0.5986\n",
      "Epoch 4/50\n",
      "3/3 [==============================] - 0s 19ms/step - loss: 2165.7126 - r2: 0.6968 - val_loss: 1247.9825 - val_r2: 0.7728\n",
      "Epoch 5/50\n",
      "3/3 [==============================] - 0s 26ms/step - loss: 836.8348 - r2: 0.8903 - val_loss: 997.6479 - val_r2: 0.8183\n",
      "Epoch 6/50\n",
      "3/3 [==============================] - 0s 19ms/step - loss: 1364.5104 - r2: 0.8092 - val_loss: 820.2029 - val_r2: 0.8507\n",
      "Epoch 7/50\n",
      "3/3 [==============================] - 0s 21ms/step - loss: 835.2279 - r2: 0.8816 - val_loss: 895.4652 - val_r2: 0.8369\n",
      "Epoch 8/50\n",
      "3/3 [==============================] - 0s 29ms/step - loss: 926.7050 - r2: 0.8588 - val_loss: 870.3112 - val_r2: 0.8415\n",
      "Epoch 9/50\n",
      "3/3 [==============================] - 0s 20ms/step - loss: 680.7619 - r2: 0.9043 - val_loss: 636.5157 - val_r2: 0.8841\n",
      "Epoch 10/50\n",
      "3/3 [==============================] - 0s 24ms/step - loss: 833.2515 - r2: 0.8670 - val_loss: 616.1493 - val_r2: 0.8878\n",
      "Epoch 11/50\n",
      "3/3 [==============================] - 0s 28ms/step - loss: 654.4297 - r2: 0.9092 - val_loss: 778.2744 - val_r2: 0.8583\n",
      "Epoch 12/50\n",
      "3/3 [==============================] - 0s 19ms/step - loss: 748.6530 - r2: 0.8782 - val_loss: 702.3678 - val_r2: 0.8721\n",
      "Epoch 13/50\n",
      "3/3 [==============================] - 0s 23ms/step - loss: 639.4235 - r2: 0.9078 - val_loss: 589.7709 - val_r2: 0.8926\n",
      "Epoch 14/50\n",
      "3/3 [==============================] - 0s 18ms/step - loss: 686.0508 - r2: 0.8970 - val_loss: 564.3399 - val_r2: 0.8972\n",
      "Epoch 15/50\n",
      "3/3 [==============================] - 0s 28ms/step - loss: 611.3090 - r2: 0.9124 - val_loss: 684.6028 - val_r2: 0.8753\n",
      "Epoch 16/50\n",
      "3/3 [==============================] - 0s 18ms/step - loss: 651.9766 - r2: 0.9036 - val_loss: 602.0652 - val_r2: 0.8904\n",
      "Epoch 17/50\n",
      "3/3 [==============================] - 0s 32ms/step - loss: 600.0688 - r2: 0.9148 - val_loss: 565.9697 - val_r2: 0.8969\n",
      "Epoch 18/50\n",
      "3/3 [==============================] - 0s 19ms/step - loss: 631.2297 - r2: 0.9134 - val_loss: 574.3651 - val_r2: 0.8954\n",
      "Epoch 19/50\n",
      "3/3 [==============================] - 0s 32ms/step - loss: 608.7156 - r2: 0.9144 - val_loss: 666.9731 - val_r2: 0.8786\n",
      "Epoch 20/50\n",
      "3/3 [==============================] - 0s 20ms/step - loss: 623.8026 - r2: 0.9018 - val_loss: 564.6727 - val_r2: 0.8972\n",
      "Epoch 21/50\n",
      "3/3 [==============================] - 0s 19ms/step - loss: 615.4816 - r2: 0.9069 - val_loss: 563.1164 - val_r2: 0.8975\n",
      "Epoch 22/50\n",
      "3/3 [==============================] - 0s 20ms/step - loss: 610.9937 - r2: 0.9096 - val_loss: 613.7441 - val_r2: 0.8882\n",
      "Epoch 23/50\n",
      "3/3 [==============================] - 0s 30ms/step - loss: 623.5327 - r2: 0.8973 - val_loss: 646.8083 - val_r2: 0.8822\n",
      "Epoch 24/50\n",
      "3/3 [==============================] - 0s 30ms/step - loss: 618.5782 - r2: 0.8976 - val_loss: 558.4073 - val_r2: 0.8983\n",
      "Epoch 25/50\n",
      "3/3 [==============================] - 0s 27ms/step - loss: 605.1767 - r2: 0.9144 - val_loss: 573.9659 - val_r2: 0.8955\n",
      "Epoch 26/50\n",
      "3/3 [==============================] - 0s 20ms/step - loss: 592.0469 - r2: 0.9162 - val_loss: 621.7498 - val_r2: 0.8868\n",
      "Epoch 27/50\n",
      "3/3 [==============================] - 0s 32ms/step - loss: 610.1030 - r2: 0.8948 - val_loss: 573.8236 - val_r2: 0.8955\n",
      "Epoch 28/50\n",
      "3/3 [==============================] - 0s 28ms/step - loss: 603.5690 - r2: 0.9128 - val_loss: 555.8599 - val_r2: 0.8988\n",
      "Epoch 29/50\n",
      "3/3 [==============================] - 0s 29ms/step - loss: 594.3721 - r2: 0.9126 - val_loss: 637.4875 - val_r2: 0.8839\n",
      "Epoch 30/50\n",
      "3/3 [==============================] - 0s 19ms/step - loss: 608.5381 - r2: 0.8938 - val_loss: 557.9993 - val_r2: 0.8984\n",
      "Epoch 31/50\n",
      "3/3 [==============================] - 0s 29ms/step - loss: 606.4400 - r2: 0.8992 - val_loss: 553.5239 - val_r2: 0.8992\n",
      "Epoch 32/50\n",
      "3/3 [==============================] - 0s 28ms/step - loss: 604.9772 - r2: 0.9046 - val_loss: 622.8935 - val_r2: 0.8866\n",
      "Epoch 33/50\n",
      "3/3 [==============================] - 0s 30ms/step - loss: 605.2734 - r2: 0.9114 - val_loss: 551.8659 - val_r2: 0.8995\n",
      "Epoch 34/50\n",
      "3/3 [==============================] - 0s 30ms/step - loss: 602.3849 - r2: 0.8964 - val_loss: 567.2465 - val_r2: 0.8967\n",
      "Epoch 35/50\n",
      "3/3 [==============================] - 0s 28ms/step - loss: 590.4169 - r2: 0.9099 - val_loss: 557.2477 - val_r2: 0.8985\n",
      "Epoch 36/50\n",
      "3/3 [==============================] - 0s 28ms/step - loss: 585.2230 - r2: 0.9158 - val_loss: 586.0142 - val_r2: 0.8933\n",
      "Epoch 37/50\n",
      "3/3 [==============================] - 0s 28ms/step - loss: 586.6585 - r2: 0.9157 - val_loss: 557.9734 - val_r2: 0.8984\n",
      "Epoch 38/50\n",
      "3/3 [==============================] - 0s 27ms/step - loss: 578.9852 - r2: 0.9142 - val_loss: 595.5151 - val_r2: 0.8916\n",
      "Epoch 39/50\n",
      "3/3 [==============================] - 0s 28ms/step - loss: 596.0081 - r2: 0.9099 - val_loss: 564.3846 - val_r2: 0.8972\n",
      "Epoch 40/50\n",
      "3/3 [==============================] - 0s 30ms/step - loss: 579.1362 - r2: 0.9160 - val_loss: 547.6948 - val_r2: 0.9003\n",
      "Epoch 41/50\n",
      "3/3 [==============================] - 0s 21ms/step - loss: 588.8078 - r2: 0.8942 - val_loss: 598.3907 - val_r2: 0.8910\n",
      "Epoch 42/50\n",
      "3/3 [==============================] - 0s 31ms/step - loss: 588.2040 - r2: 0.9105 - val_loss: 566.3438 - val_r2: 0.8969\n",
      "Epoch 43/50\n",
      "3/3 [==============================] - 0s 19ms/step - loss: 586.2098 - r2: 0.9156 - val_loss: 546.0272 - val_r2: 0.9006\n",
      "Epoch 44/50\n",
      "3/3 [==============================] - 0s 23ms/step - loss: 580.1827 - r2: 0.9144 - val_loss: 591.0308 - val_r2: 0.8924\n",
      "Epoch 45/50\n",
      "3/3 [==============================] - 0s 28ms/step - loss: 582.3915 - r2: 0.9189 - val_loss: 543.7946 - val_r2: 0.9010\n",
      "Epoch 46/50\n",
      "3/3 [==============================] - 0s 23ms/step - loss: 585.1279 - r2: 0.9008 - val_loss: 551.3395 - val_r2: 0.8996\n",
      "Epoch 47/50\n",
      "3/3 [==============================] - 0s 28ms/step - loss: 579.6584 - r2: 0.9111 - val_loss: 595.0913 - val_r2: 0.8916\n",
      "Epoch 48/50\n",
      "3/3 [==============================] - 0s 21ms/step - loss: 575.7200 - r2: 0.9043 - val_loss: 541.0910 - val_r2: 0.9015\n",
      "Epoch 49/50\n",
      "3/3 [==============================] - 0s 19ms/step - loss: 584.3283 - r2: 0.9090 - val_loss: 555.6001 - val_r2: 0.8988\n",
      "Epoch 50/50\n",
      "3/3 [==============================] - 0s 33ms/step - loss: 570.9316 - r2: 0.9063 - val_loss: 575.2076 - val_r2: 0.8953\n"
     ]
    }
   ],
   "source": [
    "history = model.fit(X_train, y_train, batch_size=128, epochs=50, validation_split=0.1)"
   ]
  },
  {
   "cell_type": "markdown",
   "metadata": {
    "id": "DpVqk7hSakkI"
   },
   "source": [
    "## Evaluación"
   ]
  },
  {
   "cell_type": "code",
   "execution_count": 28,
   "metadata": {
    "executionInfo": {
     "elapsed": 3,
     "status": "ok",
     "timestamp": 1681400318756,
     "user": {
      "displayName": "Jorge Sepulveda",
      "userId": "07168895330690088449"
     },
     "user_tz": 240
    },
    "id": "9g3PwfFAS3GY"
   },
   "outputs": [],
   "source": [
    "from sklearn.metrics import r2_score"
   ]
  },
  {
   "cell_type": "code",
   "execution_count": 55,
   "metadata": {
    "colab": {
     "base_uri": "https://localhost:8080/"
    },
    "executionInfo": {
     "elapsed": 439,
     "status": "ok",
     "timestamp": 1681400779804,
     "user": {
      "displayName": "Jorge Sepulveda",
      "userId": "07168895330690088449"
     },
     "user_tz": 240
    },
    "id": "b_UV4qQ8ao74",
    "outputId": "400a31fa-db0b-42da-c06d-d0279555bfed"
   },
   "outputs": [
    {
     "name": "stdout",
     "output_type": "stream",
     "text": [
      "6/6 [==============================] - 0s 2ms/step\n"
     ]
    }
   ],
   "source": [
    "y_pred = model.predict(X_test)"
   ]
  },
  {
   "cell_type": "code",
   "execution_count": 56,
   "metadata": {
    "colab": {
     "base_uri": "https://localhost:8080/"
    },
    "executionInfo": {
     "elapsed": 3,
     "status": "ok",
     "timestamp": 1681400780261,
     "user": {
      "displayName": "Jorge Sepulveda",
      "userId": "07168895330690088449"
     },
     "user_tz": 240
    },
    "id": "lhG05iATauBv",
    "outputId": "c5e3539d-f645-48dd-9ab3-ca153743e463"
   },
   "outputs": [
    {
     "data": {
      "text/plain": [
       "0.9087738087893834"
      ]
     },
     "execution_count": 56,
     "metadata": {},
     "output_type": "execute_result"
    }
   ],
   "source": [
    "r2_score(y_test,y_pred)"
   ]
  },
  {
   "cell_type": "markdown",
   "metadata": {
    "id": "_p5y0kCJi2xO"
   },
   "source": [
    "## Evolución del entrenamiento"
   ]
  },
  {
   "cell_type": "code",
   "execution_count": 57,
   "metadata": {
    "executionInfo": {
     "elapsed": 988,
     "status": "ok",
     "timestamp": 1681400783177,
     "user": {
      "displayName": "Jorge Sepulveda",
      "userId": "07168895330690088449"
     },
     "user_tz": 240
    },
    "id": "SgorvIykjAE_"
   },
   "outputs": [],
   "source": [
    "import matplotlib.pyplot as plt\n",
    "%matplotlib inline"
   ]
  },
  {
   "cell_type": "code",
   "execution_count": 59,
   "metadata": {
    "colab": {
     "base_uri": "https://localhost:8080/",
     "height": 469
    },
    "executionInfo": {
     "elapsed": 1162,
     "status": "ok",
     "timestamp": 1681400806174,
     "user": {
      "displayName": "Jorge Sepulveda",
      "userId": "07168895330690088449"
     },
     "user_tz": 240
    },
    "id": "MXRTAJK1jJ-I",
    "outputId": "2dfce5c3-6823-4b1a-b33c-b4affeacf8f3"
   },
   "outputs": [
    {
     "data": {
      "text/plain": [
       "<matplotlib.legend.Legend at 0x7f1ef0620fd0>"
      ]
     },
     "execution_count": 59,
     "metadata": {},
     "output_type": "execute_result"
    },
    {
     "data": {
      "image/png": "[encoded data removed]",
      "text/plain": [
       "<Figure size 640x480 with 1 Axes>"
      ]
     },
     "metadata": {},
     "output_type": "display_data"
    }
   ],
   "source": [
    "plt.title('Train Set')\n",
    "plt.plot(history.history['r2'], label='r2')\n",
    "plt.plot(history.history['loss'], label='loss')\n",
    "plt.legend(loc=0)"
   ]
  },
  {
   "cell_type": "code",
   "execution_count": 60,
   "metadata": {
    "colab": {
     "base_uri": "https://localhost:8080/",
     "height": 469
    },
    "executionInfo": {
     "elapsed": 1145,
     "status": "ok",
     "timestamp": 1681400819031,
     "user": {
      "displayName": "Jorge Sepulveda",
      "userId": "07168895330690088449"
     },
     "user_tz": 240
    },
    "id": "JdGSHthDjgVC",
    "outputId": "1090c802-e35e-4b5e-9047-90ecc7c7ba0b"
   },
   "outputs": [
    {
     "data": {
      "text/plain": [
       "<matplotlib.legend.Legend at 0x7f1f5c12f940>"
      ]
     },
     "execution_count": 60,
     "metadata": {},
     "output_type": "execute_result"
    },
    {
     "data": {
      "image/png": "[encoded data removed]",
      "text/plain": [
       "<Figure size 640x480 with 1 Axes>"
      ]
     },
     "metadata": {},
     "output_type": "display_data"
    }
   ],
   "source": [
    "plt.title('Validation Set')\n",
    "plt.plot(history.history['val_r2'], label='r2')\n",
    "plt.plot(history.history['val_loss'], label='loss')\n",
    "plt.legend(loc=0)"
   ]
  },
  {
   "cell_type": "code",
   "execution_count": 58,
   "metadata": {
    "executionInfo": {
     "elapsed": 2,
     "status": "ok",
     "timestamp": 1681400785172,
     "user": {
      "displayName": "Jorge Sepulveda",
      "userId": "07168895330690088449"
     },
     "user_tz": 240
    },
    "id": "ed7ETtTbk4cW"
   },
   "outputs": [],
   "source": []
  }
 ],
 "metadata": {
  "colab": {
   "authorship_tag": "ABX9TyNujbq/TY6cS4tqIUAe2ins",
   "provenance": []
  },
  "kernelspec": {
   "display_name": "Python 3 (ipykernel)",
   "language": "python",
   "name": "python3"
  },
  "language_info": {
   "codemirror_mode": {
    "name": "ipython",
    "version": 3
   },
   "file_extension": ".py",
   "mimetype": "text/x-python",
   "name": "python",
   "nbconvert_exporter": "python",
   "pygments_lexer": "ipython3",
   "version": "3.10.9"
  }
 },
 "nbformat": 4,
 "nbformat_minor": 1
}
