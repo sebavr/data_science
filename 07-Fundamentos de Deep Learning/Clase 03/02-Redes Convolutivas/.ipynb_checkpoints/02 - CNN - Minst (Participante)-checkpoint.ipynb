{
 "cells": [
  {
   "cell_type": "markdown",
   "metadata": {
    "id": "SPZ_oFwfxQug"
   },
   "source": [
    "# Reconocimiento Dígitos DB MINST con CNN"
   ]
  },
  {
   "cell_type": "code",
   "execution_count": 1,
   "metadata": {
    "id": "2u-cBUiaxOFW"
   },
   "outputs": [],
   "source": [
    "import numpy as np\n",
    "import pandas as pd\n",
    "import matplotlib.pyplot as plt"
   ]
  },
  {
   "cell_type": "markdown",
   "metadata": {
    "id": "3KiZbwVNxkUM"
   },
   "source": [
    "#### Importación de los datos"
   ]
  },
  {
   "cell_type": "code",
   "execution_count": 2,
   "metadata": {
    "id": "sLdL0Vx-xO5D"
   },
   "outputs": [],
   "source": [
    "from keras.datasets import mnist"
   ]
  },
  {
   "cell_type": "code",
   "execution_count": 25,
   "metadata": {
    "id": "YEYH6Xw9xoGg"
   },
   "outputs": [],
   "source": [
    "(X_train, y_train), (X_test, y_test) = mnist.load_data()"
   ]
  },
  {
   "cell_type": "markdown",
   "metadata": {
    "id": "19bXnpsSyqn2"
   },
   "source": [
    "#### Exploracion de los datos"
   ]
  },
  {
   "cell_type": "code",
   "execution_count": null,
   "metadata": {
    "colab": {
     "base_uri": "https://localhost:8080/"
    },
    "id": "ZYjvkRl7xpd6",
    "outputId": "32534632-55c8-4ab7-9317-d56a306d7dc9"
   },
   "outputs": [],
   "source": [
    "print(X_train[0].shape)"
   ]
  },
  {
   "cell_type": "code",
   "execution_count": null,
   "metadata": {
    "colab": {
     "base_uri": "https://localhost:8080/"
    },
    "id": "0M3uhQTIyaH7",
    "outputId": "46bbb5dc-b5ae-4339-ce46-69c958e8ccf9"
   },
   "outputs": [],
   "source": [
    "y_train[0]"
   ]
  },
  {
   "cell_type": "code",
   "execution_count": null,
   "metadata": {
    "colab": {
     "base_uri": "https://localhost:8080/",
     "height": 486
    },
    "id": "T5-2VxKJyFW4",
    "outputId": "e113dc2c-791c-4ae0-866a-edafc2cdc9d7"
   },
   "outputs": [],
   "source": [
    "fig = plt.figure()\n",
    "plt.subplot(2,1,1)\n",
    "plt.imshow(X_train[0], cmap='gray', interpolation='none')\n",
    "plt.title(\"Digito: {}\".format(y_train[0]))\n",
    "plt.subplot(2,1,2)\n",
    "plt.hist(X_train[0].reshape(784))\n",
    "plt.title(\"Distribucion de valores de pixeles\")\n",
    "plt.tight_layout()\n",
    "plt.show()"
   ]
  },
  {
   "cell_type": "code",
   "execution_count": null,
   "metadata": {
    "colab": {
     "base_uri": "https://localhost:8080/",
     "height": 486
    },
    "id": "BdU7YwRBxsvd",
    "outputId": "ce5f2fc3-fe76-4c12-e85a-1ba0952ce0c7"
   },
   "outputs": [],
   "source": [
    "for i in range(9):\n",
    "    plt.subplot(3,3,i+1)\n",
    "    plt.tight_layout()\n",
    "    plt.imshow(X_train[i], cmap='gray', interpolation='none')\n",
    "    plt.title(\"Digito: {}\".format(y_train[i]))"
   ]
  },
  {
   "cell_type": "markdown",
   "metadata": {
    "id": "jxxxlkrGz5QZ"
   },
   "source": [
    "#### Preprocesamiento"
   ]
  },
  {
   "cell_type": "markdown",
   "metadata": {
    "id": "MQh4ols92Pmm"
   },
   "source": [
    "Primero escalamos los datos, como los valores van de 0 a 255, basta solamente con dividir por 255"
   ]
  },
  {
   "cell_type": "code",
   "execution_count": 11,
   "metadata": {
    "id": "5PbQv6vM0U59"
   },
   "outputs": [],
   "source": []
  },
  {
   "cell_type": "markdown",
   "metadata": {
    "id": "eRXe4xQY1T7e"
   },
   "source": [
    "Ahora, lo llevaremos de un shape (60000, 28, 28) lo transformaremos en un shape (60000, 28, 28, 1). Esto, porque así lo requiere keras:"
   ]
  },
  {
   "cell_type": "code",
   "execution_count": null,
   "metadata": {
    "colab": {
     "base_uri": "https://localhost:8080/"
    },
    "id": "cD5PhwDtxvqh",
    "outputId": "7cb3b526-9a37-4dfa-ff2c-084953d6366e"
   },
   "outputs": [],
   "source": []
  },
  {
   "cell_type": "code",
   "execution_count": 40,
   "metadata": {
    "id": "YSe8tbNj0LJe"
   },
   "outputs": [],
   "source": []
  },
  {
   "cell_type": "code",
   "execution_count": null,
   "metadata": {
    "colab": {
     "base_uri": "https://localhost:8080/"
    },
    "id": "qvQuSMtkCEkp",
    "outputId": "b577182d-89fa-4f48-e160-97102d73b199"
   },
   "outputs": [],
   "source": []
  },
  {
   "cell_type": "markdown",
   "metadata": {
    "id": "xkTRnBlm27cX"
   },
   "source": [
    "#### Seguimos con la transformación de la respuesta, se debe llevar a un vector"
   ]
  },
  {
   "cell_type": "code",
   "execution_count": 12,
   "metadata": {
    "id": "jzLZ9iBS3M6f"
   },
   "outputs": [],
   "source": []
  },
  {
   "cell_type": "code",
   "execution_count": 13,
   "metadata": {
    "id": "jt-9KAIO0W_1"
   },
   "outputs": [],
   "source": []
  },
  {
   "cell_type": "code",
   "execution_count": null,
   "metadata": {
    "colab": {
     "base_uri": "https://localhost:8080/"
    },
    "id": "eLXiXf8k0ZRy",
    "outputId": "f2bff8b5-8b29-4fcf-e167-a044036a05bf"
   },
   "outputs": [],
   "source": []
  },
  {
   "cell_type": "markdown",
   "metadata": {
    "id": "IEKRCP_e3thB"
   },
   "source": [
    "#### Diseño de la Arquitectura de la Red\n",
    "\n",
    "- Input vector: (28,28,1)\n",
    "\n",
    "- Layer Conv2D: 32 capas con kernel de 3x3 con activacion relu\n",
    "- Layer MaxPooling: con size de 2x2\n",
    "\n",
    "- Layer Conv2D: 64 capas con kernel de 3x3 con activacion relu\n",
    "- Layer MaxPooling: con size de 2x2\n",
    "\n",
    "- Layer aplanamiento\n",
    "- Layer Dropout de 0.5\n",
    "- Layer Denso: con 10 categorías y activacion softmax"
   ]
  },
  {
   "cell_type": "code",
   "execution_count": 44,
   "metadata": {
    "id": "xsmRiWoG4GXW"
   },
   "outputs": [],
   "source": []
  },
  {
   "cell_type": "code",
   "execution_count": 46,
   "metadata": {
    "id": "O8rH0L-V3afB"
   },
   "outputs": [],
   "source": [
    "\n"
   ]
  },
  {
   "cell_type": "code",
   "execution_count": null,
   "metadata": {
    "colab": {
     "base_uri": "https://localhost:8080/"
    },
    "id": "RuD8sEYKFsKL",
    "outputId": "e806be5e-2bcd-4719-9e63-3f0951f781c0"
   },
   "outputs": [],
   "source": []
  },
  {
   "cell_type": "code",
   "execution_count": 47,
   "metadata": {
    "id": "g1ZI7v1c4QWM"
   },
   "outputs": [],
   "source": []
  },
  {
   "cell_type": "markdown",
   "metadata": {
    "id": "UZ82ATr94eB_"
   },
   "source": [
    "#### Entrenamiento del Modelo"
   ]
  },
  {
   "cell_type": "code",
   "execution_count": null,
   "metadata": {
    "colab": {
     "base_uri": "https://localhost:8080/"
    },
    "id": "3Ey8FL7s4W4q",
    "outputId": "f5b72f41-2753-4a7e-acdc-4f4a4295dd5d"
   },
   "outputs": [],
   "source": []
  },
  {
   "cell_type": "code",
   "execution_count": null,
   "metadata": {},
   "outputs": [],
   "source": []
  },
  {
   "cell_type": "markdown",
   "metadata": {
    "id": "yyA9Nvfo9Yqu"
   },
   "source": [
    "#### Métricas de Evaluación"
   ]
  },
  {
   "cell_type": "code",
   "execution_count": 50,
   "metadata": {
    "id": "Df4noigS9cjb"
   },
   "outputs": [],
   "source": [
    "from sklearn.metrics import accuracy_score"
   ]
  },
  {
   "cell_type": "code",
   "execution_count": null,
   "metadata": {
    "colab": {
     "base_uri": "https://localhost:8080/"
    },
    "id": "KcVSZqPI4v1u",
    "outputId": "0c2a6f6e-ea39-4845-c4f3-72063a1b6572"
   },
   "outputs": [],
   "source": []
  },
  {
   "cell_type": "code",
   "execution_count": null,
   "metadata": {
    "colab": {
     "base_uri": "https://localhost:8080/"
    },
    "id": "BuF9egcgKgjH",
    "outputId": "b581197a-980c-40e0-9a06-3de1a9447088"
   },
   "outputs": [],
   "source": []
  },
  {
   "cell_type": "code",
   "execution_count": null,
   "metadata": {
    "id": "2UQK5eWSA5dA"
   },
   "outputs": [],
   "source": []
  }
 ],
 "metadata": {
  "colab": {
   "provenance": []
  },
  "kernelspec": {
   "display_name": "Python 3 (ipykernel)",
   "language": "python",
   "name": "python3"
  },
  "language_info": {
   "codemirror_mode": {
    "name": "ipython",
    "version": 3
   },
   "file_extension": ".py",
   "mimetype": "text/x-python",
   "name": "python",
   "nbconvert_exporter": "python",
   "pygments_lexer": "ipython3",
   "version": "3.10.9"
  }
 },
 "nbformat": 4,
 "nbformat_minor": 1
}
