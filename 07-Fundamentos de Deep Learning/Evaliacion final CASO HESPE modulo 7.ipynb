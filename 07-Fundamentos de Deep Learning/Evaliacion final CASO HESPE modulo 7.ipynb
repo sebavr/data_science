{
 "cells": [
  {
   "cell_type": "markdown",
   "id": "34dbac18",
   "metadata": {},
   "source": [
    "### Evaluación Final – Caso HESPE ANN\n",
    "#### Contexto del Problema\n",
    "Usted ha sido contratado como parte de un equipo de análisis del rendimiento de estudiantes en \n",
    "la facultad de ingeniería y de ciencias de la universidad de Wisconsin, para participar en el \n",
    "proyecto HESPE (Higher Education Student Performance Evaluation). Deberá, por lo tanto, poner a \n",
    "prueba todas las habilidades y conocimientos adquiridos a lo largo de este curso. \n",
    "En este nuevo desafío, su objetivo es incorporar a su investigación modelos de redes neuronales\n",
    "para elaborar un modelo de aprendizaje de máquina que permita realizar predicciones sobre el \n",
    "resultado académico. Tome como base el trabajo realizado durante los últimos módulos.\n",
    "Algunos lineamientos:\n",
    "*  Utilice distintas arquitecturas (capas ocultas, nodos)\n",
    "* Utilice distintas combinaciones de funciones de activación y dropout\n",
    "* Utilice distintos optimizadores e hiperparámetros de entrenamiento\n",
    "* Presente el modelo definitivo que considerará y explique las decisiones que tomó para elegirlo\n"
   ]
  },
  {
   "cell_type": "markdown",
   "id": "1c212d73",
   "metadata": {},
   "source": [
    "### Respuesta\n",
    "\n",
    "* Como se ha analizado antes, el problema HESPE ya se ha caracterizado por su exploración de datos. Por lo que ahora se enfocara directamente en los modelos."
   ]
  },
  {
   "cell_type": "code",
   "execution_count": 71,
   "id": "50d89f3b",
   "metadata": {},
   "outputs": [],
   "source": [
    "#Cargar librerias\n",
    "import pandas as pd\n",
    "import numpy as np\n",
    "import matplotlib.pyplot as plt\n",
    "import seaborn as sns\n",
    "%matplotlib inline"
   ]
  },
  {
   "cell_type": "code",
   "execution_count": 72,
   "id": "6e6354fc",
   "metadata": {},
   "outputs": [],
   "source": [
    "df = pd.read_csv('hespe-data.csv',sep=';')"
   ]
  },
  {
   "cell_type": "code",
   "execution_count": 73,
   "id": "b8f79313",
   "metadata": {},
   "outputs": [
    {
     "data": {
      "text/html": [
       "<div>\n",
       "<style scoped>\n",
       "    .dataframe tbody tr th:only-of-type {\n",
       "        vertical-align: middle;\n",
       "    }\n",
       "\n",
       "    .dataframe tbody tr th {\n",
       "        vertical-align: top;\n",
       "    }\n",
       "\n",
       "    .dataframe thead th {\n",
       "        text-align: right;\n",
       "    }\n",
       "</style>\n",
       "<table border=\"1\" class=\"dataframe\">\n",
       "  <thead>\n",
       "    <tr style=\"text-align: right;\">\n",
       "      <th></th>\n",
       "      <th>student_id</th>\n",
       "      <th>age</th>\n",
       "      <th>sex</th>\n",
       "      <th>graduated_h_school_type</th>\n",
       "      <th>scholarship_type</th>\n",
       "      <th>additional_work</th>\n",
       "      <th>activity</th>\n",
       "      <th>partner</th>\n",
       "      <th>total_salary</th>\n",
       "      <th>transport</th>\n",
       "      <th>...</th>\n",
       "      <th>preparation_midterm_company</th>\n",
       "      <th>preparation_midterm_time</th>\n",
       "      <th>taking_notes</th>\n",
       "      <th>listenning</th>\n",
       "      <th>discussion_improves_interest</th>\n",
       "      <th>flip_classrom</th>\n",
       "      <th>grade_previous</th>\n",
       "      <th>grade_expected</th>\n",
       "      <th>course_id</th>\n",
       "      <th>grade</th>\n",
       "    </tr>\n",
       "  </thead>\n",
       "  <tbody>\n",
       "    <tr>\n",
       "      <th>0</th>\n",
       "      <td>STUDENT1</td>\n",
       "      <td>2</td>\n",
       "      <td>2</td>\n",
       "      <td>3</td>\n",
       "      <td>3</td>\n",
       "      <td>1</td>\n",
       "      <td>2</td>\n",
       "      <td>2</td>\n",
       "      <td>1</td>\n",
       "      <td>1</td>\n",
       "      <td>...</td>\n",
       "      <td>1</td>\n",
       "      <td>1</td>\n",
       "      <td>3</td>\n",
       "      <td>2</td>\n",
       "      <td>1</td>\n",
       "      <td>2</td>\n",
       "      <td>1</td>\n",
       "      <td>1</td>\n",
       "      <td>1</td>\n",
       "      <td>1</td>\n",
       "    </tr>\n",
       "    <tr>\n",
       "      <th>1</th>\n",
       "      <td>STUDENT2</td>\n",
       "      <td>2</td>\n",
       "      <td>2</td>\n",
       "      <td>3</td>\n",
       "      <td>3</td>\n",
       "      <td>1</td>\n",
       "      <td>2</td>\n",
       "      <td>2</td>\n",
       "      <td>1</td>\n",
       "      <td>1</td>\n",
       "      <td>...</td>\n",
       "      <td>1</td>\n",
       "      <td>1</td>\n",
       "      <td>3</td>\n",
       "      <td>2</td>\n",
       "      <td>3</td>\n",
       "      <td>2</td>\n",
       "      <td>2</td>\n",
       "      <td>3</td>\n",
       "      <td>1</td>\n",
       "      <td>1</td>\n",
       "    </tr>\n",
       "    <tr>\n",
       "      <th>2</th>\n",
       "      <td>STUDENT3</td>\n",
       "      <td>2</td>\n",
       "      <td>2</td>\n",
       "      <td>2</td>\n",
       "      <td>3</td>\n",
       "      <td>2</td>\n",
       "      <td>2</td>\n",
       "      <td>2</td>\n",
       "      <td>2</td>\n",
       "      <td>4</td>\n",
       "      <td>...</td>\n",
       "      <td>1</td>\n",
       "      <td>1</td>\n",
       "      <td>2</td>\n",
       "      <td>2</td>\n",
       "      <td>1</td>\n",
       "      <td>1</td>\n",
       "      <td>2</td>\n",
       "      <td>2</td>\n",
       "      <td>1</td>\n",
       "      <td>1</td>\n",
       "    </tr>\n",
       "    <tr>\n",
       "      <th>3</th>\n",
       "      <td>STUDENT4</td>\n",
       "      <td>1</td>\n",
       "      <td>1</td>\n",
       "      <td>1</td>\n",
       "      <td>3</td>\n",
       "      <td>1</td>\n",
       "      <td>2</td>\n",
       "      <td>1</td>\n",
       "      <td>2</td>\n",
       "      <td>1</td>\n",
       "      <td>...</td>\n",
       "      <td>1</td>\n",
       "      <td>2</td>\n",
       "      <td>3</td>\n",
       "      <td>2</td>\n",
       "      <td>2</td>\n",
       "      <td>1</td>\n",
       "      <td>3</td>\n",
       "      <td>2</td>\n",
       "      <td>1</td>\n",
       "      <td>1</td>\n",
       "    </tr>\n",
       "    <tr>\n",
       "      <th>4</th>\n",
       "      <td>STUDENT5</td>\n",
       "      <td>2</td>\n",
       "      <td>2</td>\n",
       "      <td>1</td>\n",
       "      <td>3</td>\n",
       "      <td>2</td>\n",
       "      <td>2</td>\n",
       "      <td>1</td>\n",
       "      <td>3</td>\n",
       "      <td>1</td>\n",
       "      <td>...</td>\n",
       "      <td>2</td>\n",
       "      <td>1</td>\n",
       "      <td>2</td>\n",
       "      <td>2</td>\n",
       "      <td>2</td>\n",
       "      <td>1</td>\n",
       "      <td>2</td>\n",
       "      <td>2</td>\n",
       "      <td>1</td>\n",
       "      <td>1</td>\n",
       "    </tr>\n",
       "  </tbody>\n",
       "</table>\n",
       "<p>5 rows × 33 columns</p>\n",
       "</div>"
      ],
      "text/plain": [
       "  student_id  age  sex  graduated_h_school_type  scholarship_type  \\\n",
       "0   STUDENT1    2    2                        3                 3   \n",
       "1   STUDENT2    2    2                        3                 3   \n",
       "2   STUDENT3    2    2                        2                 3   \n",
       "3   STUDENT4    1    1                        1                 3   \n",
       "4   STUDENT5    2    2                        1                 3   \n",
       "\n",
       "   additional_work  activity  partner  total_salary  transport  ...  \\\n",
       "0                1         2        2             1          1  ...   \n",
       "1                1         2        2             1          1  ...   \n",
       "2                2         2        2             2          4  ...   \n",
       "3                1         2        1             2          1  ...   \n",
       "4                2         2        1             3          1  ...   \n",
       "\n",
       "   preparation_midterm_company  preparation_midterm_time  taking_notes  \\\n",
       "0                            1                         1             3   \n",
       "1                            1                         1             3   \n",
       "2                            1                         1             2   \n",
       "3                            1                         2             3   \n",
       "4                            2                         1             2   \n",
       "\n",
       "   listenning  discussion_improves_interest  flip_classrom  grade_previous  \\\n",
       "0           2                             1              2               1   \n",
       "1           2                             3              2               2   \n",
       "2           2                             1              1               2   \n",
       "3           2                             2              1               3   \n",
       "4           2                             2              1               2   \n",
       "\n",
       "   grade_expected  course_id  grade  \n",
       "0               1          1      1  \n",
       "1               3          1      1  \n",
       "2               2          1      1  \n",
       "3               2          1      1  \n",
       "4               2          1      1  \n",
       "\n",
       "[5 rows x 33 columns]"
      ]
     },
     "execution_count": 73,
     "metadata": {},
     "output_type": "execute_result"
    }
   ],
   "source": [
    "df.head()"
   ]
  },
  {
   "cell_type": "markdown",
   "id": "9f50e756",
   "metadata": {},
   "source": [
    "### Planteamiento del modelo"
   ]
  },
  {
   "cell_type": "code",
   "execution_count": 74,
   "id": "62f18f49",
   "metadata": {},
   "outputs": [],
   "source": [
    "X = df.drop([\"student_id\",'grade'],axis=1)\n",
    "\n",
    "y=df[['grade']]"
   ]
  },
  {
   "cell_type": "code",
   "execution_count": 75,
   "id": "52ca034b",
   "metadata": {},
   "outputs": [
    {
     "data": {
      "text/html": [
       "<div>\n",
       "<style scoped>\n",
       "    .dataframe tbody tr th:only-of-type {\n",
       "        vertical-align: middle;\n",
       "    }\n",
       "\n",
       "    .dataframe tbody tr th {\n",
       "        vertical-align: top;\n",
       "    }\n",
       "\n",
       "    .dataframe thead th {\n",
       "        text-align: right;\n",
       "    }\n",
       "</style>\n",
       "<table border=\"1\" class=\"dataframe\">\n",
       "  <thead>\n",
       "    <tr style=\"text-align: right;\">\n",
       "      <th></th>\n",
       "      <th>age</th>\n",
       "      <th>sex</th>\n",
       "      <th>graduated_h_school_type</th>\n",
       "      <th>scholarship_type</th>\n",
       "      <th>additional_work</th>\n",
       "      <th>activity</th>\n",
       "      <th>partner</th>\n",
       "      <th>total_salary</th>\n",
       "      <th>transport</th>\n",
       "      <th>accomodation</th>\n",
       "      <th>...</th>\n",
       "      <th>attendances_classes</th>\n",
       "      <th>preparation_midterm_company</th>\n",
       "      <th>preparation_midterm_time</th>\n",
       "      <th>taking_notes</th>\n",
       "      <th>listenning</th>\n",
       "      <th>discussion_improves_interest</th>\n",
       "      <th>flip_classrom</th>\n",
       "      <th>grade_previous</th>\n",
       "      <th>grade_expected</th>\n",
       "      <th>course_id</th>\n",
       "    </tr>\n",
       "  </thead>\n",
       "  <tbody>\n",
       "    <tr>\n",
       "      <th>0</th>\n",
       "      <td>2</td>\n",
       "      <td>2</td>\n",
       "      <td>3</td>\n",
       "      <td>3</td>\n",
       "      <td>1</td>\n",
       "      <td>2</td>\n",
       "      <td>2</td>\n",
       "      <td>1</td>\n",
       "      <td>1</td>\n",
       "      <td>1</td>\n",
       "      <td>...</td>\n",
       "      <td>1</td>\n",
       "      <td>1</td>\n",
       "      <td>1</td>\n",
       "      <td>3</td>\n",
       "      <td>2</td>\n",
       "      <td>1</td>\n",
       "      <td>2</td>\n",
       "      <td>1</td>\n",
       "      <td>1</td>\n",
       "      <td>1</td>\n",
       "    </tr>\n",
       "    <tr>\n",
       "      <th>1</th>\n",
       "      <td>2</td>\n",
       "      <td>2</td>\n",
       "      <td>3</td>\n",
       "      <td>3</td>\n",
       "      <td>1</td>\n",
       "      <td>2</td>\n",
       "      <td>2</td>\n",
       "      <td>1</td>\n",
       "      <td>1</td>\n",
       "      <td>1</td>\n",
       "      <td>...</td>\n",
       "      <td>1</td>\n",
       "      <td>1</td>\n",
       "      <td>1</td>\n",
       "      <td>3</td>\n",
       "      <td>2</td>\n",
       "      <td>3</td>\n",
       "      <td>2</td>\n",
       "      <td>2</td>\n",
       "      <td>3</td>\n",
       "      <td>1</td>\n",
       "    </tr>\n",
       "    <tr>\n",
       "      <th>2</th>\n",
       "      <td>2</td>\n",
       "      <td>2</td>\n",
       "      <td>2</td>\n",
       "      <td>3</td>\n",
       "      <td>2</td>\n",
       "      <td>2</td>\n",
       "      <td>2</td>\n",
       "      <td>2</td>\n",
       "      <td>4</td>\n",
       "      <td>2</td>\n",
       "      <td>...</td>\n",
       "      <td>1</td>\n",
       "      <td>1</td>\n",
       "      <td>1</td>\n",
       "      <td>2</td>\n",
       "      <td>2</td>\n",
       "      <td>1</td>\n",
       "      <td>1</td>\n",
       "      <td>2</td>\n",
       "      <td>2</td>\n",
       "      <td>1</td>\n",
       "    </tr>\n",
       "    <tr>\n",
       "      <th>3</th>\n",
       "      <td>1</td>\n",
       "      <td>1</td>\n",
       "      <td>1</td>\n",
       "      <td>3</td>\n",
       "      <td>1</td>\n",
       "      <td>2</td>\n",
       "      <td>1</td>\n",
       "      <td>2</td>\n",
       "      <td>1</td>\n",
       "      <td>2</td>\n",
       "      <td>...</td>\n",
       "      <td>1</td>\n",
       "      <td>1</td>\n",
       "      <td>2</td>\n",
       "      <td>3</td>\n",
       "      <td>2</td>\n",
       "      <td>2</td>\n",
       "      <td>1</td>\n",
       "      <td>3</td>\n",
       "      <td>2</td>\n",
       "      <td>1</td>\n",
       "    </tr>\n",
       "    <tr>\n",
       "      <th>4</th>\n",
       "      <td>2</td>\n",
       "      <td>2</td>\n",
       "      <td>1</td>\n",
       "      <td>3</td>\n",
       "      <td>2</td>\n",
       "      <td>2</td>\n",
       "      <td>1</td>\n",
       "      <td>3</td>\n",
       "      <td>1</td>\n",
       "      <td>4</td>\n",
       "      <td>...</td>\n",
       "      <td>1</td>\n",
       "      <td>2</td>\n",
       "      <td>1</td>\n",
       "      <td>2</td>\n",
       "      <td>2</td>\n",
       "      <td>2</td>\n",
       "      <td>1</td>\n",
       "      <td>2</td>\n",
       "      <td>2</td>\n",
       "      <td>1</td>\n",
       "    </tr>\n",
       "  </tbody>\n",
       "</table>\n",
       "<p>5 rows × 31 columns</p>\n",
       "</div>"
      ],
      "text/plain": [
       "   age  sex  graduated_h_school_type  scholarship_type  additional_work  \\\n",
       "0    2    2                        3                 3                1   \n",
       "1    2    2                        3                 3                1   \n",
       "2    2    2                        2                 3                2   \n",
       "3    1    1                        1                 3                1   \n",
       "4    2    2                        1                 3                2   \n",
       "\n",
       "   activity  partner  total_salary  transport  accomodation  ...  \\\n",
       "0         2        2             1          1             1  ...   \n",
       "1         2        2             1          1             1  ...   \n",
       "2         2        2             2          4             2  ...   \n",
       "3         2        1             2          1             2  ...   \n",
       "4         2        1             3          1             4  ...   \n",
       "\n",
       "   attendances_classes  preparation_midterm_company  preparation_midterm_time  \\\n",
       "0                    1                            1                         1   \n",
       "1                    1                            1                         1   \n",
       "2                    1                            1                         1   \n",
       "3                    1                            1                         2   \n",
       "4                    1                            2                         1   \n",
       "\n",
       "   taking_notes  listenning  discussion_improves_interest  flip_classrom  \\\n",
       "0             3           2                             1              2   \n",
       "1             3           2                             3              2   \n",
       "2             2           2                             1              1   \n",
       "3             3           2                             2              1   \n",
       "4             2           2                             2              1   \n",
       "\n",
       "   grade_previous  grade_expected  course_id  \n",
       "0               1               1          1  \n",
       "1               2               3          1  \n",
       "2               2               2          1  \n",
       "3               3               2          1  \n",
       "4               2               2          1  \n",
       "\n",
       "[5 rows x 31 columns]"
      ]
     },
     "execution_count": 75,
     "metadata": {},
     "output_type": "execute_result"
    }
   ],
   "source": [
    "X.head()"
   ]
  },
  {
   "cell_type": "code",
   "execution_count": 76,
   "id": "d0f8f422",
   "metadata": {},
   "outputs": [
    {
     "data": {
      "text/html": [
       "<div>\n",
       "<style scoped>\n",
       "    .dataframe tbody tr th:only-of-type {\n",
       "        vertical-align: middle;\n",
       "    }\n",
       "\n",
       "    .dataframe tbody tr th {\n",
       "        vertical-align: top;\n",
       "    }\n",
       "\n",
       "    .dataframe thead th {\n",
       "        text-align: right;\n",
       "    }\n",
       "</style>\n",
       "<table border=\"1\" class=\"dataframe\">\n",
       "  <thead>\n",
       "    <tr style=\"text-align: right;\">\n",
       "      <th></th>\n",
       "      <th>grade</th>\n",
       "    </tr>\n",
       "  </thead>\n",
       "  <tbody>\n",
       "    <tr>\n",
       "      <th>0</th>\n",
       "      <td>1</td>\n",
       "    </tr>\n",
       "    <tr>\n",
       "      <th>1</th>\n",
       "      <td>1</td>\n",
       "    </tr>\n",
       "    <tr>\n",
       "      <th>2</th>\n",
       "      <td>1</td>\n",
       "    </tr>\n",
       "    <tr>\n",
       "      <th>3</th>\n",
       "      <td>1</td>\n",
       "    </tr>\n",
       "    <tr>\n",
       "      <th>4</th>\n",
       "      <td>1</td>\n",
       "    </tr>\n",
       "    <tr>\n",
       "      <th>...</th>\n",
       "      <td>...</td>\n",
       "    </tr>\n",
       "    <tr>\n",
       "      <th>140</th>\n",
       "      <td>5</td>\n",
       "    </tr>\n",
       "    <tr>\n",
       "      <th>141</th>\n",
       "      <td>5</td>\n",
       "    </tr>\n",
       "    <tr>\n",
       "      <th>142</th>\n",
       "      <td>1</td>\n",
       "    </tr>\n",
       "    <tr>\n",
       "      <th>143</th>\n",
       "      <td>4</td>\n",
       "    </tr>\n",
       "    <tr>\n",
       "      <th>144</th>\n",
       "      <td>3</td>\n",
       "    </tr>\n",
       "  </tbody>\n",
       "</table>\n",
       "<p>145 rows × 1 columns</p>\n",
       "</div>"
      ],
      "text/plain": [
       "     grade\n",
       "0        1\n",
       "1        1\n",
       "2        1\n",
       "3        1\n",
       "4        1\n",
       "..     ...\n",
       "140      5\n",
       "141      5\n",
       "142      1\n",
       "143      4\n",
       "144      3\n",
       "\n",
       "[145 rows x 1 columns]"
      ]
     },
     "execution_count": 76,
     "metadata": {},
     "output_type": "execute_result"
    }
   ],
   "source": [
    "y"
   ]
  },
  {
   "cell_type": "markdown",
   "id": "65f86211",
   "metadata": {},
   "source": [
    "# Usando ANN"
   ]
  },
  {
   "cell_type": "markdown",
   "id": "7b18a157",
   "metadata": {},
   "source": [
    "### Preprocesamiento"
   ]
  },
  {
   "cell_type": "markdown",
   "id": "7e62beae",
   "metadata": {},
   "source": [
    "#### Escalamiento"
   ]
  },
  {
   "cell_type": "code",
   "execution_count": 77,
   "id": "3cee6fcb",
   "metadata": {},
   "outputs": [],
   "source": [
    "from sklearn.preprocessing import StandardScaler"
   ]
  },
  {
   "cell_type": "code",
   "execution_count": 78,
   "id": "466731a8",
   "metadata": {},
   "outputs": [],
   "source": [
    "scaler = StandardScaler()\n",
    "X_enc = scaler.fit_transform(X)"
   ]
  },
  {
   "cell_type": "code",
   "execution_count": 79,
   "id": "5af58f67",
   "metadata": {},
   "outputs": [
    {
     "data": {
      "text/plain": [
       "array([[ 0.62076591,  0.81649658,  1.97095572, -0.71287324, -1.39970842,\n",
       "         0.81649658,  0.8521681 , -0.61726487, -0.58697039, -0.93567462,\n",
       "        -1.05244435, -0.55482123,  0.14241298, -0.35249748, -0.44694921,\n",
       "         1.65508309,  0.87502947,  0.09842846, -0.02563681, -0.52146891,\n",
       "        -0.35306336, -0.56407607, -0.55150254, -0.40660449,  0.80849333,\n",
       "        -0.08205236, -2.31314559,  0.23908058, -1.63825152, -1.88766626,\n",
       "        -0.96372631],\n",
       "       [ 0.62076591,  0.81649658,  1.97095572, -0.71287324, -1.39970842,\n",
       "         0.81649658,  0.8521681 , -0.61726487, -0.58697039, -0.93567462,\n",
       "        -0.23199042,  0.31962527, -0.59508281, -0.35249748, -0.44694921,\n",
       "        -1.36362192, -0.21875737,  0.09842846, -0.02563681, -0.52146891,\n",
       "        -0.35306336, -0.56407607, -0.55150254, -0.40660449,  0.80849333,\n",
       "        -0.08205236,  1.00770699,  0.23908058, -0.86699675,  0.3020266 ,\n",
       "        -0.96372631]])"
      ]
     },
     "execution_count": 79,
     "metadata": {},
     "output_type": "execute_result"
    }
   ],
   "source": [
    "X_enc[:2]"
   ]
  },
  {
   "cell_type": "markdown",
   "id": "655ebb62",
   "metadata": {},
   "source": [
    "### One hot Y"
   ]
  },
  {
   "cell_type": "code",
   "execution_count": 80,
   "id": "9de8908b",
   "metadata": {},
   "outputs": [],
   "source": [
    "from sklearn.preprocessing import OneHotEncoder"
   ]
  },
  {
   "cell_type": "code",
   "execution_count": 81,
   "id": "27f08fff",
   "metadata": {},
   "outputs": [],
   "source": [
    "enc = OneHotEncoder()"
   ]
  },
  {
   "cell_type": "code",
   "execution_count": 82,
   "id": "cbfc6127",
   "metadata": {},
   "outputs": [],
   "source": [
    "y_enc = enc.fit_transform(y.values.reshape(-1,1)).toarray()"
   ]
  },
  {
   "cell_type": "code",
   "execution_count": 83,
   "id": "92d9dae1",
   "metadata": {},
   "outputs": [
    {
     "data": {
      "text/plain": [
       "(145, 8)"
      ]
     },
     "execution_count": 83,
     "metadata": {},
     "output_type": "execute_result"
    }
   ],
   "source": [
    "y_enc.shape"
   ]
  },
  {
   "cell_type": "code",
   "execution_count": null,
   "id": "e8c3a630",
   "metadata": {},
   "outputs": [],
   "source": []
  },
  {
   "cell_type": "markdown",
   "id": "9136eac2",
   "metadata": {},
   "source": [
    "### Validacion Cruzada"
   ]
  },
  {
   "cell_type": "code",
   "execution_count": 84,
   "id": "14fa6a27",
   "metadata": {},
   "outputs": [],
   "source": [
    "from sklearn.model_selection import train_test_split"
   ]
  },
  {
   "cell_type": "code",
   "execution_count": 85,
   "id": "adb76f63",
   "metadata": {},
   "outputs": [],
   "source": [
    "X_train, X_test, y_train, y_test = train_test_split(X_enc, y_enc, test_size=0.2, random_state=21)\n",
    "\n"
   ]
  },
  {
   "cell_type": "code",
   "execution_count": 86,
   "id": "61b5232e",
   "metadata": {},
   "outputs": [
    {
     "data": {
      "text/plain": [
       "(116, 31)"
      ]
     },
     "execution_count": 86,
     "metadata": {},
     "output_type": "execute_result"
    }
   ],
   "source": [
    "X_train.shape"
   ]
  },
  {
   "cell_type": "code",
   "execution_count": 87,
   "id": "83f26819",
   "metadata": {},
   "outputs": [
    {
     "data": {
      "text/plain": [
       "(29, 31)"
      ]
     },
     "execution_count": 87,
     "metadata": {},
     "output_type": "execute_result"
    }
   ],
   "source": [
    "X_test.shape"
   ]
  },
  {
   "cell_type": "code",
   "execution_count": 88,
   "id": "f67d7dbb",
   "metadata": {},
   "outputs": [
    {
     "data": {
      "text/plain": [
       "(145, 31)"
      ]
     },
     "execution_count": 88,
     "metadata": {},
     "output_type": "execute_result"
    }
   ],
   "source": [
    "X_enc.shape"
   ]
  },
  {
   "cell_type": "markdown",
   "id": "1c59fa90",
   "metadata": {},
   "source": [
    "### Arquitectura de la red neuronal"
   ]
  },
  {
   "cell_type": "markdown",
   "id": "e5233fdd",
   "metadata": {},
   "source": [
    "En este caso, utilizaremos capas densas (fully connected)\n",
    "\n",
    "*  Probar con activation: relu, tanh, linear\n",
    "*  Probar optimizadores: Adam, SGD, RMSProp, Adagrad\n",
    "*  Probar combinaciones de capas\n",
    "\n",
    "\n",
    "-  Input vector (31 nodos) activación ‘tanh’\n",
    "-  Hidden Layer 1 (62 nodos) activación ‘tanh’\n",
    "-  Hidden Layer 2 (62 nodos) activación ‘tanh’\n",
    "-  Hidden Layer 3 (80 nodos) activación ‘softmax’\n",
    "- learning rate de 0.02"
   ]
  },
  {
   "cell_type": "code",
   "execution_count": 89,
   "id": "f1deb72f",
   "metadata": {},
   "outputs": [],
   "source": [
    "import tensorflow\n",
    "from tensorflow import keras"
   ]
  },
  {
   "cell_type": "code",
   "execution_count": 90,
   "id": "e6c63441",
   "metadata": {},
   "outputs": [],
   "source": [
    "from tensorflow.keras import Sequential,Input\n",
    "from tensorflow.keras.layers import Dense, Dropout"
   ]
  },
  {
   "cell_type": "code",
   "execution_count": 162,
   "id": "29591e2d",
   "metadata": {},
   "outputs": [],
   "source": [
    "model = Sequential()\n",
    "model.add( Input(shape=(31,)) )\n",
    "model.add( Dense(120, activation='tanh') )\n",
    "model.add(Dropout(0.2))\n",
    "model.add( Dense(120, activation='tanh') )\n",
    "model.add(Dropout(0.2))\n",
    "model.add( Dense(120, activation='tanh') )\n",
    "model.add(Dropout(0.2))\n",
    "model.add( Dense(120, activation='tanh') )\n",
    "model.add(Dropout(0.2))\n",
    "model.add( Dense(8, activation='softmax') )"
   ]
  },
  {
   "cell_type": "code",
   "execution_count": 163,
   "id": "9f85fd21",
   "metadata": {},
   "outputs": [],
   "source": [
    "opt = keras.optimizers.Adam(learning_rate=0.02)\n",
    "model.compile(loss='categorical_crossentropy', optimizer=opt,\n",
    "              metrics=['accuracy'])"
   ]
  },
  {
   "cell_type": "markdown",
   "id": "295aaf4d",
   "metadata": {},
   "source": [
    "### Visualización del modelo"
   ]
  },
  {
   "cell_type": "code",
   "execution_count": 164,
   "id": "3d194ad4",
   "metadata": {},
   "outputs": [
    {
     "name": "stdout",
     "output_type": "stream",
     "text": [
      "Model: \"sequential_8\"\n",
      "_________________________________________________________________\n",
      " Layer (type)                Output Shape              Param #   \n",
      "=================================================================\n",
      " dense_26 (Dense)            (None, 120)               3840      \n",
      "                                                                 \n",
      " dropout_16 (Dropout)        (None, 120)               0         \n",
      "                                                                 \n",
      " dense_27 (Dense)            (None, 120)               14520     \n",
      "                                                                 \n",
      " dropout_17 (Dropout)        (None, 120)               0         \n",
      "                                                                 \n",
      " dense_28 (Dense)            (None, 120)               14520     \n",
      "                                                                 \n",
      " dropout_18 (Dropout)        (None, 120)               0         \n",
      "                                                                 \n",
      " dense_29 (Dense)            (None, 120)               14520     \n",
      "                                                                 \n",
      " dropout_19 (Dropout)        (None, 120)               0         \n",
      "                                                                 \n",
      " dense_30 (Dense)            (None, 8)                 968       \n",
      "                                                                 \n",
      "=================================================================\n",
      "Total params: 48368 (188.94 KB)\n",
      "Trainable params: 48368 (188.94 KB)\n",
      "Non-trainable params: 0 (0.00 Byte)\n",
      "_________________________________________________________________\n"
     ]
    }
   ],
   "source": [
    "model.summary()"
   ]
  },
  {
   "cell_type": "code",
   "execution_count": 165,
   "id": "5fc7e3c0",
   "metadata": {},
   "outputs": [],
   "source": [
    "from tensorflow.keras.utils import plot_model"
   ]
  },
  {
   "cell_type": "code",
   "execution_count": 166,
   "id": "d8db9324",
   "metadata": {},
   "outputs": [
    {
     "data": {
      "image/png": "[encoded data removed]",
      "text/plain": [
       "<IPython.core.display.Image object>"
      ]
     },
     "execution_count": 166,
     "metadata": {},
     "output_type": "execute_result"
    }
   ],
   "source": [
    "plot_model(model, show_shapes=True, show_layer_activations=True)"
   ]
  },
  {
   "cell_type": "markdown",
   "id": "044e7d7d",
   "metadata": {},
   "source": [
    "### Entrenamiento"
   ]
  },
  {
   "cell_type": "code",
   "execution_count": 167,
   "id": "6e403dc6",
   "metadata": {},
   "outputs": [
    {
     "name": "stdout",
     "output_type": "stream",
     "text": [
      "Epoch 1/50\n",
      "1/1 [==============================] - 1s 1s/step - loss: 2.3711 - accuracy: 0.0690 - val_loss: 2.3337 - val_accuracy: 0.3448\n",
      "Epoch 2/50\n",
      "1/1 [==============================] - 0s 62ms/step - loss: 1.6218 - accuracy: 0.4310 - val_loss: 2.7059 - val_accuracy: 0.3103\n",
      "Epoch 3/50\n",
      "1/1 [==============================] - 0s 58ms/step - loss: 1.4116 - accuracy: 0.4483 - val_loss: 3.2853 - val_accuracy: 0.2414\n",
      "Epoch 4/50\n",
      "1/1 [==============================] - 0s 50ms/step - loss: 1.3712 - accuracy: 0.5345 - val_loss: 2.9543 - val_accuracy: 0.3448\n",
      "Epoch 5/50\n",
      "1/1 [==============================] - 0s 53ms/step - loss: 1.0419 - accuracy: 0.6121 - val_loss: 2.9399 - val_accuracy: 0.3793\n",
      "Epoch 6/50\n",
      "1/1 [==============================] - 0s 50ms/step - loss: 0.9563 - accuracy: 0.6638 - val_loss: 3.2955 - val_accuracy: 0.2414\n",
      "Epoch 7/50\n",
      "1/1 [==============================] - 0s 50ms/step - loss: 0.8039 - accuracy: 0.7155 - val_loss: 3.6880 - val_accuracy: 0.2069\n",
      "Epoch 8/50\n",
      "1/1 [==============================] - 0s 45ms/step - loss: 0.8025 - accuracy: 0.6983 - val_loss: 3.7937 - val_accuracy: 0.2069\n",
      "Epoch 9/50\n",
      "1/1 [==============================] - 0s 44ms/step - loss: 0.6625 - accuracy: 0.7500 - val_loss: 3.8300 - val_accuracy: 0.2069\n",
      "Epoch 10/50\n",
      "1/1 [==============================] - 0s 56ms/step - loss: 0.5646 - accuracy: 0.7672 - val_loss: 3.9287 - val_accuracy: 0.2069\n",
      "Epoch 11/50\n",
      "1/1 [==============================] - 0s 57ms/step - loss: 0.4644 - accuracy: 0.8190 - val_loss: 4.1214 - val_accuracy: 0.3103\n",
      "Epoch 12/50\n",
      "1/1 [==============================] - 0s 56ms/step - loss: 0.3711 - accuracy: 0.8707 - val_loss: 4.2352 - val_accuracy: 0.3103\n",
      "Epoch 13/50\n",
      "1/1 [==============================] - 0s 61ms/step - loss: 0.3156 - accuracy: 0.8966 - val_loss: 4.3501 - val_accuracy: 0.2414\n",
      "Epoch 14/50\n",
      "1/1 [==============================] - 0s 67ms/step - loss: 0.3129 - accuracy: 0.8707 - val_loss: 4.3924 - val_accuracy: 0.2759\n",
      "Epoch 15/50\n",
      "1/1 [==============================] - 0s 60ms/step - loss: 0.3328 - accuracy: 0.8621 - val_loss: 4.4978 - val_accuracy: 0.2759\n",
      "Epoch 16/50\n",
      "1/1 [==============================] - 0s 55ms/step - loss: 0.3093 - accuracy: 0.8621 - val_loss: 4.5814 - val_accuracy: 0.2759\n",
      "Epoch 17/50\n",
      "1/1 [==============================] - 0s 55ms/step - loss: 0.2031 - accuracy: 0.9052 - val_loss: 4.6226 - val_accuracy: 0.2414\n",
      "Epoch 18/50\n",
      "1/1 [==============================] - 0s 58ms/step - loss: 0.1745 - accuracy: 0.9569 - val_loss: 4.6365 - val_accuracy: 0.2069\n",
      "Epoch 19/50\n",
      "1/1 [==============================] - 0s 54ms/step - loss: 0.1868 - accuracy: 0.9483 - val_loss: 4.6191 - val_accuracy: 0.2069\n",
      "Epoch 20/50\n",
      "1/1 [==============================] - 0s 57ms/step - loss: 0.1928 - accuracy: 0.9310 - val_loss: 4.5816 - val_accuracy: 0.2414\n",
      "Epoch 21/50\n",
      "1/1 [==============================] - 0s 51ms/step - loss: 0.2525 - accuracy: 0.9052 - val_loss: 4.5747 - val_accuracy: 0.2759\n",
      "Epoch 22/50\n",
      "1/1 [==============================] - 0s 50ms/step - loss: 0.1586 - accuracy: 0.9655 - val_loss: 4.6737 - val_accuracy: 0.2759\n",
      "Epoch 23/50\n",
      "1/1 [==============================] - 0s 55ms/step - loss: 0.1273 - accuracy: 0.9483 - val_loss: 4.7271 - val_accuracy: 0.2759\n",
      "Epoch 24/50\n",
      "1/1 [==============================] - 0s 54ms/step - loss: 0.0944 - accuracy: 0.9741 - val_loss: 4.7992 - val_accuracy: 0.2759\n",
      "Epoch 25/50\n",
      "1/1 [==============================] - 0s 54ms/step - loss: 0.0972 - accuracy: 0.9569 - val_loss: 4.9123 - val_accuracy: 0.2759\n",
      "Epoch 26/50\n",
      "1/1 [==============================] - 0s 50ms/step - loss: 0.1259 - accuracy: 0.9569 - val_loss: 5.1007 - val_accuracy: 0.2759\n",
      "Epoch 27/50\n",
      "1/1 [==============================] - 0s 46ms/step - loss: 0.1152 - accuracy: 0.9828 - val_loss: 5.3308 - val_accuracy: 0.2759\n",
      "Epoch 28/50\n",
      "1/1 [==============================] - 0s 56ms/step - loss: 0.1328 - accuracy: 0.9569 - val_loss: 5.5698 - val_accuracy: 0.2759\n",
      "Epoch 29/50\n",
      "1/1 [==============================] - 0s 57ms/step - loss: 0.0556 - accuracy: 0.9914 - val_loss: 5.7692 - val_accuracy: 0.2759\n",
      "Epoch 30/50\n",
      "1/1 [==============================] - 0s 55ms/step - loss: 0.0989 - accuracy: 0.9655 - val_loss: 5.8923 - val_accuracy: 0.2759\n",
      "Epoch 31/50\n",
      "1/1 [==============================] - 0s 55ms/step - loss: 0.1037 - accuracy: 0.9655 - val_loss: 6.0325 - val_accuracy: 0.2759\n",
      "Epoch 32/50\n",
      "1/1 [==============================] - 0s 54ms/step - loss: 0.1095 - accuracy: 0.9483 - val_loss: 6.2363 - val_accuracy: 0.2759\n",
      "Epoch 33/50\n",
      "1/1 [==============================] - 0s 53ms/step - loss: 0.0435 - accuracy: 0.9828 - val_loss: 6.4310 - val_accuracy: 0.2759\n",
      "Epoch 34/50\n",
      "1/1 [==============================] - 0s 49ms/step - loss: 0.0708 - accuracy: 0.9741 - val_loss: 6.6349 - val_accuracy: 0.2414\n",
      "Epoch 35/50\n",
      "1/1 [==============================] - 0s 49ms/step - loss: 0.0694 - accuracy: 0.9828 - val_loss: 6.7684 - val_accuracy: 0.2759\n",
      "Epoch 36/50\n",
      "1/1 [==============================] - 0s 57ms/step - loss: 0.1179 - accuracy: 0.9828 - val_loss: 6.8989 - val_accuracy: 0.2414\n",
      "Epoch 37/50\n",
      "1/1 [==============================] - 0s 48ms/step - loss: 0.0685 - accuracy: 0.9741 - val_loss: 6.9632 - val_accuracy: 0.2414\n",
      "Epoch 38/50\n",
      "1/1 [==============================] - 0s 54ms/step - loss: 0.0836 - accuracy: 0.9741 - val_loss: 6.9650 - val_accuracy: 0.2414\n",
      "Epoch 39/50\n",
      "1/1 [==============================] - 0s 56ms/step - loss: 0.0605 - accuracy: 0.9828 - val_loss: 6.9176 - val_accuracy: 0.3103\n",
      "Epoch 40/50\n",
      "1/1 [==============================] - 0s 56ms/step - loss: 0.1466 - accuracy: 0.9655 - val_loss: 6.8498 - val_accuracy: 0.2759\n",
      "Epoch 41/50\n",
      "1/1 [==============================] - 0s 57ms/step - loss: 0.0332 - accuracy: 0.9914 - val_loss: 6.7494 - val_accuracy: 0.2759\n",
      "Epoch 42/50\n",
      "1/1 [==============================] - 0s 54ms/step - loss: 0.1428 - accuracy: 0.9483 - val_loss: 6.6874 - val_accuracy: 0.2759\n",
      "Epoch 43/50\n",
      "1/1 [==============================] - 0s 53ms/step - loss: 0.0657 - accuracy: 0.9655 - val_loss: 6.6756 - val_accuracy: 0.3103\n",
      "Epoch 44/50\n",
      "1/1 [==============================] - 0s 43ms/step - loss: 0.0315 - accuracy: 0.9914 - val_loss: 6.6779 - val_accuracy: 0.3103\n",
      "Epoch 45/50\n",
      "1/1 [==============================] - 0s 46ms/step - loss: 0.0744 - accuracy: 0.9741 - val_loss: 6.6830 - val_accuracy: 0.3103\n",
      "Epoch 46/50\n",
      "1/1 [==============================] - 0s 46ms/step - loss: 0.0536 - accuracy: 0.9741 - val_loss: 6.7091 - val_accuracy: 0.3103\n",
      "Epoch 47/50\n",
      "1/1 [==============================] - 0s 61ms/step - loss: 0.1488 - accuracy: 0.9569 - val_loss: 6.6828 - val_accuracy: 0.3103\n",
      "Epoch 48/50\n",
      "1/1 [==============================] - 0s 59ms/step - loss: 0.0964 - accuracy: 0.9741 - val_loss: 6.6688 - val_accuracy: 0.2759\n",
      "Epoch 49/50\n",
      "1/1 [==============================] - 0s 54ms/step - loss: 0.0369 - accuracy: 1.0000 - val_loss: 6.6844 - val_accuracy: 0.2759\n",
      "Epoch 50/50\n",
      "1/1 [==============================] - 0s 332ms/step - loss: 0.0915 - accuracy: 0.9741 - val_loss: 6.6736 - val_accuracy: 0.2759\n"
     ]
    }
   ],
   "source": [
    "history = model.fit(X_train, y_train,\n",
    "                    batch_size=128, epochs=50,\n",
    "                    validation_data=(X_test,y_test) )"
   ]
  },
  {
   "cell_type": "markdown",
   "id": "abe0edd0",
   "metadata": {},
   "source": [
    "## Evaluación"
   ]
  },
  {
   "cell_type": "code",
   "execution_count": 185,
   "id": "2cd76fe9",
   "metadata": {},
   "outputs": [],
   "source": [
    "from sklearn.metrics import accuracy_score\n",
    "from sklearn.metrics import r2_score"
   ]
  },
  {
   "cell_type": "code",
   "execution_count": 169,
   "id": "998e837d",
   "metadata": {},
   "outputs": [
    {
     "name": "stdout",
     "output_type": "stream",
     "text": [
      "1/1 [==============================] - 0s 80ms/step\n"
     ]
    }
   ],
   "source": [
    "y_pred = model.predict(X_test)"
   ]
  },
  {
   "cell_type": "code",
   "execution_count": 170,
   "id": "c42c0a74",
   "metadata": {},
   "outputs": [],
   "source": [
    "\n",
    "\n",
    "X_test1 = np.argmax(X_test, axis=1)\n"
   ]
  },
  {
   "cell_type": "code",
   "execution_count": 171,
   "id": "2e1f31fc",
   "metadata": {
    "scrolled": true
   },
   "outputs": [
    {
     "data": {
      "text/plain": [
       "array([22, 23,  8,  8, 19,  3, 16, 27, 23, 11,  3, 17, 20,  0,  8, 15,  7,\n",
       "        0, 22,  7, 19,  8, 11,  7,  8, 19, 14, 22,  2], dtype=int64)"
      ]
     },
     "execution_count": 171,
     "metadata": {},
     "output_type": "execute_result"
    }
   ],
   "source": [
    "X_test1"
   ]
  },
  {
   "cell_type": "code",
   "execution_count": null,
   "id": "9fd9ae67",
   "metadata": {},
   "outputs": [],
   "source": []
  },
  {
   "cell_type": "code",
   "execution_count": 172,
   "id": "8d616a31",
   "metadata": {},
   "outputs": [
    {
     "data": {
      "text/plain": [
       "array([[1.8437224e-04, 6.1424637e-01, 7.8617745e-08, 6.9360406e-04,\n",
       "        3.8136697e-01, 2.6092713e-03, 2.1069629e-06, 8.9717185e-04],\n",
       "       [6.4856827e-02, 3.9157467e-03, 9.2515510e-01, 3.2074337e-03,\n",
       "        6.4039558e-11, 2.4973149e-03, 3.2241203e-04, 4.5165059e-05],\n",
       "       [5.9250468e-01, 4.1839159e-03, 2.7022657e-01, 1.2107832e-02,\n",
       "        2.4512406e-07, 2.5196890e-05, 1.9183541e-07, 1.2095143e-01],\n",
       "       [5.6908017e-01, 4.0647390e-01, 1.5972359e-05, 2.2745177e-02,\n",
       "        6.5460599e-06, 1.6671381e-03, 1.7601776e-07, 1.0922045e-05],\n",
       "       [1.7738876e-04, 4.9040416e-05, 8.6334685e-06, 9.9931371e-01,\n",
       "        3.5539853e-09, 4.4827384e-04, 3.0209580e-07, 2.6569949e-06]],\n",
       "      dtype=float32)"
      ]
     },
     "execution_count": 172,
     "metadata": {},
     "output_type": "execute_result"
    }
   ],
   "source": [
    "y_pred[:5]"
   ]
  },
  {
   "cell_type": "code",
   "execution_count": 173,
   "id": "74291d5a",
   "metadata": {},
   "outputs": [
    {
     "data": {
      "text/plain": [
       "array([[0., 0., 0., 1., 0., 0., 0., 0.],\n",
       "       [0., 1., 0., 0., 0., 0., 0., 0.],\n",
       "       [0., 0., 0., 0., 0., 1., 0., 0.],\n",
       "       [0., 0., 0., 0., 0., 0., 0., 1.],\n",
       "       [0., 0., 0., 1., 0., 0., 0., 0.]])"
      ]
     },
     "execution_count": 173,
     "metadata": {},
     "output_type": "execute_result"
    }
   ],
   "source": [
    "y_train[:5]"
   ]
  },
  {
   "cell_type": "code",
   "execution_count": 174,
   "id": "a54c1df2",
   "metadata": {},
   "outputs": [
    {
     "data": {
      "text/plain": [
       "array([[0., 0., 1., 0., 0., 0., 0., 0.],\n",
       "       [0., 0., 0., 0., 1., 0., 0., 0.],\n",
       "       [0., 1., 0., 0., 0., 0., 0., 0.],\n",
       "       [0., 0., 1., 0., 0., 0., 0., 0.],\n",
       "       [0., 1., 0., 0., 0., 0., 0., 0.]])"
      ]
     },
     "execution_count": 174,
     "metadata": {},
     "output_type": "execute_result"
    }
   ],
   "source": [
    "y_test[:5]"
   ]
  },
  {
   "cell_type": "code",
   "execution_count": 175,
   "id": "408283a9",
   "metadata": {},
   "outputs": [],
   "source": [
    "y_pred_clase = np.argmax(y_pred, axis=1)\n",
    "y_test_clase = np.argmax(y_test, axis=1)"
   ]
  },
  {
   "cell_type": "code",
   "execution_count": 176,
   "id": "53e1bd3f",
   "metadata": {},
   "outputs": [
    {
     "data": {
      "text/plain": [
       "array([1, 2, 0, 0, 3, 3, 0, 7, 5, 6, 2, 7, 0, 1, 0, 1, 2, 2, 3, 1, 2, 2,\n",
       "       7, 2, 0, 7, 5, 7, 5], dtype=int64)"
      ]
     },
     "execution_count": 176,
     "metadata": {},
     "output_type": "execute_result"
    }
   ],
   "source": [
    "y_pred_clase"
   ]
  },
  {
   "cell_type": "code",
   "execution_count": 177,
   "id": "68737b02",
   "metadata": {},
   "outputs": [
    {
     "data": {
      "text/plain": [
       "array([2, 4, 1, 2, 1, 2, 3, 7, 6, 7, 4, 1, 1, 1, 1, 1, 2, 2, 7, 1, 2, 1,\n",
       "       6, 0, 1, 7, 7, 0, 1], dtype=int64)"
      ]
     },
     "execution_count": 177,
     "metadata": {},
     "output_type": "execute_result"
    }
   ],
   "source": [
    "y_test_clase"
   ]
  },
  {
   "cell_type": "code",
   "execution_count": 178,
   "id": "467d256f",
   "metadata": {},
   "outputs": [
    {
     "data": {
      "text/plain": [
       "0.27586206896551724"
      ]
     },
     "execution_count": 178,
     "metadata": {},
     "output_type": "execute_result"
    }
   ],
   "source": [
    "accuracy_score(y_pred_clase, y_test_clase)"
   ]
  },
  {
   "cell_type": "code",
   "execution_count": 179,
   "id": "a27cee57",
   "metadata": {},
   "outputs": [
    {
     "name": "stdout",
     "output_type": "stream",
     "text": [
      "5/5 [==============================] - 0s 3ms/step\n"
     ]
    }
   ],
   "source": [
    "y_pred_real = model.predict(X)"
   ]
  },
  {
   "cell_type": "code",
   "execution_count": 181,
   "id": "1649dc98",
   "metadata": {},
   "outputs": [],
   "source": [
    "y_pred_real=np.argmax(y_pred_real, axis=1)"
   ]
  },
  {
   "cell_type": "code",
   "execution_count": 183,
   "id": "2acd2358",
   "metadata": {},
   "outputs": [
    {
     "data": {
      "text/plain": [
       "0.23448275862068965"
      ]
     },
     "execution_count": 183,
     "metadata": {},
     "output_type": "execute_result"
    }
   ],
   "source": [
    "accuracy_score(y, y_pred_real)"
   ]
  },
  {
   "cell_type": "markdown",
   "id": "441af2eb",
   "metadata": {},
   "source": [
    "## Evolución del entrenamiento"
   ]
  },
  {
   "cell_type": "code",
   "execution_count": 125,
   "id": "562b43e6",
   "metadata": {},
   "outputs": [
    {
     "data": {
      "image/png": "[encoded data removed]",
      "text/plain": [
       "<Figure size 640x480 with 2 Axes>"
      ]
     },
     "metadata": {},
     "output_type": "display_data"
    }
   ],
   "source": [
    "plt.subplot(2,1,1)\n",
    "plt.title('Train Set - Loss')\n",
    "plt.plot(history.history['loss'])\n",
    "plt.subplot(2,1,2)\n",
    "plt.title('Train Set - Accuracy')\n",
    "plt.plot(history.history['accuracy'])\n",
    "plt.tight_layout()"
   ]
  },
  {
   "cell_type": "code",
   "execution_count": null,
   "id": "c3ab1f63",
   "metadata": {},
   "outputs": [],
   "source": []
  }
 ],
 "metadata": {
  "kernelspec": {
   "display_name": "Python 3 (ipykernel)",
   "language": "python",
   "name": "python3"
  },
  "language_info": {
   "codemirror_mode": {
    "name": "ipython",
    "version": 3
   },
   "file_extension": ".py",
   "mimetype": "text/x-python",
   "name": "python",
   "nbconvert_exporter": "python",
   "pygments_lexer": "ipython3",
   "version": "3.10.9"
  }
 },
 "nbformat": 4,
 "nbformat_minor": 5
}
